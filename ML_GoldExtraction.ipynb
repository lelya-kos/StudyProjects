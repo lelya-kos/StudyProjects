{
  "cells": [
    {
      "cell_type": "markdown",
      "metadata": {
        "toc": true,
        "id": "Mtoby8gqHt44"
      },
      "source": [
        "<h1>Содержание<span class=\"tocSkip\"></span></h1>\n",
        "<div class=\"toc\"><ul class=\"toc-item\"><li><span><a href=\"#Подготовка-данных\" data-toc-modified-id=\"Подготовка-данных-1\"><span class=\"toc-item-num\">1&nbsp;&nbsp;</span>Подготовка данных</a></span><ul class=\"toc-item\"><li><span><a href=\"#Откройте-файлы-и-изучите-их.\" data-toc-modified-id=\"Откройте-файлы-и-изучите-их.-1.1\"><span class=\"toc-item-num\">1.1&nbsp;&nbsp;</span>Откройте файлы и изучите их.</a></span></li><li><span><a href=\"#Проверка-рассчета-эффективности-обогащения\" data-toc-modified-id=\"Проверка-рассчета-эффективности-обогащения-1.2\"><span class=\"toc-item-num\">1.2&nbsp;&nbsp;</span>Проверка рассчета эффективности обогащения</a></span></li><li><span><a href=\"#Признаки,-недоступные-в-тестовой-выборке\" data-toc-modified-id=\"Признаки,-недоступные-в-тестовой-выборке-1.3\"><span class=\"toc-item-num\">1.3&nbsp;&nbsp;</span>Признаки, недоступные в тестовой выборке</a></span></li><li><span><a href=\"#Предобработка-данных\" data-toc-modified-id=\"Предобработка-данных-1.4\"><span class=\"toc-item-num\">1.4&nbsp;&nbsp;</span>Предобработка данных</a></span></li><li><span><a href=\"#Промежуточные-выводы\" data-toc-modified-id=\"Промежуточные-выводы-1.5\"><span class=\"toc-item-num\">1.5&nbsp;&nbsp;</span>Промежуточные выводы</a></span></li></ul></li><li><span><a href=\"#Анализ-данных\" data-toc-modified-id=\"Анализ-данных-2\"><span class=\"toc-item-num\">2&nbsp;&nbsp;</span>Анализ данных</a></span><ul class=\"toc-item\"><li><span><a href=\"#Изменение-концентрации-металлов-(Au,-Ag,-Pb)-на-этапах-очистки\" data-toc-modified-id=\"Изменение-концентрации-металлов-(Au,-Ag,-Pb)-на-этапах-очистки-2.1\"><span class=\"toc-item-num\">2.1&nbsp;&nbsp;</span>Изменение концентрации металлов (Au, Ag, Pb) на этапах очистки</a></span></li><li><span><a href=\"#Сравнение-распределений-размеров-гранул-сырья\" data-toc-modified-id=\"Сравнение-распределений-размеров-гранул-сырья-2.2\"><span class=\"toc-item-num\">2.2&nbsp;&nbsp;</span>Сравнение распределений размеров гранул сырья</a></span></li><li><span><a href=\"#Анализ-суммарной-концентрации-веществ-на-различных-стадиях-обогащения\" data-toc-modified-id=\"Анализ-суммарной-концентрации-веществ-на-различных-стадиях-обогащения-2.3\"><span class=\"toc-item-num\">2.3&nbsp;&nbsp;</span>Анализ суммарной концентрации веществ на различных стадиях обогащения</a></span></li><li><span><a href=\"#Подготовка-данных-к-обучению\" data-toc-modified-id=\"Подготовка-данных-к-обучению-2.4\"><span class=\"toc-item-num\">2.4&nbsp;&nbsp;</span>Подготовка данных к обучению</a></span></li><li><span><a href=\"#Промежуточные-выводы\" data-toc-modified-id=\"Промежуточные-выводы-2.5\"><span class=\"toc-item-num\">2.5&nbsp;&nbsp;</span>Промежуточные выводы</a></span></li></ul></li><li><span><a href=\"#Модель\" data-toc-modified-id=\"Модель-3\"><span class=\"toc-item-num\">3&nbsp;&nbsp;</span>Модель</a></span><ul class=\"toc-item\"><li><span><a href=\"#Функция-для-вычисления-итоговой-sMAPE.\" data-toc-modified-id=\"Функция-для-вычисления-итоговой-sMAPE.-3.1\"><span class=\"toc-item-num\">3.1&nbsp;&nbsp;</span>Функция для вычисления итоговой sMAPE.</a></span></li><li><span><a href=\"#Обучение-моделей-и-оценка-их-качества\" data-toc-modified-id=\"Обучение-моделей-и-оценка-их-качества-3.2\"><span class=\"toc-item-num\">3.2&nbsp;&nbsp;</span>Обучение моделей и оценка их качества</a></span><ul class=\"toc-item\"><li><span><a href=\"#Модель-линейной-регрессии\" data-toc-modified-id=\"Модель-линейной-регрессии-3.2.1\"><span class=\"toc-item-num\">3.2.1&nbsp;&nbsp;</span>Модель линейной регрессии</a></span></li><li><span><a href=\"#Модель-дерево-решений\" data-toc-modified-id=\"Модель-дерево-решений-3.2.2\"><span class=\"toc-item-num\">3.2.2&nbsp;&nbsp;</span>Модель дерево решений</a></span></li><li><span><a href=\"#Модель-случайного-леса\" data-toc-modified-id=\"Модель-случайного-леса-3.2.3\"><span class=\"toc-item-num\">3.2.3&nbsp;&nbsp;</span>Модель случайного леса</a></span></li><li><span><a href=\"#Модель-dummy-(простейшая)\" data-toc-modified-id=\"Модель-dummy-(простейшая)-3.2.4\"><span class=\"toc-item-num\">3.2.4&nbsp;&nbsp;</span>Модель dummy (простейшая)</a></span></li></ul></li><li><span><a href=\"#Проверка-лучшей-модели-на-тестовой-выборке\" data-toc-modified-id=\"Проверка-лучшей-модели-на-тестовой-выборке-3.3\"><span class=\"toc-item-num\">3.3&nbsp;&nbsp;</span>Проверка лучшей модели на тестовой выборке</a></span></li><li><span><a href=\"#Промежуточные-выводы\" data-toc-modified-id=\"Промежуточные-выводы-3.4\"><span class=\"toc-item-num\">3.4&nbsp;&nbsp;</span>Промежуточные выводы</a></span></li></ul></li><li><span><a href=\"#Выводы\" data-toc-modified-id=\"Выводы-4\"><span class=\"toc-item-num\">4&nbsp;&nbsp;</span>Выводы</a></span></li><li><span><a href=\"#Чек-лист-готовности-проекта\" data-toc-modified-id=\"Чек-лист-готовности-проекта-5\"><span class=\"toc-item-num\">5&nbsp;&nbsp;</span>Чек-лист готовности проекта</a></span></li></ul></div>"
      ]
    },
    {
      "cell_type": "markdown",
      "metadata": {
        "id": "2PgkPNETHt45"
      },
      "source": [
        "# Восстановление золота из руды"
      ]
    },
    {
      "cell_type": "markdown",
      "metadata": {
        "id": "9aErws2VHt46"
      },
      "source": [
        "Подготовьте прототип модели машинного обучения для «Цифры». Компания разрабатывает решения для эффективной работы промышленных предприятий.\n",
        "\n",
        "Модель должна предсказать коэффициент восстановления золота из золотосодержащей руды. Используйте данные с параметрами добычи и очистки.\n",
        "\n",
        "Модель поможет оптимизировать производство, чтобы не запускать предприятие с убыточными характеристиками.\n",
        "\n",
        "Вам нужно:\n",
        "\n",
        "1. Подготовить данные;\n",
        "2. Провести исследовательский анализ данных;\n",
        "3. Построить и обучить модель.\n",
        "\n",
        "Чтобы выполнить проект, обращайтесь к библиотекам *pandas*, *matplotlib* и *sklearn.* Вам поможет их документация."
      ]
    },
    {
      "cell_type": "markdown",
      "metadata": {
        "id": "sB0s80sYHt46"
      },
      "source": [
        "## Подготовка данных"
      ]
    },
    {
      "cell_type": "markdown",
      "metadata": {
        "id": "LwNLSAmXHt47"
      },
      "source": [
        "### Откройте файлы и изучите их."
      ]
    },
    {
      "cell_type": "code",
      "execution_count": null,
      "metadata": {
        "scrolled": true,
        "id": "R57GMgihHt47",
        "outputId": "ff2f7e16-05ed-4fb9-b02a-bdb168fe8bfa"
      },
      "outputs": [
        {
          "name": "stdout",
          "output_type": "stream",
          "text": [
            "Collecting jupyter-black\n",
            "  Downloading jupyter_black-0.4.0-py3-none-any.whl (7.6 kB)\n",
            "Collecting black[jupyter]>=21\n",
            "  Downloading black-24.10.0-cp39-cp39-manylinux_2_17_x86_64.manylinux2014_x86_64.manylinux_2_28_x86_64.whl (1.8 MB)\n",
            "\u001b[K     |████████████████████████████████| 1.8 MB 2.5 MB/s eta 0:00:01\n",
            "\u001b[?25hCollecting packaging>=22.0\n",
            "  Downloading packaging-24.2-py3-none-any.whl (65 kB)\n",
            "\u001b[K     |████████████████████████████████| 65 kB 1.5 MB/s  eta 0:00:01\n",
            "\u001b[?25hCollecting pathspec>=0.9.0\n",
            "  Downloading pathspec-0.12.1-py3-none-any.whl (31 kB)\n",
            "Requirement already satisfied: click>=8.0.0 in /opt/conda/lib/python3.9/site-packages (from black[jupyter]>=21->jupyter-black) (8.1.3)\n",
            "Collecting platformdirs>=2\n",
            "  Downloading platformdirs-4.3.6-py3-none-any.whl (18 kB)\n",
            "Collecting mypy-extensions>=0.4.3\n",
            "  Downloading mypy_extensions-1.0.0-py3-none-any.whl (4.7 kB)\n",
            "Collecting tomli>=1.1.0\n",
            "  Downloading tomli-2.1.0-py3-none-any.whl (13 kB)\n",
            "Requirement already satisfied: typing-extensions>=4.0.1 in /opt/conda/lib/python3.9/site-packages (from black[jupyter]>=21->jupyter-black) (4.3.0)\n",
            "Requirement already satisfied: ipython>=7.8.0 in /opt/conda/lib/python3.9/site-packages (from black[jupyter]>=21->jupyter-black) (7.25.0)\n",
            "Collecting tokenize-rt>=3.2.0\n",
            "  Downloading tokenize_rt-6.1.0-py2.py3-none-any.whl (6.0 kB)\n",
            "Requirement already satisfied: pexpect>4.3 in /opt/conda/lib/python3.9/site-packages (from ipython>=7.8.0->black[jupyter]>=21->jupyter-black) (4.8.0)\n",
            "Requirement already satisfied: setuptools>=18.5 in /opt/conda/lib/python3.9/site-packages (from ipython>=7.8.0->black[jupyter]>=21->jupyter-black) (49.6.0.post20210108)\n",
            "Requirement already satisfied: traitlets>=4.2 in /opt/conda/lib/python3.9/site-packages (from ipython>=7.8.0->black[jupyter]>=21->jupyter-black) (5.0.5)\n",
            "Requirement already satisfied: pygments in /opt/conda/lib/python3.9/site-packages (from ipython>=7.8.0->black[jupyter]>=21->jupyter-black) (2.9.0)\n",
            "Requirement already satisfied: pickleshare in /opt/conda/lib/python3.9/site-packages (from ipython>=7.8.0->black[jupyter]>=21->jupyter-black) (0.7.5)\n",
            "Requirement already satisfied: decorator in /opt/conda/lib/python3.9/site-packages (from ipython>=7.8.0->black[jupyter]>=21->jupyter-black) (5.0.9)\n",
            "Requirement already satisfied: prompt-toolkit!=3.0.0,!=3.0.1,<3.1.0,>=2.0.0 in /opt/conda/lib/python3.9/site-packages (from ipython>=7.8.0->black[jupyter]>=21->jupyter-black) (3.0.19)\n",
            "Requirement already satisfied: matplotlib-inline in /opt/conda/lib/python3.9/site-packages (from ipython>=7.8.0->black[jupyter]>=21->jupyter-black) (0.1.2)\n",
            "Requirement already satisfied: backcall in /opt/conda/lib/python3.9/site-packages (from ipython>=7.8.0->black[jupyter]>=21->jupyter-black) (0.2.0)\n",
            "Requirement already satisfied: jedi>=0.16 in /opt/conda/lib/python3.9/site-packages (from ipython>=7.8.0->black[jupyter]>=21->jupyter-black) (0.18.0)\n",
            "Requirement already satisfied: parso<0.9.0,>=0.8.0 in /opt/conda/lib/python3.9/site-packages (from jedi>=0.16->ipython>=7.8.0->black[jupyter]>=21->jupyter-black) (0.8.2)\n",
            "Requirement already satisfied: ptyprocess>=0.5 in /opt/conda/lib/python3.9/site-packages (from pexpect>4.3->ipython>=7.8.0->black[jupyter]>=21->jupyter-black) (0.7.0)\n",
            "Requirement already satisfied: wcwidth in /opt/conda/lib/python3.9/site-packages (from prompt-toolkit!=3.0.0,!=3.0.1,<3.1.0,>=2.0.0->ipython>=7.8.0->black[jupyter]>=21->jupyter-black) (0.2.5)\n",
            "Requirement already satisfied: ipython-genutils in /opt/conda/lib/python3.9/site-packages (from traitlets>=4.2->ipython>=7.8.0->black[jupyter]>=21->jupyter-black) (0.2.0)\n",
            "Installing collected packages: tomli, platformdirs, pathspec, packaging, mypy-extensions, tokenize-rt, black, jupyter-black\n",
            "  Attempting uninstall: packaging\n",
            "    Found existing installation: packaging 21.3\n",
            "    Uninstalling packaging-21.3:\n",
            "      Successfully uninstalled packaging-21.3\n",
            "Successfully installed black-24.10.0 jupyter-black-0.4.0 mypy-extensions-1.0.0 packaging-24.2 pathspec-0.12.1 platformdirs-4.3.6 tokenize-rt-6.1.0 tomli-2.1.0\n"
          ]
        }
      ],
      "source": [
        "# В самой первой ячейке добавим код для тех библиотек, которых нет в окружении тренажера\n",
        "!pip install jupyter-black"
      ]
    },
    {
      "cell_type": "code",
      "execution_count": null,
      "metadata": {
        "id": "-yLRm3x5Ht4-"
      },
      "outputs": [],
      "source": [
        "import jupyter_black\n",
        "import pandas as pd\n",
        "import numpy as np\n",
        "import warnings\n",
        "import matplotlib.pyplot as plt\n",
        "import seaborn as sns\n",
        "\n",
        "from sklearn.metrics import mean_absolute_error\n",
        "from sklearn.model_selection import train_test_split\n",
        "\n",
        "from sklearn.linear_model import LinearRegression\n",
        "from sklearn.tree import DecisionTreeRegressor\n",
        "from sklearn.ensemble import RandomForestRegressor\n",
        "from sklearn.dummy import DummyRegressor"
      ]
    },
    {
      "cell_type": "code",
      "execution_count": null,
      "metadata": {
        "id": "kSCVsnJLHt4-"
      },
      "outputs": [],
      "source": [
        "import os\n",
        "\n",
        "# Загрузка автоформатера\n",
        "jupyter_black.load()\n",
        "\n",
        "# Скроем лишние предупреждения\n",
        "warnings.filterwarnings(\"ignore\")\n",
        "\n",
        "# Настройки Pandas для вывода всех столбцов и строк\n",
        "pd.set_option(\"display.max_columns\", None)\n",
        "pd.set_option(\"display.max_rows\", None)"
      ]
    },
    {
      "cell_type": "code",
      "execution_count": null,
      "metadata": {
        "id": "6uBn2qeuHt4_"
      },
      "outputs": [],
      "source": [
        "# Определяем пути к файлам\n",
        "train_path = \"/datasets/gold_recovery_train_new.csv\"\n",
        "test_path = \"/datasets/gold_recovery_test_new.csv\"\n",
        "full_path = \"/datasets/gold_recovery_full_new.csv\"\n",
        "\n",
        "# Проверяем наличие файлов и загружаем данные\n",
        "if os.path.exists(train_path):\n",
        "    df_train = pd.read_csv(train_path)  # обучающая выборка\n",
        "else:\n",
        "    print(f\"Файл {train_path} не найден\")\n",
        "\n",
        "if os.path.exists(test_path):\n",
        "    df_test = pd.read_csv(test_path)  # тестовая выборка\n",
        "else:\n",
        "    print(f\"Файл {test_path} не найден\")\n",
        "\n",
        "if os.path.exists(full_path):\n",
        "    df_full = pd.read_csv(full_path)  # исходные данные\n",
        "else:\n",
        "    print(f\"Файл {full_path} не найден\")"
      ]
    },
    {
      "cell_type": "code",
      "execution_count": null,
      "metadata": {
        "id": "me2sVrcnHt4_"
      },
      "outputs": [],
      "source": [
        "# объявляем константы в соответствии с PEP-8\n",
        "RANDOM_STATE = 42\n"
      ]
    },
    {
      "cell_type": "code",
      "execution_count": null,
      "metadata": {
        "id": "WMo9TwMNHt5A"
      },
      "outputs": [],
      "source": [
        "# Откроем файлы с данными\n",
        "df_train = pd.read_csv(\"/datasets/gold_recovery_train_new.csv\")  # обучающая выборка\n",
        "df_test = pd.read_csv(\"/datasets/gold_recovery_test_new.csv\")  # тестовая выборка\n",
        "df_full = pd.read_csv(\"/datasets/gold_recovery_full_new.csv\")  # исходные данные"
      ]
    },
    {
      "cell_type": "code",
      "execution_count": null,
      "metadata": {
        "scrolled": true,
        "id": "5AD_rbMTHt5A",
        "outputId": "e80b5718-ffbf-43d2-c2cf-30dcfd997a23"
      },
      "outputs": [
        {
          "name": "stdout",
          "output_type": "stream",
          "text": [
            "Тренировочная выборка\n",
            "<class 'pandas.core.frame.DataFrame'>\n",
            "RangeIndex: 14149 entries, 0 to 14148\n",
            "Data columns (total 87 columns):\n",
            " #   Column                                              Non-Null Count  Dtype  \n",
            "---  ------                                              --------------  -----  \n",
            " 0   date                                                14149 non-null  object \n",
            " 1   final.output.concentrate_ag                         14148 non-null  float64\n",
            " 2   final.output.concentrate_pb                         14148 non-null  float64\n",
            " 3   final.output.concentrate_sol                        13938 non-null  float64\n",
            " 4   final.output.concentrate_au                         14149 non-null  float64\n",
            " 5   final.output.recovery                               14149 non-null  float64\n",
            " 6   final.output.tail_ag                                14149 non-null  float64\n",
            " 7   final.output.tail_pb                                14049 non-null  float64\n",
            " 8   final.output.tail_sol                               14144 non-null  float64\n",
            " 9   final.output.tail_au                                14149 non-null  float64\n",
            " 10  primary_cleaner.input.sulfate                       14129 non-null  float64\n",
            " 11  primary_cleaner.input.depressant                    14117 non-null  float64\n",
            " 12  primary_cleaner.input.feed_size                     14149 non-null  float64\n",
            " 13  primary_cleaner.input.xanthate                      14049 non-null  float64\n",
            " 14  primary_cleaner.output.concentrate_ag               14149 non-null  float64\n",
            " 15  primary_cleaner.output.concentrate_pb               14063 non-null  float64\n",
            " 16  primary_cleaner.output.concentrate_sol              13863 non-null  float64\n",
            " 17  primary_cleaner.output.concentrate_au               14149 non-null  float64\n",
            " 18  primary_cleaner.output.tail_ag                      14148 non-null  float64\n",
            " 19  primary_cleaner.output.tail_pb                      14134 non-null  float64\n",
            " 20  primary_cleaner.output.tail_sol                     14103 non-null  float64\n",
            " 21  primary_cleaner.output.tail_au                      14149 non-null  float64\n",
            " 22  primary_cleaner.state.floatbank8_a_air              14145 non-null  float64\n",
            " 23  primary_cleaner.state.floatbank8_a_level            14148 non-null  float64\n",
            " 24  primary_cleaner.state.floatbank8_b_air              14145 non-null  float64\n",
            " 25  primary_cleaner.state.floatbank8_b_level            14148 non-null  float64\n",
            " 26  primary_cleaner.state.floatbank8_c_air              14147 non-null  float64\n",
            " 27  primary_cleaner.state.floatbank8_c_level            14148 non-null  float64\n",
            " 28  primary_cleaner.state.floatbank8_d_air              14146 non-null  float64\n",
            " 29  primary_cleaner.state.floatbank8_d_level            14148 non-null  float64\n",
            " 30  rougher.calculation.sulfate_to_au_concentrate       14148 non-null  float64\n",
            " 31  rougher.calculation.floatbank10_sulfate_to_au_feed  14148 non-null  float64\n",
            " 32  rougher.calculation.floatbank11_sulfate_to_au_feed  14148 non-null  float64\n",
            " 33  rougher.calculation.au_pb_ratio                     14149 non-null  float64\n",
            " 34  rougher.input.feed_ag                               14149 non-null  float64\n",
            " 35  rougher.input.feed_pb                               14049 non-null  float64\n",
            " 36  rougher.input.feed_rate                             14141 non-null  float64\n",
            " 37  rougher.input.feed_size                             14005 non-null  float64\n",
            " 38  rougher.input.feed_sol                              14071 non-null  float64\n",
            " 39  rougher.input.feed_au                               14149 non-null  float64\n",
            " 40  rougher.input.floatbank10_sulfate                   14120 non-null  float64\n",
            " 41  rougher.input.floatbank10_xanthate                  14141 non-null  float64\n",
            " 42  rougher.input.floatbank11_sulfate                   14113 non-null  float64\n",
            " 43  rougher.input.floatbank11_xanthate                  13721 non-null  float64\n",
            " 44  rougher.output.concentrate_ag                       14149 non-null  float64\n",
            " 45  rougher.output.concentrate_pb                       14149 non-null  float64\n",
            " 46  rougher.output.concentrate_sol                      14127 non-null  float64\n",
            " 47  rougher.output.concentrate_au                       14149 non-null  float64\n",
            " 48  rougher.output.recovery                             14149 non-null  float64\n",
            " 49  rougher.output.tail_ag                              14148 non-null  float64\n",
            " 50  rougher.output.tail_pb                              14149 non-null  float64\n",
            " 51  rougher.output.tail_sol                             14149 non-null  float64\n",
            " 52  rougher.output.tail_au                              14149 non-null  float64\n",
            " 53  rougher.state.floatbank10_a_air                     14148 non-null  float64\n",
            " 54  rougher.state.floatbank10_a_level                   14148 non-null  float64\n",
            " 55  rougher.state.floatbank10_b_air                     14148 non-null  float64\n",
            " 56  rougher.state.floatbank10_b_level                   14148 non-null  float64\n",
            " 57  rougher.state.floatbank10_c_air                     14148 non-null  float64\n",
            " 58  rougher.state.floatbank10_c_level                   14148 non-null  float64\n",
            " 59  rougher.state.floatbank10_d_air                     14149 non-null  float64\n",
            " 60  rougher.state.floatbank10_d_level                   14149 non-null  float64\n",
            " 61  rougher.state.floatbank10_e_air                     13713 non-null  float64\n",
            " 62  rougher.state.floatbank10_e_level                   14149 non-null  float64\n",
            " 63  rougher.state.floatbank10_f_air                     14149 non-null  float64\n",
            " 64  rougher.state.floatbank10_f_level                   14149 non-null  float64\n",
            " 65  secondary_cleaner.output.tail_ag                    14147 non-null  float64\n",
            " 66  secondary_cleaner.output.tail_pb                    14139 non-null  float64\n",
            " 67  secondary_cleaner.output.tail_sol                   12544 non-null  float64\n",
            " 68  secondary_cleaner.output.tail_au                    14149 non-null  float64\n",
            " 69  secondary_cleaner.state.floatbank2_a_air            13932 non-null  float64\n",
            " 70  secondary_cleaner.state.floatbank2_a_level          14148 non-null  float64\n",
            " 71  secondary_cleaner.state.floatbank2_b_air            14128 non-null  float64\n",
            " 72  secondary_cleaner.state.floatbank2_b_level          14148 non-null  float64\n",
            " 73  secondary_cleaner.state.floatbank3_a_air            14145 non-null  float64\n",
            " 74  secondary_cleaner.state.floatbank3_a_level          14148 non-null  float64\n",
            " 75  secondary_cleaner.state.floatbank3_b_air            14148 non-null  float64\n",
            " 76  secondary_cleaner.state.floatbank3_b_level          14148 non-null  float64\n",
            " 77  secondary_cleaner.state.floatbank4_a_air            14143 non-null  float64\n",
            " 78  secondary_cleaner.state.floatbank4_a_level          14148 non-null  float64\n",
            " 79  secondary_cleaner.state.floatbank4_b_air            14148 non-null  float64\n",
            " 80  secondary_cleaner.state.floatbank4_b_level          14148 non-null  float64\n",
            " 81  secondary_cleaner.state.floatbank5_a_air            14148 non-null  float64\n",
            " 82  secondary_cleaner.state.floatbank5_a_level          14148 non-null  float64\n",
            " 83  secondary_cleaner.state.floatbank5_b_air            14148 non-null  float64\n",
            " 84  secondary_cleaner.state.floatbank5_b_level          14148 non-null  float64\n",
            " 85  secondary_cleaner.state.floatbank6_a_air            14147 non-null  float64\n",
            " 86  secondary_cleaner.state.floatbank6_a_level          14148 non-null  float64\n",
            "dtypes: float64(86), object(1)\n",
            "memory usage: 9.4+ MB\n",
            "\n",
            "Тестовая выборка\n",
            "<class 'pandas.core.frame.DataFrame'>\n",
            "RangeIndex: 5290 entries, 0 to 5289\n",
            "Data columns (total 53 columns):\n",
            " #   Column                                      Non-Null Count  Dtype  \n",
            "---  ------                                      --------------  -----  \n",
            " 0   date                                        5290 non-null   object \n",
            " 1   primary_cleaner.input.sulfate               5286 non-null   float64\n",
            " 2   primary_cleaner.input.depressant            5285 non-null   float64\n",
            " 3   primary_cleaner.input.feed_size             5290 non-null   float64\n",
            " 4   primary_cleaner.input.xanthate              5286 non-null   float64\n",
            " 5   primary_cleaner.state.floatbank8_a_air      5290 non-null   float64\n",
            " 6   primary_cleaner.state.floatbank8_a_level    5290 non-null   float64\n",
            " 7   primary_cleaner.state.floatbank8_b_air      5290 non-null   float64\n",
            " 8   primary_cleaner.state.floatbank8_b_level    5290 non-null   float64\n",
            " 9   primary_cleaner.state.floatbank8_c_air      5290 non-null   float64\n",
            " 10  primary_cleaner.state.floatbank8_c_level    5290 non-null   float64\n",
            " 11  primary_cleaner.state.floatbank8_d_air      5290 non-null   float64\n",
            " 12  primary_cleaner.state.floatbank8_d_level    5290 non-null   float64\n",
            " 13  rougher.input.feed_ag                       5290 non-null   float64\n",
            " 14  rougher.input.feed_pb                       5290 non-null   float64\n",
            " 15  rougher.input.feed_rate                     5287 non-null   float64\n",
            " 16  rougher.input.feed_size                     5289 non-null   float64\n",
            " 17  rougher.input.feed_sol                      5269 non-null   float64\n",
            " 18  rougher.input.feed_au                       5290 non-null   float64\n",
            " 19  rougher.input.floatbank10_sulfate           5285 non-null   float64\n",
            " 20  rougher.input.floatbank10_xanthate          5290 non-null   float64\n",
            " 21  rougher.input.floatbank11_sulfate           5282 non-null   float64\n",
            " 22  rougher.input.floatbank11_xanthate          5265 non-null   float64\n",
            " 23  rougher.state.floatbank10_a_air             5290 non-null   float64\n",
            " 24  rougher.state.floatbank10_a_level           5290 non-null   float64\n",
            " 25  rougher.state.floatbank10_b_air             5290 non-null   float64\n",
            " 26  rougher.state.floatbank10_b_level           5290 non-null   float64\n",
            " 27  rougher.state.floatbank10_c_air             5290 non-null   float64\n",
            " 28  rougher.state.floatbank10_c_level           5290 non-null   float64\n",
            " 29  rougher.state.floatbank10_d_air             5290 non-null   float64\n",
            " 30  rougher.state.floatbank10_d_level           5290 non-null   float64\n",
            " 31  rougher.state.floatbank10_e_air             5290 non-null   float64\n",
            " 32  rougher.state.floatbank10_e_level           5290 non-null   float64\n",
            " 33  rougher.state.floatbank10_f_air             5290 non-null   float64\n",
            " 34  rougher.state.floatbank10_f_level           5290 non-null   float64\n",
            " 35  secondary_cleaner.state.floatbank2_a_air    5287 non-null   float64\n",
            " 36  secondary_cleaner.state.floatbank2_a_level  5290 non-null   float64\n",
            " 37  secondary_cleaner.state.floatbank2_b_air    5288 non-null   float64\n",
            " 38  secondary_cleaner.state.floatbank2_b_level  5290 non-null   float64\n",
            " 39  secondary_cleaner.state.floatbank3_a_air    5281 non-null   float64\n",
            " 40  secondary_cleaner.state.floatbank3_a_level  5290 non-null   float64\n",
            " 41  secondary_cleaner.state.floatbank3_b_air    5290 non-null   float64\n",
            " 42  secondary_cleaner.state.floatbank3_b_level  5290 non-null   float64\n",
            " 43  secondary_cleaner.state.floatbank4_a_air    5290 non-null   float64\n",
            " 44  secondary_cleaner.state.floatbank4_a_level  5290 non-null   float64\n",
            " 45  secondary_cleaner.state.floatbank4_b_air    5290 non-null   float64\n",
            " 46  secondary_cleaner.state.floatbank4_b_level  5290 non-null   float64\n",
            " 47  secondary_cleaner.state.floatbank5_a_air    5290 non-null   float64\n",
            " 48  secondary_cleaner.state.floatbank5_a_level  5290 non-null   float64\n",
            " 49  secondary_cleaner.state.floatbank5_b_air    5290 non-null   float64\n",
            " 50  secondary_cleaner.state.floatbank5_b_level  5290 non-null   float64\n",
            " 51  secondary_cleaner.state.floatbank6_a_air    5290 non-null   float64\n",
            " 52  secondary_cleaner.state.floatbank6_a_level  5290 non-null   float64\n",
            "dtypes: float64(52), object(1)\n",
            "memory usage: 2.1+ MB\n",
            "\n",
            "Исходный датафрейм\n",
            "<class 'pandas.core.frame.DataFrame'>\n",
            "RangeIndex: 19439 entries, 0 to 19438\n",
            "Data columns (total 87 columns):\n",
            " #   Column                                              Non-Null Count  Dtype  \n",
            "---  ------                                              --------------  -----  \n",
            " 0   date                                                19439 non-null  object \n",
            " 1   final.output.concentrate_ag                         19438 non-null  float64\n",
            " 2   final.output.concentrate_pb                         19438 non-null  float64\n",
            " 3   final.output.concentrate_sol                        19228 non-null  float64\n",
            " 4   final.output.concentrate_au                         19439 non-null  float64\n",
            " 5   final.output.recovery                               19439 non-null  float64\n",
            " 6   final.output.tail_ag                                19438 non-null  float64\n",
            " 7   final.output.tail_pb                                19338 non-null  float64\n",
            " 8   final.output.tail_sol                               19433 non-null  float64\n",
            " 9   final.output.tail_au                                19439 non-null  float64\n",
            " 10  primary_cleaner.input.sulfate                       19415 non-null  float64\n",
            " 11  primary_cleaner.input.depressant                    19402 non-null  float64\n",
            " 12  primary_cleaner.input.feed_size                     19439 non-null  float64\n",
            " 13  primary_cleaner.input.xanthate                      19335 non-null  float64\n",
            " 14  primary_cleaner.output.concentrate_ag               19439 non-null  float64\n",
            " 15  primary_cleaner.output.concentrate_pb               19323 non-null  float64\n",
            " 16  primary_cleaner.output.concentrate_sol              19069 non-null  float64\n",
            " 17  primary_cleaner.output.concentrate_au               19439 non-null  float64\n",
            " 18  primary_cleaner.output.tail_ag                      19435 non-null  float64\n",
            " 19  primary_cleaner.output.tail_pb                      19418 non-null  float64\n",
            " 20  primary_cleaner.output.tail_sol                     19377 non-null  float64\n",
            " 21  primary_cleaner.output.tail_au                      19439 non-null  float64\n",
            " 22  primary_cleaner.state.floatbank8_a_air              19435 non-null  float64\n",
            " 23  primary_cleaner.state.floatbank8_a_level            19438 non-null  float64\n",
            " 24  primary_cleaner.state.floatbank8_b_air              19435 non-null  float64\n",
            " 25  primary_cleaner.state.floatbank8_b_level            19438 non-null  float64\n",
            " 26  primary_cleaner.state.floatbank8_c_air              19437 non-null  float64\n",
            " 27  primary_cleaner.state.floatbank8_c_level            19438 non-null  float64\n",
            " 28  primary_cleaner.state.floatbank8_d_air              19436 non-null  float64\n",
            " 29  primary_cleaner.state.floatbank8_d_level            19438 non-null  float64\n",
            " 30  rougher.calculation.sulfate_to_au_concentrate       19437 non-null  float64\n",
            " 31  rougher.calculation.floatbank10_sulfate_to_au_feed  19437 non-null  float64\n",
            " 32  rougher.calculation.floatbank11_sulfate_to_au_feed  19437 non-null  float64\n",
            " 33  rougher.calculation.au_pb_ratio                     19439 non-null  float64\n",
            " 34  rougher.input.feed_ag                               19439 non-null  float64\n",
            " 35  rougher.input.feed_pb                               19339 non-null  float64\n",
            " 36  rougher.input.feed_rate                             19428 non-null  float64\n",
            " 37  rougher.input.feed_size                             19294 non-null  float64\n",
            " 38  rougher.input.feed_sol                              19340 non-null  float64\n",
            " 39  rougher.input.feed_au                               19439 non-null  float64\n",
            " 40  rougher.input.floatbank10_sulfate                   19405 non-null  float64\n",
            " 41  rougher.input.floatbank10_xanthate                  19431 non-null  float64\n",
            " 42  rougher.input.floatbank11_sulfate                   19395 non-null  float64\n",
            " 43  rougher.input.floatbank11_xanthate                  18986 non-null  float64\n",
            " 44  rougher.output.concentrate_ag                       19439 non-null  float64\n",
            " 45  rougher.output.concentrate_pb                       19439 non-null  float64\n",
            " 46  rougher.output.concentrate_sol                      19416 non-null  float64\n",
            " 47  rougher.output.concentrate_au                       19439 non-null  float64\n",
            " 48  rougher.output.recovery                             19439 non-null  float64\n",
            " 49  rougher.output.tail_ag                              19438 non-null  float64\n",
            " 50  rougher.output.tail_pb                              19439 non-null  float64\n",
            " 51  rougher.output.tail_sol                             19439 non-null  float64\n",
            " 52  rougher.output.tail_au                              19439 non-null  float64\n",
            " 53  rougher.state.floatbank10_a_air                     19438 non-null  float64\n",
            " 54  rougher.state.floatbank10_a_level                   19438 non-null  float64\n",
            " 55  rougher.state.floatbank10_b_air                     19438 non-null  float64\n",
            " 56  rougher.state.floatbank10_b_level                   19438 non-null  float64\n",
            " 57  rougher.state.floatbank10_c_air                     19438 non-null  float64\n",
            " 58  rougher.state.floatbank10_c_level                   19438 non-null  float64\n",
            " 59  rougher.state.floatbank10_d_air                     19439 non-null  float64\n",
            " 60  rougher.state.floatbank10_d_level                   19439 non-null  float64\n",
            " 61  rougher.state.floatbank10_e_air                     19003 non-null  float64\n",
            " 62  rougher.state.floatbank10_e_level                   19439 non-null  float64\n",
            " 63  rougher.state.floatbank10_f_air                     19439 non-null  float64\n",
            " 64  rougher.state.floatbank10_f_level                   19439 non-null  float64\n",
            " 65  secondary_cleaner.output.tail_ag                    19437 non-null  float64\n",
            " 66  secondary_cleaner.output.tail_pb                    19427 non-null  float64\n",
            " 67  secondary_cleaner.output.tail_sol                   17691 non-null  float64\n",
            " 68  secondary_cleaner.output.tail_au                    19439 non-null  float64\n",
            " 69  secondary_cleaner.state.floatbank2_a_air            19219 non-null  float64\n",
            " 70  secondary_cleaner.state.floatbank2_a_level          19438 non-null  float64\n",
            " 71  secondary_cleaner.state.floatbank2_b_air            19416 non-null  float64\n",
            " 72  secondary_cleaner.state.floatbank2_b_level          19438 non-null  float64\n",
            " 73  secondary_cleaner.state.floatbank3_a_air            19426 non-null  float64\n",
            " 74  secondary_cleaner.state.floatbank3_a_level          19438 non-null  float64\n",
            " 75  secondary_cleaner.state.floatbank3_b_air            19438 non-null  float64\n",
            " 76  secondary_cleaner.state.floatbank3_b_level          19438 non-null  float64\n",
            " 77  secondary_cleaner.state.floatbank4_a_air            19433 non-null  float64\n",
            " 78  secondary_cleaner.state.floatbank4_a_level          19438 non-null  float64\n",
            " 79  secondary_cleaner.state.floatbank4_b_air            19438 non-null  float64\n",
            " 80  secondary_cleaner.state.floatbank4_b_level          19438 non-null  float64\n",
            " 81  secondary_cleaner.state.floatbank5_a_air            19438 non-null  float64\n",
            " 82  secondary_cleaner.state.floatbank5_a_level          19438 non-null  float64\n",
            " 83  secondary_cleaner.state.floatbank5_b_air            19438 non-null  float64\n",
            " 84  secondary_cleaner.state.floatbank5_b_level          19438 non-null  float64\n",
            " 85  secondary_cleaner.state.floatbank6_a_air            19437 non-null  float64\n",
            " 86  secondary_cleaner.state.floatbank6_a_level          19438 non-null  float64\n",
            "dtypes: float64(86), object(1)\n",
            "memory usage: 12.9+ MB\n"
          ]
        }
      ],
      "source": [
        "# и изучим их\n",
        "print(\"Тренировочная выборка\")\n",
        "df_train.info()\n",
        "print()\n",
        "print(\"Тестовая выборка\")\n",
        "df_test.info()\n",
        "print()\n",
        "print(\"Исходный датафрейм\")\n",
        "df_full.info()"
      ]
    },
    {
      "cell_type": "markdown",
      "metadata": {
        "id": "FMPQ7mDHHt5B"
      },
      "source": [
        "В тренировочной выборке df_train 14149 строк, 87 столбцов. Тип данных float64 (86 столбцов) соответствует значениям, тип object у столбца date (дата).\n",
        "\n",
        "В тестовой выборке df_test 5290 строк, 53 столбца. Тип данных float64 (52 столбца) соответствует значениям, тип object у столбца date (дата).\n",
        "\n",
        "В исходном файле df_full 19439 строк, 87 столбцов. Тип данных float64 (86 столбцов) соответствует значениям, тип object у столбца date (дата).\n",
        "\n",
        "Получается, исходный файл полностью поделен между тренировочной и тестовой выборками.\n",
        "\n",
        "Во всех трех выборках присутствуют пропуски в данных."
      ]
    },
    {
      "cell_type": "markdown",
      "metadata": {
        "id": "L9Gn6j5pHt5C"
      },
      "source": [
        "### Проверка рассчета эффективности обогащения"
      ]
    },
    {
      "cell_type": "markdown",
      "metadata": {
        "id": "vI0Ha1yVHt5C"
      },
      "source": [
        "Проверьте, что эффективность обогащения рассчитана правильно. Вычислите её на обучающей выборке для признака rougher.output.recovery. Найдите MAE между вашими расчётами и значением признака. Опишите выводы."
      ]
    },
    {
      "cell_type": "code",
      "execution_count": null,
      "metadata": {
        "id": "W-Dx1UlbHt5C"
      },
      "outputs": [],
      "source": [
        "# Формула эффективности обогащения Recovery = C×(F−T) / F×(C−T) ×100%\n",
        "\n",
        "# Объявим переменные\n",
        "C = df_train[\"rougher.output.concentrate_au\"]\n",
        "F = df_train[\"rougher.input.feed_au\"]\n",
        "T = df_train[\"rougher.output.tail_au\"]\n",
        "# Вычислим\n",
        "df_train[\"rougher.calculated.recovery\"] = (C * (F - T)) / (F * (C - T)) * 100"
      ]
    },
    {
      "cell_type": "code",
      "execution_count": null,
      "metadata": {
        "id": "-V06W-nxHt5C",
        "outputId": "f7b9da0e-9b86-478e-fc90-77af38b67d29"
      },
      "outputs": [
        {
          "name": "stdout",
          "output_type": "stream",
          "text": [
            "MAE: 0.000000000000009735123474505210\n"
          ]
        }
      ],
      "source": [
        "# Посчитаем MAE (mean absolute error)\n",
        "mae = mean_absolute_error(\n",
        "    df_train[\"rougher.calculated.recovery\"], df_train[\"rougher.output.recovery\"]\n",
        ")\n",
        "\n",
        "print(f\"MAE: {mae:.30f}\")"
      ]
    },
    {
      "cell_type": "markdown",
      "metadata": {
        "id": "pRYnfRdWHt5D"
      },
      "source": [
        "Значение MAE близко к нулю, что указывает на то, что рассчет эффективности обогащения очень близки к фактическим значениям. Это свидетельствует о том, что значения в столбце rougher.output.recovery являются корректными."
      ]
    },
    {
      "cell_type": "markdown",
      "metadata": {
        "id": "i91nhVabHt5D"
      },
      "source": [
        "### Признаки, недоступные в тестовой выборке"
      ]
    },
    {
      "cell_type": "markdown",
      "metadata": {
        "id": "5_W06WRTHt5D"
      },
      "source": [
        "Проанализируйте признаки, недоступные в тестовой выборке. Что это за параметры? К какому типу относятся?"
      ]
    },
    {
      "cell_type": "code",
      "execution_count": null,
      "metadata": {
        "id": "FRJJzZpfHt5D",
        "outputId": "0e983314-0b5b-4d72-d367-0c85a5dbe65e"
      },
      "outputs": [
        {
          "data": {
            "text/plain": [
              "Index(['final.output.concentrate_ag', 'final.output.concentrate_au',\n",
              "       'final.output.concentrate_pb', 'final.output.concentrate_sol',\n",
              "       'final.output.recovery', 'final.output.tail_ag', 'final.output.tail_au',\n",
              "       'final.output.tail_pb', 'final.output.tail_sol',\n",
              "       'primary_cleaner.output.concentrate_ag',\n",
              "       'primary_cleaner.output.concentrate_au',\n",
              "       'primary_cleaner.output.concentrate_pb',\n",
              "       'primary_cleaner.output.concentrate_sol',\n",
              "       'primary_cleaner.output.tail_ag', 'primary_cleaner.output.tail_au',\n",
              "       'primary_cleaner.output.tail_pb', 'primary_cleaner.output.tail_sol',\n",
              "       'rougher.calculated.recovery', 'rougher.calculation.au_pb_ratio',\n",
              "       'rougher.calculation.floatbank10_sulfate_to_au_feed',\n",
              "       'rougher.calculation.floatbank11_sulfate_to_au_feed',\n",
              "       'rougher.calculation.sulfate_to_au_concentrate',\n",
              "       'rougher.output.concentrate_ag', 'rougher.output.concentrate_au',\n",
              "       'rougher.output.concentrate_pb', 'rougher.output.concentrate_sol',\n",
              "       'rougher.output.recovery', 'rougher.output.tail_ag',\n",
              "       'rougher.output.tail_au', 'rougher.output.tail_pb',\n",
              "       'rougher.output.tail_sol', 'secondary_cleaner.output.tail_ag',\n",
              "       'secondary_cleaner.output.tail_au', 'secondary_cleaner.output.tail_pb',\n",
              "       'secondary_cleaner.output.tail_sol'],\n",
              "      dtype='object')"
            ]
          },
          "execution_count": 9,
          "metadata": {},
          "output_type": "execute_result"
        }
      ],
      "source": [
        "df_train.columns.difference(df_test.columns)"
      ]
    },
    {
      "cell_type": "markdown",
      "metadata": {
        "id": "S2ZErQH4Ht5E"
      },
      "source": [
        "Показатели, недоступные в тестовой выборке, относятся к различным аспектам процесса обогащения полезных ископаемых:\n",
        "\n",
        "- концентраты на выходе (final.output)\n",
        "- эффективность обогащения (output.recovery)\n",
        "- xвосты (final.output.tail) - содержание веществ в хвостах после обогащения.\n",
        "- параметры первичной флотации (primary_cleaner.output.concentrate) - концентраты на выходе из первичной флотации\n",
        "- параметры вторичной флотации (secondary_cleaner.output.tail) - содержания в хвостах после вторичной флотации.\n",
        "- расчетные параметры (rougher.calculation) - различные расчетные параметры, связанные с процессом флотации.\n",
        "\n",
        "В тестовой выборке недоступны некоторые расчетные (calculation) и выходные (output) характеристики процесса, ведь их невозможно получить либо замерить во время выполнения технологического процесса\n",
        "\n",
        "Все перечисленные параметры относятся к числовым данным, полученным по результатам процесса переработки. Они показывают, насколько эффективно извлекаются ценные металлы из руды и какие потери происходят на различных стадиях обработки.\n",
        "\n",
        "Однако, такие отсутвующие в тестовой выборке целевые признаки, как rougher.output.recovery и final.output.recovery, будут нужны для расчета метрики качества. Их необходимо будет добавить в тестовую выборку перед проверкой модели."
      ]
    },
    {
      "cell_type": "code",
      "execution_count": null,
      "metadata": {
        "id": "xsOa_WYLHt5E"
      },
      "outputs": [],
      "source": [
        "df_test = df_test.merge(\n",
        "    df_full.loc[:, [\"date\", \"rougher.output.recovery\", \"final.output.recovery\"]],\n",
        "    on=\"date\",\n",
        ")"
      ]
    },
    {
      "cell_type": "code",
      "execution_count": null,
      "metadata": {
        "scrolled": true,
        "id": "cRAzVXdGHt5E",
        "outputId": "07568969-e63c-42d5-8562-cf0fc4b84b16"
      },
      "outputs": [
        {
          "data": {
            "text/plain": [
              "(5290, 55)"
            ]
          },
          "execution_count": 11,
          "metadata": {},
          "output_type": "execute_result"
        }
      ],
      "source": [
        "# Проверяем размеры тестовой выборки\n",
        "df_test.shape"
      ]
    },
    {
      "cell_type": "markdown",
      "metadata": {
        "id": "cA6cpAHfHt5F"
      },
      "source": [
        "Количество строк осталось прежним, количество столбцов увеличилось на два."
      ]
    },
    {
      "cell_type": "markdown",
      "metadata": {
        "id": "S-ja4PkBHt5F"
      },
      "source": [
        "### Предобработка данных"
      ]
    },
    {
      "cell_type": "markdown",
      "metadata": {
        "id": "kWgiq7dAHt5G"
      },
      "source": [
        "Во время первичного изучения данных были выявлены пропуски в отдельных столбцах. Вероятно, они появились в результате технологических и технических ошибок.\n",
        "Известно, что соседние по времени параметры часто похожи. Чтобы заменить пропуски в выборках близкими значениями, можно использовать метод fillna() с параметром method='ffill'. Этот метод заполняет пропуски предыдущими ненулевыми значениями."
      ]
    },
    {
      "cell_type": "code",
      "execution_count": null,
      "metadata": {
        "id": "f5mVR6haHt5G"
      },
      "outputs": [],
      "source": [
        "# Заполним пропуски методом forward fill в тестовой и тренировочной выборках\n",
        "df_test.fillna(method=\"ffill\", inplace=True)\n",
        "df_train.fillna(method=\"ffill\", inplace=True)"
      ]
    },
    {
      "cell_type": "code",
      "execution_count": null,
      "metadata": {
        "scrolled": true,
        "id": "x3fYQRKMHt5G",
        "outputId": "9d979213-370b-4251-d4b4-5a50169e6b53"
      },
      "outputs": [
        {
          "data": {
            "text/plain": [
              "date                                          0\n",
              "primary_cleaner.input.sulfate                 0\n",
              "primary_cleaner.input.depressant              0\n",
              "primary_cleaner.input.feed_size               0\n",
              "primary_cleaner.input.xanthate                0\n",
              "primary_cleaner.state.floatbank8_a_air        0\n",
              "primary_cleaner.state.floatbank8_a_level      0\n",
              "primary_cleaner.state.floatbank8_b_air        0\n",
              "primary_cleaner.state.floatbank8_b_level      0\n",
              "primary_cleaner.state.floatbank8_c_air        0\n",
              "primary_cleaner.state.floatbank8_c_level      0\n",
              "primary_cleaner.state.floatbank8_d_air        0\n",
              "primary_cleaner.state.floatbank8_d_level      0\n",
              "rougher.input.feed_ag                         0\n",
              "rougher.input.feed_pb                         0\n",
              "rougher.input.feed_rate                       0\n",
              "rougher.input.feed_size                       0\n",
              "rougher.input.feed_sol                        0\n",
              "rougher.input.feed_au                         0\n",
              "rougher.input.floatbank10_sulfate             0\n",
              "rougher.input.floatbank10_xanthate            0\n",
              "rougher.input.floatbank11_sulfate             0\n",
              "rougher.input.floatbank11_xanthate            0\n",
              "rougher.state.floatbank10_a_air               0\n",
              "rougher.state.floatbank10_a_level             0\n",
              "rougher.state.floatbank10_b_air               0\n",
              "rougher.state.floatbank10_b_level             0\n",
              "rougher.state.floatbank10_c_air               0\n",
              "rougher.state.floatbank10_c_level             0\n",
              "rougher.state.floatbank10_d_air               0\n",
              "rougher.state.floatbank10_d_level             0\n",
              "rougher.state.floatbank10_e_air               0\n",
              "rougher.state.floatbank10_e_level             0\n",
              "rougher.state.floatbank10_f_air               0\n",
              "rougher.state.floatbank10_f_level             0\n",
              "secondary_cleaner.state.floatbank2_a_air      0\n",
              "secondary_cleaner.state.floatbank2_a_level    0\n",
              "secondary_cleaner.state.floatbank2_b_air      0\n",
              "secondary_cleaner.state.floatbank2_b_level    0\n",
              "secondary_cleaner.state.floatbank3_a_air      0\n",
              "secondary_cleaner.state.floatbank3_a_level    0\n",
              "secondary_cleaner.state.floatbank3_b_air      0\n",
              "secondary_cleaner.state.floatbank3_b_level    0\n",
              "secondary_cleaner.state.floatbank4_a_air      0\n",
              "secondary_cleaner.state.floatbank4_a_level    0\n",
              "secondary_cleaner.state.floatbank4_b_air      0\n",
              "secondary_cleaner.state.floatbank4_b_level    0\n",
              "secondary_cleaner.state.floatbank5_a_air      0\n",
              "secondary_cleaner.state.floatbank5_a_level    0\n",
              "secondary_cleaner.state.floatbank5_b_air      0\n",
              "secondary_cleaner.state.floatbank5_b_level    0\n",
              "secondary_cleaner.state.floatbank6_a_air      0\n",
              "secondary_cleaner.state.floatbank6_a_level    0\n",
              "rougher.output.recovery                       0\n",
              "final.output.recovery                         0\n",
              "dtype: int64"
            ]
          },
          "execution_count": 14,
          "metadata": {},
          "output_type": "execute_result"
        }
      ],
      "source": [
        "# Проверим пропуски\n",
        "df_test.isnull().sum()"
      ]
    },
    {
      "cell_type": "code",
      "execution_count": null,
      "metadata": {
        "scrolled": true,
        "id": "AAZ5hndbHt5G",
        "outputId": "b1a36eea-624e-4977-b4b6-f85a5404554e"
      },
      "outputs": [
        {
          "data": {
            "text/plain": [
              "date                                                  0\n",
              "final.output.concentrate_ag                           0\n",
              "final.output.concentrate_pb                           0\n",
              "final.output.concentrate_sol                          0\n",
              "final.output.concentrate_au                           0\n",
              "final.output.recovery                                 0\n",
              "final.output.tail_ag                                  0\n",
              "final.output.tail_pb                                  0\n",
              "final.output.tail_sol                                 0\n",
              "final.output.tail_au                                  0\n",
              "primary_cleaner.input.sulfate                         0\n",
              "primary_cleaner.input.depressant                      0\n",
              "primary_cleaner.input.feed_size                       0\n",
              "primary_cleaner.input.xanthate                        0\n",
              "primary_cleaner.output.concentrate_ag                 0\n",
              "primary_cleaner.output.concentrate_pb                 0\n",
              "primary_cleaner.output.concentrate_sol                0\n",
              "primary_cleaner.output.concentrate_au                 0\n",
              "primary_cleaner.output.tail_ag                        0\n",
              "primary_cleaner.output.tail_pb                        0\n",
              "primary_cleaner.output.tail_sol                       0\n",
              "primary_cleaner.output.tail_au                        0\n",
              "primary_cleaner.state.floatbank8_a_air                0\n",
              "primary_cleaner.state.floatbank8_a_level              0\n",
              "primary_cleaner.state.floatbank8_b_air                0\n",
              "primary_cleaner.state.floatbank8_b_level              0\n",
              "primary_cleaner.state.floatbank8_c_air                0\n",
              "primary_cleaner.state.floatbank8_c_level              0\n",
              "primary_cleaner.state.floatbank8_d_air                0\n",
              "primary_cleaner.state.floatbank8_d_level              0\n",
              "rougher.calculation.sulfate_to_au_concentrate         0\n",
              "rougher.calculation.floatbank10_sulfate_to_au_feed    0\n",
              "rougher.calculation.floatbank11_sulfate_to_au_feed    0\n",
              "rougher.calculation.au_pb_ratio                       0\n",
              "rougher.input.feed_ag                                 0\n",
              "rougher.input.feed_pb                                 0\n",
              "rougher.input.feed_rate                               0\n",
              "rougher.input.feed_size                               0\n",
              "rougher.input.feed_sol                                0\n",
              "rougher.input.feed_au                                 0\n",
              "rougher.input.floatbank10_sulfate                     0\n",
              "rougher.input.floatbank10_xanthate                    0\n",
              "rougher.input.floatbank11_sulfate                     0\n",
              "rougher.input.floatbank11_xanthate                    0\n",
              "rougher.output.concentrate_ag                         0\n",
              "rougher.output.concentrate_pb                         0\n",
              "rougher.output.concentrate_sol                        0\n",
              "rougher.output.concentrate_au                         0\n",
              "rougher.output.recovery                               0\n",
              "rougher.output.tail_ag                                0\n",
              "rougher.output.tail_pb                                0\n",
              "rougher.output.tail_sol                               0\n",
              "rougher.output.tail_au                                0\n",
              "rougher.state.floatbank10_a_air                       0\n",
              "rougher.state.floatbank10_a_level                     0\n",
              "rougher.state.floatbank10_b_air                       0\n",
              "rougher.state.floatbank10_b_level                     0\n",
              "rougher.state.floatbank10_c_air                       0\n",
              "rougher.state.floatbank10_c_level                     0\n",
              "rougher.state.floatbank10_d_air                       0\n",
              "rougher.state.floatbank10_d_level                     0\n",
              "rougher.state.floatbank10_e_air                       0\n",
              "rougher.state.floatbank10_e_level                     0\n",
              "rougher.state.floatbank10_f_air                       0\n",
              "rougher.state.floatbank10_f_level                     0\n",
              "secondary_cleaner.output.tail_ag                      0\n",
              "secondary_cleaner.output.tail_pb                      0\n",
              "secondary_cleaner.output.tail_sol                     0\n",
              "secondary_cleaner.output.tail_au                      0\n",
              "secondary_cleaner.state.floatbank2_a_air              0\n",
              "secondary_cleaner.state.floatbank2_a_level            0\n",
              "secondary_cleaner.state.floatbank2_b_air              0\n",
              "secondary_cleaner.state.floatbank2_b_level            0\n",
              "secondary_cleaner.state.floatbank3_a_air              0\n",
              "secondary_cleaner.state.floatbank3_a_level            0\n",
              "secondary_cleaner.state.floatbank3_b_air              0\n",
              "secondary_cleaner.state.floatbank3_b_level            0\n",
              "secondary_cleaner.state.floatbank4_a_air              0\n",
              "secondary_cleaner.state.floatbank4_a_level            0\n",
              "secondary_cleaner.state.floatbank4_b_air              0\n",
              "secondary_cleaner.state.floatbank4_b_level            0\n",
              "secondary_cleaner.state.floatbank5_a_air              0\n",
              "secondary_cleaner.state.floatbank5_a_level            0\n",
              "secondary_cleaner.state.floatbank5_b_air              0\n",
              "secondary_cleaner.state.floatbank5_b_level            0\n",
              "secondary_cleaner.state.floatbank6_a_air              0\n",
              "secondary_cleaner.state.floatbank6_a_level            0\n",
              "rougher.calculated.recovery                           0\n",
              "dtype: int64"
            ]
          },
          "execution_count": 15,
          "metadata": {},
          "output_type": "execute_result"
        }
      ],
      "source": [
        "# Проверим пропуски\n",
        "df_train.isnull().sum()"
      ]
    },
    {
      "cell_type": "markdown",
      "metadata": {
        "id": "E3d19sloHt5H"
      },
      "source": [
        "В ходе первичного изучения данных был выявлен тип данных object у столбца date. Поскольку в данной задаче не стоит цель анализа временных рядов, мы не будем выделять этот столбец в качестве признака для дальнейшего изучения и оставим его без изменений."
      ]
    },
    {
      "cell_type": "markdown",
      "metadata": {
        "id": "2svtC5k1Ht5H"
      },
      "source": [
        "### Промежуточные выводы\n",
        "\n",
        "Определены размеры датафреймов.\n",
        "\n",
        "Тип данных float64 (86 столбцов) соответствует значениям, тип object у столбца date (дата).\n",
        "Проведена проверка по формуле обогащения и MAE - эффективность обогащения рассчитана правильно.\n",
        "\n",
        "Проанализированы признаки, недоступные в тестовой выборке. Все перечисленные параметры относятся к числовым данным, полученным после процесса переработки.\n",
        "\n",
        "Отсутствующие в тестовой выборке целевые признаки rougher.output.recovery и final.output.recovery добавлены в тестовую выборку для оценки моделей.\n",
        "\n",
        "Пропуски в тестовой и тренировочной выборках заполнены близкими (предыдущими по времени) ненулевыми значениями.\n",
        "\n",
        "Тип данных object у столбца date решено оставить без изменений.\n"
      ]
    },
    {
      "cell_type": "markdown",
      "metadata": {
        "id": "XoGl7tVPHt5H"
      },
      "source": [
        "## Анализ данных"
      ]
    },
    {
      "cell_type": "markdown",
      "metadata": {
        "id": "UbfNKC1NHt5N"
      },
      "source": [
        "### Изменение концентрации металлов (Au, Ag, Pb) на этапах очистки"
      ]
    },
    {
      "cell_type": "markdown",
      "metadata": {
        "id": "IW3rl5AZHt5O"
      },
      "source": [
        "Посмотрите, как меняется концентрация металлов (Au, Ag, Pb) на различных этапах очистки. Опишите выводы."
      ]
    },
    {
      "cell_type": "code",
      "execution_count": null,
      "metadata": {
        "scrolled": false,
        "id": "domYe710Ht5O",
        "outputId": "5428d958-c380-4c3b-e10c-d2a9ee9dcafc"
      },
      "outputs": [
        {
          "data": {
            "image/png": "[encoded data removed]",
            "text/plain": [
              "<Figure size 1080x1440 with 3 Axes>"
            ]
          },
          "metadata": {
            "needs_background": "light"
          },
          "output_type": "display_data"
        }
      ],
      "source": [
        "# Создаем отдельные датафреймы для каждого металла\n",
        "metal_au = df_full[\n",
        "    [\n",
        "        \"rougher.input.feed_au\",\n",
        "        \"rougher.output.concentrate_au\",\n",
        "        \"primary_cleaner.output.concentrate_au\",\n",
        "        \"final.output.concentrate_au\",\n",
        "    ]\n",
        "]\n",
        "metal_ag = df_full[\n",
        "    [\n",
        "        \"rougher.input.feed_ag\",\n",
        "        \"rougher.output.concentrate_ag\",\n",
        "        \"primary_cleaner.output.concentrate_ag\",\n",
        "        \"final.output.concentrate_ag\",\n",
        "    ]\n",
        "]\n",
        "metal_pb = df_full[\n",
        "    [\n",
        "        \"rougher.input.feed_pb\",\n",
        "        \"rougher.output.concentrate_pb\",\n",
        "        \"primary_cleaner.output.concentrate_pb\",\n",
        "        \"final.output.concentrate_pb\",\n",
        "    ]\n",
        "]\n",
        "\n",
        "\n",
        "fig, axes = plt.subplots(3, 1, figsize=(15, 20))\n",
        "\n",
        "# Зададим цвета графиков\n",
        "colors = [\"#DDA0DD\", \"#ADD8E6\", \"#FFA07A\", \"#90EE90\"]\n",
        "labels = [\n",
        "    \"Исходное сырьё\",\n",
        "    \"Флотационный концентрат\",\n",
        "    \"Первичная очистка\",\n",
        "    \"Финальный концентрат\",\n",
        "]\n",
        "\n",
        "# Построим графики для Au\n",
        "for i, column in enumerate(list(metal_au)):\n",
        "    sns.histplot(\n",
        "        metal_au[column],\n",
        "        ax=axes[0],\n",
        "        kde=False,\n",
        "        color=colors[i],\n",
        "        label=labels[i],\n",
        "        alpha=0.7,\n",
        "    )\n",
        "axes[0].set(title=\"Концентрация Au\", xlabel=\"Концентрация (%)\", ylabel=\"Количество\")\n",
        "axes[0].legend(loc=\"upper right\")\n",
        "\n",
        "# Построим графики для Ag\n",
        "for i, column in enumerate(list(metal_ag)):\n",
        "    sns.histplot(\n",
        "        metal_ag[column],\n",
        "        ax=axes[1],\n",
        "        kde=False,\n",
        "        color=colors[i],\n",
        "        label=labels[i],\n",
        "        alpha=0.7,\n",
        "    )\n",
        "axes[1].set(title=\"Концентрация Ag\", xlabel=\"Концентрация (%)\", ylabel=\"Количество\")\n",
        "axes[1].legend()\n",
        "\n",
        "# Построим графики для Pb\n",
        "for i, column in enumerate(list(metal_pb)):\n",
        "    sns.histplot(\n",
        "        metal_pb[column],\n",
        "        ax=axes[2],\n",
        "        kde=False,\n",
        "        color=colors[i],\n",
        "        label=labels[i],\n",
        "        alpha=0.7,\n",
        "    )\n",
        "axes[2].set(title=\"Концентрация Pb\", xlabel=\"Концентрация (%)\", ylabel=\"Количество\")\n",
        "axes[2].legend()\n",
        "\n",
        "# Установка общего заголовка с увеличенным шрифтом\n",
        "fig.suptitle(\"Концентрации металлов на этапах очистки\", fontsize=20)\n",
        "\n",
        "# Настроим шрифты для заголовков и подписей осей\n",
        "for ax in axes:\n",
        "    ax.title.set_fontsize(16)  # Заголовок графика\n",
        "    ax.xaxis.label.set_fontsize(14)  # Подпись оси X\n",
        "    ax.yaxis.label.set_fontsize(14)  # Подпись оси Y\n",
        "    ax.legend(fontsize=12)  # Размер шрифта легенды\n",
        "\n",
        "plt.tight_layout()\n",
        "plt.show()"
      ]
    },
    {
      "cell_type": "markdown",
      "metadata": {
        "id": "mZwwmnpsHt5O"
      },
      "source": [
        "Доля золота увеличивается по мере прохождения этапов очистки, что свидетельствует о том, что процесс очистки эффективен в извлечении золота из сырья.\n",
        "\n",
        "Графики имеют колоколообразную форму, что свидетельствует о нормальном распределении данных. Присутствуют аномальные выбросы, равные нулю. Вероятно, это ошибочные данные. Их неоходимо удалить, тк нулевой концентрации металлов быть не должно."
      ]
    },
    {
      "cell_type": "code",
      "execution_count": null,
      "metadata": {
        "id": "drH7Of3_Ht5P"
      },
      "outputs": [],
      "source": [
        "# Укажем столбцы, в которых нужно удалить нулевые значения.\n",
        "columns_to_check = [\n",
        "    \"rougher.input.feed_au\",\n",
        "    \"rougher.output.concentrate_au\",\n",
        "    \"primary_cleaner.output.concentrate_au\",\n",
        "    \"final.output.concentrate_au\",\n",
        "    \"rougher.input.feed_ag\",\n",
        "    \"rougher.output.concentrate_ag\",\n",
        "    \"primary_cleaner.output.concentrate_ag\",\n",
        "    \"final.output.concentrate_ag\",\n",
        "    \"rougher.input.feed_pb\",\n",
        "    \"rougher.output.concentrate_pb\",\n",
        "    \"primary_cleaner.output.concentrate_pb\",\n",
        "    \"final.output.concentrate_pb\",\n",
        "    \"rougher.input.feed_sol\",\n",
        "    \"rougher.output.concentrate_sol\",\n",
        "    \"primary_cleaner.output.concentrate_sol\",\n",
        "    \"final.output.concentrate_sol\",\n",
        "]\n",
        "\n",
        "# Фильтруем df_train, удаляя строки с нулевыми значениями в указанных столбцах\n",
        "df_train = df_train[(df_train[columns_to_check] != 0).all(axis=1)]"
      ]
    },
    {
      "cell_type": "code",
      "execution_count": null,
      "metadata": {
        "scrolled": true,
        "id": "eU0d02MhHt5P",
        "outputId": "5e991b79-2c60-49ab-d962-c613dd45ec7a"
      },
      "outputs": [
        {
          "data": {
            "text/plain": [
              "(13716, 88)"
            ]
          },
          "execution_count": 18,
          "metadata": {},
          "output_type": "execute_result"
        }
      ],
      "source": [
        "# Проверим\n",
        "df_train.shape"
      ]
    },
    {
      "cell_type": "markdown",
      "metadata": {
        "id": "eEDaEcrCHt5P"
      },
      "source": [
        "Изначальный размер df_train был 14149 строк, после обработки стал 13716 строк, удалено 433 строки  (примерно 3%)"
      ]
    },
    {
      "cell_type": "markdown",
      "metadata": {
        "id": "ZrNuJEDHHt5Q"
      },
      "source": [
        "### Сравнение распределений размеров гранул сырья"
      ]
    },
    {
      "cell_type": "markdown",
      "metadata": {
        "id": "EdTcYOcbHt5Q"
      },
      "source": [
        "Сравните распределения размеров гранул сырья на обучающей и тестовой выборках. Если распределения сильно отличаются друг от друга, оценка модели будет неправильной.\n",
        "\n"
      ]
    },
    {
      "cell_type": "code",
      "execution_count": null,
      "metadata": {
        "scrolled": false,
        "id": "p6bU_vqqHt5Q",
        "outputId": "fea0bb89-3462-467d-9cb6-1e0c24532e9e"
      },
      "outputs": [
        {
          "data": {
            "image/png": "[encoded data removed]",
            "text/plain": [
              "<Figure size 864x864 with 2 Axes>"
            ]
          },
          "metadata": {
            "needs_background": "light"
          },
          "output_type": "display_data"
        }
      ],
      "source": [
        "### Функция для построения графика плотности\n",
        "def plot_kde(ax, train_data, test_data, column, title):\n",
        "    sns.kdeplot(\n",
        "        train_data[column],\n",
        "        color=\"#ADD8E6\",\n",
        "        label=\"Обучающая выборка\",\n",
        "        ax=ax,\n",
        "        fill=True,\n",
        "        alpha=0.5,\n",
        "        linewidth=2,\n",
        "    )\n",
        "\n",
        "    sns.kdeplot(\n",
        "        test_data[column],\n",
        "        color=\"#90EE90\",\n",
        "        label=\"Тестовая выборка\",\n",
        "        ax=ax,\n",
        "        fill=True,\n",
        "        alpha=0.5,\n",
        "        linewidth=2,\n",
        "    )\n",
        "\n",
        "    # Добавление черной линии по контуру\n",
        "    sns.kdeplot(\n",
        "        train_data[column],\n",
        "        color=\"black\",\n",
        "        ax=ax,\n",
        "        linewidth=1.5,\n",
        "    )\n",
        "\n",
        "    sns.kdeplot(\n",
        "        test_data[column],\n",
        "        color=\"black\",\n",
        "        ax=ax,\n",
        "        linewidth=1.5,\n",
        "    )\n",
        "\n",
        "    # Настройка заголовка и подписей\n",
        "    ax.set_title(title)\n",
        "    ax.set_xlabel(\"Размер гранул\")\n",
        "    ax.set_ylabel(\"Плотность\")\n",
        "    ax.legend()\n",
        "\n",
        "\n",
        "# Создаем фигуру с двумя подграфиками\n",
        "fig, axes = plt.subplots(2, 1, figsize=(12, 12))\n",
        "\n",
        "# Построение графиков для разных стадий\n",
        "plot_kde(\n",
        "    axes[0],\n",
        "    df_train,\n",
        "    df_test,\n",
        "    \"rougher.input.feed_size\",\n",
        "    \"Распределение размера гранул сырья на этапе флотации\",\n",
        ")\n",
        "plot_kde(\n",
        "    axes[1],\n",
        "    df_train,\n",
        "    df_test,\n",
        "    \"primary_cleaner.input.feed_size\",\n",
        "    \"Распределение размера гранул сырья на этапе первичной очистки\",\n",
        ")\n",
        "\n",
        "# Показать графики\n",
        "plt.tight_layout()\n",
        "plt.show()"
      ]
    },
    {
      "cell_type": "markdown",
      "metadata": {
        "id": "XL5vHRWQHt5Q"
      },
      "source": [
        "Распределения размеров гранул сырья на обучающей и тестовой выборках не имеют значительных различий, что указывает на однородность данных и их пригодность для обучения модели."
      ]
    },
    {
      "cell_type": "markdown",
      "metadata": {
        "id": "2qx-fpNUHt5R"
      },
      "source": [
        "### Анализ суммарной концентрации веществ на различных стадиях обогащения"
      ]
    },
    {
      "cell_type": "markdown",
      "metadata": {
        "id": "jSCm_DaEHt5R"
      },
      "source": [
        "Исследуйте суммарную концентрацию всех веществ на разных стадиях: в сырье, в черновом и финальном концентратах."
      ]
    },
    {
      "cell_type": "code",
      "execution_count": null,
      "metadata": {
        "id": "lk4Ki_tPHt5R",
        "outputId": "d497fa09-7d0d-4d8b-d896-bcd053096cef"
      },
      "outputs": [
        {
          "data": {
            "image/png": "[encoded data removed]",
            "text/plain": [
              "<Figure size 1008x504 with 1 Axes>"
            ]
          },
          "metadata": {
            "needs_background": "light"
          },
          "output_type": "display_data"
        }
      ],
      "source": [
        "# Функция для расчета суммарной концентрации в сырье\n",
        "def calculate_raw_feed(df):\n",
        "    return (\n",
        "        df[\"rougher.input.feed_au\"]\n",
        "        + df[\"rougher.input.feed_ag\"]\n",
        "        + df[\"rougher.input.feed_pb\"]\n",
        "        + df[\"rougher.input.feed_sol\"]\n",
        "    )\n",
        "\n",
        "\n",
        "# Функция для расчета суммарной концентрации во флотационном концентрате\n",
        "def calculate_rougher_conc(df):\n",
        "    return (\n",
        "        df[\"rougher.output.concentrate_au\"]\n",
        "        + df[\"rougher.output.concentrate_ag\"]\n",
        "        + df[\"rougher.output.concentrate_pb\"]\n",
        "        + df[\"rougher.output.concentrate_sol\"]\n",
        "    )\n",
        "\n",
        "\n",
        "# Функция для расчета суммарной концентрации в первичном концентрате\n",
        "def calculate_primary_cleaner_conc(df):\n",
        "    return (\n",
        "        df[\"primary_cleaner.output.concentrate_au\"]\n",
        "        + df[\"primary_cleaner.output.concentrate_ag\"]\n",
        "        + df[\"primary_cleaner.output.concentrate_pb\"]\n",
        "        + df[\"primary_cleaner.output.concentrate_sol\"]\n",
        "    )\n",
        "\n",
        "\n",
        "# Функция для расчета суммарной концентрации в финальном концентрате\n",
        "def calculate_final_conc(df):\n",
        "    return (\n",
        "        df[\"final.output.concentrate_au\"]\n",
        "        + df[\"final.output.concentrate_ag\"]\n",
        "        + df[\"final.output.concentrate_pb\"]\n",
        "        + df[\"final.output.concentrate_sol\"]\n",
        "    )\n",
        "\n",
        "\n",
        "# Добавляем новые столбцы с суммарными концентрациями\n",
        "df_full[\"total_raw_feed\"] = calculate_raw_feed(df_full)\n",
        "df_full[\"total_rougher_conc\"] = calculate_rougher_conc(df_full)\n",
        "df_full[\"total_primary_cleaner_conc\"] = calculate_primary_cleaner_conc(df_full)\n",
        "df_full[\"total_final_conc\"] = calculate_final_conc(df_full)\n",
        "\n",
        "# Создаем датафрейм для концентраций\n",
        "total_concentration = df_full[\n",
        "    [\n",
        "        \"total_raw_feed\",\n",
        "        \"total_rougher_conc\",\n",
        "        \"total_primary_cleaner_conc\",\n",
        "        \"total_final_conc\",\n",
        "    ]\n",
        "]\n",
        "\n",
        "# Создаем график\n",
        "plt.figure(figsize=(14, 7))\n",
        "\n",
        "# Задаем цвета в соответствии с порядком переработки\n",
        "colors = [\"#DDA0DD\", \"#ADD8E6\", \"#FFA07A\", \"#90EE90\"]\n",
        "labels = [\n",
        "    \"Исходное сырьё\",\n",
        "    \"Флотационный концентрат\",\n",
        "    \"Первичная очистка\",\n",
        "    \"Финальный концентрат\",\n",
        "]\n",
        "\n",
        "# Построим гистограммы для каждой стадии с заданными цветами\n",
        "for column, color, label in zip(total_concentration.columns, colors, labels):\n",
        "    sns.histplot(\n",
        "        total_concentration[column],\n",
        "        kde=False,\n",
        "        label=label,  # Используем метку из labels\n",
        "        color=color,\n",
        "        alpha=0.8,\n",
        "        bins=30,\n",
        "    )\n",
        "\n",
        "# Настройка легенды и заголовков\n",
        "plt.legend(title=\"Стадия\")\n",
        "plt.title(\"Суммарная концентрация на этапах\")\n",
        "plt.xlabel(\"Концентрация (%)\")\n",
        "plt.ylabel(\"Количество\")\n",
        "\n",
        "# Показать график\n",
        "plt.tight_layout()\n",
        "plt.show()"
      ]
    },
    {
      "cell_type": "markdown",
      "metadata": {
        "id": "crCF12ORHt5S"
      },
      "source": [
        "На графике видны выбросы с концентрацией 0%. Они отображаются, поскольку для построения графика используется исходный датафрейм. Следует помнить, что в тренировочной выборке нулевые значения концентрации мы удалили ранее.\n",
        "\n",
        "Графики суммарной концентрации металлов имеют колоколообразную форму.\n",
        "\n",
        "На этапе сырья график демонстрирует широкий диапазон значений. Это может свидетельствовать о наличии различных фракций и неоднородности исходного материала. В отличие от этого, финальный концентрат показывает более узкую форму, что указывает на более однородное распределение и успешное отделение нежелательных компонентов."
      ]
    },
    {
      "cell_type": "markdown",
      "metadata": {
        "id": "PXF4rv09Ht5T"
      },
      "source": [
        "### Подготовка данных к обучению"
      ]
    },
    {
      "cell_type": "markdown",
      "metadata": {
        "id": "CaW6OyCeHt5T"
      },
      "source": [
        "Оставим в тренировочных данных только столбцы, аналогичные столбцами из test_df. Также для тренировки непригодны данные времени столбца date, поэтому он исключается.\n",
        "\n",
        "Нужно спрогнозировать сразу две величины:<br>\n",
        "эффективность обогащения чернового концентрата rougher.output.recovery;<br>\n",
        "эффективность обогащения финального концентрата final.output.recovery."
      ]
    },
    {
      "cell_type": "code",
      "execution_count": null,
      "metadata": {
        "scrolled": false,
        "id": "nY8rlbelHt5T"
      },
      "outputs": [],
      "source": [
        "# Удаляем столбец date из тестовой выборки\n",
        "df_test = df_test.drop([\"date\"], axis=1)\n",
        "\n",
        "# Фильтруем df_train, оставляя только столбцы, которые есть в df_test\n",
        "df_train = df_train[df_test.columns]\n",
        "\n",
        "# Разделим df_train на обучающую и валидационную выборки\n",
        "df_train, df_valid = train_test_split(df_train, test_size=0.25, random_state=12345)\n",
        "\n",
        "# Объявим переменные целевых признаков\n",
        "target_train_rough = df_train[\"rougher.output.recovery\"].copy()\n",
        "target_train_final = df_train[\"final.output.recovery\"].copy()\n",
        "\n",
        "\n",
        "# Удаляем целевые признаки из train_features\n",
        "features_train = df_train.drop(\n",
        "    columns=[\"rougher.output.recovery\", \"final.output.recovery\"], errors=\"ignore\"\n",
        ")\n",
        "\n",
        "df_test\n",
        "target_test_rough = df_test[\"rougher.output.recovery\"].copy()\n",
        "target_test_final = df_test[\"final.output.recovery\"].copy()\n",
        "features_test = df_test.drop(\n",
        "    columns=[\"rougher.output.recovery\", \"final.output.recovery\"], errors=\"ignore\"\n",
        ")"
      ]
    },
    {
      "cell_type": "code",
      "execution_count": null,
      "metadata": {
        "scrolled": true,
        "id": "9RymRORiHt5T",
        "outputId": "fb70d763-bbea-43a9-e3b6-e5e5ca2fe228"
      },
      "outputs": [
        {
          "name": "stdout",
          "output_type": "stream",
          "text": [
            "Обучающая выборка\n",
            "Список признаков для обучения:\n",
            " Index(['primary_cleaner.input.sulfate', 'primary_cleaner.input.depressant',\n",
            "       'primary_cleaner.input.feed_size', 'primary_cleaner.input.xanthate',\n",
            "       'primary_cleaner.state.floatbank8_a_air',\n",
            "       'primary_cleaner.state.floatbank8_a_level',\n",
            "       'primary_cleaner.state.floatbank8_b_air',\n",
            "       'primary_cleaner.state.floatbank8_b_level',\n",
            "       'primary_cleaner.state.floatbank8_c_air',\n",
            "       'primary_cleaner.state.floatbank8_c_level',\n",
            "       'primary_cleaner.state.floatbank8_d_air',\n",
            "       'primary_cleaner.state.floatbank8_d_level', 'rougher.input.feed_ag',\n",
            "       'rougher.input.feed_pb', 'rougher.input.feed_rate',\n",
            "       'rougher.input.feed_size', 'rougher.input.feed_sol',\n",
            "       'rougher.input.feed_au', 'rougher.input.floatbank10_sulfate',\n",
            "       'rougher.input.floatbank10_xanthate',\n",
            "       'rougher.input.floatbank11_sulfate',\n",
            "       'rougher.input.floatbank11_xanthate', 'rougher.state.floatbank10_a_air',\n",
            "       'rougher.state.floatbank10_a_level', 'rougher.state.floatbank10_b_air',\n",
            "       'rougher.state.floatbank10_b_level', 'rougher.state.floatbank10_c_air',\n",
            "       'rougher.state.floatbank10_c_level', 'rougher.state.floatbank10_d_air',\n",
            "       'rougher.state.floatbank10_d_level', 'rougher.state.floatbank10_e_air',\n",
            "       'rougher.state.floatbank10_e_level', 'rougher.state.floatbank10_f_air',\n",
            "       'rougher.state.floatbank10_f_level',\n",
            "       'secondary_cleaner.state.floatbank2_a_air',\n",
            "       'secondary_cleaner.state.floatbank2_a_level',\n",
            "       'secondary_cleaner.state.floatbank2_b_air',\n",
            "       'secondary_cleaner.state.floatbank2_b_level',\n",
            "       'secondary_cleaner.state.floatbank3_a_air',\n",
            "       'secondary_cleaner.state.floatbank3_a_level',\n",
            "       'secondary_cleaner.state.floatbank3_b_air',\n",
            "       'secondary_cleaner.state.floatbank3_b_level',\n",
            "       'secondary_cleaner.state.floatbank4_a_air',\n",
            "       'secondary_cleaner.state.floatbank4_a_level',\n",
            "       'secondary_cleaner.state.floatbank4_b_air',\n",
            "       'secondary_cleaner.state.floatbank4_b_level',\n",
            "       'secondary_cleaner.state.floatbank5_a_air',\n",
            "       'secondary_cleaner.state.floatbank5_a_level',\n",
            "       'secondary_cleaner.state.floatbank5_b_air',\n",
            "       'secondary_cleaner.state.floatbank5_b_level',\n",
            "       'secondary_cleaner.state.floatbank6_a_air',\n",
            "       'secondary_cleaner.state.floatbank6_a_level'],\n",
            "      dtype='object')\n",
            "Признаки для обучения:\n",
            " (10287, 52)\n",
            "Целевая переменная rough:\n",
            " (10287,)\n",
            "Целевая переменная final:\n",
            " (10287,)\n"
          ]
        }
      ],
      "source": [
        "# Проверка обучающей выборки\n",
        "print(\"Обучающая выборка\")\n",
        "print(\"Список признаков для обучения:\\n\", features_train.columns)\n",
        "print(\"Признаки для обучения:\\n\", features_train.shape)\n",
        "print(\"Целевая переменная rough:\\n\", target_train_rough.shape)\n",
        "print(\"Целевая переменная final:\\n\", target_train_final.shape)"
      ]
    },
    {
      "cell_type": "markdown",
      "metadata": {
        "id": "lNZps6ijHt5U"
      },
      "source": [
        "В список признаков для обучения входят только необходимые столбцы, количество наблюдений в двух целевых и остальных признаков совпадает."
      ]
    },
    {
      "cell_type": "code",
      "execution_count": null,
      "metadata": {
        "scrolled": false,
        "id": "wvXYy6nPHt5U",
        "outputId": "0e40591d-17b0-4bf1-939f-51cf213d3f4d"
      },
      "outputs": [
        {
          "name": "stdout",
          "output_type": "stream",
          "text": [
            "Валидационная выборка\n",
            "Целевая переменная rough:\n",
            " (3429,)\n",
            "Целевая переменная final:\n",
            " (3429,)\n"
          ]
        }
      ],
      "source": [
        "# Объявим переменные целевых признаков\n",
        "target_valid_rough = df_valid[\"rougher.output.recovery\"].copy()\n",
        "target_valid_final = df_valid[\"final.output.recovery\"].copy()\n",
        "\n",
        "\n",
        "# Определим остальные признаки валидационной выборки\n",
        "features_valid = df_valid.drop(\n",
        "    columns=[\"rougher.output.recovery\", \"final.output.recovery\"]\n",
        ")\n",
        "\n",
        "# Проверка валидационной выборки\n",
        "print(\"Валидационная выборка\")\n",
        "print(\"Целевая переменная rough:\\n\", target_valid_rough.shape)\n",
        "print(\"Целевая переменная final:\\n\", target_valid_final.shape)"
      ]
    },
    {
      "cell_type": "code",
      "execution_count": null,
      "metadata": {
        "id": "u8unO-l9Ht5U",
        "outputId": "25f5dbf8-afff-42fd-a945-1b0355630eed"
      },
      "outputs": [
        {
          "name": "stdout",
          "output_type": "stream",
          "text": [
            "Целевая переменная rough:\n",
            " (5290,)\n",
            "Целевая переменная final:\n",
            " (5290,)\n"
          ]
        }
      ],
      "source": [
        "# Проверка тестовой выборки\n",
        "print(\"Целевая переменная rough:\\n\", target_test_rough.shape)\n",
        "print(\"Целевая переменная final:\\n\", target_test_final.shape)"
      ]
    },
    {
      "cell_type": "markdown",
      "metadata": {
        "id": "SBv9kiI4Ht5V"
      },
      "source": [
        "Тренировочные данные поделены на тренировочную и валидационную  выборки в пропорции 3:1 (75%:25%).\n",
        "Признаки выборок соответсвенно содержат одинаковое количество наблюдений."
      ]
    },
    {
      "cell_type": "markdown",
      "metadata": {
        "id": "2ayjc79GHt5V"
      },
      "source": [
        "### Промежуточные выводы"
      ]
    },
    {
      "cell_type": "markdown",
      "metadata": {
        "id": "67ZpNQoOHt5V"
      },
      "source": [
        "Проведено исследование изменение концентрации металлов (Au, Ag, Pb) на этапах очистки.<br>\n",
        "Установлено, что доля золота увеличивается по мере прохождения этапов очистки, что свидетельствует о том, что процесс очистки эффективен в извлечении золота из сырья.<br>\n",
        "Графики имеют колоколообразную форму, что свидетельствует о нормальном распределении данных. Присутствуют аномальные выбросы, равные нулю. Вероятно, это ошибочные данные. В тренировочной выборке эти значения удалены, тк нулевой концентрации металлов быть не должно.<br>\n",
        "<br>\n",
        "Исследовано распределение размеров гранул сырья на обучающей и тестовой выборках - распределения размеров гранул сырья на обучающей и тестовой выборках не имеют значительных различий, что указывает на однородность данных и их пригодность для обучения модели.<br>\n",
        "<br>\n",
        "Оценена суммарная концентрация всех веществ на разных стадиях: в сырье, в черновом и финальном концентратах.\n",
        "Графики суммарной концентрации металлов (Au, Ag, Pb) на различных стадиях очистки также имеют колоколообразную форму.<br>\n",
        "На этапе сырья график демонстрирует широкий диапазон значений. Это может свидетельствовать о наличии различных фракций и неоднородности исходного материала. В отличие от этого, финальный концентрат показывает более узкую форму, что указывает на более однородное распределение и успешное отделение нежелательных компонентов.<br>\n",
        "<br>\n",
        "Анализ указывает на однородность данных и их пригодность для обучения модели, что является важным условием для получения корректных результатов.\n",
        "\n",
        "Тренировочные данные поделены на тренировочную и валидационную  выборки в пропорции 3:1 (75%:25%).\n",
        "Признаки выборок проверены, соответсвенно содержат одинаковое количество наблюдений."
      ]
    },
    {
      "cell_type": "markdown",
      "metadata": {
        "id": "8uaBqLAXHt5V"
      },
      "source": [
        "## Модель"
      ]
    },
    {
      "cell_type": "markdown",
      "metadata": {
        "id": "Zsz0tEasHt5V"
      },
      "source": [
        "### Функция для вычисления итоговой sMAPE."
      ]
    },
    {
      "cell_type": "markdown",
      "metadata": {
        "id": "7NqKNHk9Ht5V"
      },
      "source": [
        "Напишите функцию для вычисления итоговой sMAPE."
      ]
    },
    {
      "cell_type": "markdown",
      "metadata": {
        "id": "VuerpTdcHt5W"
      },
      "source": [
        "<img src=\"https://pictures.s3.yandex.net/resources/smape_1576239058.jpg\" alt=\"Формула sMAPE\" width=\"500\" height=\"300\">"
      ]
    },
    {
      "cell_type": "markdown",
      "metadata": {
        "id": "bGRFF9elHt5W"
      },
      "source": [
        "<img src=\"https://pictures.s3.yandex.net/resources/_smape_1576239054.jpg\" alt=\"Формула итогового sMAPE\" width=\"500\" height=\"300\">\n"
      ]
    },
    {
      "cell_type": "code",
      "execution_count": null,
      "metadata": {
        "id": "FIQf4Af1Ht5W"
      },
      "outputs": [],
      "source": [
        "# Создадим функцию вычисления метрики sMAPE для промежуточного этапа оценки модели\n",
        "def smape(target_true, target_pred):\n",
        "    # Преобразуем входные данные в pandas Series для удобства\n",
        "    target_true = pd.Series(target_true)\n",
        "    target_pred = pd.Series(target_pred)\n",
        "    # Вычисляем абсолютную ошибку\n",
        "    error = (target_true - target_pred).abs()\n",
        "    # Вычисляем делитель\n",
        "    scale = (target_true.abs() + target_pred.abs()) / 2\n",
        "    # Вычисляем sMAPE\n",
        "    result = error / scale\n",
        "    return result.mean() * 100  # Возвращаем в процентах"
      ]
    },
    {
      "cell_type": "code",
      "execution_count": null,
      "metadata": {
        "id": "NKwL1TUYHt5W"
      },
      "outputs": [],
      "source": [
        "# Создадим функцию вычисления метрики sMAPE для итоговой оценки модели\n",
        "def total_smape(smape_rough, smape_final):\n",
        "    total_smape_value = 0.25 * smape_rough + 0.75 * smape_final\n",
        "\n",
        "    return total_smape_value"
      ]
    },
    {
      "cell_type": "markdown",
      "metadata": {
        "id": "nfo-JDsBHt5X"
      },
      "source": [
        "### Обучение моделей и оценка их качества"
      ]
    },
    {
      "cell_type": "markdown",
      "metadata": {
        "id": "sIosf2reHt5X"
      },
      "source": [
        "Обучите разные модели и оцените их качество."
      ]
    },
    {
      "cell_type": "markdown",
      "metadata": {
        "id": "FK6LrcZ3Ht5X"
      },
      "source": [
        "#### Модель линейной регрессии"
      ]
    },
    {
      "cell_type": "code",
      "execution_count": null,
      "metadata": {
        "id": "AW0QrVztHt5X",
        "outputId": "6f27cddb-52af-4311-d237-161eb5c86cdf"
      },
      "outputs": [
        {
          "name": "stdout",
          "output_type": "stream",
          "text": [
            "sMAPE модели линейной регрессии для этапа флотации: 11.166537522947243\n"
          ]
        }
      ],
      "source": [
        "# Инициализируем модель линейной регрессии для этапа флотации\n",
        "model_lr_rough = LinearRegression()\n",
        "# Обучим модель на тренировочной выборке\n",
        "model_lr_rough.fit(features_train, target_train_rough)\n",
        "\n",
        "# Получим предсказания на  валидационной выборке\n",
        "predictions_lr_valid_rough = model_lr_rough.predict(features_valid)\n",
        "\n",
        "# Посчитаем значение метрики sMAPE на валидационной выборке\n",
        "result_lr_valid_rough = smape(target_valid_rough, predictions_lr_valid_rough)\n",
        "print(\n",
        "    \"sMAPE модели линейной регрессии для этапа флотации:\",\n",
        "    result_lr_valid_rough,\n",
        ")"
      ]
    },
    {
      "cell_type": "code",
      "execution_count": null,
      "metadata": {
        "id": "VPjN0zFpHt5X",
        "outputId": "58d48a91-a5bb-4191-b44a-2fa06f62c9d1"
      },
      "outputs": [
        {
          "name": "stdout",
          "output_type": "stream",
          "text": [
            "sMAPE модели линейной регрессии для финального этапа переработки: 12.469391331035789\n"
          ]
        }
      ],
      "source": [
        "# Инициализируем модель линейной регрессии для финального этапа\n",
        "model_lr_final = LinearRegression()\n",
        "# Обучим модель на тренировочной выборке\n",
        "model_lr_final.fit(features_train, target_train_final)\n",
        "\n",
        "# Получим предсказания на  валидационной выборке\n",
        "predictions_lr_valid_final = model_lr_final.predict(features_valid)\n",
        "\n",
        "# Посчитаем значение метрики sMAPE на валидационной выборке\n",
        "result_lr_valid_final = smape(target_valid_final, predictions_lr_valid_final)\n",
        "print(\n",
        "    \"sMAPE модели линейной регрессии для финального этапа переработки:\",\n",
        "    result_lr_valid_final,\n",
        ")"
      ]
    },
    {
      "cell_type": "code",
      "execution_count": null,
      "metadata": {
        "id": "bT3mEGcIHt5Y",
        "outputId": "5f560ae8-b50c-47e9-9798-4ee128704aed"
      },
      "outputs": [
        {
          "name": "stdout",
          "output_type": "stream",
          "text": [
            "Итоговое значение sMAPE модели линейной регрессии: 12.143677879013653\n"
          ]
        }
      ],
      "source": [
        "# Посчитаем итоговое sMAPE для линейной регрессии\n",
        "total_smape_lr = total_smape(result_lr_valid_rough, result_lr_valid_final)\n",
        "print(\n",
        "    \"Итоговое значение sMAPE модели линейной регрессии:\",\n",
        "    total_smape_lr,\n",
        ")"
      ]
    },
    {
      "cell_type": "markdown",
      "metadata": {
        "id": "cyU9uTAKHt5Y"
      },
      "source": [
        "#### Модель дерево решений"
      ]
    },
    {
      "cell_type": "code",
      "execution_count": null,
      "metadata": {
        "id": "cS8UUTSYHt5Y",
        "outputId": "8ea704dd-ce06-4fa6-d984-00b011138a1d"
      },
      "outputs": [
        {
          "name": "stdout",
          "output_type": "stream",
          "text": [
            "Лучшие параметры дерева решений для этапа флотации: {'max_depth': 1, 'min_samples_split': 2, 'min_samples_leaf': 1}\n",
            "Лучшее значение sMAPE модели дерева решений для этапа флотации: 10.348297589382414\n"
          ]
        }
      ],
      "source": [
        "# Создадим модель дерево решений для этапа флотации и подберем лучшие гиперпараметры\n",
        "# Определяем диапазоны гиперпараметров для подбора\n",
        "max_depths = [None, 1, 5, 10, 20, 40]\n",
        "min_samples_splits = [2, 4, 8, 16, 30]\n",
        "min_samples_leaves = [1, 3, 5, 10, 20]\n",
        "\n",
        "best_smapes_tree_rough = float(\"inf\")\n",
        "best_params_tree_rough = {}\n",
        "\n",
        "# Перебираем все комбинации гиперпараметров\n",
        "for max_depth in max_depths:\n",
        "    for min_samples_split in min_samples_splits:\n",
        "        for min_samples_leaf in min_samples_leaves:\n",
        "            # Инициализируем модель дерева решений с текущими гиперпараметрами\n",
        "            model_tree_rough = DecisionTreeRegressor(\n",
        "                max_depth=max_depth,\n",
        "                min_samples_split=min_samples_split,\n",
        "                min_samples_leaf=min_samples_leaf,\n",
        "                random_state=12345,\n",
        "            )\n",
        "\n",
        "            # Обучаем модель на тренировочных данных\n",
        "            model_tree_rough.fit(features_train, target_train_rough)\n",
        "\n",
        "            # Получаем предсказания на валидационной выборке\n",
        "            predictions_tree_valid_rough = model_tree_rough.predict(features_valid)\n",
        "\n",
        "            # Вычисляем sMAPE для текущей модели\n",
        "            result_tree_valid_rough = smape(\n",
        "                target_valid_rough, predictions_tree_valid_rough\n",
        "            )\n",
        "\n",
        "            # Проверяем, является ли текущий sMAPE лучше лучшего найденного ранее\n",
        "            if result_tree_valid_rough < best_smapes_tree_rough:\n",
        "                best_smapes_tree_rough = result_tree_valid_rough\n",
        "                best_params_tree_rough = {\n",
        "                    \"max_depth\": max_depth,\n",
        "                    \"min_samples_split\": min_samples_split,\n",
        "                    \"min_samples_leaf\": min_samples_leaf,\n",
        "                }\n",
        "\n",
        "print(\"Лучшие параметры дерева решений для этапа флотации:\", best_params_tree_rough)\n",
        "print(\n",
        "    \"Лучшее значение sMAPE модели дерева решений для этапа флотации:\",\n",
        "    best_smapes_tree_rough,\n",
        ")"
      ]
    },
    {
      "cell_type": "code",
      "execution_count": null,
      "metadata": {
        "id": "kbzQAdqgHt5Y",
        "outputId": "68bc6d91-1159-4685-aafc-9e0fa1215bc6"
      },
      "outputs": [
        {
          "name": "stdout",
          "output_type": "stream",
          "text": [
            "Лучшие параметры дерева решений для финального этапа переработки: {'max_depth': 1, 'min_samples_split': 2, 'min_samples_leaf': 1}\n",
            "Лучшиее значение sMAPE модели дерева решений для финального этапа переработки: 10.82551672087448\n"
          ]
        }
      ],
      "source": [
        "# Создадим модель дерево решений для финального этапа переработки и подберем лучшие гиперпараметры\n",
        "# Определяем диапазоны гиперпараметров для подбора\n",
        "max_depths = [None, 1, 5, 10, 20, 40]\n",
        "min_samples_splits = [2, 4, 8, 16, 30]\n",
        "min_samples_leaves = [1, 3, 5, 10, 20]\n",
        "\n",
        "best_smapes_tree_final = float(\"inf\")\n",
        "best_params_tree_final = {}\n",
        "\n",
        "# Перебираем все комбинации гиперпараметров для финального этапа\n",
        "for max_depth in max_depths:\n",
        "    for min_samples_split in min_samples_splits:\n",
        "        for min_samples_leaf in min_samples_leaves:\n",
        "            # Инициализируем модель дерева решений с текущими гиперпараметрами\n",
        "            model_tree_final = DecisionTreeRegressor(\n",
        "                max_depth=max_depth,\n",
        "                min_samples_split=min_samples_split,\n",
        "                min_samples_leaf=min_samples_leaf,\n",
        "                random_state=12345,\n",
        "            )\n",
        "\n",
        "            # Обучаем модель на тренировочных данных\n",
        "            model_tree_final.fit(features_train, target_train_final)\n",
        "\n",
        "            # Получаем предсказания на валидационной выборке\n",
        "            predictions_tree_valid_final = model_tree_final.predict(features_valid)\n",
        "\n",
        "            # Вычисляем sMAPE для текущей модели\n",
        "            result_tree_valid_final = smape(\n",
        "                target_valid_final, predictions_tree_valid_final\n",
        "            )\n",
        "\n",
        "            # Проверяем, является ли текущий sMAPE лучше лучшего найденного ранее\n",
        "            if result_tree_valid_final < best_smapes_tree_final:\n",
        "                best_smapes_tree_final = result_tree_valid_final\n",
        "                best_params_tree_final = {\n",
        "                    \"max_depth\": max_depth,\n",
        "                    \"min_samples_split\": min_samples_split,\n",
        "                    \"min_samples_leaf\": min_samples_leaf,\n",
        "                }\n",
        "\n",
        "print(\n",
        "    \"Лучшие параметры дерева решений для финального этапа переработки:\",\n",
        "    best_params_tree_final,\n",
        ")\n",
        "print(\n",
        "    \"Лучшиее значение sMAPE модели дерева решений для финального этапа переработки:\",\n",
        "    best_smapes_tree_final,\n",
        ")"
      ]
    },
    {
      "cell_type": "code",
      "execution_count": null,
      "metadata": {
        "id": "MvO6DRFwHt5Z",
        "outputId": "8d4a620d-b723-4c62-8658-63c071587657"
      },
      "outputs": [
        {
          "name": "stdout",
          "output_type": "stream",
          "text": [
            "Итоговое значение sMAPE модели дерево решений: 10.706211938001463\n"
          ]
        }
      ],
      "source": [
        "# Посчитаем итоговое значение sMAPE для модели дерево решений\n",
        "total_smape_tree = total_smape(best_smapes_tree_rough, best_smapes_tree_final)\n",
        "print(\n",
        "    \"Итоговое значение sMAPE модели дерево решений:\",\n",
        "    total_smape_tree,\n",
        ")"
      ]
    },
    {
      "cell_type": "markdown",
      "metadata": {
        "id": "A7T7Gl1FHt5Z"
      },
      "source": [
        "Лучшие параметры дерева решений для обоих этапов переработки оказались одинаковымми: {'max_depth': 1, 'min_samples_split': 2, 'min_samples_leaf': 1}"
      ]
    },
    {
      "cell_type": "markdown",
      "metadata": {
        "id": "dmbjY0rVHt5Z"
      },
      "source": [
        "#### Модель случайного леса"
      ]
    },
    {
      "cell_type": "code",
      "execution_count": null,
      "metadata": {
        "id": "9cnsU-AXHt5Z",
        "outputId": "aec65d9c-eb87-41f9-b166-df27fcdb1d04"
      },
      "outputs": [
        {
          "name": "stdout",
          "output_type": "stream",
          "text": [
            "Лучшие параметры случайного леса для этапа флотации: {'n_estimators': 60, 'max_depth': 5, 'min_samples_split': 2, 'min_samples_leaf': 1}\n",
            "Лучшее значение sMAPE для этапа флотации: 10.967693563169565\n"
          ]
        }
      ],
      "source": [
        "# Создадим модель случайного леса в подбором лучших гиперпараметров для этапа флотации\n",
        "# Определим диапазоны гиперпараметров для подбора\n",
        "n_estimators = [5, 20, 60]\n",
        "max_depths = [5, 10, 15]\n",
        "min_samples_splits = [2, 10, 30]\n",
        "min_samples_leaves = [1, 10, 30]\n",
        "\n",
        "# Подбор гиперпараметров для этапа флотации\n",
        "best_smapes_forest_rough = float(\"inf\")\n",
        "best_params_forest_rough = {}\n",
        "\n",
        "for n in n_estimators:\n",
        "    for max_depth in max_depths:\n",
        "        for min_samples_split in min_samples_splits:\n",
        "            for min_samples_leaf in min_samples_leaves:\n",
        "                # Инициализируем модель случайного леса с текущими гиперпараметрами\n",
        "                model_forest_rough = RandomForestRegressor(\n",
        "                    n_estimators=n,\n",
        "                    max_depth=max_depth,\n",
        "                    min_samples_split=min_samples_split,\n",
        "                    min_samples_leaf=min_samples_leaf,\n",
        "                    random_state=12345,\n",
        "                )\n",
        "\n",
        "                # Обучаем модель на тренировочных данных\n",
        "                model_forest_rough.fit(features_train, target_train_rough)\n",
        "\n",
        "                # Получаем предсказания на валидационной выборке\n",
        "                predictions_forest_valid_rough = model_forest_rough.predict(\n",
        "                    features_valid\n",
        "                )\n",
        "\n",
        "                # Вычисляем sMAPE для текущей модели\n",
        "                result_forest_valid_rough = smape(\n",
        "                    target_valid_rough, predictions_forest_valid_rough\n",
        "                )\n",
        "\n",
        "                # Проверяем, является ли текущий sMAPE лучше лучшего найденного ранее\n",
        "                if result_forest_valid_rough < best_smapes_forest_rough:\n",
        "                    best_smapes_forest_rough = result_forest_valid_rough\n",
        "                    best_params_forest_rough = {\n",
        "                        \"n_estimators\": n,\n",
        "                        \"max_depth\": max_depth,\n",
        "                        \"min_samples_split\": min_samples_split,\n",
        "                        \"min_samples_leaf\": min_samples_leaf,\n",
        "                    }\n",
        "\n",
        "\n",
        "print(\"Лучшие параметры случайного леса для этапа флотации:\", best_params_forest_rough)\n",
        "print(\n",
        "    \"Лучшее значение sMAPE для этапа флотации:\",\n",
        "    best_smapes_forest_rough,\n",
        ")"
      ]
    },
    {
      "cell_type": "code",
      "execution_count": null,
      "metadata": {
        "id": "zQwpOIofHt5Z",
        "outputId": "52641c4c-141a-4ed9-a946-daeab814a7d3"
      },
      "outputs": [
        {
          "name": "stdout",
          "output_type": "stream",
          "text": [
            "Лучшие параметры модели случайного леса для финального этапа: {'n_estimators': 20, 'max_depth': 5, 'min_samples_split': 2, 'min_samples_leaf': 1}\n",
            "Лучшее значение sMAPE модели случайного леса для финального этапа: 12.30698551478085\n"
          ]
        }
      ],
      "source": [
        "# Подбор гиперпараметров для финального этапа переработки\n",
        "best_smapes_forest_final = float(\"inf\")\n",
        "best_params_forest_final = {}\n",
        "\n",
        "for n in n_estimators:\n",
        "    for max_depth in max_depths:\n",
        "        for min_samples_split in min_samples_splits:\n",
        "            for min_samples_leaf in min_samples_leaves:\n",
        "                # Инициализируем модель случайного леса с текущими гиперпараметрами\n",
        "                model_forest_final = RandomForestRegressor(\n",
        "                    n_estimators=n,\n",
        "                    max_depth=max_depth,\n",
        "                    min_samples_split=min_samples_split,\n",
        "                    min_samples_leaf=min_samples_leaf,\n",
        "                    random_state=12345,\n",
        "                )\n",
        "\n",
        "                # Обучаем модель на тренировочных данных\n",
        "                model_forest_final.fit(features_train, target_train_final)\n",
        "\n",
        "                # Получаем предсказания на валидационной выборке\n",
        "                predictions_forest_valid_final = model_forest_final.predict(\n",
        "                    features_valid\n",
        "                )\n",
        "\n",
        "                # Вычисляем sMAPE для текущей модели\n",
        "                result_forest_valid_final = smape(\n",
        "                    target_valid_final, predictions_forest_valid_final\n",
        "                )\n",
        "\n",
        "                # Проверяем, является ли текущий sMAPE лучше лучшего найденного ранее\n",
        "                if result_forest_valid_final < best_smapes_forest_final:\n",
        "                    best_smapes_forest_final = result_forest_valid_final\n",
        "                    best_params_forest_final = {\n",
        "                        \"n_estimators\": n,\n",
        "                        \"max_depth\": max_depth,\n",
        "                        \"min_samples_split\": min_samples_split,\n",
        "                        \"min_samples_leaf\": min_samples_leaf,\n",
        "                    }\n",
        "\n",
        "\n",
        "print(\n",
        "    \"Лучшие параметры модели случайного леса для финального этапа:\",\n",
        "    best_params_forest_final,\n",
        ")\n",
        "print(\n",
        "    \"Лучшее значение sMAPE модели случайного леса для финального этапа:\",\n",
        "    best_smapes_forest_final,\n",
        ")"
      ]
    },
    {
      "cell_type": "code",
      "execution_count": null,
      "metadata": {
        "id": "yy18IjJ-Ht5a",
        "outputId": "7c3d13c8-869e-417a-f55d-b8c8d4c42ab7"
      },
      "outputs": [
        {
          "name": "stdout",
          "output_type": "stream",
          "text": [
            "Итоговое значение sMAPE модели случайного леса: 11.97216252687803\n"
          ]
        }
      ],
      "source": [
        "# Посчитаем итоговое значение sMAPE для модели случайного леса\n",
        "total_smape_forest = total_smape(best_smapes_forest_rough, best_smapes_forest_final)\n",
        "print(\n",
        "    \"Итоговое значение sMAPE модели случайного леса:\",\n",
        "    total_smape_forest,\n",
        ")"
      ]
    },
    {
      "cell_type": "markdown",
      "metadata": {
        "id": "CdwWfsGwHt5a"
      },
      "source": [
        "Лучшие параметры модели случайного леса для финального этапа: {'n_estimators': 20, 'max_depth': 5, 'min_samples_split': 2, 'min_samples_leaf': 1}\n",
        "Лучшие параметры случайного леса для этапа флотации: {'n_estimators': 60, 'max_depth': 5, 'min_samples_split': 2, 'min_samples_leaf': 1}"
      ]
    },
    {
      "cell_type": "markdown",
      "metadata": {
        "id": "HLPcdupDHt5a"
      },
      "source": [
        "#### Модель dummy (простейшая)"
      ]
    },
    {
      "cell_type": "code",
      "execution_count": null,
      "metadata": {
        "id": "kcg6ncf6Ht5a",
        "outputId": "ad2e02cf-5211-4730-9bb5-cc8b6b24b5be"
      },
      "outputs": [
        {
          "name": "stdout",
          "output_type": "stream",
          "text": [
            "sMAPE модели dummy для этапа флотации: 9.63079366662932\n",
            "sMAPE модели dummy для финального этапа переработки: 10.16840291860741\n",
            "Итоговое значение sMAPE модели dummy: 10.034000605612887\n"
          ]
        }
      ],
      "source": [
        "# Создадим простейшую модель dummy для этапа флотации\n",
        "model_dummy_rough = DummyRegressor(strategy=\"mean\")\n",
        "model_dummy_rough.fit(features_train, target_train_rough)\n",
        "\n",
        "# Получим предсказания на валидационной выборке\n",
        "predictions_dummy_rough = model_dummy_rough.predict(features_valid)\n",
        "\n",
        "# Вычислим sMAPE для этапа флотации\n",
        "smape_dummy_rough = smape(target_valid_rough, predictions_dummy_rough)\n",
        "print(\"sMAPE модели dummy для этапа флотации:\", smape_dummy_rough)\n",
        "\n",
        "# Обучим модель для финального этапа переработки\n",
        "model_dummy_final = DummyRegressor(strategy=\"mean\")\n",
        "model_dummy_final.fit(features_train, target_train_final)\n",
        "\n",
        "# Получим предсказания для финального этапа переработки\n",
        "predictions_dummy_final = model_dummy_final.predict(features_valid)\n",
        "\n",
        "# Вычислим sMAPE для финального этапа переработки\n",
        "smape_dummy_final = smape(target_valid_final, predictions_dummy_final)\n",
        "print(\"sMAPE модели dummy для финального этапа переработки:\", smape_dummy_final)\n",
        "\n",
        "# Предполагаем, что функция total_smape уже определена\n",
        "total_smape_dummy = total_smape(smape_dummy_rough, smape_dummy_final)\n",
        "print(\"Итоговое значение sMAPE модели dummy:\", total_smape_dummy)"
      ]
    },
    {
      "cell_type": "code",
      "execution_count": null,
      "metadata": {
        "scrolled": true,
        "id": "hTl-QorlHt5a",
        "outputId": "ab9de2da-e0b0-4e57-9f57-031d52029a32"
      },
      "outputs": [
        {
          "data": {
            "text/plain": [
              "'Итоговое значение sMAPE модели линейной регрессии:'"
            ]
          },
          "metadata": {},
          "output_type": "display_data"
        },
        {
          "data": {
            "text/plain": [
              "12.143677879013653"
            ]
          },
          "metadata": {},
          "output_type": "display_data"
        },
        {
          "data": {
            "text/plain": [
              "'Итоговое значение sMAPE модели дерево решений:'"
            ]
          },
          "metadata": {},
          "output_type": "display_data"
        },
        {
          "data": {
            "text/plain": [
              "10.706211938001463"
            ]
          },
          "metadata": {},
          "output_type": "display_data"
        },
        {
          "data": {
            "text/plain": [
              "'Итоговое значение sMAPE модели случайного леса:'"
            ]
          },
          "metadata": {},
          "output_type": "display_data"
        },
        {
          "data": {
            "text/plain": [
              "11.97216252687803"
            ]
          },
          "metadata": {},
          "output_type": "display_data"
        },
        {
          "data": {
            "text/plain": [
              "'Итоговое значение sMAPE модели dummy:'"
            ]
          },
          "metadata": {},
          "output_type": "display_data"
        },
        {
          "data": {
            "text/plain": [
              "10.034000605612887"
            ]
          },
          "metadata": {},
          "output_type": "display_data"
        }
      ],
      "source": [
        "display(\n",
        "    \"Итоговое значение sMAPE модели линейной регрессии:\",\n",
        "    total_smape_lr,\n",
        ")\n",
        "\n",
        "display(\n",
        "    \"Итоговое значение sMAPE модели дерево решений:\",\n",
        "    total_smape_tree,\n",
        ")\n",
        "\n",
        "display(\n",
        "    \"Итоговое значение sMAPE модели случайного леса:\",\n",
        "    total_smape_forest,\n",
        ")\n",
        "\n",
        "display(\"Итоговое значение sMAPE модели dummy:\", total_smape_dummy)"
      ]
    },
    {
      "cell_type": "markdown",
      "metadata": {
        "id": "hqBmq-4_Ht5b"
      },
      "source": [
        "Дерево решений показало наилучший результат с sMAPE 10.71, что указывает на его способность более точно предсказывать значения по сравнению с другими моделями.</br>\n",
        "\n",
        "Dummy модель (базовая модель, использующая простые стратегии, такие как среднее значение) имеет значение sMAPE 10.03, что также является хорошим показателем и даже лучше, чем у линейной регрессии и случайного леса. Это может говорить о том, что в данной задаче базовая модель оказывается достаточно конкурентоспособной.</br>\n",
        "\n",
        "Линейная регрессия с sMAPE 12.14 демонстрирует худшие результаты среди всех моделей, что может указывать на то, что линейные предположения не подходят для данной задачи или что данные имеют сложные зависимости.</br>\n",
        "\n",
        "Случайный лес со значением sMAPE 11.97 показывает результаты лучше линейной регрессии, но хуже дерева решений и dummy модели.</br>\n",
        "\n",
        "Результаты показывают, что дерево решений является наиболее эффективной моделью для данной задачи, однако dummy модель также демонстрирует достойные результаты. <br>"
      ]
    },
    {
      "cell_type": "markdown",
      "metadata": {
        "id": "92YfryKtHt5b"
      },
      "source": [
        "### Проверка лучшей модели на тестовой выборке"
      ]
    },
    {
      "cell_type": "markdown",
      "metadata": {
        "id": "S8B3869iHt5b"
      },
      "source": [
        " Выберите лучшую модель и проверьте её на тестовой выборке."
      ]
    },
    {
      "cell_type": "code",
      "execution_count": null,
      "metadata": {
        "scrolled": true,
        "id": "7fD2x8IwHt5b",
        "outputId": "2c6381bb-b91a-4070-ddd5-a9be9cd606e7"
      },
      "outputs": [
        {
          "data": {
            "text/plain": [
              "'Итоговое значение sMAPE для модели дерево решений с с лучшими гиперпараметрами'"
            ]
          },
          "metadata": {},
          "output_type": "display_data"
        },
        {
          "data": {
            "text/plain": [
              "9.409861728623149"
            ]
          },
          "metadata": {},
          "output_type": "display_data"
        }
      ],
      "source": [
        "# Проверяем лучшую модель на тестовой выборке\n",
        "\n",
        "# Лучшие параметры дерева решений для обоих этапов переработки оказались одинаковыми:\n",
        "best_params = {\"max_depth\": 1, \"min_samples_split\": 2, \"min_samples_leaf\": 1}\n",
        "\n",
        "# Инициализируем модель дерева решений с лучшими гиперпараметрами для этапа флотации\n",
        "best_tree_rough = DecisionTreeRegressor(**best_params, random_state=12345)\n",
        "\n",
        "# Обучаем модель на тренировочных данных для этапа флотации\n",
        "best_tree_rough.fit(features_train, target_train_rough)\n",
        "\n",
        "# Получаем предсказания на тестовой выборке для этапа флотации\n",
        "predictions_best_tree_rough = best_tree_rough.predict(features_test)\n",
        "\n",
        "# Вычисляем sMAPE для этапа флотации\n",
        "best_tree_smape_rough = smape(target_test_rough, predictions_best_tree_rough)\n",
        "\n",
        "# Инициализируем модель дерева решений с лучшими гиперпараметрами для финального этапа переработки\n",
        "best_tree_final = DecisionTreeRegressor(**best_params, random_state=12345)\n",
        "\n",
        "# Обучаем модель на тренировочных данных для финального этапа переработки\n",
        "best_tree_final.fit(features_train, target_train_final)\n",
        "\n",
        "# Получаем предсказания на тестовой выборке для финального этапа переработки\n",
        "predictions_best_tree_final = best_tree_final.predict(features_test)\n",
        "\n",
        "# Вычисляем sMAPE для финального этапа переработки\n",
        "best_tree_smape_final = smape(target_test_final, predictions_best_tree_final)\n",
        "\n",
        "# Вычисляем итоговое sMAPE модели дерева решений с лучшими гиперпараметрами\n",
        "finish_total_smape_tree = total_smape(best_tree_smape_rough, best_tree_smape_final)\n",
        "\n",
        "# Отображаем итоговое значение sMAPE\n",
        "display(\n",
        "    \"Итоговое значение sMAPE для модели дерево решений с с лучшими гиперпараметрами\",\n",
        "    finish_total_smape_tree,\n",
        ")"
      ]
    },
    {
      "cell_type": "markdown",
      "metadata": {
        "id": "0EeB-tdpHt5c"
      },
      "source": [
        "### Промежуточные выводы"
      ]
    },
    {
      "cell_type": "markdown",
      "metadata": {
        "id": "9PKdCfVSHt5c"
      },
      "source": [
        "sMAPE (Symmetric Mean Absolute Percentage Error) — метрика, используемая для оценки точности прогнозов моделей. Чем ниже значение sMAPE, тем лучше модель справляется с предсказанием.</br>\n",
        "\n",
        "Дерево решений показало наилучший результат с sMAPE 10.71, что указывает на его способность более точно предсказывать значения по сравнению с другими моделями.</br>\n",
        "\n",
        "Dummy модель (базовая модель, использующая простые стратегии, такие как среднее значение) имеет значение sMAPE 10.03, что также является хорошим показателем и даже лучше, чем у линейной регрессии и случайного леса. Это может говорить о том, что в данной задаче базовая модель оказывается достаточно конкурентоспособной.</br>\n",
        "\n",
        "Линейная регрессия с sMAPE 12.14 демонстрирует худшие результаты среди всех моделей, что может указывать на то, что линейные предположения не подходят для данной задачи или что данные имеют сложные зависимости.</br>\n",
        "\n",
        "Случайный лес со значением sMAPE 11.97 показывает результаты лучше линейной регрессии, но хуже дерева решений и dummy модели.</br>\n",
        "\n",
        "Результаты показывают, что дерево решений является наиболее эффективной моделью для данной задачи, однако dummy модель также демонстрирует достойные результаты. <br>\n",
        "\n",
        "Линейная регрессия и случайный лес требуют дальнейшего анализа и возможно настройки для улучшения их производительности. Рекомендуется протестировать дополнительные модели и методы оптимизации для достижения лучших результатов в будущем."
      ]
    },
    {
      "cell_type": "markdown",
      "metadata": {
        "id": "vdPfidmiHt5c"
      },
      "source": [
        "## Выводы"
      ]
    },
    {
      "cell_type": "markdown",
      "metadata": {
        "id": "54bZYU3KHt5c"
      },
      "source": [
        "Проведен первичный анализ данных, определены размеры датафреймов.<br>\n",
        "\n",
        "Тип данных float64 (86 столбцов) соответствует значениям, тип object у столбца date (дата).\n",
        "Проведена проверка по формуле обогащения и MAE - эффективность обогащения рассчитана правильно.<br>\n",
        "\n",
        "Проанализированы признаки, недоступные в тестовой выборке. Все перечисленные параметры относятся к числовым данным, полученным после процесса переработки. <br>\n",
        "\n",
        "Отсутствующие в тестовой выборке целевые признаки rougher.output.recovery и final.output.recovery добавлены в тестовую выборку для оценки моделей.<br>\n",
        "\n",
        "Пропуски в тестовой и тренировочной выборках заполнены близкими (предыдущими по времени) ненулевыми значениями.\n",
        "\n",
        "Тип данных object у столбца date решено оставить без изменений.\n",
        "\n",
        "Проведено исследование изменение концентрации металлов (Au, Ag, Pb) на этапах очистки.<br>\n",
        "\n",
        "Установлено, что доля золота увеличивается по мере прохождения этапов очистки, что свидетельствует о том, что процесс очистки эффективен в извлечении золота из сырья.<br>\n",
        "\n",
        "Графики имеют колоколообразную форму, что свидетельствует о нормальном распределении данных. Присутствуют аномальные выбросы, равные нулю. Вероятно, это ошибочные данные. В тренировочной выборке эти значения удалены, тк нулевой концентрации металлов быть не должно.<br>\n",
        "<br>\n",
        "\n",
        "Исследовано распределение размеров гранул сырья на обучающей и тестовой выборках - распределения размеров гранул сырья на обучающей и тестовой выборках не имеют значительных различий, что указывает на однородность данных и их пригодность для обучения модели.<br>\n",
        "\n",
        "Оценена суммарная концентрация всех веществ на разных стадиях: в сырье, в черновом и финальном концентратах.\n",
        "Графики суммарной концентрации металлов (Au, Ag, Pb) на различных стадиях очистки также имеют колоколообразную форму.<br>\n",
        "\n",
        "На этапе сырья график демонстрирует широкий диапазон значений. Это может свидетельствовать о наличии различных фракций и неоднородности исходного материала. В отличие от этого, финальный концентрат показывает более узкую форму, что указывает на более однородное распределение и успешное отделение нежелательных компонентов.<br>\n",
        "<br>\n",
        "\n",
        "Анализ указывает на однородность данных и их пригодность для обучения модели, что является важным условием для получения корректных результатов.<br>\n",
        "\n",
        "sMAPE (Symmetric Mean Absolute Percentage Error) — метрика, используемая для оценки точности прогнозов моделей. Чем ниже значение sMAPE, тем лучше модель справляется с предсказанием.<br>\n",
        "\n",
        "Дерево решений показало наилучший результат с sMAPE 10.71, что указывает на его способность более точно предсказывать значения по сравнению с другими моделями.<br>\n",
        "\n",
        "Dummy модель (базовая модель, использующая простые стратегии, такие как среднее значение) имеет значение sMAPE 10.03, что также является хорошим показателем и даже лучше, чем у линейной регрессии и случайного леса. Это может говорить о том, что в данной задаче базовая модель оказывается достаточно конкурентоспособной.<br>\n",
        "\n",
        "Линейная регрессия с sMAPE 12.14 демонстрирует худшие результаты среди всех моделей, что может указывать на то, что линейные предположения не подходят для данной задачи или что данные имеют сложные зависимости.<br>\n",
        "\n",
        "Случайный лес со значением sMAPE 11.97 показывает результаты лучше линейной регрессии, но хуже дерева решений и dummy модели.<br>\n",
        "\n",
        "Результаты показывают, что дерево решений является наиболее эффективной моделью для данной задачи. Итоговое значение sMAPE для модели дерево решений с с лучшими гиперпараметрами составило 9.41, это один из лучших результатов среди исследованных моделей.\n",
        "<br>\n",
        "\n",
        "Линейная регрессия и случайный лес требуют дальнейшего анализа и возможно настройки для улучшения их производительности. Рекомендуется протестировать дополнительные модели и методы оптимизации для достижения лучших результатов в будущем.<br>"
      ]
    },
    {
      "cell_type": "markdown",
      "metadata": {
        "id": "6nVqlRhbHt5d"
      },
      "source": [
        "## Чек-лист готовности проекта"
      ]
    },
    {
      "cell_type": "markdown",
      "metadata": {
        "id": "Bn3E8XDMHt5e"
      },
      "source": [
        "- [x]  Jupyter Notebook открыт\n",
        "- [x]  Весь код выполняется без ошибок\n",
        "- [x]  Ячейки с кодом расположены в порядке выполнения\n",
        "- [x]  Выполнен шаг 1: данные подготовлены\n",
        "    - [x]  Проверена формула вычисления эффективности обогащения\n",
        "    - [x]  Проанализированы признаки, недоступные в тестовой выборке\n",
        "    - [x]  Проведена предобработка данных\n",
        "- [x]  Выполнен шаг 2: данные проанализированы\n",
        "    - [x]  Исследовано изменение концентрации элементов на каждом этапе\n",
        "    - [x]  Проанализированы распределения размеров гранул на обучающей и тестовой выборках\n",
        "    - [x]  Исследованы суммарные концентрации\n",
        "- [x]  Выполнен шаг 3: построена модель прогнозирования\n",
        "    - [x]  Написана функция для вычисления итогового *sMAPE*\n",
        "    - [x]  Обучено и проверено несколько моделей\n",
        "    - [x]  Выбрана лучшая модель, её качество проверено на тестовой выборке"
      ]
    }
  ],
  "metadata": {
    "ExecuteTimeLog": [
      {
        "duration": 5916,
        "start_time": "2024-11-08T13:39:47.530Z"
      },
      {
        "duration": 1357,
        "start_time": "2024-11-08T13:39:53.448Z"
      },
      {
        "duration": 93,
        "start_time": "2024-11-08T13:39:54.807Z"
      },
      {
        "duration": 3385,
        "start_time": "2024-11-08T13:39:54.901Z"
      },
      {
        "duration": 53,
        "start_time": "2024-11-08T13:39:58.288Z"
      },
      {
        "duration": 28,
        "start_time": "2024-11-08T13:39:58.343Z"
      },
      {
        "duration": 47,
        "start_time": "2024-11-08T13:39:58.373Z"
      },
      {
        "duration": 57,
        "start_time": "2024-11-08T13:39:58.421Z"
      },
      {
        "duration": 111,
        "start_time": "2024-11-08T13:44:24.091Z"
      },
      {
        "duration": 9,
        "start_time": "2024-11-09T12:02:20.370Z"
      },
      {
        "duration": 5773,
        "start_time": "2024-11-09T12:02:23.744Z"
      },
      {
        "duration": 1293,
        "start_time": "2024-11-09T12:02:29.519Z"
      },
      {
        "duration": 105,
        "start_time": "2024-11-09T12:02:30.814Z"
      },
      {
        "duration": 1463,
        "start_time": "2024-11-09T12:02:30.921Z"
      },
      {
        "duration": 46,
        "start_time": "2024-11-09T12:02:32.386Z"
      },
      {
        "duration": 18,
        "start_time": "2024-11-09T12:02:32.434Z"
      },
      {
        "duration": 134,
        "start_time": "2024-11-09T12:02:32.454Z"
      },
      {
        "duration": 0,
        "start_time": "2024-11-09T12:02:32.590Z"
      },
      {
        "duration": 10,
        "start_time": "2024-11-09T12:02:58.222Z"
      },
      {
        "duration": 13,
        "start_time": "2024-11-09T12:03:09.683Z"
      },
      {
        "duration": 3215,
        "start_time": "2024-11-09T12:37:45.356Z"
      },
      {
        "duration": 9,
        "start_time": "2024-11-09T12:37:48.574Z"
      },
      {
        "duration": 19,
        "start_time": "2024-11-09T12:37:48.584Z"
      },
      {
        "duration": 939,
        "start_time": "2024-11-09T12:37:48.605Z"
      },
      {
        "duration": 46,
        "start_time": "2024-11-09T12:37:49.546Z"
      },
      {
        "duration": 109,
        "start_time": "2024-11-09T12:37:49.594Z"
      },
      {
        "duration": 0,
        "start_time": "2024-11-09T12:37:49.705Z"
      },
      {
        "duration": 0,
        "start_time": "2024-11-09T12:37:49.706Z"
      },
      {
        "duration": 0,
        "start_time": "2024-11-09T12:37:49.708Z"
      },
      {
        "duration": 0,
        "start_time": "2024-11-09T12:37:49.709Z"
      },
      {
        "duration": 11,
        "start_time": "2024-11-09T12:38:00.329Z"
      },
      {
        "duration": 10,
        "start_time": "2024-11-09T12:38:06.633Z"
      },
      {
        "duration": 12,
        "start_time": "2024-11-09T12:38:10.596Z"
      },
      {
        "duration": 47,
        "start_time": "2024-11-09T14:30:04.251Z"
      },
      {
        "duration": 5529,
        "start_time": "2024-11-09T14:30:10.858Z"
      },
      {
        "duration": 1197,
        "start_time": "2024-11-09T14:30:16.389Z"
      },
      {
        "duration": 73,
        "start_time": "2024-11-09T14:30:17.588Z"
      },
      {
        "duration": 3193,
        "start_time": "2024-11-09T14:30:17.662Z"
      },
      {
        "duration": 42,
        "start_time": "2024-11-09T14:30:20.857Z"
      },
      {
        "duration": 10,
        "start_time": "2024-11-09T14:30:27.599Z"
      },
      {
        "duration": 6,
        "start_time": "2024-11-09T14:30:30.263Z"
      },
      {
        "duration": 4,
        "start_time": "2024-11-09T14:30:39.095Z"
      },
      {
        "duration": 5,
        "start_time": "2024-11-09T14:30:52.033Z"
      },
      {
        "duration": 4,
        "start_time": "2024-11-09T14:31:04.096Z"
      },
      {
        "duration": 9,
        "start_time": "2024-11-09T14:33:22.485Z"
      },
      {
        "duration": 9,
        "start_time": "2024-11-09T14:33:49.051Z"
      },
      {
        "duration": 857,
        "start_time": "2024-11-09T15:53:35.379Z"
      },
      {
        "duration": 44,
        "start_time": "2024-11-09T15:53:36.383Z"
      },
      {
        "duration": 10,
        "start_time": "2024-11-09T15:53:46.182Z"
      },
      {
        "duration": 11,
        "start_time": "2024-11-09T15:53:48.801Z"
      },
      {
        "duration": 19,
        "start_time": "2024-11-09T15:53:57.424Z"
      },
      {
        "duration": 2615,
        "start_time": "2024-11-09T15:54:13.613Z"
      },
      {
        "duration": 11,
        "start_time": "2024-11-09T15:54:16.230Z"
      },
      {
        "duration": 25,
        "start_time": "2024-11-09T15:54:16.243Z"
      },
      {
        "duration": 832,
        "start_time": "2024-11-09T15:54:16.269Z"
      },
      {
        "duration": 57,
        "start_time": "2024-11-09T15:54:17.104Z"
      },
      {
        "duration": 13,
        "start_time": "2024-11-09T15:54:17.163Z"
      },
      {
        "duration": 8,
        "start_time": "2024-11-09T15:54:17.178Z"
      },
      {
        "duration": 38,
        "start_time": "2024-11-09T15:54:17.188Z"
      },
      {
        "duration": 104,
        "start_time": "2024-11-09T15:54:17.230Z"
      },
      {
        "duration": 0,
        "start_time": "2024-11-09T15:54:17.336Z"
      },
      {
        "duration": 3,
        "start_time": "2024-11-09T15:57:23.438Z"
      },
      {
        "duration": 3,
        "start_time": "2024-11-09T15:57:32.072Z"
      },
      {
        "duration": 3,
        "start_time": "2024-11-09T15:57:37.083Z"
      },
      {
        "duration": 6379,
        "start_time": "2024-11-09T20:56:59.100Z"
      },
      {
        "duration": 550,
        "start_time": "2024-11-09T20:57:05.482Z"
      },
      {
        "duration": 92,
        "start_time": "2024-11-09T20:57:06.034Z"
      },
      {
        "duration": 1524,
        "start_time": "2024-11-09T20:57:06.127Z"
      },
      {
        "duration": 45,
        "start_time": "2024-11-09T20:57:07.653Z"
      },
      {
        "duration": 96,
        "start_time": "2024-11-09T20:57:07.700Z"
      },
      {
        "duration": 0,
        "start_time": "2024-11-09T20:57:07.797Z"
      },
      {
        "duration": 0,
        "start_time": "2024-11-09T20:57:07.799Z"
      },
      {
        "duration": 0,
        "start_time": "2024-11-09T20:57:07.801Z"
      },
      {
        "duration": 312,
        "start_time": "2024-11-09T20:58:17.143Z"
      },
      {
        "duration": 127,
        "start_time": "2024-11-09T20:58:31.976Z"
      },
      {
        "duration": 33,
        "start_time": "2024-11-09T20:58:37.934Z"
      },
      {
        "duration": 100,
        "start_time": "2024-11-09T20:58:43.670Z"
      },
      {
        "duration": 117,
        "start_time": "2024-11-09T21:09:31.938Z"
      },
      {
        "duration": 124,
        "start_time": "2024-11-09T21:09:50.469Z"
      },
      {
        "duration": 15,
        "start_time": "2024-11-09T21:09:55.999Z"
      },
      {
        "duration": 12,
        "start_time": "2024-11-09T21:09:59.318Z"
      },
      {
        "duration": 45,
        "start_time": "2024-11-10T10:03:39.692Z"
      },
      {
        "duration": 5777,
        "start_time": "2024-11-10T10:03:52.443Z"
      },
      {
        "duration": 497,
        "start_time": "2024-11-10T10:03:58.222Z"
      },
      {
        "duration": 93,
        "start_time": "2024-11-10T10:03:58.721Z"
      },
      {
        "duration": 1213,
        "start_time": "2024-11-10T10:03:58.816Z"
      },
      {
        "duration": 45,
        "start_time": "2024-11-10T10:04:00.030Z"
      },
      {
        "duration": 23,
        "start_time": "2024-11-10T10:04:00.077Z"
      },
      {
        "duration": 0,
        "start_time": "2024-11-10T10:04:00.101Z"
      },
      {
        "duration": 0,
        "start_time": "2024-11-10T10:04:00.103Z"
      },
      {
        "duration": 0,
        "start_time": "2024-11-10T10:04:00.104Z"
      },
      {
        "duration": 0,
        "start_time": "2024-11-10T10:04:00.105Z"
      },
      {
        "duration": 34,
        "start_time": "2024-11-10T10:04:04.903Z"
      },
      {
        "duration": 117,
        "start_time": "2024-11-10T10:12:28.939Z"
      },
      {
        "duration": 35,
        "start_time": "2024-11-10T10:12:58.193Z"
      },
      {
        "duration": 12,
        "start_time": "2024-11-10T10:13:01.208Z"
      },
      {
        "duration": 11,
        "start_time": "2024-11-10T10:13:26.033Z"
      },
      {
        "duration": 9,
        "start_time": "2024-11-10T10:13:30.354Z"
      },
      {
        "duration": 6137,
        "start_time": "2024-11-10T11:44:26.557Z"
      },
      {
        "duration": 549,
        "start_time": "2024-11-10T11:44:32.697Z"
      },
      {
        "duration": 102,
        "start_time": "2024-11-10T11:44:33.248Z"
      },
      {
        "duration": 1448,
        "start_time": "2024-11-10T11:44:33.353Z"
      },
      {
        "duration": 47,
        "start_time": "2024-11-10T11:44:34.803Z"
      },
      {
        "duration": 11,
        "start_time": "2024-11-10T11:44:34.852Z"
      },
      {
        "duration": 103,
        "start_time": "2024-11-10T11:44:34.865Z"
      },
      {
        "duration": 0,
        "start_time": "2024-11-10T11:44:34.969Z"
      },
      {
        "duration": 0,
        "start_time": "2024-11-10T11:44:34.970Z"
      },
      {
        "duration": 0,
        "start_time": "2024-11-10T11:44:34.971Z"
      },
      {
        "duration": 762,
        "start_time": "2024-11-10T11:45:37.533Z"
      },
      {
        "duration": 8,
        "start_time": "2024-11-10T11:45:38.643Z"
      },
      {
        "duration": 803,
        "start_time": "2024-11-10T11:45:39.255Z"
      },
      {
        "duration": 43,
        "start_time": "2024-11-10T11:45:40.060Z"
      },
      {
        "duration": 11,
        "start_time": "2024-11-10T11:45:43.325Z"
      },
      {
        "duration": 1129,
        "start_time": "2024-11-10T11:45:44.377Z"
      },
      {
        "duration": 8,
        "start_time": "2024-11-10T11:45:59.865Z"
      },
      {
        "duration": 12,
        "start_time": "2024-11-10T11:46:19.230Z"
      },
      {
        "duration": 8,
        "start_time": "2024-11-10T11:46:19.962Z"
      },
      {
        "duration": 10,
        "start_time": "2024-11-10T11:46:54.526Z"
      },
      {
        "duration": 8,
        "start_time": "2024-11-10T11:46:55.438Z"
      },
      {
        "duration": 13,
        "start_time": "2024-11-10T11:47:00.407Z"
      },
      {
        "duration": 8,
        "start_time": "2024-11-10T11:47:01.065Z"
      },
      {
        "duration": 10,
        "start_time": "2024-11-10T11:47:09.943Z"
      },
      {
        "duration": 8,
        "start_time": "2024-11-10T11:47:10.821Z"
      },
      {
        "duration": 11,
        "start_time": "2024-11-10T11:48:14.909Z"
      },
      {
        "duration": 8,
        "start_time": "2024-11-10T11:48:16.359Z"
      },
      {
        "duration": 9,
        "start_time": "2024-11-10T11:52:40.965Z"
      },
      {
        "duration": 787,
        "start_time": "2024-11-10T11:52:41.940Z"
      },
      {
        "duration": 45,
        "start_time": "2024-11-10T11:52:42.801Z"
      },
      {
        "duration": 11,
        "start_time": "2024-11-10T11:52:45.829Z"
      },
      {
        "duration": 8,
        "start_time": "2024-11-10T11:52:46.846Z"
      },
      {
        "duration": 9,
        "start_time": "2024-11-10T11:53:50.800Z"
      },
      {
        "duration": 12,
        "start_time": "2024-11-10T11:53:53.912Z"
      },
      {
        "duration": 10,
        "start_time": "2024-11-10T11:53:54.748Z"
      },
      {
        "duration": 8,
        "start_time": "2024-11-10T11:54:01.533Z"
      },
      {
        "duration": 12,
        "start_time": "2024-11-10T12:02:11.936Z"
      },
      {
        "duration": 9,
        "start_time": "2024-11-10T12:02:12.588Z"
      },
      {
        "duration": 12,
        "start_time": "2024-11-10T12:10:04.907Z"
      },
      {
        "duration": 57,
        "start_time": "2024-11-10T17:07:12.618Z"
      },
      {
        "duration": 6169,
        "start_time": "2024-11-10T17:07:21.561Z"
      },
      {
        "duration": 1248,
        "start_time": "2024-11-10T17:07:27.734Z"
      },
      {
        "duration": 94,
        "start_time": "2024-11-10T17:07:28.984Z"
      },
      {
        "duration": 1439,
        "start_time": "2024-11-10T17:07:29.080Z"
      },
      {
        "duration": 49,
        "start_time": "2024-11-10T17:07:30.521Z"
      },
      {
        "duration": 81,
        "start_time": "2024-11-10T17:07:30.571Z"
      },
      {
        "duration": 10,
        "start_time": "2024-11-10T17:07:30.654Z"
      },
      {
        "duration": 12,
        "start_time": "2024-11-10T17:07:30.666Z"
      },
      {
        "duration": 47,
        "start_time": "2024-11-10T17:07:30.679Z"
      },
      {
        "duration": 124,
        "start_time": "2024-11-10T17:07:30.728Z"
      },
      {
        "duration": 137,
        "start_time": "2024-11-10T17:07:30.854Z"
      },
      {
        "duration": 0,
        "start_time": "2024-11-10T17:07:30.992Z"
      },
      {
        "duration": 114,
        "start_time": "2024-11-10T17:07:44.039Z"
      },
      {
        "duration": 104,
        "start_time": "2024-11-10T17:07:54.082Z"
      },
      {
        "duration": 14,
        "start_time": "2024-11-10T17:08:02.877Z"
      },
      {
        "duration": 15,
        "start_time": "2024-11-10T17:08:10.826Z"
      },
      {
        "duration": 139,
        "start_time": "2024-11-10T17:24:41.227Z"
      },
      {
        "duration": 131,
        "start_time": "2024-11-10T17:26:25.302Z"
      },
      {
        "duration": 3,
        "start_time": "2024-11-10T17:28:53.996Z"
      },
      {
        "duration": 3,
        "start_time": "2024-11-10T17:29:52.024Z"
      },
      {
        "duration": 55,
        "start_time": "2024-11-11T15:07:48.483Z"
      },
      {
        "duration": 7374,
        "start_time": "2024-11-11T15:07:59.152Z"
      },
      {
        "duration": 1342,
        "start_time": "2024-11-11T15:08:06.528Z"
      },
      {
        "duration": 119,
        "start_time": "2024-11-11T15:08:07.871Z"
      },
      {
        "duration": 1657,
        "start_time": "2024-11-11T15:08:07.992Z"
      },
      {
        "duration": 55,
        "start_time": "2024-11-11T15:08:09.653Z"
      },
      {
        "duration": 99,
        "start_time": "2024-11-11T15:08:09.711Z"
      },
      {
        "duration": 51,
        "start_time": "2024-11-11T15:08:09.812Z"
      },
      {
        "duration": 15,
        "start_time": "2024-11-11T15:08:09.864Z"
      },
      {
        "duration": 27,
        "start_time": "2024-11-11T15:08:09.881Z"
      },
      {
        "duration": 42,
        "start_time": "2024-11-11T15:08:09.910Z"
      },
      {
        "duration": 147,
        "start_time": "2024-11-11T15:08:09.963Z"
      },
      {
        "duration": 0,
        "start_time": "2024-11-11T15:08:10.112Z"
      },
      {
        "duration": 0,
        "start_time": "2024-11-11T15:08:10.113Z"
      },
      {
        "duration": 19,
        "start_time": "2024-11-11T15:08:18.364Z"
      },
      {
        "duration": 27,
        "start_time": "2024-11-11T15:08:21.335Z"
      },
      {
        "duration": 6,
        "start_time": "2024-11-11T15:08:43.826Z"
      },
      {
        "duration": 46,
        "start_time": "2024-11-12T06:23:50.864Z"
      },
      {
        "duration": 5789,
        "start_time": "2024-11-12T06:23:54.989Z"
      },
      {
        "duration": 1171,
        "start_time": "2024-11-12T06:24:00.780Z"
      },
      {
        "duration": 70,
        "start_time": "2024-11-12T06:24:01.952Z"
      },
      {
        "duration": 3419,
        "start_time": "2024-11-12T06:24:02.023Z"
      },
      {
        "duration": 50,
        "start_time": "2024-11-12T06:24:05.445Z"
      },
      {
        "duration": 69,
        "start_time": "2024-11-12T06:24:05.496Z"
      },
      {
        "duration": 21,
        "start_time": "2024-11-12T06:24:05.567Z"
      },
      {
        "duration": 12,
        "start_time": "2024-11-12T06:24:05.590Z"
      },
      {
        "duration": 34,
        "start_time": "2024-11-12T06:24:05.604Z"
      },
      {
        "duration": 7,
        "start_time": "2024-11-12T06:24:05.641Z"
      },
      {
        "duration": 820,
        "start_time": "2024-11-12T06:24:05.649Z"
      },
      {
        "duration": 0,
        "start_time": "2024-11-12T06:24:06.470Z"
      },
      {
        "duration": 0,
        "start_time": "2024-11-12T06:24:06.472Z"
      },
      {
        "duration": 0,
        "start_time": "2024-11-12T06:24:06.473Z"
      },
      {
        "duration": 0,
        "start_time": "2024-11-12T06:24:06.475Z"
      },
      {
        "duration": 146,
        "start_time": "2024-11-12T06:25:41.091Z"
      },
      {
        "duration": 310,
        "start_time": "2024-11-12T06:25:56.284Z"
      },
      {
        "duration": 5,
        "start_time": "2024-11-12T06:26:27.821Z"
      },
      {
        "duration": 333,
        "start_time": "2024-11-12T06:26:30.494Z"
      },
      {
        "duration": 5,
        "start_time": "2024-11-12T06:26:32.306Z"
      },
      {
        "duration": 16,
        "start_time": "2024-11-12T06:26:34.354Z"
      },
      {
        "duration": 5,
        "start_time": "2024-11-12T06:26:35.693Z"
      },
      {
        "duration": 2424,
        "start_time": "2024-11-12T06:32:57.657Z"
      },
      {
        "duration": 7,
        "start_time": "2024-11-12T06:33:00.084Z"
      },
      {
        "duration": 46,
        "start_time": "2024-11-12T06:33:00.092Z"
      },
      {
        "duration": 1791,
        "start_time": "2024-11-12T06:33:00.140Z"
      },
      {
        "duration": 54,
        "start_time": "2024-11-12T06:33:01.935Z"
      },
      {
        "duration": 42,
        "start_time": "2024-11-12T06:33:01.991Z"
      },
      {
        "duration": 36,
        "start_time": "2024-11-12T06:33:02.036Z"
      },
      {
        "duration": 32,
        "start_time": "2024-11-12T06:33:02.074Z"
      },
      {
        "duration": 66,
        "start_time": "2024-11-12T06:33:02.108Z"
      },
      {
        "duration": 12,
        "start_time": "2024-11-12T06:33:02.176Z"
      },
      {
        "duration": 385,
        "start_time": "2024-11-12T06:33:02.189Z"
      },
      {
        "duration": 21,
        "start_time": "2024-11-12T06:33:02.576Z"
      },
      {
        "duration": 219,
        "start_time": "2024-11-12T06:33:02.621Z"
      },
      {
        "duration": 0,
        "start_time": "2024-11-12T06:33:02.843Z"
      },
      {
        "duration": 0,
        "start_time": "2024-11-12T06:33:02.844Z"
      },
      {
        "duration": 45,
        "start_time": "2024-11-12T06:35:31.229Z"
      },
      {
        "duration": 392,
        "start_time": "2024-11-12T06:37:00.560Z"
      },
      {
        "duration": 6036,
        "start_time": "2024-11-12T11:21:25.057Z"
      },
      {
        "duration": 1779,
        "start_time": "2024-11-12T11:21:31.096Z"
      },
      {
        "duration": 134,
        "start_time": "2024-11-12T11:21:32.881Z"
      },
      {
        "duration": 3369,
        "start_time": "2024-11-12T11:21:33.017Z"
      },
      {
        "duration": 52,
        "start_time": "2024-11-12T11:21:36.390Z"
      },
      {
        "duration": 13,
        "start_time": "2024-11-12T11:21:36.443Z"
      },
      {
        "duration": 10,
        "start_time": "2024-11-12T11:21:36.457Z"
      },
      {
        "duration": 28,
        "start_time": "2024-11-12T11:21:36.469Z"
      },
      {
        "duration": 23,
        "start_time": "2024-11-12T11:21:36.499Z"
      },
      {
        "duration": 5,
        "start_time": "2024-11-12T11:21:36.524Z"
      },
      {
        "duration": 425,
        "start_time": "2024-11-12T11:21:36.531Z"
      },
      {
        "duration": 30,
        "start_time": "2024-11-12T11:21:36.958Z"
      },
      {
        "duration": 2696,
        "start_time": "2024-11-12T11:27:45.439Z"
      },
      {
        "duration": 1521,
        "start_time": "2024-11-12T11:27:48.138Z"
      },
      {
        "duration": 76,
        "start_time": "2024-11-12T11:27:49.661Z"
      },
      {
        "duration": 811,
        "start_time": "2024-11-12T11:27:49.739Z"
      },
      {
        "duration": 71,
        "start_time": "2024-11-12T11:27:50.552Z"
      },
      {
        "duration": 16,
        "start_time": "2024-11-12T11:27:50.626Z"
      },
      {
        "duration": 57,
        "start_time": "2024-11-12T11:27:50.644Z"
      },
      {
        "duration": 10,
        "start_time": "2024-11-12T11:27:50.703Z"
      },
      {
        "duration": 18,
        "start_time": "2024-11-12T11:27:50.715Z"
      },
      {
        "duration": 5,
        "start_time": "2024-11-12T11:27:50.736Z"
      },
      {
        "duration": 406,
        "start_time": "2024-11-12T11:27:50.742Z"
      },
      {
        "duration": 20,
        "start_time": "2024-11-12T11:27:51.150Z"
      },
      {
        "duration": 21,
        "start_time": "2024-11-12T11:27:51.172Z"
      },
      {
        "duration": 0,
        "start_time": "2024-11-12T11:34:41.076Z"
      },
      {
        "duration": 0,
        "start_time": "2024-11-12T11:34:41.078Z"
      },
      {
        "duration": 0,
        "start_time": "2024-11-12T11:34:41.083Z"
      },
      {
        "duration": 0,
        "start_time": "2024-11-12T11:34:41.084Z"
      },
      {
        "duration": 0,
        "start_time": "2024-11-12T11:34:41.085Z"
      },
      {
        "duration": 0,
        "start_time": "2024-11-12T11:34:41.086Z"
      },
      {
        "duration": 0,
        "start_time": "2024-11-12T11:34:41.087Z"
      },
      {
        "duration": 0,
        "start_time": "2024-11-12T11:34:41.089Z"
      },
      {
        "duration": 0,
        "start_time": "2024-11-12T11:34:41.094Z"
      },
      {
        "duration": 0,
        "start_time": "2024-11-12T11:34:41.095Z"
      },
      {
        "duration": 0,
        "start_time": "2024-11-12T11:34:41.096Z"
      },
      {
        "duration": 0,
        "start_time": "2024-11-12T11:34:41.097Z"
      },
      {
        "duration": 0,
        "start_time": "2024-11-12T11:34:41.098Z"
      },
      {
        "duration": 0,
        "start_time": "2024-11-12T11:34:41.099Z"
      },
      {
        "duration": 0,
        "start_time": "2024-11-12T11:34:41.100Z"
      },
      {
        "duration": 0,
        "start_time": "2024-11-12T11:34:41.102Z"
      },
      {
        "duration": 6,
        "start_time": "2024-11-12T11:35:03.568Z"
      },
      {
        "duration": 8,
        "start_time": "2024-11-12T11:35:04.262Z"
      },
      {
        "duration": 866,
        "start_time": "2024-11-12T11:35:04.862Z"
      },
      {
        "duration": 57,
        "start_time": "2024-11-12T11:35:05.730Z"
      },
      {
        "duration": 2783,
        "start_time": "2024-11-12T11:35:11.136Z"
      },
      {
        "duration": 9,
        "start_time": "2024-11-12T11:35:13.921Z"
      },
      {
        "duration": 2740,
        "start_time": "2024-11-12T11:35:15.882Z"
      },
      {
        "duration": 7,
        "start_time": "2024-11-12T11:35:18.625Z"
      },
      {
        "duration": 7,
        "start_time": "2024-11-12T11:35:18.634Z"
      },
      {
        "duration": 844,
        "start_time": "2024-11-12T11:35:18.643Z"
      },
      {
        "duration": 55,
        "start_time": "2024-11-12T11:35:19.490Z"
      },
      {
        "duration": 11,
        "start_time": "2024-11-12T11:35:19.547Z"
      },
      {
        "duration": 10,
        "start_time": "2024-11-12T11:35:19.575Z"
      },
      {
        "duration": 10,
        "start_time": "2024-11-12T11:35:19.587Z"
      },
      {
        "duration": 19,
        "start_time": "2024-11-12T11:35:19.598Z"
      },
      {
        "duration": 13,
        "start_time": "2024-11-12T11:35:19.619Z"
      },
      {
        "duration": 436,
        "start_time": "2024-11-12T11:35:19.634Z"
      },
      {
        "duration": 23,
        "start_time": "2024-11-12T11:35:20.075Z"
      },
      {
        "duration": 10,
        "start_time": "2024-11-12T11:35:20.100Z"
      },
      {
        "duration": 107,
        "start_time": "2024-11-12T11:35:20.112Z"
      },
      {
        "duration": 0,
        "start_time": "2024-11-12T11:35:20.221Z"
      },
      {
        "duration": 0,
        "start_time": "2024-11-12T11:35:20.222Z"
      },
      {
        "duration": 43,
        "start_time": "2024-11-12T11:49:53.748Z"
      },
      {
        "duration": 8,
        "start_time": "2024-11-12T11:49:53.835Z"
      },
      {
        "duration": 6,
        "start_time": "2024-11-12T11:49:54.322Z"
      },
      {
        "duration": 17,
        "start_time": "2024-11-12T11:49:54.432Z"
      },
      {
        "duration": 5,
        "start_time": "2024-11-12T11:49:54.518Z"
      },
      {
        "duration": 0,
        "start_time": "2024-11-12T11:49:54.640Z"
      },
      {
        "duration": 0,
        "start_time": "2024-11-12T11:49:54.644Z"
      },
      {
        "duration": 0,
        "start_time": "2024-11-12T11:49:54.648Z"
      },
      {
        "duration": 0,
        "start_time": "2024-11-12T11:49:54.652Z"
      },
      {
        "duration": 1,
        "start_time": "2024-11-12T11:49:54.655Z"
      },
      {
        "duration": 0,
        "start_time": "2024-11-12T11:49:54.660Z"
      },
      {
        "duration": 0,
        "start_time": "2024-11-12T11:49:54.669Z"
      },
      {
        "duration": 0,
        "start_time": "2024-11-12T11:49:54.672Z"
      },
      {
        "duration": 0,
        "start_time": "2024-11-12T11:49:54.674Z"
      },
      {
        "duration": 0,
        "start_time": "2024-11-12T11:49:54.682Z"
      },
      {
        "duration": 0,
        "start_time": "2024-11-12T11:49:54.684Z"
      },
      {
        "duration": 0,
        "start_time": "2024-11-12T12:23:08.229Z"
      },
      {
        "duration": 0,
        "start_time": "2024-11-12T12:23:08.237Z"
      },
      {
        "duration": 0,
        "start_time": "2024-11-12T12:23:08.244Z"
      },
      {
        "duration": 0,
        "start_time": "2024-11-12T12:23:08.287Z"
      },
      {
        "duration": 0,
        "start_time": "2024-11-12T12:23:08.300Z"
      },
      {
        "duration": 0,
        "start_time": "2024-11-12T12:23:08.305Z"
      },
      {
        "duration": 0,
        "start_time": "2024-11-12T12:23:08.309Z"
      },
      {
        "duration": 0,
        "start_time": "2024-11-12T12:23:08.313Z"
      },
      {
        "duration": 0,
        "start_time": "2024-11-12T12:23:08.316Z"
      },
      {
        "duration": 0,
        "start_time": "2024-11-12T12:23:08.319Z"
      },
      {
        "duration": 0,
        "start_time": "2024-11-12T12:23:08.322Z"
      },
      {
        "duration": 0,
        "start_time": "2024-11-12T12:23:08.324Z"
      },
      {
        "duration": 0,
        "start_time": "2024-11-12T12:23:08.327Z"
      },
      {
        "duration": 0,
        "start_time": "2024-11-12T12:23:08.330Z"
      },
      {
        "duration": 1,
        "start_time": "2024-11-12T12:23:08.384Z"
      },
      {
        "duration": 0,
        "start_time": "2024-11-12T12:23:08.391Z"
      },
      {
        "duration": 429,
        "start_time": "2024-11-12T12:23:17.099Z"
      },
      {
        "duration": 6,
        "start_time": "2024-11-12T12:23:26.695Z"
      },
      {
        "duration": 6,
        "start_time": "2024-11-12T12:23:26.703Z"
      },
      {
        "duration": 11,
        "start_time": "2024-11-12T12:23:26.711Z"
      },
      {
        "duration": 851,
        "start_time": "2024-11-12T12:23:26.723Z"
      },
      {
        "duration": 59,
        "start_time": "2024-11-12T12:23:27.577Z"
      },
      {
        "duration": 13,
        "start_time": "2024-11-12T12:23:27.638Z"
      },
      {
        "duration": 34,
        "start_time": "2024-11-12T12:23:27.652Z"
      },
      {
        "duration": 11,
        "start_time": "2024-11-12T12:23:27.688Z"
      },
      {
        "duration": 18,
        "start_time": "2024-11-12T12:23:27.703Z"
      },
      {
        "duration": 6,
        "start_time": "2024-11-12T12:23:27.723Z"
      },
      {
        "duration": 482,
        "start_time": "2024-11-12T12:23:27.730Z"
      },
      {
        "duration": 22,
        "start_time": "2024-11-12T12:23:28.215Z"
      },
      {
        "duration": 11,
        "start_time": "2024-11-12T12:23:28.240Z"
      },
      {
        "duration": 391,
        "start_time": "2024-11-12T12:23:28.277Z"
      },
      {
        "duration": 0,
        "start_time": "2024-11-12T12:23:28.670Z"
      },
      {
        "duration": 0,
        "start_time": "2024-11-12T12:23:28.672Z"
      },
      {
        "duration": 2247,
        "start_time": "2024-11-12T12:24:14.464Z"
      },
      {
        "duration": 1107,
        "start_time": "2024-11-12T12:24:19.604Z"
      },
      {
        "duration": 3,
        "start_time": "2024-11-12T12:24:46.436Z"
      },
      {
        "duration": 57,
        "start_time": "2024-11-12T12:24:46.441Z"
      },
      {
        "duration": 23,
        "start_time": "2024-11-12T12:24:46.500Z"
      },
      {
        "duration": 678,
        "start_time": "2024-11-12T12:24:46.526Z"
      },
      {
        "duration": 46,
        "start_time": "2024-11-12T12:24:47.206Z"
      },
      {
        "duration": 30,
        "start_time": "2024-11-12T12:24:47.255Z"
      },
      {
        "duration": 24,
        "start_time": "2024-11-12T12:24:47.286Z"
      },
      {
        "duration": 8,
        "start_time": "2024-11-12T12:24:47.312Z"
      },
      {
        "duration": 22,
        "start_time": "2024-11-12T12:24:47.323Z"
      },
      {
        "duration": 30,
        "start_time": "2024-11-12T12:24:47.347Z"
      },
      {
        "duration": 359,
        "start_time": "2024-11-12T12:24:47.379Z"
      },
      {
        "duration": 36,
        "start_time": "2024-11-12T12:24:47.740Z"
      },
      {
        "duration": 12,
        "start_time": "2024-11-12T12:24:47.778Z"
      },
      {
        "duration": 1245,
        "start_time": "2024-11-12T12:24:47.792Z"
      },
      {
        "duration": 140,
        "start_time": "2024-11-12T12:24:49.039Z"
      },
      {
        "duration": 0,
        "start_time": "2024-11-12T12:24:49.181Z"
      },
      {
        "duration": 0,
        "start_time": "2024-11-12T12:24:49.182Z"
      },
      {
        "duration": 3,
        "start_time": "2024-11-12T13:58:57.145Z"
      },
      {
        "duration": 45,
        "start_time": "2024-11-12T13:58:57.149Z"
      },
      {
        "duration": 0,
        "start_time": "2024-11-12T13:58:57.195Z"
      },
      {
        "duration": 0,
        "start_time": "2024-11-12T13:58:57.197Z"
      },
      {
        "duration": 0,
        "start_time": "2024-11-12T13:58:57.198Z"
      },
      {
        "duration": 0,
        "start_time": "2024-11-12T13:58:57.199Z"
      },
      {
        "duration": 0,
        "start_time": "2024-11-12T13:58:57.200Z"
      },
      {
        "duration": 0,
        "start_time": "2024-11-12T13:58:57.200Z"
      },
      {
        "duration": 0,
        "start_time": "2024-11-12T13:58:57.201Z"
      },
      {
        "duration": 0,
        "start_time": "2024-11-12T13:58:57.202Z"
      },
      {
        "duration": 8,
        "start_time": "2024-11-12T13:58:57.216Z"
      },
      {
        "duration": 0,
        "start_time": "2024-11-12T13:58:57.225Z"
      },
      {
        "duration": 0,
        "start_time": "2024-11-12T13:58:57.226Z"
      },
      {
        "duration": 54,
        "start_time": "2024-11-12T13:58:57.232Z"
      },
      {
        "duration": 0,
        "start_time": "2024-11-12T13:58:57.288Z"
      },
      {
        "duration": 0,
        "start_time": "2024-11-12T13:58:57.290Z"
      },
      {
        "duration": 2,
        "start_time": "2024-11-12T13:59:06.420Z"
      },
      {
        "duration": 58,
        "start_time": "2024-11-12T13:59:06.423Z"
      },
      {
        "duration": 0,
        "start_time": "2024-11-12T13:59:06.483Z"
      },
      {
        "duration": 0,
        "start_time": "2024-11-12T13:59:06.484Z"
      },
      {
        "duration": 0,
        "start_time": "2024-11-12T13:59:06.485Z"
      },
      {
        "duration": 0,
        "start_time": "2024-11-12T13:59:06.487Z"
      },
      {
        "duration": 0,
        "start_time": "2024-11-12T13:59:06.488Z"
      },
      {
        "duration": 0,
        "start_time": "2024-11-12T13:59:06.489Z"
      },
      {
        "duration": 0,
        "start_time": "2024-11-12T13:59:06.490Z"
      },
      {
        "duration": 0,
        "start_time": "2024-11-12T13:59:06.491Z"
      },
      {
        "duration": 0,
        "start_time": "2024-11-12T13:59:06.491Z"
      },
      {
        "duration": 0,
        "start_time": "2024-11-12T13:59:06.493Z"
      },
      {
        "duration": 0,
        "start_time": "2024-11-12T13:59:06.493Z"
      },
      {
        "duration": 0,
        "start_time": "2024-11-12T13:59:06.494Z"
      },
      {
        "duration": 0,
        "start_time": "2024-11-12T13:59:06.495Z"
      },
      {
        "duration": 0,
        "start_time": "2024-11-12T13:59:06.496Z"
      },
      {
        "duration": 2,
        "start_time": "2024-11-12T13:59:11.596Z"
      },
      {
        "duration": 6,
        "start_time": "2024-11-12T13:59:12.657Z"
      },
      {
        "duration": 5621,
        "start_time": "2024-11-12T13:59:19.722Z"
      },
      {
        "duration": 2405,
        "start_time": "2024-11-12T13:59:26.975Z"
      },
      {
        "duration": 7,
        "start_time": "2024-11-12T13:59:29.382Z"
      },
      {
        "duration": 17,
        "start_time": "2024-11-12T13:59:29.390Z"
      },
      {
        "duration": 3331,
        "start_time": "2024-11-12T13:59:29.408Z"
      },
      {
        "duration": 47,
        "start_time": "2024-11-12T13:59:32.741Z"
      },
      {
        "duration": 13,
        "start_time": "2024-11-12T13:59:32.790Z"
      },
      {
        "duration": 15,
        "start_time": "2024-11-12T13:59:32.804Z"
      },
      {
        "duration": 25,
        "start_time": "2024-11-12T13:59:32.820Z"
      },
      {
        "duration": 21,
        "start_time": "2024-11-12T13:59:32.847Z"
      },
      {
        "duration": 4,
        "start_time": "2024-11-12T13:59:32.870Z"
      },
      {
        "duration": 378,
        "start_time": "2024-11-12T13:59:32.875Z"
      },
      {
        "duration": 25,
        "start_time": "2024-11-12T13:59:33.255Z"
      },
      {
        "duration": 9,
        "start_time": "2024-11-12T13:59:33.282Z"
      },
      {
        "duration": 98,
        "start_time": "2024-11-12T13:59:33.292Z"
      },
      {
        "duration": 0,
        "start_time": "2024-11-12T13:59:33.392Z"
      },
      {
        "duration": 0,
        "start_time": "2024-11-12T13:59:33.393Z"
      },
      {
        "duration": 336,
        "start_time": "2024-11-12T14:13:48.733Z"
      },
      {
        "duration": 167,
        "start_time": "2024-11-12T14:13:54.709Z"
      },
      {
        "duration": 172,
        "start_time": "2024-11-12T14:16:58.087Z"
      },
      {
        "duration": 174,
        "start_time": "2024-11-12T14:16:59.892Z"
      },
      {
        "duration": 2468,
        "start_time": "2024-11-12T14:17:42.274Z"
      },
      {
        "duration": 64,
        "start_time": "2024-11-12T14:17:44.744Z"
      },
      {
        "duration": 8,
        "start_time": "2024-11-12T14:17:44.809Z"
      },
      {
        "duration": 766,
        "start_time": "2024-11-12T14:17:44.818Z"
      },
      {
        "duration": 51,
        "start_time": "2024-11-12T14:17:45.586Z"
      },
      {
        "duration": 11,
        "start_time": "2024-11-12T14:17:45.638Z"
      },
      {
        "duration": 7,
        "start_time": "2024-11-12T14:17:45.651Z"
      },
      {
        "duration": 6,
        "start_time": "2024-11-12T14:17:45.660Z"
      },
      {
        "duration": 17,
        "start_time": "2024-11-12T14:17:45.668Z"
      },
      {
        "duration": 5,
        "start_time": "2024-11-12T14:17:45.686Z"
      },
      {
        "duration": 309,
        "start_time": "2024-11-12T14:17:45.720Z"
      },
      {
        "duration": 18,
        "start_time": "2024-11-12T14:17:46.031Z"
      },
      {
        "duration": 8,
        "start_time": "2024-11-12T14:17:46.051Z"
      },
      {
        "duration": 3372,
        "start_time": "2024-11-12T14:17:46.061Z"
      },
      {
        "duration": 80,
        "start_time": "2024-11-12T14:17:49.434Z"
      },
      {
        "duration": 0,
        "start_time": "2024-11-12T14:17:49.516Z"
      },
      {
        "duration": 3288,
        "start_time": "2024-11-12T14:48:59.350Z"
      },
      {
        "duration": 413,
        "start_time": "2024-11-12T14:49:48.943Z"
      },
      {
        "duration": 453,
        "start_time": "2024-11-12T14:49:51.000Z"
      },
      {
        "duration": 6013,
        "start_time": "2024-11-12T16:29:05.748Z"
      },
      {
        "duration": 1770,
        "start_time": "2024-11-12T16:29:11.764Z"
      },
      {
        "duration": 120,
        "start_time": "2024-11-12T16:29:13.536Z"
      },
      {
        "duration": 1465,
        "start_time": "2024-11-12T16:29:13.659Z"
      },
      {
        "duration": 48,
        "start_time": "2024-11-12T16:29:15.126Z"
      },
      {
        "duration": 18,
        "start_time": "2024-11-12T16:29:15.176Z"
      },
      {
        "duration": 25,
        "start_time": "2024-11-12T16:29:15.196Z"
      },
      {
        "duration": 48,
        "start_time": "2024-11-12T16:29:15.222Z"
      },
      {
        "duration": 53,
        "start_time": "2024-11-12T16:29:15.272Z"
      },
      {
        "duration": 7,
        "start_time": "2024-11-12T16:29:15.328Z"
      },
      {
        "duration": 419,
        "start_time": "2024-11-12T16:29:15.337Z"
      },
      {
        "duration": 24,
        "start_time": "2024-11-12T16:29:15.758Z"
      },
      {
        "duration": 12,
        "start_time": "2024-11-12T16:29:15.785Z"
      },
      {
        "duration": 669,
        "start_time": "2024-11-12T16:29:15.799Z"
      },
      {
        "duration": 186,
        "start_time": "2024-11-12T16:29:16.470Z"
      },
      {
        "duration": 0,
        "start_time": "2024-11-12T16:29:16.664Z"
      },
      {
        "duration": 499,
        "start_time": "2024-11-12T16:29:28.905Z"
      },
      {
        "duration": 562,
        "start_time": "2024-11-12T16:29:33.241Z"
      },
      {
        "duration": 1239,
        "start_time": "2024-11-12T16:55:33.649Z"
      },
      {
        "duration": 1249,
        "start_time": "2024-11-12T16:55:35.255Z"
      },
      {
        "duration": 5950,
        "start_time": "2024-11-12T20:41:22.812Z"
      },
      {
        "duration": 1942,
        "start_time": "2024-11-12T20:41:28.765Z"
      },
      {
        "duration": 81,
        "start_time": "2024-11-12T20:41:30.710Z"
      },
      {
        "duration": 3385,
        "start_time": "2024-11-12T20:41:30.793Z"
      },
      {
        "duration": 61,
        "start_time": "2024-11-12T20:41:34.180Z"
      },
      {
        "duration": 14,
        "start_time": "2024-11-12T20:41:34.243Z"
      },
      {
        "duration": 14,
        "start_time": "2024-11-12T20:41:34.259Z"
      },
      {
        "duration": 10,
        "start_time": "2024-11-12T20:41:34.297Z"
      },
      {
        "duration": 20,
        "start_time": "2024-11-12T20:41:34.311Z"
      },
      {
        "duration": 5,
        "start_time": "2024-11-12T20:41:34.335Z"
      },
      {
        "duration": 408,
        "start_time": "2024-11-12T20:41:34.342Z"
      },
      {
        "duration": 53,
        "start_time": "2024-11-12T20:41:34.752Z"
      },
      {
        "duration": 16,
        "start_time": "2024-11-12T20:41:34.807Z"
      },
      {
        "duration": 668,
        "start_time": "2024-11-12T20:41:34.825Z"
      },
      {
        "duration": 1391,
        "start_time": "2024-11-12T20:41:35.495Z"
      },
      {
        "duration": 174,
        "start_time": "2024-11-12T20:41:36.888Z"
      },
      {
        "duration": 0,
        "start_time": "2024-11-12T20:41:37.064Z"
      },
      {
        "duration": 0,
        "start_time": "2024-11-12T20:41:37.065Z"
      },
      {
        "duration": 28,
        "start_time": "2024-11-12T20:41:42.364Z"
      },
      {
        "duration": 0,
        "start_time": "2024-11-12T20:42:02.268Z"
      },
      {
        "duration": 1751,
        "start_time": "2024-11-12T20:42:08.902Z"
      },
      {
        "duration": 801,
        "start_time": "2024-11-12T20:53:46.749Z"
      },
      {
        "duration": 743,
        "start_time": "2024-11-12T20:53:50.668Z"
      },
      {
        "duration": 1631,
        "start_time": "2024-11-12T20:56:28.383Z"
      },
      {
        "duration": 1632,
        "start_time": "2024-11-12T20:56:30.458Z"
      },
      {
        "duration": 1501,
        "start_time": "2024-11-12T20:58:45.970Z"
      },
      {
        "duration": 1710,
        "start_time": "2024-11-12T20:58:50.538Z"
      },
      {
        "duration": 1017,
        "start_time": "2024-11-12T21:20:31.830Z"
      },
      {
        "duration": 900,
        "start_time": "2024-11-12T21:20:35.799Z"
      },
      {
        "duration": 1205,
        "start_time": "2024-11-12T21:20:47.286Z"
      },
      {
        "duration": 1419,
        "start_time": "2024-11-12T21:20:49.366Z"
      },
      {
        "duration": 2955,
        "start_time": "2024-11-12T21:24:30.329Z"
      },
      {
        "duration": 3244,
        "start_time": "2024-11-12T21:24:34.916Z"
      },
      {
        "duration": 4224,
        "start_time": "2024-11-12T21:27:07.739Z"
      },
      {
        "duration": 3990,
        "start_time": "2024-11-12T21:27:20.627Z"
      },
      {
        "duration": 4066,
        "start_time": "2024-11-12T21:30:23.707Z"
      },
      {
        "duration": 3857,
        "start_time": "2024-11-12T21:30:30.267Z"
      },
      {
        "duration": 1724,
        "start_time": "2024-11-13T11:26:02.646Z"
      },
      {
        "duration": 16,
        "start_time": "2024-11-13T11:26:04.512Z"
      },
      {
        "duration": 6647,
        "start_time": "2024-11-13T11:26:10.450Z"
      },
      {
        "duration": 665,
        "start_time": "2024-11-13T11:26:17.099Z"
      },
      {
        "duration": 441,
        "start_time": "2024-11-13T11:26:17.765Z"
      },
      {
        "duration": 3347,
        "start_time": "2024-11-13T11:26:18.208Z"
      },
      {
        "duration": 50,
        "start_time": "2024-11-13T11:26:21.565Z"
      },
      {
        "duration": 13,
        "start_time": "2024-11-13T11:26:21.616Z"
      },
      {
        "duration": 10,
        "start_time": "2024-11-13T11:26:21.630Z"
      },
      {
        "duration": 14,
        "start_time": "2024-11-13T11:26:21.652Z"
      },
      {
        "duration": 19,
        "start_time": "2024-11-13T11:26:21.668Z"
      },
      {
        "duration": 21,
        "start_time": "2024-11-13T11:26:21.689Z"
      },
      {
        "duration": 420,
        "start_time": "2024-11-13T11:26:21.712Z"
      },
      {
        "duration": 29,
        "start_time": "2024-11-13T11:26:22.134Z"
      },
      {
        "duration": 53,
        "start_time": "2024-11-13T11:26:22.167Z"
      },
      {
        "duration": 3978,
        "start_time": "2024-11-13T11:26:22.223Z"
      },
      {
        "duration": 1433,
        "start_time": "2024-11-13T11:26:26.203Z"
      },
      {
        "duration": 3922,
        "start_time": "2024-11-13T11:26:27.638Z"
      },
      {
        "duration": 3844,
        "start_time": "2024-11-13T11:26:31.568Z"
      },
      {
        "duration": 131,
        "start_time": "2024-11-13T11:26:35.413Z"
      },
      {
        "duration": 0,
        "start_time": "2024-11-13T11:26:35.545Z"
      },
      {
        "duration": 3962,
        "start_time": "2024-11-13T11:26:41.919Z"
      },
      {
        "duration": 3808,
        "start_time": "2024-11-13T11:26:54.380Z"
      },
      {
        "duration": 3546,
        "start_time": "2024-11-13T11:36:18.978Z"
      },
      {
        "duration": 0,
        "start_time": "2024-11-13T11:36:22.526Z"
      },
      {
        "duration": 1368,
        "start_time": "2024-11-13T11:36:27.224Z"
      },
      {
        "duration": 3649,
        "start_time": "2024-11-13T11:36:46.055Z"
      },
      {
        "duration": 4060,
        "start_time": "2024-11-13T11:38:12.055Z"
      },
      {
        "duration": 1412,
        "start_time": "2024-11-13T11:38:17.417Z"
      },
      {
        "duration": 4289,
        "start_time": "2024-11-13T11:39:11.737Z"
      },
      {
        "duration": 4230,
        "start_time": "2024-11-13T11:39:45.714Z"
      },
      {
        "duration": 4248,
        "start_time": "2024-11-13T11:40:01.260Z"
      },
      {
        "duration": 4262,
        "start_time": "2024-11-13T11:42:19.418Z"
      },
      {
        "duration": 4340,
        "start_time": "2024-11-13T11:42:28.752Z"
      },
      {
        "duration": 4419,
        "start_time": "2024-11-13T11:42:45.724Z"
      },
      {
        "duration": 4649,
        "start_time": "2024-11-13T11:45:20.377Z"
      },
      {
        "duration": 4365,
        "start_time": "2024-11-13T11:45:32.072Z"
      },
      {
        "duration": 4702,
        "start_time": "2024-11-13T11:45:41.272Z"
      },
      {
        "duration": 4804,
        "start_time": "2024-11-13T11:46:12.760Z"
      },
      {
        "duration": 4714,
        "start_time": "2024-11-13T11:47:20.380Z"
      },
      {
        "duration": 4294,
        "start_time": "2024-11-13T11:47:29.369Z"
      },
      {
        "duration": 4614,
        "start_time": "2024-11-13T11:47:57.108Z"
      },
      {
        "duration": 4776,
        "start_time": "2024-11-13T11:50:23.097Z"
      },
      {
        "duration": 4447,
        "start_time": "2024-11-13T11:50:28.868Z"
      },
      {
        "duration": 42,
        "start_time": "2024-11-13T12:02:24.045Z"
      },
      {
        "duration": 23,
        "start_time": "2024-11-13T12:02:25.789Z"
      },
      {
        "duration": 41,
        "start_time": "2024-11-13T12:05:44.121Z"
      },
      {
        "duration": 5,
        "start_time": "2024-11-13T12:06:04.279Z"
      },
      {
        "duration": 3047,
        "start_time": "2024-11-13T12:06:15.775Z"
      },
      {
        "duration": 8,
        "start_time": "2024-11-13T12:06:18.825Z"
      },
      {
        "duration": 46,
        "start_time": "2024-11-13T12:06:18.834Z"
      },
      {
        "duration": 1026,
        "start_time": "2024-11-13T12:06:18.882Z"
      },
      {
        "duration": 68,
        "start_time": "2024-11-13T12:06:19.910Z"
      },
      {
        "duration": 14,
        "start_time": "2024-11-13T12:06:19.981Z"
      },
      {
        "duration": 67,
        "start_time": "2024-11-13T12:06:19.997Z"
      },
      {
        "duration": 45,
        "start_time": "2024-11-13T12:06:20.066Z"
      },
      {
        "duration": 63,
        "start_time": "2024-11-13T12:06:20.113Z"
      },
      {
        "duration": 6,
        "start_time": "2024-11-13T12:06:20.178Z"
      },
      {
        "duration": 418,
        "start_time": "2024-11-13T12:06:20.185Z"
      },
      {
        "duration": 54,
        "start_time": "2024-11-13T12:06:20.605Z"
      },
      {
        "duration": 10,
        "start_time": "2024-11-13T12:06:20.665Z"
      },
      {
        "duration": 5315,
        "start_time": "2024-11-13T12:06:20.679Z"
      },
      {
        "duration": 346,
        "start_time": "2024-11-13T12:06:25.996Z"
      },
      {
        "duration": 0,
        "start_time": "2024-11-13T12:06:26.360Z"
      },
      {
        "duration": 0,
        "start_time": "2024-11-13T12:06:26.361Z"
      },
      {
        "duration": 0,
        "start_time": "2024-11-13T12:06:26.361Z"
      },
      {
        "duration": 21,
        "start_time": "2024-11-13T12:08:34.994Z"
      },
      {
        "duration": 30,
        "start_time": "2024-11-13T12:08:37.628Z"
      },
      {
        "duration": 5,
        "start_time": "2024-11-13T12:08:48.837Z"
      },
      {
        "duration": 6,
        "start_time": "2024-11-13T12:10:46.343Z"
      },
      {
        "duration": 389,
        "start_time": "2024-11-13T12:20:40.020Z"
      },
      {
        "duration": 734,
        "start_time": "2024-11-13T12:20:43.683Z"
      },
      {
        "duration": 1120,
        "start_time": "2024-11-13T12:21:17.857Z"
      },
      {
        "duration": 611,
        "start_time": "2024-11-13T12:21:25.325Z"
      },
      {
        "duration": 690,
        "start_time": "2024-11-13T12:21:29.647Z"
      },
      {
        "duration": 614,
        "start_time": "2024-11-13T12:22:57.105Z"
      },
      {
        "duration": 632,
        "start_time": "2024-11-13T12:23:00.999Z"
      },
      {
        "duration": 344,
        "start_time": "2024-11-13T12:24:49.108Z"
      },
      {
        "duration": 346,
        "start_time": "2024-11-13T12:24:53.381Z"
      },
      {
        "duration": 870,
        "start_time": "2024-11-13T12:29:44.382Z"
      },
      {
        "duration": 1102,
        "start_time": "2024-11-13T12:29:46.997Z"
      },
      {
        "duration": 830,
        "start_time": "2024-11-13T12:34:17.496Z"
      },
      {
        "duration": 809,
        "start_time": "2024-11-13T12:34:19.787Z"
      },
      {
        "duration": 819,
        "start_time": "2024-11-13T12:42:12.384Z"
      },
      {
        "duration": 1055,
        "start_time": "2024-11-13T12:42:45.412Z"
      },
      {
        "duration": 839,
        "start_time": "2024-11-13T12:47:31.116Z"
      },
      {
        "duration": 2371,
        "start_time": "2024-11-13T12:49:26.132Z"
      },
      {
        "duration": 502,
        "start_time": "2024-11-13T12:49:30.438Z"
      },
      {
        "duration": 390,
        "start_time": "2024-11-13T12:50:20.916Z"
      },
      {
        "duration": 641,
        "start_time": "2024-11-13T12:50:22.983Z"
      },
      {
        "duration": 511,
        "start_time": "2024-11-13T12:51:57.814Z"
      },
      {
        "duration": 488,
        "start_time": "2024-11-13T12:52:02.048Z"
      },
      {
        "duration": 484,
        "start_time": "2024-11-13T12:52:30.201Z"
      },
      {
        "duration": 455,
        "start_time": "2024-11-13T12:52:32.761Z"
      },
      {
        "duration": 682,
        "start_time": "2024-11-13T12:52:57.717Z"
      },
      {
        "duration": 6456,
        "start_time": "2024-11-13T15:21:05.705Z"
      },
      {
        "duration": 1568,
        "start_time": "2024-11-13T15:21:12.163Z"
      },
      {
        "duration": 106,
        "start_time": "2024-11-13T15:21:13.733Z"
      },
      {
        "duration": 1455,
        "start_time": "2024-11-13T15:21:13.841Z"
      },
      {
        "duration": 49,
        "start_time": "2024-11-13T15:21:15.298Z"
      },
      {
        "duration": 12,
        "start_time": "2024-11-13T15:21:15.349Z"
      },
      {
        "duration": 31,
        "start_time": "2024-11-13T15:21:15.362Z"
      },
      {
        "duration": 21,
        "start_time": "2024-11-13T15:21:15.395Z"
      },
      {
        "duration": 18,
        "start_time": "2024-11-13T15:21:15.418Z"
      },
      {
        "duration": 5,
        "start_time": "2024-11-13T15:21:15.438Z"
      },
      {
        "duration": 364,
        "start_time": "2024-11-13T15:21:15.445Z"
      },
      {
        "duration": 22,
        "start_time": "2024-11-13T15:21:15.810Z"
      },
      {
        "duration": 37,
        "start_time": "2024-11-13T15:21:15.834Z"
      },
      {
        "duration": 3692,
        "start_time": "2024-11-13T15:21:15.873Z"
      },
      {
        "duration": 19,
        "start_time": "2024-11-13T15:21:19.566Z"
      },
      {
        "duration": 18,
        "start_time": "2024-11-13T15:21:19.586Z"
      },
      {
        "duration": 129,
        "start_time": "2024-11-13T15:21:19.606Z"
      },
      {
        "duration": 0,
        "start_time": "2024-11-13T15:21:19.737Z"
      },
      {
        "duration": 0,
        "start_time": "2024-11-13T15:21:19.739Z"
      },
      {
        "duration": 0,
        "start_time": "2024-11-13T15:21:19.740Z"
      },
      {
        "duration": 0,
        "start_time": "2024-11-13T15:21:19.741Z"
      },
      {
        "duration": 0,
        "start_time": "2024-11-13T15:21:19.742Z"
      },
      {
        "duration": 914,
        "start_time": "2024-11-13T15:21:24.585Z"
      },
      {
        "duration": 126,
        "start_time": "2024-11-13T15:21:28.846Z"
      },
      {
        "duration": 26,
        "start_time": "2024-11-13T15:21:31.364Z"
      },
      {
        "duration": 473,
        "start_time": "2024-11-13T15:21:59.534Z"
      },
      {
        "duration": 471,
        "start_time": "2024-11-13T15:22:13.964Z"
      },
      {
        "duration": 821,
        "start_time": "2024-11-13T15:24:50.191Z"
      },
      {
        "duration": 909,
        "start_time": "2024-11-13T15:24:51.913Z"
      },
      {
        "duration": 437,
        "start_time": "2024-11-13T15:25:21.126Z"
      },
      {
        "duration": 404,
        "start_time": "2024-11-13T15:25:39.856Z"
      },
      {
        "duration": 388,
        "start_time": "2024-11-13T15:25:51.438Z"
      },
      {
        "duration": 450,
        "start_time": "2024-11-13T15:25:53.388Z"
      },
      {
        "duration": 413,
        "start_time": "2024-11-13T15:26:02.866Z"
      },
      {
        "duration": 689,
        "start_time": "2024-11-13T19:36:22.433Z"
      },
      {
        "duration": 665,
        "start_time": "2024-11-13T19:36:31.254Z"
      },
      {
        "duration": 794,
        "start_time": "2024-11-13T19:36:52.454Z"
      },
      {
        "duration": 1030,
        "start_time": "2024-11-13T19:37:55.156Z"
      },
      {
        "duration": 1603,
        "start_time": "2024-11-13T19:39:47.401Z"
      },
      {
        "duration": 1669,
        "start_time": "2024-11-13T19:39:50.278Z"
      },
      {
        "duration": 472,
        "start_time": "2024-11-13T19:43:18.270Z"
      },
      {
        "duration": 414,
        "start_time": "2024-11-13T19:43:21.000Z"
      },
      {
        "duration": 410,
        "start_time": "2024-11-13T19:43:29.025Z"
      },
      {
        "duration": 83,
        "start_time": "2024-11-13T19:59:25.142Z"
      },
      {
        "duration": 73,
        "start_time": "2024-11-13T19:59:27.315Z"
      },
      {
        "duration": 57,
        "start_time": "2024-11-13T20:00:18.154Z"
      },
      {
        "duration": 54,
        "start_time": "2024-11-13T20:00:19.956Z"
      },
      {
        "duration": 2064,
        "start_time": "2024-11-13T20:01:52.614Z"
      },
      {
        "duration": 2377,
        "start_time": "2024-11-13T20:01:56.103Z"
      },
      {
        "duration": 913,
        "start_time": "2024-11-13T20:08:54.893Z"
      },
      {
        "duration": 784,
        "start_time": "2024-11-13T20:08:57.195Z"
      },
      {
        "duration": 759,
        "start_time": "2024-11-13T20:09:57.636Z"
      },
      {
        "duration": 883,
        "start_time": "2024-11-13T20:10:43.279Z"
      },
      {
        "duration": 751,
        "start_time": "2024-11-13T20:10:45.113Z"
      },
      {
        "duration": 1569,
        "start_time": "2024-11-13T20:11:38.827Z"
      },
      {
        "duration": 1506,
        "start_time": "2024-11-13T20:11:41.979Z"
      },
      {
        "duration": 837,
        "start_time": "2024-11-13T20:19:57.908Z"
      },
      {
        "duration": 671,
        "start_time": "2024-11-13T20:20:01.558Z"
      },
      {
        "duration": 410,
        "start_time": "2024-11-13T20:20:57.809Z"
      },
      {
        "duration": 786,
        "start_time": "2024-11-13T20:23:35.440Z"
      },
      {
        "duration": 807,
        "start_time": "2024-11-13T20:23:42.151Z"
      },
      {
        "duration": 419,
        "start_time": "2024-11-13T20:23:45.658Z"
      },
      {
        "duration": 545,
        "start_time": "2024-11-13T20:26:59.159Z"
      },
      {
        "duration": 740,
        "start_time": "2024-11-13T20:27:09.445Z"
      },
      {
        "duration": 711,
        "start_time": "2024-11-13T20:27:11.424Z"
      },
      {
        "duration": 685,
        "start_time": "2024-11-13T20:30:25.028Z"
      },
      {
        "duration": 788,
        "start_time": "2024-11-13T20:30:57.296Z"
      },
      {
        "duration": 665,
        "start_time": "2024-11-13T20:30:59.097Z"
      },
      {
        "duration": 677,
        "start_time": "2024-11-13T20:31:11.148Z"
      },
      {
        "duration": 705,
        "start_time": "2024-11-13T20:32:32.725Z"
      },
      {
        "duration": 821,
        "start_time": "2024-11-13T20:32:34.812Z"
      },
      {
        "duration": 18,
        "start_time": "2024-11-13T20:38:30.216Z"
      },
      {
        "duration": 7,
        "start_time": "2024-11-13T20:38:32.266Z"
      },
      {
        "duration": 2626,
        "start_time": "2024-11-13T20:38:40.180Z"
      },
      {
        "duration": 7,
        "start_time": "2024-11-13T20:38:42.809Z"
      },
      {
        "duration": 9,
        "start_time": "2024-11-13T20:38:42.819Z"
      },
      {
        "duration": 1323,
        "start_time": "2024-11-13T20:38:42.830Z"
      },
      {
        "duration": 66,
        "start_time": "2024-11-13T20:38:44.155Z"
      },
      {
        "duration": 14,
        "start_time": "2024-11-13T20:38:44.223Z"
      },
      {
        "duration": 11,
        "start_time": "2024-11-13T20:38:44.239Z"
      },
      {
        "duration": 8,
        "start_time": "2024-11-13T20:38:44.251Z"
      },
      {
        "duration": 45,
        "start_time": "2024-11-13T20:38:44.261Z"
      },
      {
        "duration": 5,
        "start_time": "2024-11-13T20:38:44.308Z"
      },
      {
        "duration": 376,
        "start_time": "2024-11-13T20:38:44.314Z"
      },
      {
        "duration": 26,
        "start_time": "2024-11-13T20:38:44.692Z"
      },
      {
        "duration": 10,
        "start_time": "2024-11-13T20:38:44.720Z"
      },
      {
        "duration": 3804,
        "start_time": "2024-11-13T20:38:44.732Z"
      },
      {
        "duration": 17,
        "start_time": "2024-11-13T20:38:48.538Z"
      },
      {
        "duration": 14,
        "start_time": "2024-11-13T20:38:48.556Z"
      },
      {
        "duration": 1632,
        "start_time": "2024-11-13T20:38:48.572Z"
      },
      {
        "duration": 728,
        "start_time": "2024-11-13T20:38:50.206Z"
      },
      {
        "duration": 16,
        "start_time": "2024-11-13T20:38:50.936Z"
      },
      {
        "duration": 98,
        "start_time": "2024-11-13T20:38:50.953Z"
      },
      {
        "duration": 0,
        "start_time": "2024-11-13T20:38:51.053Z"
      },
      {
        "duration": 1496,
        "start_time": "2024-11-13T20:58:38.292Z"
      },
      {
        "duration": 128,
        "start_time": "2024-11-13T20:59:25.002Z"
      },
      {
        "duration": 119,
        "start_time": "2024-11-13T20:59:27.350Z"
      },
      {
        "duration": 144,
        "start_time": "2024-11-13T20:59:36.823Z"
      },
      {
        "duration": 16,
        "start_time": "2024-11-13T21:00:21.167Z"
      },
      {
        "duration": 20,
        "start_time": "2024-11-13T21:03:13.482Z"
      },
      {
        "duration": 6276,
        "start_time": "2024-11-14T06:27:29.573Z"
      },
      {
        "duration": 1736,
        "start_time": "2024-11-14T06:27:35.851Z"
      },
      {
        "duration": 119,
        "start_time": "2024-11-14T06:27:37.589Z"
      },
      {
        "duration": 1465,
        "start_time": "2024-11-14T06:27:37.709Z"
      },
      {
        "duration": 49,
        "start_time": "2024-11-14T06:27:39.177Z"
      },
      {
        "duration": 26,
        "start_time": "2024-11-14T06:27:39.228Z"
      },
      {
        "duration": 10,
        "start_time": "2024-11-14T06:27:39.255Z"
      },
      {
        "duration": 9,
        "start_time": "2024-11-14T06:27:39.267Z"
      },
      {
        "duration": 20,
        "start_time": "2024-11-14T06:27:39.277Z"
      },
      {
        "duration": 6,
        "start_time": "2024-11-14T06:27:39.299Z"
      },
      {
        "duration": 397,
        "start_time": "2024-11-14T06:27:39.306Z"
      },
      {
        "duration": 27,
        "start_time": "2024-11-14T06:27:39.705Z"
      },
      {
        "duration": 9,
        "start_time": "2024-11-14T06:27:39.743Z"
      },
      {
        "duration": 4685,
        "start_time": "2024-11-14T06:27:39.755Z"
      },
      {
        "duration": 21,
        "start_time": "2024-11-14T06:27:44.442Z"
      },
      {
        "duration": 57,
        "start_time": "2024-11-14T06:27:44.465Z"
      },
      {
        "duration": 1741,
        "start_time": "2024-11-14T06:27:44.524Z"
      },
      {
        "duration": 889,
        "start_time": "2024-11-14T06:27:46.267Z"
      },
      {
        "duration": 410,
        "start_time": "2024-11-14T06:27:47.158Z"
      },
      {
        "duration": 133,
        "start_time": "2024-11-14T06:27:47.570Z"
      },
      {
        "duration": 0,
        "start_time": "2024-11-14T06:27:47.705Z"
      },
      {
        "duration": 0,
        "start_time": "2024-11-14T06:27:47.706Z"
      },
      {
        "duration": 0,
        "start_time": "2024-11-14T06:27:47.707Z"
      },
      {
        "duration": 458,
        "start_time": "2024-11-14T06:27:53.894Z"
      },
      {
        "duration": 1238,
        "start_time": "2024-11-14T06:30:28.396Z"
      },
      {
        "duration": 1031,
        "start_time": "2024-11-14T06:32:44.325Z"
      },
      {
        "duration": 1310,
        "start_time": "2024-11-14T06:32:47.031Z"
      },
      {
        "duration": 409,
        "start_time": "2024-11-14T06:42:56.105Z"
      },
      {
        "duration": 53,
        "start_time": "2024-11-14T06:43:09.382Z"
      },
      {
        "duration": 33,
        "start_time": "2024-11-14T06:43:12.995Z"
      },
      {
        "duration": 4302,
        "start_time": "2024-11-14T06:44:15.735Z"
      },
      {
        "duration": 19,
        "start_time": "2024-11-14T06:44:20.040Z"
      },
      {
        "duration": 31,
        "start_time": "2024-11-14T06:44:20.062Z"
      },
      {
        "duration": 877,
        "start_time": "2024-11-14T06:44:20.095Z"
      },
      {
        "duration": 50,
        "start_time": "2024-11-14T06:44:20.974Z"
      },
      {
        "duration": 27,
        "start_time": "2024-11-14T06:44:21.026Z"
      },
      {
        "duration": 15,
        "start_time": "2024-11-14T06:44:21.055Z"
      },
      {
        "duration": 102,
        "start_time": "2024-11-14T06:44:21.072Z"
      },
      {
        "duration": 20,
        "start_time": "2024-11-14T06:44:21.175Z"
      },
      {
        "duration": 19,
        "start_time": "2024-11-14T06:44:21.197Z"
      },
      {
        "duration": 457,
        "start_time": "2024-11-14T06:44:21.217Z"
      },
      {
        "duration": 22,
        "start_time": "2024-11-14T06:44:21.676Z"
      },
      {
        "duration": 45,
        "start_time": "2024-11-14T06:44:21.701Z"
      },
      {
        "duration": 4383,
        "start_time": "2024-11-14T06:44:21.752Z"
      },
      {
        "duration": 37,
        "start_time": "2024-11-14T06:44:26.136Z"
      },
      {
        "duration": 5,
        "start_time": "2024-11-14T06:44:26.175Z"
      },
      {
        "duration": 1783,
        "start_time": "2024-11-14T06:44:26.182Z"
      },
      {
        "duration": 47,
        "start_time": "2024-11-14T06:44:27.968Z"
      },
      {
        "duration": 17,
        "start_time": "2024-11-14T06:44:28.017Z"
      },
      {
        "duration": 0,
        "start_time": "2024-11-14T06:44:28.048Z"
      },
      {
        "duration": 0,
        "start_time": "2024-11-14T06:44:28.050Z"
      },
      {
        "duration": 0,
        "start_time": "2024-11-14T06:44:28.051Z"
      },
      {
        "duration": 771,
        "start_time": "2024-11-14T06:45:07.171Z"
      },
      {
        "duration": 972,
        "start_time": "2024-11-14T06:48:24.806Z"
      },
      {
        "duration": 767,
        "start_time": "2024-11-14T06:48:27.987Z"
      },
      {
        "duration": 785,
        "start_time": "2024-11-14T06:48:58.110Z"
      },
      {
        "duration": 815,
        "start_time": "2024-11-14T06:49:00.130Z"
      },
      {
        "duration": 1008,
        "start_time": "2024-11-14T06:50:48.128Z"
      },
      {
        "duration": 763,
        "start_time": "2024-11-14T06:50:51.263Z"
      },
      {
        "duration": 49,
        "start_time": "2024-11-14T07:29:27.359Z"
      },
      {
        "duration": 34,
        "start_time": "2024-11-14T07:29:45.443Z"
      },
      {
        "duration": 21,
        "start_time": "2024-11-14T07:29:52.495Z"
      },
      {
        "duration": 19,
        "start_time": "2024-11-14T07:29:55.769Z"
      },
      {
        "duration": 49,
        "start_time": "2024-11-14T07:32:29.036Z"
      },
      {
        "duration": 12,
        "start_time": "2024-11-14T07:33:56.704Z"
      },
      {
        "duration": 42,
        "start_time": "2024-11-14T07:34:31.750Z"
      },
      {
        "duration": 42,
        "start_time": "2024-11-14T07:37:08.827Z"
      },
      {
        "duration": 32,
        "start_time": "2024-11-14T07:37:10.774Z"
      },
      {
        "duration": 25,
        "start_time": "2024-11-14T07:39:12.332Z"
      },
      {
        "duration": 22,
        "start_time": "2024-11-14T07:56:45.826Z"
      },
      {
        "duration": 26,
        "start_time": "2024-11-14T07:57:27.591Z"
      },
      {
        "duration": 16,
        "start_time": "2024-11-14T07:57:40.555Z"
      },
      {
        "duration": 118,
        "start_time": "2024-11-14T07:57:56.119Z"
      },
      {
        "duration": 44,
        "start_time": "2024-11-14T07:58:04.096Z"
      },
      {
        "duration": 33,
        "start_time": "2024-11-14T07:58:20.802Z"
      },
      {
        "duration": 20,
        "start_time": "2024-11-14T07:58:29.739Z"
      },
      {
        "duration": 25,
        "start_time": "2024-11-14T08:01:59.458Z"
      },
      {
        "duration": 22,
        "start_time": "2024-11-14T08:02:10.707Z"
      },
      {
        "duration": 28,
        "start_time": "2024-11-14T08:03:54.127Z"
      },
      {
        "duration": 26,
        "start_time": "2024-11-14T08:05:34.910Z"
      },
      {
        "duration": 26,
        "start_time": "2024-11-14T08:05:37.386Z"
      },
      {
        "duration": 31,
        "start_time": "2024-11-14T08:16:09.601Z"
      },
      {
        "duration": 47,
        "start_time": "2024-11-14T08:18:52.994Z"
      },
      {
        "duration": 3417,
        "start_time": "2024-11-14T08:19:05.834Z"
      },
      {
        "duration": 10,
        "start_time": "2024-11-14T08:19:09.258Z"
      },
      {
        "duration": 14,
        "start_time": "2024-11-14T08:19:09.270Z"
      },
      {
        "duration": 1310,
        "start_time": "2024-11-14T08:19:09.286Z"
      },
      {
        "duration": 68,
        "start_time": "2024-11-14T08:19:10.599Z"
      },
      {
        "duration": 11,
        "start_time": "2024-11-14T08:19:10.669Z"
      },
      {
        "duration": 59,
        "start_time": "2024-11-14T08:19:10.682Z"
      },
      {
        "duration": 10,
        "start_time": "2024-11-14T08:19:10.747Z"
      },
      {
        "duration": 37,
        "start_time": "2024-11-14T08:19:10.760Z"
      },
      {
        "duration": 7,
        "start_time": "2024-11-14T08:19:10.799Z"
      },
      {
        "duration": 415,
        "start_time": "2024-11-14T08:19:10.808Z"
      },
      {
        "duration": 37,
        "start_time": "2024-11-14T08:19:11.225Z"
      },
      {
        "duration": 11,
        "start_time": "2024-11-14T08:19:11.266Z"
      },
      {
        "duration": 4476,
        "start_time": "2024-11-14T08:19:11.281Z"
      },
      {
        "duration": 21,
        "start_time": "2024-11-14T08:19:15.759Z"
      },
      {
        "duration": 35,
        "start_time": "2024-11-14T08:19:15.782Z"
      },
      {
        "duration": 1620,
        "start_time": "2024-11-14T08:19:15.819Z"
      },
      {
        "duration": 774,
        "start_time": "2024-11-14T08:19:17.441Z"
      },
      {
        "duration": 42,
        "start_time": "2024-11-14T08:19:18.217Z"
      },
      {
        "duration": 18,
        "start_time": "2024-11-14T08:19:18.262Z"
      },
      {
        "duration": 0,
        "start_time": "2024-11-14T08:19:18.282Z"
      },
      {
        "duration": 0,
        "start_time": "2024-11-14T08:19:18.283Z"
      },
      {
        "duration": 1,
        "start_time": "2024-11-14T08:19:18.284Z"
      },
      {
        "duration": 0,
        "start_time": "2024-11-14T08:19:18.286Z"
      },
      {
        "duration": 0,
        "start_time": "2024-11-14T08:19:18.287Z"
      },
      {
        "duration": 53,
        "start_time": "2024-11-14T08:21:49.035Z"
      },
      {
        "duration": 44,
        "start_time": "2024-11-14T08:21:50.857Z"
      },
      {
        "duration": 4751,
        "start_time": "2024-11-14T08:21:57.758Z"
      },
      {
        "duration": 14,
        "start_time": "2024-11-14T08:22:02.512Z"
      },
      {
        "duration": 26,
        "start_time": "2024-11-14T08:22:02.529Z"
      },
      {
        "duration": 1154,
        "start_time": "2024-11-14T08:22:02.557Z"
      },
      {
        "duration": 81,
        "start_time": "2024-11-14T08:22:03.714Z"
      },
      {
        "duration": 16,
        "start_time": "2024-11-14T08:22:03.796Z"
      },
      {
        "duration": 75,
        "start_time": "2024-11-14T08:22:03.814Z"
      },
      {
        "duration": 67,
        "start_time": "2024-11-14T08:22:03.891Z"
      },
      {
        "duration": 96,
        "start_time": "2024-11-14T08:22:03.964Z"
      },
      {
        "duration": 9,
        "start_time": "2024-11-14T08:22:04.063Z"
      },
      {
        "duration": 727,
        "start_time": "2024-11-14T08:22:04.078Z"
      },
      {
        "duration": 20,
        "start_time": "2024-11-14T08:22:04.808Z"
      },
      {
        "duration": 19,
        "start_time": "2024-11-14T08:22:04.851Z"
      },
      {
        "duration": 4838,
        "start_time": "2024-11-14T08:22:04.877Z"
      },
      {
        "duration": 39,
        "start_time": "2024-11-14T08:22:09.718Z"
      },
      {
        "duration": 8,
        "start_time": "2024-11-14T08:22:09.759Z"
      },
      {
        "duration": 2207,
        "start_time": "2024-11-14T08:22:09.769Z"
      },
      {
        "duration": 919,
        "start_time": "2024-11-14T08:22:11.983Z"
      },
      {
        "duration": 27,
        "start_time": "2024-11-14T08:22:12.904Z"
      },
      {
        "duration": 115,
        "start_time": "2024-11-14T08:22:12.932Z"
      },
      {
        "duration": 0,
        "start_time": "2024-11-14T08:22:13.049Z"
      },
      {
        "duration": 0,
        "start_time": "2024-11-14T08:22:13.051Z"
      },
      {
        "duration": 0,
        "start_time": "2024-11-14T08:22:13.053Z"
      },
      {
        "duration": 0,
        "start_time": "2024-11-14T08:22:13.060Z"
      },
      {
        "duration": 0,
        "start_time": "2024-11-14T08:22:13.061Z"
      },
      {
        "duration": 22,
        "start_time": "2024-11-14T08:51:23.385Z"
      },
      {
        "duration": 43,
        "start_time": "2024-11-14T09:26:05.657Z"
      },
      {
        "duration": 2641,
        "start_time": "2024-11-14T09:26:12.618Z"
      },
      {
        "duration": 8,
        "start_time": "2024-11-14T09:26:15.262Z"
      },
      {
        "duration": 41,
        "start_time": "2024-11-14T09:26:15.272Z"
      },
      {
        "duration": 1354,
        "start_time": "2024-11-14T09:26:15.315Z"
      },
      {
        "duration": 105,
        "start_time": "2024-11-14T09:26:16.672Z"
      },
      {
        "duration": 72,
        "start_time": "2024-11-14T09:26:16.779Z"
      },
      {
        "duration": 92,
        "start_time": "2024-11-14T09:26:16.853Z"
      },
      {
        "duration": 10,
        "start_time": "2024-11-14T09:26:16.947Z"
      },
      {
        "duration": 20,
        "start_time": "2024-11-14T09:26:16.959Z"
      },
      {
        "duration": 6,
        "start_time": "2024-11-14T09:26:16.980Z"
      },
      {
        "duration": 384,
        "start_time": "2024-11-14T09:26:16.998Z"
      },
      {
        "duration": 17,
        "start_time": "2024-11-14T09:26:17.383Z"
      },
      {
        "duration": 8,
        "start_time": "2024-11-14T09:26:17.402Z"
      },
      {
        "duration": 4153,
        "start_time": "2024-11-14T09:26:17.442Z"
      },
      {
        "duration": 18,
        "start_time": "2024-11-14T09:26:21.596Z"
      },
      {
        "duration": 17,
        "start_time": "2024-11-14T09:26:21.615Z"
      },
      {
        "duration": 1771,
        "start_time": "2024-11-14T09:26:21.634Z"
      },
      {
        "duration": 693,
        "start_time": "2024-11-14T09:26:23.407Z"
      },
      {
        "duration": 28,
        "start_time": "2024-11-14T09:26:24.102Z"
      },
      {
        "duration": 0,
        "start_time": "2024-11-14T09:26:24.143Z"
      },
      {
        "duration": 0,
        "start_time": "2024-11-14T09:26:24.145Z"
      },
      {
        "duration": 0,
        "start_time": "2024-11-14T09:26:24.147Z"
      },
      {
        "duration": 0,
        "start_time": "2024-11-14T09:26:24.148Z"
      },
      {
        "duration": 0,
        "start_time": "2024-11-14T09:26:24.149Z"
      },
      {
        "duration": 0,
        "start_time": "2024-11-14T09:26:24.151Z"
      },
      {
        "duration": 0,
        "start_time": "2024-11-14T09:26:24.153Z"
      },
      {
        "duration": 13,
        "start_time": "2024-11-14T09:26:58.483Z"
      },
      {
        "duration": 1837,
        "start_time": "2024-11-14T09:27:35.387Z"
      },
      {
        "duration": 28,
        "start_time": "2024-11-14T09:27:50.082Z"
      },
      {
        "duration": 27,
        "start_time": "2024-11-14T09:27:51.976Z"
      },
      {
        "duration": 37,
        "start_time": "2024-11-14T09:27:54.582Z"
      },
      {
        "duration": 2832,
        "start_time": "2024-11-14T09:28:01.337Z"
      },
      {
        "duration": 11,
        "start_time": "2024-11-14T09:28:04.172Z"
      },
      {
        "duration": 59,
        "start_time": "2024-11-14T09:28:04.184Z"
      },
      {
        "duration": 1194,
        "start_time": "2024-11-14T09:28:04.245Z"
      },
      {
        "duration": 49,
        "start_time": "2024-11-14T09:28:05.441Z"
      },
      {
        "duration": 11,
        "start_time": "2024-11-14T09:28:05.492Z"
      },
      {
        "duration": 34,
        "start_time": "2024-11-14T09:28:05.504Z"
      },
      {
        "duration": 31,
        "start_time": "2024-11-14T09:28:05.539Z"
      },
      {
        "duration": 60,
        "start_time": "2024-11-14T09:28:05.572Z"
      },
      {
        "duration": 24,
        "start_time": "2024-11-14T09:28:05.634Z"
      },
      {
        "duration": 392,
        "start_time": "2024-11-14T09:28:05.659Z"
      },
      {
        "duration": 24,
        "start_time": "2024-11-14T09:28:06.053Z"
      },
      {
        "duration": 36,
        "start_time": "2024-11-14T09:28:06.080Z"
      },
      {
        "duration": 3932,
        "start_time": "2024-11-14T09:28:06.120Z"
      },
      {
        "duration": 292,
        "start_time": "2024-11-14T09:28:10.054Z"
      },
      {
        "duration": 31,
        "start_time": "2024-11-14T09:28:10.348Z"
      },
      {
        "duration": 1673,
        "start_time": "2024-11-14T09:28:10.380Z"
      },
      {
        "duration": 736,
        "start_time": "2024-11-14T09:28:12.055Z"
      },
      {
        "duration": 50,
        "start_time": "2024-11-14T09:28:12.794Z"
      },
      {
        "duration": 21,
        "start_time": "2024-11-14T09:28:12.847Z"
      },
      {
        "duration": 0,
        "start_time": "2024-11-14T09:28:12.870Z"
      },
      {
        "duration": 0,
        "start_time": "2024-11-14T09:28:12.871Z"
      },
      {
        "duration": 0,
        "start_time": "2024-11-14T09:28:12.871Z"
      },
      {
        "duration": 0,
        "start_time": "2024-11-14T09:28:12.872Z"
      },
      {
        "duration": 0,
        "start_time": "2024-11-14T09:28:12.873Z"
      },
      {
        "duration": 0,
        "start_time": "2024-11-14T09:28:12.875Z"
      },
      {
        "duration": 16,
        "start_time": "2024-11-14T09:28:29.467Z"
      },
      {
        "duration": 13,
        "start_time": "2024-11-14T09:29:51.212Z"
      },
      {
        "duration": 14,
        "start_time": "2024-11-14T09:30:08.770Z"
      },
      {
        "duration": 7,
        "start_time": "2024-11-14T09:30:14.446Z"
      },
      {
        "duration": 31,
        "start_time": "2024-11-14T09:31:18.470Z"
      },
      {
        "duration": 28,
        "start_time": "2024-11-14T09:31:24.950Z"
      },
      {
        "duration": 2767,
        "start_time": "2024-11-14T09:31:39.729Z"
      },
      {
        "duration": 9,
        "start_time": "2024-11-14T09:31:42.499Z"
      },
      {
        "duration": 42,
        "start_time": "2024-11-14T09:31:42.509Z"
      },
      {
        "duration": 891,
        "start_time": "2024-11-14T09:31:42.553Z"
      },
      {
        "duration": 54,
        "start_time": "2024-11-14T09:31:43.446Z"
      },
      {
        "duration": 14,
        "start_time": "2024-11-14T09:31:43.501Z"
      },
      {
        "duration": 47,
        "start_time": "2024-11-14T09:31:43.517Z"
      },
      {
        "duration": 27,
        "start_time": "2024-11-14T09:31:43.566Z"
      },
      {
        "duration": 32,
        "start_time": "2024-11-14T09:31:43.595Z"
      },
      {
        "duration": 36,
        "start_time": "2024-11-14T09:31:43.629Z"
      },
      {
        "duration": 377,
        "start_time": "2024-11-14T09:31:43.667Z"
      },
      {
        "duration": 23,
        "start_time": "2024-11-14T09:31:44.046Z"
      },
      {
        "duration": 12,
        "start_time": "2024-11-14T09:31:44.071Z"
      },
      {
        "duration": 5126,
        "start_time": "2024-11-14T09:31:44.086Z"
      },
      {
        "duration": 29,
        "start_time": "2024-11-14T09:31:49.214Z"
      },
      {
        "duration": 8,
        "start_time": "2024-11-14T09:31:49.245Z"
      },
      {
        "duration": 1711,
        "start_time": "2024-11-14T09:31:49.255Z"
      },
      {
        "duration": 736,
        "start_time": "2024-11-14T09:31:50.968Z"
      },
      {
        "duration": 38,
        "start_time": "2024-11-14T09:31:51.706Z"
      },
      {
        "duration": 58,
        "start_time": "2024-11-14T09:31:51.746Z"
      },
      {
        "duration": 155,
        "start_time": "2024-11-14T09:31:51.806Z"
      },
      {
        "duration": 0,
        "start_time": "2024-11-14T09:31:51.963Z"
      },
      {
        "duration": 0,
        "start_time": "2024-11-14T09:31:51.965Z"
      },
      {
        "duration": 0,
        "start_time": "2024-11-14T09:31:51.967Z"
      },
      {
        "duration": 0,
        "start_time": "2024-11-14T09:31:51.969Z"
      },
      {
        "duration": 6,
        "start_time": "2024-11-14T10:01:18.904Z"
      },
      {
        "duration": 8,
        "start_time": "2024-11-14T10:02:04.357Z"
      },
      {
        "duration": 131,
        "start_time": "2024-11-14T10:05:06.058Z"
      },
      {
        "duration": 150,
        "start_time": "2024-11-14T10:10:08.418Z"
      },
      {
        "duration": 23,
        "start_time": "2024-11-14T10:10:15.888Z"
      },
      {
        "duration": 5552,
        "start_time": "2024-11-14T13:31:22.091Z"
      },
      {
        "duration": 1726,
        "start_time": "2024-11-14T13:31:27.645Z"
      },
      {
        "duration": 73,
        "start_time": "2024-11-14T13:31:29.372Z"
      },
      {
        "duration": 3456,
        "start_time": "2024-11-14T13:31:29.447Z"
      },
      {
        "duration": 54,
        "start_time": "2024-11-14T13:31:32.907Z"
      },
      {
        "duration": 12,
        "start_time": "2024-11-14T13:31:32.963Z"
      },
      {
        "duration": 10,
        "start_time": "2024-11-14T13:31:32.976Z"
      },
      {
        "duration": 12,
        "start_time": "2024-11-14T13:31:32.999Z"
      },
      {
        "duration": 22,
        "start_time": "2024-11-14T13:31:33.014Z"
      },
      {
        "duration": 5,
        "start_time": "2024-11-14T13:31:33.038Z"
      },
      {
        "duration": 425,
        "start_time": "2024-11-14T13:31:33.045Z"
      },
      {
        "duration": 36,
        "start_time": "2024-11-14T13:31:33.472Z"
      },
      {
        "duration": 12,
        "start_time": "2024-11-14T13:31:33.510Z"
      },
      {
        "duration": 4022,
        "start_time": "2024-11-14T13:31:33.526Z"
      },
      {
        "duration": 21,
        "start_time": "2024-11-14T13:31:37.549Z"
      },
      {
        "duration": 26,
        "start_time": "2024-11-14T13:31:37.572Z"
      },
      {
        "duration": 1769,
        "start_time": "2024-11-14T13:31:37.600Z"
      },
      {
        "duration": 904,
        "start_time": "2024-11-14T13:31:39.371Z"
      },
      {
        "duration": 39,
        "start_time": "2024-11-14T13:31:40.277Z"
      },
      {
        "duration": 22,
        "start_time": "2024-11-14T13:31:40.320Z"
      },
      {
        "duration": 143,
        "start_time": "2024-11-14T13:31:40.343Z"
      },
      {
        "duration": 0,
        "start_time": "2024-11-14T13:31:40.487Z"
      },
      {
        "duration": 0,
        "start_time": "2024-11-14T13:31:40.488Z"
      },
      {
        "duration": 45,
        "start_time": "2024-11-14T13:32:55.285Z"
      },
      {
        "duration": 29,
        "start_time": "2024-11-14T13:33:04.246Z"
      },
      {
        "duration": 2868,
        "start_time": "2024-11-14T13:33:10.801Z"
      },
      {
        "duration": 9,
        "start_time": "2024-11-14T13:33:13.672Z"
      },
      {
        "duration": 36,
        "start_time": "2024-11-14T13:33:13.682Z"
      },
      {
        "duration": 818,
        "start_time": "2024-11-14T13:33:13.720Z"
      },
      {
        "duration": 59,
        "start_time": "2024-11-14T13:33:14.540Z"
      },
      {
        "duration": 18,
        "start_time": "2024-11-14T13:33:14.602Z"
      },
      {
        "duration": 16,
        "start_time": "2024-11-14T13:33:14.622Z"
      },
      {
        "duration": 17,
        "start_time": "2024-11-14T13:33:14.640Z"
      },
      {
        "duration": 27,
        "start_time": "2024-11-14T13:33:14.658Z"
      },
      {
        "duration": 5,
        "start_time": "2024-11-14T13:33:14.688Z"
      },
      {
        "duration": 385,
        "start_time": "2024-11-14T13:33:14.698Z"
      },
      {
        "duration": 34,
        "start_time": "2024-11-14T13:33:15.085Z"
      },
      {
        "duration": 35,
        "start_time": "2024-11-14T13:33:15.122Z"
      },
      {
        "duration": 5560,
        "start_time": "2024-11-14T13:33:15.158Z"
      },
      {
        "duration": 19,
        "start_time": "2024-11-14T13:33:20.721Z"
      },
      {
        "duration": 43,
        "start_time": "2024-11-14T13:33:20.742Z"
      },
      {
        "duration": 1780,
        "start_time": "2024-11-14T13:33:20.786Z"
      },
      {
        "duration": 827,
        "start_time": "2024-11-14T13:33:22.568Z"
      },
      {
        "duration": 34,
        "start_time": "2024-11-14T13:33:23.397Z"
      },
      {
        "duration": 26,
        "start_time": "2024-11-14T13:33:23.433Z"
      },
      {
        "duration": 44,
        "start_time": "2024-11-14T13:33:23.461Z"
      },
      {
        "duration": 0,
        "start_time": "2024-11-14T13:33:23.508Z"
      },
      {
        "duration": 0,
        "start_time": "2024-11-14T13:33:23.510Z"
      },
      {
        "duration": 42,
        "start_time": "2024-11-14T13:34:15.587Z"
      },
      {
        "duration": 3825,
        "start_time": "2024-11-14T13:34:28.453Z"
      },
      {
        "duration": 10,
        "start_time": "2024-11-14T13:34:32.280Z"
      },
      {
        "duration": 25,
        "start_time": "2024-11-14T13:34:32.292Z"
      },
      {
        "duration": 863,
        "start_time": "2024-11-14T13:34:32.320Z"
      },
      {
        "duration": 60,
        "start_time": "2024-11-14T13:34:33.185Z"
      },
      {
        "duration": 11,
        "start_time": "2024-11-14T13:34:33.247Z"
      },
      {
        "duration": 17,
        "start_time": "2024-11-14T13:34:33.260Z"
      },
      {
        "duration": 52,
        "start_time": "2024-11-14T13:34:33.279Z"
      },
      {
        "duration": 26,
        "start_time": "2024-11-14T13:34:33.333Z"
      },
      {
        "duration": 8,
        "start_time": "2024-11-14T13:34:33.362Z"
      },
      {
        "duration": 386,
        "start_time": "2024-11-14T13:34:33.372Z"
      },
      {
        "duration": 39,
        "start_time": "2024-11-14T13:34:33.759Z"
      },
      {
        "duration": 46,
        "start_time": "2024-11-14T13:34:33.800Z"
      },
      {
        "duration": 4213,
        "start_time": "2024-11-14T13:34:33.848Z"
      },
      {
        "duration": 19,
        "start_time": "2024-11-14T13:34:38.063Z"
      },
      {
        "duration": 31,
        "start_time": "2024-11-14T13:34:38.084Z"
      },
      {
        "duration": 1779,
        "start_time": "2024-11-14T13:34:38.119Z"
      },
      {
        "duration": 1090,
        "start_time": "2024-11-14T13:34:39.901Z"
      },
      {
        "duration": 41,
        "start_time": "2024-11-14T13:34:40.993Z"
      },
      {
        "duration": 20,
        "start_time": "2024-11-14T13:34:41.036Z"
      },
      {
        "duration": 41,
        "start_time": "2024-11-14T13:34:41.058Z"
      },
      {
        "duration": 0,
        "start_time": "2024-11-14T13:34:41.102Z"
      },
      {
        "duration": 0,
        "start_time": "2024-11-14T13:34:41.105Z"
      },
      {
        "duration": 9,
        "start_time": "2024-11-14T13:37:11.274Z"
      },
      {
        "duration": 9,
        "start_time": "2024-11-14T13:37:12.058Z"
      },
      {
        "duration": 4253,
        "start_time": "2024-11-14T13:37:40.907Z"
      },
      {
        "duration": 25,
        "start_time": "2024-11-14T13:37:59.428Z"
      },
      {
        "duration": 6,
        "start_time": "2024-11-14T13:38:00.175Z"
      },
      {
        "duration": 29,
        "start_time": "2024-11-14T13:38:09.098Z"
      },
      {
        "duration": 6,
        "start_time": "2024-11-14T13:38:10.101Z"
      },
      {
        "duration": 3720,
        "start_time": "2024-11-14T13:38:19.370Z"
      },
      {
        "duration": 11,
        "start_time": "2024-11-14T13:38:23.093Z"
      },
      {
        "duration": 17,
        "start_time": "2024-11-14T13:38:23.106Z"
      },
      {
        "duration": 728,
        "start_time": "2024-11-14T13:38:23.126Z"
      },
      {
        "duration": 70,
        "start_time": "2024-11-14T13:38:23.856Z"
      },
      {
        "duration": 12,
        "start_time": "2024-11-14T13:38:23.928Z"
      },
      {
        "duration": 9,
        "start_time": "2024-11-14T13:38:23.942Z"
      },
      {
        "duration": 7,
        "start_time": "2024-11-14T13:38:23.953Z"
      },
      {
        "duration": 50,
        "start_time": "2024-11-14T13:38:23.962Z"
      },
      {
        "duration": 10,
        "start_time": "2024-11-14T13:38:24.014Z"
      },
      {
        "duration": 4333,
        "start_time": "2024-11-14T13:38:24.026Z"
      },
      {
        "duration": 44,
        "start_time": "2024-11-14T13:38:28.361Z"
      },
      {
        "duration": 8,
        "start_time": "2024-11-14T13:38:28.414Z"
      },
      {
        "duration": 1713,
        "start_time": "2024-11-14T13:38:28.426Z"
      },
      {
        "duration": 750,
        "start_time": "2024-11-14T13:38:30.141Z"
      },
      {
        "duration": 918,
        "start_time": "2024-11-14T13:38:30.893Z"
      },
      {
        "duration": 0,
        "start_time": "2024-11-14T13:38:31.814Z"
      },
      {
        "duration": 0,
        "start_time": "2024-11-14T13:38:31.816Z"
      },
      {
        "duration": 0,
        "start_time": "2024-11-14T13:38:31.818Z"
      },
      {
        "duration": 0,
        "start_time": "2024-11-14T13:38:31.819Z"
      },
      {
        "duration": 29,
        "start_time": "2024-11-14T13:39:08.566Z"
      },
      {
        "duration": 6,
        "start_time": "2024-11-14T13:39:59.786Z"
      },
      {
        "duration": 7,
        "start_time": "2024-11-14T13:40:02.488Z"
      },
      {
        "duration": 3844,
        "start_time": "2024-11-14T13:40:12.616Z"
      },
      {
        "duration": 9,
        "start_time": "2024-11-14T13:40:16.463Z"
      },
      {
        "duration": 23,
        "start_time": "2024-11-14T13:40:16.474Z"
      },
      {
        "duration": 827,
        "start_time": "2024-11-14T13:40:16.499Z"
      },
      {
        "duration": 75,
        "start_time": "2024-11-14T13:40:17.329Z"
      },
      {
        "duration": 17,
        "start_time": "2024-11-14T13:40:17.407Z"
      },
      {
        "duration": 10,
        "start_time": "2024-11-14T13:40:17.429Z"
      },
      {
        "duration": 18,
        "start_time": "2024-11-14T13:40:17.441Z"
      },
      {
        "duration": 50,
        "start_time": "2024-11-14T13:40:17.461Z"
      },
      {
        "duration": 11,
        "start_time": "2024-11-14T13:40:17.514Z"
      },
      {
        "duration": 4362,
        "start_time": "2024-11-14T13:40:17.527Z"
      },
      {
        "duration": 35,
        "start_time": "2024-11-14T13:40:21.891Z"
      },
      {
        "duration": 37,
        "start_time": "2024-11-14T13:40:21.927Z"
      },
      {
        "duration": 1782,
        "start_time": "2024-11-14T13:40:21.967Z"
      },
      {
        "duration": 1112,
        "start_time": "2024-11-14T13:40:23.751Z"
      },
      {
        "duration": 829,
        "start_time": "2024-11-14T13:40:24.865Z"
      },
      {
        "duration": 0,
        "start_time": "2024-11-14T13:40:25.695Z"
      },
      {
        "duration": 0,
        "start_time": "2024-11-14T13:40:25.697Z"
      },
      {
        "duration": 0,
        "start_time": "2024-11-14T13:40:25.698Z"
      },
      {
        "duration": 0,
        "start_time": "2024-11-14T13:40:25.700Z"
      },
      {
        "duration": 1167,
        "start_time": "2024-11-14T13:42:22.078Z"
      },
      {
        "duration": 6,
        "start_time": "2024-11-14T13:42:49.976Z"
      },
      {
        "duration": 824,
        "start_time": "2024-11-14T13:42:53.786Z"
      },
      {
        "duration": 22,
        "start_time": "2024-11-14T13:51:53.236Z"
      },
      {
        "duration": 5,
        "start_time": "2024-11-14T13:51:54.634Z"
      },
      {
        "duration": 3837,
        "start_time": "2024-11-14T13:51:57.795Z"
      },
      {
        "duration": 12,
        "start_time": "2024-11-14T13:52:01.635Z"
      },
      {
        "duration": 17,
        "start_time": "2024-11-14T13:52:01.648Z"
      },
      {
        "duration": 1665,
        "start_time": "2024-11-14T13:52:01.666Z"
      },
      {
        "duration": 107,
        "start_time": "2024-11-14T13:52:03.334Z"
      },
      {
        "duration": 72,
        "start_time": "2024-11-14T13:52:03.443Z"
      },
      {
        "duration": 19,
        "start_time": "2024-11-14T13:52:03.517Z"
      },
      {
        "duration": 7,
        "start_time": "2024-11-14T13:52:03.538Z"
      },
      {
        "duration": 71,
        "start_time": "2024-11-14T13:52:03.547Z"
      },
      {
        "duration": 22,
        "start_time": "2024-11-14T13:52:03.620Z"
      },
      {
        "duration": 987,
        "start_time": "2024-11-14T13:52:03.644Z"
      },
      {
        "duration": 75,
        "start_time": "2024-11-14T13:52:04.633Z"
      },
      {
        "duration": 10,
        "start_time": "2024-11-14T13:52:04.713Z"
      },
      {
        "duration": 5197,
        "start_time": "2024-11-14T13:52:04.727Z"
      },
      {
        "duration": 19,
        "start_time": "2024-11-14T13:52:09.926Z"
      },
      {
        "duration": 7,
        "start_time": "2024-11-14T13:52:09.946Z"
      },
      {
        "duration": 1762,
        "start_time": "2024-11-14T13:52:09.954Z"
      },
      {
        "duration": 791,
        "start_time": "2024-11-14T13:52:11.718Z"
      },
      {
        "duration": 29,
        "start_time": "2024-11-14T13:52:12.511Z"
      },
      {
        "duration": 21,
        "start_time": "2024-11-14T13:52:12.542Z"
      },
      {
        "duration": 41,
        "start_time": "2024-11-14T13:52:12.564Z"
      },
      {
        "duration": 0,
        "start_time": "2024-11-14T13:52:12.610Z"
      },
      {
        "duration": 0,
        "start_time": "2024-11-14T13:52:12.611Z"
      },
      {
        "duration": 2919,
        "start_time": "2024-11-14T13:52:47.919Z"
      },
      {
        "duration": 9,
        "start_time": "2024-11-14T13:52:50.840Z"
      },
      {
        "duration": 48,
        "start_time": "2024-11-14T13:52:50.851Z"
      },
      {
        "duration": 823,
        "start_time": "2024-11-14T13:52:50.902Z"
      },
      {
        "duration": 55,
        "start_time": "2024-11-14T13:52:51.727Z"
      },
      {
        "duration": 29,
        "start_time": "2024-11-14T13:52:51.784Z"
      },
      {
        "duration": 31,
        "start_time": "2024-11-14T13:52:51.815Z"
      },
      {
        "duration": 93,
        "start_time": "2024-11-14T13:52:51.848Z"
      },
      {
        "duration": 27,
        "start_time": "2024-11-14T13:52:51.943Z"
      },
      {
        "duration": 5,
        "start_time": "2024-11-14T13:52:51.971Z"
      },
      {
        "duration": 415,
        "start_time": "2024-11-14T13:52:51.978Z"
      },
      {
        "duration": 28,
        "start_time": "2024-11-14T13:52:52.399Z"
      },
      {
        "duration": 11,
        "start_time": "2024-11-14T13:52:52.430Z"
      },
      {
        "duration": 4414,
        "start_time": "2024-11-14T13:52:52.444Z"
      },
      {
        "duration": 19,
        "start_time": "2024-11-14T13:52:56.860Z"
      },
      {
        "duration": 57,
        "start_time": "2024-11-14T13:52:56.881Z"
      },
      {
        "duration": 1780,
        "start_time": "2024-11-14T13:52:56.940Z"
      },
      {
        "duration": 1067,
        "start_time": "2024-11-14T13:52:58.722Z"
      },
      {
        "duration": 37,
        "start_time": "2024-11-14T13:52:59.791Z"
      },
      {
        "duration": 28,
        "start_time": "2024-11-14T13:52:59.830Z"
      },
      {
        "duration": 94,
        "start_time": "2024-11-14T13:52:59.860Z"
      },
      {
        "duration": 0,
        "start_time": "2024-11-14T13:52:59.956Z"
      },
      {
        "duration": 0,
        "start_time": "2024-11-14T13:52:59.958Z"
      },
      {
        "duration": 23,
        "start_time": "2024-11-14T13:53:16.564Z"
      },
      {
        "duration": 24,
        "start_time": "2024-11-14T13:55:10.761Z"
      },
      {
        "duration": 22,
        "start_time": "2024-11-14T13:55:13.035Z"
      },
      {
        "duration": 36,
        "start_time": "2024-11-14T13:58:01.090Z"
      },
      {
        "duration": 28,
        "start_time": "2024-11-14T13:58:03.570Z"
      },
      {
        "duration": 9,
        "start_time": "2024-11-14T14:00:03.988Z"
      },
      {
        "duration": 2882,
        "start_time": "2024-11-14T14:09:34.577Z"
      },
      {
        "duration": 10,
        "start_time": "2024-11-14T14:09:37.463Z"
      },
      {
        "duration": 40,
        "start_time": "2024-11-14T14:09:37.475Z"
      },
      {
        "duration": 780,
        "start_time": "2024-11-14T14:09:37.518Z"
      },
      {
        "duration": 61,
        "start_time": "2024-11-14T14:09:38.301Z"
      },
      {
        "duration": 13,
        "start_time": "2024-11-14T14:09:38.364Z"
      },
      {
        "duration": 30,
        "start_time": "2024-11-14T14:09:38.379Z"
      },
      {
        "duration": 18,
        "start_time": "2024-11-14T14:09:38.411Z"
      },
      {
        "duration": 21,
        "start_time": "2024-11-14T14:09:38.430Z"
      },
      {
        "duration": 9,
        "start_time": "2024-11-14T14:09:38.455Z"
      },
      {
        "duration": 467,
        "start_time": "2024-11-14T14:09:38.466Z"
      },
      {
        "duration": 23,
        "start_time": "2024-11-14T14:09:38.935Z"
      },
      {
        "duration": 58,
        "start_time": "2024-11-14T14:09:38.960Z"
      },
      {
        "duration": 16,
        "start_time": "2024-11-14T14:09:39.021Z"
      },
      {
        "duration": 4355,
        "start_time": "2024-11-14T14:09:39.039Z"
      },
      {
        "duration": 334,
        "start_time": "2024-11-14T14:09:43.398Z"
      },
      {
        "duration": 15,
        "start_time": "2024-11-14T14:09:43.734Z"
      },
      {
        "duration": 1900,
        "start_time": "2024-11-14T14:09:43.751Z"
      },
      {
        "duration": 778,
        "start_time": "2024-11-14T14:09:45.653Z"
      },
      {
        "duration": 32,
        "start_time": "2024-11-14T14:09:46.433Z"
      },
      {
        "duration": 44,
        "start_time": "2024-11-14T14:09:46.466Z"
      },
      {
        "duration": 34,
        "start_time": "2024-11-14T14:09:46.512Z"
      },
      {
        "duration": 0,
        "start_time": "2024-11-14T14:09:46.548Z"
      },
      {
        "duration": 0,
        "start_time": "2024-11-14T14:09:46.549Z"
      },
      {
        "duration": 37,
        "start_time": "2024-11-14T14:11:18.291Z"
      },
      {
        "duration": 37,
        "start_time": "2024-11-14T14:11:21.434Z"
      },
      {
        "duration": 3922,
        "start_time": "2024-11-14T14:11:24.523Z"
      },
      {
        "duration": 9,
        "start_time": "2024-11-14T14:11:28.447Z"
      },
      {
        "duration": 13,
        "start_time": "2024-11-14T14:11:28.459Z"
      },
      {
        "duration": 905,
        "start_time": "2024-11-14T14:11:28.474Z"
      },
      {
        "duration": 56,
        "start_time": "2024-11-14T14:11:29.381Z"
      },
      {
        "duration": 13,
        "start_time": "2024-11-14T14:11:29.439Z"
      },
      {
        "duration": 10,
        "start_time": "2024-11-14T14:11:29.453Z"
      },
      {
        "duration": 8,
        "start_time": "2024-11-14T14:11:29.464Z"
      },
      {
        "duration": 48,
        "start_time": "2024-11-14T14:11:29.473Z"
      },
      {
        "duration": 5,
        "start_time": "2024-11-14T14:11:29.522Z"
      },
      {
        "duration": 407,
        "start_time": "2024-11-14T14:11:29.529Z"
      },
      {
        "duration": 16,
        "start_time": "2024-11-14T14:11:29.937Z"
      },
      {
        "duration": 50,
        "start_time": "2024-11-14T14:11:29.955Z"
      },
      {
        "duration": 45,
        "start_time": "2024-11-14T14:11:30.008Z"
      },
      {
        "duration": 4538,
        "start_time": "2024-11-14T14:11:30.055Z"
      },
      {
        "duration": 28,
        "start_time": "2024-11-14T14:11:34.597Z"
      },
      {
        "duration": 11,
        "start_time": "2024-11-14T14:11:34.627Z"
      },
      {
        "duration": 1833,
        "start_time": "2024-11-14T14:11:34.640Z"
      },
      {
        "duration": 784,
        "start_time": "2024-11-14T14:11:36.475Z"
      },
      {
        "duration": 54,
        "start_time": "2024-11-14T14:11:37.260Z"
      },
      {
        "duration": 0,
        "start_time": "2024-11-14T14:11:37.316Z"
      },
      {
        "duration": 0,
        "start_time": "2024-11-14T14:11:37.317Z"
      },
      {
        "duration": 0,
        "start_time": "2024-11-14T14:11:37.319Z"
      },
      {
        "duration": 0,
        "start_time": "2024-11-14T14:11:37.320Z"
      },
      {
        "duration": 27,
        "start_time": "2024-11-14T14:12:08.143Z"
      },
      {
        "duration": 4065,
        "start_time": "2024-11-14T14:12:13.957Z"
      },
      {
        "duration": 9,
        "start_time": "2024-11-14T14:12:18.024Z"
      },
      {
        "duration": 9,
        "start_time": "2024-11-14T14:12:18.034Z"
      },
      {
        "duration": 864,
        "start_time": "2024-11-14T14:12:18.045Z"
      },
      {
        "duration": 59,
        "start_time": "2024-11-14T14:12:18.912Z"
      },
      {
        "duration": 29,
        "start_time": "2024-11-14T14:12:18.973Z"
      },
      {
        "duration": 15,
        "start_time": "2024-11-14T14:12:19.005Z"
      },
      {
        "duration": 8,
        "start_time": "2024-11-14T14:12:19.023Z"
      },
      {
        "duration": 37,
        "start_time": "2024-11-14T14:12:19.033Z"
      },
      {
        "duration": 41,
        "start_time": "2024-11-14T14:12:19.073Z"
      },
      {
        "duration": 410,
        "start_time": "2024-11-14T14:12:19.116Z"
      },
      {
        "duration": 17,
        "start_time": "2024-11-14T14:12:19.528Z"
      },
      {
        "duration": 16,
        "start_time": "2024-11-14T14:12:19.547Z"
      },
      {
        "duration": 17,
        "start_time": "2024-11-14T14:12:19.599Z"
      },
      {
        "duration": 4375,
        "start_time": "2024-11-14T14:12:19.618Z"
      },
      {
        "duration": 27,
        "start_time": "2024-11-14T14:12:23.995Z"
      },
      {
        "duration": 29,
        "start_time": "2024-11-14T14:12:24.023Z"
      },
      {
        "duration": 1727,
        "start_time": "2024-11-14T14:12:24.054Z"
      },
      {
        "duration": 1127,
        "start_time": "2024-11-14T14:12:25.782Z"
      },
      {
        "duration": 39,
        "start_time": "2024-11-14T14:12:26.913Z"
      },
      {
        "duration": 73,
        "start_time": "2024-11-14T14:12:26.954Z"
      },
      {
        "duration": 20,
        "start_time": "2024-11-14T14:12:27.028Z"
      },
      {
        "duration": 0,
        "start_time": "2024-11-14T14:12:27.050Z"
      },
      {
        "duration": 0,
        "start_time": "2024-11-14T14:12:27.052Z"
      },
      {
        "duration": 4,
        "start_time": "2024-11-14T14:13:04.589Z"
      },
      {
        "duration": 18,
        "start_time": "2024-11-14T14:13:13.398Z"
      },
      {
        "duration": 11,
        "start_time": "2024-11-14T14:13:30.653Z"
      },
      {
        "duration": 23,
        "start_time": "2024-11-14T14:18:07.047Z"
      },
      {
        "duration": 18,
        "start_time": "2024-11-14T14:18:10.621Z"
      },
      {
        "duration": 7399,
        "start_time": "2024-11-14T17:05:44.592Z"
      },
      {
        "duration": 1781,
        "start_time": "2024-11-14T17:05:51.994Z"
      },
      {
        "duration": 99,
        "start_time": "2024-11-14T17:05:53.776Z"
      },
      {
        "duration": 1769,
        "start_time": "2024-11-14T17:05:53.877Z"
      },
      {
        "duration": 43,
        "start_time": "2024-11-14T17:05:55.648Z"
      },
      {
        "duration": 11,
        "start_time": "2024-11-14T17:05:55.692Z"
      },
      {
        "duration": 31,
        "start_time": "2024-11-14T17:05:55.704Z"
      },
      {
        "duration": 15,
        "start_time": "2024-11-14T17:05:55.736Z"
      },
      {
        "duration": 25,
        "start_time": "2024-11-14T17:05:55.752Z"
      },
      {
        "duration": 4,
        "start_time": "2024-11-14T17:05:55.779Z"
      },
      {
        "duration": 377,
        "start_time": "2024-11-14T17:05:55.784Z"
      },
      {
        "duration": 17,
        "start_time": "2024-11-14T17:05:56.164Z"
      },
      {
        "duration": 44,
        "start_time": "2024-11-14T17:05:56.183Z"
      },
      {
        "duration": 39,
        "start_time": "2024-11-14T17:05:56.230Z"
      },
      {
        "duration": 3377,
        "start_time": "2024-11-14T17:05:56.271Z"
      },
      {
        "duration": 17,
        "start_time": "2024-11-14T17:05:59.649Z"
      },
      {
        "duration": 4,
        "start_time": "2024-11-14T17:05:59.668Z"
      },
      {
        "duration": 1322,
        "start_time": "2024-11-14T17:05:59.674Z"
      },
      {
        "duration": 748,
        "start_time": "2024-11-14T17:06:00.997Z"
      },
      {
        "duration": 23,
        "start_time": "2024-11-14T17:06:01.747Z"
      },
      {
        "duration": 58,
        "start_time": "2024-11-14T17:06:01.772Z"
      },
      {
        "duration": 36,
        "start_time": "2024-11-14T17:06:01.832Z"
      },
      {
        "duration": 31,
        "start_time": "2024-11-14T17:06:01.870Z"
      },
      {
        "duration": 153,
        "start_time": "2024-11-14T17:06:01.903Z"
      },
      {
        "duration": 0,
        "start_time": "2024-11-14T17:06:02.058Z"
      },
      {
        "duration": 0,
        "start_time": "2024-11-14T17:06:02.058Z"
      },
      {
        "duration": 20,
        "start_time": "2024-11-14T17:13:41.060Z"
      },
      {
        "duration": 20,
        "start_time": "2024-11-14T17:13:42.729Z"
      },
      {
        "duration": 24,
        "start_time": "2024-11-14T17:14:54.834Z"
      },
      {
        "duration": 25,
        "start_time": "2024-11-14T17:14:56.955Z"
      },
      {
        "duration": 18,
        "start_time": "2024-11-14T17:16:49.472Z"
      },
      {
        "duration": 151,
        "start_time": "2024-11-14T17:19:45.881Z"
      },
      {
        "duration": 5380,
        "start_time": "2024-11-14T19:20:54.019Z"
      },
      {
        "duration": 1568,
        "start_time": "2024-11-14T19:20:59.402Z"
      },
      {
        "duration": 91,
        "start_time": "2024-11-14T19:21:00.972Z"
      },
      {
        "duration": 1301,
        "start_time": "2024-11-14T19:21:01.065Z"
      },
      {
        "duration": 47,
        "start_time": "2024-11-14T19:21:02.368Z"
      },
      {
        "duration": 28,
        "start_time": "2024-11-14T19:21:02.417Z"
      },
      {
        "duration": 35,
        "start_time": "2024-11-14T19:21:02.446Z"
      },
      {
        "duration": 41,
        "start_time": "2024-11-14T19:21:02.483Z"
      },
      {
        "duration": 60,
        "start_time": "2024-11-14T19:21:02.525Z"
      },
      {
        "duration": 27,
        "start_time": "2024-11-14T19:21:02.587Z"
      },
      {
        "duration": 369,
        "start_time": "2024-11-14T19:21:02.616Z"
      },
      {
        "duration": 23,
        "start_time": "2024-11-14T19:21:02.987Z"
      },
      {
        "duration": 28,
        "start_time": "2024-11-14T19:21:03.012Z"
      },
      {
        "duration": 102,
        "start_time": "2024-11-14T19:21:03.043Z"
      },
      {
        "duration": 3021,
        "start_time": "2024-11-14T19:21:03.146Z"
      },
      {
        "duration": 17,
        "start_time": "2024-11-14T19:21:06.168Z"
      },
      {
        "duration": 157,
        "start_time": "2024-11-14T19:21:06.186Z"
      },
      {
        "duration": 1410,
        "start_time": "2024-11-14T19:21:06.344Z"
      },
      {
        "duration": 723,
        "start_time": "2024-11-14T19:21:07.755Z"
      },
      {
        "duration": 28,
        "start_time": "2024-11-14T19:21:08.479Z"
      },
      {
        "duration": 12,
        "start_time": "2024-11-14T19:21:08.508Z"
      },
      {
        "duration": 39,
        "start_time": "2024-11-14T19:21:08.521Z"
      },
      {
        "duration": 30,
        "start_time": "2024-11-14T19:21:08.562Z"
      },
      {
        "duration": 138,
        "start_time": "2024-11-14T19:21:08.593Z"
      },
      {
        "duration": 0,
        "start_time": "2024-11-14T19:21:08.733Z"
      },
      {
        "duration": 0,
        "start_time": "2024-11-14T19:21:08.734Z"
      },
      {
        "duration": 132,
        "start_time": "2024-11-14T19:40:28.158Z"
      },
      {
        "duration": 2661,
        "start_time": "2024-11-14T19:40:35.868Z"
      },
      {
        "duration": 8,
        "start_time": "2024-11-14T19:40:38.531Z"
      },
      {
        "duration": 24,
        "start_time": "2024-11-14T19:40:38.540Z"
      },
      {
        "duration": 1190,
        "start_time": "2024-11-14T19:40:38.565Z"
      },
      {
        "duration": 53,
        "start_time": "2024-11-14T19:40:39.757Z"
      },
      {
        "duration": 10,
        "start_time": "2024-11-14T19:40:39.811Z"
      },
      {
        "duration": 8,
        "start_time": "2024-11-14T19:40:39.822Z"
      },
      {
        "duration": 18,
        "start_time": "2024-11-14T19:40:39.831Z"
      },
      {
        "duration": 46,
        "start_time": "2024-11-14T19:40:39.850Z"
      },
      {
        "duration": 5,
        "start_time": "2024-11-14T19:40:39.897Z"
      },
      {
        "duration": 349,
        "start_time": "2024-11-14T19:40:39.903Z"
      },
      {
        "duration": 14,
        "start_time": "2024-11-14T19:40:40.254Z"
      },
      {
        "duration": 10,
        "start_time": "2024-11-14T19:40:40.270Z"
      },
      {
        "duration": 13,
        "start_time": "2024-11-14T19:40:40.309Z"
      },
      {
        "duration": 3145,
        "start_time": "2024-11-14T19:40:40.324Z"
      },
      {
        "duration": 18,
        "start_time": "2024-11-14T19:40:43.470Z"
      },
      {
        "duration": 19,
        "start_time": "2024-11-14T19:40:43.489Z"
      },
      {
        "duration": 1329,
        "start_time": "2024-11-14T19:40:43.510Z"
      },
      {
        "duration": 580,
        "start_time": "2024-11-14T19:40:44.840Z"
      },
      {
        "duration": 20,
        "start_time": "2024-11-14T19:40:45.421Z"
      },
      {
        "duration": 15,
        "start_time": "2024-11-14T19:40:45.442Z"
      },
      {
        "duration": 9,
        "start_time": "2024-11-14T19:40:45.458Z"
      },
      {
        "duration": 40,
        "start_time": "2024-11-14T19:40:45.469Z"
      },
      {
        "duration": 0,
        "start_time": "2024-11-14T19:40:45.511Z"
      },
      {
        "duration": 0,
        "start_time": "2024-11-14T19:40:45.512Z"
      },
      {
        "duration": 0,
        "start_time": "2024-11-14T19:40:45.513Z"
      },
      {
        "duration": 5,
        "start_time": "2024-11-14T19:41:50.540Z"
      },
      {
        "duration": 9,
        "start_time": "2024-11-14T19:41:52.422Z"
      },
      {
        "duration": 5,
        "start_time": "2024-11-14T19:41:54.471Z"
      },
      {
        "duration": 11,
        "start_time": "2024-11-14T19:43:37.220Z"
      },
      {
        "duration": 4417,
        "start_time": "2024-11-14T19:44:02.954Z"
      },
      {
        "duration": 39,
        "start_time": "2024-11-14T19:44:33.402Z"
      },
      {
        "duration": 5,
        "start_time": "2024-11-14T19:45:03.856Z"
      },
      {
        "duration": 6,
        "start_time": "2024-11-14T19:45:24.328Z"
      },
      {
        "duration": 5,
        "start_time": "2024-11-14T19:45:51.479Z"
      },
      {
        "duration": 20,
        "start_time": "2024-11-14T19:47:25.158Z"
      },
      {
        "duration": 21,
        "start_time": "2024-11-14T19:47:36.682Z"
      },
      {
        "duration": 13,
        "start_time": "2024-11-14T19:50:55.433Z"
      },
      {
        "duration": 13,
        "start_time": "2024-11-14T19:50:57.862Z"
      },
      {
        "duration": 14,
        "start_time": "2024-11-14T20:12:18.327Z"
      },
      {
        "duration": 16,
        "start_time": "2024-11-14T20:12:20.464Z"
      },
      {
        "duration": 3791,
        "start_time": "2024-11-14T20:13:07.506Z"
      },
      {
        "duration": 76,
        "start_time": "2024-11-14T20:13:11.300Z"
      },
      {
        "duration": 7,
        "start_time": "2024-11-14T20:13:11.377Z"
      },
      {
        "duration": 711,
        "start_time": "2024-11-14T20:13:11.386Z"
      },
      {
        "duration": 50,
        "start_time": "2024-11-14T20:13:12.099Z"
      },
      {
        "duration": 163,
        "start_time": "2024-11-14T20:13:12.151Z"
      },
      {
        "duration": 19,
        "start_time": "2024-11-14T20:13:12.316Z"
      },
      {
        "duration": 7,
        "start_time": "2024-11-14T20:13:12.336Z"
      },
      {
        "duration": 17,
        "start_time": "2024-11-14T20:13:12.345Z"
      },
      {
        "duration": 9,
        "start_time": "2024-11-14T20:13:12.364Z"
      },
      {
        "duration": 387,
        "start_time": "2024-11-14T20:13:12.374Z"
      },
      {
        "duration": 15,
        "start_time": "2024-11-14T20:13:12.762Z"
      },
      {
        "duration": 34,
        "start_time": "2024-11-14T20:13:12.778Z"
      },
      {
        "duration": 12,
        "start_time": "2024-11-14T20:13:12.813Z"
      },
      {
        "duration": 4789,
        "start_time": "2024-11-14T20:13:12.826Z"
      },
      {
        "duration": 19,
        "start_time": "2024-11-14T20:13:17.617Z"
      },
      {
        "duration": 30,
        "start_time": "2024-11-14T20:13:17.637Z"
      },
      {
        "duration": 1604,
        "start_time": "2024-11-14T20:13:17.668Z"
      },
      {
        "duration": 650,
        "start_time": "2024-11-14T20:13:19.274Z"
      },
      {
        "duration": 24,
        "start_time": "2024-11-14T20:13:19.926Z"
      },
      {
        "duration": 23,
        "start_time": "2024-11-14T20:13:19.951Z"
      },
      {
        "duration": 7,
        "start_time": "2024-11-14T20:13:19.976Z"
      },
      {
        "duration": 10,
        "start_time": "2024-11-14T20:13:19.984Z"
      },
      {
        "duration": 19,
        "start_time": "2024-11-14T20:13:19.995Z"
      },
      {
        "duration": 45,
        "start_time": "2024-11-14T20:13:20.015Z"
      },
      {
        "duration": 347,
        "start_time": "2024-11-14T20:13:20.062Z"
      },
      {
        "duration": 0,
        "start_time": "2024-11-14T20:13:20.411Z"
      },
      {
        "duration": 0,
        "start_time": "2024-11-14T20:13:20.412Z"
      },
      {
        "duration": 184,
        "start_time": "2024-11-14T20:13:33.624Z"
      },
      {
        "duration": 10,
        "start_time": "2024-11-14T20:15:00.332Z"
      },
      {
        "duration": 199,
        "start_time": "2024-11-14T20:15:03.814Z"
      },
      {
        "duration": 329,
        "start_time": "2024-11-14T20:37:11.480Z"
      },
      {
        "duration": 344,
        "start_time": "2024-11-14T20:40:21.567Z"
      },
      {
        "duration": 276,
        "start_time": "2024-11-14T20:40:26.734Z"
      },
      {
        "duration": 253,
        "start_time": "2024-11-14T20:41:18.060Z"
      },
      {
        "duration": 437,
        "start_time": "2024-11-14T20:41:21.489Z"
      },
      {
        "duration": 799,
        "start_time": "2024-11-14T20:54:03.047Z"
      },
      {
        "duration": 532,
        "start_time": "2024-11-14T20:54:55.085Z"
      },
      {
        "duration": 184,
        "start_time": "2024-11-14T20:54:57.532Z"
      },
      {
        "duration": 8,
        "start_time": "2024-11-14T20:59:30.121Z"
      },
      {
        "duration": 446,
        "start_time": "2024-11-14T21:03:21.575Z"
      },
      {
        "duration": 411,
        "start_time": "2024-11-14T21:03:23.905Z"
      },
      {
        "duration": 7,
        "start_time": "2024-11-14T21:03:31.156Z"
      },
      {
        "duration": 3107,
        "start_time": "2024-11-14T21:04:49.667Z"
      },
      {
        "duration": 12,
        "start_time": "2024-11-14T21:04:52.776Z"
      },
      {
        "duration": 20,
        "start_time": "2024-11-14T21:04:52.789Z"
      },
      {
        "duration": 715,
        "start_time": "2024-11-14T21:04:52.811Z"
      },
      {
        "duration": 48,
        "start_time": "2024-11-14T21:04:53.531Z"
      },
      {
        "duration": 11,
        "start_time": "2024-11-14T21:04:53.581Z"
      },
      {
        "duration": 25,
        "start_time": "2024-11-14T21:04:53.594Z"
      },
      {
        "duration": 22,
        "start_time": "2024-11-14T21:04:53.627Z"
      },
      {
        "duration": 38,
        "start_time": "2024-11-14T21:04:53.650Z"
      },
      {
        "duration": 5,
        "start_time": "2024-11-14T21:04:53.691Z"
      },
      {
        "duration": 613,
        "start_time": "2024-11-14T21:04:53.698Z"
      },
      {
        "duration": 26,
        "start_time": "2024-11-14T21:04:54.312Z"
      },
      {
        "duration": 13,
        "start_time": "2024-11-14T21:04:54.340Z"
      },
      {
        "duration": 60,
        "start_time": "2024-11-14T21:04:54.354Z"
      },
      {
        "duration": 4581,
        "start_time": "2024-11-14T21:04:54.415Z"
      },
      {
        "duration": 31,
        "start_time": "2024-11-14T21:04:58.998Z"
      },
      {
        "duration": 7,
        "start_time": "2024-11-14T21:04:59.031Z"
      },
      {
        "duration": 1527,
        "start_time": "2024-11-14T21:04:59.040Z"
      },
      {
        "duration": 688,
        "start_time": "2024-11-14T21:05:00.568Z"
      },
      {
        "duration": 22,
        "start_time": "2024-11-14T21:05:01.257Z"
      },
      {
        "duration": 47,
        "start_time": "2024-11-14T21:05:01.281Z"
      },
      {
        "duration": 28,
        "start_time": "2024-11-14T21:05:01.329Z"
      },
      {
        "duration": 24,
        "start_time": "2024-11-14T21:05:01.359Z"
      },
      {
        "duration": 130,
        "start_time": "2024-11-14T21:05:01.385Z"
      },
      {
        "duration": 26,
        "start_time": "2024-11-14T21:05:01.518Z"
      },
      {
        "duration": 367,
        "start_time": "2024-11-14T21:05:01.546Z"
      },
      {
        "duration": 812,
        "start_time": "2024-11-14T21:05:01.916Z"
      },
      {
        "duration": 88,
        "start_time": "2024-11-14T21:05:02.733Z"
      },
      {
        "duration": 963,
        "start_time": "2024-11-14T21:05:02.828Z"
      },
      {
        "duration": 3,
        "start_time": "2024-11-14T21:05:03.793Z"
      },
      {
        "duration": 96,
        "start_time": "2024-11-14T21:05:03.798Z"
      },
      {
        "duration": 0,
        "start_time": "2024-11-14T21:05:03.896Z"
      },
      {
        "duration": 12,
        "start_time": "2024-11-14T21:05:38.327Z"
      },
      {
        "duration": 9,
        "start_time": "2024-11-14T21:06:08.092Z"
      },
      {
        "duration": 864,
        "start_time": "2024-11-14T21:13:08.373Z"
      },
      {
        "duration": 922,
        "start_time": "2024-11-14T21:13:34.877Z"
      },
      {
        "duration": 810,
        "start_time": "2024-11-14T21:13:49.542Z"
      },
      {
        "duration": 812,
        "start_time": "2024-11-14T21:13:52.507Z"
      },
      {
        "duration": 26360,
        "start_time": "2024-11-14T21:19:09.961Z"
      },
      {
        "duration": 2798,
        "start_time": "2024-11-14T21:20:48.644Z"
      },
      {
        "duration": 15,
        "start_time": "2024-11-14T21:20:51.444Z"
      },
      {
        "duration": 80,
        "start_time": "2024-11-14T21:20:51.462Z"
      },
      {
        "duration": 694,
        "start_time": "2024-11-14T21:20:51.543Z"
      },
      {
        "duration": 52,
        "start_time": "2024-11-14T21:20:52.238Z"
      },
      {
        "duration": 24,
        "start_time": "2024-11-14T21:20:52.292Z"
      },
      {
        "duration": 14,
        "start_time": "2024-11-14T21:20:52.318Z"
      },
      {
        "duration": 12,
        "start_time": "2024-11-14T21:20:52.334Z"
      },
      {
        "duration": 16,
        "start_time": "2024-11-14T21:20:52.350Z"
      },
      {
        "duration": 4,
        "start_time": "2024-11-14T21:20:52.368Z"
      },
      {
        "duration": 395,
        "start_time": "2024-11-14T21:20:52.374Z"
      },
      {
        "duration": 58,
        "start_time": "2024-11-14T21:20:52.770Z"
      },
      {
        "duration": 8,
        "start_time": "2024-11-14T21:20:52.839Z"
      },
      {
        "duration": 12,
        "start_time": "2024-11-14T21:20:52.849Z"
      },
      {
        "duration": 3386,
        "start_time": "2024-11-14T21:20:52.863Z"
      },
      {
        "duration": 211,
        "start_time": "2024-11-14T21:20:56.251Z"
      },
      {
        "duration": 6,
        "start_time": "2024-11-14T21:20:56.463Z"
      },
      {
        "duration": 1674,
        "start_time": "2024-11-14T21:20:56.470Z"
      },
      {
        "duration": 598,
        "start_time": "2024-11-14T21:20:58.146Z"
      },
      {
        "duration": 25,
        "start_time": "2024-11-14T21:20:58.746Z"
      },
      {
        "duration": 10,
        "start_time": "2024-11-14T21:20:58.773Z"
      },
      {
        "duration": 19,
        "start_time": "2024-11-14T21:20:58.785Z"
      },
      {
        "duration": 31,
        "start_time": "2024-11-14T21:20:58.810Z"
      },
      {
        "duration": 20,
        "start_time": "2024-11-14T21:20:58.842Z"
      },
      {
        "duration": 13,
        "start_time": "2024-11-14T21:20:58.863Z"
      },
      {
        "duration": 151,
        "start_time": "2024-11-14T21:20:58.877Z"
      },
      {
        "duration": 395,
        "start_time": "2024-11-14T21:20:59.044Z"
      },
      {
        "duration": 12,
        "start_time": "2024-11-14T21:20:59.447Z"
      },
      {
        "duration": 807,
        "start_time": "2024-11-14T21:20:59.514Z"
      },
      {
        "duration": 25309,
        "start_time": "2024-11-14T21:21:00.325Z"
      },
      {
        "duration": 4,
        "start_time": "2024-11-14T21:21:25.636Z"
      },
      {
        "duration": 99,
        "start_time": "2024-11-14T21:21:25.641Z"
      },
      {
        "duration": 0,
        "start_time": "2024-11-14T21:21:25.744Z"
      },
      {
        "duration": 77551,
        "start_time": "2024-11-14T21:25:20.208Z"
      },
      {
        "duration": 84557,
        "start_time": "2024-11-14T21:29:13.967Z"
      },
      {
        "duration": 85178,
        "start_time": "2024-11-14T21:33:02.644Z"
      },
      {
        "duration": 89410,
        "start_time": "2024-11-14T21:34:27.825Z"
      },
      {
        "duration": 4119,
        "start_time": "2024-11-14T21:36:54.435Z"
      },
      {
        "duration": 13,
        "start_time": "2024-11-14T21:36:58.557Z"
      },
      {
        "duration": 56,
        "start_time": "2024-11-14T21:36:58.572Z"
      },
      {
        "duration": 794,
        "start_time": "2024-11-14T21:36:58.633Z"
      },
      {
        "duration": 47,
        "start_time": "2024-11-14T21:36:59.429Z"
      },
      {
        "duration": 18,
        "start_time": "2024-11-14T21:36:59.478Z"
      },
      {
        "duration": 27,
        "start_time": "2024-11-14T21:36:59.510Z"
      },
      {
        "duration": 8,
        "start_time": "2024-11-14T21:36:59.539Z"
      },
      {
        "duration": 31,
        "start_time": "2024-11-14T21:36:59.548Z"
      },
      {
        "duration": 45,
        "start_time": "2024-11-14T21:36:59.582Z"
      },
      {
        "duration": 378,
        "start_time": "2024-11-14T21:36:59.629Z"
      },
      {
        "duration": 22,
        "start_time": "2024-11-14T21:37:00.009Z"
      },
      {
        "duration": 65,
        "start_time": "2024-11-14T21:37:00.033Z"
      },
      {
        "duration": 90,
        "start_time": "2024-11-14T21:37:00.100Z"
      },
      {
        "duration": 4175,
        "start_time": "2024-11-14T21:37:00.192Z"
      },
      {
        "duration": 24,
        "start_time": "2024-11-14T21:37:04.369Z"
      },
      {
        "duration": 36,
        "start_time": "2024-11-14T21:37:04.394Z"
      },
      {
        "duration": 1606,
        "start_time": "2024-11-14T21:37:04.432Z"
      },
      {
        "duration": 639,
        "start_time": "2024-11-14T21:37:06.040Z"
      },
      {
        "duration": 30,
        "start_time": "2024-11-14T21:37:06.681Z"
      },
      {
        "duration": 11,
        "start_time": "2024-11-14T21:37:06.719Z"
      },
      {
        "duration": 25,
        "start_time": "2024-11-14T21:37:06.732Z"
      },
      {
        "duration": 67,
        "start_time": "2024-11-14T21:37:06.759Z"
      },
      {
        "duration": 9,
        "start_time": "2024-11-14T21:37:06.828Z"
      },
      {
        "duration": 28,
        "start_time": "2024-11-14T21:37:06.838Z"
      },
      {
        "duration": 265,
        "start_time": "2024-11-14T21:37:06.868Z"
      },
      {
        "duration": 574,
        "start_time": "2024-11-14T21:37:07.135Z"
      },
      {
        "duration": 16,
        "start_time": "2024-11-14T21:37:07.716Z"
      },
      {
        "duration": 905,
        "start_time": "2024-11-14T21:37:07.734Z"
      },
      {
        "duration": 83921,
        "start_time": "2024-11-14T21:37:08.641Z"
      },
      {
        "duration": 2763,
        "start_time": "2024-11-14T21:41:36.064Z"
      },
      {
        "duration": 164,
        "start_time": "2024-11-14T21:41:38.830Z"
      },
      {
        "duration": 21,
        "start_time": "2024-11-14T21:41:38.996Z"
      },
      {
        "duration": 652,
        "start_time": "2024-11-14T21:41:39.018Z"
      },
      {
        "duration": 51,
        "start_time": "2024-11-14T21:41:39.672Z"
      },
      {
        "duration": 11,
        "start_time": "2024-11-14T21:41:39.724Z"
      },
      {
        "duration": 8,
        "start_time": "2024-11-14T21:41:39.736Z"
      },
      {
        "duration": 12,
        "start_time": "2024-11-14T21:41:39.745Z"
      },
      {
        "duration": 20,
        "start_time": "2024-11-14T21:41:39.758Z"
      },
      {
        "duration": 5,
        "start_time": "2024-11-14T21:41:39.781Z"
      },
      {
        "duration": 370,
        "start_time": "2024-11-14T21:41:39.787Z"
      },
      {
        "duration": 23,
        "start_time": "2024-11-14T21:41:40.159Z"
      },
      {
        "duration": 13,
        "start_time": "2024-11-14T21:41:40.213Z"
      },
      {
        "duration": 13,
        "start_time": "2024-11-14T21:41:40.228Z"
      },
      {
        "duration": 4092,
        "start_time": "2024-11-14T21:41:40.243Z"
      },
      {
        "duration": 230,
        "start_time": "2024-11-14T21:41:44.337Z"
      },
      {
        "duration": 62,
        "start_time": "2024-11-14T21:41:44.568Z"
      },
      {
        "duration": 1324,
        "start_time": "2024-11-14T21:41:44.632Z"
      },
      {
        "duration": 600,
        "start_time": "2024-11-14T21:41:45.958Z"
      },
      {
        "duration": 21,
        "start_time": "2024-11-14T21:41:46.560Z"
      },
      {
        "duration": 11,
        "start_time": "2024-11-14T21:41:46.583Z"
      },
      {
        "duration": 14,
        "start_time": "2024-11-14T21:41:46.612Z"
      },
      {
        "duration": 12,
        "start_time": "2024-11-14T21:41:46.627Z"
      },
      {
        "duration": 7,
        "start_time": "2024-11-14T21:41:46.640Z"
      },
      {
        "duration": 30,
        "start_time": "2024-11-14T21:41:46.648Z"
      },
      {
        "duration": 948,
        "start_time": "2024-11-14T21:41:46.679Z"
      },
      {
        "duration": 383,
        "start_time": "2024-11-14T21:41:47.630Z"
      },
      {
        "duration": 12,
        "start_time": "2024-11-14T21:41:48.017Z"
      },
      {
        "duration": 845,
        "start_time": "2024-11-14T21:41:48.031Z"
      },
      {
        "duration": 77641,
        "start_time": "2024-11-14T21:41:48.878Z"
      },
      {
        "duration": 82371,
        "start_time": "2024-11-14T21:43:06.521Z"
      },
      {
        "duration": 3,
        "start_time": "2024-11-14T21:44:28.894Z"
      },
      {
        "duration": 85,
        "start_time": "2024-11-14T21:44:28.898Z"
      },
      {
        "duration": 0,
        "start_time": "2024-11-14T21:44:28.984Z"
      },
      {
        "duration": 78985,
        "start_time": "2024-11-14T21:45:06.820Z"
      },
      {
        "duration": 10,
        "start_time": "2024-11-14T21:50:03.439Z"
      },
      {
        "duration": 7,
        "start_time": "2024-11-14T21:50:38.696Z"
      },
      {
        "duration": 90916,
        "start_time": "2024-11-14T21:59:40.436Z"
      },
      {
        "duration": 2816,
        "start_time": "2024-11-14T22:48:04.973Z"
      },
      {
        "duration": 2770,
        "start_time": "2024-11-14T22:48:09.277Z"
      },
      {
        "duration": 1486,
        "start_time": "2024-11-14T22:48:12.049Z"
      },
      {
        "duration": 114,
        "start_time": "2024-11-14T22:48:13.537Z"
      },
      {
        "duration": 678,
        "start_time": "2024-11-14T22:48:13.653Z"
      },
      {
        "duration": 41,
        "start_time": "2024-11-14T22:48:14.333Z"
      },
      {
        "duration": 10,
        "start_time": "2024-11-14T22:48:14.375Z"
      },
      {
        "duration": 13,
        "start_time": "2024-11-14T22:48:14.386Z"
      },
      {
        "duration": 11,
        "start_time": "2024-11-14T22:48:14.401Z"
      },
      {
        "duration": 24,
        "start_time": "2024-11-14T22:48:14.414Z"
      },
      {
        "duration": 20,
        "start_time": "2024-11-14T22:48:14.439Z"
      },
      {
        "duration": 384,
        "start_time": "2024-11-14T22:48:14.461Z"
      },
      {
        "duration": 19,
        "start_time": "2024-11-14T22:48:14.846Z"
      },
      {
        "duration": 21,
        "start_time": "2024-11-14T22:48:14.866Z"
      },
      {
        "duration": 34,
        "start_time": "2024-11-14T22:48:14.889Z"
      },
      {
        "duration": 3034,
        "start_time": "2024-11-14T22:48:14.925Z"
      },
      {
        "duration": 18,
        "start_time": "2024-11-14T22:48:17.961Z"
      },
      {
        "duration": 59,
        "start_time": "2024-11-14T22:48:17.980Z"
      },
      {
        "duration": 1409,
        "start_time": "2024-11-14T22:48:18.041Z"
      },
      {
        "duration": 699,
        "start_time": "2024-11-14T22:48:19.452Z"
      },
      {
        "duration": 20,
        "start_time": "2024-11-14T22:48:20.153Z"
      },
      {
        "duration": 11,
        "start_time": "2024-11-14T22:48:20.175Z"
      },
      {
        "duration": 19,
        "start_time": "2024-11-14T22:48:20.188Z"
      },
      {
        "duration": 13,
        "start_time": "2024-11-14T22:48:20.209Z"
      },
      {
        "duration": 6,
        "start_time": "2024-11-14T22:48:20.224Z"
      },
      {
        "duration": 10,
        "start_time": "2024-11-14T22:48:20.231Z"
      },
      {
        "duration": 264,
        "start_time": "2024-11-14T22:48:20.243Z"
      },
      {
        "duration": 106,
        "start_time": "2024-11-14T22:48:20.510Z"
      },
      {
        "duration": 207,
        "start_time": "2024-11-14T22:48:20.623Z"
      },
      {
        "duration": 0,
        "start_time": "2024-11-14T22:48:20.832Z"
      },
      {
        "duration": 0,
        "start_time": "2024-11-14T22:48:20.833Z"
      },
      {
        "duration": 0,
        "start_time": "2024-11-14T22:48:20.834Z"
      },
      {
        "duration": 0,
        "start_time": "2024-11-14T22:48:20.835Z"
      },
      {
        "duration": 0,
        "start_time": "2024-11-14T22:48:20.836Z"
      },
      {
        "duration": 0,
        "start_time": "2024-11-14T22:48:20.837Z"
      },
      {
        "duration": 0,
        "start_time": "2024-11-14T22:48:20.838Z"
      },
      {
        "duration": 0,
        "start_time": "2024-11-14T22:48:20.839Z"
      },
      {
        "duration": 7,
        "start_time": "2024-11-14T22:49:08.609Z"
      },
      {
        "duration": 2776,
        "start_time": "2024-11-14T22:49:19.433Z"
      },
      {
        "duration": 12,
        "start_time": "2024-11-14T22:49:22.214Z"
      },
      {
        "duration": 10,
        "start_time": "2024-11-14T22:49:22.227Z"
      },
      {
        "duration": 668,
        "start_time": "2024-11-14T22:49:22.239Z"
      },
      {
        "duration": 48,
        "start_time": "2024-11-14T22:49:22.908Z"
      },
      {
        "duration": 10,
        "start_time": "2024-11-14T22:49:22.958Z"
      },
      {
        "duration": 8,
        "start_time": "2024-11-14T22:49:22.970Z"
      },
      {
        "duration": 29,
        "start_time": "2024-11-14T22:49:22.979Z"
      },
      {
        "duration": 24,
        "start_time": "2024-11-14T22:49:23.009Z"
      },
      {
        "duration": 5,
        "start_time": "2024-11-14T22:49:23.035Z"
      },
      {
        "duration": 380,
        "start_time": "2024-11-14T22:49:23.041Z"
      },
      {
        "duration": 15,
        "start_time": "2024-11-14T22:49:23.423Z"
      },
      {
        "duration": 7,
        "start_time": "2024-11-14T22:49:23.440Z"
      },
      {
        "duration": 9,
        "start_time": "2024-11-14T22:49:23.448Z"
      },
      {
        "duration": 3355,
        "start_time": "2024-11-14T22:49:23.458Z"
      },
      {
        "duration": 20,
        "start_time": "2024-11-14T22:49:26.814Z"
      },
      {
        "duration": 4,
        "start_time": "2024-11-14T22:49:26.835Z"
      },
      {
        "duration": 1508,
        "start_time": "2024-11-14T22:49:26.841Z"
      },
      {
        "duration": 605,
        "start_time": "2024-11-14T22:49:28.351Z"
      },
      {
        "duration": 20,
        "start_time": "2024-11-14T22:49:28.958Z"
      },
      {
        "duration": 8,
        "start_time": "2024-11-14T22:49:28.980Z"
      },
      {
        "duration": 38,
        "start_time": "2024-11-14T22:49:28.989Z"
      },
      {
        "duration": 20,
        "start_time": "2024-11-14T22:49:29.029Z"
      },
      {
        "duration": 7,
        "start_time": "2024-11-14T22:49:29.051Z"
      },
      {
        "duration": 12,
        "start_time": "2024-11-14T22:49:29.060Z"
      },
      {
        "duration": 349,
        "start_time": "2024-11-14T22:49:29.073Z"
      },
      {
        "duration": 105,
        "start_time": "2024-11-14T22:49:29.424Z"
      },
      {
        "duration": 8,
        "start_time": "2024-11-14T22:49:29.620Z"
      },
      {
        "duration": 819,
        "start_time": "2024-11-14T22:49:29.710Z"
      },
      {
        "duration": 77934,
        "start_time": "2024-11-14T22:49:30.531Z"
      },
      {
        "duration": 81611,
        "start_time": "2024-11-14T22:50:48.467Z"
      },
      {
        "duration": 7,
        "start_time": "2024-11-14T22:52:10.079Z"
      },
      {
        "duration": 9,
        "start_time": "2024-11-14T22:52:10.087Z"
      },
      {
        "duration": 93399,
        "start_time": "2024-11-14T22:52:10.098Z"
      },
      {
        "duration": 7845388,
        "start_time": "2024-11-14T22:53:43.499Z"
      },
      {
        "duration": 150,
        "start_time": "2024-11-15T01:04:28.889Z"
      },
      {
        "duration": 1093,
        "start_time": "2024-11-15T09:28:10.594Z"
      },
      {
        "duration": 5342,
        "start_time": "2024-11-15T09:29:17.670Z"
      },
      {
        "duration": 863,
        "start_time": "2024-11-15T09:29:23.014Z"
      },
      {
        "duration": 145,
        "start_time": "2024-11-15T09:29:23.878Z"
      },
      {
        "duration": 1470,
        "start_time": "2024-11-15T09:29:24.025Z"
      },
      {
        "duration": 74,
        "start_time": "2024-11-15T09:29:25.496Z"
      },
      {
        "duration": 13,
        "start_time": "2024-11-15T09:29:25.618Z"
      },
      {
        "duration": 20,
        "start_time": "2024-11-15T09:29:25.632Z"
      },
      {
        "duration": 18,
        "start_time": "2024-11-15T09:29:25.654Z"
      },
      {
        "duration": 29,
        "start_time": "2024-11-15T09:29:25.674Z"
      },
      {
        "duration": 13,
        "start_time": "2024-11-15T09:29:25.706Z"
      },
      {
        "duration": 414,
        "start_time": "2024-11-15T09:29:25.721Z"
      },
      {
        "duration": 117,
        "start_time": "2024-11-15T09:29:26.136Z"
      },
      {
        "duration": 8,
        "start_time": "2024-11-15T09:29:26.255Z"
      },
      {
        "duration": 11,
        "start_time": "2024-11-15T09:29:26.265Z"
      },
      {
        "duration": 3748,
        "start_time": "2024-11-15T09:29:26.277Z"
      },
      {
        "duration": 19,
        "start_time": "2024-11-15T09:29:30.027Z"
      },
      {
        "duration": 34,
        "start_time": "2024-11-15T09:29:30.048Z"
      },
      {
        "duration": 1800,
        "start_time": "2024-11-15T09:29:30.084Z"
      },
      {
        "duration": 694,
        "start_time": "2024-11-15T09:29:31.886Z"
      },
      {
        "duration": 24,
        "start_time": "2024-11-15T09:29:32.581Z"
      },
      {
        "duration": 23,
        "start_time": "2024-11-15T09:29:32.606Z"
      },
      {
        "duration": 28,
        "start_time": "2024-11-15T09:29:32.630Z"
      },
      {
        "duration": 11,
        "start_time": "2024-11-15T09:29:32.660Z"
      },
      {
        "duration": 52,
        "start_time": "2024-11-15T09:29:32.672Z"
      },
      {
        "duration": 27,
        "start_time": "2024-11-15T09:29:32.726Z"
      },
      {
        "duration": 266,
        "start_time": "2024-11-15T09:29:32.755Z"
      },
      {
        "duration": 298,
        "start_time": "2024-11-15T09:29:33.023Z"
      },
      {
        "duration": 7,
        "start_time": "2024-11-15T09:29:33.324Z"
      },
      {
        "duration": 764,
        "start_time": "2024-11-15T09:29:33.333Z"
      },
      {
        "duration": 76765,
        "start_time": "2024-11-15T09:29:34.099Z"
      },
      {
        "duration": 82084,
        "start_time": "2024-11-15T09:30:50.866Z"
      },
      {
        "duration": 103,
        "start_time": "2024-11-15T09:32:12.952Z"
      },
      {
        "duration": 0,
        "start_time": "2024-11-15T09:32:13.057Z"
      },
      {
        "duration": 0,
        "start_time": "2024-11-15T09:32:13.059Z"
      },
      {
        "duration": 0,
        "start_time": "2024-11-15T09:32:13.061Z"
      },
      {
        "duration": 0,
        "start_time": "2024-11-15T09:32:13.062Z"
      },
      {
        "duration": 33,
        "start_time": "2024-11-15T09:34:01.672Z"
      },
      {
        "duration": 2685,
        "start_time": "2024-11-15T09:43:14.131Z"
      },
      {
        "duration": 1604,
        "start_time": "2024-11-15T09:43:16.819Z"
      },
      {
        "duration": 156,
        "start_time": "2024-11-15T09:43:18.425Z"
      },
      {
        "duration": 779,
        "start_time": "2024-11-15T09:43:18.583Z"
      },
      {
        "duration": 57,
        "start_time": "2024-11-15T09:43:19.364Z"
      },
      {
        "duration": 13,
        "start_time": "2024-11-15T09:43:19.422Z"
      },
      {
        "duration": 29,
        "start_time": "2024-11-15T09:43:19.436Z"
      },
      {
        "duration": 44,
        "start_time": "2024-11-15T09:43:19.467Z"
      },
      {
        "duration": 33,
        "start_time": "2024-11-15T09:43:19.514Z"
      },
      {
        "duration": 20,
        "start_time": "2024-11-15T09:43:19.549Z"
      },
      {
        "duration": 436,
        "start_time": "2024-11-15T09:43:19.571Z"
      },
      {
        "duration": 26,
        "start_time": "2024-11-15T09:43:20.008Z"
      },
      {
        "duration": 29,
        "start_time": "2024-11-15T09:43:20.037Z"
      },
      {
        "duration": 21,
        "start_time": "2024-11-15T09:43:20.070Z"
      },
      {
        "duration": 3964,
        "start_time": "2024-11-15T09:43:20.093Z"
      },
      {
        "duration": 20,
        "start_time": "2024-11-15T09:43:24.058Z"
      },
      {
        "duration": 21,
        "start_time": "2024-11-15T09:43:24.079Z"
      },
      {
        "duration": 1887,
        "start_time": "2024-11-15T09:43:24.101Z"
      },
      {
        "duration": 886,
        "start_time": "2024-11-15T09:43:25.990Z"
      },
      {
        "duration": 27,
        "start_time": "2024-11-15T09:43:26.877Z"
      },
      {
        "duration": 11,
        "start_time": "2024-11-15T09:43:26.917Z"
      },
      {
        "duration": 11,
        "start_time": "2024-11-15T09:43:26.930Z"
      },
      {
        "duration": 10,
        "start_time": "2024-11-15T09:43:26.943Z"
      },
      {
        "duration": 8,
        "start_time": "2024-11-15T09:43:26.955Z"
      },
      {
        "duration": 16,
        "start_time": "2024-11-15T09:43:26.965Z"
      },
      {
        "duration": 336,
        "start_time": "2024-11-15T09:43:26.983Z"
      },
      {
        "duration": 307,
        "start_time": "2024-11-15T09:43:27.320Z"
      },
      {
        "duration": 90,
        "start_time": "2024-11-15T09:43:27.630Z"
      },
      {
        "duration": 1634,
        "start_time": "2024-11-15T09:43:27.722Z"
      },
      {
        "duration": 78877,
        "start_time": "2024-11-15T09:43:29.359Z"
      },
      {
        "duration": 3484,
        "start_time": "2024-11-15T10:47:49.070Z"
      },
      {
        "duration": 1677,
        "start_time": "2024-11-15T10:47:52.556Z"
      },
      {
        "duration": 96,
        "start_time": "2024-11-15T10:47:54.237Z"
      },
      {
        "duration": 815,
        "start_time": "2024-11-15T10:47:54.335Z"
      },
      {
        "duration": 49,
        "start_time": "2024-11-15T10:47:55.153Z"
      },
      {
        "duration": 26,
        "start_time": "2024-11-15T10:47:55.204Z"
      },
      {
        "duration": 35,
        "start_time": "2024-11-15T10:47:55.232Z"
      },
      {
        "duration": 46,
        "start_time": "2024-11-15T10:47:55.269Z"
      },
      {
        "duration": 49,
        "start_time": "2024-11-15T10:47:55.317Z"
      },
      {
        "duration": 5,
        "start_time": "2024-11-15T10:47:55.368Z"
      },
      {
        "duration": 2804,
        "start_time": "2024-11-15T11:15:08.514Z"
      },
      {
        "duration": 1639,
        "start_time": "2024-11-15T11:15:11.321Z"
      },
      {
        "duration": 96,
        "start_time": "2024-11-15T11:15:12.962Z"
      },
      {
        "duration": 137,
        "start_time": "2024-11-15T11:15:13.061Z"
      },
      {
        "duration": 0,
        "start_time": "2024-11-15T11:15:13.200Z"
      },
      {
        "duration": 0,
        "start_time": "2024-11-15T11:15:13.202Z"
      },
      {
        "duration": 0,
        "start_time": "2024-11-15T11:15:13.203Z"
      },
      {
        "duration": 0,
        "start_time": "2024-11-15T11:15:13.204Z"
      },
      {
        "duration": 0,
        "start_time": "2024-11-15T11:15:13.205Z"
      },
      {
        "duration": 0,
        "start_time": "2024-11-15T11:15:13.207Z"
      },
      {
        "duration": 0,
        "start_time": "2024-11-15T11:15:13.219Z"
      },
      {
        "duration": 0,
        "start_time": "2024-11-15T11:15:13.220Z"
      },
      {
        "duration": 0,
        "start_time": "2024-11-15T11:15:13.221Z"
      },
      {
        "duration": 0,
        "start_time": "2024-11-15T11:15:13.222Z"
      },
      {
        "duration": 0,
        "start_time": "2024-11-15T11:15:13.224Z"
      },
      {
        "duration": 0,
        "start_time": "2024-11-15T11:15:13.225Z"
      },
      {
        "duration": 0,
        "start_time": "2024-11-15T11:15:13.226Z"
      },
      {
        "duration": 0,
        "start_time": "2024-11-15T11:15:13.228Z"
      },
      {
        "duration": 0,
        "start_time": "2024-11-15T11:15:13.229Z"
      },
      {
        "duration": 0,
        "start_time": "2024-11-15T11:15:13.230Z"
      },
      {
        "duration": 0,
        "start_time": "2024-11-15T11:15:13.231Z"
      },
      {
        "duration": 0,
        "start_time": "2024-11-15T11:15:13.233Z"
      },
      {
        "duration": 0,
        "start_time": "2024-11-15T11:15:13.234Z"
      },
      {
        "duration": 0,
        "start_time": "2024-11-15T11:15:13.235Z"
      },
      {
        "duration": 0,
        "start_time": "2024-11-15T11:15:13.237Z"
      },
      {
        "duration": 0,
        "start_time": "2024-11-15T11:15:13.239Z"
      },
      {
        "duration": 0,
        "start_time": "2024-11-15T11:15:13.240Z"
      },
      {
        "duration": 0,
        "start_time": "2024-11-15T11:15:13.241Z"
      },
      {
        "duration": 0,
        "start_time": "2024-11-15T11:15:13.242Z"
      },
      {
        "duration": 0,
        "start_time": "2024-11-15T11:15:13.244Z"
      },
      {
        "duration": 0,
        "start_time": "2024-11-15T11:15:13.245Z"
      },
      {
        "duration": 0,
        "start_time": "2024-11-15T11:15:13.247Z"
      },
      {
        "duration": 0,
        "start_time": "2024-11-15T11:15:13.248Z"
      },
      {
        "duration": 0,
        "start_time": "2024-11-15T11:15:13.249Z"
      },
      {
        "duration": 0,
        "start_time": "2024-11-15T11:15:13.250Z"
      },
      {
        "duration": 0,
        "start_time": "2024-11-15T11:15:13.252Z"
      },
      {
        "duration": 0,
        "start_time": "2024-11-15T11:15:13.253Z"
      },
      {
        "duration": 0,
        "start_time": "2024-11-15T11:15:13.254Z"
      },
      {
        "duration": 2887,
        "start_time": "2024-11-15T11:15:24.457Z"
      },
      {
        "duration": 10,
        "start_time": "2024-11-15T11:15:27.347Z"
      },
      {
        "duration": 14,
        "start_time": "2024-11-15T11:15:27.359Z"
      },
      {
        "duration": 56,
        "start_time": "2024-11-15T11:15:27.375Z"
      },
      {
        "duration": 0,
        "start_time": "2024-11-15T11:15:27.434Z"
      },
      {
        "duration": 0,
        "start_time": "2024-11-15T11:15:27.435Z"
      },
      {
        "duration": 0,
        "start_time": "2024-11-15T11:15:27.436Z"
      },
      {
        "duration": 0,
        "start_time": "2024-11-15T11:15:27.437Z"
      },
      {
        "duration": 0,
        "start_time": "2024-11-15T11:15:27.439Z"
      },
      {
        "duration": 0,
        "start_time": "2024-11-15T11:15:27.440Z"
      },
      {
        "duration": 0,
        "start_time": "2024-11-15T11:15:27.442Z"
      },
      {
        "duration": 0,
        "start_time": "2024-11-15T11:15:27.444Z"
      },
      {
        "duration": 0,
        "start_time": "2024-11-15T11:15:27.446Z"
      },
      {
        "duration": 0,
        "start_time": "2024-11-15T11:15:27.447Z"
      },
      {
        "duration": 0,
        "start_time": "2024-11-15T11:15:27.448Z"
      },
      {
        "duration": 0,
        "start_time": "2024-11-15T11:15:27.449Z"
      },
      {
        "duration": 0,
        "start_time": "2024-11-15T11:15:27.451Z"
      },
      {
        "duration": 0,
        "start_time": "2024-11-15T11:15:27.452Z"
      },
      {
        "duration": 0,
        "start_time": "2024-11-15T11:15:27.453Z"
      },
      {
        "duration": 0,
        "start_time": "2024-11-15T11:15:27.454Z"
      },
      {
        "duration": 0,
        "start_time": "2024-11-15T11:15:27.455Z"
      },
      {
        "duration": 0,
        "start_time": "2024-11-15T11:15:27.457Z"
      },
      {
        "duration": 0,
        "start_time": "2024-11-15T11:15:27.518Z"
      },
      {
        "duration": 0,
        "start_time": "2024-11-15T11:15:27.520Z"
      },
      {
        "duration": 0,
        "start_time": "2024-11-15T11:15:27.521Z"
      },
      {
        "duration": 0,
        "start_time": "2024-11-15T11:15:27.523Z"
      },
      {
        "duration": 0,
        "start_time": "2024-11-15T11:15:27.524Z"
      },
      {
        "duration": 0,
        "start_time": "2024-11-15T11:15:27.527Z"
      },
      {
        "duration": 0,
        "start_time": "2024-11-15T11:15:27.528Z"
      },
      {
        "duration": 0,
        "start_time": "2024-11-15T11:15:27.530Z"
      },
      {
        "duration": 0,
        "start_time": "2024-11-15T11:15:27.531Z"
      },
      {
        "duration": 0,
        "start_time": "2024-11-15T11:15:27.533Z"
      },
      {
        "duration": 0,
        "start_time": "2024-11-15T11:15:27.534Z"
      },
      {
        "duration": 0,
        "start_time": "2024-11-15T11:15:27.535Z"
      },
      {
        "duration": 0,
        "start_time": "2024-11-15T11:15:27.536Z"
      },
      {
        "duration": 0,
        "start_time": "2024-11-15T11:15:27.537Z"
      },
      {
        "duration": 0,
        "start_time": "2024-11-15T11:15:27.538Z"
      },
      {
        "duration": 0,
        "start_time": "2024-11-15T11:15:27.539Z"
      },
      {
        "duration": 2704,
        "start_time": "2024-11-15T11:15:38.358Z"
      },
      {
        "duration": 1563,
        "start_time": "2024-11-15T11:15:41.065Z"
      },
      {
        "duration": 103,
        "start_time": "2024-11-15T11:15:42.630Z"
      },
      {
        "duration": 217,
        "start_time": "2024-11-15T11:15:42.736Z"
      },
      {
        "duration": 0,
        "start_time": "2024-11-15T11:15:42.957Z"
      },
      {
        "duration": 0,
        "start_time": "2024-11-15T11:15:42.959Z"
      },
      {
        "duration": 0,
        "start_time": "2024-11-15T11:15:42.960Z"
      },
      {
        "duration": 0,
        "start_time": "2024-11-15T11:15:42.961Z"
      },
      {
        "duration": 0,
        "start_time": "2024-11-15T11:15:42.962Z"
      },
      {
        "duration": 0,
        "start_time": "2024-11-15T11:15:42.964Z"
      },
      {
        "duration": 0,
        "start_time": "2024-11-15T11:15:42.965Z"
      },
      {
        "duration": 0,
        "start_time": "2024-11-15T11:15:42.967Z"
      },
      {
        "duration": 0,
        "start_time": "2024-11-15T11:15:42.968Z"
      },
      {
        "duration": 0,
        "start_time": "2024-11-15T11:15:42.974Z"
      },
      {
        "duration": 0,
        "start_time": "2024-11-15T11:15:42.975Z"
      },
      {
        "duration": 1,
        "start_time": "2024-11-15T11:15:42.976Z"
      },
      {
        "duration": 0,
        "start_time": "2024-11-15T11:15:42.978Z"
      },
      {
        "duration": 0,
        "start_time": "2024-11-15T11:15:42.980Z"
      },
      {
        "duration": 0,
        "start_time": "2024-11-15T11:15:42.981Z"
      },
      {
        "duration": 1,
        "start_time": "2024-11-15T11:15:42.982Z"
      },
      {
        "duration": 0,
        "start_time": "2024-11-15T11:15:42.983Z"
      },
      {
        "duration": 0,
        "start_time": "2024-11-15T11:15:42.985Z"
      },
      {
        "duration": 0,
        "start_time": "2024-11-15T11:15:42.986Z"
      },
      {
        "duration": 0,
        "start_time": "2024-11-15T11:15:42.987Z"
      },
      {
        "duration": 0,
        "start_time": "2024-11-15T11:15:42.988Z"
      },
      {
        "duration": 0,
        "start_time": "2024-11-15T11:15:42.988Z"
      },
      {
        "duration": 28,
        "start_time": "2024-11-15T11:15:42.989Z"
      },
      {
        "duration": 0,
        "start_time": "2024-11-15T11:15:43.020Z"
      },
      {
        "duration": 0,
        "start_time": "2024-11-15T11:15:43.021Z"
      },
      {
        "duration": 0,
        "start_time": "2024-11-15T11:15:43.024Z"
      },
      {
        "duration": 0,
        "start_time": "2024-11-15T11:15:43.025Z"
      },
      {
        "duration": 0,
        "start_time": "2024-11-15T11:15:43.027Z"
      },
      {
        "duration": 0,
        "start_time": "2024-11-15T11:15:43.028Z"
      },
      {
        "duration": 0,
        "start_time": "2024-11-15T11:15:43.029Z"
      },
      {
        "duration": 0,
        "start_time": "2024-11-15T11:15:43.032Z"
      },
      {
        "duration": 0,
        "start_time": "2024-11-15T11:15:43.033Z"
      },
      {
        "duration": 0,
        "start_time": "2024-11-15T11:15:43.034Z"
      },
      {
        "duration": 0,
        "start_time": "2024-11-15T11:15:43.035Z"
      },
      {
        "duration": 9,
        "start_time": "2024-11-15T11:16:22.121Z"
      },
      {
        "duration": 2643,
        "start_time": "2024-11-15T11:16:26.034Z"
      },
      {
        "duration": 10,
        "start_time": "2024-11-15T11:16:28.679Z"
      },
      {
        "duration": 11,
        "start_time": "2024-11-15T11:16:28.691Z"
      },
      {
        "duration": 845,
        "start_time": "2024-11-15T11:16:28.704Z"
      },
      {
        "duration": 869,
        "start_time": "2024-11-15T11:16:29.551Z"
      },
      {
        "duration": 56,
        "start_time": "2024-11-15T11:16:30.421Z"
      },
      {
        "duration": 13,
        "start_time": "2024-11-15T11:16:30.479Z"
      },
      {
        "duration": 30,
        "start_time": "2024-11-15T11:16:30.493Z"
      },
      {
        "duration": 10,
        "start_time": "2024-11-15T11:16:30.525Z"
      },
      {
        "duration": 20,
        "start_time": "2024-11-15T11:16:30.537Z"
      },
      {
        "duration": 66,
        "start_time": "2024-11-15T11:16:30.559Z"
      },
      {
        "duration": 406,
        "start_time": "2024-11-15T11:16:30.627Z"
      },
      {
        "duration": 23,
        "start_time": "2024-11-15T11:16:31.035Z"
      },
      {
        "duration": 9,
        "start_time": "2024-11-15T11:16:31.062Z"
      },
      {
        "duration": 31,
        "start_time": "2024-11-15T11:16:31.072Z"
      },
      {
        "duration": 3943,
        "start_time": "2024-11-15T11:16:31.105Z"
      },
      {
        "duration": 20,
        "start_time": "2024-11-15T11:16:35.050Z"
      },
      {
        "duration": 19,
        "start_time": "2024-11-15T11:16:35.072Z"
      },
      {
        "duration": 1746,
        "start_time": "2024-11-15T11:16:35.093Z"
      },
      {
        "duration": 740,
        "start_time": "2024-11-15T11:16:36.841Z"
      },
      {
        "duration": 35,
        "start_time": "2024-11-15T11:16:37.583Z"
      },
      {
        "duration": 14,
        "start_time": "2024-11-15T11:16:37.620Z"
      },
      {
        "duration": 7,
        "start_time": "2024-11-15T11:16:37.636Z"
      },
      {
        "duration": 18,
        "start_time": "2024-11-15T11:16:37.645Z"
      },
      {
        "duration": 9,
        "start_time": "2024-11-15T11:16:37.665Z"
      },
      {
        "duration": 48,
        "start_time": "2024-11-15T11:16:37.675Z"
      },
      {
        "duration": 9,
        "start_time": "2024-11-15T11:16:37.725Z"
      },
      {
        "duration": 293,
        "start_time": "2024-11-15T11:16:37.736Z"
      },
      {
        "duration": 298,
        "start_time": "2024-11-15T11:16:38.031Z"
      },
      {
        "duration": 91,
        "start_time": "2024-11-15T11:16:38.331Z"
      },
      {
        "duration": 798,
        "start_time": "2024-11-15T11:16:38.424Z"
      },
      {
        "duration": 77317,
        "start_time": "2024-11-15T11:16:39.225Z"
      },
      {
        "duration": 82381,
        "start_time": "2024-11-15T11:17:56.543Z"
      },
      {
        "duration": 8,
        "start_time": "2024-11-15T11:19:18.926Z"
      },
      {
        "duration": 16,
        "start_time": "2024-11-15T11:19:18.936Z"
      },
      {
        "duration": 2681,
        "start_time": "2024-11-15T11:46:53.775Z"
      },
      {
        "duration": 1597,
        "start_time": "2024-11-15T11:46:56.459Z"
      },
      {
        "duration": 101,
        "start_time": "2024-11-15T11:46:58.058Z"
      },
      {
        "duration": 834,
        "start_time": "2024-11-15T11:46:58.162Z"
      },
      {
        "duration": 866,
        "start_time": "2024-11-15T11:46:58.998Z"
      },
      {
        "duration": 49,
        "start_time": "2024-11-15T11:46:59.866Z"
      },
      {
        "duration": 13,
        "start_time": "2024-11-15T11:46:59.916Z"
      },
      {
        "duration": 10,
        "start_time": "2024-11-15T11:46:59.931Z"
      },
      {
        "duration": 9,
        "start_time": "2024-11-15T11:46:59.943Z"
      },
      {
        "duration": 19,
        "start_time": "2024-11-15T11:46:59.955Z"
      },
      {
        "duration": 6,
        "start_time": "2024-11-15T11:46:59.975Z"
      },
      {
        "duration": 402,
        "start_time": "2024-11-15T11:47:00.017Z"
      },
      {
        "duration": 25,
        "start_time": "2024-11-15T11:47:00.421Z"
      },
      {
        "duration": 47,
        "start_time": "2024-11-15T11:47:00.449Z"
      },
      {
        "duration": 85,
        "start_time": "2024-11-15T11:47:00.498Z"
      },
      {
        "duration": 3886,
        "start_time": "2024-11-15T11:47:00.585Z"
      },
      {
        "duration": 179,
        "start_time": "2024-11-15T11:47:04.474Z"
      },
      {
        "duration": 0,
        "start_time": "2024-11-15T11:47:04.655Z"
      },
      {
        "duration": 0,
        "start_time": "2024-11-15T11:47:04.656Z"
      },
      {
        "duration": 0,
        "start_time": "2024-11-15T11:47:04.658Z"
      },
      {
        "duration": 0,
        "start_time": "2024-11-15T11:47:04.660Z"
      },
      {
        "duration": 0,
        "start_time": "2024-11-15T11:47:04.661Z"
      },
      {
        "duration": 0,
        "start_time": "2024-11-15T11:47:04.663Z"
      },
      {
        "duration": 0,
        "start_time": "2024-11-15T11:47:04.664Z"
      },
      {
        "duration": 0,
        "start_time": "2024-11-15T11:47:04.666Z"
      },
      {
        "duration": 0,
        "start_time": "2024-11-15T11:47:04.667Z"
      },
      {
        "duration": 0,
        "start_time": "2024-11-15T11:47:04.668Z"
      },
      {
        "duration": 0,
        "start_time": "2024-11-15T11:47:04.670Z"
      },
      {
        "duration": 0,
        "start_time": "2024-11-15T11:47:04.671Z"
      },
      {
        "duration": 0,
        "start_time": "2024-11-15T11:47:04.673Z"
      },
      {
        "duration": 0,
        "start_time": "2024-11-15T11:47:04.675Z"
      },
      {
        "duration": 0,
        "start_time": "2024-11-15T11:47:04.676Z"
      },
      {
        "duration": 0,
        "start_time": "2024-11-15T11:47:04.678Z"
      },
      {
        "duration": 0,
        "start_time": "2024-11-15T11:47:04.718Z"
      },
      {
        "duration": 0,
        "start_time": "2024-11-15T11:47:04.719Z"
      },
      {
        "duration": 0,
        "start_time": "2024-11-15T11:47:04.721Z"
      },
      {
        "duration": 0,
        "start_time": "2024-11-15T11:47:04.723Z"
      },
      {
        "duration": 0,
        "start_time": "2024-11-15T11:47:04.724Z"
      },
      {
        "duration": 0,
        "start_time": "2024-11-15T11:47:04.726Z"
      },
      {
        "duration": 56,
        "start_time": "2024-11-15T11:47:16.902Z"
      },
      {
        "duration": 11,
        "start_time": "2024-11-15T11:47:43.832Z"
      },
      {
        "duration": 7,
        "start_time": "2024-11-15T11:47:44.691Z"
      },
      {
        "duration": 845,
        "start_time": "2024-11-15T11:47:45.525Z"
      },
      {
        "duration": 804,
        "start_time": "2024-11-15T11:47:46.372Z"
      },
      {
        "duration": 187,
        "start_time": "2024-11-15T11:47:47.179Z"
      },
      {
        "duration": 11,
        "start_time": "2024-11-15T11:47:50.202Z"
      },
      {
        "duration": 11,
        "start_time": "2024-11-15T11:47:50.950Z"
      },
      {
        "duration": 6,
        "start_time": "2024-11-15T11:47:54.498Z"
      },
      {
        "duration": 23,
        "start_time": "2024-11-15T11:47:56.514Z"
      },
      {
        "duration": 7,
        "start_time": "2024-11-15T11:47:57.211Z"
      },
      {
        "duration": 410,
        "start_time": "2024-11-15T11:47:58.816Z"
      },
      {
        "duration": 19,
        "start_time": "2024-11-15T11:48:07.635Z"
      },
      {
        "duration": 3807,
        "start_time": "2024-11-15T11:48:12.329Z"
      },
      {
        "duration": 57,
        "start_time": "2024-11-15T11:48:19.130Z"
      },
      {
        "duration": 7,
        "start_time": "2024-11-15T11:48:32.870Z"
      },
      {
        "duration": 1820,
        "start_time": "2024-11-15T11:50:26.394Z"
      },
      {
        "duration": 736,
        "start_time": "2024-11-15T11:50:32.764Z"
      },
      {
        "duration": 32,
        "start_time": "2024-11-15T11:50:39.664Z"
      },
      {
        "duration": 15,
        "start_time": "2024-11-15T11:50:42.916Z"
      },
      {
        "duration": 7,
        "start_time": "2024-11-15T11:50:47.465Z"
      },
      {
        "duration": 13,
        "start_time": "2024-11-15T11:50:48.418Z"
      },
      {
        "duration": 9,
        "start_time": "2024-11-15T11:50:50.051Z"
      },
      {
        "duration": 6,
        "start_time": "2024-11-15T11:51:00.079Z"
      },
      {
        "duration": 6,
        "start_time": "2024-11-15T11:51:27.088Z"
      },
      {
        "duration": 10,
        "start_time": "2024-11-15T11:51:41.027Z"
      },
      {
        "duration": 13,
        "start_time": "2024-11-15T11:52:18.236Z"
      },
      {
        "duration": 27,
        "start_time": "2024-11-15T11:52:27.295Z"
      },
      {
        "duration": 2951,
        "start_time": "2024-11-15T11:52:42.373Z"
      },
      {
        "duration": 12,
        "start_time": "2024-11-15T11:52:45.327Z"
      },
      {
        "duration": 39,
        "start_time": "2024-11-15T11:52:45.340Z"
      },
      {
        "duration": 1292,
        "start_time": "2024-11-15T11:52:45.417Z"
      },
      {
        "duration": 781,
        "start_time": "2024-11-15T11:52:46.711Z"
      },
      {
        "duration": 60,
        "start_time": "2024-11-15T11:52:47.493Z"
      },
      {
        "duration": 13,
        "start_time": "2024-11-15T11:52:47.555Z"
      },
      {
        "duration": 19,
        "start_time": "2024-11-15T11:52:47.570Z"
      },
      {
        "duration": 8,
        "start_time": "2024-11-15T11:52:47.590Z"
      },
      {
        "duration": 21,
        "start_time": "2024-11-15T11:52:47.617Z"
      },
      {
        "duration": 24,
        "start_time": "2024-11-15T11:52:47.640Z"
      },
      {
        "duration": 388,
        "start_time": "2024-11-15T11:52:47.666Z"
      },
      {
        "duration": 17,
        "start_time": "2024-11-15T11:52:48.055Z"
      },
      {
        "duration": 39,
        "start_time": "2024-11-15T11:52:48.073Z"
      },
      {
        "duration": 41,
        "start_time": "2024-11-15T11:52:48.113Z"
      },
      {
        "duration": 4262,
        "start_time": "2024-11-15T11:52:48.157Z"
      },
      {
        "duration": 54,
        "start_time": "2024-11-15T11:52:52.421Z"
      },
      {
        "duration": 41,
        "start_time": "2024-11-15T11:52:52.477Z"
      },
      {
        "duration": 81,
        "start_time": "2024-11-15T11:52:52.520Z"
      },
      {
        "duration": 1679,
        "start_time": "2024-11-15T11:52:52.603Z"
      },
      {
        "duration": 702,
        "start_time": "2024-11-15T11:52:54.284Z"
      },
      {
        "duration": 33,
        "start_time": "2024-11-15T11:52:54.988Z"
      },
      {
        "duration": 11,
        "start_time": "2024-11-15T11:52:55.022Z"
      },
      {
        "duration": 11,
        "start_time": "2024-11-15T11:52:55.035Z"
      },
      {
        "duration": 11,
        "start_time": "2024-11-15T11:52:55.047Z"
      },
      {
        "duration": 9,
        "start_time": "2024-11-15T11:52:55.060Z"
      },
      {
        "duration": 12,
        "start_time": "2024-11-15T11:52:55.070Z"
      },
      {
        "duration": 37,
        "start_time": "2024-11-15T11:52:55.118Z"
      },
      {
        "duration": 278,
        "start_time": "2024-11-15T11:52:55.157Z"
      },
      {
        "duration": 384,
        "start_time": "2024-11-15T11:52:55.437Z"
      },
      {
        "duration": 11,
        "start_time": "2024-11-15T11:52:55.824Z"
      },
      {
        "duration": 660,
        "start_time": "2024-11-15T11:52:55.918Z"
      },
      {
        "duration": 66213,
        "start_time": "2024-11-15T11:52:56.580Z"
      },
      {
        "duration": 70792,
        "start_time": "2024-11-15T11:54:02.794Z"
      },
      {
        "duration": 9,
        "start_time": "2024-11-15T11:55:13.589Z"
      },
      {
        "duration": 22,
        "start_time": "2024-11-15T11:55:13.600Z"
      },
      {
        "duration": 81503,
        "start_time": "2024-11-15T11:55:13.624Z"
      },
      {
        "duration": 6753657,
        "start_time": "2024-11-15T11:56:35.130Z"
      },
      {
        "duration": 5493,
        "start_time": "2024-11-15T13:49:08.789Z"
      },
      {
        "duration": 73,
        "start_time": "2024-11-15T13:54:29.980Z"
      },
      {
        "duration": 73,
        "start_time": "2024-11-15T13:54:35.626Z"
      },
      {
        "duration": 53,
        "start_time": "2024-11-15T13:54:41.792Z"
      },
      {
        "duration": 5503,
        "start_time": "2024-11-15T13:55:08.329Z"
      },
      {
        "duration": 26,
        "start_time": "2024-11-15T13:55:16.878Z"
      },
      {
        "duration": 33,
        "start_time": "2024-11-15T13:55:23.070Z"
      },
      {
        "duration": 39,
        "start_time": "2024-11-15T14:01:36.543Z"
      },
      {
        "duration": 7,
        "start_time": "2024-11-15T14:01:50.737Z"
      },
      {
        "duration": 27,
        "start_time": "2024-11-15T14:01:59.842Z"
      },
      {
        "duration": 20,
        "start_time": "2024-11-15T14:08:08.799Z"
      },
      {
        "duration": 19,
        "start_time": "2024-11-15T14:08:11.326Z"
      },
      {
        "duration": 19,
        "start_time": "2024-11-15T14:09:04.456Z"
      },
      {
        "duration": 20,
        "start_time": "2024-11-15T14:09:06.944Z"
      },
      {
        "duration": 11,
        "start_time": "2024-11-15T14:09:39.291Z"
      },
      {
        "duration": 2655,
        "start_time": "2024-11-15T14:09:46.957Z"
      },
      {
        "duration": 12,
        "start_time": "2024-11-15T14:09:49.616Z"
      },
      {
        "duration": 18,
        "start_time": "2024-11-15T14:09:49.630Z"
      },
      {
        "duration": 774,
        "start_time": "2024-11-15T14:09:49.649Z"
      },
      {
        "duration": 609,
        "start_time": "2024-11-15T14:09:50.425Z"
      },
      {
        "duration": 50,
        "start_time": "2024-11-15T14:09:51.036Z"
      },
      {
        "duration": 30,
        "start_time": "2024-11-15T14:09:51.088Z"
      },
      {
        "duration": 10,
        "start_time": "2024-11-15T14:09:51.119Z"
      },
      {
        "duration": 6,
        "start_time": "2024-11-15T14:09:51.131Z"
      },
      {
        "duration": 45,
        "start_time": "2024-11-15T14:09:51.139Z"
      },
      {
        "duration": 31,
        "start_time": "2024-11-15T14:09:51.185Z"
      },
      {
        "duration": 426,
        "start_time": "2024-11-15T14:09:51.219Z"
      },
      {
        "duration": 18,
        "start_time": "2024-11-15T14:09:51.647Z"
      },
      {
        "duration": 14,
        "start_time": "2024-11-15T14:09:51.668Z"
      },
      {
        "duration": 13,
        "start_time": "2024-11-15T14:09:51.718Z"
      },
      {
        "duration": 3997,
        "start_time": "2024-11-15T14:09:51.733Z"
      },
      {
        "duration": 52,
        "start_time": "2024-11-15T14:09:55.732Z"
      },
      {
        "duration": 37,
        "start_time": "2024-11-15T14:09:55.785Z"
      },
      {
        "duration": 38,
        "start_time": "2024-11-15T14:09:55.824Z"
      },
      {
        "duration": 1537,
        "start_time": "2024-11-15T14:09:55.863Z"
      },
      {
        "duration": 701,
        "start_time": "2024-11-15T14:09:57.402Z"
      },
      {
        "duration": 31,
        "start_time": "2024-11-15T14:09:58.105Z"
      },
      {
        "duration": 16,
        "start_time": "2024-11-15T14:09:58.138Z"
      },
      {
        "duration": 6,
        "start_time": "2024-11-15T14:09:58.156Z"
      },
      {
        "duration": 7098,
        "start_time": "2024-11-15T14:09:58.164Z"
      },
      {
        "duration": 11,
        "start_time": "2024-11-15T14:10:05.264Z"
      },
      {
        "duration": 49,
        "start_time": "2024-11-15T14:10:05.277Z"
      },
      {
        "duration": 50,
        "start_time": "2024-11-15T14:10:05.329Z"
      },
      {
        "duration": 7,
        "start_time": "2024-11-15T14:10:05.418Z"
      },
      {
        "duration": 30,
        "start_time": "2024-11-15T14:10:05.427Z"
      },
      {
        "duration": 266,
        "start_time": "2024-11-15T14:10:05.459Z"
      },
      {
        "duration": 301,
        "start_time": "2024-11-15T14:10:05.727Z"
      },
      {
        "duration": 10,
        "start_time": "2024-11-15T14:10:06.120Z"
      },
      {
        "duration": 920,
        "start_time": "2024-11-15T14:10:06.219Z"
      },
      {
        "duration": 64495,
        "start_time": "2024-11-15T14:10:07.140Z"
      },
      {
        "duration": 68766,
        "start_time": "2024-11-15T14:11:11.637Z"
      },
      {
        "duration": 13,
        "start_time": "2024-11-15T14:12:20.405Z"
      },
      {
        "duration": 79990,
        "start_time": "2024-11-15T14:12:20.420Z"
      },
      {
        "duration": 1307172,
        "start_time": "2024-11-15T14:13:40.412Z"
      },
      {
        "duration": 0,
        "start_time": "2024-11-15T14:35:27.587Z"
      },
      {
        "duration": 0,
        "start_time": "2024-11-15T14:35:27.588Z"
      },
      {
        "duration": 0,
        "start_time": "2024-11-15T14:35:27.589Z"
      },
      {
        "duration": 0,
        "start_time": "2024-11-15T14:35:27.590Z"
      },
      {
        "duration": 0,
        "start_time": "2024-11-15T14:35:27.593Z"
      },
      {
        "duration": 0,
        "start_time": "2024-11-15T14:35:27.594Z"
      },
      {
        "duration": 0,
        "start_time": "2024-11-15T14:35:27.596Z"
      },
      {
        "duration": 0,
        "start_time": "2024-11-15T14:35:27.620Z"
      },
      {
        "duration": 0,
        "start_time": "2024-11-15T14:35:27.621Z"
      },
      {
        "duration": 3028,
        "start_time": "2024-11-15T14:35:34.120Z"
      },
      {
        "duration": 11,
        "start_time": "2024-11-15T14:35:37.150Z"
      },
      {
        "duration": 19,
        "start_time": "2024-11-15T14:35:37.163Z"
      },
      {
        "duration": 1008,
        "start_time": "2024-11-15T14:35:37.184Z"
      },
      {
        "duration": 760,
        "start_time": "2024-11-15T14:35:38.194Z"
      },
      {
        "duration": 51,
        "start_time": "2024-11-15T14:35:38.956Z"
      },
      {
        "duration": 14,
        "start_time": "2024-11-15T14:35:39.009Z"
      },
      {
        "duration": 9,
        "start_time": "2024-11-15T14:35:39.025Z"
      },
      {
        "duration": 15,
        "start_time": "2024-11-15T14:35:39.036Z"
      },
      {
        "duration": 21,
        "start_time": "2024-11-15T14:35:39.052Z"
      },
      {
        "duration": 20,
        "start_time": "2024-11-15T14:35:39.075Z"
      },
      {
        "duration": 364,
        "start_time": "2024-11-15T14:35:39.097Z"
      },
      {
        "duration": 16,
        "start_time": "2024-11-15T14:35:39.462Z"
      },
      {
        "duration": 8,
        "start_time": "2024-11-15T14:35:39.481Z"
      },
      {
        "duration": 11,
        "start_time": "2024-11-15T14:35:39.518Z"
      },
      {
        "duration": 3993,
        "start_time": "2024-11-15T14:35:39.530Z"
      },
      {
        "duration": 16,
        "start_time": "2024-11-15T14:35:43.525Z"
      },
      {
        "duration": 24,
        "start_time": "2024-11-15T14:35:43.543Z"
      },
      {
        "duration": 1631,
        "start_time": "2024-11-15T14:35:43.569Z"
      },
      {
        "duration": 716,
        "start_time": "2024-11-15T14:35:45.202Z"
      },
      {
        "duration": 333,
        "start_time": "2024-11-15T14:35:45.919Z"
      },
      {
        "duration": 10,
        "start_time": "2024-11-15T14:35:46.254Z"
      },
      {
        "duration": 15,
        "start_time": "2024-11-15T14:35:46.266Z"
      },
      {
        "duration": 7165,
        "start_time": "2024-11-15T14:35:46.283Z"
      },
      {
        "duration": 15,
        "start_time": "2024-11-15T14:35:53.451Z"
      },
      {
        "duration": 55,
        "start_time": "2024-11-15T14:35:53.469Z"
      },
      {
        "duration": 11,
        "start_time": "2024-11-15T14:35:53.526Z"
      },
      {
        "duration": 20,
        "start_time": "2024-11-15T14:35:53.538Z"
      },
      {
        "duration": 5,
        "start_time": "2024-11-15T14:35:53.559Z"
      },
      {
        "duration": 261,
        "start_time": "2024-11-15T14:35:53.565Z"
      },
      {
        "duration": 491,
        "start_time": "2024-11-15T14:35:53.828Z"
      },
      {
        "duration": 97,
        "start_time": "2024-11-15T14:35:54.321Z"
      },
      {
        "duration": 1079,
        "start_time": "2024-11-15T14:35:54.420Z"
      },
      {
        "duration": 75731,
        "start_time": "2024-11-15T14:35:55.501Z"
      },
      {
        "duration": 79761,
        "start_time": "2024-11-15T14:37:11.233Z"
      },
      {
        "duration": 7,
        "start_time": "2024-11-15T14:38:30.995Z"
      },
      {
        "duration": 93488,
        "start_time": "2024-11-15T14:38:31.004Z"
      },
      {
        "duration": 2088139,
        "start_time": "2024-11-15T14:40:04.494Z"
      },
      {
        "duration": 0,
        "start_time": "2024-11-15T15:14:52.635Z"
      },
      {
        "duration": 0,
        "start_time": "2024-11-15T15:14:52.636Z"
      },
      {
        "duration": 1,
        "start_time": "2024-11-15T15:14:52.637Z"
      },
      {
        "duration": 0,
        "start_time": "2024-11-15T15:14:52.639Z"
      },
      {
        "duration": 0,
        "start_time": "2024-11-15T15:14:52.640Z"
      },
      {
        "duration": 0,
        "start_time": "2024-11-15T15:14:52.641Z"
      },
      {
        "duration": 0,
        "start_time": "2024-11-15T15:14:52.644Z"
      },
      {
        "duration": 0,
        "start_time": "2024-11-15T15:14:52.645Z"
      },
      {
        "duration": 0,
        "start_time": "2024-11-15T15:14:52.646Z"
      },
      {
        "duration": 0,
        "start_time": "2024-11-15T15:14:52.648Z"
      },
      {
        "duration": 0,
        "start_time": "2024-11-15T15:14:52.649Z"
      },
      {
        "duration": 0,
        "start_time": "2024-11-15T15:14:52.650Z"
      },
      {
        "duration": 2714,
        "start_time": "2024-11-15T15:18:19.380Z"
      },
      {
        "duration": 13,
        "start_time": "2024-11-15T15:18:22.097Z"
      },
      {
        "duration": 11,
        "start_time": "2024-11-15T15:18:22.112Z"
      },
      {
        "duration": 760,
        "start_time": "2024-11-15T15:18:22.124Z"
      },
      {
        "duration": 780,
        "start_time": "2024-11-15T15:18:22.888Z"
      },
      {
        "duration": 60,
        "start_time": "2024-11-15T15:18:23.670Z"
      },
      {
        "duration": 43,
        "start_time": "2024-11-15T15:18:23.732Z"
      },
      {
        "duration": 9,
        "start_time": "2024-11-15T15:18:23.776Z"
      },
      {
        "duration": 8,
        "start_time": "2024-11-15T15:18:23.787Z"
      },
      {
        "duration": 19,
        "start_time": "2024-11-15T15:18:23.796Z"
      },
      {
        "duration": 4,
        "start_time": "2024-11-15T15:18:23.817Z"
      },
      {
        "duration": 359,
        "start_time": "2024-11-15T15:18:23.823Z"
      },
      {
        "duration": 37,
        "start_time": "2024-11-15T15:18:24.184Z"
      },
      {
        "duration": 11,
        "start_time": "2024-11-15T15:18:24.226Z"
      },
      {
        "duration": 10,
        "start_time": "2024-11-15T15:18:24.239Z"
      },
      {
        "duration": 4032,
        "start_time": "2024-11-15T15:18:24.251Z"
      },
      {
        "duration": 17,
        "start_time": "2024-11-15T15:18:28.285Z"
      },
      {
        "duration": 16,
        "start_time": "2024-11-15T15:18:28.303Z"
      },
      {
        "duration": 1606,
        "start_time": "2024-11-15T15:18:28.320Z"
      },
      {
        "duration": 693,
        "start_time": "2024-11-15T15:18:29.928Z"
      },
      {
        "duration": 29,
        "start_time": "2024-11-15T15:18:30.623Z"
      },
      {
        "duration": 12,
        "start_time": "2024-11-15T15:18:30.654Z"
      },
      {
        "duration": 81,
        "start_time": "2024-11-15T15:18:30.667Z"
      },
      {
        "duration": 0,
        "start_time": "2024-11-15T15:18:30.750Z"
      },
      {
        "duration": 0,
        "start_time": "2024-11-15T15:18:30.753Z"
      },
      {
        "duration": 0,
        "start_time": "2024-11-15T15:18:30.754Z"
      },
      {
        "duration": 0,
        "start_time": "2024-11-15T15:18:30.755Z"
      },
      {
        "duration": 0,
        "start_time": "2024-11-15T15:18:30.757Z"
      },
      {
        "duration": 0,
        "start_time": "2024-11-15T15:18:30.758Z"
      },
      {
        "duration": 0,
        "start_time": "2024-11-15T15:18:30.759Z"
      },
      {
        "duration": 0,
        "start_time": "2024-11-15T15:18:30.761Z"
      },
      {
        "duration": 0,
        "start_time": "2024-11-15T15:18:30.762Z"
      },
      {
        "duration": 0,
        "start_time": "2024-11-15T15:18:30.763Z"
      },
      {
        "duration": 0,
        "start_time": "2024-11-15T15:18:30.764Z"
      },
      {
        "duration": 0,
        "start_time": "2024-11-15T15:18:30.766Z"
      },
      {
        "duration": 0,
        "start_time": "2024-11-15T15:18:30.767Z"
      },
      {
        "duration": 0,
        "start_time": "2024-11-15T15:18:30.768Z"
      },
      {
        "duration": 0,
        "start_time": "2024-11-15T15:18:30.770Z"
      },
      {
        "duration": 0,
        "start_time": "2024-11-15T15:18:30.771Z"
      },
      {
        "duration": 0,
        "start_time": "2024-11-15T15:18:30.772Z"
      },
      {
        "duration": 0,
        "start_time": "2024-11-15T15:18:30.773Z"
      },
      {
        "duration": 2645,
        "start_time": "2024-11-15T15:23:13.296Z"
      },
      {
        "duration": 11,
        "start_time": "2024-11-15T15:23:15.944Z"
      },
      {
        "duration": 9,
        "start_time": "2024-11-15T15:23:15.957Z"
      },
      {
        "duration": 797,
        "start_time": "2024-11-15T15:23:15.967Z"
      },
      {
        "duration": 730,
        "start_time": "2024-11-15T15:23:16.766Z"
      },
      {
        "duration": 50,
        "start_time": "2024-11-15T15:23:17.498Z"
      },
      {
        "duration": 14,
        "start_time": "2024-11-15T15:23:17.550Z"
      },
      {
        "duration": 10,
        "start_time": "2024-11-15T15:23:17.566Z"
      },
      {
        "duration": 8,
        "start_time": "2024-11-15T15:23:17.578Z"
      },
      {
        "duration": 46,
        "start_time": "2024-11-15T15:23:17.589Z"
      },
      {
        "duration": 7,
        "start_time": "2024-11-15T15:23:17.637Z"
      },
      {
        "duration": 411,
        "start_time": "2024-11-15T15:23:17.646Z"
      },
      {
        "duration": 17,
        "start_time": "2024-11-15T15:23:18.059Z"
      },
      {
        "duration": 9,
        "start_time": "2024-11-15T15:23:18.077Z"
      },
      {
        "duration": 42,
        "start_time": "2024-11-15T15:23:18.087Z"
      },
      {
        "duration": 4202,
        "start_time": "2024-11-15T15:23:18.131Z"
      },
      {
        "duration": 18,
        "start_time": "2024-11-15T15:23:22.335Z"
      },
      {
        "duration": 36,
        "start_time": "2024-11-15T15:23:22.355Z"
      },
      {
        "duration": 1659,
        "start_time": "2024-11-15T15:23:22.392Z"
      },
      {
        "duration": 772,
        "start_time": "2024-11-15T15:23:24.053Z"
      },
      {
        "duration": 32,
        "start_time": "2024-11-15T15:23:24.834Z"
      },
      {
        "duration": 11,
        "start_time": "2024-11-15T15:23:24.868Z"
      },
      {
        "duration": 64,
        "start_time": "2024-11-15T15:23:24.881Z"
      },
      {
        "duration": 0,
        "start_time": "2024-11-15T15:23:24.947Z"
      },
      {
        "duration": 0,
        "start_time": "2024-11-15T15:23:24.948Z"
      },
      {
        "duration": 0,
        "start_time": "2024-11-15T15:23:24.949Z"
      },
      {
        "duration": 0,
        "start_time": "2024-11-15T15:23:24.950Z"
      },
      {
        "duration": 0,
        "start_time": "2024-11-15T15:23:24.952Z"
      },
      {
        "duration": 0,
        "start_time": "2024-11-15T15:23:24.953Z"
      },
      {
        "duration": 0,
        "start_time": "2024-11-15T15:23:24.954Z"
      },
      {
        "duration": 0,
        "start_time": "2024-11-15T15:23:24.955Z"
      },
      {
        "duration": 0,
        "start_time": "2024-11-15T15:23:24.956Z"
      },
      {
        "duration": 0,
        "start_time": "2024-11-15T15:23:24.957Z"
      },
      {
        "duration": 0,
        "start_time": "2024-11-15T15:23:24.958Z"
      },
      {
        "duration": 0,
        "start_time": "2024-11-15T15:23:24.959Z"
      },
      {
        "duration": 0,
        "start_time": "2024-11-15T15:23:24.961Z"
      },
      {
        "duration": 0,
        "start_time": "2024-11-15T15:23:24.962Z"
      },
      {
        "duration": 0,
        "start_time": "2024-11-15T15:23:24.963Z"
      },
      {
        "duration": 0,
        "start_time": "2024-11-15T15:23:24.964Z"
      },
      {
        "duration": 0,
        "start_time": "2024-11-15T15:23:24.965Z"
      },
      {
        "duration": 0,
        "start_time": "2024-11-15T15:23:24.965Z"
      },
      {
        "duration": 63,
        "start_time": "2024-11-15T15:24:56.418Z"
      },
      {
        "duration": 62,
        "start_time": "2024-11-15T15:25:10.301Z"
      },
      {
        "duration": 16,
        "start_time": "2024-11-15T15:26:22.156Z"
      },
      {
        "duration": 13,
        "start_time": "2024-11-15T15:26:24.383Z"
      },
      {
        "duration": 2653,
        "start_time": "2024-11-15T15:26:47.683Z"
      },
      {
        "duration": 14,
        "start_time": "2024-11-15T15:26:50.338Z"
      },
      {
        "duration": 24,
        "start_time": "2024-11-15T15:26:50.353Z"
      },
      {
        "duration": 757,
        "start_time": "2024-11-15T15:26:50.378Z"
      },
      {
        "duration": 812,
        "start_time": "2024-11-15T15:26:51.138Z"
      },
      {
        "duration": 55,
        "start_time": "2024-11-15T15:26:51.954Z"
      },
      {
        "duration": 12,
        "start_time": "2024-11-15T15:26:52.011Z"
      },
      {
        "duration": 20,
        "start_time": "2024-11-15T15:26:52.024Z"
      },
      {
        "duration": 186,
        "start_time": "2024-11-15T15:26:52.045Z"
      },
      {
        "duration": 36,
        "start_time": "2024-11-15T15:26:52.233Z"
      },
      {
        "duration": 9,
        "start_time": "2024-11-15T15:26:52.271Z"
      },
      {
        "duration": 354,
        "start_time": "2024-11-15T15:26:52.282Z"
      },
      {
        "duration": 23,
        "start_time": "2024-11-15T15:26:52.638Z"
      },
      {
        "duration": 10,
        "start_time": "2024-11-15T15:26:52.665Z"
      },
      {
        "duration": 12,
        "start_time": "2024-11-15T15:26:52.719Z"
      },
      {
        "duration": 4014,
        "start_time": "2024-11-15T15:26:52.733Z"
      },
      {
        "duration": 18,
        "start_time": "2024-11-15T15:26:56.748Z"
      },
      {
        "duration": 5,
        "start_time": "2024-11-15T15:26:56.768Z"
      },
      {
        "duration": 1960,
        "start_time": "2024-11-15T15:26:56.774Z"
      },
      {
        "duration": 731,
        "start_time": "2024-11-15T15:26:58.736Z"
      },
      {
        "duration": 28,
        "start_time": "2024-11-15T15:26:59.469Z"
      },
      {
        "duration": 24,
        "start_time": "2024-11-15T15:26:59.499Z"
      },
      {
        "duration": 14,
        "start_time": "2024-11-15T15:26:59.525Z"
      },
      {
        "duration": 7,
        "start_time": "2024-11-15T15:26:59.541Z"
      },
      {
        "duration": 11,
        "start_time": "2024-11-15T15:26:59.549Z"
      },
      {
        "duration": 10,
        "start_time": "2024-11-15T15:26:59.561Z"
      },
      {
        "duration": 346,
        "start_time": "2024-11-15T15:26:59.572Z"
      },
      {
        "duration": 297,
        "start_time": "2024-11-15T15:26:59.920Z"
      },
      {
        "duration": 96,
        "start_time": "2024-11-15T15:27:00.222Z"
      },
      {
        "duration": 778,
        "start_time": "2024-11-15T15:27:00.320Z"
      },
      {
        "duration": 79934,
        "start_time": "2024-11-15T15:27:01.099Z"
      },
      {
        "duration": 83360,
        "start_time": "2024-11-15T15:28:21.035Z"
      },
      {
        "duration": 7,
        "start_time": "2024-11-15T15:29:44.397Z"
      },
      {
        "duration": 97725,
        "start_time": "2024-11-15T15:29:44.405Z"
      },
      {
        "duration": 7857972,
        "start_time": "2024-11-15T15:31:22.133Z"
      },
      {
        "duration": 140,
        "start_time": "2024-11-15T17:42:20.108Z"
      },
      {
        "duration": 0,
        "start_time": "2024-11-15T17:42:20.250Z"
      },
      {
        "duration": 0,
        "start_time": "2024-11-15T17:42:20.251Z"
      },
      {
        "duration": 0,
        "start_time": "2024-11-15T17:42:20.252Z"
      },
      {
        "duration": 0,
        "start_time": "2024-11-15T17:42:20.254Z"
      },
      {
        "duration": 0,
        "start_time": "2024-11-15T17:42:20.255Z"
      },
      {
        "duration": 18,
        "start_time": "2024-11-15T19:58:50.064Z"
      },
      {
        "duration": 18,
        "start_time": "2024-11-15T19:59:03.483Z"
      },
      {
        "duration": 62,
        "start_time": "2024-11-15T20:05:17.686Z"
      },
      {
        "duration": 2720,
        "start_time": "2024-11-15T20:05:37.046Z"
      },
      {
        "duration": 17,
        "start_time": "2024-11-15T20:05:39.770Z"
      },
      {
        "duration": 36,
        "start_time": "2024-11-15T20:05:39.789Z"
      },
      {
        "duration": 1553,
        "start_time": "2024-11-15T20:05:39.827Z"
      },
      {
        "duration": 759,
        "start_time": "2024-11-15T20:05:41.383Z"
      },
      {
        "duration": 53,
        "start_time": "2024-11-15T20:05:42.144Z"
      },
      {
        "duration": 28,
        "start_time": "2024-11-15T20:05:42.200Z"
      },
      {
        "duration": 10,
        "start_time": "2024-11-15T20:05:42.230Z"
      },
      {
        "duration": 9,
        "start_time": "2024-11-15T20:05:42.243Z"
      },
      {
        "duration": 23,
        "start_time": "2024-11-15T20:05:42.254Z"
      },
      {
        "duration": 41,
        "start_time": "2024-11-15T20:05:42.279Z"
      },
      {
        "duration": 372,
        "start_time": "2024-11-15T20:05:42.324Z"
      },
      {
        "duration": 30,
        "start_time": "2024-11-15T20:05:42.697Z"
      },
      {
        "duration": 12,
        "start_time": "2024-11-15T20:05:42.731Z"
      },
      {
        "duration": 14,
        "start_time": "2024-11-15T20:05:42.746Z"
      },
      {
        "duration": 4546,
        "start_time": "2024-11-15T20:05:42.762Z"
      },
      {
        "duration": 21,
        "start_time": "2024-11-15T20:05:47.317Z"
      },
      {
        "duration": 8,
        "start_time": "2024-11-15T20:05:47.340Z"
      },
      {
        "duration": 1720,
        "start_time": "2024-11-15T20:05:47.350Z"
      },
      {
        "duration": 827,
        "start_time": "2024-11-15T20:05:49.072Z"
      },
      {
        "duration": 45,
        "start_time": "2024-11-15T20:05:49.901Z"
      },
      {
        "duration": 52,
        "start_time": "2024-11-15T20:05:49.948Z"
      },
      {
        "duration": 26,
        "start_time": "2024-11-15T20:05:50.002Z"
      },
      {
        "duration": 8,
        "start_time": "2024-11-15T20:05:50.031Z"
      },
      {
        "duration": 11,
        "start_time": "2024-11-15T20:05:50.041Z"
      },
      {
        "duration": 7,
        "start_time": "2024-11-15T20:05:50.054Z"
      },
      {
        "duration": 260,
        "start_time": "2024-11-15T20:05:50.063Z"
      },
      {
        "duration": 211,
        "start_time": "2024-11-15T20:05:50.326Z"
      },
      {
        "duration": 132,
        "start_time": "2024-11-15T20:05:50.619Z"
      },
      {
        "duration": 0,
        "start_time": "2024-11-15T20:05:50.752Z"
      },
      {
        "duration": 0,
        "start_time": "2024-11-15T20:05:50.754Z"
      },
      {
        "duration": 0,
        "start_time": "2024-11-15T20:05:50.756Z"
      },
      {
        "duration": 0,
        "start_time": "2024-11-15T20:05:50.757Z"
      },
      {
        "duration": 0,
        "start_time": "2024-11-15T20:05:50.759Z"
      },
      {
        "duration": 0,
        "start_time": "2024-11-15T20:05:50.760Z"
      },
      {
        "duration": 0,
        "start_time": "2024-11-15T20:05:50.762Z"
      },
      {
        "duration": 0,
        "start_time": "2024-11-15T20:05:50.763Z"
      },
      {
        "duration": 0,
        "start_time": "2024-11-15T20:05:50.765Z"
      },
      {
        "duration": 0,
        "start_time": "2024-11-15T20:05:50.766Z"
      },
      {
        "duration": 0,
        "start_time": "2024-11-15T20:05:50.767Z"
      },
      {
        "duration": 0,
        "start_time": "2024-11-15T20:05:50.768Z"
      },
      {
        "duration": 68,
        "start_time": "2024-11-15T20:05:58.215Z"
      },
      {
        "duration": 6,
        "start_time": "2024-11-15T20:09:51.092Z"
      },
      {
        "duration": 337,
        "start_time": "2024-11-15T20:09:54.491Z"
      },
      {
        "duration": 285,
        "start_time": "2024-11-15T20:09:56.834Z"
      },
      {
        "duration": 74,
        "start_time": "2024-11-15T20:09:58.273Z"
      },
      {
        "duration": 62,
        "start_time": "2024-11-15T20:10:01.914Z"
      },
      {
        "duration": 9,
        "start_time": "2024-11-15T20:10:12.442Z"
      },
      {
        "duration": 7,
        "start_time": "2024-11-15T20:10:14.474Z"
      },
      {
        "duration": 20,
        "start_time": "2024-11-15T20:11:16.328Z"
      },
      {
        "duration": 8,
        "start_time": "2024-11-15T20:11:28.613Z"
      },
      {
        "duration": 763,
        "start_time": "2024-11-15T20:12:06.589Z"
      },
      {
        "duration": 69435,
        "start_time": "2024-11-15T20:14:55.074Z"
      },
      {
        "duration": 84906,
        "start_time": "2024-11-15T20:16:04.511Z"
      },
      {
        "duration": 69211,
        "start_time": "2024-11-15T20:19:46.818Z"
      },
      {
        "duration": 11,
        "start_time": "2024-11-15T20:22:08.077Z"
      },
      {
        "duration": 8,
        "start_time": "2024-11-15T20:24:32.684Z"
      },
      {
        "duration": 8,
        "start_time": "2024-11-15T20:24:49.382Z"
      },
      {
        "duration": 16,
        "start_time": "2024-11-15T20:27:35.188Z"
      },
      {
        "duration": 154,
        "start_time": "2024-11-15T20:29:07.470Z"
      },
      {
        "duration": 100859,
        "start_time": "2024-11-15T20:30:29.219Z"
      },
      {
        "duration": 2699,
        "start_time": "2024-11-15T20:54:02.553Z"
      },
      {
        "duration": 12,
        "start_time": "2024-11-15T20:54:05.254Z"
      },
      {
        "duration": 20,
        "start_time": "2024-11-15T20:54:05.268Z"
      },
      {
        "duration": 729,
        "start_time": "2024-11-15T20:54:05.290Z"
      },
      {
        "duration": 708,
        "start_time": "2024-11-15T20:54:06.021Z"
      },
      {
        "duration": 53,
        "start_time": "2024-11-15T20:54:06.732Z"
      },
      {
        "duration": 12,
        "start_time": "2024-11-15T20:54:06.787Z"
      },
      {
        "duration": 18,
        "start_time": "2024-11-15T20:54:06.801Z"
      },
      {
        "duration": 16,
        "start_time": "2024-11-15T20:54:06.823Z"
      },
      {
        "duration": 38,
        "start_time": "2024-11-15T20:54:06.842Z"
      },
      {
        "duration": 6,
        "start_time": "2024-11-15T20:54:06.882Z"
      },
      {
        "duration": 379,
        "start_time": "2024-11-15T20:54:06.891Z"
      },
      {
        "duration": 46,
        "start_time": "2024-11-15T20:54:07.272Z"
      },
      {
        "duration": 13,
        "start_time": "2024-11-15T20:54:07.320Z"
      },
      {
        "duration": 16,
        "start_time": "2024-11-15T20:54:07.336Z"
      },
      {
        "duration": 4001,
        "start_time": "2024-11-15T20:54:07.354Z"
      },
      {
        "duration": 272,
        "start_time": "2024-11-15T20:54:11.356Z"
      },
      {
        "duration": 25,
        "start_time": "2024-11-15T20:54:11.630Z"
      },
      {
        "duration": 1884,
        "start_time": "2024-11-15T20:54:11.657Z"
      },
      {
        "duration": 760,
        "start_time": "2024-11-15T20:54:13.543Z"
      },
      {
        "duration": 47,
        "start_time": "2024-11-15T20:54:14.305Z"
      },
      {
        "duration": 13,
        "start_time": "2024-11-15T20:54:14.354Z"
      },
      {
        "duration": 15,
        "start_time": "2024-11-15T20:54:14.369Z"
      },
      {
        "duration": 35,
        "start_time": "2024-11-15T20:54:14.386Z"
      },
      {
        "duration": 17,
        "start_time": "2024-11-15T20:54:14.424Z"
      },
      {
        "duration": 8,
        "start_time": "2024-11-15T20:54:14.443Z"
      },
      {
        "duration": 265,
        "start_time": "2024-11-15T20:54:14.455Z"
      },
      {
        "duration": 395,
        "start_time": "2024-11-15T20:54:14.722Z"
      },
      {
        "duration": 9,
        "start_time": "2024-11-15T20:54:15.119Z"
      },
      {
        "duration": 66906,
        "start_time": "2024-11-15T20:54:15.130Z"
      },
      {
        "duration": 76074,
        "start_time": "2024-11-15T20:55:22.039Z"
      },
      {
        "duration": 10,
        "start_time": "2024-11-15T20:56:38.118Z"
      },
      {
        "duration": 583836,
        "start_time": "2024-11-15T21:06:01.094Z"
      },
      {
        "duration": 39,
        "start_time": "2024-11-15T21:15:44.932Z"
      },
      {
        "duration": 0,
        "start_time": "2024-11-15T21:15:44.974Z"
      },
      {
        "duration": 0,
        "start_time": "2024-11-15T21:15:44.975Z"
      },
      {
        "duration": 0,
        "start_time": "2024-11-15T21:15:44.976Z"
      },
      {
        "duration": 0,
        "start_time": "2024-11-15T21:15:44.977Z"
      },
      {
        "duration": 0,
        "start_time": "2024-11-15T21:15:44.978Z"
      },
      {
        "duration": 0,
        "start_time": "2024-11-15T21:15:44.980Z"
      },
      {
        "duration": 22,
        "start_time": "2024-11-15T21:19:58.366Z"
      },
      {
        "duration": 126,
        "start_time": "2024-11-15T21:29:38.884Z"
      },
      {
        "duration": 2664,
        "start_time": "2024-11-15T21:29:56.307Z"
      },
      {
        "duration": 10,
        "start_time": "2024-11-15T21:29:58.974Z"
      },
      {
        "duration": 23,
        "start_time": "2024-11-15T21:29:58.986Z"
      },
      {
        "duration": 705,
        "start_time": "2024-11-15T21:29:59.011Z"
      },
      {
        "duration": 654,
        "start_time": "2024-11-15T21:29:59.720Z"
      },
      {
        "duration": 60,
        "start_time": "2024-11-15T21:30:00.376Z"
      },
      {
        "duration": 12,
        "start_time": "2024-11-15T21:30:00.438Z"
      },
      {
        "duration": 10,
        "start_time": "2024-11-15T21:30:00.451Z"
      },
      {
        "duration": 8,
        "start_time": "2024-11-15T21:30:00.462Z"
      },
      {
        "duration": 50,
        "start_time": "2024-11-15T21:30:00.472Z"
      },
      {
        "duration": 18,
        "start_time": "2024-11-15T21:30:00.524Z"
      },
      {
        "duration": 373,
        "start_time": "2024-11-15T21:30:00.544Z"
      },
      {
        "duration": 18,
        "start_time": "2024-11-15T21:30:00.919Z"
      },
      {
        "duration": 9,
        "start_time": "2024-11-15T21:30:00.942Z"
      },
      {
        "duration": 48,
        "start_time": "2024-11-15T21:30:00.953Z"
      },
      {
        "duration": 4422,
        "start_time": "2024-11-15T21:30:01.003Z"
      },
      {
        "duration": 19,
        "start_time": "2024-11-15T21:30:05.427Z"
      },
      {
        "duration": 25,
        "start_time": "2024-11-15T21:30:05.447Z"
      },
      {
        "duration": 1595,
        "start_time": "2024-11-15T21:30:05.474Z"
      },
      {
        "duration": 703,
        "start_time": "2024-11-15T21:30:07.070Z"
      },
      {
        "duration": 29,
        "start_time": "2024-11-15T21:30:07.775Z"
      },
      {
        "duration": 19,
        "start_time": "2024-11-15T21:30:07.806Z"
      },
      {
        "duration": 14,
        "start_time": "2024-11-15T21:30:07.827Z"
      },
      {
        "duration": 12,
        "start_time": "2024-11-15T21:30:07.843Z"
      },
      {
        "duration": 12,
        "start_time": "2024-11-15T21:30:07.857Z"
      },
      {
        "duration": 8,
        "start_time": "2024-11-15T21:30:07.871Z"
      },
      {
        "duration": 349,
        "start_time": "2024-11-15T21:30:07.881Z"
      },
      {
        "duration": 393,
        "start_time": "2024-11-15T21:30:08.232Z"
      },
      {
        "duration": 91,
        "start_time": "2024-11-15T21:30:08.627Z"
      },
      {
        "duration": 67038,
        "start_time": "2024-11-15T21:30:08.720Z"
      },
      {
        "duration": 73078,
        "start_time": "2024-11-15T21:31:15.760Z"
      },
      {
        "duration": 8,
        "start_time": "2024-11-15T21:32:28.839Z"
      },
      {
        "duration": 563265,
        "start_time": "2024-11-15T21:32:28.849Z"
      },
      {
        "duration": 0,
        "start_time": "2024-11-15T21:47:48.586Z"
      },
      {
        "duration": 0,
        "start_time": "2024-11-15T21:47:48.587Z"
      },
      {
        "duration": 0,
        "start_time": "2024-11-15T21:47:48.727Z"
      },
      {
        "duration": 0,
        "start_time": "2024-11-15T21:47:48.728Z"
      },
      {
        "duration": 0,
        "start_time": "2024-11-15T21:47:48.729Z"
      },
      {
        "duration": 0,
        "start_time": "2024-11-15T21:47:48.730Z"
      },
      {
        "duration": 0,
        "start_time": "2024-11-15T21:47:48.731Z"
      },
      {
        "duration": 0,
        "start_time": "2024-11-15T21:47:48.732Z"
      },
      {
        "duration": 0,
        "start_time": "2024-11-15T21:47:48.733Z"
      },
      {
        "duration": 0,
        "start_time": "2024-11-15T21:47:48.734Z"
      },
      {
        "duration": 0,
        "start_time": "2024-11-15T21:47:48.735Z"
      },
      {
        "duration": 0,
        "start_time": "2024-11-15T21:47:48.736Z"
      },
      {
        "duration": 0,
        "start_time": "2024-11-15T21:47:48.737Z"
      },
      {
        "duration": 0,
        "start_time": "2024-11-15T21:47:48.738Z"
      },
      {
        "duration": 0,
        "start_time": "2024-11-15T21:47:48.739Z"
      },
      {
        "duration": 0,
        "start_time": "2024-11-15T21:47:48.741Z"
      },
      {
        "duration": 0,
        "start_time": "2024-11-15T21:47:48.742Z"
      },
      {
        "duration": 0,
        "start_time": "2024-11-15T21:47:48.743Z"
      },
      {
        "duration": 0,
        "start_time": "2024-11-15T21:47:48.744Z"
      },
      {
        "duration": 0,
        "start_time": "2024-11-15T21:47:48.745Z"
      },
      {
        "duration": 0,
        "start_time": "2024-11-15T21:47:48.746Z"
      },
      {
        "duration": 0,
        "start_time": "2024-11-15T21:47:48.748Z"
      },
      {
        "duration": 0,
        "start_time": "2024-11-15T21:47:48.749Z"
      },
      {
        "duration": 0,
        "start_time": "2024-11-15T21:47:48.751Z"
      },
      {
        "duration": 0,
        "start_time": "2024-11-15T21:47:48.752Z"
      },
      {
        "duration": 0,
        "start_time": "2024-11-15T21:47:48.753Z"
      },
      {
        "duration": 0,
        "start_time": "2024-11-15T21:47:48.755Z"
      },
      {
        "duration": 0,
        "start_time": "2024-11-15T21:47:48.756Z"
      },
      {
        "duration": 0,
        "start_time": "2024-11-15T21:47:48.757Z"
      },
      {
        "duration": 0,
        "start_time": "2024-11-15T21:47:48.818Z"
      },
      {
        "duration": 0,
        "start_time": "2024-11-15T21:47:48.820Z"
      },
      {
        "duration": 0,
        "start_time": "2024-11-15T21:47:48.821Z"
      },
      {
        "duration": 0,
        "start_time": "2024-11-15T21:47:48.822Z"
      },
      {
        "duration": 0,
        "start_time": "2024-11-15T21:47:48.824Z"
      },
      {
        "duration": 0,
        "start_time": "2024-11-15T21:47:48.825Z"
      },
      {
        "duration": 0,
        "start_time": "2024-11-15T21:47:48.827Z"
      },
      {
        "duration": 0,
        "start_time": "2024-11-15T21:47:48.828Z"
      },
      {
        "duration": 0,
        "start_time": "2024-11-15T21:47:48.829Z"
      },
      {
        "duration": 0,
        "start_time": "2024-11-15T21:47:48.831Z"
      },
      {
        "duration": 2693,
        "start_time": "2024-11-15T21:47:52.519Z"
      },
      {
        "duration": 16,
        "start_time": "2024-11-15T21:47:55.215Z"
      },
      {
        "duration": 13,
        "start_time": "2024-11-15T21:47:55.233Z"
      },
      {
        "duration": 692,
        "start_time": "2024-11-15T21:47:55.248Z"
      },
      {
        "duration": 617,
        "start_time": "2024-11-15T21:47:55.942Z"
      },
      {
        "duration": 76,
        "start_time": "2024-11-15T21:47:56.561Z"
      },
      {
        "duration": 12,
        "start_time": "2024-11-15T21:47:56.639Z"
      },
      {
        "duration": 12,
        "start_time": "2024-11-15T21:47:56.653Z"
      },
      {
        "duration": 12,
        "start_time": "2024-11-15T21:47:56.667Z"
      },
      {
        "duration": 44,
        "start_time": "2024-11-15T21:47:56.681Z"
      },
      {
        "duration": 6,
        "start_time": "2024-11-15T21:47:56.727Z"
      },
      {
        "duration": 371,
        "start_time": "2024-11-15T21:47:56.735Z"
      },
      {
        "duration": 24,
        "start_time": "2024-11-15T21:47:57.108Z"
      },
      {
        "duration": 9,
        "start_time": "2024-11-15T21:47:57.137Z"
      },
      {
        "duration": 18,
        "start_time": "2024-11-15T21:47:57.148Z"
      },
      {
        "duration": 3916,
        "start_time": "2024-11-15T21:47:57.168Z"
      },
      {
        "duration": 283,
        "start_time": "2024-11-15T21:48:01.086Z"
      },
      {
        "duration": 16,
        "start_time": "2024-11-15T21:48:01.371Z"
      },
      {
        "duration": 1777,
        "start_time": "2024-11-15T21:48:01.389Z"
      },
      {
        "duration": 733,
        "start_time": "2024-11-15T21:48:03.168Z"
      },
      {
        "duration": 35,
        "start_time": "2024-11-15T21:48:03.903Z"
      },
      {
        "duration": 29,
        "start_time": "2024-11-15T21:48:03.940Z"
      },
      {
        "duration": 16,
        "start_time": "2024-11-15T21:48:03.971Z"
      },
      {
        "duration": 9,
        "start_time": "2024-11-15T21:48:03.989Z"
      },
      {
        "duration": 23,
        "start_time": "2024-11-15T21:48:04.000Z"
      },
      {
        "duration": 29,
        "start_time": "2024-11-15T21:48:04.025Z"
      },
      {
        "duration": 268,
        "start_time": "2024-11-15T21:48:04.056Z"
      },
      {
        "duration": 202,
        "start_time": "2024-11-15T21:48:04.326Z"
      },
      {
        "duration": 11,
        "start_time": "2024-11-15T21:48:04.618Z"
      },
      {
        "duration": 66086,
        "start_time": "2024-11-15T21:48:04.718Z"
      },
      {
        "duration": 75619,
        "start_time": "2024-11-15T21:49:10.807Z"
      },
      {
        "duration": 7,
        "start_time": "2024-11-15T21:50:26.428Z"
      },
      {
        "duration": 0,
        "start_time": "2024-11-15T21:54:17.520Z"
      },
      {
        "duration": 0,
        "start_time": "2024-11-15T21:54:17.521Z"
      },
      {
        "duration": 0,
        "start_time": "2024-11-15T21:54:17.523Z"
      },
      {
        "duration": 0,
        "start_time": "2024-11-15T21:54:17.524Z"
      },
      {
        "duration": 0,
        "start_time": "2024-11-15T21:54:17.525Z"
      },
      {
        "duration": 0,
        "start_time": "2024-11-15T21:54:17.527Z"
      },
      {
        "duration": 0,
        "start_time": "2024-11-15T21:54:17.528Z"
      },
      {
        "duration": 0,
        "start_time": "2024-11-15T21:54:17.530Z"
      },
      {
        "duration": 0,
        "start_time": "2024-11-15T21:54:17.532Z"
      },
      {
        "duration": 0,
        "start_time": "2024-11-15T21:54:17.533Z"
      },
      {
        "duration": 0,
        "start_time": "2024-11-15T21:54:17.535Z"
      },
      {
        "duration": 0,
        "start_time": "2024-11-15T21:54:17.536Z"
      },
      {
        "duration": 0,
        "start_time": "2024-11-15T21:54:17.537Z"
      },
      {
        "duration": 0,
        "start_time": "2024-11-15T21:54:17.538Z"
      },
      {
        "duration": 0,
        "start_time": "2024-11-15T21:54:17.540Z"
      },
      {
        "duration": 0,
        "start_time": "2024-11-15T21:54:17.541Z"
      },
      {
        "duration": 0,
        "start_time": "2024-11-15T21:54:17.543Z"
      },
      {
        "duration": 0,
        "start_time": "2024-11-15T21:54:17.544Z"
      },
      {
        "duration": 0,
        "start_time": "2024-11-15T21:54:17.546Z"
      },
      {
        "duration": 0,
        "start_time": "2024-11-15T21:54:17.547Z"
      },
      {
        "duration": 0,
        "start_time": "2024-11-15T21:54:17.549Z"
      },
      {
        "duration": 0,
        "start_time": "2024-11-15T21:54:17.550Z"
      },
      {
        "duration": 0,
        "start_time": "2024-11-15T21:54:17.552Z"
      },
      {
        "duration": 0,
        "start_time": "2024-11-15T21:54:17.553Z"
      },
      {
        "duration": 0,
        "start_time": "2024-11-15T21:54:17.554Z"
      },
      {
        "duration": 0,
        "start_time": "2024-11-15T21:54:17.555Z"
      },
      {
        "duration": 0,
        "start_time": "2024-11-15T21:54:17.556Z"
      },
      {
        "duration": 0,
        "start_time": "2024-11-15T21:54:17.558Z"
      },
      {
        "duration": 0,
        "start_time": "2024-11-15T21:54:17.619Z"
      },
      {
        "duration": 0,
        "start_time": "2024-11-15T21:54:17.620Z"
      },
      {
        "duration": 0,
        "start_time": "2024-11-15T21:54:17.621Z"
      },
      {
        "duration": 0,
        "start_time": "2024-11-15T21:54:17.622Z"
      },
      {
        "duration": 0,
        "start_time": "2024-11-15T21:54:17.624Z"
      },
      {
        "duration": 0,
        "start_time": "2024-11-15T21:54:17.626Z"
      },
      {
        "duration": 0,
        "start_time": "2024-11-15T21:54:17.627Z"
      },
      {
        "duration": 0,
        "start_time": "2024-11-15T21:54:17.628Z"
      },
      {
        "duration": 0,
        "start_time": "2024-11-15T21:54:17.629Z"
      },
      {
        "duration": 2724,
        "start_time": "2024-11-15T21:54:22.858Z"
      },
      {
        "duration": 10,
        "start_time": "2024-11-15T21:54:25.585Z"
      },
      {
        "duration": 27,
        "start_time": "2024-11-15T21:54:25.597Z"
      },
      {
        "duration": 724,
        "start_time": "2024-11-15T21:54:25.627Z"
      },
      {
        "duration": 601,
        "start_time": "2024-11-15T21:54:26.354Z"
      },
      {
        "duration": 50,
        "start_time": "2024-11-15T21:54:26.957Z"
      },
      {
        "duration": 13,
        "start_time": "2024-11-15T21:54:27.017Z"
      },
      {
        "duration": 9,
        "start_time": "2024-11-15T21:54:27.031Z"
      },
      {
        "duration": 7,
        "start_time": "2024-11-15T21:54:27.042Z"
      },
      {
        "duration": 21,
        "start_time": "2024-11-15T21:54:27.051Z"
      },
      {
        "duration": 6,
        "start_time": "2024-11-15T21:54:27.073Z"
      },
      {
        "duration": 379,
        "start_time": "2024-11-15T21:54:27.081Z"
      },
      {
        "duration": 25,
        "start_time": "2024-11-15T21:54:27.463Z"
      },
      {
        "duration": 10,
        "start_time": "2024-11-15T21:54:27.517Z"
      },
      {
        "duration": 13,
        "start_time": "2024-11-15T21:54:27.529Z"
      },
      {
        "duration": 4221,
        "start_time": "2024-11-15T21:54:27.544Z"
      },
      {
        "duration": 18,
        "start_time": "2024-11-15T21:54:31.767Z"
      },
      {
        "duration": 8,
        "start_time": "2024-11-15T21:54:31.787Z"
      },
      {
        "duration": 1639,
        "start_time": "2024-11-15T21:54:31.797Z"
      },
      {
        "duration": 724,
        "start_time": "2024-11-15T21:54:33.438Z"
      },
      {
        "duration": 40,
        "start_time": "2024-11-15T21:54:34.164Z"
      },
      {
        "duration": 20,
        "start_time": "2024-11-15T21:54:34.207Z"
      },
      {
        "duration": 16,
        "start_time": "2024-11-15T21:54:34.229Z"
      },
      {
        "duration": 9,
        "start_time": "2024-11-15T21:54:34.246Z"
      },
      {
        "duration": 11,
        "start_time": "2024-11-15T21:54:34.256Z"
      },
      {
        "duration": 28,
        "start_time": "2024-11-15T21:54:34.269Z"
      },
      {
        "duration": 221,
        "start_time": "2024-11-15T21:54:34.298Z"
      },
      {
        "duration": 205,
        "start_time": "2024-11-15T21:54:34.521Z"
      },
      {
        "duration": 93,
        "start_time": "2024-11-15T21:54:34.728Z"
      },
      {
        "duration": 66345,
        "start_time": "2024-11-15T21:54:34.823Z"
      },
      {
        "duration": 73108,
        "start_time": "2024-11-15T21:55:41.169Z"
      },
      {
        "duration": 10,
        "start_time": "2024-11-15T21:56:54.279Z"
      },
      {
        "duration": 2704,
        "start_time": "2024-11-15T23:06:12.004Z"
      },
      {
        "duration": 14,
        "start_time": "2024-11-15T23:06:14.710Z"
      },
      {
        "duration": 10,
        "start_time": "2024-11-15T23:06:14.725Z"
      },
      {
        "duration": 726,
        "start_time": "2024-11-15T23:06:14.737Z"
      },
      {
        "duration": 607,
        "start_time": "2024-11-15T23:06:15.465Z"
      },
      {
        "duration": 60,
        "start_time": "2024-11-15T23:06:16.073Z"
      },
      {
        "duration": 13,
        "start_time": "2024-11-15T23:06:16.134Z"
      },
      {
        "duration": 9,
        "start_time": "2024-11-15T23:06:16.149Z"
      },
      {
        "duration": 7,
        "start_time": "2024-11-15T23:06:16.159Z"
      },
      {
        "duration": 18,
        "start_time": "2024-11-15T23:06:16.169Z"
      },
      {
        "duration": 32,
        "start_time": "2024-11-15T23:06:16.189Z"
      },
      {
        "duration": 2594,
        "start_time": "2024-11-15T23:06:25.461Z"
      },
      {
        "duration": 1444,
        "start_time": "2024-11-15T23:06:28.057Z"
      },
      {
        "duration": 107,
        "start_time": "2024-11-15T23:06:29.503Z"
      },
      {
        "duration": 820,
        "start_time": "2024-11-15T23:06:29.612Z"
      },
      {
        "duration": 830,
        "start_time": "2024-11-15T23:06:30.434Z"
      },
      {
        "duration": 52,
        "start_time": "2024-11-15T23:06:31.266Z"
      },
      {
        "duration": 13,
        "start_time": "2024-11-15T23:06:31.320Z"
      },
      {
        "duration": 31,
        "start_time": "2024-11-15T23:06:31.335Z"
      },
      {
        "duration": 47,
        "start_time": "2024-11-15T23:06:31.368Z"
      },
      {
        "duration": 34,
        "start_time": "2024-11-15T23:06:31.419Z"
      },
      {
        "duration": 26,
        "start_time": "2024-11-15T23:06:31.455Z"
      },
      {
        "duration": 384,
        "start_time": "2024-11-15T23:06:31.483Z"
      },
      {
        "duration": 25,
        "start_time": "2024-11-15T23:06:31.869Z"
      },
      {
        "duration": 10,
        "start_time": "2024-11-15T23:06:31.918Z"
      },
      {
        "duration": 17,
        "start_time": "2024-11-15T23:06:31.930Z"
      },
      {
        "duration": 3704,
        "start_time": "2024-11-15T23:06:31.949Z"
      },
      {
        "duration": 20,
        "start_time": "2024-11-15T23:06:35.654Z"
      },
      {
        "duration": 23,
        "start_time": "2024-11-15T23:06:35.676Z"
      },
      {
        "duration": 1705,
        "start_time": "2024-11-15T23:06:35.701Z"
      },
      {
        "duration": 868,
        "start_time": "2024-11-15T23:06:37.407Z"
      },
      {
        "duration": 42,
        "start_time": "2024-11-15T23:06:38.276Z"
      },
      {
        "duration": 12,
        "start_time": "2024-11-15T23:06:38.319Z"
      },
      {
        "duration": 14,
        "start_time": "2024-11-15T23:06:38.333Z"
      },
      {
        "duration": 6,
        "start_time": "2024-11-15T23:06:38.349Z"
      },
      {
        "duration": 10,
        "start_time": "2024-11-15T23:06:38.357Z"
      },
      {
        "duration": 16,
        "start_time": "2024-11-15T23:06:38.369Z"
      },
      {
        "duration": 242,
        "start_time": "2024-11-15T23:06:38.386Z"
      },
      {
        "duration": 410,
        "start_time": "2024-11-15T23:06:38.718Z"
      },
      {
        "duration": 11,
        "start_time": "2024-11-15T23:06:39.217Z"
      },
      {
        "duration": 65992,
        "start_time": "2024-11-15T23:06:39.230Z"
      },
      {
        "duration": 550396,
        "start_time": "2024-11-15T23:08:58.562Z"
      },
      {
        "duration": 583692,
        "start_time": "2024-11-15T23:18:08.960Z"
      },
      {
        "duration": 8,
        "start_time": "2024-11-15T23:27:52.653Z"
      },
      {
        "duration": 146,
        "start_time": "2024-11-15T23:27:52.662Z"
      },
      {
        "duration": 0,
        "start_time": "2024-11-15T23:27:52.810Z"
      },
      {
        "duration": 5599,
        "start_time": "2024-11-16T04:54:29.421Z"
      },
      {
        "duration": 1746,
        "start_time": "2024-11-16T04:54:35.023Z"
      },
      {
        "duration": 97,
        "start_time": "2024-11-16T04:54:36.770Z"
      },
      {
        "duration": 1374,
        "start_time": "2024-11-16T04:54:36.869Z"
      },
      {
        "duration": 745,
        "start_time": "2024-11-16T04:54:38.245Z"
      },
      {
        "duration": 44,
        "start_time": "2024-11-16T04:54:38.991Z"
      },
      {
        "duration": 11,
        "start_time": "2024-11-16T04:54:39.036Z"
      },
      {
        "duration": 9,
        "start_time": "2024-11-16T04:54:39.048Z"
      },
      {
        "duration": 86,
        "start_time": "2024-11-16T04:54:39.058Z"
      },
      {
        "duration": 17,
        "start_time": "2024-11-16T04:54:39.147Z"
      },
      {
        "duration": 5,
        "start_time": "2024-11-16T04:54:39.165Z"
      },
      {
        "duration": 371,
        "start_time": "2024-11-16T04:54:39.171Z"
      },
      {
        "duration": 17,
        "start_time": "2024-11-16T04:54:39.544Z"
      },
      {
        "duration": 45,
        "start_time": "2024-11-16T04:54:39.563Z"
      },
      {
        "duration": 14,
        "start_time": "2024-11-16T04:54:39.610Z"
      },
      {
        "duration": 3555,
        "start_time": "2024-11-16T04:54:39.626Z"
      },
      {
        "duration": 17,
        "start_time": "2024-11-16T04:54:43.183Z"
      },
      {
        "duration": 18,
        "start_time": "2024-11-16T04:54:43.202Z"
      },
      {
        "duration": 1790,
        "start_time": "2024-11-16T04:54:43.222Z"
      },
      {
        "duration": 678,
        "start_time": "2024-11-16T04:54:45.014Z"
      },
      {
        "duration": 32,
        "start_time": "2024-11-16T04:54:45.694Z"
      },
      {
        "duration": 11,
        "start_time": "2024-11-16T04:54:45.727Z"
      },
      {
        "duration": 13,
        "start_time": "2024-11-16T04:54:45.739Z"
      },
      {
        "duration": 164,
        "start_time": "2024-11-16T04:54:45.754Z"
      },
      {
        "duration": 11,
        "start_time": "2024-11-16T04:54:45.920Z"
      },
      {
        "duration": 36,
        "start_time": "2024-11-16T04:54:45.932Z"
      },
      {
        "duration": 249,
        "start_time": "2024-11-16T04:54:45.970Z"
      },
      {
        "duration": 295,
        "start_time": "2024-11-16T04:54:46.224Z"
      },
      {
        "duration": 98,
        "start_time": "2024-11-16T04:54:46.521Z"
      },
      {
        "duration": 62879,
        "start_time": "2024-11-16T04:54:46.621Z"
      },
      {
        "duration": 70774,
        "start_time": "2024-11-16T04:55:49.501Z"
      },
      {
        "duration": 7,
        "start_time": "2024-11-16T04:57:00.276Z"
      },
      {
        "duration": 541084,
        "start_time": "2024-11-16T04:57:00.285Z"
      },
      {
        "duration": 571233,
        "start_time": "2024-11-16T05:06:01.371Z"
      },
      {
        "duration": 13,
        "start_time": "2024-11-16T05:15:32.605Z"
      },
      {
        "duration": 137,
        "start_time": "2024-11-16T05:15:32.620Z"
      },
      {
        "duration": 0,
        "start_time": "2024-11-16T05:15:32.759Z"
      },
      {
        "duration": 156,
        "start_time": "2024-11-16T06:03:19.951Z"
      },
      {
        "duration": 28,
        "start_time": "2024-11-16T06:04:18.746Z"
      },
      {
        "duration": 142,
        "start_time": "2024-11-16T06:04:33.308Z"
      },
      {
        "duration": 10,
        "start_time": "2024-11-16T06:04:41.782Z"
      },
      {
        "duration": 11,
        "start_time": "2024-11-16T06:04:45.062Z"
      },
      {
        "duration": 17,
        "start_time": "2024-11-16T06:06:03.809Z"
      },
      {
        "duration": 16,
        "start_time": "2024-11-16T06:06:27.518Z"
      },
      {
        "duration": 20,
        "start_time": "2024-11-16T06:07:51.140Z"
      },
      {
        "duration": 119,
        "start_time": "2024-11-16T06:13:51.528Z"
      },
      {
        "duration": 116,
        "start_time": "2024-11-16T06:13:53.336Z"
      },
      {
        "duration": 134,
        "start_time": "2024-11-16T06:13:58.440Z"
      },
      {
        "duration": 126,
        "start_time": "2024-11-16T06:59:11.835Z"
      },
      {
        "duration": 121,
        "start_time": "2024-11-16T06:59:33.066Z"
      },
      {
        "duration": 160,
        "start_time": "2024-11-16T07:00:59.686Z"
      },
      {
        "duration": 148,
        "start_time": "2024-11-16T07:01:02.422Z"
      },
      {
        "duration": 147,
        "start_time": "2024-11-16T07:02:06.865Z"
      },
      {
        "duration": 150,
        "start_time": "2024-11-16T07:02:09.747Z"
      },
      {
        "duration": 19,
        "start_time": "2024-11-16T07:06:58.850Z"
      },
      {
        "duration": 50,
        "start_time": "2025-02-08T22:59:21.605Z"
      }
    ],
    "kernelspec": {
      "display_name": "Python 3 (ipykernel)",
      "language": "python",
      "name": "python3"
    },
    "language_info": {
      "codemirror_mode": {
        "name": "ipython",
        "version": 3
      },
      "file_extension": ".py",
      "mimetype": "text/x-python",
      "name": "python",
      "nbconvert_exporter": "python",
      "pygments_lexer": "ipython3",
      "version": "3.9.5"
    },
    "toc": {
      "base_numbering": 1,
      "nav_menu": {},
      "number_sections": true,
      "sideBar": true,
      "skip_h1_title": true,
      "title_cell": "Содержание",
      "title_sidebar": "Contents",
      "toc_cell": true,
      "toc_position": {
        "height": "calc(100% - 180px)",
        "left": "10px",
        "top": "150px",
        "width": "201.589px"
      },
      "toc_section_display": true,
      "toc_window_display": true
    },
    "colab": {
      "provenance": []
    }
  },
  "nbformat": 4,
  "nbformat_minor": 0
}