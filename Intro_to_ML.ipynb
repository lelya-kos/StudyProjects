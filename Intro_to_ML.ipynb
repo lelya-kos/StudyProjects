{
  "cells": [
    {
      "cell_type": "markdown",
      "metadata": {
        "id": "view-in-github",
        "colab_type": "text"
      },
      "source": [
        "<a href=\"https://colab.research.google.com/github/lelya-kos/Study-projects-Yandex.Practicum/blob/main/Intro_to_ML.ipynb\" target=\"_parent\"><img src=\"https://colab.research.google.com/assets/colab-badge.svg\" alt=\"Open In Colab\"/></a>"
      ]
    },
    {
      "cell_type": "markdown",
      "metadata": {
        "id": "QQYiqICtENZF"
      },
      "source": [
        "# Рекомендация тарифов"
      ]
    },
    {
      "cell_type": "markdown",
      "metadata": {
        "id": "vdGbz8SnENZG"
      },
      "source": [
        "## Описание проекта"
      ]
    },
    {
      "cell_type": "markdown",
      "metadata": {
        "id": "5h9WQNoRENZG"
      },
      "source": [
        "Оператор мобильной связи «Мегалайн» выяснил: многие клиенты пользуются архивными тарифами. Компании нужно проанализировать поведение клиентов и предложить пользователям новый тариф: «Смарт» или «Ультра».<br>\n",
        "\n",
        "В нашем распоряжении данные о поведении клиентов, которые уже перешли на эти тарифы. Нужно построить модель для задачи классификации, которая выберет подходящий тариф. Предобработка данных не понадобится — она уже сделана.\n",
        "Построим модель с максимально большим значением accuracy. Нужно довести долю правильных ответов по крайней мере до 0.75. Проверим accuracy на тестовой выборке.<br>\n",
        "\n",
        "**Описание данных**<br>\n",
        "Каждый объект в наборе данных — это информация о поведении одного пользователя за месяц. Известно:<br>\n",
        "сalls — количество звонков,<br>\n",
        "minutes — суммарная длительность звонков в минутах,<br>\n",
        "messages — количество sms-сообщений,<br>\n",
        "mb_used — израсходованный интернет-трафик в Мб,<br>\n",
        "is_ultra — каким тарифом пользовался в течение месяца («Ультра» — 1, «Смарт» — 0).<br>"
      ]
    },
    {
      "cell_type": "code",
      "execution_count": null,
      "metadata": {
        "id": "0xpjdypMENZH",
        "outputId": "a86fc78b-01d8-484e-fc1b-eda9bfc66bfc"
      },
      "outputs": [
        {
          "name": "stdout",
          "output_type": "stream",
          "text": [
            "Collecting jupyter-black\n",
            "  Downloading jupyter_black-0.4.0-py3-none-any.whl (7.6 kB)\n",
            "Collecting black[jupyter]>=21\n",
            "  Downloading black-24.8.0-cp39-cp39-manylinux_2_17_x86_64.manylinux2014_x86_64.manylinux_2_28_x86_64.whl (1.8 MB)\n",
            "\u001b[K     |████████████████████████████████| 1.8 MB 1.9 MB/s eta 0:00:01\n",
            "\u001b[?25hRequirement already satisfied: click>=8.0.0 in /opt/conda/lib/python3.9/site-packages (from black[jupyter]>=21->jupyter-black) (8.1.3)\n",
            "Collecting platformdirs>=2\n",
            "  Downloading platformdirs-4.3.6-py3-none-any.whl (18 kB)\n",
            "Collecting packaging>=22.0\n",
            "  Downloading packaging-24.1-py3-none-any.whl (53 kB)\n",
            "\u001b[K     |████████████████████████████████| 53 kB 3.9 MB/s  eta 0:00:01\n",
            "\u001b[?25hCollecting mypy-extensions>=0.4.3\n",
            "  Downloading mypy_extensions-1.0.0-py3-none-any.whl (4.7 kB)\n",
            "Collecting pathspec>=0.9.0\n",
            "  Downloading pathspec-0.12.1-py3-none-any.whl (31 kB)\n",
            "Collecting tomli>=1.1.0\n",
            "  Downloading tomli-2.0.1-py3-none-any.whl (12 kB)\n",
            "Requirement already satisfied: typing-extensions>=4.0.1 in /opt/conda/lib/python3.9/site-packages (from black[jupyter]>=21->jupyter-black) (4.3.0)\n",
            "Collecting tokenize-rt>=3.2.0\n",
            "  Downloading tokenize_rt-6.0.0-py2.py3-none-any.whl (5.9 kB)\n",
            "Requirement already satisfied: ipython>=7.8.0 in /opt/conda/lib/python3.9/site-packages (from black[jupyter]>=21->jupyter-black) (7.25.0)\n",
            "Requirement already satisfied: pickleshare in /opt/conda/lib/python3.9/site-packages (from ipython>=7.8.0->black[jupyter]>=21->jupyter-black) (0.7.5)\n",
            "Requirement already satisfied: matplotlib-inline in /opt/conda/lib/python3.9/site-packages (from ipython>=7.8.0->black[jupyter]>=21->jupyter-black) (0.1.2)\n",
            "Requirement already satisfied: backcall in /opt/conda/lib/python3.9/site-packages (from ipython>=7.8.0->black[jupyter]>=21->jupyter-black) (0.2.0)\n",
            "Requirement already satisfied: jedi>=0.16 in /opt/conda/lib/python3.9/site-packages (from ipython>=7.8.0->black[jupyter]>=21->jupyter-black) (0.18.0)\n",
            "Requirement already satisfied: setuptools>=18.5 in /opt/conda/lib/python3.9/site-packages (from ipython>=7.8.0->black[jupyter]>=21->jupyter-black) (49.6.0.post20210108)\n",
            "Requirement already satisfied: pexpect>4.3 in /opt/conda/lib/python3.9/site-packages (from ipython>=7.8.0->black[jupyter]>=21->jupyter-black) (4.8.0)\n",
            "Requirement already satisfied: decorator in /opt/conda/lib/python3.9/site-packages (from ipython>=7.8.0->black[jupyter]>=21->jupyter-black) (5.0.9)\n",
            "Requirement already satisfied: pygments in /opt/conda/lib/python3.9/site-packages (from ipython>=7.8.0->black[jupyter]>=21->jupyter-black) (2.9.0)\n",
            "Requirement already satisfied: traitlets>=4.2 in /opt/conda/lib/python3.9/site-packages (from ipython>=7.8.0->black[jupyter]>=21->jupyter-black) (5.0.5)\n",
            "Requirement already satisfied: prompt-toolkit!=3.0.0,!=3.0.1,<3.1.0,>=2.0.0 in /opt/conda/lib/python3.9/site-packages (from ipython>=7.8.0->black[jupyter]>=21->jupyter-black) (3.0.19)\n",
            "Requirement already satisfied: parso<0.9.0,>=0.8.0 in /opt/conda/lib/python3.9/site-packages (from jedi>=0.16->ipython>=7.8.0->black[jupyter]>=21->jupyter-black) (0.8.2)\n",
            "Requirement already satisfied: ptyprocess>=0.5 in /opt/conda/lib/python3.9/site-packages (from pexpect>4.3->ipython>=7.8.0->black[jupyter]>=21->jupyter-black) (0.7.0)\n",
            "Requirement already satisfied: wcwidth in /opt/conda/lib/python3.9/site-packages (from prompt-toolkit!=3.0.0,!=3.0.1,<3.1.0,>=2.0.0->ipython>=7.8.0->black[jupyter]>=21->jupyter-black) (0.2.5)\n",
            "Requirement already satisfied: ipython-genutils in /opt/conda/lib/python3.9/site-packages (from traitlets>=4.2->ipython>=7.8.0->black[jupyter]>=21->jupyter-black) (0.2.0)\n",
            "Installing collected packages: tomli, platformdirs, pathspec, packaging, mypy-extensions, tokenize-rt, black, jupyter-black\n",
            "  Attempting uninstall: packaging\n",
            "    Found existing installation: packaging 21.3\n",
            "    Uninstalling packaging-21.3:\n",
            "      Successfully uninstalled packaging-21.3\n",
            "Successfully installed black-24.8.0 jupyter-black-0.4.0 mypy-extensions-1.0.0 packaging-24.1 pathspec-0.12.1 platformdirs-4.3.6 tokenize-rt-6.0.0 tomli-2.0.1\n"
          ]
        }
      ],
      "source": [
        "# В самой первой ячейке добавим код для тех библиотек, которых нет в окружении тренажера\n",
        "!pip install jupyter-black"
      ]
    },
    {
      "cell_type": "code",
      "execution_count": null,
      "metadata": {
        "id": "TaKgxZikENZK"
      },
      "outputs": [],
      "source": [
        "import jupyter_black\n",
        "import pandas as pd\n",
        "import warnings\n",
        "\n",
        "from sklearn.model_selection import train_test_split\n",
        "from sklearn.metrics import accuracy_score\n",
        "from sklearn.tree import DecisionTreeClassifier\n",
        "from sklearn.ensemble import RandomForestClassifier\n",
        "from sklearn.linear_model import LogisticRegression\n",
        "from sklearn.dummy import DummyClassifier"
      ]
    },
    {
      "cell_type": "code",
      "execution_count": null,
      "metadata": {
        "id": "dCsn2G8_ENZL"
      },
      "outputs": [],
      "source": [
        "# Загрузка автоформатера\n",
        "jupyter_black.load()\n",
        "\n",
        "# Скроем лишние предупреждения\n",
        "warnings.filterwarnings(\"ignore\")\n",
        "\n",
        "# Настройки Pandas для вывода всех столбцов\n",
        "pd.set_option(\"display.max_columns\", None)\n",
        "# Ограничение количества знаков после запятой\n",
        "pd.set_option(\"display.float_format\", \"{:.2f}\".format)"
      ]
    },
    {
      "cell_type": "markdown",
      "metadata": {
        "id": "X4DsN8S5ENZM"
      },
      "source": [
        "## Откройте и изучите файл"
      ]
    },
    {
      "cell_type": "markdown",
      "metadata": {
        "id": "YwuBQ4U4ENZM"
      },
      "source": [
        "Откройте файл с данными и изучите его."
      ]
    },
    {
      "cell_type": "code",
      "execution_count": null,
      "metadata": {
        "id": "YZCgQaAuENZM"
      },
      "outputs": [],
      "source": [
        "# Откроем файл с данными и изучим его.\n",
        "df = pd.read_csv(\"/datasets/users_behavior.csv\")"
      ]
    },
    {
      "cell_type": "code",
      "execution_count": null,
      "metadata": {
        "id": "yGjIOx-BENZN",
        "outputId": "645d02be-067f-4266-bc2b-a966f2d7d491"
      },
      "outputs": [
        {
          "data": {
            "text/html": [
              "<div>\n",
              "<style scoped>\n",
              "    .dataframe tbody tr th:only-of-type {\n",
              "        vertical-align: middle;\n",
              "    }\n",
              "\n",
              "    .dataframe tbody tr th {\n",
              "        vertical-align: top;\n",
              "    }\n",
              "\n",
              "    .dataframe thead th {\n",
              "        text-align: right;\n",
              "    }\n",
              "</style>\n",
              "<table border=\"1\" class=\"dataframe\">\n",
              "  <thead>\n",
              "    <tr style=\"text-align: right;\">\n",
              "      <th></th>\n",
              "      <th>calls</th>\n",
              "      <th>minutes</th>\n",
              "      <th>messages</th>\n",
              "      <th>mb_used</th>\n",
              "      <th>is_ultra</th>\n",
              "    </tr>\n",
              "  </thead>\n",
              "  <tbody>\n",
              "    <tr>\n",
              "      <th>0</th>\n",
              "      <td>40.00</td>\n",
              "      <td>311.90</td>\n",
              "      <td>83.00</td>\n",
              "      <td>19915.42</td>\n",
              "      <td>0</td>\n",
              "    </tr>\n",
              "    <tr>\n",
              "      <th>1</th>\n",
              "      <td>85.00</td>\n",
              "      <td>516.75</td>\n",
              "      <td>56.00</td>\n",
              "      <td>22696.96</td>\n",
              "      <td>0</td>\n",
              "    </tr>\n",
              "    <tr>\n",
              "      <th>2</th>\n",
              "      <td>77.00</td>\n",
              "      <td>467.66</td>\n",
              "      <td>86.00</td>\n",
              "      <td>21060.45</td>\n",
              "      <td>0</td>\n",
              "    </tr>\n",
              "    <tr>\n",
              "      <th>3</th>\n",
              "      <td>106.00</td>\n",
              "      <td>745.53</td>\n",
              "      <td>81.00</td>\n",
              "      <td>8437.39</td>\n",
              "      <td>1</td>\n",
              "    </tr>\n",
              "    <tr>\n",
              "      <th>4</th>\n",
              "      <td>66.00</td>\n",
              "      <td>418.74</td>\n",
              "      <td>1.00</td>\n",
              "      <td>14502.75</td>\n",
              "      <td>0</td>\n",
              "    </tr>\n",
              "  </tbody>\n",
              "</table>\n",
              "</div>"
            ],
            "text/plain": [
              "   calls  minutes  messages  mb_used  is_ultra\n",
              "0  40.00   311.90     83.00 19915.42         0\n",
              "1  85.00   516.75     56.00 22696.96         0\n",
              "2  77.00   467.66     86.00 21060.45         0\n",
              "3 106.00   745.53     81.00  8437.39         1\n",
              "4  66.00   418.74      1.00 14502.75         0"
            ]
          },
          "execution_count": 5,
          "metadata": {},
          "output_type": "execute_result"
        }
      ],
      "source": [
        "df.head()"
      ]
    },
    {
      "cell_type": "code",
      "execution_count": null,
      "metadata": {
        "id": "9zeyuD0GENZN",
        "outputId": "24c610d3-908d-4edc-c953-34ed976f2c73"
      },
      "outputs": [
        {
          "name": "stdout",
          "output_type": "stream",
          "text": [
            "<class 'pandas.core.frame.DataFrame'>\n",
            "RangeIndex: 3214 entries, 0 to 3213\n",
            "Data columns (total 5 columns):\n",
            " #   Column    Non-Null Count  Dtype  \n",
            "---  ------    --------------  -----  \n",
            " 0   calls     3214 non-null   float64\n",
            " 1   minutes   3214 non-null   float64\n",
            " 2   messages  3214 non-null   float64\n",
            " 3   mb_used   3214 non-null   float64\n",
            " 4   is_ultra  3214 non-null   int64  \n",
            "dtypes: float64(4), int64(1)\n",
            "memory usage: 125.7 KB\n"
          ]
        }
      ],
      "source": [
        "df.info()"
      ]
    },
    {
      "cell_type": "code",
      "execution_count": null,
      "metadata": {
        "id": "wbcA5mS8ENZO",
        "outputId": "5e8eeaba-5bbf-44f4-d70b-fb4e176c85f6"
      },
      "outputs": [
        {
          "data": {
            "text/plain": [
              "calls       0\n",
              "minutes     0\n",
              "messages    0\n",
              "mb_used     0\n",
              "is_ultra    0\n",
              "dtype: int64"
            ]
          },
          "execution_count": 7,
          "metadata": {},
          "output_type": "execute_result"
        }
      ],
      "source": [
        "# Проверим пропуски\n",
        "df.isnull().sum()"
      ]
    },
    {
      "cell_type": "code",
      "execution_count": null,
      "metadata": {
        "id": "OAJPzdxhENZO",
        "outputId": "c0b56447-a1d6-49d7-8f16-b9c5404d027f"
      },
      "outputs": [
        {
          "data": {
            "text/plain": [
              "0    2229\n",
              "1     985\n",
              "Name: is_ultra, dtype: int64"
            ]
          },
          "execution_count": 8,
          "metadata": {},
          "output_type": "execute_result"
        }
      ],
      "source": [
        "# Посмотрим количество пользователей тарифами\n",
        "df[\"is_ultra\"].value_counts()"
      ]
    },
    {
      "cell_type": "markdown",
      "metadata": {
        "id": "UXN3DaimENZO"
      },
      "source": [
        "Количество пользователей тарифа Смарт (0) - 2229, а тарифа Ультра (1) - 985 абонентов. Корректнее было бы брать одинаковое количество пользователей, но продолжим работать с дисбалансом классов."
      ]
    },
    {
      "cell_type": "markdown",
      "metadata": {
        "id": "F7kO1fUfENZP"
      },
      "source": [
        "Данные, как и было заявлено изначально, подготовлены - пропуски отстутствуют, тип данных корректный, количество строк (наблюдений) - 3214, количество столбцов (признаков) - 5."
      ]
    },
    {
      "cell_type": "markdown",
      "metadata": {
        "id": "jjj6eBfdENZP"
      },
      "source": [
        "## Разбейте данные на выборки"
      ]
    },
    {
      "cell_type": "markdown",
      "metadata": {
        "id": "utsMcp4iENZP"
      },
      "source": [
        "Разделим исходные данные на обучающую, валидационную и тестовую выборки в соотношении 3:1:1.<br>\n",
        "\n",
        "Поскольку нам нужно проанализировать поведение пользователей конкретных тарифов, то целевым признаком будет столбец is_ultra, а остальные признаки, такие как calls, minutes, messages и mb_used, представляют собой характеристики поведения пользователей, которые будут использоваться для предсказания целевого признака.\n",
        "\n",
        "Модель должна предсказать принадлежность к одному из двух классов (тариф «Смарт» или «Ультра»), следовательно это задача классификации."
      ]
    },
    {
      "cell_type": "code",
      "execution_count": null,
      "metadata": {
        "id": "srYMGjV1ENZU"
      },
      "outputs": [],
      "source": [
        "# Объявим переменные целевого и остальных признаков\n",
        "features = df.drop([\"is_ultra\"], axis=1)\n",
        "target = df[\"is_ultra\"]"
      ]
    },
    {
      "cell_type": "code",
      "execution_count": null,
      "metadata": {
        "id": "4y3E6NwjENZV"
      },
      "outputs": [],
      "source": [
        "# Выделим тренировочную выборку и временную выборку в пропорции 3:2\n",
        "features_train, features_other, target_train, target_other = train_test_split(\n",
        "    features, target, test_size=0.4, random_state=123\n",
        ")\n",
        "#  Выборку признаков _other поделим пополам на тренировочную и валидационную\n",
        "features_test, features_valid, target_test, target_valid = train_test_split(\n",
        "    features_other, target_other, test_size=0.5, random_state=123\n",
        ")"
      ]
    },
    {
      "cell_type": "code",
      "execution_count": null,
      "metadata": {
        "id": "Ch0dNd1AENZX",
        "outputId": "b612e25c-1ed6-461c-f4d1-525a25497ec5"
      },
      "outputs": [
        {
          "name": "stdout",
          "output_type": "stream",
          "text": [
            "features_train: (1928, 4)\n",
            "target_train: (1928,)\n",
            "features_valid: (643, 4)\n",
            "target_valid; (643,)\n",
            "features_test: (643, 4)\n",
            "target_test: (643,)\n"
          ]
        }
      ],
      "source": [
        "# Проверим количество строк в выборках\n",
        "print(\"features_train:\", features_train.shape)\n",
        "print(\"target_train:\", target_train.shape)\n",
        "print(\"features_valid:\", features_valid.shape)\n",
        "print(\"target_valid;\", target_valid.shape)\n",
        "print(\"features_test:\", features_test.shape)\n",
        "print(\"target_test:\", target_test.shape)"
      ]
    },
    {
      "cell_type": "markdown",
      "metadata": {
        "id": "bPh6uVuMENZX"
      },
      "source": [
        "Данные поделены на тренировочную, валидационную и тестировочную выборки в пропорции 3:1:1 (60%:20%:20%)."
      ]
    },
    {
      "cell_type": "markdown",
      "metadata": {
        "id": "UQFZjMBVENZY"
      },
      "source": [
        "## Исследуйте модели"
      ]
    },
    {
      "cell_type": "markdown",
      "metadata": {
        "id": "1IOLW-hbENZY"
      },
      "source": [
        "Подберем наиболее точную модель для поставленной задачи классификации."
      ]
    },
    {
      "cell_type": "markdown",
      "metadata": {
        "id": "00zG3dUFENZY"
      },
      "source": [
        "### Модель логистической регрессии"
      ]
    },
    {
      "cell_type": "code",
      "execution_count": null,
      "metadata": {
        "id": "NP38i0wSENZY",
        "outputId": "9cfba7dd-109b-4d93-8a52-0b55af31d395"
      },
      "outputs": [
        {
          "name": "stdout",
          "output_type": "stream",
          "text": [
            "Accuracy модели логиcтической регрессии на валидационной выборке: 0.7309486780715396\n"
          ]
        }
      ],
      "source": [
        "# Инициализируем модель логистической регрессии\n",
        "# с фиксированным значением random_state для воспроизводимости результатов\n",
        "model_lr = LogisticRegression(random_state=1234)\n",
        "model_lr.fit(features_train, target_train)  # Обучим модель на тренировочных данных\n",
        "\n",
        "# Получим предсказания на  валидационной выборке\n",
        "predictions_lr_valid = model_lr.predict(features_valid)\n",
        "print(\n",
        "    \"Accuracy модели логиcтической регрессии на валидационной выборке:\",\n",
        "    accuracy_score(target_valid, predictions_lr_valid),\n",
        ")"
      ]
    },
    {
      "cell_type": "markdown",
      "metadata": {
        "id": "sGRMDoyBENZZ"
      },
      "source": [
        "Accuracy = 0.73 говорит о том, что модель логиcтической регрессии правильно предсказала классы для 73% наблюдений в валидационной выборке.\n",
        "Это меньше, чем поставлено в цели исследования (добиться точности не менее 0.75), поэтому будем считать эту модель не подходящей."
      ]
    },
    {
      "cell_type": "markdown",
      "metadata": {
        "id": "VQ02AqyOENZZ"
      },
      "source": [
        "### Модель Дерево решений"
      ]
    },
    {
      "cell_type": "code",
      "execution_count": null,
      "metadata": {
        "id": "2F29NMEoENZZ",
        "outputId": "3c4b9b1d-a9ab-4b04-bc58-623fc07ced4d"
      },
      "outputs": [
        {
          "name": "stdout",
          "output_type": "stream",
          "text": [
            "Accuracy модели Дерева решений при гиперпараметре max_depth:\n",
            "max_depth  по умолчанию : 0.7200622083981337\n",
            "max_depth = 1 : 0.7558320373250389\n",
            "max_depth = 2 : 0.7900466562986003\n",
            "max_depth = 3 : 0.7962674961119751\n",
            "max_depth = 4 : 0.7838258164852255\n",
            "max_depth = 5 : 0.7713841368584758\n",
            "max_depth = 6 : 0.7636080870917574\n",
            "max_depth = 7 : 0.7776049766718507\n",
            "max_depth = 8 : 0.7651632970451011\n",
            "max_depth = 9 : 0.7744945567651633\n",
            "max_depth = 10 : 0.7620528771384136\n",
            "max_depth = 11 : 0.76049766718507\n",
            "max_depth = 12 : 0.7480559875583204\n",
            "max_depth = 13 : 0.7558320373250389\n",
            "max_depth = 14 : 0.7480559875583204\n"
          ]
        }
      ],
      "source": [
        "# Создадим модель дерева решений с фиксированным значением random_state для воспроизводимости результатов\n",
        "model_dtc = DecisionTreeClassifier(random_state=123)\n",
        "# Обучим модель на тренировочных данных и целевой переменной\n",
        "model_dtc.fit(features_train, target_train)  # Обучим модель на тренировочной выборке\n",
        "predictions_valid_dtc = model_dtc.predict(\n",
        "    features_valid\n",
        ")  # Посчитаем точность с гиперпараметрами по умолчанию\n",
        "print(\"Accuracy модели Дерева решений при гиперпараметре max_depth:\")\n",
        "print(\"max_depth  по умолчанию\", \": \", end=\"\")\n",
        "print(accuracy_score(target_valid, predictions_valid_dtc))\n",
        "\n",
        "# Проведем оценку производительности модели дерева решений\n",
        "# при различных значениях максимальной глубины c помощью цикла\n",
        "for depth in range(1, 15):\n",
        "    model_dtc = DecisionTreeClassifier(max_depth=depth, random_state=123)\n",
        "    model_dtc.fit(\n",
        "        features_train, target_train\n",
        "    )  # Обучим модель на тренировочной выборке\n",
        "    predictions_valid_dtc = model_dtc.predict(\n",
        "        features_valid\n",
        "    )  # Получим предсказания на валидационной выборке\n",
        "\n",
        "    print(\"max_depth =\", depth, \": \", end=\"\")\n",
        "    print(accuracy_score(target_valid, predictions_valid_dtc))"
      ]
    },
    {
      "cell_type": "markdown",
      "metadata": {
        "id": "VsJE99DnENZa"
      },
      "source": [
        " Построим график"
      ]
    },
    {
      "cell_type": "code",
      "execution_count": null,
      "metadata": {
        "id": "j5xp86WSENZa",
        "outputId": "8f1ba0d2-d8f8-4c50-81df-7722e8a2bc16"
      },
      "outputs": [
        {
          "data": {
            "image/png": "[encoded data removed]",
            "text/plain": [
              "<Figure size 1080x360 with 1 Axes>"
            ]
          },
          "metadata": {
            "needs_background": "light"
          },
          "output_type": "display_data"
        }
      ],
      "source": [
        "# Создадим график зависимости точности модели дерева решений от от максимальной глубины дерева\n",
        "import matplotlib.pyplot as plt\n",
        "\n",
        "# Создадим списки для хранения значений глубины и точности\n",
        "depths = []\n",
        "accuracies = []\n",
        "\n",
        "# Создадим цикл создания модели и вычисления accuracy по значениям max_depth\n",
        "for depth in range(1, 36):\n",
        "    model_dtc = DecisionTreeClassifier(max_depth=depth, random_state=123)\n",
        "    model_dtc.fit(\n",
        "        features_train, target_train\n",
        "    )  # Обучим модель на тренировочной выборке\n",
        "    predictions_valid_dtc = model_dtc.predict(\n",
        "        features_valid\n",
        "    )  # Получим предсказания на валидационной выборке\n",
        "\n",
        "    accuracy = accuracy_score(target_valid, predictions_valid_dtc)  # Вычислим точность\n",
        "    depths.append(depth)  # Добавим глубину и точность в список\n",
        "    accuracies.append(accuracy)\n",
        "\n",
        "# Пострим график\n",
        "plt.figure(figsize=(15, 5))\n",
        "plt.plot(depths, accuracies, marker=\"o\")\n",
        "plt.title(\"Точность модели Дерева решений в зависимости от max_depth\")\n",
        "plt.xlabel(\"Гиперпараметр max_depth\")\n",
        "plt.ylabel(\"accuracy\")\n",
        "plt.xticks(depths)  # Устанавливаем метки по оси X\n",
        "plt.grid()\n",
        "plt.ylim(0, 1)  # Устанавливаем пределы по оси Y от 0 до 1\n",
        "plt.show()"
      ]
    },
    {
      "cell_type": "markdown",
      "metadata": {
        "id": "s2P29rTrENZb"
      },
      "source": [
        "Точность модели при max_depth  по умолчанию равна 0.72. При максимальной глубине деревьев от 1 до 3 точность модели растет, но с max_depth = 4 и выше точность постепенно убывает.\n",
        "Лучший показатель accuracy у максимальной глубины деревьев, равной 3: 0.7962674961119751."
      ]
    },
    {
      "cell_type": "code",
      "execution_count": null,
      "metadata": {
        "id": "1uk3x23oENZk",
        "outputId": "9dda4e3a-591a-4d10-de33-331c514b1e33"
      },
      "outputs": [
        {
          "name": "stdout",
          "output_type": "stream",
          "text": [
            "min_samples_leaf = 40 : 0.7962674961119751\n",
            "min_samples_leaf = 41 : 0.7962674961119751\n",
            "min_samples_leaf = 42 : 0.7962674961119751\n",
            "min_samples_leaf = 43 : 0.7853810264385692\n",
            "min_samples_leaf = 44 : 0.7853810264385692\n",
            "min_samples_leaf = 45 : 0.7853810264385692\n",
            "min_samples_leaf = 46 : 0.7838258164852255\n",
            "min_samples_leaf = 47 : 0.7947122861586314\n",
            "min_samples_leaf = 48 : 0.7947122861586314\n",
            "min_samples_leaf = 49 : 0.7931570762052877\n",
            "min_samples_leaf = 50 : 0.7931570762052877\n",
            "min_samples_leaf = 51 : 0.7931570762052877\n",
            "min_samples_leaf = 52 : 0.7931570762052877\n",
            "min_samples_leaf = 53 : 0.7931570762052877\n",
            "min_samples_leaf = 54 : 0.7931570762052877\n",
            "min_samples_leaf = 55 : 0.7931570762052877\n",
            "min_samples_leaf = 56 : 0.7931570762052877\n",
            "min_samples_leaf = 57 : 0.7931570762052877\n",
            "min_samples_leaf = 58 : 0.7916018662519441\n",
            "min_samples_leaf = 59 : 0.7916018662519441\n"
          ]
        }
      ],
      "source": [
        "# Попробуем подобрать минимальное количество образцов в листе - параметр min_samples_leaf при max_depth=3\n",
        "for samples_leaf in range(40, 60):\n",
        "    model_dtc = DecisionTreeClassifier(\n",
        "        min_samples_leaf=samples_leaf, max_depth=3, random_state=123\n",
        "    )\n",
        "    model_dtc.fit(features_train, target_train)  # Обучим модель\n",
        "    predictions_valid_dtc = model_dtc.predict(\n",
        "        features_valid\n",
        "    )  # Получим предсказания на валидационной выборке\n",
        "\n",
        "    print(\"min_samples_leaf =\", samples_leaf, \": \", end=\"\")\n",
        "    print(accuracy_score(target_valid, predictions_valid_dtc))"
      ]
    },
    {
      "cell_type": "markdown",
      "metadata": {
        "id": "fsrfKzgNENZl"
      },
      "source": [
        "Значения min_samples_leaf дают примерно одинаковую точность: 0.78-0.79. Изменение этого гиперпараметра в указанном диапазоне почти не влияет на точность модели (исследовла и больший диапазон, вывод остается тот же).\n",
        "\n",
        "Для более полного анализа производительности модели исследуем и другие гиперпараметры."
      ]
    },
    {
      "cell_type": "code",
      "execution_count": null,
      "metadata": {
        "id": "pSmVkV5XENZl",
        "outputId": "887c3eae-7ecc-4a00-afb7-30d89284a31e"
      },
      "outputs": [
        {
          "name": "stdout",
          "output_type": "stream",
          "text": [
            "Accuracy при criterion='entropy': 0.7962674961119751\n"
          ]
        }
      ],
      "source": [
        "# Изменим гиперпараметр criterion на entropy, ограничив глубину дерева значением 3,\n",
        "# минимальное количество образцов min_samples_leaf оставим по умолчанию\n",
        "model_dtc = DecisionTreeClassifier(\n",
        "    criterion=\"entropy\",\n",
        "    max_depth=3,\n",
        "    random_state=123,\n",
        ")\n",
        "\n",
        "model_dtc.fit(features_train, target_train)\n",
        "predictions_valid_dtc = model_dtc.predict(features_valid)\n",
        "print(\n",
        "    \"Accuracy при criterion='entropy':\",\n",
        "    accuracy_score(target_valid, predictions_valid_dtc),\n",
        ")"
      ]
    },
    {
      "cell_type": "markdown",
      "metadata": {
        "id": "DkvQljkbENZm"
      },
      "source": [
        "Гиперпараметр criterion=entropy тоже не изменил точность модели.\n",
        "\n",
        "Oдинаковая точность при использовании criterion=\"entropy\" и criterion=\"gini\" может свидетельствовать о том, что оба метода справляются с задачей классификации с одинаковой эффективностью в данном контексте.\n",
        "\n",
        "Итого, лучший показатель accuracy модели Дерева решений на валидационной выборке: 0.7962674961119751"
      ]
    },
    {
      "cell_type": "markdown",
      "metadata": {
        "id": "yBnWGJ9xENZt"
      },
      "source": [
        "### Модель Случайный лес"
      ]
    },
    {
      "cell_type": "markdown",
      "metadata": {
        "id": "AdBc6araENZt"
      },
      "source": [
        "Поcтроим модель с другим алгоритмом классификации — Случайный лес."
      ]
    },
    {
      "cell_type": "code",
      "execution_count": null,
      "metadata": {
        "id": "LvB_ADYhENZt",
        "outputId": "76eaaf6c-d0d8-49db-c9bf-a31eca64681e"
      },
      "outputs": [
        {
          "name": "stdout",
          "output_type": "stream",
          "text": [
            "Accuracy модели Случайный лес на валидационной выборке: 0.7962674961119751\n"
          ]
        }
      ],
      "source": [
        "# Инициализируем модель классификации Случайный лес\n",
        "model_rfc = RandomForestClassifier(\n",
        "    random_state=123,\n",
        ")\n",
        "model_rfc.fit(features_train, target_train)  # обучим модель на тренировочной выборке\n",
        "\n",
        "predictions_rfc_valid = model_rfc.predict(features_valid)\n",
        "\n",
        "print(\n",
        "    \"Accuracy модели Случайный лес на валидационной выборке:\",\n",
        "    accuracy_score(target_valid, predictions_rfc_valid),\n",
        ")"
      ]
    },
    {
      "cell_type": "markdown",
      "metadata": {
        "id": "4DZ9YHo9ENZt"
      },
      "source": [
        "Подберем гиперпараметр количество деревьев в лесу n_estimators, дающий лучшие предсказания."
      ]
    },
    {
      "cell_type": "code",
      "execution_count": null,
      "metadata": {
        "id": "0B-A_UC3ENZt",
        "outputId": "7c3d2282-e1ad-48a2-d0df-673a78512257"
      },
      "outputs": [
        {
          "name": "stdout",
          "output_type": "stream",
          "text": [
            "Наилучшая модель: RandomForestClassifier(n_estimators=33, random_state=123)\n",
            "Наилучшее значение accuracy: 0.8055987558320373\n"
          ]
        }
      ],
      "source": [
        "best_model = None\n",
        "best_result = 0\n",
        "\n",
        "for est in range(10, 51):\n",
        "    model_rfc = RandomForestClassifier(n_estimators=est, random_state=123)\n",
        "    model_rfc.fit(features_train, target_train)  # Обучаем модель\n",
        "    predictions_rfc_valid = model_rfc.predict(\n",
        "        features_valid\n",
        "    )  # Предсказания на валидационной выборке\n",
        "    result = accuracy_score(target_valid, predictions_rfc_valid)  # Вычисляем точность\n",
        "    if result > best_result:\n",
        "        best_model = model_rfc  # Сохраняем наилучшую модель\n",
        "        best_result = result  # Сохраняем наилучшее значение метрики accuracy\n",
        "\n",
        "# Выводим результаты с использованием f-строк\n",
        "print(f\"Наилучшая модель: {best_model}\")\n",
        "print(f\"Наилучшее значение accuracy: {best_result:.2f}\")"
      ]
    },
    {
      "cell_type": "markdown",
      "metadata": {
        "id": "JJuSbkxuENaF"
      },
      "source": [
        "Наилучшее значение accuracy: 0.8055987558320373 показала модель Случайного леса со значением n_estimators=33"
      ]
    },
    {
      "cell_type": "markdown",
      "metadata": {
        "id": "pAVcZzJTENaM"
      },
      "source": [
        "## Проверьте модель на тестовой выборке"
      ]
    },
    {
      "cell_type": "code",
      "execution_count": null,
      "metadata": {
        "id": "ajbMDFzgENaM",
        "outputId": "5e669230-03da-480d-c70b-980edc176473"
      },
      "outputs": [
        {
          "name": "stdout",
          "output_type": "stream",
          "text": [
            "Accuracy модели Случайного леса на выборках:\n",
            "Валидационная выборка: 0.8055987558320373\n",
            "Тестовая выборка: 0.8195956454121306\n"
          ]
        }
      ],
      "source": [
        "# Инициализируем модель классификации Случайный лес с n_estimators=33\n",
        "model_rfc = RandomForestClassifier(n_estimators=33, random_state=123)\n",
        "model_rfc.fit(features_train, target_train)  # обучим модель на тренировочной выборке\n",
        "\n",
        "predictions_rfc_valid = model_rfc.predict(features_valid)\n",
        "predictions_rfc_test = model_rfc.predict(features_test)\n",
        "\n",
        "accuracy_valid = accuracy_score(target_valid, predictions_rfc_valid)\n",
        "accuracy_test = accuracy_score(target_test, predictions_rfc_test)\n",
        "\n",
        "print(\"Accuracy модели Случайного леса на выборках:\")\n",
        "print(\"Валидационная выборка:\", accuracy_valid)\n",
        "print(\"Тестовая выборка:\", accuracy_test)"
      ]
    },
    {
      "cell_type": "markdown",
      "metadata": {
        "id": "bD5cP_STENaM"
      },
      "source": [
        "Результаты точности модели Случайного леса на тестовой выборке выше, чем на валидационной.\n",
        "Следовательно, лучшей по точности моделью следует принять модель Случайного леса с гиперпараметром n_estimators=33."
      ]
    },
    {
      "cell_type": "markdown",
      "metadata": {
        "id": "wd2TPHxVENaN"
      },
      "source": [
        "## (бонус) Проверьте модели на адекватность"
      ]
    },
    {
      "cell_type": "markdown",
      "metadata": {
        "id": "cMA6XwxaENaN"
      },
      "source": [
        "Дополнительное задание: проверьте модели на вменяемость. Ничего страшного, если не получится: эти данные сложнее тех, с которыми вы работали раньше. В следующем курсе подробнее об этом расскажем."
      ]
    },
    {
      "cell_type": "markdown",
      "metadata": {
        "id": "mTq9acbXENaN"
      },
      "source": [
        "Проверим полученную модель на адекватность с помощью DummyClassifier, который использует стратегию \"most_frequent\", и позволяет оценить базовую производительность модели."
      ]
    },
    {
      "cell_type": "code",
      "execution_count": null,
      "metadata": {
        "id": "i653_vF3ENaO",
        "outputId": "96c4054a-e66a-4cee-8037-f379b6d0e89e"
      },
      "outputs": [
        {
          "name": "stdout",
          "output_type": "stream",
          "text": [
            "Точность модели DummyClassifier: 0.6982892690513219\n",
            "Модель RandomForestClassifier, лучше чем DummyClassifier.\n"
          ]
        }
      ],
      "source": [
        "# Проверим на адекватность с помощью DummyClassifier\n",
        "dummy_clf = DummyClassifier(\n",
        "    strategy=\"most_frequent\", random_state=123\n",
        ")  # Обучим модель DummyClassifier\n",
        "dummy_clf.fit(features_train, target_train)  #\n",
        "predictions_test = dummy_clf.predict(features_test)\n",
        "accuracy_dummy = accuracy_score(target_test, predictions_test)\n",
        "\n",
        "print(\"Точность модели DummyClassifier:\", accuracy_dummy)\n",
        "\n",
        "# Сравнение моделей\n",
        "if accuracy_test > accuracy_dummy:\n",
        "    print(\"Модель RandomForestClassifier, лучше чем DummyClassifier.\")\n",
        "else:\n",
        "    print(\"Модель DummyClassifier лучше или равна RandomForestClassifier.\")"
      ]
    },
    {
      "cell_type": "markdown",
      "metadata": {
        "id": "jEob54m9ENaO"
      },
      "source": [
        "В ходе исследования получены результаты, которые показывают точности двух моделей DummyClassifier: 0.698 и RandomForestClassifier: 0.82.\n",
        "\n",
        "Модель RandomForestClassifier показывает более высокую точность, а значит, лучше справляется с задачей классификации, чем простая стратегия выбора наиболее частого класса DummyClassifier."
      ]
    },
    {
      "cell_type": "markdown",
      "metadata": {
        "id": "bXfaEM3hENaP"
      },
      "source": [
        "## Выводы исследования\n"
      ]
    },
    {
      "cell_type": "markdown",
      "metadata": {
        "id": "mBOo7U83ENaP"
      },
      "source": [
        "Подведем итоги проведенного исследования.<br>\n",
        "\n",
        "Цель исследования - разработка модели, подбирающей пользователям мобильной связи тарифы «Смарт» или «Ультра»на основании поведения клиентов, уже перешедших на эти тарифы, с долей правильных ответов выше 0.75. <br>\n",
        "\n",
        "Был произведен обзор данных. Данные, как и было заявлено изначально, не требуют подготовки - пропуски отстутствуют, тип данных корректный, количество строк (наблюдений) - 3214, количество столбцов (признаков) - 5. Отмечено, что данные содержат разное количество пользователей тарифа Смарт (0) - 2229, а тарифа Ультра (1) - 985 абонентов.<br>\n",
        "\n",
        "Целевым признаком считаем столбец is_ultra, а остальные признаки, такие как calls, minutes, messages и mb_used, отнесены к характеристикам поведения пользователей, которые будут использоваться для предсказания целевого признака. <br>\n",
        "\n",
        "Данные поделены на тренировочную, валидационную и тестировочную выборки в пропорции 3:1:1 (60%:20%:20%)<br>\n",
        "\n",
        "Модель должна предсказать принадлежность к одному из двух классов (тариф «Смарт» или «Ультра»).<br>\n",
        "\n",
        "В ходе исследования построены три модели задачи классификации.<br>\n",
        "\n",
        "1) Accuracy модели логиcтической регрессии равна 0.73.<br>\n",
        "\n",
        "2) Точность модели Дерево решений с гиперпараметрами по умолчанию составило 0.72. <br>\n",
        "С помощью цикла удалось выявить лучший показатель accuracy у максимальной глубины деревьев, равной 3 - 0.796. <br>\n",
        "Изменение  гиперпараметра минимального количество образцов, которые должны находиться в листовом узле, min_samples_leaf и критерия разбиения criterion=\"entropy\" не повысило точность модели выше 0.796.<br>\n",
        "Итого, лучший показатель accuracy модели Дерева решений на валидационной выборке составил 0.796.\n",
        "\n",
        "3) Accuracy модели Случайный лес на валидационной выборке: 0.796. <br>\n",
        "С помощью цикла подбрали гиперпараметр количества деревьев в лесу n_estimators (n_estimators=33), показывающий наилучшее значение точности 0.81. Это лучший показатель точности среди исследованных моделей, следовательно, лучшей по точности моделью следует принять модель Случайного леса с гиперпараметром n_estimators=33. <br>\n",
        "\n",
        "Проведена проверка модели Случайного леса при (n_estimators=33) на тестовой выборке.\n",
        "Результаты точности модели Случайного леса на тестовой выборке выше, чем на валидационной - 0.82.<br>\n",
        "\n",
        "В ходе исследования на адекватность получены результаты, которые показывают точности двух моделей DummyClassifier: 0.698 и RandomForestClassifier: 0.81. Модель RandomForestClassifier показывает более высокую точность, а значит, лучше справляется с задачей классификации, чем простая стратегия выбора наиболее частого класса. <br>\n",
        "\n",
        "Таким образом, модель RandomForestClassifier с гиперпараметром количество деревьев в лесу n_estimators=33 может быть применен для предложения пользователям перейти с архивного на новый тариф «Смарт» или «Ультра».\n"
      ]
    },
    {
      "cell_type": "markdown",
      "metadata": {
        "id": "CvS8PdjyENaQ"
      },
      "source": [
        "## Чек-лист готовности проекта"
      ]
    },
    {
      "cell_type": "markdown",
      "metadata": {
        "id": "3_Np3lxBENaQ"
      },
      "source": [
        "Поставьте 'x' в выполненных пунктах. Далее нажмите Shift+Enter."
      ]
    },
    {
      "cell_type": "markdown",
      "metadata": {
        "id": "Oju_sKg8ENaQ"
      },
      "source": [
        "- [x] Jupyter Notebook открыт\n",
        "- [x] Весь код исполняется без ошибок\n",
        "- [x] Ячейки с кодом расположены в порядке исполнения\n",
        "- [x] Выполнено задание 1: данные загружены и изучены\n",
        "- [x] Выполнено задание 2: данные разбиты на три выборки\n",
        "- [x] Выполнено задание 3: проведено исследование моделей\n",
        "    - [x] Рассмотрено больше одной модели\n",
        "    - [x] Рассмотрено хотя бы 3 значения гипепараметров для какой-нибудь модели\n",
        "    - [x] Написаны выводы по результатам исследования\n",
        "- [x] Выполнено задание 3: Проведено тестирование\n",
        "- [x] Удалось достичь accuracy не меньше 0.75\n"
      ]
    }
  ],
  "metadata": {
    "ExecuteTimeLog": [
      {
        "duration": 86,
        "start_time": "2024-09-19T19:58:08.364Z"
      },
      {
        "duration": 1214,
        "start_time": "2024-09-19T20:01:27.842Z"
      },
      {
        "duration": 160,
        "start_time": "2024-09-19T20:01:39.356Z"
      },
      {
        "duration": 26,
        "start_time": "2024-09-19T20:01:59.785Z"
      },
      {
        "duration": 80,
        "start_time": "2024-09-19T20:02:14.968Z"
      },
      {
        "duration": 30,
        "start_time": "2024-09-19T20:02:17.541Z"
      },
      {
        "duration": 11,
        "start_time": "2024-09-19T20:02:18.146Z"
      },
      {
        "duration": 9,
        "start_time": "2024-09-19T20:02:43.914Z"
      },
      {
        "duration": 102,
        "start_time": "2024-09-19T20:03:22.808Z"
      },
      {
        "duration": 53,
        "start_time": "2024-09-20T19:09:17.945Z"
      },
      {
        "duration": 5865,
        "start_time": "2024-09-20T19:09:22.315Z"
      },
      {
        "duration": 1277,
        "start_time": "2024-09-20T19:09:28.182Z"
      },
      {
        "duration": 3,
        "start_time": "2024-09-20T19:09:30.514Z"
      },
      {
        "duration": 141,
        "start_time": "2024-09-20T19:09:37.500Z"
      },
      {
        "duration": 24,
        "start_time": "2024-09-20T19:24:53.154Z"
      },
      {
        "duration": 22,
        "start_time": "2024-09-20T19:24:53.827Z"
      },
      {
        "duration": 2538,
        "start_time": "2024-09-20T19:25:02.008Z"
      },
      {
        "duration": 6,
        "start_time": "2024-09-20T19:25:04.549Z"
      },
      {
        "duration": 41,
        "start_time": "2024-09-20T19:25:04.557Z"
      },
      {
        "duration": 10,
        "start_time": "2024-09-20T19:25:33.721Z"
      },
      {
        "duration": 141,
        "start_time": "2024-09-20T19:25:40.418Z"
      },
      {
        "duration": 20,
        "start_time": "2024-09-20T19:25:41.166Z"
      },
      {
        "duration": 7,
        "start_time": "2024-09-20T19:25:44.305Z"
      },
      {
        "duration": 10,
        "start_time": "2024-09-20T19:25:51.673Z"
      },
      {
        "duration": 7,
        "start_time": "2024-09-20T19:26:14.242Z"
      },
      {
        "duration": 547,
        "start_time": "2024-09-20T19:32:54.437Z"
      },
      {
        "duration": 7,
        "start_time": "2024-09-20T19:34:01.497Z"
      },
      {
        "duration": 7,
        "start_time": "2024-09-20T19:34:47.555Z"
      },
      {
        "duration": 7,
        "start_time": "2024-09-20T19:34:50.006Z"
      },
      {
        "duration": 6,
        "start_time": "2024-09-20T19:41:48.509Z"
      },
      {
        "duration": 25,
        "start_time": "2024-09-20T19:42:52.623Z"
      },
      {
        "duration": 30,
        "start_time": "2024-09-20T20:06:08.450Z"
      },
      {
        "duration": 6163,
        "start_time": "2024-09-21T09:46:31.084Z"
      },
      {
        "duration": 1841,
        "start_time": "2024-09-21T09:46:37.249Z"
      },
      {
        "duration": 76,
        "start_time": "2024-09-21T09:46:39.091Z"
      },
      {
        "duration": 250,
        "start_time": "2024-09-21T09:46:39.169Z"
      },
      {
        "duration": 14,
        "start_time": "2024-09-21T09:46:39.421Z"
      },
      {
        "duration": 7,
        "start_time": "2024-09-21T09:46:39.436Z"
      },
      {
        "duration": 14,
        "start_time": "2024-09-21T09:46:39.444Z"
      },
      {
        "duration": 9,
        "start_time": "2024-09-21T09:46:39.459Z"
      },
      {
        "duration": 12,
        "start_time": "2024-09-21T09:46:39.470Z"
      },
      {
        "duration": 18,
        "start_time": "2024-09-21T09:46:39.484Z"
      },
      {
        "duration": 10,
        "start_time": "2024-09-21T09:46:39.504Z"
      },
      {
        "duration": 28,
        "start_time": "2024-09-21T09:46:39.516Z"
      },
      {
        "duration": 10,
        "start_time": "2024-09-21T09:50:53.645Z"
      },
      {
        "duration": 9,
        "start_time": "2024-09-21T09:51:07.637Z"
      },
      {
        "duration": 6,
        "start_time": "2024-09-21T09:51:08.943Z"
      },
      {
        "duration": 9,
        "start_time": "2024-09-21T09:51:41.636Z"
      },
      {
        "duration": 10,
        "start_time": "2024-09-21T09:59:22.408Z"
      },
      {
        "duration": 5,
        "start_time": "2024-09-21T09:59:44.731Z"
      },
      {
        "duration": 2610,
        "start_time": "2024-09-21T11:38:48.358Z"
      },
      {
        "duration": 16,
        "start_time": "2024-09-21T11:38:50.970Z"
      },
      {
        "duration": 23,
        "start_time": "2024-09-21T11:38:50.987Z"
      },
      {
        "duration": 59,
        "start_time": "2024-09-21T11:38:51.011Z"
      },
      {
        "duration": 12,
        "start_time": "2024-09-21T11:38:51.073Z"
      },
      {
        "duration": 12,
        "start_time": "2024-09-21T11:38:51.086Z"
      },
      {
        "duration": 8,
        "start_time": "2024-09-21T11:38:51.100Z"
      },
      {
        "duration": 15,
        "start_time": "2024-09-21T11:38:51.110Z"
      },
      {
        "duration": 9,
        "start_time": "2024-09-21T11:38:51.126Z"
      },
      {
        "duration": 8,
        "start_time": "2024-09-21T11:38:51.137Z"
      },
      {
        "duration": 9,
        "start_time": "2024-09-21T11:38:51.146Z"
      },
      {
        "duration": 10,
        "start_time": "2024-09-21T11:38:51.156Z"
      },
      {
        "duration": 2606,
        "start_time": "2024-09-21T11:38:58.518Z"
      },
      {
        "duration": 15,
        "start_time": "2024-09-21T11:39:01.126Z"
      },
      {
        "duration": 23,
        "start_time": "2024-09-21T11:39:01.143Z"
      },
      {
        "duration": 38,
        "start_time": "2024-09-21T11:39:01.168Z"
      },
      {
        "duration": 11,
        "start_time": "2024-09-21T11:39:01.208Z"
      },
      {
        "duration": 8,
        "start_time": "2024-09-21T11:39:01.221Z"
      },
      {
        "duration": 5,
        "start_time": "2024-09-21T11:39:01.231Z"
      },
      {
        "duration": 110,
        "start_time": "2024-09-21T11:39:01.238Z"
      },
      {
        "duration": 77,
        "start_time": "2024-09-21T11:39:01.350Z"
      },
      {
        "duration": 9,
        "start_time": "2024-09-21T11:39:01.430Z"
      },
      {
        "duration": 30,
        "start_time": "2024-09-21T11:39:01.440Z"
      },
      {
        "duration": 32,
        "start_time": "2024-09-21T11:39:01.471Z"
      },
      {
        "duration": 5,
        "start_time": "2024-09-21T11:39:07.998Z"
      },
      {
        "duration": 9,
        "start_time": "2024-09-21T11:43:34.728Z"
      },
      {
        "duration": 9,
        "start_time": "2024-09-21T11:43:35.900Z"
      },
      {
        "duration": 8,
        "start_time": "2024-09-21T11:43:38.029Z"
      },
      {
        "duration": 10,
        "start_time": "2024-09-21T11:43:38.657Z"
      },
      {
        "duration": 12,
        "start_time": "2024-09-21T11:43:39.219Z"
      },
      {
        "duration": 125,
        "start_time": "2024-09-21T11:48:33.188Z"
      },
      {
        "duration": 51,
        "start_time": "2024-09-21T13:49:16.935Z"
      },
      {
        "duration": 5507,
        "start_time": "2024-09-21T13:49:21.642Z"
      },
      {
        "duration": 2017,
        "start_time": "2024-09-21T13:49:27.151Z"
      },
      {
        "duration": 126,
        "start_time": "2024-09-21T13:49:29.170Z"
      },
      {
        "duration": 154,
        "start_time": "2024-09-21T13:49:29.298Z"
      },
      {
        "duration": 14,
        "start_time": "2024-09-21T13:49:29.454Z"
      },
      {
        "duration": 6,
        "start_time": "2024-09-21T13:49:29.469Z"
      },
      {
        "duration": 77,
        "start_time": "2024-09-21T13:49:29.477Z"
      },
      {
        "duration": 10,
        "start_time": "2024-09-21T13:49:29.556Z"
      },
      {
        "duration": 9,
        "start_time": "2024-09-21T13:49:29.568Z"
      },
      {
        "duration": 68,
        "start_time": "2024-09-21T13:49:29.579Z"
      },
      {
        "duration": 12,
        "start_time": "2024-09-21T13:49:29.649Z"
      },
      {
        "duration": 9,
        "start_time": "2024-09-21T13:49:29.662Z"
      },
      {
        "duration": 115,
        "start_time": "2024-09-21T13:49:29.673Z"
      },
      {
        "duration": 0,
        "start_time": "2024-09-21T13:49:29.790Z"
      },
      {
        "duration": 0,
        "start_time": "2024-09-21T13:49:29.792Z"
      },
      {
        "duration": 1,
        "start_time": "2024-09-21T13:49:29.793Z"
      },
      {
        "duration": 0,
        "start_time": "2024-09-21T13:49:29.795Z"
      },
      {
        "duration": 32,
        "start_time": "2024-09-21T13:49:37.924Z"
      },
      {
        "duration": 36,
        "start_time": "2024-09-21T13:50:33.917Z"
      },
      {
        "duration": 43,
        "start_time": "2024-09-21T13:53:16.204Z"
      },
      {
        "duration": 50,
        "start_time": "2024-09-21T13:53:35.031Z"
      },
      {
        "duration": 1277,
        "start_time": "2024-09-21T13:54:07.575Z"
      },
      {
        "duration": 2170,
        "start_time": "2024-09-21T13:56:54.826Z"
      },
      {
        "duration": 1152,
        "start_time": "2024-09-21T13:56:59.218Z"
      },
      {
        "duration": 10,
        "start_time": "2024-09-21T13:58:46.831Z"
      },
      {
        "duration": 9,
        "start_time": "2024-09-21T13:58:47.507Z"
      },
      {
        "duration": 9,
        "start_time": "2024-09-21T13:58:48.552Z"
      },
      {
        "duration": 11,
        "start_time": "2024-09-21T13:58:49.549Z"
      },
      {
        "duration": 1137,
        "start_time": "2024-09-21T13:58:54.843Z"
      },
      {
        "duration": 1370,
        "start_time": "2024-09-21T13:59:53.922Z"
      },
      {
        "duration": 1143,
        "start_time": "2024-09-21T13:59:57.667Z"
      },
      {
        "duration": 32,
        "start_time": "2024-09-21T14:01:15.328Z"
      },
      {
        "duration": 29,
        "start_time": "2024-09-21T14:01:17.659Z"
      },
      {
        "duration": 24,
        "start_time": "2024-09-21T14:07:28.147Z"
      },
      {
        "duration": 22,
        "start_time": "2024-09-21T14:07:30.508Z"
      },
      {
        "duration": 24,
        "start_time": "2024-09-21T14:09:39.827Z"
      },
      {
        "duration": 139,
        "start_time": "2024-09-21T14:10:22.912Z"
      },
      {
        "duration": 127,
        "start_time": "2024-09-21T14:10:25.464Z"
      },
      {
        "duration": 16,
        "start_time": "2024-09-21T14:10:33.435Z"
      },
      {
        "duration": 16,
        "start_time": "2024-09-21T14:10:35.941Z"
      },
      {
        "duration": 7,
        "start_time": "2024-09-21T14:15:25.339Z"
      },
      {
        "duration": 20,
        "start_time": "2024-09-21T14:15:31.078Z"
      },
      {
        "duration": 46,
        "start_time": "2024-09-21T14:54:57.667Z"
      },
      {
        "duration": 43,
        "start_time": "2024-09-21T14:54:59.743Z"
      },
      {
        "duration": 31,
        "start_time": "2024-09-21T14:59:36.522Z"
      },
      {
        "duration": 21,
        "start_time": "2024-09-21T14:59:39.280Z"
      },
      {
        "duration": 24,
        "start_time": "2024-09-21T14:59:50.529Z"
      },
      {
        "duration": 23,
        "start_time": "2024-09-21T14:59:52.769Z"
      },
      {
        "duration": 14,
        "start_time": "2024-09-21T15:00:01.036Z"
      },
      {
        "duration": 309,
        "start_time": "2024-09-21T15:00:08.048Z"
      },
      {
        "duration": 8,
        "start_time": "2024-09-21T15:03:10.243Z"
      },
      {
        "duration": 10,
        "start_time": "2024-09-21T15:03:11.342Z"
      },
      {
        "duration": 33,
        "start_time": "2024-09-21T15:03:12.854Z"
      },
      {
        "duration": 41,
        "start_time": "2024-09-21T15:03:27.644Z"
      },
      {
        "duration": 283,
        "start_time": "2024-09-21T15:03:32.612Z"
      },
      {
        "duration": 31,
        "start_time": "2024-09-21T15:13:43.870Z"
      },
      {
        "duration": 30,
        "start_time": "2024-09-21T15:13:47.388Z"
      },
      {
        "duration": 45,
        "start_time": "2024-09-21T15:14:16.380Z"
      },
      {
        "duration": 44,
        "start_time": "2024-09-21T15:15:40.016Z"
      },
      {
        "duration": 41,
        "start_time": "2024-09-21T15:15:47.352Z"
      },
      {
        "duration": 283,
        "start_time": "2024-09-21T15:15:53.131Z"
      },
      {
        "duration": 1051,
        "start_time": "2024-09-21T15:17:00.273Z"
      },
      {
        "duration": 534,
        "start_time": "2024-09-21T15:17:01.888Z"
      },
      {
        "duration": 17,
        "start_time": "2024-09-21T15:30:44.080Z"
      },
      {
        "duration": 17,
        "start_time": "2024-09-21T15:30:45.924Z"
      },
      {
        "duration": 123,
        "start_time": "2024-09-21T15:31:32.111Z"
      },
      {
        "duration": 6,
        "start_time": "2024-09-21T15:31:43.235Z"
      },
      {
        "duration": 5,
        "start_time": "2024-09-21T15:31:45.473Z"
      },
      {
        "duration": 6,
        "start_time": "2024-09-21T15:31:56.798Z"
      },
      {
        "duration": 1099,
        "start_time": "2024-09-21T19:25:35.296Z"
      },
      {
        "duration": 1293,
        "start_time": "2024-09-21T19:25:36.397Z"
      },
      {
        "duration": 0,
        "start_time": "2024-09-21T19:25:37.692Z"
      },
      {
        "duration": 34,
        "start_time": "2024-09-21T19:27:07.817Z"
      },
      {
        "duration": 33,
        "start_time": "2024-09-21T19:27:10.436Z"
      },
      {
        "duration": 5,
        "start_time": "2024-09-21T19:27:31.909Z"
      },
      {
        "duration": 613,
        "start_time": "2024-09-21T19:27:52.541Z"
      },
      {
        "duration": 9,
        "start_time": "2024-09-21T19:28:03.983Z"
      },
      {
        "duration": 8,
        "start_time": "2024-09-21T19:28:10.510Z"
      },
      {
        "duration": 3,
        "start_time": "2024-09-21T19:28:50.817Z"
      },
      {
        "duration": 35,
        "start_time": "2024-09-21T19:28:51.776Z"
      },
      {
        "duration": 3,
        "start_time": "2024-09-21T19:28:52.469Z"
      },
      {
        "duration": 5,
        "start_time": "2024-09-21T19:28:55.615Z"
      },
      {
        "duration": 506,
        "start_time": "2024-09-21T19:28:58.948Z"
      },
      {
        "duration": 9,
        "start_time": "2024-09-21T19:29:00.128Z"
      },
      {
        "duration": 8,
        "start_time": "2024-09-21T19:29:03.557Z"
      },
      {
        "duration": 10,
        "start_time": "2024-09-21T19:31:10.050Z"
      },
      {
        "duration": 9,
        "start_time": "2024-09-21T19:31:14.335Z"
      },
      {
        "duration": 8,
        "start_time": "2024-09-21T19:31:29.131Z"
      },
      {
        "duration": 9,
        "start_time": "2024-09-21T19:31:38.832Z"
      },
      {
        "duration": 9,
        "start_time": "2024-09-21T19:31:41.133Z"
      },
      {
        "duration": 6,
        "start_time": "2024-09-21T19:32:13.621Z"
      },
      {
        "duration": 5,
        "start_time": "2024-09-21T19:32:16.086Z"
      },
      {
        "duration": 4,
        "start_time": "2024-09-21T19:32:18.497Z"
      },
      {
        "duration": 3,
        "start_time": "2024-09-21T19:32:21.327Z"
      },
      {
        "duration": 8,
        "start_time": "2024-09-21T19:32:43.365Z"
      },
      {
        "duration": 72219,
        "start_time": "2024-09-21T19:33:21.286Z"
      },
      {
        "duration": 5985,
        "start_time": "2024-09-21T19:35:10.112Z"
      },
      {
        "duration": 112,
        "start_time": "2024-09-21T19:35:16.100Z"
      },
      {
        "duration": 133,
        "start_time": "2024-09-21T19:35:16.214Z"
      },
      {
        "duration": 37,
        "start_time": "2024-09-21T19:35:16.348Z"
      },
      {
        "duration": 12,
        "start_time": "2024-09-21T19:35:16.388Z"
      },
      {
        "duration": 40,
        "start_time": "2024-09-21T19:35:16.402Z"
      },
      {
        "duration": 6,
        "start_time": "2024-09-21T19:35:16.444Z"
      },
      {
        "duration": 13,
        "start_time": "2024-09-21T19:35:16.451Z"
      },
      {
        "duration": 7,
        "start_time": "2024-09-21T19:35:16.466Z"
      },
      {
        "duration": 9,
        "start_time": "2024-09-21T19:35:16.474Z"
      },
      {
        "duration": 9,
        "start_time": "2024-09-21T19:35:16.485Z"
      },
      {
        "duration": 10,
        "start_time": "2024-09-21T19:35:16.495Z"
      },
      {
        "duration": 61,
        "start_time": "2024-09-21T19:35:16.507Z"
      },
      {
        "duration": 21,
        "start_time": "2024-09-21T19:35:16.571Z"
      },
      {
        "duration": 67,
        "start_time": "2024-09-21T19:35:16.593Z"
      },
      {
        "duration": 49,
        "start_time": "2024-09-21T19:35:16.662Z"
      },
      {
        "duration": 303,
        "start_time": "2024-09-21T19:35:16.712Z"
      },
      {
        "duration": 4,
        "start_time": "2024-09-21T19:35:17.017Z"
      },
      {
        "duration": 528,
        "start_time": "2024-09-21T19:35:17.023Z"
      },
      {
        "duration": 93,
        "start_time": "2024-09-21T19:35:17.553Z"
      },
      {
        "duration": 98,
        "start_time": "2024-09-21T19:35:17.649Z"
      },
      {
        "duration": 47,
        "start_time": "2024-09-21T19:35:17.749Z"
      },
      {
        "duration": 6,
        "start_time": "2024-09-21T19:35:17.798Z"
      },
      {
        "duration": 14,
        "start_time": "2024-09-21T19:35:17.806Z"
      },
      {
        "duration": 24,
        "start_time": "2024-09-21T19:35:17.822Z"
      },
      {
        "duration": 49,
        "start_time": "2024-09-21T19:53:11.381Z"
      },
      {
        "duration": 16,
        "start_time": "2024-09-21T19:55:33.297Z"
      },
      {
        "duration": 4,
        "start_time": "2024-09-21T19:55:43.969Z"
      },
      {
        "duration": 16,
        "start_time": "2024-09-21T21:09:30.185Z"
      },
      {
        "duration": 14,
        "start_time": "2024-09-21T21:13:03.892Z"
      },
      {
        "duration": 55,
        "start_time": "2024-09-22T12:07:03.473Z"
      },
      {
        "duration": 5900,
        "start_time": "2024-09-22T12:07:06.277Z"
      },
      {
        "duration": 1837,
        "start_time": "2024-09-22T12:07:12.180Z"
      },
      {
        "duration": 93,
        "start_time": "2024-09-22T12:07:14.019Z"
      },
      {
        "duration": 91,
        "start_time": "2024-09-22T12:07:14.114Z"
      },
      {
        "duration": 16,
        "start_time": "2024-09-22T12:07:14.208Z"
      },
      {
        "duration": 7,
        "start_time": "2024-09-22T12:07:14.226Z"
      },
      {
        "duration": 73,
        "start_time": "2024-09-22T12:07:14.234Z"
      },
      {
        "duration": 8,
        "start_time": "2024-09-22T12:07:14.309Z"
      },
      {
        "duration": 23,
        "start_time": "2024-09-22T12:07:14.319Z"
      },
      {
        "duration": 9,
        "start_time": "2024-09-22T12:07:14.344Z"
      },
      {
        "duration": 32,
        "start_time": "2024-09-22T12:07:14.355Z"
      },
      {
        "duration": 68,
        "start_time": "2024-09-22T12:07:14.389Z"
      },
      {
        "duration": 80,
        "start_time": "2024-09-22T12:07:14.459Z"
      },
      {
        "duration": 40,
        "start_time": "2024-09-22T12:07:14.542Z"
      },
      {
        "duration": 319,
        "start_time": "2024-09-22T12:07:14.584Z"
      },
      {
        "duration": 509,
        "start_time": "2024-09-22T12:07:14.906Z"
      },
      {
        "duration": 8,
        "start_time": "2024-09-22T12:07:15.507Z"
      },
      {
        "duration": 43,
        "start_time": "2024-09-22T12:07:15.605Z"
      },
      {
        "duration": 15,
        "start_time": "2024-09-22T12:07:15.650Z"
      },
      {
        "duration": 96,
        "start_time": "2024-09-22T12:07:15.667Z"
      },
      {
        "duration": 8,
        "start_time": "2024-09-22T12:07:25.702Z"
      },
      {
        "duration": 8,
        "start_time": "2024-09-22T12:07:26.542Z"
      },
      {
        "duration": 8,
        "start_time": "2024-09-22T12:07:27.205Z"
      },
      {
        "duration": 2874,
        "start_time": "2024-09-22T13:15:51.766Z"
      },
      {
        "duration": 8,
        "start_time": "2024-09-22T13:15:54.643Z"
      },
      {
        "duration": 55,
        "start_time": "2024-09-22T13:15:54.653Z"
      },
      {
        "duration": 37,
        "start_time": "2024-09-22T13:15:54.711Z"
      },
      {
        "duration": 12,
        "start_time": "2024-09-22T13:15:54.750Z"
      },
      {
        "duration": 8,
        "start_time": "2024-09-22T13:15:54.763Z"
      },
      {
        "duration": 14,
        "start_time": "2024-09-22T13:15:54.773Z"
      },
      {
        "duration": 8,
        "start_time": "2024-09-22T13:15:54.789Z"
      },
      {
        "duration": 11,
        "start_time": "2024-09-22T13:15:54.805Z"
      },
      {
        "duration": 9,
        "start_time": "2024-09-22T13:15:54.818Z"
      },
      {
        "duration": 10,
        "start_time": "2024-09-22T13:15:54.828Z"
      },
      {
        "duration": 65,
        "start_time": "2024-09-22T13:15:54.840Z"
      },
      {
        "duration": 23,
        "start_time": "2024-09-22T13:15:54.907Z"
      },
      {
        "duration": 52,
        "start_time": "2024-09-22T13:15:54.931Z"
      },
      {
        "duration": 324,
        "start_time": "2024-09-22T13:15:54.985Z"
      },
      {
        "duration": 696,
        "start_time": "2024-09-22T13:15:55.311Z"
      },
      {
        "duration": 4,
        "start_time": "2024-09-22T13:15:56.010Z"
      },
      {
        "duration": 44,
        "start_time": "2024-09-22T13:15:56.106Z"
      },
      {
        "duration": 16,
        "start_time": "2024-09-22T13:15:56.152Z"
      },
      {
        "duration": 49,
        "start_time": "2024-09-22T13:15:56.170Z"
      },
      {
        "duration": 35,
        "start_time": "2024-09-22T13:16:03.411Z"
      },
      {
        "duration": 35,
        "start_time": "2024-09-22T13:16:05.988Z"
      },
      {
        "duration": 28,
        "start_time": "2024-09-22T13:58:57.766Z"
      },
      {
        "duration": 26,
        "start_time": "2024-09-22T13:58:59.823Z"
      },
      {
        "duration": 2583,
        "start_time": "2024-09-22T14:10:49.518Z"
      },
      {
        "duration": 13,
        "start_time": "2024-09-22T14:10:52.104Z"
      },
      {
        "duration": 18,
        "start_time": "2024-09-22T14:10:52.119Z"
      },
      {
        "duration": 34,
        "start_time": "2024-09-22T14:10:52.138Z"
      },
      {
        "duration": 11,
        "start_time": "2024-09-22T14:10:52.174Z"
      },
      {
        "duration": 21,
        "start_time": "2024-09-22T14:10:52.186Z"
      },
      {
        "duration": 19,
        "start_time": "2024-09-22T14:10:52.209Z"
      },
      {
        "duration": 10,
        "start_time": "2024-09-22T14:10:52.230Z"
      },
      {
        "duration": 59,
        "start_time": "2024-09-22T14:10:52.242Z"
      },
      {
        "duration": 9,
        "start_time": "2024-09-22T14:10:52.303Z"
      },
      {
        "duration": 8,
        "start_time": "2024-09-22T14:10:52.314Z"
      },
      {
        "duration": 24,
        "start_time": "2024-09-22T14:10:52.323Z"
      },
      {
        "duration": 18,
        "start_time": "2024-09-22T14:10:52.348Z"
      },
      {
        "duration": 58,
        "start_time": "2024-09-22T14:10:52.369Z"
      },
      {
        "duration": 388,
        "start_time": "2024-09-22T14:10:52.429Z"
      },
      {
        "duration": 688,
        "start_time": "2024-09-22T14:10:52.819Z"
      },
      {
        "duration": 4,
        "start_time": "2024-09-22T14:10:53.509Z"
      },
      {
        "duration": 133,
        "start_time": "2024-09-22T14:10:53.514Z"
      },
      {
        "duration": 70,
        "start_time": "2024-09-22T14:10:53.648Z"
      },
      {
        "duration": 23,
        "start_time": "2024-09-22T14:10:53.720Z"
      },
      {
        "duration": 2681,
        "start_time": "2024-09-22T14:15:50.939Z"
      },
      {
        "duration": 9,
        "start_time": "2024-09-22T14:15:53.622Z"
      },
      {
        "duration": 16,
        "start_time": "2024-09-22T14:15:53.633Z"
      },
      {
        "duration": 33,
        "start_time": "2024-09-22T14:15:53.651Z"
      },
      {
        "duration": 11,
        "start_time": "2024-09-22T14:15:53.686Z"
      },
      {
        "duration": 26,
        "start_time": "2024-09-22T14:15:53.699Z"
      },
      {
        "duration": 8,
        "start_time": "2024-09-22T14:15:53.727Z"
      },
      {
        "duration": 7,
        "start_time": "2024-09-22T14:15:53.737Z"
      },
      {
        "duration": 10,
        "start_time": "2024-09-22T14:15:53.746Z"
      },
      {
        "duration": 8,
        "start_time": "2024-09-22T14:15:53.758Z"
      },
      {
        "duration": 9,
        "start_time": "2024-09-22T14:15:53.767Z"
      },
      {
        "duration": 637,
        "start_time": "2024-09-22T14:15:53.778Z"
      },
      {
        "duration": 120,
        "start_time": "2024-09-22T14:15:54.506Z"
      },
      {
        "duration": 22,
        "start_time": "2024-09-22T14:15:54.628Z"
      },
      {
        "duration": 66,
        "start_time": "2024-09-22T14:15:54.652Z"
      },
      {
        "duration": 294,
        "start_time": "2024-09-22T14:15:54.720Z"
      },
      {
        "duration": 3,
        "start_time": "2024-09-22T14:15:55.016Z"
      },
      {
        "duration": 39,
        "start_time": "2024-09-22T14:15:55.021Z"
      },
      {
        "duration": 15,
        "start_time": "2024-09-22T14:15:55.061Z"
      },
      {
        "duration": 418,
        "start_time": "2024-09-22T14:18:05.188Z"
      },
      {
        "duration": 463,
        "start_time": "2024-09-22T14:18:07.348Z"
      },
      {
        "duration": 644,
        "start_time": "2024-09-22T14:19:01.770Z"
      },
      {
        "duration": 344,
        "start_time": "2024-09-22T14:19:04.062Z"
      },
      {
        "duration": 462,
        "start_time": "2024-09-22T14:19:13.346Z"
      },
      {
        "duration": 49,
        "start_time": "2024-09-22T14:21:06.037Z"
      },
      {
        "duration": 41,
        "start_time": "2024-09-22T14:21:09.779Z"
      },
      {
        "duration": 46,
        "start_time": "2024-09-22T14:45:39.715Z"
      },
      {
        "duration": 38,
        "start_time": "2024-09-22T14:45:41.603Z"
      },
      {
        "duration": 37,
        "start_time": "2024-09-22T14:46:15.788Z"
      },
      {
        "duration": 29,
        "start_time": "2024-09-22T14:46:19.470Z"
      },
      {
        "duration": 23,
        "start_time": "2024-09-22T14:47:10.641Z"
      },
      {
        "duration": 31,
        "start_time": "2024-09-22T14:50:28.985Z"
      },
      {
        "duration": 40,
        "start_time": "2024-09-22T14:51:46.359Z"
      },
      {
        "duration": 35,
        "start_time": "2024-09-22T14:52:29.413Z"
      },
      {
        "duration": 24,
        "start_time": "2024-09-22T14:52:34.480Z"
      },
      {
        "duration": 45,
        "start_time": "2024-09-22T14:54:38.506Z"
      },
      {
        "duration": 52,
        "start_time": "2024-09-22T14:54:40.357Z"
      },
      {
        "duration": 25,
        "start_time": "2024-09-22T14:54:49.936Z"
      },
      {
        "duration": 20,
        "start_time": "2024-09-22T14:55:20.663Z"
      },
      {
        "duration": 44,
        "start_time": "2024-09-22T14:59:51.888Z"
      },
      {
        "duration": 41,
        "start_time": "2024-09-22T14:59:53.783Z"
      },
      {
        "duration": 38,
        "start_time": "2024-09-22T15:03:35.474Z"
      },
      {
        "duration": 29,
        "start_time": "2024-09-22T15:03:37.273Z"
      },
      {
        "duration": 333,
        "start_time": "2024-09-22T15:04:36.920Z"
      },
      {
        "duration": 361,
        "start_time": "2024-09-22T15:04:38.822Z"
      },
      {
        "duration": 8,
        "start_time": "2024-09-22T15:05:10.276Z"
      },
      {
        "duration": 7,
        "start_time": "2024-09-22T15:05:12.505Z"
      },
      {
        "duration": 7,
        "start_time": "2024-09-22T15:05:14.868Z"
      },
      {
        "duration": 15,
        "start_time": "2024-09-22T15:05:32.125Z"
      },
      {
        "duration": 8,
        "start_time": "2024-09-22T15:05:46.032Z"
      },
      {
        "duration": 7,
        "start_time": "2024-09-22T15:05:48.396Z"
      },
      {
        "duration": 17,
        "start_time": "2024-09-22T15:06:34.299Z"
      },
      {
        "duration": 16,
        "start_time": "2024-09-22T15:06:36.452Z"
      },
      {
        "duration": 11,
        "start_time": "2024-09-22T15:06:37.552Z"
      },
      {
        "duration": 69,
        "start_time": "2024-09-22T16:03:40.802Z"
      },
      {
        "duration": 56,
        "start_time": "2024-09-22T16:03:45.334Z"
      },
      {
        "duration": 35,
        "start_time": "2024-09-22T16:07:51.441Z"
      },
      {
        "duration": 21,
        "start_time": "2024-09-22T16:07:53.341Z"
      },
      {
        "duration": 64,
        "start_time": "2024-09-22T16:09:31.229Z"
      },
      {
        "duration": 125,
        "start_time": "2024-09-22T16:09:41.681Z"
      },
      {
        "duration": 22,
        "start_time": "2024-09-22T16:09:50.322Z"
      },
      {
        "duration": 120,
        "start_time": "2024-09-22T16:10:01.477Z"
      },
      {
        "duration": 111,
        "start_time": "2024-09-22T16:10:30.962Z"
      },
      {
        "duration": 110,
        "start_time": "2024-09-22T16:10:32.763Z"
      },
      {
        "duration": 217,
        "start_time": "2024-09-22T16:12:08.250Z"
      },
      {
        "duration": 122,
        "start_time": "2024-09-22T16:12:31.105Z"
      },
      {
        "duration": 18,
        "start_time": "2024-09-22T16:13:36.652Z"
      },
      {
        "duration": 16,
        "start_time": "2024-09-22T16:13:39.201Z"
      },
      {
        "duration": 129,
        "start_time": "2024-09-22T16:13:58.824Z"
      },
      {
        "duration": 150,
        "start_time": "2024-09-22T16:14:11.372Z"
      },
      {
        "duration": 219,
        "start_time": "2024-09-22T16:14:20.318Z"
      },
      {
        "duration": 511,
        "start_time": "2024-09-22T16:17:47.046Z"
      },
      {
        "duration": 70,
        "start_time": "2024-09-22T16:18:10.256Z"
      },
      {
        "duration": 79,
        "start_time": "2024-09-22T16:18:18.445Z"
      },
      {
        "duration": 16,
        "start_time": "2024-09-22T16:18:41.700Z"
      },
      {
        "duration": 312,
        "start_time": "2024-09-22T16:20:20.085Z"
      },
      {
        "duration": 15,
        "start_time": "2024-09-22T16:20:32.287Z"
      },
      {
        "duration": 9,
        "start_time": "2024-09-22T16:20:33.014Z"
      },
      {
        "duration": 2621,
        "start_time": "2024-09-22T16:20:37.708Z"
      },
      {
        "duration": 9,
        "start_time": "2024-09-22T16:20:40.331Z"
      },
      {
        "duration": 25,
        "start_time": "2024-09-22T16:20:40.341Z"
      },
      {
        "duration": 74,
        "start_time": "2024-09-22T16:20:40.367Z"
      },
      {
        "duration": 12,
        "start_time": "2024-09-22T16:20:40.444Z"
      },
      {
        "duration": 40,
        "start_time": "2024-09-22T16:20:40.457Z"
      },
      {
        "duration": 32,
        "start_time": "2024-09-22T16:20:40.499Z"
      },
      {
        "duration": 27,
        "start_time": "2024-09-22T16:20:40.532Z"
      },
      {
        "duration": 60,
        "start_time": "2024-09-22T16:20:40.561Z"
      },
      {
        "duration": 15,
        "start_time": "2024-09-22T16:20:40.623Z"
      },
      {
        "duration": 19,
        "start_time": "2024-09-22T16:20:40.640Z"
      },
      {
        "duration": 44,
        "start_time": "2024-09-22T16:20:40.661Z"
      },
      {
        "duration": 59,
        "start_time": "2024-09-22T16:20:40.707Z"
      },
      {
        "duration": 101,
        "start_time": "2024-09-22T16:20:40.768Z"
      },
      {
        "duration": 16,
        "start_time": "2024-09-22T16:20:40.870Z"
      },
      {
        "duration": 39,
        "start_time": "2024-09-22T16:20:40.888Z"
      },
      {
        "duration": 42,
        "start_time": "2024-09-22T16:20:40.929Z"
      },
      {
        "duration": 301,
        "start_time": "2024-09-22T16:20:40.973Z"
      },
      {
        "duration": 3,
        "start_time": "2024-09-22T16:20:41.276Z"
      },
      {
        "duration": 51,
        "start_time": "2024-09-22T16:20:41.280Z"
      },
      {
        "duration": 18,
        "start_time": "2024-09-22T16:20:41.333Z"
      },
      {
        "duration": 15,
        "start_time": "2024-09-22T16:21:12.004Z"
      },
      {
        "duration": 85,
        "start_time": "2024-09-22T16:21:38.005Z"
      },
      {
        "duration": 15,
        "start_time": "2024-09-22T16:21:39.188Z"
      },
      {
        "duration": 6,
        "start_time": "2024-09-22T16:21:41.245Z"
      },
      {
        "duration": 49,
        "start_time": "2024-09-22T16:26:12.888Z"
      },
      {
        "duration": 41,
        "start_time": "2024-09-22T16:26:23.269Z"
      },
      {
        "duration": 40,
        "start_time": "2024-09-22T16:27:44.172Z"
      },
      {
        "duration": 43,
        "start_time": "2024-09-22T16:27:47.404Z"
      },
      {
        "duration": 72,
        "start_time": "2024-09-22T16:31:28.316Z"
      },
      {
        "duration": 66,
        "start_time": "2024-09-22T16:31:33.016Z"
      },
      {
        "duration": 71,
        "start_time": "2024-09-22T16:31:34.946Z"
      },
      {
        "duration": 74,
        "start_time": "2024-09-22T16:31:54.599Z"
      },
      {
        "duration": 59,
        "start_time": "2024-09-22T16:32:02.944Z"
      },
      {
        "duration": 58,
        "start_time": "2024-09-22T16:32:08.841Z"
      },
      {
        "duration": 171,
        "start_time": "2024-09-22T16:33:03.554Z"
      },
      {
        "duration": 266,
        "start_time": "2024-09-22T16:33:21.099Z"
      },
      {
        "duration": 120,
        "start_time": "2024-09-22T16:33:41.769Z"
      },
      {
        "duration": 133,
        "start_time": "2024-09-22T16:33:50.644Z"
      },
      {
        "duration": 58,
        "start_time": "2024-09-22T16:34:04.375Z"
      },
      {
        "duration": 56,
        "start_time": "2024-09-22T16:34:06.167Z"
      },
      {
        "duration": 0,
        "start_time": "2024-09-22T19:45:02.521Z"
      },
      {
        "duration": 0,
        "start_time": "2024-09-22T19:45:02.521Z"
      },
      {
        "duration": 0,
        "start_time": "2024-09-22T19:45:02.522Z"
      },
      {
        "duration": 0,
        "start_time": "2024-09-22T19:45:02.523Z"
      },
      {
        "duration": 0,
        "start_time": "2024-09-22T19:45:02.524Z"
      },
      {
        "duration": 0,
        "start_time": "2024-09-22T19:45:02.525Z"
      },
      {
        "duration": 0,
        "start_time": "2024-09-22T19:45:02.525Z"
      },
      {
        "duration": 0,
        "start_time": "2024-09-22T19:45:02.526Z"
      },
      {
        "duration": 0,
        "start_time": "2024-09-22T19:45:02.527Z"
      },
      {
        "duration": 0,
        "start_time": "2024-09-22T19:45:02.528Z"
      },
      {
        "duration": 0,
        "start_time": "2024-09-22T19:45:02.529Z"
      },
      {
        "duration": 0,
        "start_time": "2024-09-22T19:45:02.530Z"
      },
      {
        "duration": 0,
        "start_time": "2024-09-22T19:45:02.531Z"
      },
      {
        "duration": 0,
        "start_time": "2024-09-22T19:45:02.532Z"
      },
      {
        "duration": 0,
        "start_time": "2024-09-22T19:45:02.533Z"
      },
      {
        "duration": 0,
        "start_time": "2024-09-22T19:45:02.534Z"
      },
      {
        "duration": 0,
        "start_time": "2024-09-22T19:45:02.535Z"
      },
      {
        "duration": 0,
        "start_time": "2024-09-22T19:45:02.536Z"
      },
      {
        "duration": 0,
        "start_time": "2024-09-22T19:45:02.537Z"
      },
      {
        "duration": 0,
        "start_time": "2024-09-22T19:45:02.537Z"
      },
      {
        "duration": 0,
        "start_time": "2024-09-22T19:45:02.538Z"
      },
      {
        "duration": 2408,
        "start_time": "2024-09-22T19:45:13.891Z"
      },
      {
        "duration": 8,
        "start_time": "2024-09-22T19:45:16.301Z"
      },
      {
        "duration": 31,
        "start_time": "2024-09-22T19:45:16.310Z"
      },
      {
        "duration": 37,
        "start_time": "2024-09-22T19:45:19.375Z"
      },
      {
        "duration": 9,
        "start_time": "2024-09-22T19:45:21.246Z"
      },
      {
        "duration": 12,
        "start_time": "2024-09-22T19:45:24.614Z"
      },
      {
        "duration": 7,
        "start_time": "2024-09-22T19:45:26.040Z"
      },
      {
        "duration": 7,
        "start_time": "2024-09-22T19:45:31.538Z"
      },
      {
        "duration": 9,
        "start_time": "2024-09-22T19:45:33.646Z"
      },
      {
        "duration": 9,
        "start_time": "2024-09-22T19:45:36.008Z"
      },
      {
        "duration": 9,
        "start_time": "2024-09-22T19:45:38.626Z"
      },
      {
        "duration": 39,
        "start_time": "2024-09-22T19:46:00.130Z"
      },
      {
        "duration": 51,
        "start_time": "2024-09-22T19:49:35.814Z"
      },
      {
        "duration": 66,
        "start_time": "2024-09-22T20:35:06.360Z"
      },
      {
        "duration": 2575,
        "start_time": "2024-09-22T20:35:10.987Z"
      },
      {
        "duration": 8,
        "start_time": "2024-09-22T20:35:13.565Z"
      },
      {
        "duration": 9,
        "start_time": "2024-09-22T20:35:13.575Z"
      },
      {
        "duration": 40,
        "start_time": "2024-09-22T20:35:13.585Z"
      },
      {
        "duration": 12,
        "start_time": "2024-09-22T20:35:13.627Z"
      },
      {
        "duration": 14,
        "start_time": "2024-09-22T20:35:13.641Z"
      },
      {
        "duration": 8,
        "start_time": "2024-09-22T20:35:13.657Z"
      },
      {
        "duration": 6,
        "start_time": "2024-09-22T20:35:13.666Z"
      },
      {
        "duration": 7,
        "start_time": "2024-09-22T20:35:13.674Z"
      },
      {
        "duration": 36,
        "start_time": "2024-09-22T20:35:13.682Z"
      },
      {
        "duration": 51,
        "start_time": "2024-09-22T20:35:13.720Z"
      },
      {
        "duration": 45,
        "start_time": "2024-09-22T20:35:13.772Z"
      },
      {
        "duration": 208,
        "start_time": "2024-09-22T20:35:13.820Z"
      },
      {
        "duration": 0,
        "start_time": "2024-09-22T20:35:14.030Z"
      },
      {
        "duration": 0,
        "start_time": "2024-09-22T20:35:14.032Z"
      },
      {
        "duration": 0,
        "start_time": "2024-09-22T20:35:14.033Z"
      },
      {
        "duration": 0,
        "start_time": "2024-09-22T20:35:14.034Z"
      },
      {
        "duration": 0,
        "start_time": "2024-09-22T20:35:14.036Z"
      },
      {
        "duration": 0,
        "start_time": "2024-09-22T20:35:14.037Z"
      },
      {
        "duration": 0,
        "start_time": "2024-09-22T20:35:14.038Z"
      },
      {
        "duration": 0,
        "start_time": "2024-09-22T20:35:14.040Z"
      },
      {
        "duration": 0,
        "start_time": "2024-09-22T20:35:14.041Z"
      },
      {
        "duration": 62,
        "start_time": "2024-09-22T20:35:34.704Z"
      },
      {
        "duration": 63,
        "start_time": "2024-09-22T20:36:01.541Z"
      },
      {
        "duration": 60,
        "start_time": "2024-09-22T20:39:13.342Z"
      },
      {
        "duration": 57,
        "start_time": "2024-09-22T20:39:17.704Z"
      },
      {
        "duration": 2423,
        "start_time": "2024-09-22T20:39:24.955Z"
      },
      {
        "duration": 8,
        "start_time": "2024-09-22T20:39:27.381Z"
      },
      {
        "duration": 21,
        "start_time": "2024-09-22T20:39:27.390Z"
      },
      {
        "duration": 63,
        "start_time": "2024-09-22T20:39:27.413Z"
      },
      {
        "duration": 10,
        "start_time": "2024-09-22T20:39:27.479Z"
      },
      {
        "duration": 22,
        "start_time": "2024-09-22T20:39:27.491Z"
      },
      {
        "duration": 20,
        "start_time": "2024-09-22T20:39:27.515Z"
      },
      {
        "duration": 12,
        "start_time": "2024-09-22T20:39:27.537Z"
      },
      {
        "duration": 17,
        "start_time": "2024-09-22T20:39:27.551Z"
      },
      {
        "duration": 19,
        "start_time": "2024-09-22T20:39:27.569Z"
      },
      {
        "duration": 19,
        "start_time": "2024-09-22T20:39:27.589Z"
      },
      {
        "duration": 53,
        "start_time": "2024-09-22T20:39:27.610Z"
      },
      {
        "duration": 58,
        "start_time": "2024-09-22T20:39:27.665Z"
      },
      {
        "duration": 73,
        "start_time": "2024-09-22T20:39:27.726Z"
      },
      {
        "duration": 27,
        "start_time": "2024-09-22T20:39:27.800Z"
      },
      {
        "duration": 31,
        "start_time": "2024-09-22T20:39:27.829Z"
      },
      {
        "duration": 0,
        "start_time": "2024-09-22T20:39:27.862Z"
      },
      {
        "duration": 0,
        "start_time": "2024-09-22T20:39:27.863Z"
      },
      {
        "duration": 0,
        "start_time": "2024-09-22T20:39:27.864Z"
      },
      {
        "duration": 0,
        "start_time": "2024-09-22T20:39:27.865Z"
      },
      {
        "duration": 0,
        "start_time": "2024-09-22T20:39:27.867Z"
      },
      {
        "duration": 40,
        "start_time": "2024-09-22T20:39:44.261Z"
      },
      {
        "duration": 57,
        "start_time": "2024-09-22T20:39:48.697Z"
      },
      {
        "duration": 46,
        "start_time": "2024-09-22T20:41:22.050Z"
      },
      {
        "duration": 44,
        "start_time": "2024-09-22T20:41:24.318Z"
      },
      {
        "duration": 2629,
        "start_time": "2024-09-22T20:41:37.312Z"
      },
      {
        "duration": 7,
        "start_time": "2024-09-22T20:41:39.944Z"
      },
      {
        "duration": 9,
        "start_time": "2024-09-22T20:41:39.953Z"
      },
      {
        "duration": 55,
        "start_time": "2024-09-22T20:41:39.964Z"
      },
      {
        "duration": 9,
        "start_time": "2024-09-22T20:41:40.022Z"
      },
      {
        "duration": 49,
        "start_time": "2024-09-22T20:41:40.033Z"
      },
      {
        "duration": 8,
        "start_time": "2024-09-22T20:41:40.116Z"
      },
      {
        "duration": 10,
        "start_time": "2024-09-22T20:41:40.125Z"
      },
      {
        "duration": 25,
        "start_time": "2024-09-22T20:41:40.136Z"
      },
      {
        "duration": 53,
        "start_time": "2024-09-22T20:41:40.163Z"
      },
      {
        "duration": 9,
        "start_time": "2024-09-22T20:41:40.218Z"
      },
      {
        "duration": 119,
        "start_time": "2024-09-22T20:41:40.228Z"
      },
      {
        "duration": 108,
        "start_time": "2024-09-22T20:41:40.348Z"
      },
      {
        "duration": 98,
        "start_time": "2024-09-22T20:41:40.459Z"
      },
      {
        "duration": 68,
        "start_time": "2024-09-22T20:41:40.558Z"
      },
      {
        "duration": 20,
        "start_time": "2024-09-22T20:41:40.627Z"
      },
      {
        "duration": 0,
        "start_time": "2024-09-22T20:41:40.649Z"
      },
      {
        "duration": 0,
        "start_time": "2024-09-22T20:41:40.650Z"
      },
      {
        "duration": 0,
        "start_time": "2024-09-22T20:41:40.651Z"
      },
      {
        "duration": 0,
        "start_time": "2024-09-22T20:41:40.652Z"
      },
      {
        "duration": 0,
        "start_time": "2024-09-22T20:41:40.654Z"
      },
      {
        "duration": 73,
        "start_time": "2024-09-22T20:42:06.223Z"
      },
      {
        "duration": 74,
        "start_time": "2024-09-22T20:42:08.937Z"
      },
      {
        "duration": 44,
        "start_time": "2024-09-22T20:42:28.962Z"
      },
      {
        "duration": 44,
        "start_time": "2024-09-22T20:42:31.044Z"
      },
      {
        "duration": 105,
        "start_time": "2024-09-22T20:42:45.937Z"
      },
      {
        "duration": 52,
        "start_time": "2024-09-22T20:43:09.432Z"
      },
      {
        "duration": 102,
        "start_time": "2024-09-22T20:52:27.412Z"
      },
      {
        "duration": 107,
        "start_time": "2024-09-22T20:52:30.079Z"
      },
      {
        "duration": 22,
        "start_time": "2024-09-22T20:52:32.981Z"
      },
      {
        "duration": 2731,
        "start_time": "2024-09-22T20:52:42.608Z"
      },
      {
        "duration": 7,
        "start_time": "2024-09-22T20:52:45.342Z"
      },
      {
        "duration": 22,
        "start_time": "2024-09-22T20:52:45.351Z"
      },
      {
        "duration": 48,
        "start_time": "2024-09-22T20:52:45.375Z"
      },
      {
        "duration": 36,
        "start_time": "2024-09-22T20:52:45.425Z"
      },
      {
        "duration": 57,
        "start_time": "2024-09-22T20:52:45.462Z"
      },
      {
        "duration": 12,
        "start_time": "2024-09-22T20:52:45.520Z"
      },
      {
        "duration": 18,
        "start_time": "2024-09-22T20:52:45.534Z"
      },
      {
        "duration": 63,
        "start_time": "2024-09-22T20:52:45.554Z"
      },
      {
        "duration": 20,
        "start_time": "2024-09-22T20:52:45.619Z"
      },
      {
        "duration": 22,
        "start_time": "2024-09-22T20:52:45.641Z"
      },
      {
        "duration": 80,
        "start_time": "2024-09-22T20:52:45.664Z"
      },
      {
        "duration": 109,
        "start_time": "2024-09-22T20:52:45.745Z"
      },
      {
        "duration": 166,
        "start_time": "2024-09-22T20:52:45.856Z"
      },
      {
        "duration": 16,
        "start_time": "2024-09-22T20:52:46.024Z"
      },
      {
        "duration": 28,
        "start_time": "2024-09-22T20:52:46.041Z"
      },
      {
        "duration": 0,
        "start_time": "2024-09-22T20:52:46.071Z"
      },
      {
        "duration": 0,
        "start_time": "2024-09-22T20:52:46.072Z"
      },
      {
        "duration": 0,
        "start_time": "2024-09-22T20:52:46.073Z"
      },
      {
        "duration": 0,
        "start_time": "2024-09-22T20:52:46.074Z"
      },
      {
        "duration": 0,
        "start_time": "2024-09-22T20:52:46.075Z"
      },
      {
        "duration": 15,
        "start_time": "2024-09-22T20:53:34.433Z"
      },
      {
        "duration": 14,
        "start_time": "2024-09-22T20:53:36.884Z"
      },
      {
        "duration": 16,
        "start_time": "2024-09-22T20:53:43.884Z"
      },
      {
        "duration": 17,
        "start_time": "2024-09-22T20:53:46.338Z"
      },
      {
        "duration": 2416,
        "start_time": "2024-09-22T20:53:57.203Z"
      },
      {
        "duration": 8,
        "start_time": "2024-09-22T20:53:59.621Z"
      },
      {
        "duration": 10,
        "start_time": "2024-09-22T20:53:59.631Z"
      },
      {
        "duration": 74,
        "start_time": "2024-09-22T20:53:59.642Z"
      },
      {
        "duration": 10,
        "start_time": "2024-09-22T20:53:59.718Z"
      },
      {
        "duration": 12,
        "start_time": "2024-09-22T20:53:59.730Z"
      },
      {
        "duration": 7,
        "start_time": "2024-09-22T20:53:59.743Z"
      },
      {
        "duration": 66,
        "start_time": "2024-09-22T20:53:59.752Z"
      },
      {
        "duration": 8,
        "start_time": "2024-09-22T20:53:59.820Z"
      },
      {
        "duration": 7,
        "start_time": "2024-09-22T20:53:59.830Z"
      },
      {
        "duration": 9,
        "start_time": "2024-09-22T20:53:59.838Z"
      },
      {
        "duration": 90,
        "start_time": "2024-09-22T20:53:59.849Z"
      },
      {
        "duration": 111,
        "start_time": "2024-09-22T20:53:59.941Z"
      },
      {
        "duration": 165,
        "start_time": "2024-09-22T20:54:00.054Z"
      },
      {
        "duration": 17,
        "start_time": "2024-09-22T20:54:00.220Z"
      },
      {
        "duration": 78,
        "start_time": "2024-09-22T20:54:00.238Z"
      },
      {
        "duration": 0,
        "start_time": "2024-09-22T20:54:00.319Z"
      },
      {
        "duration": 0,
        "start_time": "2024-09-22T20:54:00.320Z"
      },
      {
        "duration": 0,
        "start_time": "2024-09-22T20:54:00.321Z"
      },
      {
        "duration": 0,
        "start_time": "2024-09-22T20:54:00.323Z"
      },
      {
        "duration": 0,
        "start_time": "2024-09-22T20:54:00.324Z"
      },
      {
        "duration": 68,
        "start_time": "2024-09-22T20:54:49.019Z"
      },
      {
        "duration": 63,
        "start_time": "2024-09-22T20:54:54.045Z"
      },
      {
        "duration": 66,
        "start_time": "2024-09-22T20:55:01.663Z"
      },
      {
        "duration": 16,
        "start_time": "2024-09-22T20:55:17.112Z"
      },
      {
        "duration": 5601,
        "start_time": "2024-09-23T19:08:28.188Z"
      },
      {
        "duration": 1213,
        "start_time": "2024-09-23T19:08:33.791Z"
      },
      {
        "duration": 73,
        "start_time": "2024-09-23T19:08:35.005Z"
      },
      {
        "duration": 146,
        "start_time": "2024-09-23T19:08:35.080Z"
      },
      {
        "duration": 15,
        "start_time": "2024-09-23T19:08:35.227Z"
      },
      {
        "duration": 11,
        "start_time": "2024-09-23T19:08:35.244Z"
      },
      {
        "duration": 5,
        "start_time": "2024-09-23T19:08:35.257Z"
      },
      {
        "duration": 11,
        "start_time": "2024-09-23T19:08:35.263Z"
      },
      {
        "duration": 38,
        "start_time": "2024-09-23T19:08:35.275Z"
      },
      {
        "duration": 21,
        "start_time": "2024-09-23T19:08:35.315Z"
      },
      {
        "duration": 8,
        "start_time": "2024-09-23T19:08:35.338Z"
      },
      {
        "duration": 41,
        "start_time": "2024-09-23T19:08:35.347Z"
      },
      {
        "duration": 56,
        "start_time": "2024-09-23T19:08:35.390Z"
      },
      {
        "duration": 69,
        "start_time": "2024-09-23T19:08:35.449Z"
      },
      {
        "duration": 16,
        "start_time": "2024-09-23T19:08:35.520Z"
      },
      {
        "duration": 119,
        "start_time": "2024-09-23T19:08:35.537Z"
      },
      {
        "duration": 0,
        "start_time": "2024-09-23T19:08:35.658Z"
      },
      {
        "duration": 0,
        "start_time": "2024-09-23T19:08:35.659Z"
      },
      {
        "duration": 0,
        "start_time": "2024-09-23T19:08:35.661Z"
      },
      {
        "duration": 0,
        "start_time": "2024-09-23T19:08:35.662Z"
      },
      {
        "duration": 1,
        "start_time": "2024-09-23T19:08:35.663Z"
      },
      {
        "duration": 13,
        "start_time": "2024-09-23T19:13:44.016Z"
      },
      {
        "duration": 10,
        "start_time": "2024-09-23T19:13:46.452Z"
      },
      {
        "duration": 44,
        "start_time": "2024-09-23T19:14:36.132Z"
      },
      {
        "duration": 37,
        "start_time": "2024-09-23T19:14:38.654Z"
      },
      {
        "duration": 2513,
        "start_time": "2024-09-23T19:14:46.974Z"
      },
      {
        "duration": 11,
        "start_time": "2024-09-23T19:14:49.490Z"
      },
      {
        "duration": 30,
        "start_time": "2024-09-23T19:14:49.503Z"
      },
      {
        "duration": 40,
        "start_time": "2024-09-23T19:14:49.535Z"
      },
      {
        "duration": 11,
        "start_time": "2024-09-23T19:14:49.576Z"
      },
      {
        "duration": 30,
        "start_time": "2024-09-23T19:14:49.588Z"
      },
      {
        "duration": 17,
        "start_time": "2024-09-23T19:14:49.620Z"
      },
      {
        "duration": 8,
        "start_time": "2024-09-23T19:14:49.638Z"
      },
      {
        "duration": 11,
        "start_time": "2024-09-23T19:14:49.647Z"
      },
      {
        "duration": 8,
        "start_time": "2024-09-23T19:14:49.661Z"
      },
      {
        "duration": 20,
        "start_time": "2024-09-23T19:14:49.670Z"
      },
      {
        "duration": 49,
        "start_time": "2024-09-23T19:14:49.693Z"
      },
      {
        "duration": 84,
        "start_time": "2024-09-23T19:14:49.744Z"
      },
      {
        "duration": 71,
        "start_time": "2024-09-23T19:14:49.829Z"
      },
      {
        "duration": 18,
        "start_time": "2024-09-23T19:14:49.902Z"
      },
      {
        "duration": 20,
        "start_time": "2024-09-23T19:14:49.922Z"
      },
      {
        "duration": 0,
        "start_time": "2024-09-23T19:14:49.944Z"
      },
      {
        "duration": 0,
        "start_time": "2024-09-23T19:14:49.945Z"
      },
      {
        "duration": 0,
        "start_time": "2024-09-23T19:14:49.946Z"
      },
      {
        "duration": 0,
        "start_time": "2024-09-23T19:14:49.947Z"
      },
      {
        "duration": 0,
        "start_time": "2024-09-23T19:14:49.948Z"
      },
      {
        "duration": 0,
        "start_time": "2024-09-23T19:14:49.949Z"
      },
      {
        "duration": 8,
        "start_time": "2024-09-23T19:15:20.384Z"
      },
      {
        "duration": 12,
        "start_time": "2024-09-23T19:15:21.013Z"
      },
      {
        "duration": 42,
        "start_time": "2024-09-23T19:15:32.395Z"
      },
      {
        "duration": 37,
        "start_time": "2024-09-23T19:15:35.931Z"
      },
      {
        "duration": 2349,
        "start_time": "2024-09-23T19:16:22.002Z"
      },
      {
        "duration": 8,
        "start_time": "2024-09-23T19:16:24.354Z"
      },
      {
        "duration": 14,
        "start_time": "2024-09-23T19:16:24.364Z"
      },
      {
        "duration": 42,
        "start_time": "2024-09-23T19:16:24.380Z"
      },
      {
        "duration": 9,
        "start_time": "2024-09-23T19:16:24.424Z"
      },
      {
        "duration": 11,
        "start_time": "2024-09-23T19:16:24.435Z"
      },
      {
        "duration": 7,
        "start_time": "2024-09-23T19:16:24.447Z"
      },
      {
        "duration": 6,
        "start_time": "2024-09-23T19:16:24.455Z"
      },
      {
        "duration": 7,
        "start_time": "2024-09-23T19:16:24.463Z"
      },
      {
        "duration": 7,
        "start_time": "2024-09-23T19:16:24.472Z"
      },
      {
        "duration": 14,
        "start_time": "2024-09-23T19:16:24.480Z"
      },
      {
        "duration": 36,
        "start_time": "2024-09-23T19:16:24.495Z"
      },
      {
        "duration": 78,
        "start_time": "2024-09-23T19:16:24.532Z"
      },
      {
        "duration": 55,
        "start_time": "2024-09-23T19:16:24.613Z"
      },
      {
        "duration": 33,
        "start_time": "2024-09-23T19:16:24.669Z"
      },
      {
        "duration": 16,
        "start_time": "2024-09-23T19:16:24.703Z"
      },
      {
        "duration": 0,
        "start_time": "2024-09-23T19:16:24.720Z"
      },
      {
        "duration": 0,
        "start_time": "2024-09-23T19:16:24.721Z"
      },
      {
        "duration": 0,
        "start_time": "2024-09-23T19:16:24.723Z"
      },
      {
        "duration": 0,
        "start_time": "2024-09-23T19:16:24.723Z"
      },
      {
        "duration": 1,
        "start_time": "2024-09-23T19:16:24.724Z"
      },
      {
        "duration": 0,
        "start_time": "2024-09-23T19:16:24.725Z"
      },
      {
        "duration": 11,
        "start_time": "2024-09-23T19:16:49.281Z"
      },
      {
        "duration": 10,
        "start_time": "2024-09-23T19:16:50.380Z"
      },
      {
        "duration": 37,
        "start_time": "2024-09-23T19:16:56.365Z"
      },
      {
        "duration": 40,
        "start_time": "2024-09-23T19:17:09.930Z"
      },
      {
        "duration": 2381,
        "start_time": "2024-09-23T19:19:16.917Z"
      },
      {
        "duration": 8,
        "start_time": "2024-09-23T19:19:19.300Z"
      },
      {
        "duration": 9,
        "start_time": "2024-09-23T19:19:19.310Z"
      },
      {
        "duration": 38,
        "start_time": "2024-09-23T19:19:19.320Z"
      },
      {
        "duration": 10,
        "start_time": "2024-09-23T19:19:19.360Z"
      },
      {
        "duration": 12,
        "start_time": "2024-09-23T19:19:19.371Z"
      },
      {
        "duration": 6,
        "start_time": "2024-09-23T19:19:19.384Z"
      },
      {
        "duration": 6,
        "start_time": "2024-09-23T19:19:19.392Z"
      },
      {
        "duration": 11,
        "start_time": "2024-09-23T19:19:19.399Z"
      },
      {
        "duration": 9,
        "start_time": "2024-09-23T19:19:19.411Z"
      },
      {
        "duration": 35,
        "start_time": "2024-09-23T19:19:19.422Z"
      },
      {
        "duration": 286,
        "start_time": "2024-09-23T19:19:19.458Z"
      },
      {
        "duration": 57,
        "start_time": "2024-09-23T19:19:19.746Z"
      },
      {
        "duration": 54,
        "start_time": "2024-09-23T19:19:19.805Z"
      },
      {
        "duration": 35,
        "start_time": "2024-09-23T19:19:19.861Z"
      },
      {
        "duration": 16,
        "start_time": "2024-09-23T19:19:19.897Z"
      },
      {
        "duration": 0,
        "start_time": "2024-09-23T19:19:19.914Z"
      },
      {
        "duration": 0,
        "start_time": "2024-09-23T19:19:19.915Z"
      },
      {
        "duration": 0,
        "start_time": "2024-09-23T19:19:19.916Z"
      },
      {
        "duration": 0,
        "start_time": "2024-09-23T19:19:19.917Z"
      },
      {
        "duration": 0,
        "start_time": "2024-09-23T19:19:19.918Z"
      },
      {
        "duration": 0,
        "start_time": "2024-09-23T19:19:19.919Z"
      },
      {
        "duration": 8,
        "start_time": "2024-09-23T19:20:22.356Z"
      },
      {
        "duration": 19,
        "start_time": "2024-09-23T19:20:31.545Z"
      },
      {
        "duration": 261,
        "start_time": "2024-09-23T19:20:49.611Z"
      },
      {
        "duration": 38,
        "start_time": "2024-09-23T19:21:12.044Z"
      },
      {
        "duration": 14,
        "start_time": "2024-09-23T19:21:42.800Z"
      },
      {
        "duration": 14,
        "start_time": "2024-09-23T19:21:55.635Z"
      },
      {
        "duration": 267,
        "start_time": "2024-09-23T19:29:48.516Z"
      },
      {
        "duration": 253,
        "start_time": "2024-09-23T19:29:50.937Z"
      },
      {
        "duration": 267,
        "start_time": "2024-09-23T19:29:56.886Z"
      },
      {
        "duration": 259,
        "start_time": "2024-09-23T19:30:00.694Z"
      },
      {
        "duration": 259,
        "start_time": "2024-09-23T19:30:08.693Z"
      },
      {
        "duration": 86,
        "start_time": "2024-09-23T19:35:59.903Z"
      },
      {
        "duration": 90,
        "start_time": "2024-09-23T19:36:02.443Z"
      },
      {
        "duration": 54,
        "start_time": "2024-09-23T19:36:07.936Z"
      },
      {
        "duration": 58,
        "start_time": "2024-09-23T19:42:03.058Z"
      },
      {
        "duration": 63,
        "start_time": "2024-09-23T19:42:07.167Z"
      },
      {
        "duration": 115,
        "start_time": "2024-09-23T19:42:50.775Z"
      },
      {
        "duration": 61,
        "start_time": "2024-09-23T19:43:01.034Z"
      },
      {
        "duration": 102,
        "start_time": "2024-09-23T19:46:01.242Z"
      },
      {
        "duration": 19,
        "start_time": "2024-09-23T19:46:14.078Z"
      },
      {
        "duration": 17,
        "start_time": "2024-09-23T19:46:17.594Z"
      },
      {
        "duration": 22,
        "start_time": "2024-09-23T19:59:15.799Z"
      },
      {
        "duration": 18,
        "start_time": "2024-09-23T19:59:46.923Z"
      },
      {
        "duration": 23,
        "start_time": "2024-09-23T19:59:51.901Z"
      },
      {
        "duration": 26,
        "start_time": "2024-09-23T19:59:53.776Z"
      },
      {
        "duration": 104,
        "start_time": "2024-09-23T20:00:43.997Z"
      },
      {
        "duration": 7,
        "start_time": "2024-09-23T20:02:29.566Z"
      },
      {
        "duration": 16,
        "start_time": "2024-09-23T20:02:33.784Z"
      },
      {
        "duration": 7,
        "start_time": "2024-09-23T20:02:35.184Z"
      },
      {
        "duration": 23,
        "start_time": "2024-09-23T20:03:39.173Z"
      },
      {
        "duration": 17,
        "start_time": "2024-09-23T20:03:58.226Z"
      },
      {
        "duration": 17,
        "start_time": "2024-09-23T20:04:12.528Z"
      },
      {
        "duration": 8,
        "start_time": "2024-09-23T20:05:54.408Z"
      },
      {
        "duration": 11,
        "start_time": "2024-09-23T20:08:59.273Z"
      },
      {
        "duration": 10,
        "start_time": "2024-09-23T20:09:01.738Z"
      },
      {
        "duration": 17,
        "start_time": "2024-09-23T20:10:03.083Z"
      },
      {
        "duration": 15,
        "start_time": "2024-09-23T20:10:05.727Z"
      },
      {
        "duration": 16,
        "start_time": "2024-09-23T20:10:18.577Z"
      },
      {
        "duration": 17,
        "start_time": "2024-09-23T20:22:35.751Z"
      },
      {
        "duration": 53,
        "start_time": "2024-09-23T20:22:37.732Z"
      },
      {
        "duration": 54,
        "start_time": "2024-09-23T20:22:51.810Z"
      },
      {
        "duration": 55,
        "start_time": "2024-09-23T20:22:53.652Z"
      },
      {
        "duration": 52,
        "start_time": "2024-09-23T20:23:10.555Z"
      },
      {
        "duration": 253,
        "start_time": "2024-09-23T20:23:35.314Z"
      },
      {
        "duration": 16,
        "start_time": "2024-09-23T20:25:06.228Z"
      },
      {
        "duration": 16,
        "start_time": "2024-09-23T20:25:08.710Z"
      },
      {
        "duration": 68,
        "start_time": "2024-09-23T20:25:39.319Z"
      },
      {
        "duration": 57,
        "start_time": "2024-09-23T20:25:47.534Z"
      },
      {
        "duration": 62,
        "start_time": "2024-09-23T20:25:58.466Z"
      },
      {
        "duration": 52,
        "start_time": "2024-09-23T20:26:03.742Z"
      },
      {
        "duration": 50,
        "start_time": "2024-09-23T20:26:06.206Z"
      },
      {
        "duration": 409,
        "start_time": "2024-09-23T20:26:17.957Z"
      },
      {
        "duration": 396,
        "start_time": "2024-09-23T20:26:29.155Z"
      },
      {
        "duration": 405,
        "start_time": "2024-09-23T20:27:18.206Z"
      },
      {
        "duration": 2370,
        "start_time": "2024-09-23T20:27:31.683Z"
      },
      {
        "duration": 7,
        "start_time": "2024-09-23T20:27:34.055Z"
      },
      {
        "duration": 15,
        "start_time": "2024-09-23T20:27:34.064Z"
      },
      {
        "duration": 54,
        "start_time": "2024-09-23T20:27:34.081Z"
      },
      {
        "duration": 10,
        "start_time": "2024-09-23T20:27:34.137Z"
      },
      {
        "duration": 12,
        "start_time": "2024-09-23T20:27:34.149Z"
      },
      {
        "duration": 6,
        "start_time": "2024-09-23T20:27:34.163Z"
      },
      {
        "duration": 19,
        "start_time": "2024-09-23T20:27:34.170Z"
      },
      {
        "duration": 21,
        "start_time": "2024-09-23T20:27:34.190Z"
      },
      {
        "duration": 10,
        "start_time": "2024-09-23T20:27:34.213Z"
      },
      {
        "duration": 42,
        "start_time": "2024-09-23T20:27:34.224Z"
      },
      {
        "duration": 67,
        "start_time": "2024-09-23T20:27:34.268Z"
      },
      {
        "duration": 124,
        "start_time": "2024-09-23T20:27:34.337Z"
      },
      {
        "duration": 31,
        "start_time": "2024-09-23T20:27:34.463Z"
      },
      {
        "duration": 419,
        "start_time": "2024-09-23T20:27:34.495Z"
      },
      {
        "duration": 259,
        "start_time": "2024-09-23T20:27:34.916Z"
      },
      {
        "duration": 31,
        "start_time": "2024-09-23T20:27:35.176Z"
      },
      {
        "duration": 12,
        "start_time": "2024-09-23T20:27:35.209Z"
      },
      {
        "duration": 17,
        "start_time": "2024-09-23T20:27:35.223Z"
      },
      {
        "duration": 3029,
        "start_time": "2024-09-23T20:30:08.381Z"
      },
      {
        "duration": 8,
        "start_time": "2024-09-23T20:30:11.412Z"
      },
      {
        "duration": 9,
        "start_time": "2024-09-23T20:30:11.422Z"
      },
      {
        "duration": 42,
        "start_time": "2024-09-23T20:30:11.432Z"
      },
      {
        "duration": 17,
        "start_time": "2024-09-23T20:30:11.477Z"
      },
      {
        "duration": 13,
        "start_time": "2024-09-23T20:30:11.496Z"
      },
      {
        "duration": 7,
        "start_time": "2024-09-23T20:30:11.510Z"
      },
      {
        "duration": 7,
        "start_time": "2024-09-23T20:30:11.518Z"
      },
      {
        "duration": 11,
        "start_time": "2024-09-23T20:30:11.526Z"
      },
      {
        "duration": 10,
        "start_time": "2024-09-23T20:30:11.539Z"
      },
      {
        "duration": 75,
        "start_time": "2024-09-23T20:30:11.550Z"
      },
      {
        "duration": 70,
        "start_time": "2024-09-23T20:30:11.627Z"
      },
      {
        "duration": 123,
        "start_time": "2024-09-23T20:30:11.698Z"
      },
      {
        "duration": 17,
        "start_time": "2024-09-23T20:30:11.825Z"
      },
      {
        "duration": 422,
        "start_time": "2024-09-23T20:30:11.843Z"
      },
      {
        "duration": 264,
        "start_time": "2024-09-23T20:30:12.267Z"
      },
      {
        "duration": 28,
        "start_time": "2024-09-23T20:30:12.532Z"
      },
      {
        "duration": 9,
        "start_time": "2024-09-23T20:30:12.562Z"
      },
      {
        "duration": 34,
        "start_time": "2024-09-23T20:30:12.572Z"
      },
      {
        "duration": 5,
        "start_time": "2024-09-23T20:31:46.344Z"
      },
      {
        "duration": 5,
        "start_time": "2024-09-23T20:31:49.292Z"
      },
      {
        "duration": 5,
        "start_time": "2024-09-23T20:31:52.706Z"
      },
      {
        "duration": 7,
        "start_time": "2024-09-23T20:32:00.478Z"
      },
      {
        "duration": 6,
        "start_time": "2024-09-23T20:32:09.871Z"
      },
      {
        "duration": 7,
        "start_time": "2024-09-23T20:34:51.502Z"
      },
      {
        "duration": 7,
        "start_time": "2024-09-23T20:34:54.172Z"
      },
      {
        "duration": 2332,
        "start_time": "2024-09-24T06:06:25.580Z"
      },
      {
        "duration": 8,
        "start_time": "2024-09-24T06:06:27.914Z"
      },
      {
        "duration": 7,
        "start_time": "2024-09-24T06:06:27.924Z"
      },
      {
        "duration": 41,
        "start_time": "2024-09-24T06:06:27.932Z"
      },
      {
        "duration": 10,
        "start_time": "2024-09-24T06:06:27.975Z"
      },
      {
        "duration": 17,
        "start_time": "2024-09-24T06:06:27.986Z"
      },
      {
        "duration": 6,
        "start_time": "2024-09-24T06:06:28.005Z"
      },
      {
        "duration": 6,
        "start_time": "2024-09-24T06:06:28.013Z"
      },
      {
        "duration": 10,
        "start_time": "2024-09-24T06:06:28.020Z"
      },
      {
        "duration": 11,
        "start_time": "2024-09-24T06:06:28.032Z"
      },
      {
        "duration": 9,
        "start_time": "2024-09-24T06:06:28.045Z"
      },
      {
        "duration": 58,
        "start_time": "2024-09-24T06:06:28.056Z"
      },
      {
        "duration": 56,
        "start_time": "2024-09-24T06:06:28.115Z"
      },
      {
        "duration": 123,
        "start_time": "2024-09-24T06:06:28.189Z"
      },
      {
        "duration": 17,
        "start_time": "2024-09-24T06:06:28.313Z"
      },
      {
        "duration": 416,
        "start_time": "2024-09-24T06:06:28.332Z"
      },
      {
        "duration": 253,
        "start_time": "2024-09-24T06:06:28.750Z"
      },
      {
        "duration": 29,
        "start_time": "2024-09-24T06:06:29.004Z"
      },
      {
        "duration": 9,
        "start_time": "2024-09-24T06:06:29.034Z"
      },
      {
        "duration": 18,
        "start_time": "2024-09-24T06:06:29.044Z"
      },
      {
        "duration": 37,
        "start_time": "2024-09-24T06:07:28.258Z"
      },
      {
        "duration": 111,
        "start_time": "2024-09-24T06:14:48.098Z"
      },
      {
        "duration": 4,
        "start_time": "2024-09-24T06:16:08.547Z"
      },
      {
        "duration": 5,
        "start_time": "2024-09-24T06:16:47.763Z"
      },
      {
        "duration": 35,
        "start_time": "2024-09-24T06:17:03.874Z"
      },
      {
        "duration": 35,
        "start_time": "2024-09-24T06:17:06.722Z"
      },
      {
        "duration": 92,
        "start_time": "2024-09-24T06:19:30.031Z"
      },
      {
        "duration": 95,
        "start_time": "2024-09-24T06:19:32.122Z"
      },
      {
        "duration": 94,
        "start_time": "2024-09-24T06:19:42.363Z"
      },
      {
        "duration": 93,
        "start_time": "2024-09-24T06:19:46.077Z"
      },
      {
        "duration": 54,
        "start_time": "2024-09-24T06:19:58.663Z"
      },
      {
        "duration": 56,
        "start_time": "2024-09-24T06:21:18.018Z"
      },
      {
        "duration": 53,
        "start_time": "2024-09-24T06:21:28.482Z"
      },
      {
        "duration": 54,
        "start_time": "2024-09-24T06:21:36.946Z"
      },
      {
        "duration": 55,
        "start_time": "2024-09-24T06:21:55.178Z"
      },
      {
        "duration": 105,
        "start_time": "2024-09-24T06:23:01.927Z"
      },
      {
        "duration": 104,
        "start_time": "2024-09-24T06:23:08.999Z"
      },
      {
        "duration": 110,
        "start_time": "2024-09-24T06:23:20.311Z"
      },
      {
        "duration": 55,
        "start_time": "2024-09-24T06:24:22.827Z"
      },
      {
        "duration": 55,
        "start_time": "2024-09-24T06:24:37.636Z"
      },
      {
        "duration": 105,
        "start_time": "2024-09-24T06:25:29.819Z"
      },
      {
        "duration": 38,
        "start_time": "2024-09-24T06:31:54.875Z"
      },
      {
        "duration": 364,
        "start_time": "2024-09-24T06:32:54.414Z"
      },
      {
        "duration": 367,
        "start_time": "2024-09-24T06:32:56.915Z"
      },
      {
        "duration": 2372,
        "start_time": "2024-09-24T06:33:17.078Z"
      },
      {
        "duration": 8,
        "start_time": "2024-09-24T06:33:19.452Z"
      },
      {
        "duration": 29,
        "start_time": "2024-09-24T06:33:19.461Z"
      },
      {
        "duration": 37,
        "start_time": "2024-09-24T06:33:19.492Z"
      },
      {
        "duration": 8,
        "start_time": "2024-09-24T06:33:19.531Z"
      },
      {
        "duration": 26,
        "start_time": "2024-09-24T06:33:19.541Z"
      },
      {
        "duration": 20,
        "start_time": "2024-09-24T06:33:19.569Z"
      },
      {
        "duration": 8,
        "start_time": "2024-09-24T06:33:19.590Z"
      },
      {
        "duration": 6,
        "start_time": "2024-09-24T06:33:19.600Z"
      },
      {
        "duration": 12,
        "start_time": "2024-09-24T06:33:19.608Z"
      },
      {
        "duration": 16,
        "start_time": "2024-09-24T06:33:19.621Z"
      },
      {
        "duration": 81,
        "start_time": "2024-09-24T06:33:19.638Z"
      },
      {
        "duration": 109,
        "start_time": "2024-09-24T06:33:19.721Z"
      },
      {
        "duration": 64,
        "start_time": "2024-09-24T06:33:19.831Z"
      },
      {
        "duration": 0,
        "start_time": "2024-09-24T06:33:19.897Z"
      },
      {
        "duration": 0,
        "start_time": "2024-09-24T06:33:19.898Z"
      },
      {
        "duration": 0,
        "start_time": "2024-09-24T06:33:19.899Z"
      },
      {
        "duration": 0,
        "start_time": "2024-09-24T06:33:19.901Z"
      },
      {
        "duration": 0,
        "start_time": "2024-09-24T06:33:19.902Z"
      },
      {
        "duration": 0,
        "start_time": "2024-09-24T06:33:19.903Z"
      },
      {
        "duration": 59,
        "start_time": "2024-09-24T06:34:08.516Z"
      },
      {
        "duration": 111,
        "start_time": "2024-09-24T06:34:21.923Z"
      },
      {
        "duration": 16,
        "start_time": "2024-09-24T06:34:45.571Z"
      },
      {
        "duration": 380,
        "start_time": "2024-09-24T06:34:50.119Z"
      },
      {
        "duration": 245,
        "start_time": "2024-09-24T06:35:50.611Z"
      },
      {
        "duration": 829,
        "start_time": "2024-09-24T06:37:04.290Z"
      },
      {
        "duration": 1783,
        "start_time": "2024-09-24T06:37:18.615Z"
      },
      {
        "duration": 1771,
        "start_time": "2024-09-24T06:37:21.851Z"
      },
      {
        "duration": 4766,
        "start_time": "2024-09-24T06:37:30.107Z"
      },
      {
        "duration": 4901,
        "start_time": "2024-09-24T06:39:16.236Z"
      },
      {
        "duration": 4746,
        "start_time": "2024-09-24T06:39:28.150Z"
      },
      {
        "duration": 21,
        "start_time": "2024-09-24T06:42:47.088Z"
      },
      {
        "duration": 19,
        "start_time": "2024-09-24T06:42:55.767Z"
      },
      {
        "duration": 19,
        "start_time": "2024-09-24T06:43:26.087Z"
      },
      {
        "duration": 20,
        "start_time": "2024-09-24T06:43:27.888Z"
      },
      {
        "duration": 4848,
        "start_time": "2024-09-24T06:44:19.588Z"
      },
      {
        "duration": 4838,
        "start_time": "2024-09-24T06:44:31.866Z"
      },
      {
        "duration": 106,
        "start_time": "2024-09-24T06:47:32.253Z"
      },
      {
        "duration": 4546,
        "start_time": "2024-09-24T06:48:46.724Z"
      },
      {
        "duration": 107,
        "start_time": "2024-09-24T06:48:56.321Z"
      },
      {
        "duration": 4667,
        "start_time": "2024-09-24T06:49:56.323Z"
      },
      {
        "duration": 4550,
        "start_time": "2024-09-24T06:50:05.354Z"
      },
      {
        "duration": 107,
        "start_time": "2024-09-24T06:52:43.890Z"
      },
      {
        "duration": 100,
        "start_time": "2024-09-24T06:52:46.553Z"
      },
      {
        "duration": 4558,
        "start_time": "2024-09-24T07:02:57.143Z"
      },
      {
        "duration": 4,
        "start_time": "2024-09-24T07:06:20.116Z"
      },
      {
        "duration": 137,
        "start_time": "2024-09-24T07:06:49.530Z"
      },
      {
        "duration": 144,
        "start_time": "2024-09-24T07:06:51.679Z"
      },
      {
        "duration": 140,
        "start_time": "2024-09-24T07:09:09.782Z"
      },
      {
        "duration": 140,
        "start_time": "2024-09-24T07:09:16.250Z"
      },
      {
        "duration": 104,
        "start_time": "2024-09-24T07:10:27.880Z"
      },
      {
        "duration": 138,
        "start_time": "2024-09-24T07:10:38.727Z"
      },
      {
        "duration": 130,
        "start_time": "2024-09-24T07:10:41.195Z"
      },
      {
        "duration": 135,
        "start_time": "2024-09-24T07:10:58.439Z"
      },
      {
        "duration": 12,
        "start_time": "2024-09-24T07:11:19.258Z"
      },
      {
        "duration": 7,
        "start_time": "2024-09-24T07:12:57.052Z"
      },
      {
        "duration": 7,
        "start_time": "2024-09-24T07:12:59.442Z"
      },
      {
        "duration": 8,
        "start_time": "2024-09-24T07:13:07.879Z"
      },
      {
        "duration": 134,
        "start_time": "2024-09-24T07:43:19.170Z"
      },
      {
        "duration": 133,
        "start_time": "2024-09-24T07:43:49.619Z"
      },
      {
        "duration": 4563,
        "start_time": "2024-09-24T07:43:51.549Z"
      },
      {
        "duration": 142,
        "start_time": "2024-09-24T07:44:28.454Z"
      },
      {
        "duration": 140,
        "start_time": "2024-09-24T07:44:48.198Z"
      },
      {
        "duration": 4566,
        "start_time": "2024-09-24T07:44:57.073Z"
      },
      {
        "duration": 144,
        "start_time": "2024-09-24T07:46:14.423Z"
      },
      {
        "duration": 142,
        "start_time": "2024-09-24T07:46:16.825Z"
      },
      {
        "duration": 4817,
        "start_time": "2024-09-24T08:08:57.702Z"
      },
      {
        "duration": 2550,
        "start_time": "2024-09-24T09:16:51.180Z"
      },
      {
        "duration": 9,
        "start_time": "2024-09-24T09:16:53.732Z"
      },
      {
        "duration": 10,
        "start_time": "2024-09-24T09:16:53.742Z"
      },
      {
        "duration": 39,
        "start_time": "2024-09-24T09:16:55.529Z"
      },
      {
        "duration": 2613,
        "start_time": "2024-09-24T09:17:42.559Z"
      },
      {
        "duration": 8,
        "start_time": "2024-09-24T09:17:45.175Z"
      },
      {
        "duration": 21,
        "start_time": "2024-09-24T09:17:45.185Z"
      },
      {
        "duration": 48,
        "start_time": "2024-09-24T09:17:45.207Z"
      },
      {
        "duration": 10,
        "start_time": "2024-09-24T09:17:45.257Z"
      },
      {
        "duration": 32,
        "start_time": "2024-09-24T09:17:45.269Z"
      },
      {
        "duration": 7,
        "start_time": "2024-09-24T09:17:45.302Z"
      },
      {
        "duration": 27,
        "start_time": "2024-09-24T09:17:45.311Z"
      },
      {
        "duration": 7,
        "start_time": "2024-09-24T09:17:45.340Z"
      },
      {
        "duration": 11,
        "start_time": "2024-09-24T09:17:45.349Z"
      },
      {
        "duration": 11,
        "start_time": "2024-09-24T09:17:45.362Z"
      },
      {
        "duration": 63,
        "start_time": "2024-09-24T09:17:45.374Z"
      },
      {
        "duration": 65,
        "start_time": "2024-09-24T09:17:45.438Z"
      },
      {
        "duration": 116,
        "start_time": "2024-09-24T09:17:45.506Z"
      },
      {
        "duration": 16,
        "start_time": "2024-09-24T09:17:45.623Z"
      },
      {
        "duration": 409,
        "start_time": "2024-09-24T09:17:45.641Z"
      },
      {
        "duration": 4802,
        "start_time": "2024-09-24T09:17:46.051Z"
      },
      {
        "duration": 158,
        "start_time": "2024-09-24T09:17:50.854Z"
      },
      {
        "duration": 156,
        "start_time": "2024-09-24T09:34:54.988Z"
      },
      {
        "duration": 83,
        "start_time": "2024-09-24T09:35:15.803Z"
      },
      {
        "duration": 193,
        "start_time": "2024-09-24T09:35:27.033Z"
      },
      {
        "duration": 141,
        "start_time": "2024-09-24T09:35:39.966Z"
      },
      {
        "duration": 141,
        "start_time": "2024-09-24T09:37:56.060Z"
      },
      {
        "duration": 135,
        "start_time": "2024-09-24T09:38:22.729Z"
      },
      {
        "duration": 134,
        "start_time": "2024-09-24T09:38:36.705Z"
      },
      {
        "duration": 148,
        "start_time": "2024-09-24T09:40:19.253Z"
      },
      {
        "duration": 425,
        "start_time": "2024-09-24T09:49:41.718Z"
      },
      {
        "duration": 113,
        "start_time": "2024-09-24T09:51:07.843Z"
      },
      {
        "duration": 16,
        "start_time": "2024-09-24T09:52:51.079Z"
      },
      {
        "duration": 380,
        "start_time": "2024-09-24T09:55:10.494Z"
      },
      {
        "duration": 3346,
        "start_time": "2024-09-24T09:55:21.306Z"
      },
      {
        "duration": 9,
        "start_time": "2024-09-24T09:55:24.653Z"
      },
      {
        "duration": 6,
        "start_time": "2024-09-24T09:55:24.664Z"
      },
      {
        "duration": 39,
        "start_time": "2024-09-24T09:55:24.672Z"
      },
      {
        "duration": 9,
        "start_time": "2024-09-24T09:55:24.713Z"
      },
      {
        "duration": 18,
        "start_time": "2024-09-24T09:55:24.723Z"
      },
      {
        "duration": 6,
        "start_time": "2024-09-24T09:55:24.743Z"
      },
      {
        "duration": 6,
        "start_time": "2024-09-24T09:55:24.750Z"
      },
      {
        "duration": 7,
        "start_time": "2024-09-24T09:55:24.758Z"
      },
      {
        "duration": 11,
        "start_time": "2024-09-24T09:55:24.766Z"
      },
      {
        "duration": 14,
        "start_time": "2024-09-24T09:55:24.778Z"
      },
      {
        "duration": 64,
        "start_time": "2024-09-24T09:55:24.793Z"
      },
      {
        "duration": 133,
        "start_time": "2024-09-24T09:55:24.858Z"
      },
      {
        "duration": 127,
        "start_time": "2024-09-24T09:55:24.993Z"
      },
      {
        "duration": 17,
        "start_time": "2024-09-24T09:55:25.122Z"
      },
      {
        "duration": 389,
        "start_time": "2024-09-24T09:55:25.141Z"
      },
      {
        "duration": 4582,
        "start_time": "2024-09-24T09:55:25.531Z"
      },
      {
        "duration": 162,
        "start_time": "2024-09-24T09:55:30.115Z"
      },
      {
        "duration": 4635,
        "start_time": "2024-09-24T09:56:06.563Z"
      },
      {
        "duration": 4593,
        "start_time": "2024-09-24T09:56:11.474Z"
      },
      {
        "duration": 9,
        "start_time": "2024-09-24T10:03:59.211Z"
      },
      {
        "duration": 23,
        "start_time": "2024-09-24T10:10:28.038Z"
      },
      {
        "duration": 12,
        "start_time": "2024-09-24T10:10:48.321Z"
      },
      {
        "duration": 23,
        "start_time": "2024-09-24T10:11:12.882Z"
      },
      {
        "duration": 2594,
        "start_time": "2024-09-24T10:21:59.035Z"
      },
      {
        "duration": 9,
        "start_time": "2024-09-24T10:22:01.631Z"
      },
      {
        "duration": 8,
        "start_time": "2024-09-24T10:22:01.642Z"
      },
      {
        "duration": 67,
        "start_time": "2024-09-24T10:22:01.651Z"
      },
      {
        "duration": 9,
        "start_time": "2024-09-24T10:22:01.720Z"
      },
      {
        "duration": 20,
        "start_time": "2024-09-24T10:22:01.731Z"
      },
      {
        "duration": 25,
        "start_time": "2024-09-24T10:22:01.752Z"
      },
      {
        "duration": 27,
        "start_time": "2024-09-24T10:22:01.779Z"
      },
      {
        "duration": 23,
        "start_time": "2024-09-24T10:22:01.807Z"
      },
      {
        "duration": 17,
        "start_time": "2024-09-24T10:22:01.831Z"
      },
      {
        "duration": 11,
        "start_time": "2024-09-24T10:22:01.850Z"
      },
      {
        "duration": 71,
        "start_time": "2024-09-24T10:22:01.862Z"
      },
      {
        "duration": 142,
        "start_time": "2024-09-24T10:22:01.934Z"
      },
      {
        "duration": 142,
        "start_time": "2024-09-24T10:22:02.078Z"
      },
      {
        "duration": 16,
        "start_time": "2024-09-24T10:22:02.222Z"
      },
      {
        "duration": 504,
        "start_time": "2024-09-24T10:22:02.239Z"
      },
      {
        "duration": 4786,
        "start_time": "2024-09-24T10:22:02.744Z"
      },
      {
        "duration": 154,
        "start_time": "2024-09-24T10:22:07.531Z"
      },
      {
        "duration": 16,
        "start_time": "2024-09-24T10:22:07.689Z"
      },
      {
        "duration": 2570,
        "start_time": "2024-09-24T10:23:42.346Z"
      },
      {
        "duration": 10,
        "start_time": "2024-09-24T10:23:44.919Z"
      },
      {
        "duration": 30,
        "start_time": "2024-09-24T10:23:44.931Z"
      },
      {
        "duration": 45,
        "start_time": "2024-09-24T10:23:44.963Z"
      },
      {
        "duration": 10,
        "start_time": "2024-09-24T10:23:45.010Z"
      },
      {
        "duration": 22,
        "start_time": "2024-09-24T10:23:45.022Z"
      },
      {
        "duration": 52,
        "start_time": "2024-09-24T10:23:45.045Z"
      },
      {
        "duration": 40,
        "start_time": "2024-09-24T10:23:45.098Z"
      },
      {
        "duration": 10,
        "start_time": "2024-09-24T10:23:45.140Z"
      },
      {
        "duration": 40,
        "start_time": "2024-09-24T10:23:45.153Z"
      },
      {
        "duration": 13,
        "start_time": "2024-09-24T10:23:45.202Z"
      },
      {
        "duration": 54,
        "start_time": "2024-09-24T10:23:45.216Z"
      },
      {
        "duration": 156,
        "start_time": "2024-09-24T10:23:45.272Z"
      },
      {
        "duration": 123,
        "start_time": "2024-09-24T10:23:45.430Z"
      },
      {
        "duration": 16,
        "start_time": "2024-09-24T10:23:45.555Z"
      },
      {
        "duration": 429,
        "start_time": "2024-09-24T10:23:45.572Z"
      },
      {
        "duration": 5617,
        "start_time": "2024-09-24T10:23:46.003Z"
      },
      {
        "duration": 160,
        "start_time": "2024-09-24T10:23:51.622Z"
      },
      {
        "duration": 20,
        "start_time": "2024-09-24T10:23:51.783Z"
      },
      {
        "duration": 2572,
        "start_time": "2024-09-24T10:31:22.047Z"
      },
      {
        "duration": 9,
        "start_time": "2024-09-24T10:31:24.621Z"
      },
      {
        "duration": 10,
        "start_time": "2024-09-24T10:31:24.632Z"
      },
      {
        "duration": 38,
        "start_time": "2024-09-24T10:31:24.643Z"
      },
      {
        "duration": 10,
        "start_time": "2024-09-24T10:31:24.683Z"
      },
      {
        "duration": 11,
        "start_time": "2024-09-24T10:31:24.695Z"
      },
      {
        "duration": 6,
        "start_time": "2024-09-24T10:31:24.708Z"
      },
      {
        "duration": 6,
        "start_time": "2024-09-24T10:31:24.716Z"
      },
      {
        "duration": 6,
        "start_time": "2024-09-24T10:31:24.724Z"
      },
      {
        "duration": 24,
        "start_time": "2024-09-24T10:31:24.731Z"
      },
      {
        "duration": 10,
        "start_time": "2024-09-24T10:31:24.757Z"
      },
      {
        "duration": 54,
        "start_time": "2024-09-24T10:31:24.769Z"
      },
      {
        "duration": 151,
        "start_time": "2024-09-24T10:31:24.824Z"
      },
      {
        "duration": 126,
        "start_time": "2024-09-24T10:31:24.989Z"
      },
      {
        "duration": 18,
        "start_time": "2024-09-24T10:31:25.116Z"
      },
      {
        "duration": 401,
        "start_time": "2024-09-24T10:31:25.136Z"
      },
      {
        "duration": 4798,
        "start_time": "2024-09-24T10:31:25.538Z"
      },
      {
        "duration": 160,
        "start_time": "2024-09-24T10:31:30.337Z"
      },
      {
        "duration": 15,
        "start_time": "2024-09-24T10:31:30.499Z"
      },
      {
        "duration": 16,
        "start_time": "2024-09-24T10:31:43.205Z"
      },
      {
        "duration": 9668,
        "start_time": "2024-09-24T21:39:19.586Z"
      },
      {
        "duration": 2615,
        "start_time": "2024-09-24T21:39:29.256Z"
      },
      {
        "duration": 91,
        "start_time": "2024-09-24T21:39:31.872Z"
      },
      {
        "duration": 80,
        "start_time": "2024-09-24T21:39:31.966Z"
      },
      {
        "duration": 25,
        "start_time": "2024-09-24T21:39:32.049Z"
      },
      {
        "duration": 79,
        "start_time": "2024-09-24T21:39:32.076Z"
      },
      {
        "duration": 20,
        "start_time": "2024-09-24T21:39:32.157Z"
      },
      {
        "duration": 7,
        "start_time": "2024-09-24T21:39:32.179Z"
      },
      {
        "duration": 62,
        "start_time": "2024-09-24T21:39:32.188Z"
      },
      {
        "duration": 16,
        "start_time": "2024-09-24T21:39:32.253Z"
      },
      {
        "duration": 78,
        "start_time": "2024-09-24T21:39:32.271Z"
      },
      {
        "duration": 100,
        "start_time": "2024-09-24T21:39:32.351Z"
      },
      {
        "duration": 330,
        "start_time": "2024-09-24T21:39:32.453Z"
      },
      {
        "duration": 288,
        "start_time": "2024-09-24T21:39:32.786Z"
      },
      {
        "duration": 77,
        "start_time": "2024-09-24T21:39:33.076Z"
      },
      {
        "duration": 922,
        "start_time": "2024-09-24T21:39:33.154Z"
      },
      {
        "duration": 11198,
        "start_time": "2024-09-24T21:39:34.078Z"
      },
      {
        "duration": 387,
        "start_time": "2024-09-24T21:39:45.278Z"
      },
      {
        "duration": 81,
        "start_time": "2024-09-24T21:39:45.668Z"
      },
      {
        "duration": 6238,
        "start_time": "2024-09-25T20:21:59.689Z"
      },
      {
        "duration": 1882,
        "start_time": "2024-09-25T20:22:05.930Z"
      },
      {
        "duration": 93,
        "start_time": "2024-09-25T20:22:07.814Z"
      },
      {
        "duration": 150,
        "start_time": "2024-09-25T20:22:07.910Z"
      },
      {
        "duration": 18,
        "start_time": "2024-09-25T20:22:08.062Z"
      },
      {
        "duration": 40,
        "start_time": "2024-09-25T20:22:08.082Z"
      },
      {
        "duration": 7,
        "start_time": "2024-09-25T20:22:08.123Z"
      },
      {
        "duration": 7,
        "start_time": "2024-09-25T20:22:08.132Z"
      },
      {
        "duration": 7,
        "start_time": "2024-09-25T20:22:08.140Z"
      },
      {
        "duration": 13,
        "start_time": "2024-09-25T20:22:08.149Z"
      },
      {
        "duration": 11,
        "start_time": "2024-09-25T20:22:08.163Z"
      },
      {
        "duration": 71,
        "start_time": "2024-09-25T20:22:08.176Z"
      },
      {
        "duration": 177,
        "start_time": "2024-09-25T20:22:08.248Z"
      },
      {
        "duration": 564,
        "start_time": "2024-09-25T20:22:08.428Z"
      },
      {
        "duration": 0,
        "start_time": "2024-09-25T20:22:08.993Z"
      },
      {
        "duration": 1,
        "start_time": "2024-09-25T20:22:08.997Z"
      },
      {
        "duration": 0,
        "start_time": "2024-09-25T20:22:08.998Z"
      },
      {
        "duration": 0,
        "start_time": "2024-09-25T20:22:08.999Z"
      },
      {
        "duration": 0,
        "start_time": "2024-09-25T20:22:09.000Z"
      },
      {
        "duration": 0,
        "start_time": "2024-09-25T20:22:09.001Z"
      },
      {
        "duration": 2687,
        "start_time": "2024-09-25T20:22:17.230Z"
      },
      {
        "duration": 9,
        "start_time": "2024-09-25T20:22:19.919Z"
      },
      {
        "duration": 19,
        "start_time": "2024-09-25T20:22:19.930Z"
      },
      {
        "duration": 41,
        "start_time": "2024-09-25T20:22:19.950Z"
      },
      {
        "duration": 11,
        "start_time": "2024-09-25T20:22:19.993Z"
      },
      {
        "duration": 91,
        "start_time": "2024-09-25T20:22:20.006Z"
      },
      {
        "duration": 9,
        "start_time": "2024-09-25T20:22:20.099Z"
      },
      {
        "duration": 8,
        "start_time": "2024-09-25T20:22:20.110Z"
      },
      {
        "duration": 6,
        "start_time": "2024-09-25T20:22:20.120Z"
      },
      {
        "duration": 12,
        "start_time": "2024-09-25T20:22:20.128Z"
      },
      {
        "duration": 12,
        "start_time": "2024-09-25T20:22:20.142Z"
      },
      {
        "duration": 74,
        "start_time": "2024-09-25T20:22:20.155Z"
      },
      {
        "duration": 181,
        "start_time": "2024-09-25T20:22:20.230Z"
      },
      {
        "duration": 28,
        "start_time": "2024-09-25T20:22:20.413Z"
      },
      {
        "duration": 0,
        "start_time": "2024-09-25T20:22:20.442Z"
      },
      {
        "duration": 0,
        "start_time": "2024-09-25T20:22:20.444Z"
      },
      {
        "duration": 0,
        "start_time": "2024-09-25T20:22:20.445Z"
      },
      {
        "duration": 0,
        "start_time": "2024-09-25T20:22:20.446Z"
      },
      {
        "duration": 0,
        "start_time": "2024-09-25T20:22:20.447Z"
      },
      {
        "duration": 0,
        "start_time": "2024-09-25T20:22:20.449Z"
      },
      {
        "duration": 20,
        "start_time": "2024-09-25T20:23:13.068Z"
      },
      {
        "duration": 20,
        "start_time": "2024-09-25T20:23:28.165Z"
      },
      {
        "duration": 421,
        "start_time": "2024-09-25T20:24:22.383Z"
      },
      {
        "duration": 307,
        "start_time": "2024-09-25T20:24:24.825Z"
      },
      {
        "duration": 310,
        "start_time": "2024-09-25T20:25:43.828Z"
      },
      {
        "duration": 302,
        "start_time": "2024-09-25T20:25:46.424Z"
      },
      {
        "duration": 669,
        "start_time": "2024-09-25T20:28:39.113Z"
      },
      {
        "duration": 650,
        "start_time": "2024-09-25T20:31:45.379Z"
      },
      {
        "duration": 657,
        "start_time": "2024-09-25T20:31:48.214Z"
      },
      {
        "duration": 644,
        "start_time": "2024-09-25T20:32:02.438Z"
      },
      {
        "duration": 719,
        "start_time": "2024-09-25T20:32:20.368Z"
      },
      {
        "duration": 126,
        "start_time": "2024-09-25T20:35:38.898Z"
      },
      {
        "duration": 698,
        "start_time": "2024-09-25T20:38:48.266Z"
      },
      {
        "duration": 630,
        "start_time": "2024-09-25T20:39:41.245Z"
      },
      {
        "duration": 3135,
        "start_time": "2024-09-25T20:43:10.330Z"
      },
      {
        "duration": 9,
        "start_time": "2024-09-25T20:43:13.467Z"
      },
      {
        "duration": 15,
        "start_time": "2024-09-25T20:43:13.478Z"
      },
      {
        "duration": 39,
        "start_time": "2024-09-25T20:43:13.494Z"
      },
      {
        "duration": 11,
        "start_time": "2024-09-25T20:43:13.535Z"
      },
      {
        "duration": 14,
        "start_time": "2024-09-25T20:43:13.548Z"
      },
      {
        "duration": 8,
        "start_time": "2024-09-25T20:43:13.564Z"
      },
      {
        "duration": 8,
        "start_time": "2024-09-25T20:43:13.574Z"
      },
      {
        "duration": 17,
        "start_time": "2024-09-25T20:43:13.585Z"
      },
      {
        "duration": 13,
        "start_time": "2024-09-25T20:43:13.603Z"
      },
      {
        "duration": 12,
        "start_time": "2024-09-25T20:43:13.618Z"
      },
      {
        "duration": 67,
        "start_time": "2024-09-25T20:43:13.631Z"
      },
      {
        "duration": 162,
        "start_time": "2024-09-25T20:43:13.700Z"
      },
      {
        "duration": 645,
        "start_time": "2024-09-25T20:43:13.863Z"
      },
      {
        "duration": 138,
        "start_time": "2024-09-25T20:43:14.509Z"
      },
      {
        "duration": 19,
        "start_time": "2024-09-25T20:43:14.649Z"
      },
      {
        "duration": 99,
        "start_time": "2024-09-25T20:43:14.670Z"
      },
      {
        "duration": 0,
        "start_time": "2024-09-25T20:43:14.770Z"
      },
      {
        "duration": 0,
        "start_time": "2024-09-25T20:43:14.771Z"
      },
      {
        "duration": 0,
        "start_time": "2024-09-25T20:43:14.773Z"
      },
      {
        "duration": 0,
        "start_time": "2024-09-25T20:43:14.774Z"
      },
      {
        "duration": 5484,
        "start_time": "2024-09-25T20:44:10.958Z"
      },
      {
        "duration": 446,
        "start_time": "2024-09-25T20:44:17.963Z"
      },
      {
        "duration": 5493,
        "start_time": "2024-09-25T20:44:25.718Z"
      },
      {
        "duration": 7,
        "start_time": "2024-09-25T20:47:35.947Z"
      },
      {
        "duration": 7,
        "start_time": "2024-09-25T20:47:59.529Z"
      },
      {
        "duration": 52,
        "start_time": "2024-09-25T20:50:30.453Z"
      },
      {
        "duration": 2538,
        "start_time": "2024-09-25T21:16:45.845Z"
      },
      {
        "duration": 10,
        "start_time": "2024-09-25T21:16:48.386Z"
      },
      {
        "duration": 9,
        "start_time": "2024-09-25T21:16:48.397Z"
      },
      {
        "duration": 44,
        "start_time": "2024-09-25T21:16:48.407Z"
      },
      {
        "duration": 15,
        "start_time": "2024-09-25T21:16:48.454Z"
      },
      {
        "duration": 19,
        "start_time": "2024-09-25T21:16:48.471Z"
      },
      {
        "duration": 15,
        "start_time": "2024-09-25T21:16:48.492Z"
      },
      {
        "duration": 17,
        "start_time": "2024-09-25T21:16:48.510Z"
      },
      {
        "duration": 8,
        "start_time": "2024-09-25T21:16:48.529Z"
      },
      {
        "duration": 14,
        "start_time": "2024-09-25T21:16:48.539Z"
      },
      {
        "duration": 11,
        "start_time": "2024-09-25T21:16:48.555Z"
      },
      {
        "duration": 59,
        "start_time": "2024-09-25T21:16:48.567Z"
      },
      {
        "duration": 171,
        "start_time": "2024-09-25T21:16:48.628Z"
      },
      {
        "duration": 676,
        "start_time": "2024-09-25T21:16:48.801Z"
      },
      {
        "duration": 136,
        "start_time": "2024-09-25T21:16:49.479Z"
      },
      {
        "duration": 18,
        "start_time": "2024-09-25T21:16:49.616Z"
      },
      {
        "duration": 433,
        "start_time": "2024-09-25T21:16:49.636Z"
      },
      {
        "duration": 5006,
        "start_time": "2024-09-25T21:16:50.070Z"
      },
      {
        "duration": 7,
        "start_time": "2024-09-25T21:16:55.077Z"
      },
      {
        "duration": 158,
        "start_time": "2024-09-25T21:16:55.098Z"
      },
      {
        "duration": 14,
        "start_time": "2024-09-25T21:16:55.258Z"
      },
      {
        "duration": 5543,
        "start_time": "2024-09-25T21:37:39.474Z"
      },
      {
        "duration": 1656,
        "start_time": "2024-09-25T21:37:45.019Z"
      },
      {
        "duration": 94,
        "start_time": "2024-09-25T21:37:46.676Z"
      },
      {
        "duration": 83,
        "start_time": "2024-09-25T21:37:46.771Z"
      },
      {
        "duration": 25,
        "start_time": "2024-09-25T21:37:46.857Z"
      },
      {
        "duration": 20,
        "start_time": "2024-09-25T21:37:46.884Z"
      },
      {
        "duration": 20,
        "start_time": "2024-09-25T21:37:46.906Z"
      },
      {
        "duration": 27,
        "start_time": "2024-09-25T21:37:46.928Z"
      },
      {
        "duration": 23,
        "start_time": "2024-09-25T21:37:46.957Z"
      },
      {
        "duration": 31,
        "start_time": "2024-09-25T21:37:46.982Z"
      },
      {
        "duration": 26,
        "start_time": "2024-09-25T21:37:47.015Z"
      },
      {
        "duration": 71,
        "start_time": "2024-09-25T21:37:47.043Z"
      },
      {
        "duration": 169,
        "start_time": "2024-09-25T21:37:47.116Z"
      },
      {
        "duration": 1115,
        "start_time": "2024-09-25T21:37:47.287Z"
      },
      {
        "duration": 131,
        "start_time": "2024-09-25T21:37:48.404Z"
      },
      {
        "duration": 30,
        "start_time": "2024-09-25T21:37:48.537Z"
      },
      {
        "duration": 438,
        "start_time": "2024-09-25T21:37:48.569Z"
      },
      {
        "duration": 5076,
        "start_time": "2024-09-25T21:37:49.009Z"
      },
      {
        "duration": 6,
        "start_time": "2024-09-25T21:37:54.087Z"
      },
      {
        "duration": 173,
        "start_time": "2024-09-25T21:37:54.095Z"
      },
      {
        "duration": 20,
        "start_time": "2024-09-25T21:37:54.271Z"
      }
    ],
    "kernelspec": {
      "display_name": "Python 3 (ipykernel)",
      "language": "python",
      "name": "python3"
    },
    "language_info": {
      "codemirror_mode": {
        "name": "ipython",
        "version": 3
      },
      "file_extension": ".py",
      "mimetype": "text/x-python",
      "name": "python",
      "nbconvert_exporter": "python",
      "pygments_lexer": "ipython3",
      "version": "3.9.5"
    },
    "toc": {
      "base_numbering": 1,
      "nav_menu": {},
      "number_sections": true,
      "sideBar": true,
      "skip_h1_title": true,
      "title_cell": "Table of Contents",
      "title_sidebar": "Contents",
      "toc_cell": false,
      "toc_position": {
        "height": "525.556px",
        "left": "259px",
        "top": "110.113px",
        "width": "299.549px"
      },
      "toc_section_display": true,
      "toc_window_display": false
    },
    "colab": {
      "provenance": [],
      "include_colab_link": true
    }
  },
  "nbformat": 4,
  "nbformat_minor": 0
}