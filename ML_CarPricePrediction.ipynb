{
  "cells": [
    {
      "cell_type": "markdown",
      "metadata": {
        "id": "62MQwK-5Wfta"
      },
      "source": [
        "# Определение стоимости автомобилей"
      ]
    },
    {
      "cell_type": "markdown",
      "metadata": {
        "id": "sp8_yC4qWfta"
      },
      "source": [
        "Сервис по продаже автомобилей с пробегом «Не бит, не крашен» разрабатывает приложение для привлечения новых клиентов. В нём можно быстро узнать рыночную стоимость своего автомобиля. В вашем распоряжении исторические данные: технические характеристики, комплектации и цены автомобилей. Вам нужно построить модель для определения стоимости.\n",
        "\n",
        "Заказчику важны:\n",
        "\n",
        "- качество предсказания;\n",
        "- скорость предсказания;\n",
        "- время обучения."
      ]
    },
    {
      "cell_type": "markdown",
      "metadata": {
        "id": "WpYb7ZIKWftb"
      },
      "source": [
        "План работы:\n",
        " 1. Загрузить данные, путь к файлу: /datasets/autos.csv.\n",
        " 2. Изучить данные. Заполнить пропущенные значения и обработать аномалии в столбцах. Если среди признаков имеются неинформативные, удалить их.\n",
        " 3. Подготовить выборки для обучения моделей.\n",
        " 4. Обучить разные модели, одна из которых — LightGBM, как минимум одна — не бустинг. Для каждой модели попробовать разные гиперпараметры.\n",
        " 5. Проанализировать время обучения, время предсказания и качество моделей.\n",
        " 6. Опираясь на критерии заказчика, выбрать лучшую модель, проверить её качество на тестовой выборке.\n",
        "\n",
        "\n",
        "Для оценки качества моделей применить метрику RMSE.\n",
        "Значение метрики RMSE должно быть меньше 2500."
      ]
    },
    {
      "cell_type": "code",
      "execution_count": null,
      "metadata": {
        "id": "i7sNWU4nWftb"
      },
      "outputs": [],
      "source": [
        "# Установка необходимых библиотек\n",
        "!pip install phik -q\n",
        "!pip install --upgrade scikit-learn -q\n",
        "\n",
        "import warnings\n",
        "import pandas as pd\n",
        "import seaborn as sns\n",
        "import numpy as np\n",
        "import matplotlib.pyplot as plt\n",
        "import phik\n",
        "from phik import phik_matrix\n",
        "\n",
        "import time\n",
        "from sklearn.linear_model import LinearRegression\n",
        "from sklearn.tree import DecisionTreeRegressor\n",
        "from lightgbm import LGBMRegressor\n",
        "from sklearn.pipeline import Pipeline\n",
        "from sklearn.compose import ColumnTransformer\n",
        "from sklearn.preprocessing import StandardScaler, OneHotEncoder\n",
        "from sklearn.model_selection import train_test_split, GridSearchCV\n",
        "from sklearn.metrics import mean_squared_error\n",
        "import lightgbm as lgb\n",
        "\n",
        "# Отключаем лишние предупреждения\n",
        "warnings.filterwarnings(\"ignore\")\n",
        "\n",
        "# Установка опций pandas для вывода всех столбцов и строк\n",
        "#pd.set_option(\"display.max_rows\", None)\n",
        "pd.set_option(\"display.max_columns\", None)\n",
        "pd.set_option(\"display.max_seq_item\", None)\n",
        "\n",
        "# Формат отображения чисел без разделителя тысяч\n",
        "pd.set_option(\"display.float_format\", lambda x: \"%.2f\" % x)\n",
        "\n",
        "# Объявление констант\n",
        "RANDOM_STATE = 42\n",
        "TEST_SIZE = 0.25"
      ]
    },
    {
      "cell_type": "code",
      "execution_count": null,
      "metadata": {
        "id": "c3TQMkN9Wfte",
        "outputId": "f38d3bea-dedd-48e8-b89d-67777f15acbd"
      },
      "outputs": [
        {
          "name": "stdout",
          "output_type": "stream",
          "text": [
            "1.6.1\n"
          ]
        }
      ],
      "source": [
        "import sklearn\n",
        "print(sklearn.__version__)"
      ]
    },
    {
      "cell_type": "markdown",
      "metadata": {
        "id": "W9V6fUudWftg"
      },
      "source": [
        "## Загрузка и подготовка данных"
      ]
    },
    {
      "cell_type": "markdown",
      "metadata": {
        "id": "QKyE-ZlPWftg"
      },
      "source": [
        "В файле /datasets/autos.csv содержатся данные об автомобилях с пробегом, которые включают как технические характеристики, так и информацию о продаже. Ниже приведён список признаков, которые доступны в датасете: <br>\n",
        "<br>\n",
        "**DateCrawled** — дата скачивания анкеты из базы<br>\n",
        "**VehicleType** — тип автомобильного кузова<br>\n",
        "**RegistrationYear** — год регистрации автомобиля<br>\n",
        "**Gearbox** — тип коробки передач<br>\n",
        "**Power** — мощность (л. с.)<br>\n",
        "**Model** — модель автомобиля<br>\n",
        "**Kilometer** — пробег (км)<br>\n",
        "**RegistrationMonth** — месяц регистрации автомобиля<br>\n",
        "**FuelType** — тип топлива<br>\n",
        "**Brand** — марка автомобиля<br>\n",
        "**Repaired** — была машина в ремонте или нет<br>\n",
        "**DateCreated** — дата создания анкеты<br>\n",
        "**NumberOfPictures** — количество фотографий автомобиля<br>\n",
        "**PostalCode** — почтовый индекс владельца анкеты (пользователя)<br>\n",
        "**LastSeen** — дата последней активности пользователя<br>\n",
        "*Целевой признак*<br>\n",
        "**Price** — цена (евро)<br>"
      ]
    },
    {
      "cell_type": "markdown",
      "metadata": {
        "id": "Zg2YSZy0Wftg"
      },
      "source": [
        "Загрузим данные, путь к файлу: /datasets/autos.csv."
      ]
    },
    {
      "cell_type": "code",
      "execution_count": null,
      "metadata": {
        "id": "jgns7exjWfti"
      },
      "outputs": [],
      "source": [
        "try:\n",
        "    df = pd.read_csv(\"/datasets/autos.csv\", parse_dates=[\"DateCrawled\", \"DateCreated\", \"LastSeen\"])\n",
        "except:\n",
        "    df = pd.read_csv(\"https://code/datasets/autos.csv\", parse_dates=[\"DateCrawled\", \"DateCreated\", \"LastSeen\"])"
      ]
    },
    {
      "cell_type": "markdown",
      "metadata": {
        "id": "K-Dhy1zHWfti"
      },
      "source": [
        "### Обзор данных"
      ]
    },
    {
      "cell_type": "markdown",
      "metadata": {
        "id": "SYlHEF8EWfti"
      },
      "source": [
        "Изучим данные."
      ]
    },
    {
      "cell_type": "code",
      "execution_count": null,
      "metadata": {
        "id": "XTmPxTr1Wfti"
      },
      "outputs": [],
      "source": [
        "# Используем функцию для осмотра информации о датафрейме\n",
        "def information_data(data):\n",
        "    display(\"Общая информация\")\n",
        "    display(data.info())\n",
        "    display(\"Первые пять строк\")\n",
        "    display(data.head())\n",
        "    display(\"Название столбцов\")\n",
        "    display(data.columns)\n",
        "    display(\"Количество пропусков\")\n",
        "    display(data.isna().sum())\n",
        "    display(\"Количество дубликатов\")\n",
        "    display(data.duplicated().sum())\n",
        "    display(\"Количество уникальных значений\")\n",
        "    display(data.nunique())"
      ]
    },
    {
      "cell_type": "code",
      "execution_count": null,
      "metadata": {
        "scrolled": false,
        "id": "9sNnot9vWftj",
        "outputId": "870bd0d7-85dd-4a3b-a8ac-4388f6706887"
      },
      "outputs": [
        {
          "data": {
            "text/plain": [
              "'Общая информация'"
            ]
          },
          "metadata": {},
          "output_type": "display_data"
        },
        {
          "name": "stdout",
          "output_type": "stream",
          "text": [
            "<class 'pandas.core.frame.DataFrame'>\n",
            "RangeIndex: 354369 entries, 0 to 354368\n",
            "Data columns (total 16 columns):\n",
            " #   Column             Non-Null Count   Dtype         \n",
            "---  ------             --------------   -----         \n",
            " 0   DateCrawled        354369 non-null  datetime64[ns]\n",
            " 1   Price              354369 non-null  int64         \n",
            " 2   VehicleType        316879 non-null  object        \n",
            " 3   RegistrationYear   354369 non-null  int64         \n",
            " 4   Gearbox            334536 non-null  object        \n",
            " 5   Power              354369 non-null  int64         \n",
            " 6   Model              334664 non-null  object        \n",
            " 7   Kilometer          354369 non-null  int64         \n",
            " 8   RegistrationMonth  354369 non-null  int64         \n",
            " 9   FuelType           321474 non-null  object        \n",
            " 10  Brand              354369 non-null  object        \n",
            " 11  Repaired           283215 non-null  object        \n",
            " 12  DateCreated        354369 non-null  datetime64[ns]\n",
            " 13  NumberOfPictures   354369 non-null  int64         \n",
            " 14  PostalCode         354369 non-null  int64         \n",
            " 15  LastSeen           354369 non-null  datetime64[ns]\n",
            "dtypes: datetime64[ns](3), int64(7), object(6)\n",
            "memory usage: 43.3+ MB\n"
          ]
        },
        {
          "data": {
            "text/plain": [
              "None"
            ]
          },
          "metadata": {},
          "output_type": "display_data"
        },
        {
          "data": {
            "text/plain": [
              "'Первые пять строк'"
            ]
          },
          "metadata": {},
          "output_type": "display_data"
        },
        {
          "data": {
            "text/html": [
              "<div>\n",
              "<style scoped>\n",
              "    .dataframe tbody tr th:only-of-type {\n",
              "        vertical-align: middle;\n",
              "    }\n",
              "\n",
              "    .dataframe tbody tr th {\n",
              "        vertical-align: top;\n",
              "    }\n",
              "\n",
              "    .dataframe thead th {\n",
              "        text-align: right;\n",
              "    }\n",
              "</style>\n",
              "<table border=\"1\" class=\"dataframe\">\n",
              "  <thead>\n",
              "    <tr style=\"text-align: right;\">\n",
              "      <th></th>\n",
              "      <th>DateCrawled</th>\n",
              "      <th>Price</th>\n",
              "      <th>VehicleType</th>\n",
              "      <th>RegistrationYear</th>\n",
              "      <th>Gearbox</th>\n",
              "      <th>Power</th>\n",
              "      <th>Model</th>\n",
              "      <th>Kilometer</th>\n",
              "      <th>RegistrationMonth</th>\n",
              "      <th>FuelType</th>\n",
              "      <th>Brand</th>\n",
              "      <th>Repaired</th>\n",
              "      <th>DateCreated</th>\n",
              "      <th>NumberOfPictures</th>\n",
              "      <th>PostalCode</th>\n",
              "      <th>LastSeen</th>\n",
              "    </tr>\n",
              "  </thead>\n",
              "  <tbody>\n",
              "    <tr>\n",
              "      <th>0</th>\n",
              "      <td>2016-03-24 11:52:17</td>\n",
              "      <td>480</td>\n",
              "      <td>NaN</td>\n",
              "      <td>1993</td>\n",
              "      <td>manual</td>\n",
              "      <td>0</td>\n",
              "      <td>golf</td>\n",
              "      <td>150000</td>\n",
              "      <td>0</td>\n",
              "      <td>petrol</td>\n",
              "      <td>volkswagen</td>\n",
              "      <td>NaN</td>\n",
              "      <td>2016-03-24</td>\n",
              "      <td>0</td>\n",
              "      <td>70435</td>\n",
              "      <td>2016-04-07 03:16:57</td>\n",
              "    </tr>\n",
              "    <tr>\n",
              "      <th>1</th>\n",
              "      <td>2016-03-24 10:58:45</td>\n",
              "      <td>18300</td>\n",
              "      <td>coupe</td>\n",
              "      <td>2011</td>\n",
              "      <td>manual</td>\n",
              "      <td>190</td>\n",
              "      <td>NaN</td>\n",
              "      <td>125000</td>\n",
              "      <td>5</td>\n",
              "      <td>gasoline</td>\n",
              "      <td>audi</td>\n",
              "      <td>yes</td>\n",
              "      <td>2016-03-24</td>\n",
              "      <td>0</td>\n",
              "      <td>66954</td>\n",
              "      <td>2016-04-07 01:46:50</td>\n",
              "    </tr>\n",
              "    <tr>\n",
              "      <th>2</th>\n",
              "      <td>2016-03-14 12:52:21</td>\n",
              "      <td>9800</td>\n",
              "      <td>suv</td>\n",
              "      <td>2004</td>\n",
              "      <td>auto</td>\n",
              "      <td>163</td>\n",
              "      <td>grand</td>\n",
              "      <td>125000</td>\n",
              "      <td>8</td>\n",
              "      <td>gasoline</td>\n",
              "      <td>jeep</td>\n",
              "      <td>NaN</td>\n",
              "      <td>2016-03-14</td>\n",
              "      <td>0</td>\n",
              "      <td>90480</td>\n",
              "      <td>2016-04-05 12:47:46</td>\n",
              "    </tr>\n",
              "    <tr>\n",
              "      <th>3</th>\n",
              "      <td>2016-03-17 16:54:04</td>\n",
              "      <td>1500</td>\n",
              "      <td>small</td>\n",
              "      <td>2001</td>\n",
              "      <td>manual</td>\n",
              "      <td>75</td>\n",
              "      <td>golf</td>\n",
              "      <td>150000</td>\n",
              "      <td>6</td>\n",
              "      <td>petrol</td>\n",
              "      <td>volkswagen</td>\n",
              "      <td>no</td>\n",
              "      <td>2016-03-17</td>\n",
              "      <td>0</td>\n",
              "      <td>91074</td>\n",
              "      <td>2016-03-17 17:40:17</td>\n",
              "    </tr>\n",
              "    <tr>\n",
              "      <th>4</th>\n",
              "      <td>2016-03-31 17:25:20</td>\n",
              "      <td>3600</td>\n",
              "      <td>small</td>\n",
              "      <td>2008</td>\n",
              "      <td>manual</td>\n",
              "      <td>69</td>\n",
              "      <td>fabia</td>\n",
              "      <td>90000</td>\n",
              "      <td>7</td>\n",
              "      <td>gasoline</td>\n",
              "      <td>skoda</td>\n",
              "      <td>no</td>\n",
              "      <td>2016-03-31</td>\n",
              "      <td>0</td>\n",
              "      <td>60437</td>\n",
              "      <td>2016-04-06 10:17:21</td>\n",
              "    </tr>\n",
              "  </tbody>\n",
              "</table>\n",
              "</div>"
            ],
            "text/plain": [
              "          DateCrawled  Price VehicleType  RegistrationYear Gearbox  Power  \\\n",
              "0 2016-03-24 11:52:17    480         NaN              1993  manual      0   \n",
              "1 2016-03-24 10:58:45  18300       coupe              2011  manual    190   \n",
              "2 2016-03-14 12:52:21   9800         suv              2004    auto    163   \n",
              "3 2016-03-17 16:54:04   1500       small              2001  manual     75   \n",
              "4 2016-03-31 17:25:20   3600       small              2008  manual     69   \n",
              "\n",
              "   Model  Kilometer  RegistrationMonth  FuelType       Brand Repaired  \\\n",
              "0   golf     150000                  0    petrol  volkswagen      NaN   \n",
              "1    NaN     125000                  5  gasoline        audi      yes   \n",
              "2  grand     125000                  8  gasoline        jeep      NaN   \n",
              "3   golf     150000                  6    petrol  volkswagen       no   \n",
              "4  fabia      90000                  7  gasoline       skoda       no   \n",
              "\n",
              "  DateCreated  NumberOfPictures  PostalCode            LastSeen  \n",
              "0  2016-03-24                 0       70435 2016-04-07 03:16:57  \n",
              "1  2016-03-24                 0       66954 2016-04-07 01:46:50  \n",
              "2  2016-03-14                 0       90480 2016-04-05 12:47:46  \n",
              "3  2016-03-17                 0       91074 2016-03-17 17:40:17  \n",
              "4  2016-03-31                 0       60437 2016-04-06 10:17:21  "
            ]
          },
          "metadata": {},
          "output_type": "display_data"
        },
        {
          "data": {
            "text/plain": [
              "'Название столбцов'"
            ]
          },
          "metadata": {},
          "output_type": "display_data"
        },
        {
          "data": {
            "text/plain": [
              "Index(['DateCrawled', 'Price', 'VehicleType', 'RegistrationYear', 'Gearbox',\n",
              "       'Power', 'Model', 'Kilometer', 'RegistrationMonth', 'FuelType', 'Brand',\n",
              "       'Repaired', 'DateCreated', 'NumberOfPictures', 'PostalCode',\n",
              "       'LastSeen'],\n",
              "      dtype='object')"
            ]
          },
          "metadata": {},
          "output_type": "display_data"
        },
        {
          "data": {
            "text/plain": [
              "'Количество пропусков'"
            ]
          },
          "metadata": {},
          "output_type": "display_data"
        },
        {
          "data": {
            "text/plain": [
              "DateCrawled              0\n",
              "Price                    0\n",
              "VehicleType          37490\n",
              "RegistrationYear         0\n",
              "Gearbox              19833\n",
              "Power                    0\n",
              "Model                19705\n",
              "Kilometer                0\n",
              "RegistrationMonth        0\n",
              "FuelType             32895\n",
              "Brand                    0\n",
              "Repaired             71154\n",
              "DateCreated              0\n",
              "NumberOfPictures         0\n",
              "PostalCode               0\n",
              "LastSeen                 0\n",
              "dtype: int64"
            ]
          },
          "metadata": {},
          "output_type": "display_data"
        },
        {
          "data": {
            "text/plain": [
              "'Количество дубликатов'"
            ]
          },
          "metadata": {},
          "output_type": "display_data"
        },
        {
          "data": {
            "text/plain": [
              "4"
            ]
          },
          "metadata": {},
          "output_type": "display_data"
        },
        {
          "data": {
            "text/plain": [
              "'Количество уникальных значений'"
            ]
          },
          "metadata": {},
          "output_type": "display_data"
        },
        {
          "data": {
            "text/plain": [
              "DateCrawled          271174\n",
              "Price                  3731\n",
              "VehicleType               8\n",
              "RegistrationYear        151\n",
              "Gearbox                   2\n",
              "Power                   712\n",
              "Model                   250\n",
              "Kilometer                13\n",
              "RegistrationMonth        13\n",
              "FuelType                  7\n",
              "Brand                    40\n",
              "Repaired                  2\n",
              "DateCreated             109\n",
              "NumberOfPictures          1\n",
              "PostalCode             8143\n",
              "LastSeen             179150\n",
              "dtype: int64"
            ]
          },
          "metadata": {},
          "output_type": "display_data"
        }
      ],
      "source": [
        "information_data(df)"
      ]
    },
    {
      "cell_type": "markdown",
      "metadata": {
        "id": "i0--KTr5Wftk"
      },
      "source": [
        "В датасете содержится 354 369 записей и 16 признаков. Среди них 7 числовых и 9 категориальных (включая даты).<br>\n",
        "\n",
        "Значительные пропуски присутствуют в следующих столбцах:<br>\n",
        "- VehicleType — около 37 490 пропусков\n",
        "- Gearbox — 19 833 пропуска\n",
        "- Model — 19 705 пропусков\n",
        "- FuelType — 32 895 пропусков\n",
        "- Repaired — 71 154 пропуска<br>\n",
        "<br>\n",
        "\n",
        "Пропуски необходимо заполнить или обработать, так как они могут повлиять на качество модели.<br>\n",
        "<br>\n",
        "Обнаружено 4 дубликата, которые следует удалить для предотвращения искажения модели.<br>\n",
        "<br>\n",
        "Уникальные значения\n",
        "<br>\n",
        "Столбец NumberOfPictures содержит только одно уникальное значение (0), то есть фотографии отсутствуют или не используются — этот столбец можно считать неинформативным и удалить.<br>\n",
        "<br>\n",
        "В RegistrationMonth и Kilometer есть 13 уникальных значений. У RegistrationMonth надо проверить, что значит 13 категория, а столбец Kilometer, вероятно, содержит диапазоны (пробег с шагами).<br>\n",
        "<br>\n",
        "В RegistrationYear — 151 уникальное значение, что может включать аномальные годы (например, слишком ранние или будущие).<br>\n",
        "<br>\n",
        "DateCrawled, DateCreated, LastSeen — временные метки, которые могут быть полезны для анализа, но в текущей задаче оценки стоимости автомобиля могут быть неинформативны и их можно будет удалить перед обучением (пока оставим, могут быть полезны для исследования данных). Также удалим PostalCode как не имеющий связи с ценой автомобиля <br>\n",
        "\n",
        "\n",
        "**План по подготовке данных**\n",
        "<br>\n",
        "Нужно привести наименования столбцов к змеиному регистру.\n",
        "<br>\n",
        "Откорректировать типы данных.\n",
        "<br>\n",
        "Необходимо заполнить пропуски в категориальных признаках.<br>\n",
        "<br>\n",
        "Удалить обнаруженные дубликаты.<br>\n",
        "<br>\n",
        "Удалить неинформативные столбцы: NumberOfPictures, временные метки (DateCrawled, DateCreated, LastSeen), а также PostalCode из-за большого количества уникальных значений и малой информативности.<br>\n",
        "<br>\n",
        "Проверить и обработать аномалии в числовых признаках (RegistrationYear, Power, Kilometer)."
      ]
    },
    {
      "cell_type": "markdown",
      "metadata": {
        "id": "_VB97inFWftk"
      },
      "source": [
        "## Предобработка данных"
      ]
    },
    {
      "cell_type": "code",
      "execution_count": null,
      "metadata": {
        "id": "UB2KN05cWftk"
      },
      "outputs": [],
      "source": [
        "# Удалим неинформативный столбец\n",
        "df = df.drop(columns=[\"NumberOfPictures\"])"
      ]
    },
    {
      "cell_type": "code",
      "execution_count": null,
      "metadata": {
        "scrolled": true,
        "id": "jZDHq6TcWftl",
        "outputId": "8208d8c5-1d11-4493-bbac-0ed8537a7679"
      },
      "outputs": [
        {
          "data": {
            "text/plain": [
              "Index(['date_crawled', 'price', 'vehicle_type', 'registration_year', 'gearbox',\n",
              "       'power', 'model', 'kilometer', 'registration_month', 'fuel_type',\n",
              "       'brand', 'repaired', 'date_created', 'postal_code', 'last_seen'],\n",
              "      dtype='object')"
            ]
          },
          "metadata": {},
          "output_type": "display_data"
        }
      ],
      "source": [
        "# Приведем наименования столбцов к змеиному регистру (snake_case)\n",
        "columns = [\n",
        "    \"DateCrawled\",\n",
        "    \"Price\",\n",
        "    \"VehicleType\",\n",
        "    \"RegistrationYear\",\n",
        "    \"Gearbox\",\n",
        "    \"Power\",\n",
        "    \"Model\",\n",
        "    \"Kilometer\",\n",
        "    \"RegistrationMonth\",\n",
        "    \"FuelType\",\n",
        "    \"Brand\",\n",
        "    \"Repaired\",\n",
        "    \"DateCreated\",\n",
        "    \"PostalCode\",\n",
        "    \"LastSeen\",\n",
        "]\n",
        "\n",
        "# Преобразуем каждое имя в snake_case\n",
        "columns_snake_case = [\n",
        "    \"date_crawled\",\n",
        "    \"price\",\n",
        "    \"vehicle_type\",\n",
        "    \"registration_year\",\n",
        "    \"gearbox\",\n",
        "    \"power\",\n",
        "    \"model\",\n",
        "    \"kilometer\",\n",
        "    \"registration_month\",\n",
        "    \"fuel_type\",\n",
        "    \"brand\",\n",
        "    \"repaired\",\n",
        "    \"date_created\",\n",
        "    \"postal_code\",\n",
        "    \"last_seen\",\n",
        "]\n",
        "\n",
        "# Применим к датафрейму df\n",
        "df.columns = columns_snake_case\n",
        "\n",
        "# Проверим\n",
        "display(df.columns)"
      ]
    },
    {
      "cell_type": "markdown",
      "metadata": {
        "id": "rgpH5VaDWftl"
      },
      "source": [
        "Заполним пропущенные значения и обработаем аномалии в столбцах. Удалим неинформативные признаки."
      ]
    },
    {
      "cell_type": "code",
      "execution_count": null,
      "metadata": {
        "id": "sJuYlbMzWftm"
      },
      "outputs": [],
      "source": [
        "del columns, columns_snake_case"
      ]
    },
    {
      "cell_type": "markdown",
      "metadata": {
        "id": "MzgCo8R7Wftm"
      },
      "source": [
        "*Дубликаты*"
      ]
    },
    {
      "cell_type": "code",
      "execution_count": null,
      "metadata": {
        "scrolled": false,
        "id": "v6GP7ZagWftm",
        "outputId": "38fedd6b-3676-47ba-b42a-0a1dd4f4030e"
      },
      "outputs": [
        {
          "data": {
            "text/html": [
              "<div>\n",
              "<style scoped>\n",
              "    .dataframe tbody tr th:only-of-type {\n",
              "        vertical-align: middle;\n",
              "    }\n",
              "\n",
              "    .dataframe tbody tr th {\n",
              "        vertical-align: top;\n",
              "    }\n",
              "\n",
              "    .dataframe thead th {\n",
              "        text-align: right;\n",
              "    }\n",
              "</style>\n",
              "<table border=\"1\" class=\"dataframe\">\n",
              "  <thead>\n",
              "    <tr style=\"text-align: right;\">\n",
              "      <th></th>\n",
              "      <th>date_crawled</th>\n",
              "      <th>price</th>\n",
              "      <th>vehicle_type</th>\n",
              "      <th>registration_year</th>\n",
              "      <th>gearbox</th>\n",
              "      <th>power</th>\n",
              "      <th>model</th>\n",
              "      <th>kilometer</th>\n",
              "      <th>registration_month</th>\n",
              "      <th>fuel_type</th>\n",
              "      <th>brand</th>\n",
              "      <th>repaired</th>\n",
              "      <th>date_created</th>\n",
              "      <th>postal_code</th>\n",
              "      <th>last_seen</th>\n",
              "    </tr>\n",
              "  </thead>\n",
              "  <tbody>\n",
              "    <tr>\n",
              "      <th>88087</th>\n",
              "      <td>2016-03-08 18:42:48</td>\n",
              "      <td>1799</td>\n",
              "      <td>coupe</td>\n",
              "      <td>1999</td>\n",
              "      <td>auto</td>\n",
              "      <td>193</td>\n",
              "      <td>clk</td>\n",
              "      <td>20000</td>\n",
              "      <td>7</td>\n",
              "      <td>petrol</td>\n",
              "      <td>mercedes_benz</td>\n",
              "      <td>no</td>\n",
              "      <td>2016-03-08</td>\n",
              "      <td>89518</td>\n",
              "      <td>2016-03-09 09:46:57</td>\n",
              "    </tr>\n",
              "    <tr>\n",
              "      <th>171088</th>\n",
              "      <td>2016-03-08 18:42:48</td>\n",
              "      <td>1799</td>\n",
              "      <td>coupe</td>\n",
              "      <td>1999</td>\n",
              "      <td>auto</td>\n",
              "      <td>193</td>\n",
              "      <td>clk</td>\n",
              "      <td>20000</td>\n",
              "      <td>7</td>\n",
              "      <td>petrol</td>\n",
              "      <td>mercedes_benz</td>\n",
              "      <td>no</td>\n",
              "      <td>2016-03-08</td>\n",
              "      <td>89518</td>\n",
              "      <td>2016-03-09 09:46:57</td>\n",
              "    </tr>\n",
              "    <tr>\n",
              "      <th>41529</th>\n",
              "      <td>2016-03-18 18:46:15</td>\n",
              "      <td>1999</td>\n",
              "      <td>wagon</td>\n",
              "      <td>2001</td>\n",
              "      <td>manual</td>\n",
              "      <td>131</td>\n",
              "      <td>passat</td>\n",
              "      <td>150000</td>\n",
              "      <td>7</td>\n",
              "      <td>gasoline</td>\n",
              "      <td>volkswagen</td>\n",
              "      <td>no</td>\n",
              "      <td>2016-03-18</td>\n",
              "      <td>36391</td>\n",
              "      <td>2016-03-18 18:46:15</td>\n",
              "    </tr>\n",
              "    <tr>\n",
              "      <th>325651</th>\n",
              "      <td>2016-03-18 18:46:15</td>\n",
              "      <td>1999</td>\n",
              "      <td>wagon</td>\n",
              "      <td>2001</td>\n",
              "      <td>manual</td>\n",
              "      <td>131</td>\n",
              "      <td>passat</td>\n",
              "      <td>150000</td>\n",
              "      <td>7</td>\n",
              "      <td>gasoline</td>\n",
              "      <td>volkswagen</td>\n",
              "      <td>no</td>\n",
              "      <td>2016-03-18</td>\n",
              "      <td>36391</td>\n",
              "      <td>2016-03-18 18:46:15</td>\n",
              "    </tr>\n",
              "    <tr>\n",
              "      <th>90964</th>\n",
              "      <td>2016-03-28 00:56:10</td>\n",
              "      <td>1000</td>\n",
              "      <td>small</td>\n",
              "      <td>2002</td>\n",
              "      <td>manual</td>\n",
              "      <td>83</td>\n",
              "      <td>other</td>\n",
              "      <td>150000</td>\n",
              "      <td>1</td>\n",
              "      <td>petrol</td>\n",
              "      <td>suzuki</td>\n",
              "      <td>no</td>\n",
              "      <td>2016-03-28</td>\n",
              "      <td>66589</td>\n",
              "      <td>2016-03-28 08:46:21</td>\n",
              "    </tr>\n",
              "    <tr>\n",
              "      <th>231258</th>\n",
              "      <td>2016-03-28 00:56:10</td>\n",
              "      <td>1000</td>\n",
              "      <td>small</td>\n",
              "      <td>2002</td>\n",
              "      <td>manual</td>\n",
              "      <td>83</td>\n",
              "      <td>other</td>\n",
              "      <td>150000</td>\n",
              "      <td>1</td>\n",
              "      <td>petrol</td>\n",
              "      <td>suzuki</td>\n",
              "      <td>no</td>\n",
              "      <td>2016-03-28</td>\n",
              "      <td>66589</td>\n",
              "      <td>2016-03-28 08:46:21</td>\n",
              "    </tr>\n",
              "    <tr>\n",
              "      <th>187735</th>\n",
              "      <td>2016-04-03 09:01:15</td>\n",
              "      <td>4699</td>\n",
              "      <td>coupe</td>\n",
              "      <td>2003</td>\n",
              "      <td>auto</td>\n",
              "      <td>218</td>\n",
              "      <td>clk</td>\n",
              "      <td>125000</td>\n",
              "      <td>6</td>\n",
              "      <td>petrol</td>\n",
              "      <td>mercedes_benz</td>\n",
              "      <td>yes</td>\n",
              "      <td>2016-04-03</td>\n",
              "      <td>75196</td>\n",
              "      <td>2016-04-07 09:44:54</td>\n",
              "    </tr>\n",
              "    <tr>\n",
              "      <th>258109</th>\n",
              "      <td>2016-04-03 09:01:15</td>\n",
              "      <td>4699</td>\n",
              "      <td>coupe</td>\n",
              "      <td>2003</td>\n",
              "      <td>auto</td>\n",
              "      <td>218</td>\n",
              "      <td>clk</td>\n",
              "      <td>125000</td>\n",
              "      <td>6</td>\n",
              "      <td>petrol</td>\n",
              "      <td>mercedes_benz</td>\n",
              "      <td>yes</td>\n",
              "      <td>2016-04-03</td>\n",
              "      <td>75196</td>\n",
              "      <td>2016-04-07 09:44:54</td>\n",
              "    </tr>\n",
              "  </tbody>\n",
              "</table>\n",
              "</div>"
            ],
            "text/plain": [
              "              date_crawled  price vehicle_type  registration_year gearbox  \\\n",
              "88087  2016-03-08 18:42:48   1799        coupe               1999    auto   \n",
              "171088 2016-03-08 18:42:48   1799        coupe               1999    auto   \n",
              "41529  2016-03-18 18:46:15   1999        wagon               2001  manual   \n",
              "325651 2016-03-18 18:46:15   1999        wagon               2001  manual   \n",
              "90964  2016-03-28 00:56:10   1000        small               2002  manual   \n",
              "231258 2016-03-28 00:56:10   1000        small               2002  manual   \n",
              "187735 2016-04-03 09:01:15   4699        coupe               2003    auto   \n",
              "258109 2016-04-03 09:01:15   4699        coupe               2003    auto   \n",
              "\n",
              "        power   model  kilometer  registration_month fuel_type          brand  \\\n",
              "88087     193     clk      20000                   7    petrol  mercedes_benz   \n",
              "171088    193     clk      20000                   7    petrol  mercedes_benz   \n",
              "41529     131  passat     150000                   7  gasoline     volkswagen   \n",
              "325651    131  passat     150000                   7  gasoline     volkswagen   \n",
              "90964      83   other     150000                   1    petrol         suzuki   \n",
              "231258     83   other     150000                   1    petrol         suzuki   \n",
              "187735    218     clk     125000                   6    petrol  mercedes_benz   \n",
              "258109    218     clk     125000                   6    petrol  mercedes_benz   \n",
              "\n",
              "       repaired date_created  postal_code           last_seen  \n",
              "88087        no   2016-03-08        89518 2016-03-09 09:46:57  \n",
              "171088       no   2016-03-08        89518 2016-03-09 09:46:57  \n",
              "41529        no   2016-03-18        36391 2016-03-18 18:46:15  \n",
              "325651       no   2016-03-18        36391 2016-03-18 18:46:15  \n",
              "90964        no   2016-03-28        66589 2016-03-28 08:46:21  \n",
              "231258       no   2016-03-28        66589 2016-03-28 08:46:21  \n",
              "187735      yes   2016-04-03        75196 2016-04-07 09:44:54  \n",
              "258109      yes   2016-04-03        75196 2016-04-07 09:44:54  "
            ]
          },
          "execution_count": 9,
          "metadata": {},
          "output_type": "execute_result"
        }
      ],
      "source": [
        "# Выведем на экран дублирующиеся строки, отсортируем по дате скачивания анкеты из базы\n",
        "df[df.duplicated(keep=False)].sort_values(\"date_crawled\")"
      ]
    },
    {
      "cell_type": "code",
      "execution_count": null,
      "metadata": {
        "scrolled": true,
        "id": "E6dxZY5KWftn",
        "outputId": "32890a41-0cde-401a-e20a-cb69389f6a75"
      },
      "outputs": [
        {
          "data": {
            "text/plain": [
              "'Количество дубликатов:'"
            ]
          },
          "metadata": {},
          "output_type": "display_data"
        },
        {
          "data": {
            "text/plain": [
              "0"
            ]
          },
          "metadata": {},
          "output_type": "display_data"
        }
      ],
      "source": [
        "# Удалим дубликаты\n",
        "df = df.drop_duplicates()\n",
        "# Проверим удаление\n",
        "display(\"Количество дубликатов:\", df.duplicated().sum())"
      ]
    },
    {
      "cell_type": "markdown",
      "metadata": {
        "id": "tvFTWYOlWfts"
      },
      "source": [
        "\"vehicle_type\""
      ]
    },
    {
      "cell_type": "code",
      "execution_count": null,
      "metadata": {
        "scrolled": true,
        "id": "yQzdzzy8Wftt",
        "outputId": "12bcaf1e-a93c-4460-9800-d13460ec42a3"
      },
      "outputs": [
        {
          "data": {
            "text/plain": [
              "array([nan, 'coupe', 'suv', 'small', 'sedan', 'convertible', 'bus',\n",
              "       'wagon', 'other'], dtype=object)"
            ]
          },
          "execution_count": 11,
          "metadata": {},
          "output_type": "execute_result"
        }
      ],
      "source": [
        "# Выведем уникальные значения столбца \"vehicle_type\"\n",
        "df[\"vehicle_type\"].unique()"
      ]
    },
    {
      "cell_type": "code",
      "execution_count": null,
      "metadata": {
        "scrolled": false,
        "id": "WqE8hPDCWftt",
        "outputId": "6e002ab6-bc77-4636-f3b8-6c28dcbbdc7d"
      },
      "outputs": [
        {
          "data": {
            "text/plain": [
              "array(['unknown', 'coupe', 'suv', 'small', 'sedan', 'convertible', 'bus',\n",
              "       'wagon', 'other'], dtype=object)"
            ]
          },
          "execution_count": 12,
          "metadata": {},
          "output_type": "execute_result"
        }
      ],
      "source": [
        "# Заменяем пропуски на 'unknown'\n",
        "df[\"vehicle_type\"] = df[\"vehicle_type\"].fillna(\"unknown\")\n",
        "\n",
        "# Уникальные значения столбца \"vehicle_type\"\n",
        "df[\"vehicle_type\"].unique()"
      ]
    },
    {
      "cell_type": "code",
      "execution_count": null,
      "metadata": {
        "scrolled": true,
        "id": "8yU-U1OvWftu",
        "outputId": "211cfe96-ebf3-4ba5-aba5-b75a28205010"
      },
      "outputs": [
        {
          "data": {
            "text/plain": [
              "0"
            ]
          },
          "metadata": {},
          "output_type": "display_data"
        }
      ],
      "source": [
        "# Проверим количество пропусков\n",
        "display(df[\"vehicle_type\"].isna().sum())"
      ]
    },
    {
      "cell_type": "markdown",
      "metadata": {
        "id": "X1dbxlRHWftv"
      },
      "source": [
        "\"registration_year\""
      ]
    },
    {
      "cell_type": "code",
      "execution_count": null,
      "metadata": {
        "scrolled": true,
        "id": "6lh4xhrDWftv",
        "outputId": "cbf9f000-5990-45f1-f069-f61699fba794"
      },
      "outputs": [
        {
          "name": "stdout",
          "output_type": "stream",
          "text": [
            "[1000, 1001, 1039, 1111, 1200, 1234, 1253, 1255, 1300, 1400, 1500, 1600, 1602, 1688, 1800, 1910, 1915, 1919, 1920, 1923, 1925, 1927, 1928, 1929, 1930, 1931, 1932, 1933, 1934, 1935, 1936, 1937, 1938, 1940, 1941, 1942, 1943, 1944, 1945, 1946, 1947, 1948, 1949, 1950, 1951, 1952, 1953, 1954, 1955, 1956, 1957, 1958, 1959, 1960, 1961, 1962, 1963, 1964, 1965, 1966, 1967, 1968, 1969, 1970, 1971, 1972, 1973, 1974, 1975, 1976, 1977, 1978, 1979, 1980, 1981, 1982, 1983, 1984, 1985, 1986, 1987, 1988, 1989, 1990, 1991, 1992, 1993, 1994, 1995, 1996, 1997, 1998, 1999, 2000, 2001, 2002, 2003, 2004, 2005, 2006, 2007, 2008, 2009, 2010, 2011, 2012, 2013, 2014, 2015, 2016, 2017, 2018, 2019, 2066, 2200, 2222, 2290, 2500, 2800, 2900, 3000, 3200, 3500, 3700, 3800, 4000, 4100, 4500, 4800, 5000, 5300, 5555, 5600, 5900, 5911, 6000, 6500, 7000, 7100, 7500, 7800, 8000, 8200, 8455, 8500, 8888, 9000, 9229, 9450, 9996, 9999]\n"
          ]
        }
      ],
      "source": [
        "# Выведем уникальные значения столбца \"registration_year\"\n",
        "print(sorted(df[\"registration_year\"].unique()))"
      ]
    },
    {
      "cell_type": "markdown",
      "metadata": {
        "id": "5hnx9lZOWftv"
      },
      "source": [
        "Обнаруживается много аномальных значений. Попробуем посчитать, сколько данных соответcтвует реальным срокам с 1910 по 2019"
      ]
    },
    {
      "cell_type": "code",
      "execution_count": null,
      "metadata": {
        "id": "cDdOp-mzWftw",
        "outputId": "0085467e-ffc4-4cf2-d0f9-d4d60a085671"
      },
      "outputs": [
        {
          "data": {
            "text/plain": [
              "Timestamp('2016-04-07 00:00:00')"
            ]
          },
          "execution_count": 15,
          "metadata": {},
          "output_type": "execute_result"
        }
      ],
      "source": [
        "# Вычислим самую позднюю дату создания анкеты\n",
        "df[\"date_created\"].max()"
      ]
    },
    {
      "cell_type": "markdown",
      "metadata": {
        "id": "5cwOEJlkWftx"
      },
      "source": [
        "Таким образом, верхней границей интервала столбца \"registration_year\" следует считать df['registration_date'] не позднее 2016 года и df['registration_month'] не позднее марта"
      ]
    },
    {
      "cell_type": "code",
      "execution_count": null,
      "metadata": {
        "id": "noRo9zoCWftx"
      },
      "outputs": [],
      "source": [
        "# Фильтруем данные по верхней границе: не позже марта 2016 года\n",
        "df = df[(df[\"registration_year\"] >= 1900) &\n",
        "        ((df['registration_year'] < 2016) |\n",
        "         ((df['registration_year'] == 2016) & (df['registration_month'] <= 3)))]"
      ]
    },
    {
      "cell_type": "code",
      "execution_count": null,
      "metadata": {
        "id": "g90DvmdLWfty",
        "outputId": "c2bebbd3-a229-448d-fadc-54e2876c0877"
      },
      "outputs": [
        {
          "data": {
            "text/plain": [
              "(334407, 15)"
            ]
          },
          "execution_count": 17,
          "metadata": {},
          "output_type": "execute_result"
        }
      ],
      "source": [
        "# Проверим, сколько данных осталось\n",
        "df.shape"
      ]
    },
    {
      "cell_type": "code",
      "execution_count": null,
      "metadata": {
        "id": "OC3MssD1Wftz",
        "outputId": "de9e7b43-36b4-4a50-c4d6-455b1cb741b9"
      },
      "outputs": [
        {
          "name": "stdout",
          "output_type": "stream",
          "text": [
            "Процент удалённых данных: 5.6331%\n"
          ]
        }
      ],
      "source": [
        "print(f\"Процент удалённых данных: {((354369 - 334407) / 354369) * 100:.4f}%\")"
      ]
    },
    {
      "cell_type": "markdown",
      "metadata": {
        "id": "wkCchPwKWftz"
      },
      "source": [
        "Потеря данных незначительная и допустимая"
      ]
    },
    {
      "cell_type": "code",
      "execution_count": null,
      "metadata": {
        "scrolled": true,
        "id": "Y5jW87Y8Wftz",
        "outputId": "f95dacaa-103c-41be-bcf8-76fd26be46d6"
      },
      "outputs": [
        {
          "name": "stdout",
          "output_type": "stream",
          "text": [
            "[1910, 1915, 1919, 1920, 1923, 1925, 1927, 1928, 1929, 1930, 1931, 1932, 1933, 1934, 1935, 1936, 1937, 1938, 1940, 1941, 1942, 1943, 1944, 1945, 1946, 1947, 1948, 1949, 1950, 1951, 1952, 1953, 1954, 1955, 1956, 1957, 1958, 1959, 1960, 1961, 1962, 1963, 1964, 1965, 1966, 1967, 1968, 1969, 1970, 1971, 1972, 1973, 1974, 1975, 1976, 1977, 1978, 1979, 1980, 1981, 1982, 1983, 1984, 1985, 1986, 1987, 1988, 1989, 1990, 1991, 1992, 1993, 1994, 1995, 1996, 1997, 1998, 1999, 2000, 2001, 2002, 2003, 2004, 2005, 2006, 2007, 2008, 2009, 2010, 2011, 2012, 2013, 2014, 2015, 2016]\n"
          ]
        }
      ],
      "source": [
        "# Проверим преобразование\n",
        "print(sorted(df[\"registration_year\"].unique()))"
      ]
    },
    {
      "cell_type": "markdown",
      "metadata": {
        "id": "EiyytVdcWftz"
      },
      "source": [
        "\"gearbox\""
      ]
    },
    {
      "cell_type": "code",
      "execution_count": null,
      "metadata": {
        "scrolled": true,
        "id": "SN1Bn5BvWft0",
        "outputId": "c82fd730-19ea-4548-d88d-e85ffad36ab3"
      },
      "outputs": [
        {
          "data": {
            "text/plain": [
              "array(['manual', 'auto', nan], dtype=object)"
            ]
          },
          "execution_count": 20,
          "metadata": {},
          "output_type": "execute_result"
        }
      ],
      "source": [
        "# Выведем уникальные значения столбца \"gearbox\"\n",
        "df[\"gearbox\"].unique()"
      ]
    },
    {
      "cell_type": "markdown",
      "metadata": {
        "id": "gh7W1zRdWft0"
      },
      "source": [
        "Помним, что в столбце Gearbox 19833 пропусков. Это очень много для удаления, создадим категорию 'unknown'"
      ]
    },
    {
      "cell_type": "code",
      "execution_count": null,
      "metadata": {
        "id": "wy1n7k-RWft0",
        "outputId": "5dae7f46-beb4-4728-def4-ce4f53fd9402"
      },
      "outputs": [
        {
          "data": {
            "text/plain": [
              "array(['manual', 'auto', 'unknown'], dtype=object)"
            ]
          },
          "execution_count": 21,
          "metadata": {},
          "output_type": "execute_result"
        }
      ],
      "source": [
        "# Заменяем пропуски на 'unknown'\n",
        "df[\"gearbox\"] = df[\"gearbox\"].fillna(\"unknown\")\n",
        "\n",
        "# Уникальные значения столбца \"gearbox\"\n",
        "df[\"gearbox\"].unique()"
      ]
    },
    {
      "cell_type": "markdown",
      "metadata": {
        "id": "OXM8hHy1Wft1"
      },
      "source": [
        "К столбу power нет вопросов - пропуски отсутствуют, 712 уникальных значений (числовой признак), тип данных int64 соответствует данным"
      ]
    },
    {
      "cell_type": "markdown",
      "metadata": {
        "id": "BTJdfEaFWft1"
      },
      "source": [
        "\"model\""
      ]
    },
    {
      "cell_type": "code",
      "execution_count": null,
      "metadata": {
        "scrolled": true,
        "id": "m-LAKV5LWft1",
        "outputId": "fedda43a-45b6-4c68-d405-ea6255b5b074"
      },
      "outputs": [
        {
          "data": {
            "text/plain": [
              "array(['golf', nan, 'grand', 'fabia', '3er', '2_reihe', 'other', 'c_max',\n",
              "       '3_reihe', 'passat', 'navara', 'ka', 'polo', 'twingo', 'a_klasse',\n",
              "       'scirocco', '5er', 'arosa', 'civic', 'transporter', 'punto',\n",
              "       'e_klasse', 'kadett', 'kangoo', 'corsa', 'one', 'fortwo', 'clio',\n",
              "       '1er', 'b_klasse', 'signum', 'astra', 'a8', 'jetta', 'fiesta',\n",
              "       'c_klasse', 'micra', 'vito', 'sprinter', '156', 'escort',\n",
              "       'forester', 'xc_reihe', 'scenic', 'a4', 'a1', 'insignia', 'combo',\n",
              "       'focus', 'tt', 'a6', 'jazz', 'omega', 'slk', '7er', '80', '147',\n",
              "       '100', 'meriva', 'z_reihe', 'sorento', 'v40', 'ibiza', 'mustang',\n",
              "       'eos', 'touran', 'getz', 'a3', 'megane', 'lupo', 'r19', 'caddy',\n",
              "       'mondeo', 'cordoba', 'colt', 'impreza', 'vectra', 'berlingo',\n",
              "       'tiguan', 'sharan', '6_reihe', 'c4', 'panda', 'up', 'i_reihe',\n",
              "       'ceed', '5_reihe', 'yeti', 'octavia', 'zafira', 'mii', 'rx_reihe',\n",
              "       '6er', 'modus', 'fox', 'matiz', 'beetle', 'c1', 'rio', 'touareg',\n",
              "       'logan', 'spider', 'cuore', 's_max', 'a2', 'galaxy', 'c3', 'viano',\n",
              "       's_klasse', '1_reihe', 'avensis', 'roomster', 'sl', 'kaefer',\n",
              "       'santa', 'cooper', 'leon', '4_reihe', 'a5', 'sportage', 'laguna',\n",
              "       'ptcruiser', 'clk', 'primera', 'espace', 'x_reihe', 'exeo', '159',\n",
              "       'transit', 'juke', 'qashqai', 'carisma', 'accord', 'corolla',\n",
              "       'lanos', 'phaeton', 'verso', 'swift', 'rav', 'picanto', 'boxster',\n",
              "       'kalos', 'superb', 'stilo', 'alhambra', 'mx_reihe', 'roadster',\n",
              "       'ypsilon', 'cayenne', 'galant', 'justy', '90', 'sirion',\n",
              "       'crossfire', 'agila', 'duster', 'v50', '500', 'c_reihe',\n",
              "       'v_klasse', 'm_klasse', 'yaris', 'c5', 'aygo', 'almera',\n",
              "       'seicento', 'cc', 'fusion', '911', 'bora', 'forfour', 'm_reihe',\n",
              "       'cl', 'tigra', '300c', 'cr_reihe', 'spark', 'v70', 'kuga',\n",
              "       'x_type', 'ducato', 's_type', 'x_trail', 'toledo', 'altea',\n",
              "       'voyager', 'calibra', 'carnival', 'bravo', 'antara', 'tucson',\n",
              "       'citigo', 'jimny', 'wrangler', 'lybra', 'q7', 'lancer', 'captiva',\n",
              "       'discovery', 'freelander', 'sandero', 'note', '900', 'cherokee',\n",
              "       'clubman', 'samara', 'defender', 'cx_reihe', 'legacy', '601',\n",
              "       'pajero', 'auris', 'c2', 'niva', 's60', 'nubira', 'vivaro',\n",
              "       'g_klasse', 'lodgy', '850', 'range_rover', 'q3', 'serie_2', 'glk',\n",
              "       'charade', 'croma', 'outlander', 'doblo', 'musa', 'move', '9000',\n",
              "       'v60', '145', '200', 'b_max', 'range_rover_sport', 'aveo',\n",
              "       'terios', 'rangerover', 'q5', 'range_rover_evoque', 'materia',\n",
              "       'delta', 'gl', 'kalina', 'elefantino', 'i3', 'amarok', 'kappa',\n",
              "       'serie_3', 'serie_1'], dtype=object)"
            ]
          },
          "execution_count": 22,
          "metadata": {},
          "output_type": "execute_result"
        }
      ],
      "source": [
        "# Выведем уникальные значения столбца \"model\"\n",
        "df[\"model\"].unique()"
      ]
    },
    {
      "cell_type": "markdown",
      "metadata": {
        "id": "5sd4ALSKWft1"
      },
      "source": [
        "Столбец содержит 19705 пропусков, это очень большое количество, чтоб их удалять. Заменим на категорию 'unknown'"
      ]
    },
    {
      "cell_type": "code",
      "execution_count": null,
      "metadata": {
        "id": "qXlBeuD-Wft1"
      },
      "outputs": [],
      "source": [
        "df[\"model\"] = df[\"model\"].fillna(\"unknown\")"
      ]
    },
    {
      "cell_type": "code",
      "execution_count": null,
      "metadata": {
        "scrolled": false,
        "id": "GUjxNLspWft2",
        "outputId": "068f5d23-5a75-4dd3-dedf-eb08b5bf87e4"
      },
      "outputs": [
        {
          "data": {
            "text/plain": [
              "0"
            ]
          },
          "metadata": {},
          "output_type": "display_data"
        }
      ],
      "source": [
        "# Проверим количество пропусков\n",
        "display(df[\"model\"].isna().sum())"
      ]
    },
    {
      "cell_type": "markdown",
      "metadata": {
        "id": "_cwTZrjWWft2"
      },
      "source": [
        "\"kilometer\""
      ]
    },
    {
      "cell_type": "code",
      "execution_count": null,
      "metadata": {
        "scrolled": false,
        "id": "F6zxEC9xWft2",
        "outputId": "7c9702ef-8c81-4756-f009-ea8f0822f712"
      },
      "outputs": [
        {
          "name": "stdout",
          "output_type": "stream",
          "text": [
            "[5000, 10000, 20000, 30000, 40000, 50000, 60000, 70000, 80000, 90000, 100000, 125000, 150000]\n"
          ]
        }
      ],
      "source": [
        "# Выведем уникальные значения столбца \"kilometer\"\n",
        "print(sorted(df[\"kilometer\"].unique()))"
      ]
    },
    {
      "cell_type": "markdown",
      "metadata": {
        "id": "h1kqpLrOWft3"
      },
      "source": [
        "Все значения \"kilometer\" ункальны, дубликатов и пропусков нет."
      ]
    },
    {
      "cell_type": "code",
      "execution_count": null,
      "metadata": {
        "id": "gxlmQX2YWft3",
        "outputId": "e6a2728f-6a37-4ac8-c7ee-c4c9ab7a1254"
      },
      "outputs": [
        {
          "name": "stdout",
          "output_type": "stream",
          "text": [
            "[0, 1, 2, 3, 4, 5, 6, 7, 8, 9, 10, 11, 12]\n"
          ]
        }
      ],
      "source": [
        "# Выведем уникальные значения столбца \"registration_month\", чтобы выявить 13ю категорию\n",
        "print(sorted(df[\"registration_month\"].unique()))"
      ]
    },
    {
      "cell_type": "markdown",
      "metadata": {
        "id": "WJea7FMuWft3"
      },
      "source": [
        "Это значение 0 — вероятно, пропуск или ошибка в данных (например, месяц регистрации не указан). Оставим как есть, отдельной категорией."
      ]
    },
    {
      "cell_type": "markdown",
      "metadata": {
        "id": "LADd63tFWft4"
      },
      "source": [
        "\"fuel_type\""
      ]
    },
    {
      "cell_type": "code",
      "execution_count": null,
      "metadata": {
        "id": "eYlImAOlWft4",
        "outputId": "06bebc8a-8ff9-43b1-c8f3-2d0b3be3a710"
      },
      "outputs": [
        {
          "data": {
            "text/plain": [
              "array(['petrol', 'gasoline', nan, 'lpg', 'other', 'hybrid', 'cng',\n",
              "       'electric'], dtype=object)"
            ]
          },
          "execution_count": 27,
          "metadata": {},
          "output_type": "execute_result"
        }
      ],
      "source": [
        "# Выведем уникальные значения столбца \"fuel_type\"\n",
        "df[\"fuel_type\"].unique()"
      ]
    },
    {
      "cell_type": "code",
      "execution_count": null,
      "metadata": {
        "id": "ZEA1lA2uWft5"
      },
      "outputs": [],
      "source": [
        "df['fuel_type'] = df['fuel_type'].replace({'gasoline': 'petrol'})"
      ]
    },
    {
      "cell_type": "code",
      "execution_count": null,
      "metadata": {
        "scrolled": true,
        "id": "MyrWuoxjWft6",
        "outputId": "342dd4ed-4e90-4008-d579-7c3cfd407cd5"
      },
      "outputs": [
        {
          "data": {
            "text/plain": [
              "0"
            ]
          },
          "metadata": {},
          "output_type": "display_data"
        }
      ],
      "source": [
        "# Заменим пропуски на категорию 'unknown'\n",
        "df[\"fuel_type\"] = df[\"fuel_type\"].fillna(\"unknown\")\n",
        "\n",
        "display(df[\"fuel_type\"].isna().sum())"
      ]
    },
    {
      "cell_type": "code",
      "execution_count": null,
      "metadata": {
        "id": "8AgItSpOWft6",
        "outputId": "778db889-6505-4d1e-8406-ea210940370f"
      },
      "outputs": [
        {
          "data": {
            "text/plain": [
              "array(['petrol', 'unknown', 'lpg', 'other', 'hybrid', 'cng', 'electric'],\n",
              "      dtype=object)"
            ]
          },
          "execution_count": 30,
          "metadata": {},
          "output_type": "execute_result"
        }
      ],
      "source": [
        "# Проверяем\n",
        "df[\"fuel_type\"].unique()"
      ]
    },
    {
      "cell_type": "markdown",
      "metadata": {
        "id": "YcoONy_QWft6"
      },
      "source": [
        "\"brand\""
      ]
    },
    {
      "cell_type": "code",
      "execution_count": null,
      "metadata": {
        "scrolled": true,
        "id": "BNs76VUKWft6",
        "outputId": "2bf05069-3951-4d01-8cef-a8536a29cbb2"
      },
      "outputs": [
        {
          "data": {
            "text/plain": [
              "array(['volkswagen', 'audi', 'jeep', 'skoda', 'bmw', 'peugeot', 'ford',\n",
              "       'mazda', 'nissan', 'renault', 'mercedes_benz', 'seat', 'honda',\n",
              "       'fiat', 'opel', 'mini', 'smart', 'hyundai', 'sonstige_autos',\n",
              "       'alfa_romeo', 'subaru', 'volvo', 'mitsubishi', 'kia', 'suzuki',\n",
              "       'lancia', 'citroen', 'toyota', 'chevrolet', 'dacia', 'daihatsu',\n",
              "       'trabant', 'saab', 'chrysler', 'jaguar', 'daewoo', 'porsche',\n",
              "       'rover', 'land_rover', 'lada'], dtype=object)"
            ]
          },
          "execution_count": 31,
          "metadata": {},
          "output_type": "execute_result"
        }
      ],
      "source": [
        "# Выведем уникальные значения столбца \"brand\"\n",
        "df[\"brand\"].unique()"
      ]
    },
    {
      "cell_type": "markdown",
      "metadata": {
        "id": "fWb1uxrzWft7"
      },
      "source": [
        "Все значения \"brand\" ункальны, дубликатов и пропусков нет."
      ]
    },
    {
      "cell_type": "markdown",
      "metadata": {
        "id": "btx504F6Wft7"
      },
      "source": [
        "\"repaired\""
      ]
    },
    {
      "cell_type": "code",
      "execution_count": null,
      "metadata": {
        "id": "TFINytZ3Wft7",
        "outputId": "0ce89043-8b54-45c3-8be6-db8e7d44209a"
      },
      "outputs": [
        {
          "data": {
            "text/plain": [
              "array([nan, 'yes', 'no'], dtype=object)"
            ]
          },
          "execution_count": 32,
          "metadata": {},
          "output_type": "execute_result"
        }
      ],
      "source": [
        "# Выведем уникальные значения столбца \"repaired\"\n",
        "df[\"repaired\"].unique()"
      ]
    },
    {
      "cell_type": "markdown",
      "metadata": {
        "id": "MfgB0G-3Wft7"
      },
      "source": [
        "Столбец содержит Repaired — 71 154 пропуска. Исправим на категорию \"unknown\""
      ]
    },
    {
      "cell_type": "code",
      "execution_count": null,
      "metadata": {
        "id": "e77oeBgVWft8",
        "outputId": "78c0a09f-415c-4031-fed5-0fa5f9f1fc0b"
      },
      "outputs": [
        {
          "data": {
            "text/plain": [
              "0"
            ]
          },
          "metadata": {},
          "output_type": "display_data"
        }
      ],
      "source": [
        "# Заменим пропуски на категорию 'unknown'\n",
        "df[\"repaired\"] = df[\"repaired\"].fillna(\"unknown\")\n",
        "\n",
        "display(df[\"repaired\"].isna().sum())"
      ]
    },
    {
      "cell_type": "code",
      "execution_count": null,
      "metadata": {
        "scrolled": true,
        "id": "OcJKUp89Wft8",
        "outputId": "8819c99d-3981-4d91-ca73-465d4e780f14"
      },
      "outputs": [
        {
          "data": {
            "text/plain": [
              "array(['unknown', 'yes', 'no'], dtype=object)"
            ]
          },
          "execution_count": 34,
          "metadata": {},
          "output_type": "execute_result"
        }
      ],
      "source": [
        "# Проверим\n",
        "df[\"repaired\"].unique()"
      ]
    },
    {
      "cell_type": "markdown",
      "metadata": {
        "id": "jPUtuAqRWft8"
      },
      "source": [
        "Столбцы NumberOfPictures, PostalCode, LastSeen рассматривать не будем, поскольку планируется их удалить"
      ]
    },
    {
      "cell_type": "markdown",
      "metadata": {
        "id": "-2UUth1vWft8"
      },
      "source": [
        "Столбец price содержит непрерывные числовые данные, не треующие проверки на скрытые дубли.Не содеджит пропусков."
      ]
    },
    {
      "cell_type": "markdown",
      "metadata": {
        "id": "XmM0CrlRWft9"
      },
      "source": [
        "*Коррекция типа данных*"
      ]
    },
    {
      "cell_type": "markdown",
      "metadata": {
        "id": "EC-v7LOQWft9"
      },
      "source": [
        "Преобразуем в категориальный тип данных\n",
        "- \"registration_year\", \"registration_month\", как числовые, не имеющие цифрового значения,\n",
        "- \"kilometer\" как показатель с ограниченным набором значений, имеющий значение категорий\n",
        "- \"vehicle_type\", \"gearbox\", \"model\", \"fuel_type\", \"repaired\", \"brand\" - имеющие тип 'object', для сокращения объёма используемой памяти, ускорения вычислений и упрощения кодирования."
      ]
    },
    {
      "cell_type": "code",
      "execution_count": null,
      "metadata": {
        "id": "_qKufgWpWft9"
      },
      "outputs": [],
      "source": [
        "cat_cols = [\n",
        "    \"kilometer\",\n",
        "    \"vehicle_type\",\n",
        "    \"gearbox\",\n",
        "    \"model\",\n",
        "    \"fuel_type\",\n",
        "    \"repaired\",\n",
        "    \"brand\",\n",
        "]\n",
        "\n",
        "# Используем цикл для преобразования типа данных\n",
        "for col in cat_cols:\n",
        "    df[col] = df[col].astype(\"category\")"
      ]
    },
    {
      "cell_type": "code",
      "execution_count": null,
      "metadata": {
        "id": "XeN0zhQrWft-"
      },
      "outputs": [],
      "source": [
        "# Удалим лишние столбцы\n",
        "df = df.drop(columns=[\"date_crawled\", \"date_created\", \"postal_code\", \"last_seen\"])"
      ]
    },
    {
      "cell_type": "code",
      "execution_count": null,
      "metadata": {
        "scrolled": false,
        "id": "YbwZ0VdeWft-",
        "outputId": "98d380b5-56ad-46f8-a7de-6f6b093facc3"
      },
      "outputs": [
        {
          "name": "stdout",
          "output_type": "stream",
          "text": [
            "<class 'pandas.core.frame.DataFrame'>\n",
            "Int64Index: 334407 entries, 0 to 354368\n",
            "Data columns (total 11 columns):\n",
            " #   Column              Non-Null Count   Dtype   \n",
            "---  ------              --------------   -----   \n",
            " 0   price               334407 non-null  int64   \n",
            " 1   vehicle_type        334407 non-null  category\n",
            " 2   registration_year   334407 non-null  int64   \n",
            " 3   gearbox             334407 non-null  category\n",
            " 4   power               334407 non-null  int64   \n",
            " 5   model               334407 non-null  category\n",
            " 6   kilometer           334407 non-null  category\n",
            " 7   registration_month  334407 non-null  int64   \n",
            " 8   fuel_type           334407 non-null  category\n",
            " 9   brand               334407 non-null  category\n",
            " 10  repaired            334407 non-null  category\n",
            "dtypes: category(7), int64(4)\n",
            "memory usage: 15.3 MB\n"
          ]
        }
      ],
      "source": [
        "# Проверим произведенные преобразования\n",
        "df.info()"
      ]
    },
    {
      "cell_type": "markdown",
      "metadata": {
        "id": "ZIYxH9WkWft-"
      },
      "source": [
        "Во всех столбцах одинаковое количество наблюдений (нет пропусков),"
      ]
    },
    {
      "cell_type": "code",
      "execution_count": null,
      "metadata": {
        "id": "TxA28M7DWft_"
      },
      "outputs": [],
      "source": [
        "del cat_cols"
      ]
    },
    {
      "cell_type": "markdown",
      "metadata": {
        "id": "BaZGax1QWft_"
      },
      "source": [
        "**Промежуточные выводы**\n",
        "\n",
        "Наименования столбцов приведены к змеиному регистру (snake_case).\n",
        "\n",
        "Удалены явные дубликаты.\n",
        "\n",
        "В столбцах \"vehicle_type», \"gearbox», \"fuel_type», «repaired\" gропуски заменены на заглушку.\n",
        "\n",
        "Определен интервал столбца \"registration_year\" - верхней границей  следует считать март 2016 года (включительно), нижняя граница - не ранее 1910 года.\n",
        "\n",
        "Преобразованы в категориальный тип данных\n",
        "* \"kilometer\" как показатель с ограниченным набором значений, имеющий значение категорий\n",
        "* \"vehicle_type\", \"gearbox\", \"model\", \"fuel_type\", \"repaired\", \"brand\" - имеющие тип 'object', для сокращения объёма используемой памяти, ускорения вычислений и упрощения кодирования.\n",
        "\n"
      ]
    },
    {
      "cell_type": "markdown",
      "metadata": {
        "id": "ajoa_FFOWft_"
      },
      "source": [
        "## Исследовательский анализ данных"
      ]
    },
    {
      "cell_type": "markdown",
      "metadata": {
        "id": "hVeWDTc6WfuA"
      },
      "source": [
        "Проведем исследовательский анализ данных"
      ]
    },
    {
      "cell_type": "markdown",
      "metadata": {
        "id": "Mxuv9QwOWfuA"
      },
      "source": [
        "Числовые признаки\n",
        "num_cols = [\"price\", \"power\"]\n",
        "\n",
        "#Категориальные признаки\n",
        "cat_cols = [\n",
        "    \"vehicle_type\",\n",
        "    \"registration_year\",\n",
        "    \"gearbox\",\n",
        "    \"model\",\n",
        "    \"kilometer\",\n",
        "    \"registration_month\",\n",
        "    \"fuel_type\",\n",
        "    \"repaired\",\n",
        "    \"brand\",\n",
        "]"
      ]
    },
    {
      "cell_type": "markdown",
      "metadata": {
        "id": "tb4EhlMoWfuA"
      },
      "source": [
        "***Числовые признаки***"
      ]
    },
    {
      "cell_type": "code",
      "execution_count": null,
      "metadata": {
        "id": "xGFiG9SZWfuA"
      },
      "outputs": [],
      "source": [
        "# Создадим функцию построения гистограммы и боксплота для количественных данных датафреймов\n",
        "def plot_quantitative_column(data, column_name):\n",
        "    plt.figure(figsize=(12, 6))\n",
        "\n",
        "    # Вычисляем среднее и медиану\n",
        "    mean_value = data[column_name].mean()\n",
        "    median_value = data[column_name].median()\n",
        "\n",
        "    # Гистограмма\n",
        "    plt.subplot(1, 2, 1)\n",
        "    sns.histplot(data[column_name], kde=True)\n",
        "    plt.title(f\"Распределение {column_name}\")\n",
        "\n",
        "    # Добавляем линии среднего и медианы\n",
        "    plt.axvline(\n",
        "        mean_value, color=\"red\", linestyle=\"--\", label=f\"Среднее: {mean_value:.2f}\"\n",
        "    )\n",
        "    plt.axvline(\n",
        "        median_value, color=\"green\", linestyle=\"-\", label=f\"Медиана: {median_value:.2f}\"\n",
        "    )\n",
        "\n",
        "    plt.legend()  # Отображаем легенду\n",
        "\n",
        "    # Boxplot\n",
        "    plt.subplot(1, 2, 2)\n",
        "    sns.boxplot(y=df[column_name])\n",
        "    plt.title(f\"Boxplot {column_name}\")\n",
        "\n",
        "    plt.tight_layout()\n",
        "    plt.show()"
      ]
    },
    {
      "cell_type": "markdown",
      "metadata": {
        "id": "UiHPGBJbWfuB"
      },
      "source": [
        "1. \"price\""
      ]
    },
    {
      "cell_type": "code",
      "execution_count": null,
      "metadata": {
        "scrolled": false,
        "id": "W6BjY17tWfuB"
      },
      "outputs": [],
      "source": [
        "# график закомментирован, чтобы не убивать ядро\n",
        "#plot_quantitative_column(df, \"price\")"
      ]
    },
    {
      "cell_type": "markdown",
      "metadata": {
        "id": "nnuvm_SBWfuB"
      },
      "source": [
        "График имеет вид ненормального распределения, скошенного вправо.\n",
        "\n",
        "На гистограмме видно большое количество показателей, равных нулю и около. Минимальная цена 0 или очень низкая (до 500 евро) — скорее всего, ошибки или некорректные данные."
      ]
    },
    {
      "cell_type": "markdown",
      "metadata": {
        "id": "EGqBlIRiWfuB"
      },
      "source": [
        "По данным из обзоров в сети интернет, бюджетные автомобили в Европе стоят от нескольких тысяч евро, а самые дешёвые варианты начинаются примерно с 1000–1500 евро. Цена в 500 евро — это скорее исключение или автомобиль с серьёзными проблемами.\n",
        "Таким образом, выбор нижней границы в 500 евро — это компромисс между реальной минимальной стоимостью работоспособных автомобилей на рынке, экономической целесообразностью покупки и владения и исключением из анализа аномальных и ошибочных данных с нереалистично низкими ценами."
      ]
    },
    {
      "cell_type": "code",
      "execution_count": null,
      "metadata": {
        "id": "KmTqomORWfuB",
        "outputId": "2b7b9e07-9555-45a2-f56f-364bad711d77"
      },
      "outputs": [
        {
          "data": {
            "text/plain": [
              "count   334407.00\n",
              "mean      4505.20\n",
              "std       4558.04\n",
              "min          0.00\n",
              "25%       1100.00\n",
              "50%       2800.00\n",
              "75%       6500.00\n",
              "max      20000.00\n",
              "Name: price, dtype: float64"
            ]
          },
          "execution_count": 41,
          "metadata": {},
          "output_type": "execute_result"
        }
      ],
      "source": [
        "# Посмотрим описательную статистику показателя до коррекции\n",
        "df[\"price\"].describe()"
      ]
    },
    {
      "cell_type": "markdown",
      "metadata": {
        "id": "V7kcDjHrWfuC"
      },
      "source": [
        "Максимальная цена 20 000 — редкие случаи или выбросы, особенно если речь о б/у автомобилях.\n",
        "\n",
        "Цены менее 500 заменим на медиану, а выборсы верхней границы отбросим с помощью 99-го процентиля."
      ]
    },
    {
      "cell_type": "code",
      "execution_count": null,
      "metadata": {
        "id": "gXMTnzRLWfuC"
      },
      "outputs": [],
      "source": [
        "# Заменим на медиану цены ниже 500\n",
        "median_price = df[df[\"price\"] > 500][\"price\"].median()\n",
        "df.loc[df[\"price\"] < 500, \"price\"] = median_price"
      ]
    },
    {
      "cell_type": "code",
      "execution_count": null,
      "metadata": {
        "id": "bG6ChEzWWfuC"
      },
      "outputs": [],
      "source": [
        "# Используем 99-й процентиль, чтобы отсеять экстремальные выбросы\n",
        "upper_limit = df[\"price\"].quantile(0.99)\n",
        "df = df[df[\"price\"] <= upper_limit]"
      ]
    },
    {
      "cell_type": "code",
      "execution_count": null,
      "metadata": {
        "id": "e2wWXab9WfuC"
      },
      "outputs": [],
      "source": [
        "# Проверим\n",
        "# график закомментирован, чтобы не убивать ядро\n",
        "#plot_quantitative_column(df, \"price\")"
      ]
    },
    {
      "cell_type": "code",
      "execution_count": null,
      "metadata": {
        "scrolled": false,
        "id": "E4WZuEDWWfuD",
        "outputId": "742dc1b7-97ee-45ed-ba9e-d29277653f23"
      },
      "outputs": [
        {
          "data": {
            "text/plain": [
              "count   331063.00\n",
              "mean      4676.04\n",
              "std       4114.09\n",
              "min        500.00\n",
              "25%       1600.00\n",
              "50%       3400.00\n",
              "75%       6400.00\n",
              "max      18888.00\n",
              "Name: price, dtype: float64"
            ]
          },
          "execution_count": 45,
          "metadata": {},
          "output_type": "execute_result"
        }
      ],
      "source": [
        "df[\"price\"].describe()"
      ]
    },
    {
      "cell_type": "markdown",
      "metadata": {
        "id": "t198EqZjWfuD"
      },
      "source": [
        "Медиана стала ближе в среднему"
      ]
    },
    {
      "cell_type": "markdown",
      "metadata": {
        "id": "CYixTM_4WfuD"
      },
      "source": [
        "2. \"power\""
      ]
    },
    {
      "cell_type": "code",
      "execution_count": null,
      "metadata": {
        "scrolled": true,
        "id": "dWwRZoT9WfuD"
      },
      "outputs": [],
      "source": [
        "# график закомментирован, чтобы не убивать ядро\n",
        "#plot_quantitative_column(df, \"power\")"
      ]
    },
    {
      "cell_type": "markdown",
      "metadata": {
        "id": "gLPY-RQ8WfuE"
      },
      "source": [
        "Среднее и медиана очень близки друг от друга, но на графике видно очень много выбросов в верхнюю сторону"
      ]
    },
    {
      "cell_type": "code",
      "execution_count": null,
      "metadata": {
        "scrolled": false,
        "id": "bkp5WxbrWfuE",
        "outputId": "c6ed8c56-f2ea-4910-dc56-1e0e3ca0aa0d"
      },
      "outputs": [
        {
          "data": {
            "text/plain": [
              "count   331063.00\n",
              "mean       110.58\n",
              "std        184.18\n",
              "min          0.00\n",
              "25%         69.00\n",
              "50%        105.00\n",
              "75%        143.00\n",
              "max      20000.00\n",
              "Name: power, dtype: float64"
            ]
          },
          "execution_count": 47,
          "metadata": {},
          "output_type": "execute_result"
        }
      ],
      "source": [
        "# Посмотрим описательную статистику показателя до коррекции\n",
        "df[\"power\"].describe()"
      ]
    },
    {
      "cell_type": "markdown",
      "metadata": {
        "id": "TATyTYiNWfuE"
      },
      "source": [
        "Мощность 0 л.с. — явно ошибка или пропуск, так как автомобиль не может иметь нулевую мощность.\n",
        "Разумно установить нижнюю границу около 20–30 л.с., чтобы исключить технические ошибки и аномалии.\n",
        "\n",
        "Максимальное значение 20000 л.с. — это явный выброс, не соответствующий реальным автомобилям.\n",
        "Реальные легковые автомобили редко имеют мощность выше 600–700 л.с. (исключая супер- и спорткары).\n",
        "Для адач машинного обучения достаточно ограничиться верхней границей около 600 л.с.\n",
        "\n",
        "Заменим на медиану значения, не удовлетворяющие разумным границам"
      ]
    },
    {
      "cell_type": "code",
      "execution_count": null,
      "metadata": {
        "id": "R_d3EKycWfuE"
      },
      "outputs": [],
      "source": [
        "# Вычисляем медиану для значений power в диапазоне [20, 600]\n",
        "median_power = df[(df[\"power\"] >= 20) & (df[\"power\"] <= 600)][\"power\"].median()\n",
        "\n",
        "# Заменяем значения вне интервала на медиану\n",
        "df.loc[(df[\"power\"] < 20) | (df[\"power\"] > 600), \"power\"] = median_power"
      ]
    },
    {
      "cell_type": "code",
      "execution_count": null,
      "metadata": {
        "scrolled": true,
        "id": "dLphkLtyWfuF"
      },
      "outputs": [],
      "source": [
        "# график закомментирован, чтобы не убивать ядро\n",
        "#plot_quantitative_column(df, \"power\")"
      ]
    },
    {
      "cell_type": "code",
      "execution_count": null,
      "metadata": {
        "scrolled": true,
        "id": "DomxMtofWfuF",
        "outputId": "a16bb9e6-e62c-41e8-8fe7-503a8ccb14fa"
      },
      "outputs": [
        {
          "data": {
            "text/plain": [
              "count   331063.00\n",
              "mean       118.96\n",
              "std         50.25\n",
              "min         20.00\n",
              "25%         84.00\n",
              "50%        110.00\n",
              "75%        143.00\n",
              "max        600.00\n",
              "Name: power, dtype: float64"
            ]
          },
          "execution_count": 50,
          "metadata": {},
          "output_type": "execute_result"
        }
      ],
      "source": [
        "# Посмотрим описательную статистику показателя после коррекции\n",
        "df[\"power\"].describe()"
      ]
    },
    {
      "cell_type": "markdown",
      "metadata": {
        "id": "EmjrTm2lWfuF"
      },
      "source": [
        "После коррекции данные пригодны для машинного обучения"
      ]
    },
    {
      "cell_type": "markdown",
      "metadata": {
        "id": "AF_cYcz4WfuG"
      },
      "source": [
        "***Категориальные признаки***"
      ]
    },
    {
      "cell_type": "markdown",
      "metadata": {
        "id": "os2ONd_ZWfuG"
      },
      "source": [
        "categorical_cols = [\n",
        "    \"vehicle_type\",\n",
        "    \"registration_year\",\n",
        "    \"gearbox\",\n",
        "    \"model\",\n",
        "    \"kilometer\",\n",
        "    \"registration_month\",\n",
        "    \"fuel_type\",\n",
        "    \"repaired\",\n",
        "    \"brand\",\n",
        "]"
      ]
    },
    {
      "cell_type": "code",
      "execution_count": null,
      "metadata": {
        "id": "1bVeOGZbWfuG"
      },
      "outputs": [],
      "source": [
        "# Создадим функцию построения столбчатой и круговой диаграмм для категориальных и дискретных данных датафреймов\n",
        "def plot_column(data, column_name):\n",
        "    value_counts = data[column_name].value_counts()\n",
        "\n",
        "    fig, axs = plt.subplots(1, 2, figsize=(18, 9))\n",
        "\n",
        "    # Вызов countplot\n",
        "    sns.countplot(x=column_name, data=data, ax=axs[0])\n",
        "    axs[0].set_title(f\"Распределение {column_name}\")\n",
        "    axs[0].tick_params(axis=\"x\", rotation=45)\n",
        "    axs[0].set_xlabel(column_name)\n",
        "    axs[0].set_ylabel(\"Количество\")\n",
        "\n",
        "    # Круговая диаграмма\n",
        "    value_counts.plot.pie(autopct=\"%1.1f%%\", startangle=90, ax=axs[1])\n",
        "    axs[1].set_title(f\"Распределение {column_name}\")\n",
        "    axs[1].axis(\"equal\")\n",
        "\n",
        "    plt.tight_layout()\n",
        "    plt.show()"
      ]
    },
    {
      "cell_type": "markdown",
      "metadata": {
        "id": "4RUM6NPmWfuH"
      },
      "source": [
        "3. \"vehicle_type\""
      ]
    },
    {
      "cell_type": "code",
      "execution_count": null,
      "metadata": {
        "scrolled": false,
        "id": "KqpNZdjZWfuH"
      },
      "outputs": [],
      "source": [
        "# plot_column(df, \"vehicle_type\")"
      ]
    },
    {
      "cell_type": "markdown",
      "metadata": {
        "id": "CyEMzTT9WfuH"
      },
      "source": [
        "Распределение мультимодальное (несколько категорий имеют высокие и примерно равные частоты.)"
      ]
    },
    {
      "cell_type": "markdown",
      "metadata": {
        "id": "G1eNJKqHWfuI"
      },
      "source": [
        "4. \"gearbox\""
      ]
    },
    {
      "cell_type": "code",
      "execution_count": null,
      "metadata": {
        "id": "QIavwD3EWfuI"
      },
      "outputs": [],
      "source": [
        "# plot_column(df, \"gearbox\")"
      ]
    },
    {
      "cell_type": "markdown",
      "metadata": {
        "id": "frjnVBaNWfuI"
      },
      "source": [
        "\"gearbox\" имеет унимодальное распределение (одна категория явно доминирует по частоте, остальные встречаются реже.)"
      ]
    },
    {
      "cell_type": "markdown",
      "metadata": {
        "id": "1HqOX5FuWfuI"
      },
      "source": [
        "5. \"registration_month\""
      ]
    },
    {
      "cell_type": "code",
      "execution_count": null,
      "metadata": {
        "scrolled": false,
        "id": "GFqjViyUWfuI"
      },
      "outputs": [],
      "source": [
        "# plot_column(df, \"registration_month\")"
      ]
    },
    {
      "cell_type": "markdown",
      "metadata": {
        "id": "pyClKwjiWfuJ"
      },
      "source": [
        "Распределение мультимодальное (несколько категорий имеют высокие и примерно равные частоты.)"
      ]
    },
    {
      "cell_type": "markdown",
      "metadata": {
        "id": "91V4HB32WfuJ"
      },
      "source": [
        "6. \"repaired\""
      ]
    },
    {
      "cell_type": "code",
      "execution_count": null,
      "metadata": {
        "scrolled": false,
        "id": "xlke7SdnWfuJ"
      },
      "outputs": [],
      "source": [
        "# plot_column(df, \"repaired\")"
      ]
    },
    {
      "cell_type": "markdown",
      "metadata": {
        "id": "2m6CQLnsWfuJ"
      },
      "source": [
        "\"repaired\" имеет унимодальное распределение (одна категория явно доминирует по частоте, остальные встречаются реже.)"
      ]
    },
    {
      "cell_type": "markdown",
      "metadata": {
        "id": "bXzzVWiRWfuJ"
      },
      "source": [
        "В остальных категориальных признаках слишком много категорий, что затрудняло построить наглядные графики распределений (не помещались столбцы, наименования показателей). Было решено создать функцию, строящую горизонтальную гистограмму для категориального признака, отображая только топ-N самых частотных категорий, а остальные категории объединяющую в категорию «Other»."
      ]
    },
    {
      "cell_type": "code",
      "execution_count": null,
      "metadata": {
        "id": "6aseL1UIWfuK"
      },
      "outputs": [],
      "source": [
        "def plot_top_n_categories(data, column_name, top_n=10):\n",
        "    # Считаем частоты всех категорий\n",
        "    counts = data[column_name].value_counts()\n",
        "\n",
        "    # Выбираем топ-N категорий\n",
        "    top_categories = counts.nlargest(top_n).index\n",
        "\n",
        "    # Создаем новую серию, где категории вне топ-N заменены на 'Other'\n",
        "    data_mod = data[column_name].apply(lambda x: x if x in top_categories else \"Other\")\n",
        "\n",
        "    # Считаем частоты после замены\n",
        "    counts_mod = data_mod.value_counts().sort_values()\n",
        "\n",
        "    # Строим горизонтальную столбчатую диаграмму\n",
        "    plt.figure(figsize=(10, 6))\n",
        "    sns.barplot(x=counts_mod.values, y=counts_mod.index, palette=\"viridis\")\n",
        "    plt.xlabel(\"Количество\")\n",
        "    plt.ylabel(column_name)\n",
        "    plt.title(f'Топ-{top_n} категорий в {column_name} (остальные объединены в \"Other\")')\n",
        "    plt.tight_layout()\n",
        "    plt.show()"
      ]
    },
    {
      "cell_type": "markdown",
      "metadata": {
        "id": "QZ0NtXKhWfuK"
      },
      "source": [
        "7. \"registration_year\""
      ]
    },
    {
      "cell_type": "code",
      "execution_count": null,
      "metadata": {
        "scrolled": true,
        "id": "WD3LT-8lWfuK"
      },
      "outputs": [],
      "source": [
        "# plot_top_n_categories(df, \"registration_year\", top_n=50)"
      ]
    },
    {
      "cell_type": "markdown",
      "metadata": {
        "id": "3CxUhuBLWfuK"
      },
      "source": [
        "\"registration_year\" имеет мультимодальное распредление"
      ]
    },
    {
      "cell_type": "markdown",
      "metadata": {
        "id": "BJLWKxBjWfuL"
      },
      "source": [
        "8. \"model\""
      ]
    },
    {
      "cell_type": "code",
      "execution_count": null,
      "metadata": {
        "scrolled": false,
        "id": "EOKjmobXWfuL"
      },
      "outputs": [],
      "source": [
        "# plot_top_n_categories(df, \"model\", top_n=40)"
      ]
    },
    {
      "cell_type": "markdown",
      "metadata": {
        "id": "6_5ADmy2WfuL"
      },
      "source": [
        "\"model\" имеет мультимодальное распредление"
      ]
    },
    {
      "cell_type": "markdown",
      "metadata": {
        "id": "e6soHcidWfuL"
      },
      "source": [
        "9. \"kilometer\""
      ]
    },
    {
      "cell_type": "code",
      "execution_count": null,
      "metadata": {
        "scrolled": false,
        "id": "VTbcifZaWfuL"
      },
      "outputs": [],
      "source": [
        "# plot_top_n_categories(df, \"kilometer\", top_n=10)"
      ]
    },
    {
      "cell_type": "markdown",
      "metadata": {
        "id": "dnpHERI_WfuM"
      },
      "source": [
        "\"model\" имеет унимодальное распределение"
      ]
    },
    {
      "cell_type": "markdown",
      "metadata": {
        "id": "mmUyWSQtWfuM"
      },
      "source": [
        "10. \"fuel_type\""
      ]
    },
    {
      "cell_type": "markdown",
      "source": [
        "\"fuel_type\" имеет унимодальное распределение"
      ],
      "metadata": {
        "id": "zyhPX6XwYRIQ"
      }
    },
    {
      "cell_type": "markdown",
      "metadata": {
        "id": "_BVTWWuvWfuN"
      },
      "source": [
        "11. \"brand\""
      ]
    },
    {
      "cell_type": "code",
      "execution_count": null,
      "metadata": {
        "id": "CIUWBiNfWfuN"
      },
      "outputs": [],
      "source": [
        "# plot_top_n_categories(df, \"brand\", top_n=50)"
      ]
    },
    {
      "cell_type": "markdown",
      "metadata": {
        "scrolled": true,
        "id": "f9sWEsYyWfuN"
      },
      "source": [
        "\"brand\" имеет мультимодальное распределение"
      ]
    },
    {
      "cell_type": "markdown",
      "metadata": {
        "id": "rbU8jt9qWfuN"
      },
      "source": [
        "Таким образом, распредление числовых данных ненормальное, а у категориальных признаков также неравномерное, имеет мультимодальный или унимодальный характер.\n",
        "Соответсвенно, для машинного обучения следует применять кодирование, или методы снижения размерности"
      ]
    },
    {
      "cell_type": "markdown",
      "metadata": {
        "id": "OEl87w_mWfuN"
      },
      "source": [
        "**Предварительные выводы**"
      ]
    },
    {
      "cell_type": "markdown",
      "metadata": {
        "id": "4SOTW_IFWfuO"
      },
      "source": [
        "После обработки все пропуски и аномалии устранены, данные готовы к дальнейшему анализу и моделированию.\n",
        "\n",
        "Итоговый набор признаков:\n",
        "\n",
        "numeric_cols = [\"price\", \"power\"]\n",
        "\n",
        "categorical_cols = [\n",
        "    \"vehicle_type\",\n",
        "    \"registration_year\",\n",
        "    \"gearbox\",\n",
        "    \"model\",\n",
        "    \"kilometer\",\n",
        "    \"registration_month\",\n",
        "    \"fuel_type\",\n",
        "    \"repaired\",\n",
        "    \"brand\",\n",
        "]"
      ]
    },
    {
      "cell_type": "markdown",
      "metadata": {
        "id": "Zg6G0_C0WfuO"
      },
      "source": [
        "## Корреляционный анализ"
      ]
    },
    {
      "cell_type": "code",
      "execution_count": null,
      "metadata": {
        "id": "fYS8WaeNWfuP"
      },
      "outputs": [],
      "source": [
        "def plot_phik_correlation(data):\n",
        "    corr_matrix = phik_matrix(data, interval_cols=[\"price\", \"power\"])\n",
        "\n",
        "    plt.figure(figsize=(10, 10))\n",
        "    sns.heatmap(corr_matrix, annot=True, cmap=\"coolwarm\", fmt=\".2f\")\n",
        "    plt.title(\"Матрица корреляций Phi_K\")\n",
        "    plt.show()"
      ]
    },
    {
      "cell_type": "code",
      "execution_count": null,
      "metadata": {
        "scrolled": true,
        "id": "jsyGV_ZZWfuP",
        "outputId": "e349cd4f-1ee4-4c3b-9f03-e223ab5bc530"
      },
      "outputs": [
        {
          "data": {
            "image/png": "[encoded data removed]",
            "text/plain": [
              "<Figure size 720x720 with 2 Axes>"
            ]
          },
          "metadata": {
            "needs_background": "light"
          },
          "output_type": "display_data"
        }
      ],
      "source": [
        "\n",
        "plot_phik_correlation(df)"
      ]
    },
    {
      "cell_type": "markdown",
      "metadata": {
        "id": "v5QcKO0IWfuP"
      },
      "source": [
        "Есть коэффициент 1 в паре model/brand,  model/fuel_type и brand/fuel_type, это значит, что эти признаки полностью взаимосвязаны, что  может свидетельствовать об утечке или избыточности.\n",
        "\n",
        "vehicle_type с model и fuel_type 0.89 имеет сильную связь, возможно, тип транспортного средства тесно связан с моделью и типом топлива.\n",
        "\n",
        "Следует проверить, нет ли утечки данных с помощью оценки качества модели на обучающей и тестовой выборках"
      ]
    },
    {
      "cell_type": "markdown",
      "metadata": {
        "id": "x95WRFpaWfuP"
      },
      "source": [
        "Данные готовы для дальнейшего анализа и построения моделей."
      ]
    },
    {
      "cell_type": "code",
      "execution_count": null,
      "metadata": {
        "id": "nkHVOFZvWfuR",
        "outputId": "2620179d-e646-4392-e45f-3a7f5e61a770"
      },
      "outputs": [
        {
          "data": {
            "text/plain": [
              "(331063, 9)"
            ]
          },
          "execution_count": 64,
          "metadata": {},
          "output_type": "execute_result"
        }
      ],
      "source": [
        "# Удалим лишний столбец\n",
        "df = df.drop([\"brand\", \"registration_month\"], axis=1)\n",
        "# Проверим размерность\n",
        "df.shape"
      ]
    },
    {
      "cell_type": "markdown",
      "metadata": {
        "id": "9mF1WeF4WfuR"
      },
      "source": [
        "**Предварительные выводы**"
      ]
    },
    {
      "cell_type": "markdown",
      "metadata": {
        "id": "axyrnjk4WfuR"
      },
      "source": [
        "При анализе корреляции с помощью Phic выявлен коэффициент 1 в парах model/brand,  model/fuel_type и brand/fuel_type, это значит, что эти признаки полностью взаимосвязаны, что  может свидетельствовать об утечке или избыточности.\n",
        "\n",
        "Принято решение об удалении признака brand как лишнего.\n",
        "\n",
        "vehicle_type с model и fuel_type 0.89 имеет сильную связь, возможно, тип транспортного средства тесно связан с моделью и типом топлива.\n",
        "\n",
        "Следует проверить, нет ли утечки данных с помощью оценки качества модели на обучающей и тестовой выборках."
      ]
    },
    {
      "cell_type": "markdown",
      "metadata": {
        "id": "FMYXuM6CWfuR"
      },
      "source": [
        "*Оптимизация числовых типов данных*"
      ]
    },
    {
      "cell_type": "code",
      "execution_count": null,
      "metadata": {
        "id": "DKUXjpnhWfuS"
      },
      "outputs": [],
      "source": [
        "# Оптимизация числовых типов данных\n",
        "def optimize_memory_usage(df: pd.DataFrame, print_size: bool=True) -> pd.DataFrame:\n",
        "    '''\n",
        "    Function optimizes memory usage in dataframe\n",
        "    df: pd.DataFrame - data table\n",
        "    print_size: bool - display of optimization results\n",
        "    return pd.DataFrame - amount of optimized memory\n",
        "    '''\n",
        "    numerics = ['int16', 'int32', 'int64', 'float16', 'float32', 'float64'] # Типы, которые будем проверять на оптимизацию\n",
        "    # Размер занимаемой памяти до оптимизации (в Мб)\n",
        "    before_size = df.memory_usage().sum() / 1024**2\n",
        "    for column in df.columns:\n",
        "        column_type = df[column].dtypes\n",
        "        if column_type in numerics:\n",
        "            column_min = df[column].min()\n",
        "            column_max = df[column].max()\n",
        "            if str(column_type).startswith('int'):\n",
        "                if column_min > np.iinfo(np.int8).min and column_max < np.iinfo(np.int8).max:\n",
        "                    df[column] = df[column].astype(np.int8)\n",
        "                elif column_min > np.iinfo(np.int16).min and column_max < np.iinfo(np.int16).max:\n",
        "                    df[column] = df[column].astype(np.int16)\n",
        "                elif column_min > np.iinfo(np.int32).min and column_max < np.iinfo(np.int32).max:\n",
        "                    df[column] = df[column].astype(np.int32)\n",
        "                elif column_min > np.iinfo(np.int64).min and column_max < np.iinfo(np.int64).max:\n",
        "                    df[column] = df[column].astype(np.int64)\n",
        "            else:\n",
        "                if column_min > np.finfo(np.float32).min and column_max < np.finfo(np.float32).max:\n",
        "                    df[column] = df[column].astype(np.float32)\n",
        "                else:\n",
        "                    df[column] = df[column].astype(np.float64)\n",
        "    # Размер занимаемой памяти после оптимизации (в Мб)\n",
        "    after_size = df.memory_usage().sum() / 1024**2\n",
        "    if print_size: print('Размер использования памяти: до {:5.2f} Mb - после {:5.2f} Mb ({:.1f}%)'\n",
        "                         .format(before_size, after_size, 100 * (before_size - after_size) / before_size))\n",
        "    return df"
      ]
    },
    {
      "cell_type": "code",
      "execution_count": null,
      "metadata": {
        "scrolled": false,
        "id": "ibEG10hnWfuS",
        "outputId": "f782ee30-403f-4f70-e2ea-33cb5a4d0f4f"
      },
      "outputs": [
        {
          "name": "stdout",
          "output_type": "stream",
          "text": [
            "Размер использования памяти: до 12.32 Mb - после  7.90 Mb (35.9%)\n"
          ]
        },
        {
          "data": {
            "text/html": [
              "<div>\n",
              "<style scoped>\n",
              "    .dataframe tbody tr th:only-of-type {\n",
              "        vertical-align: middle;\n",
              "    }\n",
              "\n",
              "    .dataframe tbody tr th {\n",
              "        vertical-align: top;\n",
              "    }\n",
              "\n",
              "    .dataframe thead th {\n",
              "        text-align: right;\n",
              "    }\n",
              "</style>\n",
              "<table border=\"1\" class=\"dataframe\">\n",
              "  <thead>\n",
              "    <tr style=\"text-align: right;\">\n",
              "      <th></th>\n",
              "      <th>price</th>\n",
              "      <th>vehicle_type</th>\n",
              "      <th>registration_year</th>\n",
              "      <th>gearbox</th>\n",
              "      <th>power</th>\n",
              "      <th>model</th>\n",
              "      <th>kilometer</th>\n",
              "      <th>fuel_type</th>\n",
              "      <th>repaired</th>\n",
              "    </tr>\n",
              "  </thead>\n",
              "  <tbody>\n",
              "    <tr>\n",
              "      <th>0</th>\n",
              "      <td>3400.00</td>\n",
              "      <td>unknown</td>\n",
              "      <td>1993</td>\n",
              "      <td>manual</td>\n",
              "      <td>110.00</td>\n",
              "      <td>golf</td>\n",
              "      <td>150000</td>\n",
              "      <td>petrol</td>\n",
              "      <td>unknown</td>\n",
              "    </tr>\n",
              "    <tr>\n",
              "      <th>1</th>\n",
              "      <td>18300.00</td>\n",
              "      <td>coupe</td>\n",
              "      <td>2011</td>\n",
              "      <td>manual</td>\n",
              "      <td>190.00</td>\n",
              "      <td>unknown</td>\n",
              "      <td>125000</td>\n",
              "      <td>petrol</td>\n",
              "      <td>yes</td>\n",
              "    </tr>\n",
              "    <tr>\n",
              "      <th>2</th>\n",
              "      <td>9800.00</td>\n",
              "      <td>suv</td>\n",
              "      <td>2004</td>\n",
              "      <td>auto</td>\n",
              "      <td>163.00</td>\n",
              "      <td>grand</td>\n",
              "      <td>125000</td>\n",
              "      <td>petrol</td>\n",
              "      <td>unknown</td>\n",
              "    </tr>\n",
              "    <tr>\n",
              "      <th>3</th>\n",
              "      <td>1500.00</td>\n",
              "      <td>small</td>\n",
              "      <td>2001</td>\n",
              "      <td>manual</td>\n",
              "      <td>75.00</td>\n",
              "      <td>golf</td>\n",
              "      <td>150000</td>\n",
              "      <td>petrol</td>\n",
              "      <td>no</td>\n",
              "    </tr>\n",
              "    <tr>\n",
              "      <th>4</th>\n",
              "      <td>3600.00</td>\n",
              "      <td>small</td>\n",
              "      <td>2008</td>\n",
              "      <td>manual</td>\n",
              "      <td>69.00</td>\n",
              "      <td>fabia</td>\n",
              "      <td>90000</td>\n",
              "      <td>petrol</td>\n",
              "      <td>no</td>\n",
              "    </tr>\n",
              "    <tr>\n",
              "      <th>...</th>\n",
              "      <td>...</td>\n",
              "      <td>...</td>\n",
              "      <td>...</td>\n",
              "      <td>...</td>\n",
              "      <td>...</td>\n",
              "      <td>...</td>\n",
              "      <td>...</td>\n",
              "      <td>...</td>\n",
              "      <td>...</td>\n",
              "    </tr>\n",
              "    <tr>\n",
              "      <th>354364</th>\n",
              "      <td>3400.00</td>\n",
              "      <td>unknown</td>\n",
              "      <td>2005</td>\n",
              "      <td>manual</td>\n",
              "      <td>110.00</td>\n",
              "      <td>colt</td>\n",
              "      <td>150000</td>\n",
              "      <td>petrol</td>\n",
              "      <td>yes</td>\n",
              "    </tr>\n",
              "    <tr>\n",
              "      <th>354365</th>\n",
              "      <td>2200.00</td>\n",
              "      <td>unknown</td>\n",
              "      <td>2005</td>\n",
              "      <td>unknown</td>\n",
              "      <td>110.00</td>\n",
              "      <td>unknown</td>\n",
              "      <td>20000</td>\n",
              "      <td>unknown</td>\n",
              "      <td>unknown</td>\n",
              "    </tr>\n",
              "    <tr>\n",
              "      <th>354366</th>\n",
              "      <td>1199.00</td>\n",
              "      <td>convertible</td>\n",
              "      <td>2000</td>\n",
              "      <td>auto</td>\n",
              "      <td>101.00</td>\n",
              "      <td>fortwo</td>\n",
              "      <td>125000</td>\n",
              "      <td>petrol</td>\n",
              "      <td>no</td>\n",
              "    </tr>\n",
              "    <tr>\n",
              "      <th>354367</th>\n",
              "      <td>9200.00</td>\n",
              "      <td>bus</td>\n",
              "      <td>1996</td>\n",
              "      <td>manual</td>\n",
              "      <td>102.00</td>\n",
              "      <td>transporter</td>\n",
              "      <td>150000</td>\n",
              "      <td>petrol</td>\n",
              "      <td>no</td>\n",
              "    </tr>\n",
              "    <tr>\n",
              "      <th>354368</th>\n",
              "      <td>3400.00</td>\n",
              "      <td>wagon</td>\n",
              "      <td>2002</td>\n",
              "      <td>manual</td>\n",
              "      <td>100.00</td>\n",
              "      <td>golf</td>\n",
              "      <td>150000</td>\n",
              "      <td>petrol</td>\n",
              "      <td>unknown</td>\n",
              "    </tr>\n",
              "  </tbody>\n",
              "</table>\n",
              "<p>331063 rows × 9 columns</p>\n",
              "</div>"
            ],
            "text/plain": [
              "          price vehicle_type  registration_year  gearbox  power        model  \\\n",
              "0       3400.00      unknown               1993   manual 110.00         golf   \n",
              "1      18300.00        coupe               2011   manual 190.00      unknown   \n",
              "2       9800.00          suv               2004     auto 163.00        grand   \n",
              "3       1500.00        small               2001   manual  75.00         golf   \n",
              "4       3600.00        small               2008   manual  69.00        fabia   \n",
              "...         ...          ...                ...      ...    ...          ...   \n",
              "354364  3400.00      unknown               2005   manual 110.00         colt   \n",
              "354365  2200.00      unknown               2005  unknown 110.00      unknown   \n",
              "354366  1199.00  convertible               2000     auto 101.00       fortwo   \n",
              "354367  9200.00          bus               1996   manual 102.00  transporter   \n",
              "354368  3400.00        wagon               2002   manual 100.00         golf   \n",
              "\n",
              "       kilometer fuel_type repaired  \n",
              "0         150000    petrol  unknown  \n",
              "1         125000    petrol      yes  \n",
              "2         125000    petrol  unknown  \n",
              "3         150000    petrol       no  \n",
              "4          90000    petrol       no  \n",
              "...          ...       ...      ...  \n",
              "354364    150000    petrol      yes  \n",
              "354365     20000   unknown  unknown  \n",
              "354366    125000    petrol       no  \n",
              "354367    150000    petrol       no  \n",
              "354368    150000    petrol  unknown  \n",
              "\n",
              "[331063 rows x 9 columns]"
            ]
          },
          "execution_count": 66,
          "metadata": {},
          "output_type": "execute_result"
        }
      ],
      "source": [
        "optimize_memory_usage(df)"
      ]
    },
    {
      "cell_type": "code",
      "execution_count": null,
      "metadata": {
        "id": "Zykx_-UwWfuS",
        "outputId": "e90fdb8c-a414-4938-f599-3999235d2ffc"
      },
      "outputs": [
        {
          "name": "stdout",
          "output_type": "stream",
          "text": [
            "<class 'pandas.core.frame.DataFrame'>\n",
            "Int64Index: 331063 entries, 0 to 354368\n",
            "Data columns (total 9 columns):\n",
            " #   Column             Non-Null Count   Dtype   \n",
            "---  ------             --------------   -----   \n",
            " 0   price              331063 non-null  float32 \n",
            " 1   vehicle_type       331063 non-null  category\n",
            " 2   registration_year  331063 non-null  int16   \n",
            " 3   gearbox            331063 non-null  category\n",
            " 4   power              331063 non-null  float32 \n",
            " 5   model              331063 non-null  category\n",
            " 6   kilometer          331063 non-null  category\n",
            " 7   fuel_type          331063 non-null  category\n",
            " 8   repaired           331063 non-null  category\n",
            "dtypes: category(6), float32(2), int16(1)\n",
            "memory usage: 7.9 MB\n"
          ]
        }
      ],
      "source": [
        "df.info()"
      ]
    },
    {
      "cell_type": "markdown",
      "metadata": {
        "id": "yvuWfX5yWfuT"
      },
      "source": [
        "*Промежуточный вывод*\n",
        "\n",
        "Размер использования памяти: до 10.43 Mb - после  7.91 Mb (24.2%) поможет избежать излишней нагрузки на ядро."
      ]
    },
    {
      "cell_type": "markdown",
      "metadata": {
        "id": "c1Lt-y9kWfuT"
      },
      "source": [
        "## Подготовка выборок для обучения моделей"
      ]
    },
    {
      "cell_type": "markdown",
      "metadata": {
        "id": "8wxh1qetWfuT"
      },
      "source": [
        "Подготовьте выборки для обучения моделей."
      ]
    },
    {
      "cell_type": "raw",
      "metadata": {
        "id": "HARRZ8rtWfuT"
      },
      "source": [
        "# прежний код\n",
        "\n",
        "# Разделение на признаки и целевую переменную\n",
        "X = df.drop(\"price\", axis=1)\n",
        "y = df[\"price\"]\n",
        "\n",
        "# Разделение на train/test\n",
        "X_train, X_test, y_train, y_test = train_test_split(\n",
        "    X, y, test_size=TEST_SIZE, random_state=RANDOM_STATE\n",
        ")"
      ]
    },
    {
      "cell_type": "markdown",
      "metadata": {
        "id": "p37u8NDSWfuU"
      },
      "source": [
        "<div class=\"alert alert-info\"> <b>Комментарии студентаV2:</b> Исправляю разделение на выборки </div>  "
      ]
    },
    {
      "cell_type": "code",
      "execution_count": null,
      "metadata": {
        "id": "YhDutroFWfuU"
      },
      "outputs": [],
      "source": [
        "# Разделение на признаки и целевую переменную\n",
        "X = df.drop(\"price\", axis=1)\n",
        "y = df[\"price\"]\n",
        "\n",
        "# Выделим тренировочную выборку и временную выборку в пропорции 3:2\n",
        "X_train, X_test_valid, y_train, y_test_valid = train_test_split(\n",
        "    X, y, test_size=0.4, random_state=RANDOM_STATE\n",
        ")\n",
        "\n",
        "# Выборку признаков X_test_valid поделим пополам на тестовую и валидационную\n",
        "X_test, X_valid, y_test, y_valid = train_test_split(\n",
        "    X_test_valid, y_test_valid, test_size=0.5, random_state=RANDOM_STATE\n",
        ")"
      ]
    },
    {
      "cell_type": "markdown",
      "metadata": {
        "id": "7Ss-npHGWfuU"
      },
      "source": [
        "Итоговое соотношение: 60% train, 20% valid, 20% test, что близко к требуемым 3:1:1."
      ]
    },
    {
      "cell_type": "code",
      "execution_count": null,
      "metadata": {
        "scrolled": true,
        "id": "I1n67YDuWfuU",
        "outputId": "653bb28e-e26f-408c-e30f-03c75c35ad78"
      },
      "outputs": [
        {
          "name": "stdout",
          "output_type": "stream",
          "text": [
            "X_train = (198637, 8), y_train = (198637,)\n",
            "X_valid = (66213, 8), y_valid = (66213,)\n",
            "X_test = (66213, 8), y_test = (66213,)\n"
          ]
        }
      ],
      "source": [
        "# Проверим размерность выборок\n",
        "print(f\"X_train = {X_train.shape}, y_train = {y_train.shape}\")\n",
        "print(f\"X_valid = {X_valid.shape}, y_valid = {y_valid.shape}\")\n",
        "print(f\"X_test = {X_test.shape}, y_test = {y_test.shape}\")"
      ]
    },
    {
      "cell_type": "raw",
      "metadata": {
        "id": "idWPNK6MWfuV"
      },
      "source": [
        "# прежний код\n",
        "df.shape\n",
        "X_train.shape\n",
        "X_test.shape\n",
        "y_train.shape\n",
        "y_test.shape"
      ]
    },
    {
      "cell_type": "markdown",
      "metadata": {
        "id": "2S36iMPgWfuV"
      },
      "source": [
        "Данные поделены на выборки верно."
      ]
    },
    {
      "cell_type": "markdown",
      "metadata": {
        "id": "svc8kl14WfuV"
      },
      "source": [
        "## Обучение моделей"
      ]
    },
    {
      "cell_type": "markdown",
      "metadata": {
        "id": "__26gGJMWfuV"
      },
      "source": [
        "Обучим разные модели, одна из которых — LightGBM, как минимум одна — не бустинг. Для каждой модели попробем разные гиперпараметры."
      ]
    },
    {
      "cell_type": "code",
      "execution_count": null,
      "metadata": {
        "id": "iAo7dg-xWfuW"
      },
      "outputs": [],
      "source": [
        "#Числовые и категориальные признаки\n",
        "numeric_cols = [\"power\", \"registration_year\"]\n",
        "categorical_cols = [\n",
        "    \"vehicle_type\",\n",
        "    \"gearbox\",\n",
        "    \"model\",\n",
        "    \"kilometer\",\n",
        "    \"fuel_type\",\n",
        "    \"repaired\"\n",
        "]"
      ]
    },
    {
      "cell_type": "code",
      "execution_count": null,
      "metadata": {
        "id": "DyXijziUWfuW"
      },
      "outputs": [],
      "source": [
        "#Предобработка\n",
        "numeric_transformer = StandardScaler()\n",
        "categorical_transformer = OneHotEncoder(handle_unknown=\"ignore\", drop='first', sparse_output=False)\n",
        "\n",
        "preprocessor = ColumnTransformer(\n",
        "    transformers=[\n",
        "        (\"num\", numeric_transformer, numeric_cols),\n",
        "        (\"cat\", categorical_transformer, categorical_cols),\n",
        "    ]\n",
        ")"
      ]
    },
    {
      "cell_type": "code",
      "execution_count": null,
      "metadata": {
        "id": "UlAao_vgWfuY"
      },
      "outputs": [],
      "source": [
        "# Собираем данные по каждой модели в словари\n",
        "results = []"
      ]
    },
    {
      "cell_type": "code",
      "execution_count": null,
      "metadata": {
        "id": "LgglU2JyWfuY",
        "outputId": "8f0786c0-873e-4d77-d9cd-5f4d8892e347"
      },
      "outputs": [
        {
          "name": "stdout",
          "output_type": "stream",
          "text": [
            "LinearRegression\n",
            "RMSE на обучающей выборке: 2627.21\n",
            "RMSE на валидационной выборке: 2618.31\n",
            "Время обучения: 39.88 секунд\n",
            "Время предсказания: 0.50 секунд\n"
          ]
        }
      ],
      "source": [
        "# Исправленный код V1\n",
        "pipe_lr = Pipeline([\n",
        "    ('preprocessor', preprocessor),\n",
        "    ('model', LinearRegression())\n",
        "])\n",
        "\n",
        "start_train = time.time()\n",
        "pipe_lr.fit(X_train, y_train)\n",
        "train_time = time.time() - start_train\n",
        "\n",
        "# RMSE на обучающей выборке\n",
        "preds_train = pipe_lr.predict(X_train)\n",
        "mse_train = mean_squared_error(y_train, preds_train)\n",
        "rmse_train = mse_train ** 0.5\n",
        "\n",
        "start_pred = time.time()\n",
        "preds_lr = pipe_lr.predict(X_valid)\n",
        "pred_time = time.time() - start_pred\n",
        "\n",
        "mse_lr = mean_squared_error(y_valid, preds_lr)\n",
        "rmse_lr = mse_lr ** 0.5\n",
        "\n",
        "print(\"LinearRegression\")\n",
        "print(f\"RMSE на обучающей выборке: {rmse_train:.2f}\")\n",
        "print(f\"RMSE на валидационной выборке: {rmse_lr:.2f}\")\n",
        "print(f\"Время обучения: {train_time:.2f} секунд\")\n",
        "print(f\"Время предсказания: {pred_time:.2f} секунд\")\n",
        "\n",
        "results.append({\n",
        "    \"Модель\": \"LinearRegression\",\n",
        "    \"Лучшие параметры\": \"-\",\n",
        "    \"RMSE CV\": rmse_train,\n",
        "    \"RMSE valid\": rmse_lr,\n",
        "    \"Время обучения (сек)\": train_time,\n",
        "    \"Время обучения (refit, сек)\": \"-\",\n",
        "    \"Время предсказания (сек)\": pred_time\n",
        "})"
      ]
    },
    {
      "cell_type": "markdown",
      "metadata": {
        "id": "5VBV4lEpWfuZ"
      },
      "source": [
        "Модель LinearRegression не  соответствует критерию заказчика - метрика RMSE должна быть меньше 2500."
      ]
    },
    {
      "cell_type": "code",
      "execution_count": null,
      "metadata": {
        "id": "FfIJbyGOWfua",
        "outputId": "8f799b18-4283-4533-e842-9a81eea67e70"
      },
      "outputs": [
        {
          "name": "stdout",
          "output_type": "stream",
          "text": [
            "DecisionTree\n",
            "Лучшие параметры: {'model__max_depth': 20, 'model__min_samples_split': 5}\n",
            "RMSE на кросс-валидации: 1923.73\n",
            "RMSE на валидационной выборке: 1908.66\n",
            "Среднее время обучения на обучающей выборке: 5.87 секунд\n",
            "Время обучения лучшей модели (refit): 9.77 секунд\n",
            "Среднее время предсказания на обучающей выборке: 0.4385 секунд\n"
          ]
        }
      ],
      "source": [
        "# Обучаем модель DecisionTreeRegressor (с GridSearchCV)\n",
        "pipe_dt = Pipeline([\n",
        "    ('preprocessor', preprocessor),\n",
        "    ('model', DecisionTreeRegressor(random_state=RANDOM_STATE))\n",
        "])\n",
        "\n",
        "params_dt = {\n",
        "    \"model__max_depth\": [None, 10, 20],\n",
        "    \"model__min_samples_split\": [2, 5]\n",
        "}\n",
        "\n",
        "grid_dt = GridSearchCV(\n",
        "    pipe_dt,\n",
        "    param_grid=params_dt,\n",
        "    cv=3,\n",
        "    scoring='neg_root_mean_squared_error',\n",
        "    n_jobs=-1,\n",
        "    refit=True\n",
        ")\n",
        "grid_dt.fit(X_train, y_train)\n",
        "\n",
        "best_index_dt = grid_dt.best_index_\n",
        "best_params_dt = grid_dt.best_params_\n",
        "mean_fit_time_dt = grid_dt.cv_results_['mean_fit_time'][best_index_dt]\n",
        "mean_score_time_dt = grid_dt.cv_results_['mean_score_time'][best_index_dt]\n",
        "refit_time_dt = getattr(grid_dt, 'refit_time_', None)\n",
        "\n",
        "preds_dt = grid_dt.predict(X_valid)\n",
        "mse_dt = mean_squared_error(y_valid, preds_dt)\n",
        "rmse_dt = mse_dt ** 0.5\n",
        "\n",
        "print(\"DecisionTree\")\n",
        "print(f\"Лучшие параметры: {best_params_dt}\")\n",
        "print(f\"RMSE на кросс-валидации: {-grid_dt.best_score_:.2f}\")\n",
        "print(f\"RMSE на валидационной выборке: {rmse_dt:.2f}\")\n",
        "print(f\"Среднее время обучения на обучающей выборке: {mean_fit_time_dt:.2f} секунд\")\n",
        "if refit_time_dt is not None:\n",
        "    print(f\"Время обучения лучшей модели (refit): {refit_time_dt:.2f} секунд\")\n",
        "print(f\"Среднее время предсказания на обучающей выборке: {mean_score_time_dt:.4f} секунд\")\n",
        "\n",
        "# Добавляем результаты в список\n",
        "# DecisionTree\n",
        "results.append({\n",
        "    \"Модель\": \"DecisionTree\",\n",
        "    \"Лучшие параметры\": str(best_params_dt),\n",
        "    \"RMSE CV\": -grid_dt.best_score_,\n",
        "    \"RMSE valid\": rmse_dt,\n",
        "    \"Время обучения (сек)\": mean_fit_time_dt,\n",
        "    \"Время обучения (refit, сек)\": refit_time_dt if refit_time_dt is not None else \"-\",\n",
        "    \"Время предсказания (сек)\": mean_score_time_dt\n",
        "})"
      ]
    },
    {
      "cell_type": "markdown",
      "metadata": {
        "id": "BCemS06EWfua"
      },
      "source": [
        "DecisionTree с лучшими параметрами 'model__max_depth': 20, 'model__min_samples_split': 5} имеет RMSE на валидационной выборке = 1908.66, что соответствует  требованию заказчика, при этом показатели затраченного времени лучше, чем LinearRegression"
      ]
    },
    {
      "cell_type": "code",
      "execution_count": null,
      "metadata": {
        "id": "g715zzCNWfub",
        "outputId": "bdf97697-385f-4146-b918-6c8f18faef3d"
      },
      "outputs": [
        {
          "name": "stdout",
          "output_type": "stream",
          "text": [
            "[LightGBM] [Debug] Dataset::GetMultiBinFromSparseFeatures: sparse rate 0.929687\n",
            "[LightGBM] [Debug] Dataset::GetMultiBinFromAllFeatures: sparse rate 0.645920\n",
            "[LightGBM] [Debug] init for col-wise cost 0.480542 seconds, init for row-wise cost 0.415310 seconds\n",
            "[LightGBM] [Warning] Auto-choosing row-wise multi-threading, the overhead of testing was 0.584861 seconds.\n",
            "You can set `force_row_wise=true` to remove the overhead.\n",
            "And if memory is not enough, you can set `force_col_wise=true`.\n",
            "[LightGBM] [Debug] Using Sparse Multi-Val Bin\n",
            "[LightGBM] [Info] Total Bins 833\n",
            "[LightGBM] [Info] Number of data points in the train set: 132424, number of used features: 257\n",
            "[LightGBM] [Info] Start training from score 4680.665272\n",
            "[LightGBM] [Debug] Trained a tree with leaves = 31 and depth = 7\n",
            "[LightGBM] [Debug] Trained a tree with leaves = 31 and depth = 7\n",
            "[LightGBM] [Debug] Trained a tree with leaves = 31 and depth = 7\n",
            "[LightGBM] [Debug] Trained a tree with leaves = 31 and depth = 7\n",
            "[LightGBM] [Debug] Trained a tree with leaves = 31 and depth = 7\n",
            "[LightGBM] [Debug] Trained a tree with leaves = 31 and depth = 7\n",
            "[LightGBM] [Debug] Trained a tree with leaves = 31 and depth = 7\n",
            "[LightGBM] [Debug] Trained a tree with leaves = 31 and depth = 8\n",
            "[LightGBM] [Debug] Trained a tree with leaves = 31 and depth = 7\n",
            "[LightGBM] [Debug] Trained a tree with leaves = 31 and depth = 9\n",
            "[LightGBM] [Debug] Trained a tree with leaves = 31 and depth = 8\n",
            "[LightGBM] [Debug] Trained a tree with leaves = 31 and depth = 7\n",
            "[LightGBM] [Debug] Trained a tree with leaves = 31 and depth = 8\n",
            "[LightGBM] [Debug] Trained a tree with leaves = 31 and depth = 8\n",
            "[LightGBM] [Debug] Trained a tree with leaves = 31 and depth = 8\n",
            "[LightGBM] [Debug] Trained a tree with leaves = 31 and depth = 9\n",
            "[LightGBM] [Debug] Trained a tree with leaves = 31 and depth = 7\n",
            "[LightGBM] [Debug] Trained a tree with leaves = 31 and depth = 11\n",
            "[LightGBM] [Debug] Trained a tree with leaves = 31 and depth = 10\n",
            "[LightGBM] [Debug] Trained a tree with leaves = 31 and depth = 10\n",
            "[LightGBM] [Debug] Trained a tree with leaves = 31 and depth = 10\n",
            "[LightGBM] [Debug] Trained a tree with leaves = 31 and depth = 12\n",
            "[LightGBM] [Debug] Trained a tree with leaves = 31 and depth = 9\n",
            "[LightGBM] [Debug] Trained a tree with leaves = 31 and depth = 12\n",
            "[LightGBM] [Debug] Trained a tree with leaves = 31 and depth = 20\n",
            "[LightGBM] [Debug] Trained a tree with leaves = 31 and depth = 17\n",
            "[LightGBM] [Debug] Trained a tree with leaves = 31 and depth = 10\n",
            "[LightGBM] [Debug] Trained a tree with leaves = 31 and depth = 11\n",
            "[LightGBM] [Debug] Trained a tree with leaves = 31 and depth = 16\n",
            "[LightGBM] [Debug] Trained a tree with leaves = 31 and depth = 11\n",
            "[LightGBM] [Debug] Trained a tree with leaves = 31 and depth = 11\n",
            "[LightGBM] [Debug] Trained a tree with leaves = 31 and depth = 20\n",
            "[LightGBM] [Debug] Trained a tree with leaves = 31 and depth = 12\n",
            "[LightGBM] [Debug] Trained a tree with leaves = 31 and depth = 14\n",
            "[LightGBM] [Debug] Trained a tree with leaves = 31 and depth = 13\n",
            "[LightGBM] [Debug] Trained a tree with leaves = 31 and depth = 28\n",
            "[LightGBM] [Debug] Trained a tree with leaves = 31 and depth = 19\n",
            "[LightGBM] [Debug] Trained a tree with leaves = 31 and depth = 15\n",
            "[LightGBM] [Debug] Trained a tree with leaves = 31 and depth = 20\n",
            "[LightGBM] [Debug] Trained a tree with leaves = 31 and depth = 18\n",
            "[LightGBM] [Debug] Trained a tree with leaves = 31 and depth = 12\n",
            "[LightGBM] [Debug] Trained a tree with leaves = 31 and depth = 23\n",
            "[LightGBM] [Debug] Trained a tree with leaves = 31 and depth = 23\n",
            "[LightGBM] [Debug] Trained a tree with leaves = 31 and depth = 27\n",
            "[LightGBM] [Debug] Trained a tree with leaves = 31 and depth = 22\n",
            "[LightGBM] [Debug] Trained a tree with leaves = 31 and depth = 18\n",
            "[LightGBM] [Debug] Trained a tree with leaves = 31 and depth = 22\n",
            "[LightGBM] [Debug] Trained a tree with leaves = 31 and depth = 24\n",
            "[LightGBM] [Debug] Trained a tree with leaves = 31 and depth = 17\n",
            "[LightGBM] [Debug] Trained a tree with leaves = 31 and depth = 16\n",
            "[LightGBM] [Debug] Trained a tree with leaves = 31 and depth = 24\n",
            "[LightGBM] [Debug] Trained a tree with leaves = 31 and depth = 27\n",
            "[LightGBM] [Debug] Trained a tree with leaves = 31 and depth = 20\n",
            "[LightGBM] [Debug] Trained a tree with leaves = 31 and depth = 16\n",
            "[LightGBM] [Debug] Trained a tree with leaves = 31 and depth = 27\n",
            "[LightGBM] [Debug] Trained a tree with leaves = 31 and depth = 16\n",
            "[LightGBM] [Debug] Trained a tree with leaves = 31 and depth = 23\n",
            "[LightGBM] [Debug] Trained a tree with leaves = 31 and depth = 21\n",
            "[LightGBM] [Debug] Trained a tree with leaves = 31 and depth = 22\n",
            "[LightGBM] [Debug] Trained a tree with leaves = 31 and depth = 13\n",
            "[LightGBM] [Debug] Trained a tree with leaves = 31 and depth = 22\n",
            "[LightGBM] [Debug] Trained a tree with leaves = 31 and depth = 26\n",
            "[LightGBM] [Debug] Trained a tree with leaves = 31 and depth = 17\n",
            "[LightGBM] [Debug] Trained a tree with leaves = 31 and depth = 21\n",
            "[LightGBM] [Debug] Trained a tree with leaves = 31 and depth = 16\n",
            "[LightGBM] [Debug] Trained a tree with leaves = 31 and depth = 12\n",
            "[LightGBM] [Debug] Trained a tree with leaves = 31 and depth = 14\n",
            "[LightGBM] [Debug] Trained a tree with leaves = 31 and depth = 17\n",
            "[LightGBM] [Debug] Trained a tree with leaves = 31 and depth = 18\n",
            "[LightGBM] [Debug] Trained a tree with leaves = 31 and depth = 20\n",
            "[LightGBM] [Debug] Trained a tree with leaves = 31 and depth = 20\n",
            "[LightGBM] [Debug] Trained a tree with leaves = 31 and depth = 10\n",
            "[LightGBM] [Debug] Trained a tree with leaves = 31 and depth = 18\n",
            "[LightGBM] [Debug] Trained a tree with leaves = 31 and depth = 21\n",
            "[LightGBM] [Debug] Trained a tree with leaves = 31 and depth = 19\n",
            "[LightGBM] [Debug] Trained a tree with leaves = 31 and depth = 19\n",
            "[LightGBM] [Debug] Trained a tree with leaves = 31 and depth = 14\n",
            "[LightGBM] [Debug] Trained a tree with leaves = 31 and depth = 14\n",
            "[LightGBM] [Debug] Trained a tree with leaves = 31 and depth = 18\n",
            "[LightGBM] [Debug] Trained a tree with leaves = 31 and depth = 19\n",
            "[LightGBM] [Debug] Trained a tree with leaves = 31 and depth = 17\n",
            "[LightGBM] [Debug] Trained a tree with leaves = 31 and depth = 17\n",
            "[LightGBM] [Debug] Trained a tree with leaves = 31 and depth = 13\n",
            "[LightGBM] [Debug] Trained a tree with leaves = 31 and depth = 13\n",
            "[LightGBM] [Debug] Trained a tree with leaves = 31 and depth = 17\n",
            "[LightGBM] [Debug] Trained a tree with leaves = 31 and depth = 21\n",
            "[LightGBM] [Debug] Trained a tree with leaves = 31 and depth = 15\n",
            "[LightGBM] [Debug] Trained a tree with leaves = 31 and depth = 17\n",
            "[LightGBM] [Debug] Trained a tree with leaves = 31 and depth = 16\n",
            "[LightGBM] [Debug] Trained a tree with leaves = 31 and depth = 12\n",
            "[LightGBM] [Debug] Trained a tree with leaves = 31 and depth = 13\n",
            "[LightGBM] [Debug] Trained a tree with leaves = 31 and depth = 16\n",
            "[LightGBM] [Debug] Trained a tree with leaves = 31 and depth = 18\n",
            "[LightGBM] [Debug] Trained a tree with leaves = 31 and depth = 18\n",
            "[LightGBM] [Debug] Trained a tree with leaves = 31 and depth = 13\n",
            "[LightGBM] [Debug] Trained a tree with leaves = 31 and depth = 15\n",
            "[LightGBM] [Debug] Trained a tree with leaves = 31 and depth = 16\n",
            "[LightGBM] [Debug] Trained a tree with leaves = 31 and depth = 15\n",
            "[LightGBM] [Debug] Trained a tree with leaves = 31 and depth = 18\n",
            "[LightGBM] [Debug] Trained a tree with leaves = 31 and depth = 20\n",
            "[LightGBM] [Debug] Dataset::GetMultiBinFromSparseFeatures: sparse rate 0.929918\n",
            "[LightGBM] [Debug] Dataset::GetMultiBinFromAllFeatures: sparse rate 0.646051\n",
            "[LightGBM] [Debug] init for col-wise cost 0.426176 seconds, init for row-wise cost 0.491847 seconds\n",
            "[LightGBM] [Warning] Auto-choosing row-wise multi-threading, the overhead of testing was 0.535385 seconds.\n",
            "You can set `force_row_wise=true` to remove the overhead.\n",
            "And if memory is not enough, you can set `force_col_wise=true`.\n",
            "[LightGBM] [Debug] Using Sparse Multi-Val Bin\n",
            "[LightGBM] [Info] Total Bins 828\n",
            "[LightGBM] [Info] Number of data points in the train set: 132425, number of used features: 255\n",
            "[LightGBM] [Info] Start training from score 4672.926668\n",
            "[LightGBM] [Debug] Trained a tree with leaves = 31 and depth = 7\n",
            "[LightGBM] [Debug] Trained a tree with leaves = 31 and depth = 7\n",
            "[LightGBM] [Debug] Trained a tree with leaves = 31 and depth = 7\n",
            "[LightGBM] [Debug] Trained a tree with leaves = 31 and depth = 7\n",
            "[LightGBM] [Debug] Trained a tree with leaves = 31 and depth = 8\n",
            "[LightGBM] [Debug] Trained a tree with leaves = 31 and depth = 7\n",
            "[LightGBM] [Debug] Trained a tree with leaves = 31 and depth = 7\n",
            "[LightGBM] [Debug] Trained a tree with leaves = 31 and depth = 8\n",
            "[LightGBM] [Debug] Trained a tree with leaves = 31 and depth = 9\n",
            "[LightGBM] [Debug] Trained a tree with leaves = 31 and depth = 7\n",
            "[LightGBM] [Debug] Trained a tree with leaves = 31 and depth = 8\n",
            "[LightGBM] [Debug] Trained a tree with leaves = 31 and depth = 8\n",
            "[LightGBM] [Debug] Trained a tree with leaves = 31 and depth = 8\n",
            "[LightGBM] [Debug] Trained a tree with leaves = 31 and depth = 7\n",
            "[LightGBM] [Debug] Trained a tree with leaves = 31 and depth = 9\n",
            "[LightGBM] [Debug] Trained a tree with leaves = 31 and depth = 9\n",
            "[LightGBM] [Debug] Trained a tree with leaves = 31 and depth = 11\n",
            "[LightGBM] [Debug] Trained a tree with leaves = 31 and depth = 10\n",
            "[LightGBM] [Debug] Trained a tree with leaves = 31 and depth = 10\n",
            "[LightGBM] [Debug] Trained a tree with leaves = 31 and depth = 8\n",
            "[LightGBM] [Debug] Trained a tree with leaves = 31 and depth = 11\n",
            "[LightGBM] [Debug] Trained a tree with leaves = 31 and depth = 8\n",
            "[LightGBM] [Debug] Trained a tree with leaves = 31 and depth = 12\n",
            "[LightGBM] [Debug] Trained a tree with leaves = 31 and depth = 10\n",
            "[LightGBM] [Debug] Trained a tree with leaves = 31 and depth = 12\n",
            "[LightGBM] [Debug] Trained a tree with leaves = 31 and depth = 11\n",
            "[LightGBM] [Debug] Trained a tree with leaves = 31 and depth = 12\n",
            "[LightGBM] [Debug] Trained a tree with leaves = 31 and depth = 13\n",
            "[LightGBM] [Debug] Trained a tree with leaves = 31 and depth = 25\n",
            "[LightGBM] [Debug] Trained a tree with leaves = 31 and depth = 16\n",
            "[LightGBM] [Debug] Trained a tree with leaves = 31 and depth = 11\n",
            "[LightGBM] [Debug] Trained a tree with leaves = 31 and depth = 11\n",
            "[LightGBM] [Debug] Trained a tree with leaves = 31 and depth = 20\n",
            "[LightGBM] [Debug] Trained a tree with leaves = 31 and depth = 14\n",
            "[LightGBM] [Debug] Trained a tree with leaves = 31 and depth = 11\n",
            "[LightGBM] [Debug] Trained a tree with leaves = 31 and depth = 18\n",
            "[LightGBM] [Debug] Trained a tree with leaves = 31 and depth = 15\n",
            "[LightGBM] [Debug] Trained a tree with leaves = 31 and depth = 24\n",
            "[LightGBM] [Debug] Trained a tree with leaves = 31 and depth = 15\n",
            "[LightGBM] [Debug] Trained a tree with leaves = 31 and depth = 20\n",
            "[LightGBM] [Debug] Trained a tree with leaves = 31 and depth = 28\n",
            "[LightGBM] [Debug] Trained a tree with leaves = 31 and depth = 26\n",
            "[LightGBM] [Debug] Trained a tree with leaves = 31 and depth = 22\n",
            "[LightGBM] [Debug] Trained a tree with leaves = 31 and depth = 21\n",
            "[LightGBM] [Debug] Trained a tree with leaves = 31 and depth = 22\n",
            "[LightGBM] [Debug] Trained a tree with leaves = 31 and depth = 15\n",
            "[LightGBM] [Debug] Trained a tree with leaves = 31 and depth = 19\n",
            "[LightGBM] [Debug] Trained a tree with leaves = 31 and depth = 23\n",
            "[LightGBM] [Debug] Trained a tree with leaves = 31 and depth = 28\n",
            "[LightGBM] [Debug] Trained a tree with leaves = 31 and depth = 26\n",
            "[LightGBM] [Debug] Trained a tree with leaves = 31 and depth = 21\n",
            "[LightGBM] [Debug] Trained a tree with leaves = 31 and depth = 14\n",
            "[LightGBM] [Debug] Trained a tree with leaves = 31 and depth = 22\n",
            "[LightGBM] [Debug] Trained a tree with leaves = 31 and depth = 14\n",
            "[LightGBM] [Debug] Trained a tree with leaves = 31 and depth = 25\n",
            "[LightGBM] [Debug] Trained a tree with leaves = 31 and depth = 15\n",
            "[LightGBM] [Debug] Trained a tree with leaves = 31 and depth = 24\n",
            "[LightGBM] [Debug] Trained a tree with leaves = 31 and depth = 13\n",
            "[LightGBM] [Debug] Trained a tree with leaves = 31 and depth = 20\n",
            "[LightGBM] [Debug] Trained a tree with leaves = 31 and depth = 25\n",
            "[LightGBM] [Debug] Trained a tree with leaves = 31 and depth = 23\n",
            "[LightGBM] [Debug] Trained a tree with leaves = 31 and depth = 11\n",
            "[LightGBM] [Debug] Trained a tree with leaves = 31 and depth = 18\n",
            "[LightGBM] [Debug] Trained a tree with leaves = 31 and depth = 22\n",
            "[LightGBM] [Debug] Trained a tree with leaves = 31 and depth = 20\n",
            "[LightGBM] [Debug] Trained a tree with leaves = 31 and depth = 21\n",
            "[LightGBM] [Debug] Trained a tree with leaves = 31 and depth = 18\n",
            "[LightGBM] [Debug] Trained a tree with leaves = 31 and depth = 14\n",
            "[LightGBM] [Debug] Trained a tree with leaves = 31 and depth = 16\n",
            "[LightGBM] [Debug] Trained a tree with leaves = 31 and depth = 21\n",
            "[LightGBM] [Debug] Trained a tree with leaves = 31 and depth = 20\n",
            "[LightGBM] [Debug] Trained a tree with leaves = 31 and depth = 16\n",
            "[LightGBM] [Debug] Trained a tree with leaves = 31 and depth = 18\n",
            "[LightGBM] [Debug] Trained a tree with leaves = 31 and depth = 19\n",
            "[LightGBM] [Debug] Trained a tree with leaves = 31 and depth = 18\n",
            "[LightGBM] [Debug] Trained a tree with leaves = 31 and depth = 16\n",
            "[LightGBM] [Debug] Trained a tree with leaves = 31 and depth = 17\n",
            "[LightGBM] [Debug] Trained a tree with leaves = 31 and depth = 19\n",
            "[LightGBM] [Debug] Trained a tree with leaves = 31 and depth = 15\n",
            "[LightGBM] [Debug] Trained a tree with leaves = 31 and depth = 17\n",
            "[LightGBM] [Debug] Trained a tree with leaves = 31 and depth = 15\n",
            "[LightGBM] [Debug] Trained a tree with leaves = 31 and depth = 15\n",
            "[LightGBM] [Debug] Trained a tree with leaves = 31 and depth = 20\n",
            "[LightGBM] [Debug] Trained a tree with leaves = 31 and depth = 16\n",
            "[LightGBM] [Debug] Trained a tree with leaves = 31 and depth = 19\n",
            "[LightGBM] [Debug] Trained a tree with leaves = 31 and depth = 12\n",
            "[LightGBM] [Debug] Trained a tree with leaves = 31 and depth = 21\n",
            "[LightGBM] [Debug] Trained a tree with leaves = 31 and depth = 16\n",
            "[LightGBM] [Debug] Trained a tree with leaves = 31 and depth = 16\n",
            "[LightGBM] [Debug] Trained a tree with leaves = 31 and depth = 23\n",
            "[LightGBM] [Debug] Trained a tree with leaves = 31 and depth = 19\n",
            "[LightGBM] [Debug] Trained a tree with leaves = 31 and depth = 17\n",
            "[LightGBM] [Debug] Trained a tree with leaves = 31 and depth = 15\n",
            "[LightGBM] [Debug] Trained a tree with leaves = 31 and depth = 12\n",
            "[LightGBM] [Debug] Trained a tree with leaves = 31 and depth = 19\n",
            "[LightGBM] [Debug] Trained a tree with leaves = 31 and depth = 15\n",
            "[LightGBM] [Debug] Trained a tree with leaves = 31 and depth = 14\n",
            "[LightGBM] [Debug] Trained a tree with leaves = 31 and depth = 14\n",
            "[LightGBM] [Debug] Trained a tree with leaves = 31 and depth = 15\n",
            "[LightGBM] [Debug] Trained a tree with leaves = 31 and depth = 16\n",
            "[LightGBM] [Debug] Dataset::GetMultiBinFromSparseFeatures: sparse rate 0.935448\n",
            "[LightGBM] [Debug] Dataset::GetMultiBinFromAllFeatures: sparse rate 0.666768\n",
            "[LightGBM] [Debug] init for col-wise cost 0.494719 seconds, init for row-wise cost 0.487726 seconds\n",
            "[LightGBM] [Warning] Auto-choosing row-wise multi-threading, the overhead of testing was 0.611149 seconds.\n",
            "You can set `force_row_wise=true` to remove the overhead.\n",
            "And if memory is not enough, you can set `force_col_wise=true`.\n",
            "[LightGBM] [Debug] Using Sparse Multi-Val Bin\n",
            "[LightGBM] [Info] Total Bins 825\n",
            "[LightGBM] [Info] Number of data points in the train set: 132425, number of used features: 254\n",
            "[LightGBM] [Info] Start training from score 4680.328850\n",
            "[LightGBM] [Debug] Trained a tree with leaves = 31 and depth = 7\n",
            "[LightGBM] [Debug] Trained a tree with leaves = 31 and depth = 7\n",
            "[LightGBM] [Debug] Trained a tree with leaves = 31 and depth = 7\n",
            "[LightGBM] [Debug] Trained a tree with leaves = 31 and depth = 6\n",
            "[LightGBM] [Debug] Trained a tree with leaves = 31 and depth = 8\n",
            "[LightGBM] [Debug] Trained a tree with leaves = 31 and depth = 7\n",
            "[LightGBM] [Debug] Trained a tree with leaves = 31 and depth = 7\n",
            "[LightGBM] [Debug] Trained a tree with leaves = 31 and depth = 7\n",
            "[LightGBM] [Debug] Trained a tree with leaves = 31 and depth = 8\n",
            "[LightGBM] [Debug] Trained a tree with leaves = 31 and depth = 8\n",
            "[LightGBM] [Debug] Trained a tree with leaves = 31 and depth = 8\n",
            "[LightGBM] [Debug] Trained a tree with leaves = 31 and depth = 8\n",
            "[LightGBM] [Debug] Trained a tree with leaves = 31 and depth = 8\n",
            "[LightGBM] [Debug] Trained a tree with leaves = 31 and depth = 7\n",
            "[LightGBM] [Debug] Trained a tree with leaves = 31 and depth = 8\n",
            "[LightGBM] [Debug] Trained a tree with leaves = 31 and depth = 9\n",
            "[LightGBM] [Debug] Trained a tree with leaves = 31 and depth = 13\n",
            "[LightGBM] [Debug] Trained a tree with leaves = 31 and depth = 7\n",
            "[LightGBM] [Debug] Trained a tree with leaves = 31 and depth = 10\n",
            "[LightGBM] [Debug] Trained a tree with leaves = 31 and depth = 8\n",
            "[LightGBM] [Debug] Trained a tree with leaves = 31 and depth = 12\n",
            "[LightGBM] [Debug] Trained a tree with leaves = 31 and depth = 10\n",
            "[LightGBM] [Debug] Trained a tree with leaves = 31 and depth = 11\n",
            "[LightGBM] [Debug] Trained a tree with leaves = 31 and depth = 12\n",
            "[LightGBM] [Debug] Trained a tree with leaves = 31 and depth = 11\n",
            "[LightGBM] [Debug] Trained a tree with leaves = 31 and depth = 15\n",
            "[LightGBM] [Debug] Trained a tree with leaves = 31 and depth = 21\n",
            "[LightGBM] [Debug] Trained a tree with leaves = 31 and depth = 12\n",
            "[LightGBM] [Debug] Trained a tree with leaves = 31 and depth = 13\n",
            "[LightGBM] [Debug] Trained a tree with leaves = 31 and depth = 11\n",
            "[LightGBM] [Debug] Trained a tree with leaves = 31 and depth = 10\n",
            "[LightGBM] [Debug] Trained a tree with leaves = 31 and depth = 14\n",
            "[LightGBM] [Debug] Trained a tree with leaves = 31 and depth = 16\n",
            "[LightGBM] [Debug] Trained a tree with leaves = 31 and depth = 18\n",
            "[LightGBM] [Debug] Trained a tree with leaves = 31 and depth = 24\n",
            "[LightGBM] [Debug] Trained a tree with leaves = 31 and depth = 13\n",
            "[LightGBM] [Debug] Trained a tree with leaves = 31 and depth = 16\n",
            "[LightGBM] [Debug] Trained a tree with leaves = 31 and depth = 23\n",
            "[LightGBM] [Debug] Trained a tree with leaves = 31 and depth = 18\n",
            "[LightGBM] [Debug] Trained a tree with leaves = 31 and depth = 14\n",
            "[LightGBM] [Debug] Trained a tree with leaves = 31 and depth = 21\n",
            "[LightGBM] [Debug] Trained a tree with leaves = 31 and depth = 25\n",
            "[LightGBM] [Debug] Trained a tree with leaves = 31 and depth = 18\n",
            "[LightGBM] [Debug] Trained a tree with leaves = 31 and depth = 20\n",
            "[LightGBM] [Debug] Trained a tree with leaves = 31 and depth = 12\n",
            "[LightGBM] [Debug] Trained a tree with leaves = 31 and depth = 16\n",
            "[LightGBM] [Debug] Trained a tree with leaves = 31 and depth = 25\n",
            "[LightGBM] [Debug] Trained a tree with leaves = 31 and depth = 23\n",
            "[LightGBM] [Debug] Trained a tree with leaves = 31 and depth = 18\n",
            "[LightGBM] [Debug] Trained a tree with leaves = 31 and depth = 28\n",
            "[LightGBM] [Debug] Trained a tree with leaves = 31 and depth = 19\n",
            "[LightGBM] [Debug] Trained a tree with leaves = 31 and depth = 21\n",
            "[LightGBM] [Debug] Trained a tree with leaves = 31 and depth = 25\n",
            "[LightGBM] [Debug] Trained a tree with leaves = 31 and depth = 17\n",
            "[LightGBM] [Debug] Trained a tree with leaves = 31 and depth = 22\n",
            "[LightGBM] [Debug] Trained a tree with leaves = 31 and depth = 25\n",
            "[LightGBM] [Debug] Trained a tree with leaves = 31 and depth = 17\n",
            "[LightGBM] [Debug] Trained a tree with leaves = 31 and depth = 26\n",
            "[LightGBM] [Debug] Trained a tree with leaves = 31 and depth = 16\n",
            "[LightGBM] [Debug] Trained a tree with leaves = 31 and depth = 16\n",
            "[LightGBM] [Debug] Trained a tree with leaves = 31 and depth = 23\n",
            "[LightGBM] [Debug] Trained a tree with leaves = 31 and depth = 22\n",
            "[LightGBM] [Debug] Trained a tree with leaves = 31 and depth = 12\n",
            "[LightGBM] [Debug] Trained a tree with leaves = 31 and depth = 12\n",
            "[LightGBM] [Debug] Trained a tree with leaves = 31 and depth = 12\n",
            "[LightGBM] [Debug] Trained a tree with leaves = 31 and depth = 18\n",
            "[LightGBM] [Debug] Trained a tree with leaves = 31 and depth = 22\n",
            "[LightGBM] [Debug] Trained a tree with leaves = 31 and depth = 18\n",
            "[LightGBM] [Debug] Trained a tree with leaves = 31 and depth = 18\n",
            "[LightGBM] [Debug] Trained a tree with leaves = 31 and depth = 14\n",
            "[LightGBM] [Debug] Trained a tree with leaves = 31 and depth = 24\n",
            "[LightGBM] [Debug] Trained a tree with leaves = 31 and depth = 21\n",
            "[LightGBM] [Debug] Trained a tree with leaves = 31 and depth = 17\n",
            "[LightGBM] [Debug] Trained a tree with leaves = 31 and depth = 14\n",
            "[LightGBM] [Debug] Trained a tree with leaves = 31 and depth = 17\n",
            "[LightGBM] [Debug] Trained a tree with leaves = 31 and depth = 17\n",
            "[LightGBM] [Debug] Trained a tree with leaves = 31 and depth = 23\n",
            "[LightGBM] [Debug] Trained a tree with leaves = 31 and depth = 18\n",
            "[LightGBM] [Debug] Trained a tree with leaves = 31 and depth = 13\n",
            "[LightGBM] [Debug] Trained a tree with leaves = 31 and depth = 15\n",
            "[LightGBM] [Debug] Trained a tree with leaves = 31 and depth = 15\n",
            "[LightGBM] [Debug] Trained a tree with leaves = 31 and depth = 19\n",
            "[LightGBM] [Debug] Trained a tree with leaves = 31 and depth = 15\n",
            "[LightGBM] [Debug] Trained a tree with leaves = 31 and depth = 17\n",
            "[LightGBM] [Debug] Trained a tree with leaves = 31 and depth = 19\n",
            "[LightGBM] [Debug] Trained a tree with leaves = 31 and depth = 15\n",
            "[LightGBM] [Debug] Trained a tree with leaves = 31 and depth = 19\n",
            "[LightGBM] [Debug] Trained a tree with leaves = 31 and depth = 18\n",
            "[LightGBM] [Debug] Trained a tree with leaves = 31 and depth = 14\n",
            "[LightGBM] [Debug] Trained a tree with leaves = 31 and depth = 18\n",
            "[LightGBM] [Debug] Trained a tree with leaves = 31 and depth = 14\n",
            "[LightGBM] [Debug] Trained a tree with leaves = 31 and depth = 20\n",
            "[LightGBM] [Debug] Trained a tree with leaves = 31 and depth = 16\n",
            "[LightGBM] [Debug] Trained a tree with leaves = 31 and depth = 18\n",
            "[LightGBM] [Debug] Trained a tree with leaves = 31 and depth = 18\n",
            "[LightGBM] [Debug] Trained a tree with leaves = 31 and depth = 12\n",
            "[LightGBM] [Debug] Trained a tree with leaves = 31 and depth = 21\n",
            "[LightGBM] [Debug] Trained a tree with leaves = 31 and depth = 13\n",
            "[LightGBM] [Debug] Trained a tree with leaves = 31 and depth = 16\n",
            "[LightGBM] [Debug] Trained a tree with leaves = 31 and depth = 12\n",
            "[LightGBM] [Debug] Dataset::GetMultiBinFromSparseFeatures: sparse rate 0.929687\n",
            "[LightGBM] [Debug] Dataset::GetMultiBinFromAllFeatures: sparse rate 0.645920\n",
            "[LightGBM] [Debug] init for col-wise cost 0.479666 seconds, init for row-wise cost 0.422114 seconds\n",
            "[LightGBM] [Warning] Auto-choosing row-wise multi-threading, the overhead of testing was 0.653723 seconds.\n",
            "You can set `force_row_wise=true` to remove the overhead.\n",
            "And if memory is not enough, you can set `force_col_wise=true`.\n",
            "[LightGBM] [Debug] Using Sparse Multi-Val Bin\n",
            "[LightGBM] [Info] Total Bins 833\n",
            "[LightGBM] [Info] Number of data points in the train set: 132424, number of used features: 257\n",
            "[LightGBM] [Info] Start training from score 4680.665272\n",
            "[LightGBM] [Debug] Trained a tree with leaves = 50 and depth = 8\n",
            "[LightGBM] [Debug] Trained a tree with leaves = 50 and depth = 8\n",
            "[LightGBM] [Debug] Trained a tree with leaves = 50 and depth = 8\n",
            "[LightGBM] [Debug] Trained a tree with leaves = 50 and depth = 9\n",
            "[LightGBM] [Debug] Trained a tree with leaves = 50 and depth = 8\n",
            "[LightGBM] [Debug] Trained a tree with leaves = 50 and depth = 9\n",
            "[LightGBM] [Debug] Trained a tree with leaves = 50 and depth = 9\n",
            "[LightGBM] [Debug] Trained a tree with leaves = 50 and depth = 8\n",
            "[LightGBM] [Debug] Trained a tree with leaves = 50 and depth = 8\n",
            "[LightGBM] [Debug] Trained a tree with leaves = 50 and depth = 9\n",
            "[LightGBM] [Debug] Trained a tree with leaves = 50 and depth = 9\n",
            "[LightGBM] [Debug] Trained a tree with leaves = 50 and depth = 10\n",
            "[LightGBM] [Debug] Trained a tree with leaves = 50 and depth = 11\n",
            "[LightGBM] [Debug] Trained a tree with leaves = 50 and depth = 10\n",
            "[LightGBM] [Debug] Trained a tree with leaves = 50 and depth = 11\n",
            "[LightGBM] [Debug] Trained a tree with leaves = 50 and depth = 13\n",
            "[LightGBM] [Debug] Trained a tree with leaves = 50 and depth = 15\n",
            "[LightGBM] [Debug] Trained a tree with leaves = 50 and depth = 11\n",
            "[LightGBM] [Debug] Trained a tree with leaves = 50 and depth = 19\n",
            "[LightGBM] [Debug] Trained a tree with leaves = 50 and depth = 14\n",
            "[LightGBM] [Debug] Trained a tree with leaves = 50 and depth = 19\n",
            "[LightGBM] [Debug] Trained a tree with leaves = 50 and depth = 11\n",
            "[LightGBM] [Debug] Trained a tree with leaves = 50 and depth = 16\n",
            "[LightGBM] [Debug] Trained a tree with leaves = 50 and depth = 22\n",
            "[LightGBM] [Debug] Trained a tree with leaves = 50 and depth = 24\n",
            "[LightGBM] [Debug] Trained a tree with leaves = 50 and depth = 25\n",
            "[LightGBM] [Debug] Trained a tree with leaves = 50 and depth = 17\n",
            "[LightGBM] [Debug] Trained a tree with leaves = 50 and depth = 23\n",
            "[LightGBM] [Debug] Trained a tree with leaves = 50 and depth = 29\n",
            "[LightGBM] [Debug] Trained a tree with leaves = 50 and depth = 24\n",
            "[LightGBM] [Debug] Trained a tree with leaves = 50 and depth = 16\n",
            "[LightGBM] [Debug] Trained a tree with leaves = 50 and depth = 19\n",
            "[LightGBM] [Debug] Trained a tree with leaves = 50 and depth = 22\n",
            "[LightGBM] [Debug] Trained a tree with leaves = 50 and depth = 13\n",
            "[LightGBM] [Debug] Trained a tree with leaves = 50 and depth = 28\n",
            "[LightGBM] [Debug] Trained a tree with leaves = 50 and depth = 19\n",
            "[LightGBM] [Debug] Trained a tree with leaves = 50 and depth = 31\n",
            "[LightGBM] [Debug] Trained a tree with leaves = 50 and depth = 35\n",
            "[LightGBM] [Debug] Trained a tree with leaves = 50 and depth = 19\n",
            "[LightGBM] [Debug] Trained a tree with leaves = 50 and depth = 35\n",
            "[LightGBM] [Debug] Trained a tree with leaves = 50 and depth = 33\n",
            "[LightGBM] [Debug] Trained a tree with leaves = 50 and depth = 30\n",
            "[LightGBM] [Debug] Trained a tree with leaves = 50 and depth = 33\n",
            "[LightGBM] [Debug] Trained a tree with leaves = 50 and depth = 29\n",
            "[LightGBM] [Debug] Trained a tree with leaves = 50 and depth = 33\n",
            "[LightGBM] [Debug] Trained a tree with leaves = 50 and depth = 36\n",
            "[LightGBM] [Debug] Trained a tree with leaves = 50 and depth = 30\n",
            "[LightGBM] [Debug] Trained a tree with leaves = 50 and depth = 36\n",
            "[LightGBM] [Debug] Trained a tree with leaves = 50 and depth = 31\n",
            "[LightGBM] [Debug] Trained a tree with leaves = 50 and depth = 28\n",
            "[LightGBM] [Debug] Trained a tree with leaves = 50 and depth = 29\n",
            "[LightGBM] [Debug] Trained a tree with leaves = 50 and depth = 29\n",
            "[LightGBM] [Debug] Trained a tree with leaves = 50 and depth = 32\n",
            "[LightGBM] [Debug] Trained a tree with leaves = 50 and depth = 30\n",
            "[LightGBM] [Debug] Trained a tree with leaves = 50 and depth = 33\n",
            "[LightGBM] [Debug] Trained a tree with leaves = 50 and depth = 23\n",
            "[LightGBM] [Debug] Trained a tree with leaves = 50 and depth = 21\n",
            "[LightGBM] [Debug] Trained a tree with leaves = 50 and depth = 28\n",
            "[LightGBM] [Debug] Trained a tree with leaves = 50 and depth = 23\n",
            "[LightGBM] [Debug] Trained a tree with leaves = 50 and depth = 32\n",
            "[LightGBM] [Debug] Trained a tree with leaves = 50 and depth = 24\n",
            "[LightGBM] [Debug] Trained a tree with leaves = 50 and depth = 22\n",
            "[LightGBM] [Debug] Trained a tree with leaves = 50 and depth = 31\n",
            "[LightGBM] [Debug] Trained a tree with leaves = 50 and depth = 36\n",
            "[LightGBM] [Debug] Trained a tree with leaves = 50 and depth = 35\n",
            "[LightGBM] [Debug] Trained a tree with leaves = 50 and depth = 23\n",
            "[LightGBM] [Debug] Trained a tree with leaves = 50 and depth = 32\n",
            "[LightGBM] [Debug] Trained a tree with leaves = 50 and depth = 18\n",
            "[LightGBM] [Debug] Trained a tree with leaves = 50 and depth = 35\n",
            "[LightGBM] [Debug] Trained a tree with leaves = 50 and depth = 27\n",
            "[LightGBM] [Debug] Trained a tree with leaves = 50 and depth = 26\n",
            "[LightGBM] [Debug] Trained a tree with leaves = 50 and depth = 19\n",
            "[LightGBM] [Debug] Trained a tree with leaves = 50 and depth = 22\n",
            "[LightGBM] [Debug] Trained a tree with leaves = 50 and depth = 27\n",
            "[LightGBM] [Debug] Trained a tree with leaves = 50 and depth = 28\n",
            "[LightGBM] [Debug] Trained a tree with leaves = 50 and depth = 23\n",
            "[LightGBM] [Debug] Trained a tree with leaves = 50 and depth = 24\n",
            "[LightGBM] [Debug] Trained a tree with leaves = 50 and depth = 28\n",
            "[LightGBM] [Debug] Trained a tree with leaves = 50 and depth = 25\n",
            "[LightGBM] [Debug] Trained a tree with leaves = 50 and depth = 24\n",
            "[LightGBM] [Debug] Trained a tree with leaves = 50 and depth = 18\n",
            "[LightGBM] [Debug] Trained a tree with leaves = 50 and depth = 19\n",
            "[LightGBM] [Debug] Trained a tree with leaves = 50 and depth = 24\n",
            "[LightGBM] [Debug] Trained a tree with leaves = 50 and depth = 18\n",
            "[LightGBM] [Debug] Trained a tree with leaves = 50 and depth = 30\n",
            "[LightGBM] [Debug] Trained a tree with leaves = 50 and depth = 16\n",
            "[LightGBM] [Debug] Trained a tree with leaves = 50 and depth = 26\n",
            "[LightGBM] [Debug] Trained a tree with leaves = 50 and depth = 26\n",
            "[LightGBM] [Debug] Trained a tree with leaves = 50 and depth = 19\n",
            "[LightGBM] [Debug] Trained a tree with leaves = 50 and depth = 14\n",
            "[LightGBM] [Debug] Trained a tree with leaves = 50 and depth = 25\n",
            "[LightGBM] [Debug] Trained a tree with leaves = 50 and depth = 22\n",
            "[LightGBM] [Debug] Trained a tree with leaves = 50 and depth = 17\n",
            "[LightGBM] [Debug] Trained a tree with leaves = 50 and depth = 22\n",
            "[LightGBM] [Debug] Trained a tree with leaves = 50 and depth = 16\n",
            "[LightGBM] [Debug] Trained a tree with leaves = 50 and depth = 20\n",
            "[LightGBM] [Debug] Trained a tree with leaves = 50 and depth = 20\n",
            "[LightGBM] [Debug] Trained a tree with leaves = 50 and depth = 20\n",
            "[LightGBM] [Debug] Trained a tree with leaves = 50 and depth = 24\n",
            "[LightGBM] [Debug] Trained a tree with leaves = 50 and depth = 28\n",
            "[LightGBM] [Debug] Dataset::GetMultiBinFromSparseFeatures: sparse rate 0.929918\n",
            "[LightGBM] [Debug] Dataset::GetMultiBinFromAllFeatures: sparse rate 0.646051\n",
            "[LightGBM] [Debug] init for col-wise cost 0.420188 seconds, init for row-wise cost 0.501671 seconds\n",
            "[LightGBM] [Warning] Auto-choosing row-wise multi-threading, the overhead of testing was 0.585668 seconds.\n",
            "You can set `force_row_wise=true` to remove the overhead.\n",
            "And if memory is not enough, you can set `force_col_wise=true`.\n",
            "[LightGBM] [Debug] Using Sparse Multi-Val Bin\n",
            "[LightGBM] [Info] Total Bins 828\n",
            "[LightGBM] [Info] Number of data points in the train set: 132425, number of used features: 255\n",
            "[LightGBM] [Info] Start training from score 4672.926668\n",
            "[LightGBM] [Debug] Trained a tree with leaves = 50 and depth = 8\n",
            "[LightGBM] [Debug] Trained a tree with leaves = 50 and depth = 8\n",
            "[LightGBM] [Debug] Trained a tree with leaves = 50 and depth = 9\n",
            "[LightGBM] [Debug] Trained a tree with leaves = 50 and depth = 9\n",
            "[LightGBM] [Debug] Trained a tree with leaves = 50 and depth = 8\n",
            "[LightGBM] [Debug] Trained a tree with leaves = 50 and depth = 9\n",
            "[LightGBM] [Debug] Trained a tree with leaves = 50 and depth = 8\n",
            "[LightGBM] [Debug] Trained a tree with leaves = 50 and depth = 9\n",
            "[LightGBM] [Debug] Trained a tree with leaves = 50 and depth = 8\n",
            "[LightGBM] [Debug] Trained a tree with leaves = 50 and depth = 9\n",
            "[LightGBM] [Debug] Trained a tree with leaves = 50 and depth = 9\n",
            "[LightGBM] [Debug] Trained a tree with leaves = 50 and depth = 10\n",
            "[LightGBM] [Debug] Trained a tree with leaves = 50 and depth = 11\n",
            "[LightGBM] [Debug] Trained a tree with leaves = 50 and depth = 11\n",
            "[LightGBM] [Debug] Trained a tree with leaves = 50 and depth = 13\n",
            "[LightGBM] [Debug] Trained a tree with leaves = 50 and depth = 10\n",
            "[LightGBM] [Debug] Trained a tree with leaves = 50 and depth = 17\n",
            "[LightGBM] [Debug] Trained a tree with leaves = 50 and depth = 10\n",
            "[LightGBM] [Debug] Trained a tree with leaves = 50 and depth = 13\n",
            "[LightGBM] [Debug] Trained a tree with leaves = 50 and depth = 10\n",
            "[LightGBM] [Debug] Trained a tree with leaves = 50 and depth = 12\n",
            "[LightGBM] [Debug] Trained a tree with leaves = 50 and depth = 22\n",
            "[LightGBM] [Debug] Trained a tree with leaves = 50 and depth = 14\n",
            "[LightGBM] [Debug] Trained a tree with leaves = 50 and depth = 13\n",
            "[LightGBM] [Debug] Trained a tree with leaves = 50 and depth = 19\n",
            "[LightGBM] [Debug] Trained a tree with leaves = 50 and depth = 27\n",
            "[LightGBM] [Debug] Trained a tree with leaves = 50 and depth = 15\n",
            "[LightGBM] [Debug] Trained a tree with leaves = 50 and depth = 22\n",
            "[LightGBM] [Debug] Trained a tree with leaves = 50 and depth = 28\n",
            "[LightGBM] [Debug] Trained a tree with leaves = 50 and depth = 26\n",
            "[LightGBM] [Debug] Trained a tree with leaves = 50 and depth = 22\n",
            "[LightGBM] [Debug] Trained a tree with leaves = 50 and depth = 19\n",
            "[LightGBM] [Debug] Trained a tree with leaves = 50 and depth = 16\n",
            "[LightGBM] [Debug] Trained a tree with leaves = 50 and depth = 15\n",
            "[LightGBM] [Debug] Trained a tree with leaves = 50 and depth = 24\n",
            "[LightGBM] [Debug] Trained a tree with leaves = 50 and depth = 15\n",
            "[LightGBM] [Debug] Trained a tree with leaves = 50 and depth = 20\n",
            "[LightGBM] [Debug] Trained a tree with leaves = 50 and depth = 24\n",
            "[LightGBM] [Debug] Trained a tree with leaves = 50 and depth = 36\n",
            "[LightGBM] [Debug] Trained a tree with leaves = 50 and depth = 36\n",
            "[LightGBM] [Debug] Trained a tree with leaves = 50 and depth = 19\n",
            "[LightGBM] [Debug] Trained a tree with leaves = 50 and depth = 33\n",
            "[LightGBM] [Debug] Trained a tree with leaves = 50 and depth = 20\n",
            "[LightGBM] [Debug] Trained a tree with leaves = 50 and depth = 39\n",
            "[LightGBM] [Debug] Trained a tree with leaves = 50 and depth = 34\n",
            "[LightGBM] [Debug] Trained a tree with leaves = 50 and depth = 36\n",
            "[LightGBM] [Debug] Trained a tree with leaves = 50 and depth = 18\n",
            "[LightGBM] [Debug] Trained a tree with leaves = 50 and depth = 30\n",
            "[LightGBM] [Debug] Trained a tree with leaves = 50 and depth = 37\n",
            "[LightGBM] [Debug] Trained a tree with leaves = 50 and depth = 29\n",
            "[LightGBM] [Debug] Trained a tree with leaves = 50 and depth = 27\n",
            "[LightGBM] [Debug] Trained a tree with leaves = 50 and depth = 36\n",
            "[LightGBM] [Debug] Trained a tree with leaves = 50 and depth = 21\n",
            "[LightGBM] [Debug] Trained a tree with leaves = 50 and depth = 29\n",
            "[LightGBM] [Debug] Trained a tree with leaves = 50 and depth = 29\n",
            "[LightGBM] [Debug] Trained a tree with leaves = 50 and depth = 35\n",
            "[LightGBM] [Debug] Trained a tree with leaves = 50 and depth = 26\n",
            "[LightGBM] [Debug] Trained a tree with leaves = 50 and depth = 19\n",
            "[LightGBM] [Debug] Trained a tree with leaves = 50 and depth = 33\n",
            "[LightGBM] [Debug] Trained a tree with leaves = 50 and depth = 31\n",
            "[LightGBM] [Debug] Trained a tree with leaves = 50 and depth = 31\n",
            "[LightGBM] [Debug] Trained a tree with leaves = 50 and depth = 15\n",
            "[LightGBM] [Debug] Trained a tree with leaves = 50 and depth = 24\n",
            "[LightGBM] [Debug] Trained a tree with leaves = 50 and depth = 30\n",
            "[LightGBM] [Debug] Trained a tree with leaves = 50 and depth = 28\n",
            "[LightGBM] [Debug] Trained a tree with leaves = 50 and depth = 19\n",
            "[LightGBM] [Debug] Trained a tree with leaves = 50 and depth = 26\n",
            "[LightGBM] [Debug] Trained a tree with leaves = 50 and depth = 27\n",
            "[LightGBM] [Debug] Trained a tree with leaves = 50 and depth = 23\n",
            "[LightGBM] [Debug] Trained a tree with leaves = 50 and depth = 26\n",
            "[LightGBM] [Debug] Trained a tree with leaves = 50 and depth = 17\n",
            "[LightGBM] [Debug] Trained a tree with leaves = 50 and depth = 28\n",
            "[LightGBM] [Debug] Trained a tree with leaves = 50 and depth = 23\n",
            "[LightGBM] [Debug] Trained a tree with leaves = 50 and depth = 24\n",
            "[LightGBM] [Debug] Trained a tree with leaves = 50 and depth = 23\n",
            "[LightGBM] [Debug] Trained a tree with leaves = 50 and depth = 27\n",
            "[LightGBM] [Debug] Trained a tree with leaves = 50 and depth = 24\n",
            "[LightGBM] [Debug] Trained a tree with leaves = 50 and depth = 28\n",
            "[LightGBM] [Debug] Trained a tree with leaves = 50 and depth = 22\n",
            "[LightGBM] [Debug] Trained a tree with leaves = 50 and depth = 17\n",
            "[LightGBM] [Debug] Trained a tree with leaves = 50 and depth = 29\n",
            "[LightGBM] [Debug] Trained a tree with leaves = 50 and depth = 19\n",
            "[LightGBM] [Debug] Trained a tree with leaves = 50 and depth = 25\n",
            "[LightGBM] [Debug] Trained a tree with leaves = 50 and depth = 29\n",
            "[LightGBM] [Debug] Trained a tree with leaves = 50 and depth = 29\n",
            "[LightGBM] [Debug] Trained a tree with leaves = 50 and depth = 19\n",
            "[LightGBM] [Debug] Trained a tree with leaves = 50 and depth = 19\n",
            "[LightGBM] [Debug] Trained a tree with leaves = 50 and depth = 17\n",
            "[LightGBM] [Debug] Trained a tree with leaves = 50 and depth = 22\n",
            "[LightGBM] [Debug] Trained a tree with leaves = 50 and depth = 19\n",
            "[LightGBM] [Debug] Trained a tree with leaves = 50 and depth = 19\n",
            "[LightGBM] [Debug] Trained a tree with leaves = 50 and depth = 27\n",
            "[LightGBM] [Debug] Trained a tree with leaves = 50 and depth = 14\n",
            "[LightGBM] [Debug] Trained a tree with leaves = 50 and depth = 25\n",
            "[LightGBM] [Debug] Trained a tree with leaves = 50 and depth = 23\n",
            "[LightGBM] [Debug] Trained a tree with leaves = 50 and depth = 22\n",
            "[LightGBM] [Debug] Trained a tree with leaves = 50 and depth = 20\n",
            "[LightGBM] [Debug] Trained a tree with leaves = 50 and depth = 14\n",
            "[LightGBM] [Debug] Trained a tree with leaves = 50 and depth = 14\n",
            "[LightGBM] [Debug] Trained a tree with leaves = 50 and depth = 19\n",
            "[LightGBM] [Debug] Dataset::GetMultiBinFromSparseFeatures: sparse rate 0.935448\n",
            "[LightGBM] [Debug] Dataset::GetMultiBinFromAllFeatures: sparse rate 0.666768\n",
            "[LightGBM] [Debug] init for col-wise cost 0.430247 seconds, init for row-wise cost 0.382950 seconds\n",
            "[LightGBM] [Warning] Auto-choosing row-wise multi-threading, the overhead of testing was 0.539447 seconds.\n",
            "You can set `force_row_wise=true` to remove the overhead.\n",
            "And if memory is not enough, you can set `force_col_wise=true`.\n",
            "[LightGBM] [Debug] Using Sparse Multi-Val Bin\n",
            "[LightGBM] [Info] Total Bins 825\n",
            "[LightGBM] [Info] Number of data points in the train set: 132425, number of used features: 254\n",
            "[LightGBM] [Info] Start training from score 4680.328850\n",
            "[LightGBM] [Debug] Trained a tree with leaves = 50 and depth = 8\n",
            "[LightGBM] [Debug] Trained a tree with leaves = 50 and depth = 8\n",
            "[LightGBM] [Debug] Trained a tree with leaves = 50 and depth = 8\n",
            "[LightGBM] [Debug] Trained a tree with leaves = 50 and depth = 8\n",
            "[LightGBM] [Debug] Trained a tree with leaves = 50 and depth = 8\n",
            "[LightGBM] [Debug] Trained a tree with leaves = 50 and depth = 9\n",
            "[LightGBM] [Debug] Trained a tree with leaves = 50 and depth = 9\n",
            "[LightGBM] [Debug] Trained a tree with leaves = 50 and depth = 9\n",
            "[LightGBM] [Debug] Trained a tree with leaves = 50 and depth = 9\n",
            "[LightGBM] [Debug] Trained a tree with leaves = 50 and depth = 9\n",
            "[LightGBM] [Debug] Trained a tree with leaves = 50 and depth = 9\n",
            "[LightGBM] [Debug] Trained a tree with leaves = 50 and depth = 9\n",
            "[LightGBM] [Debug] Trained a tree with leaves = 50 and depth = 10\n",
            "[LightGBM] [Debug] Trained a tree with leaves = 50 and depth = 9\n",
            "[LightGBM] [Debug] Trained a tree with leaves = 50 and depth = 11\n",
            "[LightGBM] [Debug] Trained a tree with leaves = 50 and depth = 12\n",
            "[LightGBM] [Debug] Trained a tree with leaves = 50 and depth = 12\n",
            "[LightGBM] [Debug] Trained a tree with leaves = 50 and depth = 12\n",
            "[LightGBM] [Debug] Trained a tree with leaves = 50 and depth = 17\n",
            "[LightGBM] [Debug] Trained a tree with leaves = 50 and depth = 14\n",
            "[LightGBM] [Debug] Trained a tree with leaves = 50 and depth = 13\n",
            "[LightGBM] [Debug] Trained a tree with leaves = 50 and depth = 20\n",
            "[LightGBM] [Debug] Trained a tree with leaves = 50 and depth = 16\n",
            "[LightGBM] [Debug] Trained a tree with leaves = 50 and depth = 19\n",
            "[LightGBM] [Debug] Trained a tree with leaves = 50 and depth = 18\n",
            "[LightGBM] [Debug] Trained a tree with leaves = 50 and depth = 22\n",
            "[LightGBM] [Debug] Trained a tree with leaves = 50 and depth = 17\n",
            "[LightGBM] [Debug] Trained a tree with leaves = 50 and depth = 30\n",
            "[LightGBM] [Debug] Trained a tree with leaves = 50 and depth = 19\n",
            "[LightGBM] [Debug] Trained a tree with leaves = 50 and depth = 17\n",
            "[LightGBM] [Debug] Trained a tree with leaves = 50 and depth = 16\n",
            "[LightGBM] [Debug] Trained a tree with leaves = 50 and depth = 23\n",
            "[LightGBM] [Debug] Trained a tree with leaves = 50 and depth = 20\n",
            "[LightGBM] [Debug] Trained a tree with leaves = 50 and depth = 18\n",
            "[LightGBM] [Debug] Trained a tree with leaves = 50 and depth = 15\n",
            "[LightGBM] [Debug] Trained a tree with leaves = 50 and depth = 29\n",
            "[LightGBM] [Debug] Trained a tree with leaves = 50 and depth = 22\n",
            "[LightGBM] [Debug] Trained a tree with leaves = 50 and depth = 24\n",
            "[LightGBM] [Debug] Trained a tree with leaves = 50 and depth = 30\n",
            "[LightGBM] [Debug] Trained a tree with leaves = 50 and depth = 32\n",
            "[LightGBM] [Debug] Trained a tree with leaves = 50 and depth = 22\n",
            "[LightGBM] [Debug] Trained a tree with leaves = 50 and depth = 37\n",
            "[LightGBM] [Debug] Trained a tree with leaves = 50 and depth = 31\n",
            "[LightGBM] [Debug] Trained a tree with leaves = 50 and depth = 33\n",
            "[LightGBM] [Debug] Trained a tree with leaves = 50 and depth = 23\n",
            "[LightGBM] [Debug] Trained a tree with leaves = 50 and depth = 41\n",
            "[LightGBM] [Debug] Trained a tree with leaves = 50 and depth = 25\n",
            "[LightGBM] [Debug] Trained a tree with leaves = 50 and depth = 42\n",
            "[LightGBM] [Debug] Trained a tree with leaves = 50 and depth = 35\n",
            "[LightGBM] [Debug] Trained a tree with leaves = 50 and depth = 36\n",
            "[LightGBM] [Debug] Trained a tree with leaves = 50 and depth = 28\n",
            "[LightGBM] [Debug] Trained a tree with leaves = 50 and depth = 37\n",
            "[LightGBM] [Debug] Trained a tree with leaves = 50 and depth = 31\n",
            "[LightGBM] [Debug] Trained a tree with leaves = 50 and depth = 27\n",
            "[LightGBM] [Debug] Trained a tree with leaves = 50 and depth = 36\n",
            "[LightGBM] [Debug] Trained a tree with leaves = 50 and depth = 26\n",
            "[LightGBM] [Debug] Trained a tree with leaves = 50 and depth = 31\n",
            "[LightGBM] [Debug] Trained a tree with leaves = 50 and depth = 30\n",
            "[LightGBM] [Debug] Trained a tree with leaves = 50 and depth = 25\n",
            "[LightGBM] [Debug] Trained a tree with leaves = 50 and depth = 37\n",
            "[LightGBM] [Debug] Trained a tree with leaves = 50 and depth = 31\n",
            "[LightGBM] [Debug] Trained a tree with leaves = 50 and depth = 31\n",
            "[LightGBM] [Debug] Trained a tree with leaves = 50 and depth = 21\n",
            "[LightGBM] [Debug] Trained a tree with leaves = 50 and depth = 25\n",
            "[LightGBM] [Debug] Trained a tree with leaves = 50 and depth = 29\n",
            "[LightGBM] [Debug] Trained a tree with leaves = 50 and depth = 25\n",
            "[LightGBM] [Debug] Trained a tree with leaves = 50 and depth = 27\n",
            "[LightGBM] [Debug] Trained a tree with leaves = 50 and depth = 28\n",
            "[LightGBM] [Debug] Trained a tree with leaves = 50 and depth = 24\n",
            "[LightGBM] [Debug] Trained a tree with leaves = 50 and depth = 22\n",
            "[LightGBM] [Debug] Trained a tree with leaves = 50 and depth = 22\n",
            "[LightGBM] [Debug] Trained a tree with leaves = 50 and depth = 30\n",
            "[LightGBM] [Debug] Trained a tree with leaves = 50 and depth = 25\n",
            "[LightGBM] [Debug] Trained a tree with leaves = 50 and depth = 28\n",
            "[LightGBM] [Debug] Trained a tree with leaves = 50 and depth = 24\n",
            "[LightGBM] [Debug] Trained a tree with leaves = 50 and depth = 19\n",
            "[LightGBM] [Debug] Trained a tree with leaves = 50 and depth = 22\n",
            "[LightGBM] [Debug] Trained a tree with leaves = 50 and depth = 18\n",
            "[LightGBM] [Debug] Trained a tree with leaves = 50 and depth = 20\n",
            "[LightGBM] [Debug] Trained a tree with leaves = 50 and depth = 26\n",
            "[LightGBM] [Debug] Trained a tree with leaves = 50 and depth = 21\n",
            "[LightGBM] [Debug] Trained a tree with leaves = 50 and depth = 20\n",
            "[LightGBM] [Debug] Trained a tree with leaves = 50 and depth = 21\n",
            "[LightGBM] [Debug] Trained a tree with leaves = 50 and depth = 19\n",
            "[LightGBM] [Debug] Trained a tree with leaves = 50 and depth = 21\n",
            "[LightGBM] [Debug] Trained a tree with leaves = 50 and depth = 21\n",
            "[LightGBM] [Debug] Trained a tree with leaves = 50 and depth = 25\n",
            "[LightGBM] [Debug] Trained a tree with leaves = 50 and depth = 26\n",
            "[LightGBM] [Debug] Trained a tree with leaves = 50 and depth = 19\n",
            "[LightGBM] [Debug] Trained a tree with leaves = 50 and depth = 14\n",
            "[LightGBM] [Debug] Trained a tree with leaves = 50 and depth = 24\n",
            "[LightGBM] [Debug] Trained a tree with leaves = 50 and depth = 25\n",
            "[LightGBM] [Debug] Trained a tree with leaves = 50 and depth = 22\n",
            "[LightGBM] [Debug] Trained a tree with leaves = 50 and depth = 25\n",
            "[LightGBM] [Debug] Trained a tree with leaves = 50 and depth = 21\n",
            "[LightGBM] [Debug] Trained a tree with leaves = 50 and depth = 16\n",
            "[LightGBM] [Debug] Trained a tree with leaves = 50 and depth = 28\n",
            "[LightGBM] [Debug] Trained a tree with leaves = 50 and depth = 34\n",
            "[LightGBM] [Debug] Trained a tree with leaves = 50 and depth = 12\n",
            "[LightGBM] [Debug] Trained a tree with leaves = 50 and depth = 14\n",
            "[LightGBM] [Debug] Dataset::GetMultiBinFromSparseFeatures: sparse rate 0.929687\n",
            "[LightGBM] [Debug] Dataset::GetMultiBinFromAllFeatures: sparse rate 0.645920\n",
            "[LightGBM] [Debug] init for col-wise cost 0.474853 seconds, init for row-wise cost 0.487966 seconds\n",
            "[LightGBM] [Warning] Auto-choosing col-wise multi-threading, the overhead of testing was 0.592075 seconds.\n",
            "You can set `force_col_wise=true` to remove the overhead.\n",
            "[LightGBM] [Info] Total Bins 833\n",
            "[LightGBM] [Info] Number of data points in the train set: 132424, number of used features: 257\n",
            "[LightGBM] [Info] Start training from score 4680.665272\n",
            "[LightGBM] [Debug] Trained a tree with leaves = 31 and depth = 7\n",
            "[LightGBM] [Debug] Trained a tree with leaves = 31 and depth = 7\n",
            "[LightGBM] [Debug] Trained a tree with leaves = 31 and depth = 7\n",
            "[LightGBM] [Debug] Trained a tree with leaves = 31 and depth = 7\n",
            "[LightGBM] [Debug] Trained a tree with leaves = 31 and depth = 6\n",
            "[LightGBM] [Debug] Trained a tree with leaves = 31 and depth = 7\n",
            "[LightGBM] [Debug] Trained a tree with leaves = 31 and depth = 7\n",
            "[LightGBM] [Debug] Trained a tree with leaves = 31 and depth = 8\n",
            "[LightGBM] [Debug] Trained a tree with leaves = 31 and depth = 7\n",
            "[LightGBM] [Debug] Trained a tree with leaves = 31 and depth = 7\n",
            "[LightGBM] [Debug] Trained a tree with leaves = 31 and depth = 8\n",
            "[LightGBM] [Debug] Trained a tree with leaves = 31 and depth = 7\n",
            "[LightGBM] [Debug] Trained a tree with leaves = 31 and depth = 7\n",
            "[LightGBM] [Debug] Trained a tree with leaves = 31 and depth = 7\n",
            "[LightGBM] [Debug] Trained a tree with leaves = 31 and depth = 8\n",
            "[LightGBM] [Debug] Trained a tree with leaves = 31 and depth = 7\n",
            "[LightGBM] [Debug] Trained a tree with leaves = 31 and depth = 8\n",
            "[LightGBM] [Debug] Trained a tree with leaves = 31 and depth = 7\n",
            "[LightGBM] [Debug] Trained a tree with leaves = 31 and depth = 7\n",
            "[LightGBM] [Debug] Trained a tree with leaves = 31 and depth = 8\n",
            "[LightGBM] [Debug] Trained a tree with leaves = 31 and depth = 8\n",
            "[LightGBM] [Debug] Trained a tree with leaves = 31 and depth = 8\n",
            "[LightGBM] [Debug] Trained a tree with leaves = 31 and depth = 8\n",
            "[LightGBM] [Debug] Trained a tree with leaves = 31 and depth = 9\n",
            "[LightGBM] [Debug] Trained a tree with leaves = 31 and depth = 8\n",
            "[LightGBM] [Debug] Trained a tree with leaves = 31 and depth = 8\n",
            "[LightGBM] [Debug] Trained a tree with leaves = 31 and depth = 8\n",
            "[LightGBM] [Debug] Trained a tree with leaves = 31 and depth = 7\n",
            "[LightGBM] [Debug] Trained a tree with leaves = 31 and depth = 8\n",
            "[LightGBM] [Debug] Trained a tree with leaves = 31 and depth = 9\n",
            "[LightGBM] [Debug] Trained a tree with leaves = 31 and depth = 10\n",
            "[LightGBM] [Debug] Trained a tree with leaves = 31 and depth = 8\n",
            "[LightGBM] [Debug] Trained a tree with leaves = 31 and depth = 8\n",
            "[LightGBM] [Debug] Trained a tree with leaves = 31 and depth = 8\n",
            "[LightGBM] [Debug] Trained a tree with leaves = 31 and depth = 10\n",
            "[LightGBM] [Debug] Trained a tree with leaves = 31 and depth = 10\n",
            "[LightGBM] [Debug] Trained a tree with leaves = 31 and depth = 10\n",
            "[LightGBM] [Debug] Trained a tree with leaves = 31 and depth = 11\n",
            "[LightGBM] [Debug] Trained a tree with leaves = 31 and depth = 9\n",
            "[LightGBM] [Debug] Trained a tree with leaves = 31 and depth = 10\n",
            "[LightGBM] [Debug] Trained a tree with leaves = 31 and depth = 8\n",
            "[LightGBM] [Debug] Trained a tree with leaves = 31 and depth = 11\n",
            "[LightGBM] [Debug] Trained a tree with leaves = 31 and depth = 8\n",
            "[LightGBM] [Debug] Trained a tree with leaves = 31 and depth = 9\n",
            "[LightGBM] [Debug] Trained a tree with leaves = 31 and depth = 19\n",
            "[LightGBM] [Debug] Trained a tree with leaves = 31 and depth = 9\n",
            "[LightGBM] [Debug] Trained a tree with leaves = 31 and depth = 11\n",
            "[LightGBM] [Debug] Trained a tree with leaves = 31 and depth = 9\n",
            "[LightGBM] [Debug] Trained a tree with leaves = 31 and depth = 11\n",
            "[LightGBM] [Debug] Trained a tree with leaves = 31 and depth = 17\n",
            "[LightGBM] [Debug] Trained a tree with leaves = 31 and depth = 13\n",
            "[LightGBM] [Debug] Trained a tree with leaves = 31 and depth = 18\n",
            "[LightGBM] [Debug] Trained a tree with leaves = 31 and depth = 13\n",
            "[LightGBM] [Debug] Trained a tree with leaves = 31 and depth = 14\n",
            "[LightGBM] [Debug] Trained a tree with leaves = 31 and depth = 12\n",
            "[LightGBM] [Debug] Trained a tree with leaves = 31 and depth = 10\n",
            "[LightGBM] [Debug] Trained a tree with leaves = 31 and depth = 17\n",
            "[LightGBM] [Debug] Trained a tree with leaves = 31 and depth = 13\n",
            "[LightGBM] [Debug] Trained a tree with leaves = 31 and depth = 18\n",
            "[LightGBM] [Debug] Trained a tree with leaves = 31 and depth = 15\n",
            "[LightGBM] [Debug] Trained a tree with leaves = 31 and depth = 13\n",
            "[LightGBM] [Debug] Trained a tree with leaves = 31 and depth = 13\n",
            "[LightGBM] [Debug] Trained a tree with leaves = 31 and depth = 15\n",
            "[LightGBM] [Debug] Trained a tree with leaves = 31 and depth = 13\n",
            "[LightGBM] [Debug] Trained a tree with leaves = 31 and depth = 10\n",
            "[LightGBM] [Debug] Trained a tree with leaves = 31 and depth = 28\n",
            "[LightGBM] [Debug] Trained a tree with leaves = 31 and depth = 14\n",
            "[LightGBM] [Debug] Trained a tree with leaves = 31 and depth = 14\n",
            "[LightGBM] [Debug] Trained a tree with leaves = 31 and depth = 18\n",
            "[LightGBM] [Debug] Trained a tree with leaves = 31 and depth = 21\n",
            "[LightGBM] [Debug] Trained a tree with leaves = 31 and depth = 12\n",
            "[LightGBM] [Debug] Trained a tree with leaves = 31 and depth = 20\n",
            "[LightGBM] [Debug] Trained a tree with leaves = 31 and depth = 14\n",
            "[LightGBM] [Debug] Trained a tree with leaves = 31 and depth = 25\n",
            "[LightGBM] [Debug] Trained a tree with leaves = 31 and depth = 9\n",
            "[LightGBM] [Debug] Trained a tree with leaves = 31 and depth = 15\n",
            "[LightGBM] [Debug] Trained a tree with leaves = 31 and depth = 25\n",
            "[LightGBM] [Debug] Trained a tree with leaves = 31 and depth = 29\n",
            "[LightGBM] [Debug] Trained a tree with leaves = 31 and depth = 18\n",
            "[LightGBM] [Debug] Trained a tree with leaves = 31 and depth = 22\n",
            "[LightGBM] [Debug] Trained a tree with leaves = 31 and depth = 14\n",
            "[LightGBM] [Debug] Trained a tree with leaves = 31 and depth = 18\n",
            "[LightGBM] [Debug] Trained a tree with leaves = 31 and depth = 24\n",
            "[LightGBM] [Debug] Trained a tree with leaves = 31 and depth = 14\n",
            "[LightGBM] [Debug] Trained a tree with leaves = 31 and depth = 21\n",
            "[LightGBM] [Debug] Trained a tree with leaves = 31 and depth = 15\n",
            "[LightGBM] [Debug] Trained a tree with leaves = 31 and depth = 24\n",
            "[LightGBM] [Debug] Trained a tree with leaves = 31 and depth = 19\n",
            "[LightGBM] [Debug] Trained a tree with leaves = 31 and depth = 19\n",
            "[LightGBM] [Debug] Trained a tree with leaves = 31 and depth = 16\n",
            "[LightGBM] [Debug] Trained a tree with leaves = 31 and depth = 14\n",
            "[LightGBM] [Debug] Trained a tree with leaves = 31 and depth = 26\n",
            "[LightGBM] [Debug] Trained a tree with leaves = 31 and depth = 25\n",
            "[LightGBM] [Debug] Trained a tree with leaves = 31 and depth = 19\n",
            "[LightGBM] [Debug] Trained a tree with leaves = 31 and depth = 24\n",
            "[LightGBM] [Debug] Trained a tree with leaves = 31 and depth = 25\n",
            "[LightGBM] [Debug] Trained a tree with leaves = 31 and depth = 24\n",
            "[LightGBM] [Debug] Trained a tree with leaves = 31 and depth = 19\n",
            "[LightGBM] [Debug] Trained a tree with leaves = 31 and depth = 21\n",
            "[LightGBM] [Debug] Trained a tree with leaves = 31 and depth = 12\n",
            "[LightGBM] [Debug] Dataset::GetMultiBinFromSparseFeatures: sparse rate 0.929918\n",
            "[LightGBM] [Debug] Dataset::GetMultiBinFromAllFeatures: sparse rate 0.646051\n",
            "[LightGBM] [Debug] init for col-wise cost 0.414074 seconds, init for row-wise cost 0.482920 seconds\n",
            "[LightGBM] [Warning] Auto-choosing row-wise multi-threading, the overhead of testing was 0.527009 seconds.\n",
            "You can set `force_row_wise=true` to remove the overhead.\n",
            "And if memory is not enough, you can set `force_col_wise=true`.\n",
            "[LightGBM] [Debug] Using Sparse Multi-Val Bin\n",
            "[LightGBM] [Info] Total Bins 828\n",
            "[LightGBM] [Info] Number of data points in the train set: 132425, number of used features: 255\n",
            "[LightGBM] [Info] Start training from score 4672.926668\n",
            "[LightGBM] [Debug] Trained a tree with leaves = 31 and depth = 7\n",
            "[LightGBM] [Debug] Trained a tree with leaves = 31 and depth = 7\n",
            "[LightGBM] [Debug] Trained a tree with leaves = 31 and depth = 7\n",
            "[LightGBM] [Debug] Trained a tree with leaves = 31 and depth = 7\n",
            "[LightGBM] [Debug] Trained a tree with leaves = 31 and depth = 7\n",
            "[LightGBM] [Debug] Trained a tree with leaves = 31 and depth = 7\n",
            "[LightGBM] [Debug] Trained a tree with leaves = 31 and depth = 6\n",
            "[LightGBM] [Debug] Trained a tree with leaves = 31 and depth = 7\n",
            "[LightGBM] [Debug] Trained a tree with leaves = 31 and depth = 7\n",
            "[LightGBM] [Debug] Trained a tree with leaves = 31 and depth = 7\n",
            "[LightGBM] [Debug] Trained a tree with leaves = 31 and depth = 7\n",
            "[LightGBM] [Debug] Trained a tree with leaves = 31 and depth = 7\n",
            "[LightGBM] [Debug] Trained a tree with leaves = 31 and depth = 6\n",
            "[LightGBM] [Debug] Trained a tree with leaves = 31 and depth = 7\n",
            "[LightGBM] [Debug] Trained a tree with leaves = 31 and depth = 7\n",
            "[LightGBM] [Debug] Trained a tree with leaves = 31 and depth = 7\n",
            "[LightGBM] [Debug] Trained a tree with leaves = 31 and depth = 10\n",
            "[LightGBM] [Debug] Trained a tree with leaves = 31 and depth = 7\n",
            "[LightGBM] [Debug] Trained a tree with leaves = 31 and depth = 9\n",
            "[LightGBM] [Debug] Trained a tree with leaves = 31 and depth = 7\n",
            "[LightGBM] [Debug] Trained a tree with leaves = 31 and depth = 8\n",
            "[LightGBM] [Debug] Trained a tree with leaves = 31 and depth = 7\n",
            "[LightGBM] [Debug] Trained a tree with leaves = 31 and depth = 7\n",
            "[LightGBM] [Debug] Trained a tree with leaves = 31 and depth = 8\n",
            "[LightGBM] [Debug] Trained a tree with leaves = 31 and depth = 9\n",
            "[LightGBM] [Debug] Trained a tree with leaves = 31 and depth = 8\n",
            "[LightGBM] [Debug] Trained a tree with leaves = 31 and depth = 7\n",
            "[LightGBM] [Debug] Trained a tree with leaves = 31 and depth = 10\n",
            "[LightGBM] [Debug] Trained a tree with leaves = 31 and depth = 8\n",
            "[LightGBM] [Debug] Trained a tree with leaves = 31 and depth = 9\n",
            "[LightGBM] [Debug] Trained a tree with leaves = 31 and depth = 9\n",
            "[LightGBM] [Debug] Trained a tree with leaves = 31 and depth = 10\n",
            "[LightGBM] [Debug] Trained a tree with leaves = 31 and depth = 8\n",
            "[LightGBM] [Debug] Trained a tree with leaves = 31 and depth = 12\n",
            "[LightGBM] [Debug] Trained a tree with leaves = 31 and depth = 9\n",
            "[LightGBM] [Debug] Trained a tree with leaves = 31 and depth = 11\n",
            "[LightGBM] [Debug] Trained a tree with leaves = 31 and depth = 8\n",
            "[LightGBM] [Debug] Trained a tree with leaves = 31 and depth = 10\n",
            "[LightGBM] [Debug] Trained a tree with leaves = 31 and depth = 10\n",
            "[LightGBM] [Debug] Trained a tree with leaves = 31 and depth = 9\n",
            "[LightGBM] [Debug] Trained a tree with leaves = 31 and depth = 11\n",
            "[LightGBM] [Debug] Trained a tree with leaves = 31 and depth = 8\n",
            "[LightGBM] [Debug] Trained a tree with leaves = 31 and depth = 9\n",
            "[LightGBM] [Debug] Trained a tree with leaves = 31 and depth = 9\n",
            "[LightGBM] [Debug] Trained a tree with leaves = 31 and depth = 12\n",
            "[LightGBM] [Debug] Trained a tree with leaves = 31 and depth = 12\n",
            "[LightGBM] [Debug] Trained a tree with leaves = 31 and depth = 8\n",
            "[LightGBM] [Debug] Trained a tree with leaves = 31 and depth = 13\n",
            "[LightGBM] [Debug] Trained a tree with leaves = 31 and depth = 20\n",
            "[LightGBM] [Debug] Trained a tree with leaves = 31 and depth = 12\n",
            "[LightGBM] [Debug] Trained a tree with leaves = 31 and depth = 19\n",
            "[LightGBM] [Debug] Trained a tree with leaves = 31 and depth = 11\n",
            "[LightGBM] [Debug] Trained a tree with leaves = 31 and depth = 10\n",
            "[LightGBM] [Debug] Trained a tree with leaves = 31 and depth = 10\n",
            "[LightGBM] [Debug] Trained a tree with leaves = 31 and depth = 13\n",
            "[LightGBM] [Debug] Trained a tree with leaves = 31 and depth = 13\n",
            "[LightGBM] [Debug] Trained a tree with leaves = 31 and depth = 14\n",
            "[LightGBM] [Debug] Trained a tree with leaves = 31 and depth = 15\n",
            "[LightGBM] [Debug] Trained a tree with leaves = 31 and depth = 13\n",
            "[LightGBM] [Debug] Trained a tree with leaves = 31 and depth = 16\n",
            "[LightGBM] [Debug] Trained a tree with leaves = 31 and depth = 18\n",
            "[LightGBM] [Debug] Trained a tree with leaves = 31 and depth = 13\n",
            "[LightGBM] [Debug] Trained a tree with leaves = 31 and depth = 13\n",
            "[LightGBM] [Debug] Trained a tree with leaves = 31 and depth = 16\n",
            "[LightGBM] [Debug] Trained a tree with leaves = 31 and depth = 14\n",
            "[LightGBM] [Debug] Trained a tree with leaves = 31 and depth = 15\n",
            "[LightGBM] [Debug] Trained a tree with leaves = 31 and depth = 13\n",
            "[LightGBM] [Debug] Trained a tree with leaves = 31 and depth = 19\n",
            "[LightGBM] [Debug] Trained a tree with leaves = 31 and depth = 14\n",
            "[LightGBM] [Debug] Trained a tree with leaves = 31 and depth = 20\n",
            "[LightGBM] [Debug] Trained a tree with leaves = 31 and depth = 15\n",
            "[LightGBM] [Debug] Trained a tree with leaves = 31 and depth = 20\n",
            "[LightGBM] [Debug] Trained a tree with leaves = 31 and depth = 21\n",
            "[LightGBM] [Debug] Trained a tree with leaves = 31 and depth = 16\n",
            "[LightGBM] [Debug] Trained a tree with leaves = 31 and depth = 27\n",
            "[LightGBM] [Debug] Trained a tree with leaves = 31 and depth = 18\n",
            "[LightGBM] [Debug] Trained a tree with leaves = 31 and depth = 18\n",
            "[LightGBM] [Debug] Trained a tree with leaves = 31 and depth = 16\n",
            "[LightGBM] [Debug] Trained a tree with leaves = 31 and depth = 17\n",
            "[LightGBM] [Debug] Trained a tree with leaves = 31 and depth = 25\n",
            "[LightGBM] [Debug] Trained a tree with leaves = 31 and depth = 17\n",
            "[LightGBM] [Debug] Trained a tree with leaves = 31 and depth = 21\n",
            "[LightGBM] [Debug] Trained a tree with leaves = 31 and depth = 24\n",
            "[LightGBM] [Debug] Trained a tree with leaves = 31 and depth = 17\n",
            "[LightGBM] [Debug] Trained a tree with leaves = 31 and depth = 22\n",
            "[LightGBM] [Debug] Trained a tree with leaves = 31 and depth = 25\n",
            "[LightGBM] [Debug] Trained a tree with leaves = 31 and depth = 27\n",
            "[LightGBM] [Debug] Trained a tree with leaves = 31 and depth = 13\n",
            "[LightGBM] [Debug] Trained a tree with leaves = 31 and depth = 25\n",
            "[LightGBM] [Debug] Trained a tree with leaves = 31 and depth = 23\n",
            "[LightGBM] [Debug] Trained a tree with leaves = 31 and depth = 19\n",
            "[LightGBM] [Debug] Trained a tree with leaves = 31 and depth = 23\n",
            "[LightGBM] [Debug] Trained a tree with leaves = 31 and depth = 16\n",
            "[LightGBM] [Debug] Trained a tree with leaves = 31 and depth = 26\n",
            "[LightGBM] [Debug] Trained a tree with leaves = 31 and depth = 17\n",
            "[LightGBM] [Debug] Trained a tree with leaves = 31 and depth = 25\n",
            "[LightGBM] [Debug] Trained a tree with leaves = 31 and depth = 18\n",
            "[LightGBM] [Debug] Trained a tree with leaves = 31 and depth = 23\n",
            "[LightGBM] [Debug] Trained a tree with leaves = 31 and depth = 18\n",
            "[LightGBM] [Debug] Trained a tree with leaves = 31 and depth = 13\n",
            "[LightGBM] [Debug] Dataset::GetMultiBinFromSparseFeatures: sparse rate 0.935448\n",
            "[LightGBM] [Debug] Dataset::GetMultiBinFromAllFeatures: sparse rate 0.666768\n",
            "[LightGBM] [Debug] init for col-wise cost 0.404810 seconds, init for row-wise cost 0.418287 seconds\n",
            "[LightGBM] [Warning] Auto-choosing row-wise multi-threading, the overhead of testing was 0.572636 seconds.\n",
            "You can set `force_row_wise=true` to remove the overhead.\n",
            "And if memory is not enough, you can set `force_col_wise=true`.\n",
            "[LightGBM] [Debug] Using Sparse Multi-Val Bin\n",
            "[LightGBM] [Info] Total Bins 825\n",
            "[LightGBM] [Info] Number of data points in the train set: 132425, number of used features: 254\n",
            "[LightGBM] [Info] Start training from score 4680.328850\n",
            "[LightGBM] [Debug] Trained a tree with leaves = 31 and depth = 7\n",
            "[LightGBM] [Debug] Trained a tree with leaves = 31 and depth = 7\n",
            "[LightGBM] [Debug] Trained a tree with leaves = 31 and depth = 7\n",
            "[LightGBM] [Debug] Trained a tree with leaves = 31 and depth = 7\n",
            "[LightGBM] [Debug] Trained a tree with leaves = 31 and depth = 7\n",
            "[LightGBM] [Debug] Trained a tree with leaves = 31 and depth = 7\n",
            "[LightGBM] [Debug] Trained a tree with leaves = 31 and depth = 6\n",
            "[LightGBM] [Debug] Trained a tree with leaves = 31 and depth = 7\n",
            "[LightGBM] [Debug] Trained a tree with leaves = 31 and depth = 7\n",
            "[LightGBM] [Debug] Trained a tree with leaves = 31 and depth = 7\n",
            "[LightGBM] [Debug] Trained a tree with leaves = 31 and depth = 7\n",
            "[LightGBM] [Debug] Trained a tree with leaves = 31 and depth = 7\n",
            "[LightGBM] [Debug] Trained a tree with leaves = 31 and depth = 8\n",
            "[LightGBM] [Debug] Trained a tree with leaves = 31 and depth = 8\n",
            "[LightGBM] [Debug] Trained a tree with leaves = 31 and depth = 7\n",
            "[LightGBM] [Debug] Trained a tree with leaves = 31 and depth = 8\n",
            "[LightGBM] [Debug] Trained a tree with leaves = 31 and depth = 7\n",
            "[LightGBM] [Debug] Trained a tree with leaves = 31 and depth = 7\n",
            "[LightGBM] [Debug] Trained a tree with leaves = 31 and depth = 7\n",
            "[LightGBM] [Debug] Trained a tree with leaves = 31 and depth = 7\n",
            "[LightGBM] [Debug] Trained a tree with leaves = 31 and depth = 7\n",
            "[LightGBM] [Debug] Trained a tree with leaves = 31 and depth = 7\n",
            "[LightGBM] [Debug] Trained a tree with leaves = 31 and depth = 8\n",
            "[LightGBM] [Debug] Trained a tree with leaves = 31 and depth = 7\n",
            "[LightGBM] [Debug] Trained a tree with leaves = 31 and depth = 8\n",
            "[LightGBM] [Debug] Trained a tree with leaves = 31 and depth = 9\n",
            "[LightGBM] [Debug] Trained a tree with leaves = 31 and depth = 9\n",
            "[LightGBM] [Debug] Trained a tree with leaves = 31 and depth = 8\n",
            "[LightGBM] [Debug] Trained a tree with leaves = 31 and depth = 8\n",
            "[LightGBM] [Debug] Trained a tree with leaves = 31 and depth = 10\n",
            "[LightGBM] [Debug] Trained a tree with leaves = 31 and depth = 8\n",
            "[LightGBM] [Debug] Trained a tree with leaves = 31 and depth = 9\n",
            "[LightGBM] [Debug] Trained a tree with leaves = 31 and depth = 12\n",
            "[LightGBM] [Debug] Trained a tree with leaves = 31 and depth = 9\n",
            "[LightGBM] [Debug] Trained a tree with leaves = 31 and depth = 11\n",
            "[LightGBM] [Debug] Trained a tree with leaves = 31 and depth = 7\n",
            "[LightGBM] [Debug] Trained a tree with leaves = 31 and depth = 9\n",
            "[LightGBM] [Debug] Trained a tree with leaves = 31 and depth = 8\n",
            "[LightGBM] [Debug] Trained a tree with leaves = 31 and depth = 10\n",
            "[LightGBM] [Debug] Trained a tree with leaves = 31 and depth = 13\n",
            "[LightGBM] [Debug] Trained a tree with leaves = 31 and depth = 8\n",
            "[LightGBM] [Debug] Trained a tree with leaves = 31 and depth = 11\n",
            "[LightGBM] [Debug] Trained a tree with leaves = 31 and depth = 8\n",
            "[LightGBM] [Debug] Trained a tree with leaves = 31 and depth = 7\n",
            "[LightGBM] [Debug] Trained a tree with leaves = 31 and depth = 12\n",
            "[LightGBM] [Debug] Trained a tree with leaves = 31 and depth = 19\n",
            "[LightGBM] [Debug] Trained a tree with leaves = 31 and depth = 12\n",
            "[LightGBM] [Debug] Trained a tree with leaves = 31 and depth = 8\n",
            "[LightGBM] [Debug] Trained a tree with leaves = 31 and depth = 14\n",
            "[LightGBM] [Debug] Trained a tree with leaves = 31 and depth = 10\n",
            "[LightGBM] [Debug] Trained a tree with leaves = 31 and depth = 12\n",
            "[LightGBM] [Debug] Trained a tree with leaves = 31 and depth = 12\n",
            "[LightGBM] [Debug] Trained a tree with leaves = 31 and depth = 17\n",
            "[LightGBM] [Debug] Trained a tree with leaves = 31 and depth = 19\n",
            "[LightGBM] [Debug] Trained a tree with leaves = 31 and depth = 13\n",
            "[LightGBM] [Debug] Trained a tree with leaves = 31 and depth = 12\n",
            "[LightGBM] [Debug] Trained a tree with leaves = 31 and depth = 12\n",
            "[LightGBM] [Debug] Trained a tree with leaves = 31 and depth = 18\n",
            "[LightGBM] [Debug] Trained a tree with leaves = 31 and depth = 15\n",
            "[LightGBM] [Debug] Trained a tree with leaves = 31 and depth = 11\n",
            "[LightGBM] [Debug] Trained a tree with leaves = 31 and depth = 13\n",
            "[LightGBM] [Debug] Trained a tree with leaves = 31 and depth = 12\n",
            "[LightGBM] [Debug] Trained a tree with leaves = 31 and depth = 26\n",
            "[LightGBM] [Debug] Trained a tree with leaves = 31 and depth = 13\n",
            "[LightGBM] [Debug] Trained a tree with leaves = 31 and depth = 12\n",
            "[LightGBM] [Debug] Trained a tree with leaves = 31 and depth = 12\n",
            "[LightGBM] [Debug] Trained a tree with leaves = 31 and depth = 10\n",
            "[LightGBM] [Debug] Trained a tree with leaves = 31 and depth = 14\n",
            "[LightGBM] [Debug] Trained a tree with leaves = 31 and depth = 14\n",
            "[LightGBM] [Debug] Trained a tree with leaves = 31 and depth = 13\n",
            "[LightGBM] [Debug] Trained a tree with leaves = 31 and depth = 16\n",
            "[LightGBM] [Debug] Trained a tree with leaves = 31 and depth = 18\n",
            "[LightGBM] [Debug] Trained a tree with leaves = 31 and depth = 21\n",
            "[LightGBM] [Debug] Trained a tree with leaves = 31 and depth = 18\n",
            "[LightGBM] [Debug] Trained a tree with leaves = 31 and depth = 12\n",
            "[LightGBM] [Debug] Trained a tree with leaves = 31 and depth = 21\n",
            "[LightGBM] [Debug] Trained a tree with leaves = 31 and depth = 17\n",
            "[LightGBM] [Debug] Trained a tree with leaves = 31 and depth = 17\n",
            "[LightGBM] [Debug] Trained a tree with leaves = 31 and depth = 20\n",
            "[LightGBM] [Debug] Trained a tree with leaves = 31 and depth = 25\n",
            "[LightGBM] [Debug] Trained a tree with leaves = 31 and depth = 21\n",
            "[LightGBM] [Debug] Trained a tree with leaves = 31 and depth = 19\n",
            "[LightGBM] [Debug] Trained a tree with leaves = 31 and depth = 20\n",
            "[LightGBM] [Debug] Trained a tree with leaves = 31 and depth = 14\n",
            "[LightGBM] [Debug] Trained a tree with leaves = 31 and depth = 26\n",
            "[LightGBM] [Debug] Trained a tree with leaves = 31 and depth = 13\n",
            "[LightGBM] [Debug] Trained a tree with leaves = 31 and depth = 22\n",
            "[LightGBM] [Debug] Trained a tree with leaves = 31 and depth = 13\n",
            "[LightGBM] [Debug] Trained a tree with leaves = 31 and depth = 14\n",
            "[LightGBM] [Debug] Trained a tree with leaves = 31 and depth = 26\n",
            "[LightGBM] [Debug] Trained a tree with leaves = 31 and depth = 15\n",
            "[LightGBM] [Debug] Trained a tree with leaves = 31 and depth = 28\n",
            "[LightGBM] [Debug] Trained a tree with leaves = 31 and depth = 18\n",
            "[LightGBM] [Debug] Trained a tree with leaves = 31 and depth = 20\n",
            "[LightGBM] [Debug] Trained a tree with leaves = 31 and depth = 24\n",
            "[LightGBM] [Debug] Trained a tree with leaves = 31 and depth = 27\n",
            "[LightGBM] [Debug] Trained a tree with leaves = 31 and depth = 25\n",
            "[LightGBM] [Debug] Trained a tree with leaves = 31 and depth = 22\n",
            "[LightGBM] [Debug] Trained a tree with leaves = 31 and depth = 27\n",
            "[LightGBM] [Debug] Trained a tree with leaves = 31 and depth = 20\n",
            "[LightGBM] [Debug] Dataset::GetMultiBinFromSparseFeatures: sparse rate 0.929687\n",
            "[LightGBM] [Debug] Dataset::GetMultiBinFromAllFeatures: sparse rate 0.645920\n",
            "[LightGBM] [Debug] init for col-wise cost 0.117195 seconds, init for row-wise cost 0.480647 seconds\n",
            "[LightGBM] [Warning] Auto-choosing col-wise multi-threading, the overhead of testing was 0.595752 seconds.\n",
            "You can set `force_col_wise=true` to remove the overhead.\n",
            "[LightGBM] [Info] Total Bins 833\n",
            "[LightGBM] [Info] Number of data points in the train set: 132424, number of used features: 257\n",
            "[LightGBM] [Info] Start training from score 4680.665272\n",
            "[LightGBM] [Debug] Trained a tree with leaves = 50 and depth = 8\n",
            "[LightGBM] [Debug] Trained a tree with leaves = 50 and depth = 8\n",
            "[LightGBM] [Debug] Trained a tree with leaves = 50 and depth = 8\n",
            "[LightGBM] [Debug] Trained a tree with leaves = 50 and depth = 8\n",
            "[LightGBM] [Debug] Trained a tree with leaves = 50 and depth = 8\n",
            "[LightGBM] [Debug] Trained a tree with leaves = 50 and depth = 8\n",
            "[LightGBM] [Debug] Trained a tree with leaves = 50 and depth = 9\n",
            "[LightGBM] [Debug] Trained a tree with leaves = 50 and depth = 9\n",
            "[LightGBM] [Debug] Trained a tree with leaves = 50 and depth = 9\n",
            "[LightGBM] [Debug] Trained a tree with leaves = 50 and depth = 9\n",
            "[LightGBM] [Debug] Trained a tree with leaves = 50 and depth = 8\n",
            "[LightGBM] [Debug] Trained a tree with leaves = 50 and depth = 9\n",
            "[LightGBM] [Debug] Trained a tree with leaves = 50 and depth = 9\n",
            "[LightGBM] [Debug] Trained a tree with leaves = 50 and depth = 8\n",
            "[LightGBM] [Debug] Trained a tree with leaves = 50 and depth = 9\n",
            "[LightGBM] [Debug] Trained a tree with leaves = 50 and depth = 9\n",
            "[LightGBM] [Debug] Trained a tree with leaves = 50 and depth = 9\n",
            "[LightGBM] [Debug] Trained a tree with leaves = 50 and depth = 9\n",
            "[LightGBM] [Debug] Trained a tree with leaves = 50 and depth = 9\n",
            "[LightGBM] [Debug] Trained a tree with leaves = 50 and depth = 9\n",
            "[LightGBM] [Debug] Trained a tree with leaves = 50 and depth = 9\n",
            "[LightGBM] [Debug] Trained a tree with leaves = 50 and depth = 9\n",
            "[LightGBM] [Debug] Trained a tree with leaves = 50 and depth = 10\n",
            "[LightGBM] [Debug] Trained a tree with leaves = 50 and depth = 9\n",
            "[LightGBM] [Debug] Trained a tree with leaves = 50 and depth = 10\n",
            "[LightGBM] [Debug] Trained a tree with leaves = 50 and depth = 11\n",
            "[LightGBM] [Debug] Trained a tree with leaves = 50 and depth = 8\n",
            "[LightGBM] [Debug] Trained a tree with leaves = 50 and depth = 10\n",
            "[LightGBM] [Debug] Trained a tree with leaves = 50 and depth = 10\n",
            "[LightGBM] [Debug] Trained a tree with leaves = 50 and depth = 10\n",
            "[LightGBM] [Debug] Trained a tree with leaves = 50 and depth = 12\n",
            "[LightGBM] [Debug] Trained a tree with leaves = 50 and depth = 14\n",
            "[LightGBM] [Debug] Trained a tree with leaves = 50 and depth = 11\n",
            "[LightGBM] [Debug] Trained a tree with leaves = 50 and depth = 10\n",
            "[LightGBM] [Debug] Trained a tree with leaves = 50 and depth = 13\n",
            "[LightGBM] [Debug] Trained a tree with leaves = 50 and depth = 12\n",
            "[LightGBM] [Debug] Trained a tree with leaves = 50 and depth = 11\n",
            "[LightGBM] [Debug] Trained a tree with leaves = 50 and depth = 14\n",
            "[LightGBM] [Debug] Trained a tree with leaves = 50 and depth = 13\n",
            "[LightGBM] [Debug] Trained a tree with leaves = 50 and depth = 12\n",
            "[LightGBM] [Debug] Trained a tree with leaves = 50 and depth = 13\n",
            "[LightGBM] [Debug] Trained a tree with leaves = 50 and depth = 17\n",
            "[LightGBM] [Debug] Trained a tree with leaves = 50 and depth = 17\n",
            "[LightGBM] [Debug] Trained a tree with leaves = 50 and depth = 18\n",
            "[LightGBM] [Debug] Trained a tree with leaves = 50 and depth = 18\n",
            "[LightGBM] [Debug] Trained a tree with leaves = 50 and depth = 16\n",
            "[LightGBM] [Debug] Trained a tree with leaves = 50 and depth = 14\n",
            "[LightGBM] [Debug] Trained a tree with leaves = 50 and depth = 21\n",
            "[LightGBM] [Debug] Trained a tree with leaves = 50 and depth = 12\n",
            "[LightGBM] [Debug] Trained a tree with leaves = 50 and depth = 28\n",
            "[LightGBM] [Debug] Trained a tree with leaves = 50 and depth = 28\n",
            "[LightGBM] [Debug] Trained a tree with leaves = 50 and depth = 15\n",
            "[LightGBM] [Debug] Trained a tree with leaves = 50 and depth = 29\n",
            "[LightGBM] [Debug] Trained a tree with leaves = 50 and depth = 19\n",
            "[LightGBM] [Debug] Trained a tree with leaves = 50 and depth = 16\n",
            "[LightGBM] [Debug] Trained a tree with leaves = 50 and depth = 23\n",
            "[LightGBM] [Debug] Trained a tree with leaves = 50 and depth = 22\n",
            "[LightGBM] [Debug] Trained a tree with leaves = 50 and depth = 17\n",
            "[LightGBM] [Debug] Trained a tree with leaves = 50 and depth = 21\n",
            "[LightGBM] [Debug] Trained a tree with leaves = 50 and depth = 17\n",
            "[LightGBM] [Debug] Trained a tree with leaves = 50 and depth = 26\n",
            "[LightGBM] [Debug] Trained a tree with leaves = 50 and depth = 15\n",
            "[LightGBM] [Debug] Trained a tree with leaves = 50 and depth = 15\n",
            "[LightGBM] [Debug] Trained a tree with leaves = 50 and depth = 17\n",
            "[LightGBM] [Debug] Trained a tree with leaves = 50 and depth = 13\n",
            "[LightGBM] [Debug] Trained a tree with leaves = 50 and depth = 33\n",
            "[LightGBM] [Debug] Trained a tree with leaves = 50 and depth = 14\n",
            "[LightGBM] [Debug] Trained a tree with leaves = 50 and depth = 22\n",
            "[LightGBM] [Debug] Trained a tree with leaves = 50 and depth = 26\n",
            "[LightGBM] [Debug] Trained a tree with leaves = 50 and depth = 25\n",
            "[LightGBM] [Debug] Trained a tree with leaves = 50 and depth = 27\n",
            "[LightGBM] [Debug] Trained a tree with leaves = 50 and depth = 30\n",
            "[LightGBM] [Debug] Trained a tree with leaves = 50 and depth = 21\n",
            "[LightGBM] [Debug] Trained a tree with leaves = 50 and depth = 29\n",
            "[LightGBM] [Debug] Trained a tree with leaves = 50 and depth = 28\n",
            "[LightGBM] [Debug] Trained a tree with leaves = 50 and depth = 24\n",
            "[LightGBM] [Debug] Trained a tree with leaves = 50 and depth = 30\n",
            "[LightGBM] [Debug] Trained a tree with leaves = 50 and depth = 31\n",
            "[LightGBM] [Debug] Trained a tree with leaves = 50 and depth = 12\n",
            "[LightGBM] [Debug] Trained a tree with leaves = 50 and depth = 36\n",
            "[LightGBM] [Debug] Trained a tree with leaves = 50 and depth = 39\n",
            "[LightGBM] [Debug] Trained a tree with leaves = 50 and depth = 22\n",
            "[LightGBM] [Debug] Trained a tree with leaves = 50 and depth = 28\n",
            "[LightGBM] [Debug] Trained a tree with leaves = 50 and depth = 36\n",
            "[LightGBM] [Debug] Trained a tree with leaves = 50 and depth = 24\n",
            "[LightGBM] [Debug] Trained a tree with leaves = 50 and depth = 37\n",
            "[LightGBM] [Debug] Trained a tree with leaves = 50 and depth = 36\n",
            "[LightGBM] [Debug] Trained a tree with leaves = 50 and depth = 41\n",
            "[LightGBM] [Debug] Trained a tree with leaves = 50 and depth = 34\n",
            "[LightGBM] [Debug] Trained a tree with leaves = 50 and depth = 29\n",
            "[LightGBM] [Debug] Trained a tree with leaves = 50 and depth = 26\n",
            "[LightGBM] [Debug] Trained a tree with leaves = 50 and depth = 34\n",
            "[LightGBM] [Debug] Trained a tree with leaves = 50 and depth = 31\n",
            "[LightGBM] [Debug] Trained a tree with leaves = 50 and depth = 32\n",
            "[LightGBM] [Debug] Trained a tree with leaves = 50 and depth = 41\n",
            "[LightGBM] [Debug] Trained a tree with leaves = 50 and depth = 31\n",
            "[LightGBM] [Debug] Trained a tree with leaves = 50 and depth = 39\n",
            "[LightGBM] [Debug] Trained a tree with leaves = 50 and depth = 37\n",
            "[LightGBM] [Debug] Trained a tree with leaves = 50 and depth = 37\n",
            "[LightGBM] [Debug] Trained a tree with leaves = 50 and depth = 32\n",
            "[LightGBM] [Debug] Dataset::GetMultiBinFromSparseFeatures: sparse rate 0.929918\n",
            "[LightGBM] [Debug] Dataset::GetMultiBinFromAllFeatures: sparse rate 0.646051\n",
            "[LightGBM] [Debug] init for col-wise cost 0.165094 seconds, init for row-wise cost 0.429956 seconds\n",
            "[LightGBM] [Warning] Auto-choosing row-wise multi-threading, the overhead of testing was 0.332757 seconds.\n",
            "You can set `force_row_wise=true` to remove the overhead.\n",
            "And if memory is not enough, you can set `force_col_wise=true`.\n",
            "[LightGBM] [Debug] Using Sparse Multi-Val Bin\n",
            "[LightGBM] [Info] Total Bins 828\n",
            "[LightGBM] [Info] Number of data points in the train set: 132425, number of used features: 255\n",
            "[LightGBM] [Info] Start training from score 4672.926668\n",
            "[LightGBM] [Debug] Trained a tree with leaves = 50 and depth = 8\n",
            "[LightGBM] [Debug] Trained a tree with leaves = 50 and depth = 8\n",
            "[LightGBM] [Debug] Trained a tree with leaves = 50 and depth = 8\n",
            "[LightGBM] [Debug] Trained a tree with leaves = 50 and depth = 8\n",
            "[LightGBM] [Debug] Trained a tree with leaves = 50 and depth = 9\n",
            "[LightGBM] [Debug] Trained a tree with leaves = 50 and depth = 9\n",
            "[LightGBM] [Debug] Trained a tree with leaves = 50 and depth = 9\n",
            "[LightGBM] [Debug] Trained a tree with leaves = 50 and depth = 9\n",
            "[LightGBM] [Debug] Trained a tree with leaves = 50 and depth = 9\n",
            "[LightGBM] [Debug] Trained a tree with leaves = 50 and depth = 8\n",
            "[LightGBM] [Debug] Trained a tree with leaves = 50 and depth = 8\n",
            "[LightGBM] [Debug] Trained a tree with leaves = 50 and depth = 8\n",
            "[LightGBM] [Debug] Trained a tree with leaves = 50 and depth = 8\n",
            "[LightGBM] [Debug] Trained a tree with leaves = 50 and depth = 8\n",
            "[LightGBM] [Debug] Trained a tree with leaves = 50 and depth = 9\n",
            "[LightGBM] [Debug] Trained a tree with leaves = 50 and depth = 9\n",
            "[LightGBM] [Debug] Trained a tree with leaves = 50 and depth = 9\n",
            "[LightGBM] [Debug] Trained a tree with leaves = 50 and depth = 9\n",
            "[LightGBM] [Debug] Trained a tree with leaves = 50 and depth = 8\n",
            "[LightGBM] [Debug] Trained a tree with leaves = 50 and depth = 11\n",
            "[LightGBM] [Debug] Trained a tree with leaves = 50 and depth = 8\n",
            "[LightGBM] [Debug] Trained a tree with leaves = 50 and depth = 9\n",
            "[LightGBM] [Debug] Trained a tree with leaves = 50 and depth = 9\n",
            "[LightGBM] [Debug] Trained a tree with leaves = 50 and depth = 9\n",
            "[LightGBM] [Debug] Trained a tree with leaves = 50 and depth = 10\n",
            "[LightGBM] [Debug] Trained a tree with leaves = 50 and depth = 9\n",
            "[LightGBM] [Debug] Trained a tree with leaves = 50 and depth = 8\n",
            "[LightGBM] [Debug] Trained a tree with leaves = 50 and depth = 11\n",
            "[LightGBM] [Debug] Trained a tree with leaves = 50 and depth = 10\n",
            "[LightGBM] [Debug] Trained a tree with leaves = 50 and depth = 10\n",
            "[LightGBM] [Debug] Trained a tree with leaves = 50 and depth = 13\n",
            "[LightGBM] [Debug] Trained a tree with leaves = 50 and depth = 11\n",
            "[LightGBM] [Debug] Trained a tree with leaves = 50 and depth = 13\n",
            "[LightGBM] [Debug] Trained a tree with leaves = 50 and depth = 10\n",
            "[LightGBM] [Debug] Trained a tree with leaves = 50 and depth = 13\n",
            "[LightGBM] [Debug] Trained a tree with leaves = 50 and depth = 13\n",
            "[LightGBM] [Debug] Trained a tree with leaves = 50 and depth = 18\n",
            "[LightGBM] [Debug] Trained a tree with leaves = 50 and depth = 14\n",
            "[LightGBM] [Debug] Trained a tree with leaves = 50 and depth = 15\n",
            "[LightGBM] [Debug] Trained a tree with leaves = 50 and depth = 12\n",
            "[LightGBM] [Debug] Trained a tree with leaves = 50 and depth = 22\n",
            "[LightGBM] [Debug] Trained a tree with leaves = 50 and depth = 14\n",
            "[LightGBM] [Debug] Trained a tree with leaves = 50 and depth = 13\n",
            "[LightGBM] [Debug] Trained a tree with leaves = 50 and depth = 23\n",
            "[LightGBM] [Debug] Trained a tree with leaves = 50 and depth = 17\n",
            "[LightGBM] [Debug] Trained a tree with leaves = 50 and depth = 13\n",
            "[LightGBM] [Debug] Trained a tree with leaves = 50 and depth = 14\n",
            "[LightGBM] [Debug] Trained a tree with leaves = 50 and depth = 19\n",
            "[LightGBM] [Debug] Trained a tree with leaves = 50 and depth = 13\n",
            "[LightGBM] [Debug] Trained a tree with leaves = 50 and depth = 25\n",
            "[LightGBM] [Debug] Trained a tree with leaves = 50 and depth = 15\n",
            "[LightGBM] [Debug] Trained a tree with leaves = 50 and depth = 18\n",
            "[LightGBM] [Debug] Trained a tree with leaves = 50 and depth = 28\n",
            "[LightGBM] [Debug] Trained a tree with leaves = 50 and depth = 17\n",
            "[LightGBM] [Debug] Trained a tree with leaves = 50 and depth = 25\n",
            "[LightGBM] [Debug] Trained a tree with leaves = 50 and depth = 26\n",
            "[LightGBM] [Debug] Trained a tree with leaves = 50 and depth = 23\n",
            "[LightGBM] [Debug] Trained a tree with leaves = 50 and depth = 18\n",
            "[LightGBM] [Debug] Trained a tree with leaves = 50 and depth = 18\n",
            "[LightGBM] [Debug] Trained a tree with leaves = 50 and depth = 18\n",
            "[LightGBM] [Debug] Trained a tree with leaves = 50 and depth = 16\n",
            "[LightGBM] [Debug] Trained a tree with leaves = 50 and depth = 18\n",
            "[LightGBM] [Debug] Trained a tree with leaves = 50 and depth = 15\n",
            "[LightGBM] [Debug] Trained a tree with leaves = 50 and depth = 18\n",
            "[LightGBM] [Debug] Trained a tree with leaves = 50 and depth = 22\n",
            "[LightGBM] [Debug] Trained a tree with leaves = 50 and depth = 22\n",
            "[LightGBM] [Debug] Trained a tree with leaves = 50 and depth = 17\n",
            "[LightGBM] [Debug] Trained a tree with leaves = 50 and depth = 22\n",
            "[LightGBM] [Debug] Trained a tree with leaves = 50 and depth = 25\n",
            "[LightGBM] [Debug] Trained a tree with leaves = 50 and depth = 20\n",
            "[LightGBM] [Debug] Trained a tree with leaves = 50 and depth = 26\n",
            "[LightGBM] [Debug] Trained a tree with leaves = 50 and depth = 30\n",
            "[LightGBM] [Debug] Trained a tree with leaves = 50 and depth = 28\n",
            "[LightGBM] [Debug] Trained a tree with leaves = 50 and depth = 41\n",
            "[LightGBM] [Debug] Trained a tree with leaves = 50 and depth = 16\n",
            "[LightGBM] [Debug] Trained a tree with leaves = 50 and depth = 27\n",
            "[LightGBM] [Debug] Trained a tree with leaves = 50 and depth = 36\n",
            "[LightGBM] [Debug] Trained a tree with leaves = 50 and depth = 20\n",
            "[LightGBM] [Debug] Trained a tree with leaves = 50 and depth = 29\n",
            "[LightGBM] [Debug] Trained a tree with leaves = 50 and depth = 37\n",
            "[LightGBM] [Debug] Trained a tree with leaves = 50 and depth = 25\n",
            "[LightGBM] [Debug] Trained a tree with leaves = 50 and depth = 31\n",
            "[LightGBM] [Debug] Trained a tree with leaves = 50 and depth = 37\n",
            "[LightGBM] [Debug] Trained a tree with leaves = 50 and depth = 38\n",
            "[LightGBM] [Debug] Trained a tree with leaves = 50 and depth = 33\n",
            "[LightGBM] [Debug] Trained a tree with leaves = 50 and depth = 17\n",
            "[LightGBM] [Debug] Trained a tree with leaves = 50 and depth = 41\n",
            "[LightGBM] [Debug] Trained a tree with leaves = 50 and depth = 33\n",
            "[LightGBM] [Debug] Trained a tree with leaves = 50 and depth = 26\n",
            "[LightGBM] [Debug] Trained a tree with leaves = 50 and depth = 35\n",
            "[LightGBM] [Debug] Trained a tree with leaves = 50 and depth = 31\n",
            "[LightGBM] [Debug] Trained a tree with leaves = 50 and depth = 34\n",
            "[LightGBM] [Debug] Trained a tree with leaves = 50 and depth = 32\n",
            "[LightGBM] [Debug] Trained a tree with leaves = 50 and depth = 33\n",
            "[LightGBM] [Debug] Trained a tree with leaves = 50 and depth = 23\n",
            "[LightGBM] [Debug] Trained a tree with leaves = 50 and depth = 29\n",
            "[LightGBM] [Debug] Trained a tree with leaves = 50 and depth = 36\n",
            "[LightGBM] [Debug] Trained a tree with leaves = 50 and depth = 31\n",
            "[LightGBM] [Debug] Trained a tree with leaves = 50 and depth = 29\n",
            "[LightGBM] [Debug] Trained a tree with leaves = 50 and depth = 29\n",
            "[LightGBM] [Debug] Dataset::GetMultiBinFromSparseFeatures: sparse rate 0.935448\n",
            "[LightGBM] [Debug] Dataset::GetMultiBinFromAllFeatures: sparse rate 0.666768\n",
            "[LightGBM] [Debug] init for col-wise cost 0.388299 seconds, init for row-wise cost 0.297887 seconds\n",
            "[LightGBM] [Warning] Auto-choosing row-wise multi-threading, the overhead of testing was 0.503784 seconds.\n",
            "You can set `force_row_wise=true` to remove the overhead.\n",
            "And if memory is not enough, you can set `force_col_wise=true`.\n",
            "[LightGBM] [Debug] Using Sparse Multi-Val Bin\n",
            "[LightGBM] [Info] Total Bins 825\n",
            "[LightGBM] [Info] Number of data points in the train set: 132425, number of used features: 254\n",
            "[LightGBM] [Info] Start training from score 4680.328850\n",
            "[LightGBM] [Debug] Trained a tree with leaves = 50 and depth = 8\n",
            "[LightGBM] [Debug] Trained a tree with leaves = 50 and depth = 8\n",
            "[LightGBM] [Debug] Trained a tree with leaves = 50 and depth = 8\n",
            "[LightGBM] [Debug] Trained a tree with leaves = 50 and depth = 8\n",
            "[LightGBM] [Debug] Trained a tree with leaves = 50 and depth = 8\n",
            "[LightGBM] [Debug] Trained a tree with leaves = 50 and depth = 8\n",
            "[LightGBM] [Debug] Trained a tree with leaves = 50 and depth = 8\n",
            "[LightGBM] [Debug] Trained a tree with leaves = 50 and depth = 9\n",
            "[LightGBM] [Debug] Trained a tree with leaves = 50 and depth = 8\n",
            "[LightGBM] [Debug] Trained a tree with leaves = 50 and depth = 9\n",
            "[LightGBM] [Debug] Trained a tree with leaves = 50 and depth = 9\n",
            "[LightGBM] [Debug] Trained a tree with leaves = 50 and depth = 8\n",
            "[LightGBM] [Debug] Trained a tree with leaves = 50 and depth = 8\n",
            "[LightGBM] [Debug] Trained a tree with leaves = 50 and depth = 9\n",
            "[LightGBM] [Debug] Trained a tree with leaves = 50 and depth = 9\n",
            "[LightGBM] [Debug] Trained a tree with leaves = 50 and depth = 8\n",
            "[LightGBM] [Debug] Trained a tree with leaves = 50 and depth = 8\n",
            "[LightGBM] [Debug] Trained a tree with leaves = 50 and depth = 9\n",
            "[LightGBM] [Debug] Trained a tree with leaves = 50 and depth = 8\n",
            "[LightGBM] [Debug] Trained a tree with leaves = 50 and depth = 9\n",
            "[LightGBM] [Debug] Trained a tree with leaves = 50 and depth = 8\n",
            "[LightGBM] [Debug] Trained a tree with leaves = 50 and depth = 9\n",
            "[LightGBM] [Debug] Trained a tree with leaves = 50 and depth = 9\n",
            "[LightGBM] [Debug] Trained a tree with leaves = 50 and depth = 10\n",
            "[LightGBM] [Debug] Trained a tree with leaves = 50 and depth = 9\n",
            "[LightGBM] [Debug] Trained a tree with leaves = 50 and depth = 9\n",
            "[LightGBM] [Debug] Trained a tree with leaves = 50 and depth = 10\n",
            "[LightGBM] [Debug] Trained a tree with leaves = 50 and depth = 10\n",
            "[LightGBM] [Debug] Trained a tree with leaves = 50 and depth = 12\n",
            "[LightGBM] [Debug] Trained a tree with leaves = 50 and depth = 11\n",
            "[LightGBM] [Debug] Trained a tree with leaves = 50 and depth = 10\n",
            "[LightGBM] [Debug] Trained a tree with leaves = 50 and depth = 13\n",
            "[LightGBM] [Debug] Trained a tree with leaves = 50 and depth = 13\n",
            "[LightGBM] [Debug] Trained a tree with leaves = 50 and depth = 15\n",
            "[LightGBM] [Debug] Trained a tree with leaves = 50 and depth = 14\n",
            "[LightGBM] [Debug] Trained a tree with leaves = 50 and depth = 11\n",
            "[LightGBM] [Debug] Trained a tree with leaves = 50 and depth = 15\n",
            "[LightGBM] [Debug] Trained a tree with leaves = 50 and depth = 14\n",
            "[LightGBM] [Debug] Trained a tree with leaves = 50 and depth = 16\n",
            "[LightGBM] [Debug] Trained a tree with leaves = 50 and depth = 14\n",
            "[LightGBM] [Debug] Trained a tree with leaves = 50 and depth = 13\n",
            "[LightGBM] [Debug] Trained a tree with leaves = 50 and depth = 17\n",
            "[LightGBM] [Debug] Trained a tree with leaves = 50 and depth = 13\n",
            "[LightGBM] [Debug] Trained a tree with leaves = 50 and depth = 18\n",
            "[LightGBM] [Debug] Trained a tree with leaves = 50 and depth = 16\n",
            "[LightGBM] [Debug] Trained a tree with leaves = 50 and depth = 18\n",
            "[LightGBM] [Debug] Trained a tree with leaves = 50 and depth = 22\n",
            "[LightGBM] [Debug] Trained a tree with leaves = 50 and depth = 12\n",
            "[LightGBM] [Debug] Trained a tree with leaves = 50 and depth = 16\n",
            "[LightGBM] [Debug] Trained a tree with leaves = 50 and depth = 16\n",
            "[LightGBM] [Debug] Trained a tree with leaves = 50 and depth = 18\n",
            "[LightGBM] [Debug] Trained a tree with leaves = 50 and depth = 27\n",
            "[LightGBM] [Debug] Trained a tree with leaves = 50 and depth = 19\n",
            "[LightGBM] [Debug] Trained a tree with leaves = 50 and depth = 20\n",
            "[LightGBM] [Debug] Trained a tree with leaves = 50 and depth = 29\n",
            "[LightGBM] [Debug] Trained a tree with leaves = 50 and depth = 27\n",
            "[LightGBM] [Debug] Trained a tree with leaves = 50 and depth = 32\n",
            "[LightGBM] [Debug] Trained a tree with leaves = 50 and depth = 22\n",
            "[LightGBM] [Debug] Trained a tree with leaves = 50 and depth = 19\n",
            "[LightGBM] [Debug] Trained a tree with leaves = 50 and depth = 16\n",
            "[LightGBM] [Debug] Trained a tree with leaves = 50 and depth = 27\n",
            "[LightGBM] [Debug] Trained a tree with leaves = 50 and depth = 16\n",
            "[LightGBM] [Debug] Trained a tree with leaves = 50 and depth = 16\n",
            "[LightGBM] [Debug] Trained a tree with leaves = 50 and depth = 17\n",
            "[LightGBM] [Debug] Trained a tree with leaves = 50 and depth = 25\n",
            "[LightGBM] [Debug] Trained a tree with leaves = 50 and depth = 22\n",
            "[LightGBM] [Debug] Trained a tree with leaves = 50 and depth = 15\n",
            "[LightGBM] [Debug] Trained a tree with leaves = 50 and depth = 32\n",
            "[LightGBM] [Debug] Trained a tree with leaves = 50 and depth = 16\n",
            "[LightGBM] [Debug] Trained a tree with leaves = 50 and depth = 15\n",
            "[LightGBM] [Debug] Trained a tree with leaves = 50 and depth = 29\n",
            "[LightGBM] [Debug] Trained a tree with leaves = 50 and depth = 20\n",
            "[LightGBM] [Debug] Trained a tree with leaves = 50 and depth = 24\n",
            "[LightGBM] [Debug] Trained a tree with leaves = 50 and depth = 20\n",
            "[LightGBM] [Debug] Trained a tree with leaves = 50 and depth = 22\n",
            "[LightGBM] [Debug] Trained a tree with leaves = 50 and depth = 29\n",
            "[LightGBM] [Debug] Trained a tree with leaves = 50 and depth = 33\n",
            "[LightGBM] [Debug] Trained a tree with leaves = 50 and depth = 21\n",
            "[LightGBM] [Debug] Trained a tree with leaves = 50 and depth = 32\n",
            "[LightGBM] [Debug] Trained a tree with leaves = 50 and depth = 34\n",
            "[LightGBM] [Debug] Trained a tree with leaves = 50 and depth = 35\n",
            "[LightGBM] [Debug] Trained a tree with leaves = 50 and depth = 17\n",
            "[LightGBM] [Debug] Trained a tree with leaves = 50 and depth = 34\n",
            "[LightGBM] [Debug] Trained a tree with leaves = 50 and depth = 35\n",
            "[LightGBM] [Debug] Trained a tree with leaves = 50 and depth = 35\n",
            "[LightGBM] [Debug] Trained a tree with leaves = 50 and depth = 34\n",
            "[LightGBM] [Debug] Trained a tree with leaves = 50 and depth = 30\n",
            "[LightGBM] [Debug] Trained a tree with leaves = 50 and depth = 30\n",
            "[LightGBM] [Debug] Trained a tree with leaves = 50 and depth = 33\n",
            "[LightGBM] [Debug] Trained a tree with leaves = 50 and depth = 36\n",
            "[LightGBM] [Debug] Trained a tree with leaves = 50 and depth = 34\n",
            "[LightGBM] [Debug] Trained a tree with leaves = 50 and depth = 29\n",
            "[LightGBM] [Debug] Trained a tree with leaves = 50 and depth = 31\n",
            "[LightGBM] [Debug] Trained a tree with leaves = 50 and depth = 29\n",
            "[LightGBM] [Debug] Trained a tree with leaves = 50 and depth = 35\n",
            "[LightGBM] [Debug] Trained a tree with leaves = 50 and depth = 36\n",
            "[LightGBM] [Debug] Trained a tree with leaves = 50 and depth = 26\n",
            "[LightGBM] [Debug] Trained a tree with leaves = 50 and depth = 26\n",
            "[LightGBM] [Debug] Trained a tree with leaves = 50 and depth = 31\n",
            "[LightGBM] [Debug] Trained a tree with leaves = 50 and depth = 28\n",
            "[LightGBM] [Debug] Dataset::GetMultiBinFromSparseFeatures: sparse rate 0.935628\n",
            "[LightGBM] [Debug] Dataset::GetMultiBinFromAllFeatures: sparse rate 0.666764\n",
            "[LightGBM] [Debug] init for col-wise cost 0.201388 seconds, init for row-wise cost 0.490103 seconds\n",
            "[LightGBM] [Warning] Auto-choosing col-wise multi-threading, the overhead of testing was 0.601454 seconds.\n",
            "You can set `force_col_wise=true` to remove the overhead.\n",
            "[LightGBM] [Info] Total Bins 845\n",
            "[LightGBM] [Info] Number of data points in the train set: 198637, number of used features: 260\n",
            "[LightGBM] [Info] Start training from score 4677.973590\n",
            "[LightGBM] [Debug] Trained a tree with leaves = 50 and depth = 8\n",
            "[LightGBM] [Debug] Trained a tree with leaves = 50 and depth = 8\n",
            "[LightGBM] [Debug] Trained a tree with leaves = 50 and depth = 8\n",
            "[LightGBM] [Debug] Trained a tree with leaves = 50 and depth = 9\n",
            "[LightGBM] [Debug] Trained a tree with leaves = 50 and depth = 8\n",
            "[LightGBM] [Debug] Trained a tree with leaves = 50 and depth = 9\n",
            "[LightGBM] [Debug] Trained a tree with leaves = 50 and depth = 9\n",
            "[LightGBM] [Debug] Trained a tree with leaves = 50 and depth = 9\n",
            "[LightGBM] [Debug] Trained a tree with leaves = 50 and depth = 10\n",
            "[LightGBM] [Debug] Trained a tree with leaves = 50 and depth = 9\n",
            "[LightGBM] [Debug] Trained a tree with leaves = 50 and depth = 9\n",
            "[LightGBM] [Debug] Trained a tree with leaves = 50 and depth = 11\n",
            "[LightGBM] [Debug] Trained a tree with leaves = 50 and depth = 9\n",
            "[LightGBM] [Debug] Trained a tree with leaves = 50 and depth = 12\n",
            "[LightGBM] [Debug] Trained a tree with leaves = 50 and depth = 11\n",
            "[LightGBM] [Debug] Trained a tree with leaves = 50 and depth = 11\n",
            "[LightGBM] [Debug] Trained a tree with leaves = 50 and depth = 12\n",
            "[LightGBM] [Debug] Trained a tree with leaves = 50 and depth = 11\n",
            "[LightGBM] [Debug] Trained a tree with leaves = 50 and depth = 15\n",
            "[LightGBM] [Debug] Trained a tree with leaves = 50 and depth = 21\n",
            "[LightGBM] [Debug] Trained a tree with leaves = 50 and depth = 13\n",
            "[LightGBM] [Debug] Trained a tree with leaves = 50 and depth = 18\n",
            "[LightGBM] [Debug] Trained a tree with leaves = 50 and depth = 18\n",
            "[LightGBM] [Debug] Trained a tree with leaves = 50 and depth = 21\n",
            "[LightGBM] [Debug] Trained a tree with leaves = 50 and depth = 14\n",
            "[LightGBM] [Debug] Trained a tree with leaves = 50 and depth = 29\n",
            "[LightGBM] [Debug] Trained a tree with leaves = 50 and depth = 21\n",
            "[LightGBM] [Debug] Trained a tree with leaves = 50 and depth = 18\n",
            "[LightGBM] [Debug] Trained a tree with leaves = 50 and depth = 21\n",
            "[LightGBM] [Debug] Trained a tree with leaves = 50 and depth = 16\n",
            "[LightGBM] [Debug] Trained a tree with leaves = 50 and depth = 25\n",
            "[LightGBM] [Debug] Trained a tree with leaves = 50 and depth = 19\n",
            "[LightGBM] [Debug] Trained a tree with leaves = 50 and depth = 19\n",
            "[LightGBM] [Debug] Trained a tree with leaves = 50 and depth = 37\n",
            "[LightGBM] [Debug] Trained a tree with leaves = 50 and depth = 17\n",
            "[LightGBM] [Debug] Trained a tree with leaves = 50 and depth = 25\n",
            "[LightGBM] [Debug] Trained a tree with leaves = 50 and depth = 19\n",
            "[LightGBM] [Debug] Trained a tree with leaves = 50 and depth = 30\n",
            "[LightGBM] [Debug] Trained a tree with leaves = 50 and depth = 33\n",
            "[LightGBM] [Debug] Trained a tree with leaves = 50 and depth = 23\n",
            "[LightGBM] [Debug] Trained a tree with leaves = 50 and depth = 20\n",
            "[LightGBM] [Debug] Trained a tree with leaves = 50 and depth = 32\n",
            "[LightGBM] [Debug] Trained a tree with leaves = 50 and depth = 27\n",
            "[LightGBM] [Debug] Trained a tree with leaves = 50 and depth = 31\n",
            "[LightGBM] [Debug] Trained a tree with leaves = 50 and depth = 30\n",
            "[LightGBM] [Debug] Trained a tree with leaves = 50 and depth = 39\n",
            "[LightGBM] [Debug] Trained a tree with leaves = 50 and depth = 40\n",
            "[LightGBM] [Debug] Trained a tree with leaves = 50 and depth = 30\n",
            "[LightGBM] [Debug] Trained a tree with leaves = 50 and depth = 30\n",
            "[LightGBM] [Debug] Trained a tree with leaves = 50 and depth = 32\n",
            "[LightGBM] [Debug] Trained a tree with leaves = 50 and depth = 21\n",
            "[LightGBM] [Debug] Trained a tree with leaves = 50 and depth = 34\n",
            "[LightGBM] [Debug] Trained a tree with leaves = 50 and depth = 35\n",
            "[LightGBM] [Debug] Trained a tree with leaves = 50 and depth = 19\n",
            "[LightGBM] [Debug] Trained a tree with leaves = 50 and depth = 21\n",
            "[LightGBM] [Debug] Trained a tree with leaves = 50 and depth = 34\n",
            "[LightGBM] [Debug] Trained a tree with leaves = 50 and depth = 32\n",
            "[LightGBM] [Debug] Trained a tree with leaves = 50 and depth = 29\n",
            "[LightGBM] [Debug] Trained a tree with leaves = 50 and depth = 27\n",
            "[LightGBM] [Debug] Trained a tree with leaves = 50 and depth = 32\n",
            "[LightGBM] [Debug] Trained a tree with leaves = 50 and depth = 34\n",
            "[LightGBM] [Debug] Trained a tree with leaves = 50 and depth = 27\n",
            "[LightGBM] [Debug] Trained a tree with leaves = 50 and depth = 21\n",
            "[LightGBM] [Debug] Trained a tree with leaves = 50 and depth = 26\n",
            "[LightGBM] [Debug] Trained a tree with leaves = 50 and depth = 30\n",
            "[LightGBM] [Debug] Trained a tree with leaves = 50 and depth = 22\n",
            "[LightGBM] [Debug] Trained a tree with leaves = 50 and depth = 26\n",
            "[LightGBM] [Debug] Trained a tree with leaves = 50 and depth = 25\n",
            "[LightGBM] [Debug] Trained a tree with leaves = 50 and depth = 22\n",
            "[LightGBM] [Debug] Trained a tree with leaves = 50 and depth = 36\n",
            "[LightGBM] [Debug] Trained a tree with leaves = 50 and depth = 16\n",
            "[LightGBM] [Debug] Trained a tree with leaves = 50 and depth = 26\n",
            "[LightGBM] [Debug] Trained a tree with leaves = 50 and depth = 30\n",
            "[LightGBM] [Debug] Trained a tree with leaves = 50 and depth = 18\n",
            "[LightGBM] [Debug] Trained a tree with leaves = 50 and depth = 24\n",
            "[LightGBM] [Debug] Trained a tree with leaves = 50 and depth = 21\n",
            "[LightGBM] [Debug] Trained a tree with leaves = 50 and depth = 30\n",
            "[LightGBM] [Debug] Trained a tree with leaves = 50 and depth = 25\n",
            "[LightGBM] [Debug] Trained a tree with leaves = 50 and depth = 19\n",
            "[LightGBM] [Debug] Trained a tree with leaves = 50 and depth = 12\n",
            "[LightGBM] [Debug] Trained a tree with leaves = 50 and depth = 26\n",
            "[LightGBM] [Debug] Trained a tree with leaves = 50 and depth = 31\n",
            "[LightGBM] [Debug] Trained a tree with leaves = 50 and depth = 23\n",
            "[LightGBM] [Debug] Trained a tree with leaves = 50 and depth = 29\n",
            "[LightGBM] [Debug] Trained a tree with leaves = 50 and depth = 20\n",
            "[LightGBM] [Debug] Trained a tree with leaves = 50 and depth = 20\n",
            "[LightGBM] [Debug] Trained a tree with leaves = 50 and depth = 19\n",
            "[LightGBM] [Debug] Trained a tree with leaves = 50 and depth = 16\n",
            "[LightGBM] [Debug] Trained a tree with leaves = 50 and depth = 30\n",
            "[LightGBM] [Debug] Trained a tree with leaves = 50 and depth = 29\n",
            "[LightGBM] [Debug] Trained a tree with leaves = 50 and depth = 20\n",
            "[LightGBM] [Debug] Trained a tree with leaves = 50 and depth = 28\n",
            "[LightGBM] [Debug] Trained a tree with leaves = 50 and depth = 21\n",
            "[LightGBM] [Debug] Trained a tree with leaves = 50 and depth = 23\n",
            "[LightGBM] [Debug] Trained a tree with leaves = 50 and depth = 18\n",
            "[LightGBM] [Debug] Trained a tree with leaves = 50 and depth = 14\n",
            "[LightGBM] [Debug] Trained a tree with leaves = 50 and depth = 21\n",
            "[LightGBM] [Debug] Trained a tree with leaves = 50 and depth = 26\n",
            "[LightGBM] [Debug] Trained a tree with leaves = 50 and depth = 24\n",
            "[LightGBM] [Debug] Trained a tree with leaves = 50 and depth = 25\n",
            "LightGBM\n",
            "Лучшие параметры: {'model__learning_rate': 0.1, 'model__num_leaves': 50}\n",
            "RMSE на кросс-валидации: 1732.49\n",
            "RMSE на валидационной выборке: 1736.74\n",
            "Среднее время обучения на обучающей выборке: 219.33 секунд\n",
            "Время обучения лучшей модели (refit): 231.99 секунд\n",
            "Среднее время предсказания на обучающей выборке: 1.2551 секунд\n"
          ]
        }
      ],
      "source": [
        "# Исправленный код V1 (удалила model__n_estimators, тк модель стала долго обучаться)\n",
        "\n",
        "# Обучаем модель LightGBM (с GridSearchCV)\n",
        "pipe_lgb = Pipeline([\n",
        "    ('preprocessor', preprocessor),\n",
        "    ('model', lgb.LGBMRegressor(random_state=RANDOM_STATE))\n",
        "])\n",
        "\n",
        "params_lgb = {\n",
        "    \"model__num_leaves\": [31, 50],\n",
        "    \"model__learning_rate\": [0.1, 0.05]\n",
        "}\n",
        "\n",
        "grid_lgb = GridSearchCV(\n",
        "    pipe_lgb,\n",
        "    param_grid=params_lgb,\n",
        "    cv=3,\n",
        "    scoring='neg_root_mean_squared_error',\n",
        "    n_jobs=-1,\n",
        "    refit=True\n",
        ")\n",
        "grid_lgb.fit(X_train, y_train)\n",
        "\n",
        "best_index_lgb = grid_lgb.best_index_\n",
        "best_params_lgb = grid_lgb.best_params_\n",
        "mean_fit_time_lgb = grid_lgb.cv_results_['mean_fit_time'][best_index_lgb]\n",
        "mean_score_time_lgb = grid_lgb.cv_results_['mean_score_time'][best_index_lgb]\n",
        "refit_time_lgb = getattr(grid_lgb, 'refit_time_', None)\n",
        "\n",
        "preds_lgb = grid_lgb.predict(X_valid)\n",
        "mse_lgb = mean_squared_error(y_valid, preds_lgb)\n",
        "rmse_lgb = mse_lgb ** 0.5\n",
        "\n",
        "print(\"LightGBM\")\n",
        "print(f\"Лучшие параметры: {best_params_lgb}\")\n",
        "print(f\"RMSE на кросс-валидации: {-grid_lgb.best_score_:.2f}\")\n",
        "print(f\"RMSE на валидационной выборке: {rmse_lgb:.2f}\")\n",
        "print(f\"Среднее время обучения на обучающей выборке: {mean_fit_time_lgb:.2f} секунд\")\n",
        "if refit_time_lgb is not None:\n",
        "    print(f\"Время обучения лучшей модели (refit): {refit_time_lgb:.2f} секунд\")\n",
        "print(f\"Среднее время предсказания на обучающей выборке: {mean_score_time_lgb:.4f} секунд\")\n",
        "\n",
        "# LightGBM\n",
        "results.append({\n",
        "    \"Модель\": \"LightGBM\",\n",
        "    \"Лучшие параметры\": str(best_params_lgb),\n",
        "    \"RMSE CV\": -grid_lgb.best_score_,\n",
        "    \"RMSE valid\": rmse_lgb,\n",
        "    \"Время обучения (сек)\": mean_fit_time_lgb,\n",
        "    \"Время обучения (refit, сек)\": refit_time_lgb if refit_time_lgb is not None else \"-\",\n",
        "    \"Время предсказания (сек)\": mean_score_time_lgb\n",
        "})\n"
      ]
    },
    {
      "cell_type": "markdown",
      "metadata": {
        "id": "Dft94iEoWfuc"
      },
      "source": [
        "LightGBM с лучшими параметрами 'model__learning_rate': 0.1, 'model__num_leaves': 50 имеет RMSE на тесте = 1736.74, что соответствует требованию заказчика.\n",
        "RMSE на кросс-валидации: 1732.49 и RMSE на валидационной выборке: 1736.74 отличаются друг от друга незначительно, следовательно у модели нет переобучения или недообучения."
      ]
    },
    {
      "cell_type": "markdown",
      "metadata": {
        "id": "NcsNLj-TWfuc"
      },
      "source": [
        "## Анализ моделей"
      ]
    },
    {
      "cell_type": "code",
      "execution_count": null,
      "metadata": {
        "id": "TZsAfqHCWfuc",
        "outputId": "194e5664-0ab4-45b6-9188-67415d2844c6"
      },
      "outputs": [
        {
          "data": {
            "text/html": [
              "<div>\n",
              "<style scoped>\n",
              "    .dataframe tbody tr th:only-of-type {\n",
              "        vertical-align: middle;\n",
              "    }\n",
              "\n",
              "    .dataframe tbody tr th {\n",
              "        vertical-align: top;\n",
              "    }\n",
              "\n",
              "    .dataframe thead th {\n",
              "        text-align: right;\n",
              "    }\n",
              "</style>\n",
              "<table border=\"1\" class=\"dataframe\">\n",
              "  <thead>\n",
              "    <tr style=\"text-align: right;\">\n",
              "      <th></th>\n",
              "      <th>Модель</th>\n",
              "      <th>Лучшие параметры</th>\n",
              "      <th>RMSE CV</th>\n",
              "      <th>RMSE valid</th>\n",
              "      <th>Время обучения (сек)</th>\n",
              "      <th>Время обучения (refit, сек)</th>\n",
              "      <th>Время предсказания (сек)</th>\n",
              "    </tr>\n",
              "  </thead>\n",
              "  <tbody>\n",
              "    <tr>\n",
              "      <th>0</th>\n",
              "      <td>LinearRegression</td>\n",
              "      <td>-</td>\n",
              "      <td>2627.21</td>\n",
              "      <td>2618.31</td>\n",
              "      <td>39.88</td>\n",
              "      <td>-</td>\n",
              "      <td>0.50</td>\n",
              "    </tr>\n",
              "    <tr>\n",
              "      <th>1</th>\n",
              "      <td>DecisionTree</td>\n",
              "      <td>{'model__max_depth': 20, 'model__min_samples_s...</td>\n",
              "      <td>1923.73</td>\n",
              "      <td>1908.66</td>\n",
              "      <td>5.87</td>\n",
              "      <td>9.77</td>\n",
              "      <td>0.44</td>\n",
              "    </tr>\n",
              "    <tr>\n",
              "      <th>2</th>\n",
              "      <td>LightGBM</td>\n",
              "      <td>{'model__learning_rate': 0.1, 'model__num_leav...</td>\n",
              "      <td>1732.49</td>\n",
              "      <td>1736.74</td>\n",
              "      <td>219.33</td>\n",
              "      <td>231.99</td>\n",
              "      <td>1.26</td>\n",
              "    </tr>\n",
              "  </tbody>\n",
              "</table>\n",
              "</div>"
            ],
            "text/plain": [
              "             Модель                                   Лучшие параметры  \\\n",
              "0  LinearRegression                                                  -   \n",
              "1      DecisionTree  {'model__max_depth': 20, 'model__min_samples_s...   \n",
              "2          LightGBM  {'model__learning_rate': 0.1, 'model__num_leav...   \n",
              "\n",
              "   RMSE CV  RMSE valid  Время обучения (сек) Время обучения (refit, сек)  \\\n",
              "0  2627.21     2618.31                 39.88                           -   \n",
              "1  1923.73     1908.66                  5.87                        9.77   \n",
              "2  1732.49     1736.74                219.33                      231.99   \n",
              "\n",
              "   Время предсказания (сек)  \n",
              "0                      0.50  \n",
              "1                      0.44  \n",
              "2                      1.26  "
            ]
          },
          "metadata": {},
          "output_type": "display_data"
        }
      ],
      "source": [
        "# Создаём DataFrame с результатами по каждой моедли\n",
        "df_results = pd.DataFrame(results)\n",
        "\n",
        "# Выводим таблицу\n",
        "display(df_results)"
      ]
    },
    {
      "cell_type": "code",
      "execution_count": null,
      "metadata": {
        "id": "OThziGfqWfud",
        "outputId": "bd9ce4c3-2bb1-4c81-9ced-1f34ca16be0e"
      },
      "outputs": [
        {
          "data": {
            "image/png": "[encoded data removed]",
            "text/plain": [
              "<Figure size 1296x360 with 4 Axes>"
            ]
          },
          "metadata": {},
          "output_type": "display_data"
        }
      ],
      "source": [
        "\n",
        "sns.set(style=\"whitegrid\")\n",
        "plt.figure(figsize=(18, 5))\n",
        "\n",
        "\n",
        "# График RMSE на CV (или обучении) по моделям\n",
        "plt.subplot(1, 4, 1)\n",
        "sns.barplot(data=df_results, x=\"Модель\", y=\"RMSE CV\", palette=\"Greens_d\")\n",
        "plt.title(\"RMSE на обучении / CV\")\n",
        "plt.ylabel(\"RMSE\")\n",
        "plt.xlabel(\"Модель\")\n",
        "plt.xticks(rotation=45)\n",
        "\n",
        "# График RMSE на валидационной выборке по моделям\n",
        "plt.subplot(1, 4, 2)\n",
        "sns.barplot(data=df_results, x=\"Модель\", y=\"RMSE valid\", palette=\"Blues_d\")\n",
        "plt.title(\"RMSE на валидационной выборке\")\n",
        "plt.ylabel(\"RMSE\")\n",
        "plt.xlabel(\"Модель\")\n",
        "plt.xticks(rotation=45)  # поворот подписей\n",
        "\n",
        "# Время обучения (CV или обучение) по моделям\n",
        "plt.subplot(1, 4, 3)\n",
        "sns.barplot(data=df_results, x=\"Модель\", y=\"Время обучения (сек)\", palette=\"Reds_d\")\n",
        "plt.title(\"Время обучения (сек)\")\n",
        "plt.ylabel(\"Секунды\")\n",
        "plt.xlabel(\"Модель\")\n",
        "plt.xticks(rotation=45)\n",
        "\n",
        "# Время предсказания по моделям\n",
        "plt.subplot(1, 4, 4)\n",
        "sns.barplot(data=df_results, x=\"Модель\", y=\"Время предсказания (сек)\", palette=\"Purples_d\")\n",
        "plt.title(\"Время предсказания (сек)\")\n",
        "plt.ylabel(\"Секунды\")\n",
        "plt.xlabel(\"Модель\")\n",
        "plt.xticks(rotation=45)\n",
        "\n",
        "plt.tight_layout()\n",
        "plt.show()\n"
      ]
    },
    {
      "cell_type": "markdown",
      "metadata": {
        "id": "l8MRvb4LWfud"
      },
      "source": [
        "Метрика RMSE LinearRegression на тестовой выборке выше 2500, что не удовлетворяет критерию заказчика RMSE ниже 2500, потому далее выбор делается между DecisionTree с RMSE=1908.66 и LightGBM RMSE=1736.74.\n",
        "\n",
        "DecisionTree обучается быстрее - 5.87 сек, refit занимает 12.91 сек, а предсказание самое быстрое - 0.54 сек.\n",
        "\n",
        "LightGBM обучается значительно дольше DecisionTree - 219.33 сек, refit  - 231.99 сек, но предсказание медленнее 1.26 сек.\n",
        "\n",
        "Получается, модель LightGBM значительно проигрывает по времени обучения DecisionTree, поскольку данный показатель важен для заказчика (предположительно, время обучения на втором месте по значимости).\n",
        "Если бы не было важно время обучения, то LightGBM было бы лучшим вариантом, имеющим самый низкий показатель RMSE и относительно невысокую скорость предсказания.\n",
        "\n"
      ]
    },
    {
      "cell_type": "code",
      "execution_count": null,
      "metadata": {
        "scrolled": true,
        "id": "g40gOalsWfue",
        "outputId": "cba53151-3ca6-4082-81bf-a2e5246b7a9a"
      },
      "outputs": [
        {
          "name": "stdout",
          "output_type": "stream",
          "text": [
            "DecisionTree\n",
            "RMSE на кросс-валидации: 1923.73\n",
            "RMSE на валидационной выборке: 1908.66\n",
            "RMSE на тестовой выборке: 1886.50\n"
          ]
        }
      ],
      "source": [
        "# Предсказания на тестовой выборке\n",
        "preds_test = grid_dt.predict(X_test)\n",
        "\n",
        "# Вычисление метрик на тесте\n",
        "mse_test = mean_squared_error(y_test, preds_test)\n",
        "rmse_test = mse_test ** 0.5\n",
        "\n",
        "print(\"DecisionTree\")\n",
        "print(f\"RMSE на кросс-валидации: {-grid_dt.best_score_:.2f}\")\n",
        "print(f\"RMSE на валидационной выборке: {rmse_dt:.2f}\")\n",
        "print(f\"RMSE на тестовой выборке: {rmse_test:.2f}\")"
      ]
    },
    {
      "cell_type": "markdown",
      "metadata": {
        "scrolled": true,
        "id": "GN66Pg7HWfue"
      },
      "source": [
        "Метрики показывают, что модель DecisionTree стабильно предсказывает с ошибкой около 1900, что является хорошим показателем, особенно если разброс значений целевой переменной велик.\n",
        "Таким образом, DecisionTree — хороший компромисс между качеством и скоростью обучения/предсказания, и может быть рекомендован для решения задачи заказчика."
      ]
    },
    {
      "cell_type": "markdown",
      "metadata": {
        "id": "fODZT8B8Wfue"
      },
      "source": [
        "## Выводы"
      ]
    },
    {
      "cell_type": "markdown",
      "metadata": {
        "id": "ZmyNoRcZWfuf"
      },
      "source": [
        "В предоставленном датасете содержится 354 369 записей и 16 признаков, из которых 7 числовых и 9 категориальных (включая даты).\n",
        "\n",
        "Значительные пропуски присутствовали в столбцах VehicleType, Gearbox, Model, FuelType и Repaired, что треббовало их заполнения или обработки, поскольку пропуски могут негативно повлиять на качество модели.\n",
        "\n",
        "Обнаружено 4 дубликата, которые удалены для предотвращения искажения модели.\n",
        "\n",
        "Столбец NumberOfPictures содержит только одно уникальное значение и признан неинформативным, поэтому был удалён. В столбцах RegistrationMonth и Kilometer выявлено по 13 уникальных значений, где RegistrationMonth требует дополнительной проверки, а Kilometer, вероятно, содержит диапазоны пробега.\n",
        "\n",
        "В RegistrationYear обнаружено 151 уникальное значение, включая аномальные годы, которые были ограничены интервалом от 1910 года до марта 2016 года. Временные метки DateCrawled, DateCreated и LastSeen, а также PostalCode, были удалены из-за малой информативности для текущей задачи.\n",
        "\n",
        "Таким образом, в процессе подготовки данных были приведены наименования столбцов к змеиному регистру, откорректированы типы данных, заполнены пропуски в категориальных признаках заглушками, удалены дубликаты и неинформативные столбцы.\n",
        "\n",
        "Числовые признаки RegistrationYear и Power, а также категориальные признаки Kilometer, VehicleType, Gearbox, Model, FuelType, Repaired и Brand были преобразованы в категориальный тип для сокращения объёма памяти, ускорения вычислений и упрощения кодирования. После обработки все пропуски и аномалии устранены, данные готовы к дальнейшему анализу и моделированию.\n",
        "\n",
        "Проведен корреляционный анализ с помощью Phic, было обнаружено, что VehicleType имеет сильную корреляцию с model и fuel_type, что отражает тесную связь типа транспортного средства с моделью и типом топлива. Для предотвращения утечки данных и избыточности рекомендуется проверять качество модели на обучающей и тестовой выборках. Также признак brand был удалён из-за полной взаимосвязи с model и fuel_typeс целью предотвращения возможной избыточности и риска утечки данных.\n",
        "\n",
        "Оптимизация числовых типов данных позволила снизить использование памяти с 10.43 Мб до 7.91 Мб (на 24.2%), что уменьшает нагрузку на вычислительные ресурсы.\n",
        "\n",
        "Итоговый набор признаков для обучения включает в себя непрерывный численный целевой признак \"price\", а также 6 категориальных и 2 числовых признаков.\n",
        "\n",
        "В рамках подготовки выборок для обучения моделей использовались StandardScaler() для стандартизации/ масштабирования числовых данных и OneHotEncoder() для кодирования категориальных признаков.\n",
        "\n",
        "Применены разные алгоритмы, включая LightGBM и DecisionTree, с подбором гиперпараметров.\n",
        "\n",
        "Модель LinearRegression показала RMSE на тесте выше 2500, не соответствуя требованиям заказчика. DecisionTree с оптимальными параметрами достиг RMSE 1861.14 на тесте, удовлетворяя критерию и показывая лучшее время обучения и предсказания по сравнению с LinearRegression. LightGBM продемонстрировала наилучшее качество с RMSE 1675.24, но время её обучения и предсказания было выше, чем у DecisionTree.\n",
        "\n",
        "Учитывая важность времени обучения для заказчика, DecisionTree представляет собой оптимальный компромисс между качеством и скоростью обучения и предсказания.\n",
        "\n",
        "Проверка модели на тестовой выборке показывает стабильность метрики - модель DecisionTree стабильно предсказывает с ошибкой около 1900, что является хорошим показателем, особенно когда разброс значений целевой переменной велик.\n",
        "\n",
        "Если бы время обучения не было критичным, LightGBM стала бы предпочтительным выбором благодаря лучшему качеству. Таким образом, для решения задачи заказчика рекомендуется использовать DecisionTree."
      ]
    },
    {
      "cell_type": "markdown",
      "metadata": {
        "id": "bSZ8TLFjWfuf"
      },
      "source": [
        "## Чек-лист проверки"
      ]
    },
    {
      "cell_type": "markdown",
      "metadata": {
        "id": "aJbJJzroWfug"
      },
      "source": [
        "Поставьте 'x' в выполненных пунктах. Далее нажмите Shift+Enter."
      ]
    },
    {
      "cell_type": "markdown",
      "metadata": {
        "id": "b44QVEvLWfug"
      },
      "source": [
        "- [x]  Jupyter Notebook открыт\n",
        "- [x]  Весь код выполняется без ошибок\n",
        "- [x]  Ячейки с кодом расположены в порядке исполнения\n",
        "- [x]  Выполнена загрузка и подготовка данных\n",
        "- [x]  Выполнено обучение моделей\n",
        "- [x]  Есть анализ скорости работы и качества моделей"
      ]
    }
  ],
  "metadata": {
    "ExecuteTimeLog": [
      {
        "duration": 57,
        "start_time": "2025-06-06T12:30:04.906Z"
      },
      {
        "duration": 21295,
        "start_time": "2025-06-06T12:30:53.308Z"
      },
      {
        "duration": 1107,
        "start_time": "2025-06-06T12:31:14.605Z"
      },
      {
        "duration": 16,
        "start_time": "2025-06-06T12:33:03.980Z"
      },
      {
        "duration": 1417,
        "start_time": "2025-06-06T12:33:04.226Z"
      },
      {
        "duration": 11612,
        "start_time": "2025-06-06T12:36:04.545Z"
      },
      {
        "duration": 4,
        "start_time": "2025-06-06T12:37:53.449Z"
      },
      {
        "duration": 81,
        "start_time": "2025-06-06T19:54:36.466Z"
      },
      {
        "duration": 39,
        "start_time": "2025-06-06T20:24:23.527Z"
      },
      {
        "duration": 5,
        "start_time": "2025-06-06T20:24:28.482Z"
      },
      {
        "duration": 8,
        "start_time": "2025-06-06T20:24:38.883Z"
      },
      {
        "duration": 18768,
        "start_time": "2025-06-06T20:24:48.935Z"
      },
      {
        "duration": 826,
        "start_time": "2025-06-06T20:25:07.705Z"
      },
      {
        "duration": 50,
        "start_time": "2025-06-06T20:25:08.535Z"
      },
      {
        "duration": 11,
        "start_time": "2025-06-06T20:25:08.587Z"
      },
      {
        "duration": 1187,
        "start_time": "2025-06-06T20:25:08.600Z"
      },
      {
        "duration": 33,
        "start_time": "2025-06-06T20:25:09.788Z"
      },
      {
        "duration": 0,
        "start_time": "2025-06-06T20:25:09.835Z"
      },
      {
        "duration": 0,
        "start_time": "2025-06-06T20:25:09.836Z"
      },
      {
        "duration": 475,
        "start_time": "2025-06-06T20:25:26.632Z"
      },
      {
        "duration": 14,
        "start_time": "2025-06-06T20:26:51.865Z"
      },
      {
        "duration": 12,
        "start_time": "2025-06-06T20:26:53.759Z"
      },
      {
        "duration": 470,
        "start_time": "2025-06-06T20:27:22.445Z"
      },
      {
        "duration": 478,
        "start_time": "2025-06-06T20:27:24.658Z"
      },
      {
        "duration": 10576,
        "start_time": "2025-06-06T20:30:14.413Z"
      },
      {
        "duration": 810,
        "start_time": "2025-06-06T20:30:24.991Z"
      },
      {
        "duration": 63,
        "start_time": "2025-06-06T20:30:25.802Z"
      },
      {
        "duration": 35,
        "start_time": "2025-06-06T20:30:25.867Z"
      },
      {
        "duration": 1155,
        "start_time": "2025-06-06T20:30:25.904Z"
      },
      {
        "duration": 10448,
        "start_time": "2025-06-06T20:30:27.061Z"
      },
      {
        "duration": 48,
        "start_time": "2025-06-06T20:30:37.511Z"
      },
      {
        "duration": 0,
        "start_time": "2025-06-06T20:30:37.561Z"
      },
      {
        "duration": 10405,
        "start_time": "2025-06-06T20:31:02.069Z"
      },
      {
        "duration": 83,
        "start_time": "2025-06-06T20:31:45.202Z"
      },
      {
        "duration": 405,
        "start_time": "2025-06-06T20:33:24.451Z"
      },
      {
        "duration": 399,
        "start_time": "2025-06-06T20:33:28.331Z"
      },
      {
        "duration": 800,
        "start_time": "2025-06-06T20:35:20.615Z"
      },
      {
        "duration": 825,
        "start_time": "2025-06-06T20:35:32.331Z"
      },
      {
        "duration": 847,
        "start_time": "2025-06-06T20:35:36.436Z"
      },
      {
        "duration": 809,
        "start_time": "2025-06-06T20:37:14.981Z"
      },
      {
        "duration": 2,
        "start_time": "2025-06-06T20:38:19.176Z"
      },
      {
        "duration": 14,
        "start_time": "2025-06-06T20:51:17.838Z"
      },
      {
        "duration": 21,
        "start_time": "2025-06-06T20:51:54.438Z"
      },
      {
        "duration": 19,
        "start_time": "2025-06-06T20:52:05.067Z"
      },
      {
        "duration": 49,
        "start_time": "2025-06-07T09:47:43.501Z"
      },
      {
        "duration": 20606,
        "start_time": "2025-06-07T09:49:44.953Z"
      },
      {
        "duration": 927,
        "start_time": "2025-06-07T09:50:05.561Z"
      },
      {
        "duration": 53,
        "start_time": "2025-06-07T09:50:06.489Z"
      },
      {
        "duration": 25,
        "start_time": "2025-06-07T09:50:06.544Z"
      },
      {
        "duration": 1373,
        "start_time": "2025-06-07T09:50:06.578Z"
      },
      {
        "duration": 53,
        "start_time": "2025-06-07T09:50:07.953Z"
      },
      {
        "duration": 0,
        "start_time": "2025-06-07T09:50:08.007Z"
      },
      {
        "duration": 0,
        "start_time": "2025-06-07T09:50:08.008Z"
      },
      {
        "duration": 0,
        "start_time": "2025-06-07T09:50:08.009Z"
      },
      {
        "duration": 0,
        "start_time": "2025-06-07T09:50:08.011Z"
      },
      {
        "duration": 0,
        "start_time": "2025-06-07T09:50:08.012Z"
      },
      {
        "duration": 0,
        "start_time": "2025-06-07T09:50:08.013Z"
      },
      {
        "duration": 10936,
        "start_time": "2025-06-07T09:55:31.679Z"
      },
      {
        "duration": 937,
        "start_time": "2025-06-07T09:55:42.618Z"
      },
      {
        "duration": 86,
        "start_time": "2025-06-07T09:55:43.556Z"
      },
      {
        "duration": 13,
        "start_time": "2025-06-07T09:55:43.644Z"
      },
      {
        "duration": 1278,
        "start_time": "2025-06-07T09:55:43.659Z"
      },
      {
        "duration": 23,
        "start_time": "2025-06-07T09:55:44.938Z"
      },
      {
        "duration": 0,
        "start_time": "2025-06-07T09:55:44.977Z"
      },
      {
        "duration": 0,
        "start_time": "2025-06-07T09:55:44.978Z"
      },
      {
        "duration": 0,
        "start_time": "2025-06-07T09:55:44.980Z"
      },
      {
        "duration": 0,
        "start_time": "2025-06-07T09:55:44.981Z"
      },
      {
        "duration": 0,
        "start_time": "2025-06-07T09:55:44.982Z"
      },
      {
        "duration": 0,
        "start_time": "2025-06-07T09:55:44.983Z"
      },
      {
        "duration": 0,
        "start_time": "2025-06-07T09:55:44.984Z"
      },
      {
        "duration": 0,
        "start_time": "2025-06-07T09:55:44.986Z"
      },
      {
        "duration": 495,
        "start_time": "2025-06-07T09:56:48.097Z"
      },
      {
        "duration": 19,
        "start_time": "2025-06-07T09:56:48.888Z"
      },
      {
        "duration": 1162,
        "start_time": "2025-06-07T09:56:50.800Z"
      },
      {
        "duration": 16,
        "start_time": "2025-06-07T09:57:06.743Z"
      },
      {
        "duration": 21,
        "start_time": "2025-06-07T09:57:15.634Z"
      },
      {
        "duration": 18,
        "start_time": "2025-06-07T09:57:16.320Z"
      },
      {
        "duration": 13,
        "start_time": "2025-06-07T10:00:20.256Z"
      },
      {
        "duration": 11,
        "start_time": "2025-06-07T10:00:22.713Z"
      },
      {
        "duration": 12465,
        "start_time": "2025-06-07T10:00:55.663Z"
      },
      {
        "duration": 22,
        "start_time": "2025-06-07T10:01:08.131Z"
      },
      {
        "duration": 65,
        "start_time": "2025-06-07T10:01:08.154Z"
      },
      {
        "duration": 0,
        "start_time": "2025-06-07T10:01:08.221Z"
      },
      {
        "duration": 94690,
        "start_time": "2025-06-07T10:01:13.016Z"
      },
      {
        "duration": 25893,
        "start_time": "2025-06-07T10:03:32.919Z"
      },
      {
        "duration": 2414,
        "start_time": "2025-06-07T10:04:18.109Z"
      },
      {
        "duration": 73733,
        "start_time": "2025-06-07T10:04:20.525Z"
      },
      {
        "duration": 2645,
        "start_time": "2025-06-07T10:05:34.259Z"
      },
      {
        "duration": 12,
        "start_time": "2025-06-07T10:10:54.852Z"
      },
      {
        "duration": 10,
        "start_time": "2025-06-07T10:11:02.671Z"
      },
      {
        "duration": 11099,
        "start_time": "2025-06-07T10:11:36.630Z"
      },
      {
        "duration": 945,
        "start_time": "2025-06-07T10:11:47.731Z"
      },
      {
        "duration": 56,
        "start_time": "2025-06-07T10:11:48.678Z"
      },
      {
        "duration": 16,
        "start_time": "2025-06-07T10:11:48.737Z"
      },
      {
        "duration": 1322,
        "start_time": "2025-06-07T10:11:48.754Z"
      },
      {
        "duration": 477,
        "start_time": "2025-06-07T10:11:50.078Z"
      },
      {
        "duration": 29,
        "start_time": "2025-06-07T10:11:50.557Z"
      },
      {
        "duration": 16,
        "start_time": "2025-06-07T10:11:50.588Z"
      },
      {
        "duration": 6,
        "start_time": "2025-06-07T10:12:01.312Z"
      },
      {
        "duration": 10,
        "start_time": "2025-06-07T10:12:02.023Z"
      },
      {
        "duration": 11766,
        "start_time": "2025-06-07T10:14:23.985Z"
      },
      {
        "duration": 12,
        "start_time": "2025-06-07T10:14:40.327Z"
      },
      {
        "duration": 10,
        "start_time": "2025-06-07T10:14:43.290Z"
      },
      {
        "duration": 10868,
        "start_time": "2025-06-07T10:14:49.247Z"
      },
      {
        "duration": 13,
        "start_time": "2025-06-07T10:15:00.182Z"
      },
      {
        "duration": 11,
        "start_time": "2025-06-07T10:15:02.820Z"
      },
      {
        "duration": 10,
        "start_time": "2025-06-07T10:15:22.851Z"
      },
      {
        "duration": 9,
        "start_time": "2025-06-07T10:15:25.962Z"
      },
      {
        "duration": 9,
        "start_time": "2025-06-07T10:15:38.385Z"
      },
      {
        "duration": 6,
        "start_time": "2025-06-07T10:15:52.716Z"
      },
      {
        "duration": 5,
        "start_time": "2025-06-07T10:15:55.642Z"
      },
      {
        "duration": 11,
        "start_time": "2025-06-07T10:16:03.312Z"
      },
      {
        "duration": 553,
        "start_time": "2025-06-07T10:18:26.280Z"
      },
      {
        "duration": 493,
        "start_time": "2025-06-07T10:18:29.842Z"
      },
      {
        "duration": 922,
        "start_time": "2025-06-07T10:18:38.067Z"
      },
      {
        "duration": 38,
        "start_time": "2025-06-07T10:21:07.243Z"
      },
      {
        "duration": 437,
        "start_time": "2025-06-07T10:21:28.618Z"
      },
      {
        "duration": 460,
        "start_time": "2025-06-07T10:21:44.873Z"
      },
      {
        "duration": 438,
        "start_time": "2025-06-07T10:21:47.399Z"
      },
      {
        "duration": 11777,
        "start_time": "2025-06-07T10:23:49.236Z"
      },
      {
        "duration": 919,
        "start_time": "2025-06-07T10:24:01.016Z"
      },
      {
        "duration": 56,
        "start_time": "2025-06-07T10:24:01.937Z"
      },
      {
        "duration": 27,
        "start_time": "2025-06-07T10:24:01.999Z"
      },
      {
        "duration": 1285,
        "start_time": "2025-06-07T10:24:02.029Z"
      },
      {
        "duration": 20,
        "start_time": "2025-06-07T10:24:03.315Z"
      },
      {
        "duration": 0,
        "start_time": "2025-06-07T10:24:03.337Z"
      },
      {
        "duration": 0,
        "start_time": "2025-06-07T10:24:03.339Z"
      },
      {
        "duration": 0,
        "start_time": "2025-06-07T10:24:03.340Z"
      },
      {
        "duration": 0,
        "start_time": "2025-06-07T10:24:03.341Z"
      },
      {
        "duration": 0,
        "start_time": "2025-06-07T10:24:03.343Z"
      },
      {
        "duration": 0,
        "start_time": "2025-06-07T10:24:03.344Z"
      },
      {
        "duration": 0,
        "start_time": "2025-06-07T10:24:03.345Z"
      },
      {
        "duration": 0,
        "start_time": "2025-06-07T10:24:03.346Z"
      },
      {
        "duration": 0,
        "start_time": "2025-06-07T10:24:03.347Z"
      },
      {
        "duration": 0,
        "start_time": "2025-06-07T10:24:03.348Z"
      },
      {
        "duration": 0,
        "start_time": "2025-06-07T10:24:03.376Z"
      },
      {
        "duration": 0,
        "start_time": "2025-06-07T10:24:03.378Z"
      },
      {
        "duration": 0,
        "start_time": "2025-06-07T10:24:03.380Z"
      },
      {
        "duration": 0,
        "start_time": "2025-06-07T10:24:03.381Z"
      },
      {
        "duration": 0,
        "start_time": "2025-06-07T10:24:03.382Z"
      },
      {
        "duration": 0,
        "start_time": "2025-06-07T10:24:03.383Z"
      },
      {
        "duration": 0,
        "start_time": "2025-06-07T10:24:03.384Z"
      },
      {
        "duration": 0,
        "start_time": "2025-06-07T10:24:03.386Z"
      },
      {
        "duration": 12971,
        "start_time": "2025-06-07T10:24:41.410Z"
      },
      {
        "duration": 919,
        "start_time": "2025-06-07T10:24:54.382Z"
      },
      {
        "duration": 59,
        "start_time": "2025-06-07T10:24:55.303Z"
      },
      {
        "duration": 22,
        "start_time": "2025-06-07T10:24:55.363Z"
      },
      {
        "duration": 1398,
        "start_time": "2025-06-07T10:24:55.387Z"
      },
      {
        "duration": 121,
        "start_time": "2025-06-07T10:24:56.787Z"
      },
      {
        "duration": 0,
        "start_time": "2025-06-07T10:24:56.910Z"
      },
      {
        "duration": 0,
        "start_time": "2025-06-07T10:24:56.911Z"
      },
      {
        "duration": 0,
        "start_time": "2025-06-07T10:24:56.912Z"
      },
      {
        "duration": 0,
        "start_time": "2025-06-07T10:24:56.914Z"
      },
      {
        "duration": 0,
        "start_time": "2025-06-07T10:24:56.915Z"
      },
      {
        "duration": 0,
        "start_time": "2025-06-07T10:24:56.916Z"
      },
      {
        "duration": 0,
        "start_time": "2025-06-07T10:24:56.917Z"
      },
      {
        "duration": 0,
        "start_time": "2025-06-07T10:24:56.918Z"
      },
      {
        "duration": 0,
        "start_time": "2025-06-07T10:24:56.919Z"
      },
      {
        "duration": 0,
        "start_time": "2025-06-07T10:24:56.920Z"
      },
      {
        "duration": 0,
        "start_time": "2025-06-07T10:24:56.921Z"
      },
      {
        "duration": 0,
        "start_time": "2025-06-07T10:24:56.922Z"
      },
      {
        "duration": 0,
        "start_time": "2025-06-07T10:24:56.923Z"
      },
      {
        "duration": 0,
        "start_time": "2025-06-07T10:24:56.924Z"
      },
      {
        "duration": 0,
        "start_time": "2025-06-07T10:24:56.925Z"
      },
      {
        "duration": 0,
        "start_time": "2025-06-07T10:24:56.927Z"
      },
      {
        "duration": 0,
        "start_time": "2025-06-07T10:24:56.927Z"
      },
      {
        "duration": 0,
        "start_time": "2025-06-07T10:24:56.929Z"
      },
      {
        "duration": 43,
        "start_time": "2025-06-07T10:25:16.434Z"
      },
      {
        "duration": 15,
        "start_time": "2025-06-07T10:25:21.748Z"
      },
      {
        "duration": 15,
        "start_time": "2025-06-07T10:25:41.592Z"
      },
      {
        "duration": 19,
        "start_time": "2025-06-07T10:25:43.494Z"
      },
      {
        "duration": 510,
        "start_time": "2025-06-07T10:25:45.182Z"
      },
      {
        "duration": 1029,
        "start_time": "2025-06-07T10:25:46.183Z"
      },
      {
        "duration": 20,
        "start_time": "2025-06-07T10:25:57.780Z"
      },
      {
        "duration": 9,
        "start_time": "2025-06-07T10:26:00.081Z"
      },
      {
        "duration": 350,
        "start_time": "2025-06-07T10:26:01.846Z"
      },
      {
        "duration": 51,
        "start_time": "2025-06-07T10:26:03.224Z"
      },
      {
        "duration": 24,
        "start_time": "2025-06-07T10:26:05.930Z"
      },
      {
        "duration": 17,
        "start_time": "2025-06-07T10:26:07.775Z"
      },
      {
        "duration": 2365,
        "start_time": "2025-06-07T10:26:21.936Z"
      },
      {
        "duration": 47,
        "start_time": "2025-06-07T21:24:28.339Z"
      },
      {
        "duration": 20130,
        "start_time": "2025-06-07T21:24:34.394Z"
      },
      {
        "duration": 913,
        "start_time": "2025-06-07T21:24:54.526Z"
      },
      {
        "duration": 53,
        "start_time": "2025-06-07T21:24:55.440Z"
      },
      {
        "duration": 13,
        "start_time": "2025-06-07T21:24:55.495Z"
      },
      {
        "duration": 1317,
        "start_time": "2025-06-07T21:24:55.510Z"
      },
      {
        "duration": 58,
        "start_time": "2025-06-07T21:24:56.829Z"
      },
      {
        "duration": 20,
        "start_time": "2025-06-07T21:24:56.889Z"
      },
      {
        "duration": 491,
        "start_time": "2025-06-07T21:24:56.911Z"
      },
      {
        "duration": 985,
        "start_time": "2025-06-07T21:24:57.404Z"
      },
      {
        "duration": 14,
        "start_time": "2025-06-07T21:24:58.391Z"
      },
      {
        "duration": 11,
        "start_time": "2025-06-07T21:24:58.407Z"
      },
      {
        "duration": 305,
        "start_time": "2025-06-07T21:24:58.420Z"
      },
      {
        "duration": 98,
        "start_time": "2025-06-07T21:24:58.726Z"
      },
      {
        "duration": 0,
        "start_time": "2025-06-07T21:24:58.826Z"
      },
      {
        "duration": 0,
        "start_time": "2025-06-07T21:24:58.839Z"
      },
      {
        "duration": 0,
        "start_time": "2025-06-07T21:24:58.841Z"
      },
      {
        "duration": 0,
        "start_time": "2025-06-07T21:24:58.842Z"
      },
      {
        "duration": 0,
        "start_time": "2025-06-07T21:24:58.843Z"
      },
      {
        "duration": 0,
        "start_time": "2025-06-07T21:24:58.845Z"
      },
      {
        "duration": 0,
        "start_time": "2025-06-07T21:24:58.846Z"
      },
      {
        "duration": 0,
        "start_time": "2025-06-07T21:24:58.847Z"
      },
      {
        "duration": 0,
        "start_time": "2025-06-07T21:24:58.848Z"
      },
      {
        "duration": 0,
        "start_time": "2025-06-07T21:24:58.849Z"
      },
      {
        "duration": 9,
        "start_time": "2025-06-07T21:26:43.428Z"
      },
      {
        "duration": 10824,
        "start_time": "2025-06-07T21:26:49.908Z"
      },
      {
        "duration": 906,
        "start_time": "2025-06-07T21:27:00.735Z"
      },
      {
        "duration": 56,
        "start_time": "2025-06-07T21:27:01.643Z"
      },
      {
        "duration": 19,
        "start_time": "2025-06-07T21:27:01.702Z"
      },
      {
        "duration": 1278,
        "start_time": "2025-06-07T21:27:01.739Z"
      },
      {
        "duration": 47,
        "start_time": "2025-06-07T21:27:03.019Z"
      },
      {
        "duration": 16,
        "start_time": "2025-06-07T21:27:03.068Z"
      },
      {
        "duration": 454,
        "start_time": "2025-06-07T21:27:03.086Z"
      },
      {
        "duration": 923,
        "start_time": "2025-06-07T21:27:03.542Z"
      },
      {
        "duration": 8,
        "start_time": "2025-06-07T21:27:04.467Z"
      },
      {
        "duration": 20,
        "start_time": "2025-06-07T21:27:04.477Z"
      },
      {
        "duration": 25,
        "start_time": "2025-06-07T21:27:04.499Z"
      },
      {
        "duration": 279,
        "start_time": "2025-06-07T21:27:04.526Z"
      },
      {
        "duration": 51,
        "start_time": "2025-06-07T21:27:04.807Z"
      },
      {
        "duration": 0,
        "start_time": "2025-06-07T21:27:04.860Z"
      },
      {
        "duration": 0,
        "start_time": "2025-06-07T21:27:04.862Z"
      },
      {
        "duration": 0,
        "start_time": "2025-06-07T21:27:04.863Z"
      },
      {
        "duration": 0,
        "start_time": "2025-06-07T21:27:04.864Z"
      },
      {
        "duration": 0,
        "start_time": "2025-06-07T21:27:04.865Z"
      },
      {
        "duration": 0,
        "start_time": "2025-06-07T21:27:04.867Z"
      },
      {
        "duration": 0,
        "start_time": "2025-06-07T21:27:04.868Z"
      },
      {
        "duration": 0,
        "start_time": "2025-06-07T21:27:04.869Z"
      },
      {
        "duration": 0,
        "start_time": "2025-06-07T21:27:04.871Z"
      },
      {
        "duration": 0,
        "start_time": "2025-06-07T21:27:04.872Z"
      },
      {
        "duration": 13,
        "start_time": "2025-06-07T21:35:21.229Z"
      },
      {
        "duration": 9,
        "start_time": "2025-06-07T21:35:30.178Z"
      },
      {
        "duration": 9,
        "start_time": "2025-06-07T21:35:33.040Z"
      },
      {
        "duration": 9,
        "start_time": "2025-06-07T21:35:38.787Z"
      },
      {
        "duration": 9,
        "start_time": "2025-06-07T21:35:42.471Z"
      },
      {
        "duration": 10948,
        "start_time": "2025-06-07T21:36:05.324Z"
      },
      {
        "duration": 855,
        "start_time": "2025-06-07T21:36:16.275Z"
      },
      {
        "duration": 35,
        "start_time": "2025-06-07T21:36:17.131Z"
      },
      {
        "duration": 13,
        "start_time": "2025-06-07T21:36:17.168Z"
      },
      {
        "duration": 1148,
        "start_time": "2025-06-07T21:36:17.182Z"
      },
      {
        "duration": 42,
        "start_time": "2025-06-07T21:36:18.331Z"
      },
      {
        "duration": 16,
        "start_time": "2025-06-07T21:36:18.375Z"
      },
      {
        "duration": 405,
        "start_time": "2025-06-07T21:36:18.393Z"
      },
      {
        "duration": 809,
        "start_time": "2025-06-07T21:36:18.800Z"
      },
      {
        "duration": 16,
        "start_time": "2025-06-07T21:36:19.611Z"
      },
      {
        "duration": 0,
        "start_time": "2025-06-07T21:36:19.639Z"
      },
      {
        "duration": 0,
        "start_time": "2025-06-07T21:36:19.641Z"
      },
      {
        "duration": 0,
        "start_time": "2025-06-07T21:36:19.642Z"
      },
      {
        "duration": 0,
        "start_time": "2025-06-07T21:36:19.643Z"
      },
      {
        "duration": 0,
        "start_time": "2025-06-07T21:36:19.644Z"
      },
      {
        "duration": 0,
        "start_time": "2025-06-07T21:36:19.645Z"
      },
      {
        "duration": 0,
        "start_time": "2025-06-07T21:36:19.646Z"
      },
      {
        "duration": 0,
        "start_time": "2025-06-07T21:36:19.647Z"
      },
      {
        "duration": 0,
        "start_time": "2025-06-07T21:36:19.648Z"
      },
      {
        "duration": 0,
        "start_time": "2025-06-07T21:36:19.649Z"
      },
      {
        "duration": 0,
        "start_time": "2025-06-07T21:36:19.650Z"
      },
      {
        "duration": 0,
        "start_time": "2025-06-07T21:36:19.651Z"
      },
      {
        "duration": 0,
        "start_time": "2025-06-07T21:36:19.652Z"
      },
      {
        "duration": 0,
        "start_time": "2025-06-07T21:36:19.653Z"
      },
      {
        "duration": 12,
        "start_time": "2025-06-07T21:36:26.450Z"
      },
      {
        "duration": 10691,
        "start_time": "2025-06-07T21:36:39.787Z"
      },
      {
        "duration": 817,
        "start_time": "2025-06-07T21:36:50.480Z"
      },
      {
        "duration": 43,
        "start_time": "2025-06-07T21:36:51.299Z"
      },
      {
        "duration": 159,
        "start_time": "2025-06-07T21:36:51.344Z"
      },
      {
        "duration": 1122,
        "start_time": "2025-06-07T21:36:51.504Z"
      },
      {
        "duration": 41,
        "start_time": "2025-06-07T21:36:52.627Z"
      },
      {
        "duration": 49,
        "start_time": "2025-06-07T21:36:52.669Z"
      },
      {
        "duration": 402,
        "start_time": "2025-06-07T21:36:52.720Z"
      },
      {
        "duration": 849,
        "start_time": "2025-06-07T21:36:53.123Z"
      },
      {
        "duration": 13,
        "start_time": "2025-06-07T21:36:53.975Z"
      },
      {
        "duration": 0,
        "start_time": "2025-06-07T21:36:53.989Z"
      },
      {
        "duration": 0,
        "start_time": "2025-06-07T21:36:53.990Z"
      },
      {
        "duration": 0,
        "start_time": "2025-06-07T21:36:53.991Z"
      },
      {
        "duration": 0,
        "start_time": "2025-06-07T21:36:53.993Z"
      },
      {
        "duration": 0,
        "start_time": "2025-06-07T21:36:53.994Z"
      },
      {
        "duration": 0,
        "start_time": "2025-06-07T21:36:53.995Z"
      },
      {
        "duration": 0,
        "start_time": "2025-06-07T21:36:53.996Z"
      },
      {
        "duration": 0,
        "start_time": "2025-06-07T21:36:53.997Z"
      },
      {
        "duration": 0,
        "start_time": "2025-06-07T21:36:53.998Z"
      },
      {
        "duration": 0,
        "start_time": "2025-06-07T21:36:53.999Z"
      },
      {
        "duration": 0,
        "start_time": "2025-06-07T21:36:54.000Z"
      },
      {
        "duration": 0,
        "start_time": "2025-06-07T21:36:54.001Z"
      },
      {
        "duration": 0,
        "start_time": "2025-06-07T21:36:54.002Z"
      },
      {
        "duration": 0,
        "start_time": "2025-06-07T21:36:54.039Z"
      },
      {
        "duration": 10,
        "start_time": "2025-06-07T21:37:55.545Z"
      },
      {
        "duration": 13,
        "start_time": "2025-06-07T21:38:01.349Z"
      },
      {
        "duration": 15,
        "start_time": "2025-06-07T21:38:03.235Z"
      },
      {
        "duration": 6,
        "start_time": "2025-06-07T21:38:14.987Z"
      },
      {
        "duration": 6,
        "start_time": "2025-06-07T21:38:15.731Z"
      },
      {
        "duration": 282,
        "start_time": "2025-06-07T21:38:17.096Z"
      },
      {
        "duration": 44,
        "start_time": "2025-06-07T21:38:22.839Z"
      },
      {
        "duration": 23,
        "start_time": "2025-06-07T21:39:24.985Z"
      },
      {
        "duration": 2303,
        "start_time": "2025-06-07T21:39:26.644Z"
      },
      {
        "duration": 69408,
        "start_time": "2025-06-07T21:39:34.251Z"
      },
      {
        "duration": 2448,
        "start_time": "2025-06-07T21:40:43.661Z"
      },
      {
        "duration": 29457,
        "start_time": "2025-06-07T21:41:16.117Z"
      },
      {
        "duration": 7,
        "start_time": "2025-06-07T21:42:11.882Z"
      },
      {
        "duration": 5,
        "start_time": "2025-06-07T21:47:05.892Z"
      },
      {
        "duration": 34,
        "start_time": "2025-06-07T21:47:39.110Z"
      },
      {
        "duration": 17,
        "start_time": "2025-06-07T21:48:16.916Z"
      },
      {
        "duration": 72,
        "start_time": "2025-06-07T21:56:25.328Z"
      },
      {
        "duration": 131,
        "start_time": "2025-06-07T21:56:34.582Z"
      },
      {
        "duration": 10,
        "start_time": "2025-06-07T21:56:39.773Z"
      },
      {
        "duration": 6,
        "start_time": "2025-06-07T21:57:27.758Z"
      },
      {
        "duration": 13,
        "start_time": "2025-06-07T22:10:16.367Z"
      },
      {
        "duration": 13,
        "start_time": "2025-06-07T22:10:19.132Z"
      },
      {
        "duration": 7,
        "start_time": "2025-06-07T22:15:15.985Z"
      },
      {
        "duration": 7,
        "start_time": "2025-06-07T22:16:26.607Z"
      },
      {
        "duration": 26,
        "start_time": "2025-06-07T22:30:09.795Z"
      },
      {
        "duration": 22,
        "start_time": "2025-06-07T22:30:11.847Z"
      },
      {
        "duration": 53,
        "start_time": "2025-06-07T22:31:00.285Z"
      },
      {
        "duration": 47,
        "start_time": "2025-06-07T22:31:02.206Z"
      },
      {
        "duration": 298,
        "start_time": "2025-06-07T22:32:54.623Z"
      },
      {
        "duration": 11947,
        "start_time": "2025-06-07T22:32:57.992Z"
      },
      {
        "duration": 760,
        "start_time": "2025-06-07T22:33:09.942Z"
      },
      {
        "duration": 55,
        "start_time": "2025-06-07T22:33:10.704Z"
      },
      {
        "duration": 13,
        "start_time": "2025-06-07T22:33:10.761Z"
      },
      {
        "duration": 1183,
        "start_time": "2025-06-07T22:33:10.777Z"
      },
      {
        "duration": 50,
        "start_time": "2025-06-07T22:33:11.962Z"
      },
      {
        "duration": 36,
        "start_time": "2025-06-07T22:33:12.014Z"
      },
      {
        "duration": 431,
        "start_time": "2025-06-07T22:33:12.052Z"
      },
      {
        "duration": 837,
        "start_time": "2025-06-07T22:33:12.485Z"
      },
      {
        "duration": 28,
        "start_time": "2025-06-07T22:33:13.324Z"
      },
      {
        "duration": 0,
        "start_time": "2025-06-07T22:33:13.354Z"
      },
      {
        "duration": 0,
        "start_time": "2025-06-07T22:33:13.355Z"
      },
      {
        "duration": 0,
        "start_time": "2025-06-07T22:33:13.356Z"
      },
      {
        "duration": 0,
        "start_time": "2025-06-07T22:33:13.357Z"
      },
      {
        "duration": 0,
        "start_time": "2025-06-07T22:33:13.358Z"
      },
      {
        "duration": 0,
        "start_time": "2025-06-07T22:33:13.359Z"
      },
      {
        "duration": 0,
        "start_time": "2025-06-07T22:33:13.361Z"
      },
      {
        "duration": 0,
        "start_time": "2025-06-07T22:33:13.362Z"
      },
      {
        "duration": 0,
        "start_time": "2025-06-07T22:33:13.363Z"
      },
      {
        "duration": 0,
        "start_time": "2025-06-07T22:33:13.364Z"
      },
      {
        "duration": 0,
        "start_time": "2025-06-07T22:33:13.365Z"
      },
      {
        "duration": 0,
        "start_time": "2025-06-07T22:33:13.366Z"
      },
      {
        "duration": 0,
        "start_time": "2025-06-07T22:33:13.367Z"
      },
      {
        "duration": 0,
        "start_time": "2025-06-07T22:33:13.368Z"
      },
      {
        "duration": 0,
        "start_time": "2025-06-07T22:33:13.369Z"
      },
      {
        "duration": 8,
        "start_time": "2025-06-07T22:33:37.801Z"
      },
      {
        "duration": 10,
        "start_time": "2025-06-07T22:33:42.177Z"
      },
      {
        "duration": 7,
        "start_time": "2025-06-07T22:33:46.290Z"
      },
      {
        "duration": 8,
        "start_time": "2025-06-07T22:33:56.042Z"
      },
      {
        "duration": 13,
        "start_time": "2025-06-07T22:35:34.727Z"
      },
      {
        "duration": 102,
        "start_time": "2025-06-07T22:35:48.886Z"
      },
      {
        "duration": 77,
        "start_time": "2025-06-07T22:36:03.490Z"
      },
      {
        "duration": 72,
        "start_time": "2025-06-07T22:36:08.899Z"
      },
      {
        "duration": 74,
        "start_time": "2025-06-07T22:36:18.565Z"
      },
      {
        "duration": 73,
        "start_time": "2025-06-07T22:36:25.639Z"
      },
      {
        "duration": 75,
        "start_time": "2025-06-07T22:36:33.023Z"
      },
      {
        "duration": 7,
        "start_time": "2025-06-07T22:36:47.899Z"
      },
      {
        "duration": 9,
        "start_time": "2025-06-07T22:36:56.282Z"
      },
      {
        "duration": 8,
        "start_time": "2025-06-07T22:39:55.109Z"
      },
      {
        "duration": 157,
        "start_time": "2025-06-07T22:40:12.440Z"
      },
      {
        "duration": 161,
        "start_time": "2025-06-07T22:40:15.328Z"
      },
      {
        "duration": 15,
        "start_time": "2025-06-07T22:40:32.757Z"
      },
      {
        "duration": 14,
        "start_time": "2025-06-07T22:41:16.865Z"
      },
      {
        "duration": 5,
        "start_time": "2025-06-07T22:41:19.458Z"
      },
      {
        "duration": 15,
        "start_time": "2025-06-07T22:41:58.146Z"
      },
      {
        "duration": 13,
        "start_time": "2025-06-07T22:42:01.156Z"
      },
      {
        "duration": 14,
        "start_time": "2025-06-07T22:42:03.487Z"
      },
      {
        "duration": 8,
        "start_time": "2025-06-07T22:42:19.600Z"
      },
      {
        "duration": 10816,
        "start_time": "2025-06-07T22:42:48.837Z"
      },
      {
        "duration": 784,
        "start_time": "2025-06-07T22:42:59.656Z"
      },
      {
        "duration": 45,
        "start_time": "2025-06-07T22:43:00.442Z"
      },
      {
        "duration": 14,
        "start_time": "2025-06-07T22:43:00.489Z"
      },
      {
        "duration": 1284,
        "start_time": "2025-06-07T22:43:00.505Z"
      },
      {
        "duration": 50,
        "start_time": "2025-06-07T22:43:01.791Z"
      },
      {
        "duration": 17,
        "start_time": "2025-06-07T22:43:01.843Z"
      },
      {
        "duration": 438,
        "start_time": "2025-06-07T22:43:01.861Z"
      },
      {
        "duration": 867,
        "start_time": "2025-06-07T22:43:02.300Z"
      },
      {
        "duration": 8,
        "start_time": "2025-06-07T22:43:03.169Z"
      },
      {
        "duration": 44,
        "start_time": "2025-06-07T22:43:03.178Z"
      },
      {
        "duration": 12,
        "start_time": "2025-06-07T22:43:03.223Z"
      },
      {
        "duration": 18,
        "start_time": "2025-06-07T22:43:03.236Z"
      },
      {
        "duration": 4,
        "start_time": "2025-06-07T22:43:03.256Z"
      },
      {
        "duration": 22,
        "start_time": "2025-06-07T22:43:03.262Z"
      },
      {
        "duration": 17,
        "start_time": "2025-06-07T22:43:03.286Z"
      },
      {
        "duration": 0,
        "start_time": "2025-06-07T22:43:03.305Z"
      },
      {
        "duration": 0,
        "start_time": "2025-06-07T22:43:03.306Z"
      },
      {
        "duration": 0,
        "start_time": "2025-06-07T22:43:03.307Z"
      },
      {
        "duration": 0,
        "start_time": "2025-06-07T22:43:03.308Z"
      },
      {
        "duration": 0,
        "start_time": "2025-06-07T22:43:03.309Z"
      },
      {
        "duration": 0,
        "start_time": "2025-06-07T22:43:03.309Z"
      },
      {
        "duration": 0,
        "start_time": "2025-06-07T22:43:03.311Z"
      },
      {
        "duration": 0,
        "start_time": "2025-06-07T22:43:03.311Z"
      },
      {
        "duration": 0,
        "start_time": "2025-06-07T22:43:03.312Z"
      },
      {
        "duration": 0,
        "start_time": "2025-06-07T22:43:03.314Z"
      },
      {
        "duration": 0,
        "start_time": "2025-06-07T22:43:03.314Z"
      },
      {
        "duration": 0,
        "start_time": "2025-06-07T22:43:03.339Z"
      },
      {
        "duration": 0,
        "start_time": "2025-06-07T22:43:03.340Z"
      },
      {
        "duration": 9,
        "start_time": "2025-06-07T22:43:40.015Z"
      },
      {
        "duration": 11,
        "start_time": "2025-06-07T22:43:44.310Z"
      },
      {
        "duration": 18,
        "start_time": "2025-06-07T22:44:05.728Z"
      },
      {
        "duration": 5,
        "start_time": "2025-06-07T22:44:09.921Z"
      },
      {
        "duration": 41,
        "start_time": "2025-06-07T22:45:22.764Z"
      },
      {
        "duration": 59,
        "start_time": "2025-06-07T22:45:26.020Z"
      },
      {
        "duration": 9,
        "start_time": "2025-06-07T22:47:09.118Z"
      },
      {
        "duration": 9,
        "start_time": "2025-06-07T22:47:15.707Z"
      },
      {
        "duration": 9,
        "start_time": "2025-06-07T22:47:16.616Z"
      },
      {
        "duration": 13,
        "start_time": "2025-06-07T22:47:22.107Z"
      },
      {
        "duration": 21,
        "start_time": "2025-06-07T22:47:35.867Z"
      },
      {
        "duration": 6,
        "start_time": "2025-06-07T22:48:45.854Z"
      },
      {
        "duration": 11249,
        "start_time": "2025-06-07T22:50:12.205Z"
      },
      {
        "duration": 823,
        "start_time": "2025-06-07T22:50:23.456Z"
      },
      {
        "duration": 32,
        "start_time": "2025-06-07T22:50:24.280Z"
      },
      {
        "duration": 12,
        "start_time": "2025-06-07T22:50:24.314Z"
      },
      {
        "duration": 1256,
        "start_time": "2025-06-07T22:50:24.350Z"
      },
      {
        "duration": 54,
        "start_time": "2025-06-07T22:50:25.607Z"
      },
      {
        "duration": 18,
        "start_time": "2025-06-07T22:50:25.663Z"
      },
      {
        "duration": 486,
        "start_time": "2025-06-07T22:50:25.682Z"
      },
      {
        "duration": 933,
        "start_time": "2025-06-07T22:50:26.169Z"
      },
      {
        "duration": 8,
        "start_time": "2025-06-07T22:50:27.103Z"
      },
      {
        "duration": 8,
        "start_time": "2025-06-07T22:50:27.112Z"
      },
      {
        "duration": 30,
        "start_time": "2025-06-07T22:50:27.121Z"
      },
      {
        "duration": 53,
        "start_time": "2025-06-07T22:50:27.153Z"
      },
      {
        "duration": 7,
        "start_time": "2025-06-07T22:50:27.209Z"
      },
      {
        "duration": 136,
        "start_time": "2025-06-07T22:50:27.217Z"
      },
      {
        "duration": 0,
        "start_time": "2025-06-07T22:50:27.354Z"
      },
      {
        "duration": 0,
        "start_time": "2025-06-07T22:50:27.356Z"
      },
      {
        "duration": 0,
        "start_time": "2025-06-07T22:50:27.357Z"
      },
      {
        "duration": 0,
        "start_time": "2025-06-07T22:50:27.358Z"
      },
      {
        "duration": 0,
        "start_time": "2025-06-07T22:50:27.359Z"
      },
      {
        "duration": 0,
        "start_time": "2025-06-07T22:50:27.360Z"
      },
      {
        "duration": 0,
        "start_time": "2025-06-07T22:50:27.361Z"
      },
      {
        "duration": 0,
        "start_time": "2025-06-07T22:50:27.362Z"
      },
      {
        "duration": 0,
        "start_time": "2025-06-07T22:50:27.363Z"
      },
      {
        "duration": 0,
        "start_time": "2025-06-07T22:50:27.364Z"
      },
      {
        "duration": 0,
        "start_time": "2025-06-07T22:50:27.364Z"
      },
      {
        "duration": 0,
        "start_time": "2025-06-07T22:50:27.365Z"
      },
      {
        "duration": 0,
        "start_time": "2025-06-07T22:50:27.367Z"
      },
      {
        "duration": 0,
        "start_time": "2025-06-07T22:50:27.368Z"
      },
      {
        "duration": 1,
        "start_time": "2025-06-07T22:50:27.368Z"
      },
      {
        "duration": 9,
        "start_time": "2025-06-07T22:50:49.885Z"
      },
      {
        "duration": 8,
        "start_time": "2025-06-07T22:50:54.516Z"
      },
      {
        "duration": 7,
        "start_time": "2025-06-07T22:50:56.059Z"
      },
      {
        "duration": 7,
        "start_time": "2025-06-07T22:51:00.588Z"
      },
      {
        "duration": 56,
        "start_time": "2025-06-07T22:51:01.726Z"
      },
      {
        "duration": 7,
        "start_time": "2025-06-07T22:51:07.998Z"
      },
      {
        "duration": 7,
        "start_time": "2025-06-07T22:51:14.132Z"
      },
      {
        "duration": 22,
        "start_time": "2025-06-07T22:51:17.876Z"
      },
      {
        "duration": 25,
        "start_time": "2025-06-07T22:52:17.451Z"
      },
      {
        "duration": 53,
        "start_time": "2025-06-07T22:53:27.372Z"
      },
      {
        "duration": 6,
        "start_time": "2025-06-07T22:53:28.481Z"
      },
      {
        "duration": 7,
        "start_time": "2025-06-07T22:53:42.771Z"
      },
      {
        "duration": 22,
        "start_time": "2025-06-07T22:53:44.115Z"
      },
      {
        "duration": 259,
        "start_time": "2025-06-07T22:53:46.185Z"
      },
      {
        "duration": 10,
        "start_time": "2025-06-07T22:57:06.137Z"
      },
      {
        "duration": 672,
        "start_time": "2025-06-07T22:58:26.248Z"
      },
      {
        "duration": 13,
        "start_time": "2025-06-07T22:59:57.248Z"
      },
      {
        "duration": 12,
        "start_time": "2025-06-07T23:00:07.636Z"
      },
      {
        "duration": 11,
        "start_time": "2025-06-07T23:00:24.111Z"
      },
      {
        "duration": 8,
        "start_time": "2025-06-07T23:00:41.212Z"
      },
      {
        "duration": 23,
        "start_time": "2025-06-07T23:01:13.387Z"
      },
      {
        "duration": 31,
        "start_time": "2025-06-07T23:01:16.142Z"
      },
      {
        "duration": 10930,
        "start_time": "2025-06-07T23:01:24.248Z"
      },
      {
        "duration": 858,
        "start_time": "2025-06-07T23:01:35.181Z"
      },
      {
        "duration": 74,
        "start_time": "2025-06-07T23:01:36.040Z"
      },
      {
        "duration": 25,
        "start_time": "2025-06-07T23:01:36.117Z"
      },
      {
        "duration": 1242,
        "start_time": "2025-06-07T23:01:36.143Z"
      },
      {
        "duration": 60,
        "start_time": "2025-06-07T23:01:37.387Z"
      },
      {
        "duration": 20,
        "start_time": "2025-06-07T23:01:37.449Z"
      },
      {
        "duration": 649,
        "start_time": "2025-06-07T23:01:37.471Z"
      },
      {
        "duration": 912,
        "start_time": "2025-06-07T23:01:38.122Z"
      },
      {
        "duration": 9,
        "start_time": "2025-06-07T23:01:39.042Z"
      },
      {
        "duration": 94,
        "start_time": "2025-06-07T23:01:39.053Z"
      },
      {
        "duration": 9,
        "start_time": "2025-06-07T23:01:39.149Z"
      },
      {
        "duration": 75,
        "start_time": "2025-06-07T23:01:39.159Z"
      },
      {
        "duration": 7,
        "start_time": "2025-06-07T23:01:39.237Z"
      },
      {
        "duration": 18,
        "start_time": "2025-06-07T23:01:39.245Z"
      },
      {
        "duration": 40,
        "start_time": "2025-06-07T23:01:39.265Z"
      },
      {
        "duration": 43,
        "start_time": "2025-06-07T23:01:39.307Z"
      },
      {
        "duration": 280,
        "start_time": "2025-06-07T23:01:39.352Z"
      },
      {
        "duration": 110,
        "start_time": "2025-06-07T23:01:39.633Z"
      },
      {
        "duration": 1,
        "start_time": "2025-06-07T23:01:39.745Z"
      },
      {
        "duration": 0,
        "start_time": "2025-06-07T23:01:39.747Z"
      },
      {
        "duration": 0,
        "start_time": "2025-06-07T23:01:39.748Z"
      },
      {
        "duration": 0,
        "start_time": "2025-06-07T23:01:39.750Z"
      },
      {
        "duration": 0,
        "start_time": "2025-06-07T23:01:39.751Z"
      },
      {
        "duration": 0,
        "start_time": "2025-06-07T23:01:39.753Z"
      },
      {
        "duration": 0,
        "start_time": "2025-06-07T23:01:39.755Z"
      },
      {
        "duration": 0,
        "start_time": "2025-06-07T23:01:39.757Z"
      },
      {
        "duration": 0,
        "start_time": "2025-06-07T23:01:39.758Z"
      },
      {
        "duration": 0,
        "start_time": "2025-06-07T23:01:39.759Z"
      },
      {
        "duration": 0,
        "start_time": "2025-06-07T23:01:39.761Z"
      },
      {
        "duration": 9,
        "start_time": "2025-06-07T23:08:40.540Z"
      },
      {
        "duration": 4,
        "start_time": "2025-06-07T23:12:30.099Z"
      },
      {
        "duration": 93,
        "start_time": "2025-06-07T23:12:37.410Z"
      },
      {
        "duration": 8,
        "start_time": "2025-06-07T23:12:48.793Z"
      },
      {
        "duration": 7,
        "start_time": "2025-06-07T23:12:51.323Z"
      },
      {
        "duration": 3213,
        "start_time": "2025-06-07T23:13:25.695Z"
      },
      {
        "duration": 3125,
        "start_time": "2025-06-07T23:13:33.591Z"
      },
      {
        "duration": 11,
        "start_time": "2025-06-07T23:14:11.786Z"
      },
      {
        "duration": 11,
        "start_time": "2025-06-07T23:14:13.820Z"
      },
      {
        "duration": 7,
        "start_time": "2025-06-07T23:14:47.274Z"
      },
      {
        "duration": 8,
        "start_time": "2025-06-07T23:14:49.629Z"
      },
      {
        "duration": 12369,
        "start_time": "2025-06-07T23:15:16.259Z"
      },
      {
        "duration": 813,
        "start_time": "2025-06-07T23:15:28.631Z"
      },
      {
        "duration": 39,
        "start_time": "2025-06-07T23:15:29.446Z"
      },
      {
        "duration": 14,
        "start_time": "2025-06-07T23:15:29.487Z"
      },
      {
        "duration": 1281,
        "start_time": "2025-06-07T23:15:29.503Z"
      },
      {
        "duration": 39,
        "start_time": "2025-06-07T23:15:30.785Z"
      },
      {
        "duration": 54,
        "start_time": "2025-06-07T23:15:30.825Z"
      },
      {
        "duration": 487,
        "start_time": "2025-06-07T23:15:30.881Z"
      },
      {
        "duration": 872,
        "start_time": "2025-06-07T23:15:31.370Z"
      },
      {
        "duration": 26,
        "start_time": "2025-06-07T23:15:32.245Z"
      },
      {
        "duration": 67,
        "start_time": "2025-06-07T23:15:32.272Z"
      },
      {
        "duration": 61,
        "start_time": "2025-06-07T23:15:32.341Z"
      },
      {
        "duration": 38,
        "start_time": "2025-06-07T23:15:32.404Z"
      },
      {
        "duration": 34,
        "start_time": "2025-06-07T23:15:32.444Z"
      },
      {
        "duration": 23,
        "start_time": "2025-06-07T23:15:32.480Z"
      },
      {
        "duration": 0,
        "start_time": "2025-06-07T23:15:32.505Z"
      },
      {
        "duration": 0,
        "start_time": "2025-06-07T23:15:32.506Z"
      },
      {
        "duration": 0,
        "start_time": "2025-06-07T23:15:32.507Z"
      },
      {
        "duration": 0,
        "start_time": "2025-06-07T23:15:32.508Z"
      },
      {
        "duration": 0,
        "start_time": "2025-06-07T23:15:32.509Z"
      },
      {
        "duration": 0,
        "start_time": "2025-06-07T23:15:32.510Z"
      },
      {
        "duration": 0,
        "start_time": "2025-06-07T23:15:32.512Z"
      },
      {
        "duration": 0,
        "start_time": "2025-06-07T23:15:32.513Z"
      },
      {
        "duration": 0,
        "start_time": "2025-06-07T23:15:32.514Z"
      },
      {
        "duration": 0,
        "start_time": "2025-06-07T23:15:32.515Z"
      },
      {
        "duration": 0,
        "start_time": "2025-06-07T23:15:32.516Z"
      },
      {
        "duration": 0,
        "start_time": "2025-06-07T23:15:32.517Z"
      },
      {
        "duration": 0,
        "start_time": "2025-06-07T23:15:32.518Z"
      },
      {
        "duration": 0,
        "start_time": "2025-06-07T23:15:32.519Z"
      },
      {
        "duration": 0,
        "start_time": "2025-06-07T23:15:32.520Z"
      },
      {
        "duration": 0,
        "start_time": "2025-06-07T23:15:32.522Z"
      },
      {
        "duration": 0,
        "start_time": "2025-06-07T23:15:32.523Z"
      },
      {
        "duration": 0,
        "start_time": "2025-06-07T23:15:32.524Z"
      },
      {
        "duration": 0,
        "start_time": "2025-06-07T23:15:32.525Z"
      },
      {
        "duration": 0,
        "start_time": "2025-06-07T23:15:32.526Z"
      },
      {
        "duration": 25,
        "start_time": "2025-06-07T23:15:49.543Z"
      },
      {
        "duration": 38,
        "start_time": "2025-06-07T23:15:51.740Z"
      },
      {
        "duration": 43,
        "start_time": "2025-06-07T23:15:58.918Z"
      },
      {
        "duration": 37,
        "start_time": "2025-06-07T23:16:03.925Z"
      },
      {
        "duration": 12369,
        "start_time": "2025-06-07T23:16:31.977Z"
      },
      {
        "duration": 903,
        "start_time": "2025-06-07T23:16:44.349Z"
      },
      {
        "duration": 62,
        "start_time": "2025-06-07T23:16:45.254Z"
      },
      {
        "duration": 28,
        "start_time": "2025-06-07T23:16:45.318Z"
      },
      {
        "duration": 1303,
        "start_time": "2025-06-07T23:16:45.347Z"
      },
      {
        "duration": 57,
        "start_time": "2025-06-07T23:16:46.652Z"
      },
      {
        "duration": 33,
        "start_time": "2025-06-07T23:16:46.711Z"
      },
      {
        "duration": 506,
        "start_time": "2025-06-07T23:16:46.745Z"
      },
      {
        "duration": 1008,
        "start_time": "2025-06-07T23:16:47.253Z"
      },
      {
        "duration": 24,
        "start_time": "2025-06-07T23:16:48.263Z"
      },
      {
        "duration": 58,
        "start_time": "2025-06-07T23:16:48.288Z"
      },
      {
        "duration": 53,
        "start_time": "2025-06-07T23:16:48.348Z"
      },
      {
        "duration": 40,
        "start_time": "2025-06-07T23:16:48.403Z"
      },
      {
        "duration": 47,
        "start_time": "2025-06-07T23:16:48.445Z"
      },
      {
        "duration": 6,
        "start_time": "2025-06-07T23:16:48.494Z"
      },
      {
        "duration": 0,
        "start_time": "2025-06-07T23:16:48.501Z"
      },
      {
        "duration": 0,
        "start_time": "2025-06-07T23:16:48.503Z"
      },
      {
        "duration": 0,
        "start_time": "2025-06-07T23:16:48.504Z"
      },
      {
        "duration": 0,
        "start_time": "2025-06-07T23:16:48.505Z"
      },
      {
        "duration": 0,
        "start_time": "2025-06-07T23:16:48.507Z"
      },
      {
        "duration": 0,
        "start_time": "2025-06-07T23:16:48.509Z"
      },
      {
        "duration": 0,
        "start_time": "2025-06-07T23:16:48.510Z"
      },
      {
        "duration": 0,
        "start_time": "2025-06-07T23:16:48.512Z"
      },
      {
        "duration": 0,
        "start_time": "2025-06-07T23:16:48.513Z"
      },
      {
        "duration": 0,
        "start_time": "2025-06-07T23:16:48.538Z"
      },
      {
        "duration": 0,
        "start_time": "2025-06-07T23:16:48.540Z"
      },
      {
        "duration": 0,
        "start_time": "2025-06-07T23:16:48.541Z"
      },
      {
        "duration": 0,
        "start_time": "2025-06-07T23:16:48.542Z"
      },
      {
        "duration": 0,
        "start_time": "2025-06-07T23:16:48.544Z"
      },
      {
        "duration": 0,
        "start_time": "2025-06-07T23:16:48.546Z"
      },
      {
        "duration": 0,
        "start_time": "2025-06-07T23:16:48.547Z"
      },
      {
        "duration": 0,
        "start_time": "2025-06-07T23:16:48.549Z"
      },
      {
        "duration": 0,
        "start_time": "2025-06-07T23:16:48.550Z"
      },
      {
        "duration": 0,
        "start_time": "2025-06-07T23:16:48.552Z"
      },
      {
        "duration": 0,
        "start_time": "2025-06-07T23:16:48.553Z"
      },
      {
        "duration": 20,
        "start_time": "2025-06-07T23:18:05.586Z"
      },
      {
        "duration": 5,
        "start_time": "2025-06-07T23:18:10.049Z"
      },
      {
        "duration": 8,
        "start_time": "2025-06-07T23:18:11.714Z"
      },
      {
        "duration": 23,
        "start_time": "2025-06-07T23:18:21.862Z"
      },
      {
        "duration": 39,
        "start_time": "2025-06-07T23:18:28.422Z"
      },
      {
        "duration": 11087,
        "start_time": "2025-06-07T23:19:06.203Z"
      },
      {
        "duration": 899,
        "start_time": "2025-06-07T23:19:17.293Z"
      },
      {
        "duration": 55,
        "start_time": "2025-06-07T23:19:18.193Z"
      },
      {
        "duration": 13,
        "start_time": "2025-06-07T23:19:18.250Z"
      },
      {
        "duration": 1187,
        "start_time": "2025-06-07T23:19:18.265Z"
      },
      {
        "duration": 40,
        "start_time": "2025-06-07T23:19:19.454Z"
      },
      {
        "duration": 17,
        "start_time": "2025-06-07T23:19:19.496Z"
      },
      {
        "duration": 438,
        "start_time": "2025-06-07T23:19:19.514Z"
      },
      {
        "duration": 833,
        "start_time": "2025-06-07T23:19:19.954Z"
      },
      {
        "duration": 22,
        "start_time": "2025-06-07T23:19:20.791Z"
      },
      {
        "duration": 87,
        "start_time": "2025-06-07T23:19:20.815Z"
      },
      {
        "duration": 55,
        "start_time": "2025-06-07T23:19:20.903Z"
      },
      {
        "duration": 43,
        "start_time": "2025-06-07T23:19:20.962Z"
      },
      {
        "duration": 33,
        "start_time": "2025-06-07T23:19:21.006Z"
      },
      {
        "duration": 123,
        "start_time": "2025-06-07T23:19:21.040Z"
      },
      {
        "duration": 0,
        "start_time": "2025-06-07T23:19:21.165Z"
      },
      {
        "duration": 0,
        "start_time": "2025-06-07T23:19:21.167Z"
      },
      {
        "duration": 0,
        "start_time": "2025-06-07T23:19:21.168Z"
      },
      {
        "duration": 0,
        "start_time": "2025-06-07T23:19:21.169Z"
      },
      {
        "duration": 0,
        "start_time": "2025-06-07T23:19:21.171Z"
      },
      {
        "duration": 0,
        "start_time": "2025-06-07T23:19:21.172Z"
      },
      {
        "duration": 0,
        "start_time": "2025-06-07T23:19:21.174Z"
      },
      {
        "duration": 0,
        "start_time": "2025-06-07T23:19:21.175Z"
      },
      {
        "duration": 0,
        "start_time": "2025-06-07T23:19:21.177Z"
      },
      {
        "duration": 0,
        "start_time": "2025-06-07T23:19:21.178Z"
      },
      {
        "duration": 0,
        "start_time": "2025-06-07T23:19:21.181Z"
      },
      {
        "duration": 0,
        "start_time": "2025-06-07T23:19:21.182Z"
      },
      {
        "duration": 0,
        "start_time": "2025-06-07T23:19:21.183Z"
      },
      {
        "duration": 0,
        "start_time": "2025-06-07T23:19:21.184Z"
      },
      {
        "duration": 0,
        "start_time": "2025-06-07T23:19:21.185Z"
      },
      {
        "duration": 0,
        "start_time": "2025-06-07T23:19:21.186Z"
      },
      {
        "duration": 0,
        "start_time": "2025-06-07T23:19:21.187Z"
      },
      {
        "duration": 0,
        "start_time": "2025-06-07T23:19:21.189Z"
      },
      {
        "duration": 0,
        "start_time": "2025-06-07T23:19:21.190Z"
      },
      {
        "duration": 0,
        "start_time": "2025-06-07T23:19:21.191Z"
      },
      {
        "duration": 8,
        "start_time": "2025-06-07T23:19:59.478Z"
      },
      {
        "duration": 53,
        "start_time": "2025-06-07T23:20:32.560Z"
      },
      {
        "duration": 7,
        "start_time": "2025-06-07T23:20:33.426Z"
      },
      {
        "duration": 22,
        "start_time": "2025-06-07T23:20:37.396Z"
      },
      {
        "duration": 186,
        "start_time": "2025-06-07T23:22:41.523Z"
      },
      {
        "duration": 41,
        "start_time": "2025-06-07T23:23:00.445Z"
      },
      {
        "duration": 57,
        "start_time": "2025-06-07T23:23:51.536Z"
      },
      {
        "duration": 40,
        "start_time": "2025-06-07T23:23:58.375Z"
      },
      {
        "duration": 19,
        "start_time": "2025-06-07T23:24:03.348Z"
      },
      {
        "duration": 24,
        "start_time": "2025-06-07T23:28:39.373Z"
      },
      {
        "duration": 23,
        "start_time": "2025-06-07T23:34:42.797Z"
      },
      {
        "duration": 6,
        "start_time": "2025-06-07T23:37:50.846Z"
      },
      {
        "duration": 21,
        "start_time": "2025-06-07T23:38:21.808Z"
      },
      {
        "duration": 20,
        "start_time": "2025-06-07T23:38:32.835Z"
      },
      {
        "duration": 7,
        "start_time": "2025-06-07T23:39:21.239Z"
      },
      {
        "duration": 8,
        "start_time": "2025-06-07T23:40:11.743Z"
      },
      {
        "duration": 6,
        "start_time": "2025-06-07T23:41:34.615Z"
      },
      {
        "duration": 119,
        "start_time": "2025-06-07T23:43:02.624Z"
      },
      {
        "duration": 27,
        "start_time": "2025-06-07T23:43:08.584Z"
      },
      {
        "duration": 22,
        "start_time": "2025-06-07T23:43:15.913Z"
      },
      {
        "duration": 40,
        "start_time": "2025-06-07T23:45:57.614Z"
      },
      {
        "duration": 20,
        "start_time": "2025-06-07T23:45:58.845Z"
      },
      {
        "duration": 7,
        "start_time": "2025-06-07T23:46:01.556Z"
      },
      {
        "duration": 41,
        "start_time": "2025-06-07T23:47:12.421Z"
      },
      {
        "duration": 40,
        "start_time": "2025-06-07T23:47:15.008Z"
      },
      {
        "duration": 40,
        "start_time": "2025-06-07T23:47:22.729Z"
      },
      {
        "duration": 20,
        "start_time": "2025-06-07T23:47:26.863Z"
      },
      {
        "duration": 39,
        "start_time": "2025-06-07T23:47:29.255Z"
      },
      {
        "duration": 41,
        "start_time": "2025-06-07T23:47:36.854Z"
      },
      {
        "duration": 22,
        "start_time": "2025-06-07T23:47:54.982Z"
      },
      {
        "duration": 22,
        "start_time": "2025-06-07T23:48:25.494Z"
      },
      {
        "duration": 22,
        "start_time": "2025-06-07T23:48:29.140Z"
      },
      {
        "duration": 22,
        "start_time": "2025-06-07T23:48:29.886Z"
      },
      {
        "duration": 40,
        "start_time": "2025-06-07T23:49:09.878Z"
      },
      {
        "duration": 26,
        "start_time": "2025-06-07T23:49:14.301Z"
      },
      {
        "duration": 43,
        "start_time": "2025-06-07T23:49:32.469Z"
      },
      {
        "duration": 39,
        "start_time": "2025-06-07T23:49:56.907Z"
      },
      {
        "duration": 21,
        "start_time": "2025-06-07T23:50:07.871Z"
      },
      {
        "duration": 38,
        "start_time": "2025-06-07T23:50:10.664Z"
      },
      {
        "duration": 10320,
        "start_time": "2025-06-07T23:50:17.214Z"
      },
      {
        "duration": 789,
        "start_time": "2025-06-07T23:50:27.536Z"
      },
      {
        "duration": 54,
        "start_time": "2025-06-07T23:50:28.327Z"
      },
      {
        "duration": 13,
        "start_time": "2025-06-07T23:50:28.383Z"
      },
      {
        "duration": 1104,
        "start_time": "2025-06-07T23:50:28.397Z"
      },
      {
        "duration": 42,
        "start_time": "2025-06-07T23:50:29.503Z"
      },
      {
        "duration": 16,
        "start_time": "2025-06-07T23:50:29.546Z"
      },
      {
        "duration": 409,
        "start_time": "2025-06-07T23:50:29.563Z"
      },
      {
        "duration": 821,
        "start_time": "2025-06-07T23:50:29.973Z"
      },
      {
        "duration": 21,
        "start_time": "2025-06-07T23:50:30.797Z"
      },
      {
        "duration": 53,
        "start_time": "2025-06-07T23:50:30.819Z"
      },
      {
        "duration": 19,
        "start_time": "2025-06-07T23:50:30.874Z"
      },
      {
        "duration": 29,
        "start_time": "2025-06-07T23:50:30.895Z"
      },
      {
        "duration": 62,
        "start_time": "2025-06-07T23:50:30.925Z"
      },
      {
        "duration": 5,
        "start_time": "2025-06-07T23:50:30.989Z"
      },
      {
        "duration": 41,
        "start_time": "2025-06-07T23:50:30.996Z"
      },
      {
        "duration": 70,
        "start_time": "2025-06-07T23:50:31.039Z"
      },
      {
        "duration": 23,
        "start_time": "2025-06-07T23:50:31.111Z"
      },
      {
        "duration": 23,
        "start_time": "2025-06-07T23:50:31.136Z"
      },
      {
        "duration": 143,
        "start_time": "2025-06-07T23:50:31.161Z"
      },
      {
        "duration": 14,
        "start_time": "2025-06-07T23:50:31.306Z"
      },
      {
        "duration": 7,
        "start_time": "2025-06-07T23:50:31.321Z"
      },
      {
        "duration": 22,
        "start_time": "2025-06-07T23:50:31.330Z"
      },
      {
        "duration": 40,
        "start_time": "2025-06-07T23:50:31.353Z"
      },
      {
        "duration": 4,
        "start_time": "2025-06-07T23:50:31.394Z"
      },
      {
        "duration": 0,
        "start_time": "2025-06-07T23:50:31.399Z"
      },
      {
        "duration": 0,
        "start_time": "2025-06-07T23:50:31.401Z"
      },
      {
        "duration": 0,
        "start_time": "2025-06-07T23:50:31.402Z"
      },
      {
        "duration": 0,
        "start_time": "2025-06-07T23:50:31.403Z"
      },
      {
        "duration": 0,
        "start_time": "2025-06-07T23:50:31.404Z"
      },
      {
        "duration": 0,
        "start_time": "2025-06-07T23:50:31.405Z"
      },
      {
        "duration": 0,
        "start_time": "2025-06-07T23:50:31.406Z"
      },
      {
        "duration": 0,
        "start_time": "2025-06-07T23:50:31.407Z"
      },
      {
        "duration": 0,
        "start_time": "2025-06-07T23:50:31.408Z"
      },
      {
        "duration": 0,
        "start_time": "2025-06-07T23:50:31.409Z"
      },
      {
        "duration": 0,
        "start_time": "2025-06-07T23:50:31.410Z"
      },
      {
        "duration": 0,
        "start_time": "2025-06-07T23:50:31.411Z"
      },
      {
        "duration": 0,
        "start_time": "2025-06-07T23:50:31.439Z"
      },
      {
        "duration": 0,
        "start_time": "2025-06-07T23:50:31.440Z"
      },
      {
        "duration": 7,
        "start_time": "2025-06-07T23:51:20.770Z"
      },
      {
        "duration": 21,
        "start_time": "2025-06-07T23:51:32.779Z"
      },
      {
        "duration": 42,
        "start_time": "2025-06-07T23:51:39.794Z"
      },
      {
        "duration": 26,
        "start_time": "2025-06-07T23:51:50.433Z"
      },
      {
        "duration": 22,
        "start_time": "2025-06-07T23:51:56.492Z"
      },
      {
        "duration": 19,
        "start_time": "2025-06-07T23:51:58.270Z"
      },
      {
        "duration": 8,
        "start_time": "2025-06-07T23:52:07.566Z"
      },
      {
        "duration": 7,
        "start_time": "2025-06-07T23:52:10.763Z"
      },
      {
        "duration": 25,
        "start_time": "2025-06-07T23:52:21.836Z"
      },
      {
        "duration": 24,
        "start_time": "2025-06-07T23:52:29.827Z"
      },
      {
        "duration": 45,
        "start_time": "2025-06-07T23:52:34.535Z"
      },
      {
        "duration": 24,
        "start_time": "2025-06-07T23:52:50.381Z"
      },
      {
        "duration": 41,
        "start_time": "2025-06-07T23:53:09.029Z"
      },
      {
        "duration": 25,
        "start_time": "2025-06-07T23:53:14.780Z"
      },
      {
        "duration": 22,
        "start_time": "2025-06-07T23:53:16.649Z"
      },
      {
        "duration": 19,
        "start_time": "2025-06-07T23:53:17.881Z"
      },
      {
        "duration": 7,
        "start_time": "2025-06-07T23:53:18.759Z"
      },
      {
        "duration": 8,
        "start_time": "2025-06-07T23:53:20.898Z"
      },
      {
        "duration": 25,
        "start_time": "2025-06-07T23:53:27.059Z"
      },
      {
        "duration": 40,
        "start_time": "2025-06-07T23:53:42.448Z"
      },
      {
        "duration": 25,
        "start_time": "2025-06-07T23:54:01.964Z"
      },
      {
        "duration": 25,
        "start_time": "2025-06-07T23:54:47.874Z"
      },
      {
        "duration": 10706,
        "start_time": "2025-06-07T23:55:02.409Z"
      },
      {
        "duration": 830,
        "start_time": "2025-06-07T23:55:13.117Z"
      },
      {
        "duration": 46,
        "start_time": "2025-06-07T23:55:13.949Z"
      },
      {
        "duration": 13,
        "start_time": "2025-06-07T23:55:13.997Z"
      },
      {
        "duration": 1166,
        "start_time": "2025-06-07T23:55:14.012Z"
      },
      {
        "duration": 38,
        "start_time": "2025-06-07T23:55:15.180Z"
      },
      {
        "duration": 92,
        "start_time": "2025-06-07T23:55:15.220Z"
      },
      {
        "duration": 445,
        "start_time": "2025-06-07T23:55:15.314Z"
      },
      {
        "duration": 841,
        "start_time": "2025-06-07T23:55:15.760Z"
      },
      {
        "duration": 22,
        "start_time": "2025-06-07T23:55:16.602Z"
      },
      {
        "duration": 52,
        "start_time": "2025-06-07T23:55:16.626Z"
      },
      {
        "duration": 20,
        "start_time": "2025-06-07T23:55:16.680Z"
      },
      {
        "duration": 13,
        "start_time": "2025-06-07T23:55:16.701Z"
      },
      {
        "duration": 67,
        "start_time": "2025-06-07T23:55:16.717Z"
      },
      {
        "duration": 6,
        "start_time": "2025-06-07T23:55:16.785Z"
      },
      {
        "duration": 11,
        "start_time": "2025-06-07T23:55:16.792Z"
      },
      {
        "duration": 48,
        "start_time": "2025-06-07T23:55:16.805Z"
      },
      {
        "duration": 63,
        "start_time": "2025-06-07T23:55:16.855Z"
      },
      {
        "duration": 24,
        "start_time": "2025-06-07T23:55:16.919Z"
      },
      {
        "duration": 154,
        "start_time": "2025-06-07T23:55:16.944Z"
      },
      {
        "duration": 24,
        "start_time": "2025-06-07T23:55:17.100Z"
      },
      {
        "duration": 8,
        "start_time": "2025-06-07T23:55:17.127Z"
      },
      {
        "duration": 8,
        "start_time": "2025-06-07T23:55:17.137Z"
      },
      {
        "duration": 29,
        "start_time": "2025-06-07T23:55:17.146Z"
      },
      {
        "duration": 149,
        "start_time": "2025-06-07T23:55:17.177Z"
      },
      {
        "duration": 3,
        "start_time": "2025-06-07T23:55:17.328Z"
      },
      {
        "duration": 0,
        "start_time": "2025-06-07T23:55:17.333Z"
      },
      {
        "duration": 0,
        "start_time": "2025-06-07T23:55:17.334Z"
      },
      {
        "duration": 0,
        "start_time": "2025-06-07T23:55:17.335Z"
      },
      {
        "duration": 0,
        "start_time": "2025-06-07T23:55:17.337Z"
      },
      {
        "duration": 0,
        "start_time": "2025-06-07T23:55:17.337Z"
      },
      {
        "duration": 0,
        "start_time": "2025-06-07T23:55:17.338Z"
      },
      {
        "duration": 0,
        "start_time": "2025-06-07T23:55:17.339Z"
      },
      {
        "duration": 0,
        "start_time": "2025-06-07T23:55:17.340Z"
      },
      {
        "duration": 0,
        "start_time": "2025-06-07T23:55:17.341Z"
      },
      {
        "duration": 0,
        "start_time": "2025-06-07T23:55:17.342Z"
      },
      {
        "duration": 0,
        "start_time": "2025-06-07T23:55:17.343Z"
      },
      {
        "duration": 0,
        "start_time": "2025-06-07T23:55:17.344Z"
      },
      {
        "duration": 0,
        "start_time": "2025-06-07T23:55:17.345Z"
      },
      {
        "duration": 0,
        "start_time": "2025-06-07T23:55:17.346Z"
      },
      {
        "duration": 40,
        "start_time": "2025-06-07T23:55:47.122Z"
      },
      {
        "duration": 41,
        "start_time": "2025-06-07T23:56:10.983Z"
      },
      {
        "duration": 25,
        "start_time": "2025-06-07T23:56:55.193Z"
      },
      {
        "duration": 145,
        "start_time": "2025-06-07T23:58:25.203Z"
      },
      {
        "duration": 187,
        "start_time": "2025-06-07T23:58:29.069Z"
      },
      {
        "duration": 23,
        "start_time": "2025-06-07T23:59:44.718Z"
      },
      {
        "duration": 39,
        "start_time": "2025-06-08T00:02:12.197Z"
      },
      {
        "duration": 22,
        "start_time": "2025-06-08T00:02:25.798Z"
      },
      {
        "duration": 272,
        "start_time": "2025-06-08T00:35:59.166Z"
      },
      {
        "duration": 15,
        "start_time": "2025-06-08T00:36:02.865Z"
      },
      {
        "duration": 15,
        "start_time": "2025-06-08T00:39:15.483Z"
      },
      {
        "duration": 30,
        "start_time": "2025-06-08T00:39:27.521Z"
      },
      {
        "duration": 28738,
        "start_time": "2025-06-08T00:39:30.530Z"
      },
      {
        "duration": 19,
        "start_time": "2025-06-08T00:40:48.972Z"
      },
      {
        "duration": 150,
        "start_time": "2025-06-08T00:44:27.920Z"
      },
      {
        "duration": 1155,
        "start_time": "2025-06-08T00:44:36.266Z"
      },
      {
        "duration": 1332,
        "start_time": "2025-06-08T00:44:39.252Z"
      },
      {
        "duration": 30,
        "start_time": "2025-06-08T00:44:54.450Z"
      },
      {
        "duration": 23915,
        "start_time": "2025-06-08T12:07:20.104Z"
      },
      {
        "duration": 1019,
        "start_time": "2025-06-08T12:07:44.022Z"
      },
      {
        "duration": 71,
        "start_time": "2025-06-08T12:07:45.043Z"
      },
      {
        "duration": 13,
        "start_time": "2025-06-08T12:07:45.117Z"
      },
      {
        "duration": 1500,
        "start_time": "2025-06-08T12:07:45.132Z"
      },
      {
        "duration": 59,
        "start_time": "2025-06-08T12:07:46.634Z"
      },
      {
        "duration": 21,
        "start_time": "2025-06-08T12:07:46.706Z"
      },
      {
        "duration": 549,
        "start_time": "2025-06-08T12:07:46.729Z"
      },
      {
        "duration": 1058,
        "start_time": "2025-06-08T12:07:47.280Z"
      },
      {
        "duration": 25,
        "start_time": "2025-06-08T12:07:48.341Z"
      },
      {
        "duration": 64,
        "start_time": "2025-06-08T12:07:48.367Z"
      },
      {
        "duration": 23,
        "start_time": "2025-06-08T12:07:48.433Z"
      },
      {
        "duration": 8,
        "start_time": "2025-06-08T12:07:48.457Z"
      },
      {
        "duration": 93,
        "start_time": "2025-06-08T12:07:48.467Z"
      },
      {
        "duration": 58,
        "start_time": "2025-06-08T12:07:48.562Z"
      },
      {
        "duration": 23,
        "start_time": "2025-06-08T12:07:48.622Z"
      },
      {
        "duration": 25,
        "start_time": "2025-06-08T12:07:48.647Z"
      },
      {
        "duration": 66,
        "start_time": "2025-06-08T12:07:48.674Z"
      },
      {
        "duration": 29,
        "start_time": "2025-06-08T12:07:48.742Z"
      },
      {
        "duration": 39,
        "start_time": "2025-06-08T12:07:48.773Z"
      },
      {
        "duration": 32,
        "start_time": "2025-06-08T12:07:48.814Z"
      },
      {
        "duration": 9,
        "start_time": "2025-06-08T12:07:48.847Z"
      },
      {
        "duration": 9,
        "start_time": "2025-06-08T12:07:48.857Z"
      },
      {
        "duration": 53,
        "start_time": "2025-06-08T12:07:48.867Z"
      },
      {
        "duration": 44,
        "start_time": "2025-06-08T12:07:48.921Z"
      },
      {
        "duration": 44,
        "start_time": "2025-06-08T12:07:48.966Z"
      },
      {
        "duration": 52,
        "start_time": "2025-06-08T12:07:49.012Z"
      },
      {
        "duration": 46,
        "start_time": "2025-06-08T12:07:49.068Z"
      },
      {
        "duration": 26,
        "start_time": "2025-06-08T12:07:49.116Z"
      },
      {
        "duration": 275,
        "start_time": "2025-06-08T12:07:49.144Z"
      },
      {
        "duration": 211,
        "start_time": "2025-06-08T12:07:49.421Z"
      },
      {
        "duration": 0,
        "start_time": "2025-06-08T12:07:49.633Z"
      },
      {
        "duration": 0,
        "start_time": "2025-06-08T12:07:49.635Z"
      },
      {
        "duration": 0,
        "start_time": "2025-06-08T12:07:49.636Z"
      },
      {
        "duration": 0,
        "start_time": "2025-06-08T12:07:49.637Z"
      },
      {
        "duration": 0,
        "start_time": "2025-06-08T12:07:49.638Z"
      },
      {
        "duration": 0,
        "start_time": "2025-06-08T12:07:49.639Z"
      },
      {
        "duration": 0,
        "start_time": "2025-06-08T12:07:49.641Z"
      },
      {
        "duration": 0,
        "start_time": "2025-06-08T12:07:49.642Z"
      },
      {
        "duration": 0,
        "start_time": "2025-06-08T12:07:49.643Z"
      },
      {
        "duration": 0,
        "start_time": "2025-06-08T12:07:49.644Z"
      },
      {
        "duration": 0,
        "start_time": "2025-06-08T12:07:49.645Z"
      },
      {
        "duration": 0,
        "start_time": "2025-06-08T12:07:49.646Z"
      },
      {
        "duration": 0,
        "start_time": "2025-06-08T12:07:49.647Z"
      },
      {
        "duration": 8,
        "start_time": "2025-06-08T12:09:38.573Z"
      },
      {
        "duration": 7,
        "start_time": "2025-06-08T12:11:57.645Z"
      },
      {
        "duration": 10,
        "start_time": "2025-06-08T12:12:02.248Z"
      },
      {
        "duration": 11,
        "start_time": "2025-06-08T12:12:14.310Z"
      },
      {
        "duration": 9,
        "start_time": "2025-06-08T12:12:45.591Z"
      },
      {
        "duration": 23,
        "start_time": "2025-06-08T12:13:25.463Z"
      },
      {
        "duration": 80,
        "start_time": "2025-06-08T12:13:57.280Z"
      },
      {
        "duration": 15,
        "start_time": "2025-06-08T12:19:50.109Z"
      },
      {
        "duration": 20,
        "start_time": "2025-06-08T12:19:52.112Z"
      },
      {
        "duration": 12273,
        "start_time": "2025-06-08T12:19:55.837Z"
      },
      {
        "duration": 914,
        "start_time": "2025-06-08T12:20:08.112Z"
      },
      {
        "duration": 23,
        "start_time": "2025-06-08T12:20:09.028Z"
      },
      {
        "duration": 32,
        "start_time": "2025-06-08T12:20:09.053Z"
      },
      {
        "duration": 1469,
        "start_time": "2025-06-08T12:20:09.087Z"
      },
      {
        "duration": 68,
        "start_time": "2025-06-08T12:20:10.558Z"
      },
      {
        "duration": 65,
        "start_time": "2025-06-08T12:20:10.628Z"
      },
      {
        "duration": 168,
        "start_time": "2025-06-08T12:20:10.694Z"
      },
      {
        "duration": 0,
        "start_time": "2025-06-08T12:20:10.865Z"
      },
      {
        "duration": 0,
        "start_time": "2025-06-08T12:20:10.866Z"
      },
      {
        "duration": 0,
        "start_time": "2025-06-08T12:20:10.867Z"
      },
      {
        "duration": 0,
        "start_time": "2025-06-08T12:20:10.868Z"
      },
      {
        "duration": 0,
        "start_time": "2025-06-08T12:20:10.869Z"
      },
      {
        "duration": 0,
        "start_time": "2025-06-08T12:20:10.870Z"
      },
      {
        "duration": 0,
        "start_time": "2025-06-08T12:20:10.871Z"
      },
      {
        "duration": 0,
        "start_time": "2025-06-08T12:20:10.872Z"
      },
      {
        "duration": 0,
        "start_time": "2025-06-08T12:20:10.875Z"
      },
      {
        "duration": 0,
        "start_time": "2025-06-08T12:20:10.876Z"
      },
      {
        "duration": 0,
        "start_time": "2025-06-08T12:20:10.877Z"
      },
      {
        "duration": 0,
        "start_time": "2025-06-08T12:20:10.878Z"
      },
      {
        "duration": 0,
        "start_time": "2025-06-08T12:20:10.879Z"
      },
      {
        "duration": 0,
        "start_time": "2025-06-08T12:20:10.880Z"
      },
      {
        "duration": 0,
        "start_time": "2025-06-08T12:20:10.881Z"
      },
      {
        "duration": 0,
        "start_time": "2025-06-08T12:20:10.882Z"
      },
      {
        "duration": 0,
        "start_time": "2025-06-08T12:20:10.883Z"
      },
      {
        "duration": 0,
        "start_time": "2025-06-08T12:20:10.884Z"
      },
      {
        "duration": 0,
        "start_time": "2025-06-08T12:20:10.885Z"
      },
      {
        "duration": 0,
        "start_time": "2025-06-08T12:20:10.886Z"
      },
      {
        "duration": 0,
        "start_time": "2025-06-08T12:20:10.887Z"
      },
      {
        "duration": 0,
        "start_time": "2025-06-08T12:20:10.888Z"
      },
      {
        "duration": 0,
        "start_time": "2025-06-08T12:20:10.889Z"
      },
      {
        "duration": 0,
        "start_time": "2025-06-08T12:20:10.890Z"
      },
      {
        "duration": 0,
        "start_time": "2025-06-08T12:20:10.891Z"
      },
      {
        "duration": 0,
        "start_time": "2025-06-08T12:20:10.892Z"
      },
      {
        "duration": 0,
        "start_time": "2025-06-08T12:20:10.893Z"
      },
      {
        "duration": 0,
        "start_time": "2025-06-08T12:20:10.894Z"
      },
      {
        "duration": 0,
        "start_time": "2025-06-08T12:20:10.896Z"
      },
      {
        "duration": 0,
        "start_time": "2025-06-08T12:20:10.896Z"
      },
      {
        "duration": 0,
        "start_time": "2025-06-08T12:20:10.897Z"
      },
      {
        "duration": 0,
        "start_time": "2025-06-08T12:20:10.898Z"
      },
      {
        "duration": 0,
        "start_time": "2025-06-08T12:20:10.899Z"
      },
      {
        "duration": 0,
        "start_time": "2025-06-08T12:20:10.900Z"
      },
      {
        "duration": 0,
        "start_time": "2025-06-08T12:20:10.901Z"
      },
      {
        "duration": 0,
        "start_time": "2025-06-08T12:20:10.902Z"
      },
      {
        "duration": 0,
        "start_time": "2025-06-08T12:20:10.903Z"
      },
      {
        "duration": 0,
        "start_time": "2025-06-08T12:20:10.904Z"
      },
      {
        "duration": 0,
        "start_time": "2025-06-08T12:20:10.905Z"
      },
      {
        "duration": 11400,
        "start_time": "2025-06-08T12:20:42.708Z"
      },
      {
        "duration": 916,
        "start_time": "2025-06-08T12:20:54.110Z"
      },
      {
        "duration": 44,
        "start_time": "2025-06-08T12:20:55.027Z"
      },
      {
        "duration": 16,
        "start_time": "2025-06-08T12:20:55.073Z"
      },
      {
        "duration": 1345,
        "start_time": "2025-06-08T12:20:55.091Z"
      },
      {
        "duration": 39,
        "start_time": "2025-06-08T12:20:56.438Z"
      },
      {
        "duration": 33,
        "start_time": "2025-06-08T12:20:56.479Z"
      },
      {
        "duration": 461,
        "start_time": "2025-06-08T12:20:56.514Z"
      },
      {
        "duration": 915,
        "start_time": "2025-06-08T12:20:56.977Z"
      },
      {
        "duration": 34,
        "start_time": "2025-06-08T12:20:57.894Z"
      },
      {
        "duration": 54,
        "start_time": "2025-06-08T12:20:57.929Z"
      },
      {
        "duration": 25,
        "start_time": "2025-06-08T12:20:57.985Z"
      },
      {
        "duration": 15,
        "start_time": "2025-06-08T12:20:58.011Z"
      },
      {
        "duration": 50,
        "start_time": "2025-06-08T12:20:58.027Z"
      },
      {
        "duration": 6,
        "start_time": "2025-06-08T12:20:58.079Z"
      },
      {
        "duration": 11,
        "start_time": "2025-06-08T12:20:58.105Z"
      },
      {
        "duration": 25,
        "start_time": "2025-06-08T12:20:58.118Z"
      },
      {
        "duration": 74,
        "start_time": "2025-06-08T12:20:58.145Z"
      },
      {
        "duration": 27,
        "start_time": "2025-06-08T12:20:58.224Z"
      },
      {
        "duration": 27,
        "start_time": "2025-06-08T12:20:58.253Z"
      },
      {
        "duration": 45,
        "start_time": "2025-06-08T12:20:58.282Z"
      },
      {
        "duration": 12,
        "start_time": "2025-06-08T12:20:58.329Z"
      },
      {
        "duration": 10,
        "start_time": "2025-06-08T12:20:58.342Z"
      },
      {
        "duration": 53,
        "start_time": "2025-06-08T12:20:58.353Z"
      },
      {
        "duration": 52,
        "start_time": "2025-06-08T12:20:58.408Z"
      },
      {
        "duration": 54,
        "start_time": "2025-06-08T12:20:58.462Z"
      },
      {
        "duration": 25,
        "start_time": "2025-06-08T12:20:58.517Z"
      },
      {
        "duration": 50,
        "start_time": "2025-06-08T12:20:58.544Z"
      },
      {
        "duration": 28,
        "start_time": "2025-06-08T12:20:58.595Z"
      },
      {
        "duration": 311,
        "start_time": "2025-06-08T12:20:58.625Z"
      },
      {
        "duration": 15,
        "start_time": "2025-06-08T12:20:58.938Z"
      },
      {
        "duration": 70,
        "start_time": "2025-06-08T12:20:58.955Z"
      },
      {
        "duration": 81,
        "start_time": "2025-06-08T12:20:59.027Z"
      },
      {
        "duration": 201,
        "start_time": "2025-06-08T12:20:59.110Z"
      },
      {
        "duration": 0,
        "start_time": "2025-06-08T12:20:59.313Z"
      },
      {
        "duration": 0,
        "start_time": "2025-06-08T12:20:59.314Z"
      },
      {
        "duration": 0,
        "start_time": "2025-06-08T12:20:59.315Z"
      },
      {
        "duration": 0,
        "start_time": "2025-06-08T12:20:59.316Z"
      },
      {
        "duration": 0,
        "start_time": "2025-06-08T12:20:59.317Z"
      },
      {
        "duration": 0,
        "start_time": "2025-06-08T12:20:59.319Z"
      },
      {
        "duration": 0,
        "start_time": "2025-06-08T12:20:59.320Z"
      },
      {
        "duration": 0,
        "start_time": "2025-06-08T12:20:59.321Z"
      },
      {
        "duration": 0,
        "start_time": "2025-06-08T12:20:59.322Z"
      },
      {
        "duration": 0,
        "start_time": "2025-06-08T12:20:59.323Z"
      },
      {
        "duration": 0,
        "start_time": "2025-06-08T12:20:59.324Z"
      },
      {
        "duration": 0,
        "start_time": "2025-06-08T12:20:59.325Z"
      },
      {
        "duration": 15,
        "start_time": "2025-06-08T12:24:26.831Z"
      },
      {
        "duration": 16,
        "start_time": "2025-06-08T12:24:27.994Z"
      },
      {
        "duration": 29,
        "start_time": "2025-06-08T12:24:29.888Z"
      },
      {
        "duration": 8,
        "start_time": "2025-06-08T12:25:59.870Z"
      },
      {
        "duration": 222,
        "start_time": "2025-06-08T12:26:58.293Z"
      },
      {
        "duration": 12590,
        "start_time": "2025-06-08T12:29:04.333Z"
      },
      {
        "duration": 929,
        "start_time": "2025-06-08T12:29:16.926Z"
      },
      {
        "duration": 24,
        "start_time": "2025-06-08T12:29:17.857Z"
      },
      {
        "duration": 72,
        "start_time": "2025-06-08T12:29:17.883Z"
      },
      {
        "duration": 1312,
        "start_time": "2025-06-08T12:29:17.957Z"
      },
      {
        "duration": 48,
        "start_time": "2025-06-08T12:29:19.271Z"
      },
      {
        "duration": 20,
        "start_time": "2025-06-08T12:29:19.320Z"
      },
      {
        "duration": 480,
        "start_time": "2025-06-08T12:29:19.342Z"
      },
      {
        "duration": 955,
        "start_time": "2025-06-08T12:29:19.823Z"
      },
      {
        "duration": 34,
        "start_time": "2025-06-08T12:29:20.781Z"
      },
      {
        "duration": 62,
        "start_time": "2025-06-08T12:29:20.817Z"
      },
      {
        "duration": 25,
        "start_time": "2025-06-08T12:29:20.881Z"
      },
      {
        "duration": 8,
        "start_time": "2025-06-08T12:29:20.907Z"
      },
      {
        "duration": 55,
        "start_time": "2025-06-08T12:29:20.917Z"
      },
      {
        "duration": 7,
        "start_time": "2025-06-08T12:29:20.974Z"
      },
      {
        "duration": 32,
        "start_time": "2025-06-08T12:29:20.983Z"
      },
      {
        "duration": 117,
        "start_time": "2025-06-08T12:29:21.017Z"
      },
      {
        "duration": 58,
        "start_time": "2025-06-08T12:29:21.137Z"
      },
      {
        "duration": 28,
        "start_time": "2025-06-08T12:29:21.197Z"
      },
      {
        "duration": 26,
        "start_time": "2025-06-08T12:29:21.226Z"
      },
      {
        "duration": 25,
        "start_time": "2025-06-08T12:29:21.254Z"
      },
      {
        "duration": 26,
        "start_time": "2025-06-08T12:29:21.280Z"
      },
      {
        "duration": 8,
        "start_time": "2025-06-08T12:29:21.307Z"
      },
      {
        "duration": 35,
        "start_time": "2025-06-08T12:29:21.316Z"
      },
      {
        "duration": 70,
        "start_time": "2025-06-08T12:29:21.353Z"
      },
      {
        "duration": 32,
        "start_time": "2025-06-08T12:29:21.425Z"
      },
      {
        "duration": 47,
        "start_time": "2025-06-08T12:29:21.459Z"
      },
      {
        "duration": 49,
        "start_time": "2025-06-08T12:29:21.510Z"
      },
      {
        "duration": 45,
        "start_time": "2025-06-08T12:29:21.560Z"
      },
      {
        "duration": 294,
        "start_time": "2025-06-08T12:29:21.607Z"
      },
      {
        "duration": 15,
        "start_time": "2025-06-08T12:29:21.905Z"
      },
      {
        "duration": 35,
        "start_time": "2025-06-08T12:29:21.921Z"
      },
      {
        "duration": 8,
        "start_time": "2025-06-08T12:29:21.958Z"
      },
      {
        "duration": 43,
        "start_time": "2025-06-08T12:29:21.969Z"
      },
      {
        "duration": 61,
        "start_time": "2025-06-08T12:29:22.014Z"
      },
      {
        "duration": 0,
        "start_time": "2025-06-08T12:29:22.077Z"
      },
      {
        "duration": 0,
        "start_time": "2025-06-08T12:29:22.078Z"
      },
      {
        "duration": 0,
        "start_time": "2025-06-08T12:29:22.079Z"
      },
      {
        "duration": 0,
        "start_time": "2025-06-08T12:29:22.080Z"
      },
      {
        "duration": 0,
        "start_time": "2025-06-08T12:29:22.081Z"
      },
      {
        "duration": 0,
        "start_time": "2025-06-08T12:29:22.082Z"
      },
      {
        "duration": 0,
        "start_time": "2025-06-08T12:29:22.105Z"
      },
      {
        "duration": 0,
        "start_time": "2025-06-08T12:29:22.107Z"
      },
      {
        "duration": 0,
        "start_time": "2025-06-08T12:29:22.108Z"
      },
      {
        "duration": 0,
        "start_time": "2025-06-08T12:29:22.109Z"
      },
      {
        "duration": 0,
        "start_time": "2025-06-08T12:29:22.110Z"
      },
      {
        "duration": 2506,
        "start_time": "2025-06-08T12:30:49.372Z"
      },
      {
        "duration": 28473,
        "start_time": "2025-06-08T12:31:33.377Z"
      },
      {
        "duration": 19,
        "start_time": "2025-06-08T12:35:09.851Z"
      },
      {
        "duration": 19,
        "start_time": "2025-06-08T12:35:17.498Z"
      },
      {
        "duration": 19,
        "start_time": "2025-06-08T12:35:20.404Z"
      },
      {
        "duration": 34,
        "start_time": "2025-06-08T12:38:26.925Z"
      },
      {
        "duration": 24,
        "start_time": "2025-06-08T12:38:29.149Z"
      },
      {
        "duration": 32,
        "start_time": "2025-06-08T12:38:52.840Z"
      },
      {
        "duration": 26,
        "start_time": "2025-06-08T12:38:54.541Z"
      },
      {
        "duration": 32,
        "start_time": "2025-06-08T12:39:11.897Z"
      },
      {
        "duration": 25,
        "start_time": "2025-06-08T12:39:12.803Z"
      },
      {
        "duration": 29,
        "start_time": "2025-06-08T12:39:19.418Z"
      },
      {
        "duration": 26,
        "start_time": "2025-06-08T12:39:20.465Z"
      },
      {
        "duration": 2477,
        "start_time": "2025-06-08T12:39:37.116Z"
      },
      {
        "duration": 2514,
        "start_time": "2025-06-08T12:39:40.044Z"
      },
      {
        "duration": 31,
        "start_time": "2025-06-08T12:42:16.556Z"
      },
      {
        "duration": 24,
        "start_time": "2025-06-08T12:42:19.104Z"
      },
      {
        "duration": 30,
        "start_time": "2025-06-08T12:42:27.919Z"
      },
      {
        "duration": 25,
        "start_time": "2025-06-08T12:42:29.157Z"
      },
      {
        "duration": 36,
        "start_time": "2025-06-08T12:43:23.956Z"
      },
      {
        "duration": 25,
        "start_time": "2025-06-08T12:43:24.665Z"
      },
      {
        "duration": 2685,
        "start_time": "2025-06-08T12:43:37.424Z"
      },
      {
        "duration": 30,
        "start_time": "2025-06-08T12:48:53.588Z"
      },
      {
        "duration": 29,
        "start_time": "2025-06-08T12:51:00.646Z"
      },
      {
        "duration": 34,
        "start_time": "2025-06-08T12:51:04.660Z"
      },
      {
        "duration": 27,
        "start_time": "2025-06-08T12:51:05.227Z"
      },
      {
        "duration": 32,
        "start_time": "2025-06-08T12:51:06.045Z"
      },
      {
        "duration": 31,
        "start_time": "2025-06-08T12:51:36.545Z"
      },
      {
        "duration": 28,
        "start_time": "2025-06-08T12:51:37.155Z"
      },
      {
        "duration": 26,
        "start_time": "2025-06-08T12:51:39.882Z"
      },
      {
        "duration": 2464,
        "start_time": "2025-06-08T12:51:48.686Z"
      },
      {
        "duration": 25,
        "start_time": "2025-06-08T12:53:34.857Z"
      },
      {
        "duration": 11527,
        "start_time": "2025-06-08T12:53:38.376Z"
      },
      {
        "duration": 919,
        "start_time": "2025-06-08T12:53:49.906Z"
      },
      {
        "duration": 24,
        "start_time": "2025-06-08T12:53:50.826Z"
      },
      {
        "duration": 14,
        "start_time": "2025-06-08T12:53:50.852Z"
      },
      {
        "duration": 1256,
        "start_time": "2025-06-08T12:53:50.867Z"
      },
      {
        "duration": 38,
        "start_time": "2025-06-08T12:53:52.125Z"
      },
      {
        "duration": 19,
        "start_time": "2025-06-08T12:53:52.165Z"
      },
      {
        "duration": 446,
        "start_time": "2025-06-08T12:53:52.206Z"
      },
      {
        "duration": 883,
        "start_time": "2025-06-08T12:53:52.653Z"
      },
      {
        "duration": 26,
        "start_time": "2025-06-08T12:53:53.539Z"
      },
      {
        "duration": 65,
        "start_time": "2025-06-08T12:53:53.566Z"
      },
      {
        "duration": 23,
        "start_time": "2025-06-08T12:53:53.632Z"
      },
      {
        "duration": 14,
        "start_time": "2025-06-08T12:53:53.656Z"
      },
      {
        "duration": 66,
        "start_time": "2025-06-08T12:53:53.672Z"
      },
      {
        "duration": 48,
        "start_time": "2025-06-08T12:53:53.740Z"
      },
      {
        "duration": 10,
        "start_time": "2025-06-08T12:53:53.790Z"
      },
      {
        "duration": 26,
        "start_time": "2025-06-08T12:53:53.801Z"
      },
      {
        "duration": 72,
        "start_time": "2025-06-08T12:53:53.829Z"
      },
      {
        "duration": 27,
        "start_time": "2025-06-08T12:53:53.903Z"
      },
      {
        "duration": 175,
        "start_time": "2025-06-08T12:53:53.931Z"
      },
      {
        "duration": 23,
        "start_time": "2025-06-08T12:53:54.107Z"
      },
      {
        "duration": 8,
        "start_time": "2025-06-08T12:53:54.131Z"
      },
      {
        "duration": 13,
        "start_time": "2025-06-08T12:53:54.141Z"
      },
      {
        "duration": 53,
        "start_time": "2025-06-08T12:53:54.156Z"
      },
      {
        "duration": 42,
        "start_time": "2025-06-08T12:53:54.211Z"
      },
      {
        "duration": 27,
        "start_time": "2025-06-08T12:53:54.255Z"
      },
      {
        "duration": 46,
        "start_time": "2025-06-08T12:53:54.283Z"
      },
      {
        "duration": 47,
        "start_time": "2025-06-08T12:53:54.333Z"
      },
      {
        "duration": 37,
        "start_time": "2025-06-08T12:53:54.382Z"
      },
      {
        "duration": 290,
        "start_time": "2025-06-08T12:53:54.421Z"
      },
      {
        "duration": 15,
        "start_time": "2025-06-08T12:53:54.712Z"
      },
      {
        "duration": 29,
        "start_time": "2025-06-08T12:53:54.729Z"
      },
      {
        "duration": 9,
        "start_time": "2025-06-08T12:53:54.760Z"
      },
      {
        "duration": 81,
        "start_time": "2025-06-08T12:53:54.771Z"
      },
      {
        "duration": 33,
        "start_time": "2025-06-08T12:53:54.854Z"
      },
      {
        "duration": 2574,
        "start_time": "2025-06-08T12:53:54.889Z"
      },
      {
        "duration": 19,
        "start_time": "2025-06-08T12:53:57.465Z"
      },
      {
        "duration": 130,
        "start_time": "2025-06-08T12:53:57.486Z"
      },
      {
        "duration": 0,
        "start_time": "2025-06-08T12:53:57.617Z"
      },
      {
        "duration": 0,
        "start_time": "2025-06-08T12:53:57.619Z"
      },
      {
        "duration": 0,
        "start_time": "2025-06-08T12:53:57.620Z"
      },
      {
        "duration": 0,
        "start_time": "2025-06-08T12:53:57.621Z"
      },
      {
        "duration": 0,
        "start_time": "2025-06-08T12:53:57.622Z"
      },
      {
        "duration": 0,
        "start_time": "2025-06-08T12:53:57.623Z"
      },
      {
        "duration": 0,
        "start_time": "2025-06-08T12:53:57.624Z"
      },
      {
        "duration": 0,
        "start_time": "2025-06-08T12:53:57.626Z"
      },
      {
        "duration": 0,
        "start_time": "2025-06-08T12:53:57.626Z"
      },
      {
        "duration": 0,
        "start_time": "2025-06-08T12:53:57.627Z"
      },
      {
        "duration": 0,
        "start_time": "2025-06-08T12:53:57.628Z"
      },
      {
        "duration": 0,
        "start_time": "2025-06-08T12:53:57.630Z"
      },
      {
        "duration": 0,
        "start_time": "2025-06-08T12:53:57.631Z"
      },
      {
        "duration": 0,
        "start_time": "2025-06-08T12:53:57.632Z"
      },
      {
        "duration": 0,
        "start_time": "2025-06-08T12:53:57.633Z"
      },
      {
        "duration": 0,
        "start_time": "2025-06-08T12:53:57.634Z"
      },
      {
        "duration": 33,
        "start_time": "2025-06-08T13:02:37.642Z"
      },
      {
        "duration": 28,
        "start_time": "2025-06-08T13:02:40.320Z"
      },
      {
        "duration": 2477,
        "start_time": "2025-06-08T13:02:41.697Z"
      },
      {
        "duration": 2512,
        "start_time": "2025-06-08T13:02:46.671Z"
      },
      {
        "duration": 33,
        "start_time": "2025-06-08T13:02:49.185Z"
      },
      {
        "duration": 29643,
        "start_time": "2025-06-08T13:03:41.806Z"
      },
      {
        "duration": 20,
        "start_time": "2025-06-08T13:06:34.573Z"
      },
      {
        "duration": 138,
        "start_time": "2025-06-08T13:08:23.505Z"
      },
      {
        "duration": 32,
        "start_time": "2025-06-08T13:09:06.716Z"
      },
      {
        "duration": 41,
        "start_time": "2025-06-08T13:11:29.883Z"
      },
      {
        "duration": 30,
        "start_time": "2025-06-08T13:11:43.528Z"
      },
      {
        "duration": 2997,
        "start_time": "2025-06-08T13:12:02.511Z"
      },
      {
        "duration": 39,
        "start_time": "2025-06-08T13:13:05.411Z"
      },
      {
        "duration": 2958,
        "start_time": "2025-06-08T13:13:08.867Z"
      },
      {
        "duration": 2855,
        "start_time": "2025-06-08T13:13:20.681Z"
      },
      {
        "duration": 23,
        "start_time": "2025-06-08T13:13:33.537Z"
      },
      {
        "duration": 35,
        "start_time": "2025-06-08T13:13:45.420Z"
      },
      {
        "duration": 2720,
        "start_time": "2025-06-08T13:13:47.497Z"
      },
      {
        "duration": 24,
        "start_time": "2025-06-08T13:13:50.219Z"
      },
      {
        "duration": 35,
        "start_time": "2025-06-08T13:14:14.265Z"
      },
      {
        "duration": 2711,
        "start_time": "2025-06-08T13:14:15.778Z"
      },
      {
        "duration": 28,
        "start_time": "2025-06-08T13:14:18.492Z"
      },
      {
        "duration": 36,
        "start_time": "2025-06-08T13:14:24.103Z"
      },
      {
        "duration": 4258,
        "start_time": "2025-06-08T13:14:25.351Z"
      },
      {
        "duration": 24,
        "start_time": "2025-06-08T13:14:29.610Z"
      },
      {
        "duration": 21,
        "start_time": "2025-06-08T13:16:04.986Z"
      },
      {
        "duration": 20,
        "start_time": "2025-06-08T13:19:23.292Z"
      },
      {
        "duration": 260,
        "start_time": "2025-06-08T13:21:30.310Z"
      },
      {
        "duration": 21,
        "start_time": "2025-06-08T13:21:38.630Z"
      },
      {
        "duration": 240,
        "start_time": "2025-06-08T13:21:44.091Z"
      },
      {
        "duration": 23,
        "start_time": "2025-06-08T13:24:01.968Z"
      },
      {
        "duration": 3219,
        "start_time": "2025-06-08T13:24:05.947Z"
      },
      {
        "duration": 5033,
        "start_time": "2025-06-08T13:24:19.157Z"
      },
      {
        "duration": 3043,
        "start_time": "2025-06-08T13:24:40.962Z"
      },
      {
        "duration": 11515,
        "start_time": "2025-06-08T13:24:44.007Z"
      },
      {
        "duration": 2064,
        "start_time": "2025-06-08T13:24:55.524Z"
      },
      {
        "duration": 2031,
        "start_time": "2025-06-08T13:25:02.887Z"
      },
      {
        "duration": 2281,
        "start_time": "2025-06-08T13:25:09.035Z"
      },
      {
        "duration": 6,
        "start_time": "2025-06-08T13:25:11.318Z"
      },
      {
        "duration": 11536,
        "start_time": "2025-06-08T13:25:11.536Z"
      },
      {
        "duration": 3038,
        "start_time": "2025-06-08T13:25:55.073Z"
      },
      {
        "duration": 5,
        "start_time": "2025-06-08T13:25:58.113Z"
      },
      {
        "duration": 4191,
        "start_time": "2025-06-08T13:25:58.418Z"
      },
      {
        "duration": 740,
        "start_time": "2025-06-08T13:33:55.124Z"
      },
      {
        "duration": 29,
        "start_time": "2025-06-08T13:34:05.671Z"
      },
      {
        "duration": 1365,
        "start_time": "2025-06-08T13:34:36.673Z"
      },
      {
        "duration": 1194,
        "start_time": "2025-06-08T13:36:15.282Z"
      },
      {
        "duration": 769,
        "start_time": "2025-06-08T13:36:59.138Z"
      },
      {
        "duration": 391,
        "start_time": "2025-06-08T13:42:15.364Z"
      },
      {
        "duration": 767,
        "start_time": "2025-06-08T13:44:14.718Z"
      },
      {
        "duration": 19,
        "start_time": "2025-06-08T13:46:03.296Z"
      },
      {
        "duration": 17,
        "start_time": "2025-06-08T13:46:06.687Z"
      },
      {
        "duration": 975,
        "start_time": "2025-06-08T13:46:08.842Z"
      },
      {
        "duration": 47,
        "start_time": "2025-06-08T13:47:16.034Z"
      },
      {
        "duration": 2722,
        "start_time": "2025-06-08T13:47:16.916Z"
      },
      {
        "duration": 23,
        "start_time": "2025-06-08T13:47:19.641Z"
      },
      {
        "duration": 142,
        "start_time": "2025-06-08T14:24:03.236Z"
      },
      {
        "duration": 3122,
        "start_time": "2025-06-08T14:28:54.583Z"
      },
      {
        "duration": 3167,
        "start_time": "2025-06-08T14:29:04.869Z"
      },
      {
        "duration": 19,
        "start_time": "2025-06-08T14:34:06.879Z"
      },
      {
        "duration": 1053,
        "start_time": "2025-06-08T14:35:29.779Z"
      },
      {
        "duration": 380,
        "start_time": "2025-06-08T14:35:36.979Z"
      },
      {
        "duration": 893,
        "start_time": "2025-06-08T14:35:52.438Z"
      },
      {
        "duration": 1355,
        "start_time": "2025-06-08T14:35:57.553Z"
      },
      {
        "duration": 891,
        "start_time": "2025-06-08T14:36:16.318Z"
      },
      {
        "duration": 2990,
        "start_time": "2025-06-08T14:41:29.201Z"
      },
      {
        "duration": 157,
        "start_time": "2025-06-08T14:43:49.510Z"
      },
      {
        "duration": 138,
        "start_time": "2025-06-08T14:44:54.277Z"
      },
      {
        "duration": 139,
        "start_time": "2025-06-08T14:48:56.121Z"
      },
      {
        "duration": 23158,
        "start_time": "2025-06-08T21:29:01.032Z"
      },
      {
        "duration": 989,
        "start_time": "2025-06-08T21:29:24.193Z"
      },
      {
        "duration": 59,
        "start_time": "2025-06-08T21:29:25.185Z"
      },
      {
        "duration": 26,
        "start_time": "2025-06-08T21:29:25.246Z"
      },
      {
        "duration": 1640,
        "start_time": "2025-06-08T21:29:25.275Z"
      },
      {
        "duration": 79,
        "start_time": "2025-06-08T21:29:26.916Z"
      },
      {
        "duration": 23,
        "start_time": "2025-06-08T21:29:26.997Z"
      },
      {
        "duration": 562,
        "start_time": "2025-06-08T21:29:27.021Z"
      },
      {
        "duration": 1089,
        "start_time": "2025-06-08T21:29:27.584Z"
      },
      {
        "duration": 27,
        "start_time": "2025-06-08T21:29:28.675Z"
      },
      {
        "duration": 67,
        "start_time": "2025-06-08T21:29:28.704Z"
      },
      {
        "duration": 22,
        "start_time": "2025-06-08T21:29:28.773Z"
      },
      {
        "duration": 8,
        "start_time": "2025-06-08T21:29:28.797Z"
      },
      {
        "duration": 83,
        "start_time": "2025-06-08T21:29:28.809Z"
      },
      {
        "duration": 7,
        "start_time": "2025-06-08T21:29:28.894Z"
      },
      {
        "duration": 21,
        "start_time": "2025-06-08T21:29:28.902Z"
      },
      {
        "duration": 26,
        "start_time": "2025-06-08T21:29:28.925Z"
      },
      {
        "duration": 66,
        "start_time": "2025-06-08T21:29:28.952Z"
      },
      {
        "duration": 26,
        "start_time": "2025-06-08T21:29:29.020Z"
      },
      {
        "duration": 44,
        "start_time": "2025-06-08T21:29:29.048Z"
      },
      {
        "duration": 24,
        "start_time": "2025-06-08T21:29:29.094Z"
      },
      {
        "duration": 14,
        "start_time": "2025-06-08T21:29:29.119Z"
      },
      {
        "duration": 8,
        "start_time": "2025-06-08T21:29:29.135Z"
      },
      {
        "duration": 46,
        "start_time": "2025-06-08T21:29:29.145Z"
      },
      {
        "duration": 46,
        "start_time": "2025-06-08T21:29:29.193Z"
      },
      {
        "duration": 41,
        "start_time": "2025-06-08T21:29:29.241Z"
      },
      {
        "duration": 25,
        "start_time": "2025-06-08T21:29:29.284Z"
      },
      {
        "duration": 63,
        "start_time": "2025-06-08T21:29:29.311Z"
      },
      {
        "duration": 24,
        "start_time": "2025-06-08T21:29:29.376Z"
      },
      {
        "duration": 313,
        "start_time": "2025-06-08T21:29:29.402Z"
      },
      {
        "duration": 15,
        "start_time": "2025-06-08T21:29:29.717Z"
      },
      {
        "duration": 112,
        "start_time": "2025-06-08T21:29:29.734Z"
      },
      {
        "duration": 11,
        "start_time": "2025-06-08T21:29:29.848Z"
      },
      {
        "duration": 23,
        "start_time": "2025-06-08T21:29:29.861Z"
      },
      {
        "duration": 2653,
        "start_time": "2025-06-08T21:29:29.886Z"
      },
      {
        "duration": 32,
        "start_time": "2025-06-08T21:29:32.540Z"
      },
      {
        "duration": 34,
        "start_time": "2025-06-08T21:29:32.574Z"
      },
      {
        "duration": 34,
        "start_time": "2025-06-08T21:29:32.610Z"
      },
      {
        "duration": 2576,
        "start_time": "2025-06-08T21:29:32.646Z"
      },
      {
        "duration": 26,
        "start_time": "2025-06-08T21:29:35.224Z"
      },
      {
        "duration": 29976,
        "start_time": "2025-06-08T21:29:35.255Z"
      },
      {
        "duration": 21,
        "start_time": "2025-06-08T21:30:05.232Z"
      },
      {
        "duration": 51,
        "start_time": "2025-06-08T21:30:05.254Z"
      },
      {
        "duration": 2996,
        "start_time": "2025-06-08T21:30:05.307Z"
      },
      {
        "duration": 24,
        "start_time": "2025-06-08T21:30:08.305Z"
      },
      {
        "duration": 169,
        "start_time": "2025-06-08T21:30:08.331Z"
      },
      {
        "duration": 0,
        "start_time": "2025-06-08T21:30:08.501Z"
      },
      {
        "duration": 0,
        "start_time": "2025-06-08T21:30:08.503Z"
      },
      {
        "duration": 0,
        "start_time": "2025-06-08T21:30:08.504Z"
      },
      {
        "duration": 0,
        "start_time": "2025-06-08T21:30:08.505Z"
      },
      {
        "duration": 0,
        "start_time": "2025-06-08T21:30:08.506Z"
      },
      {
        "duration": 0,
        "start_time": "2025-06-08T21:30:08.507Z"
      },
      {
        "duration": 0,
        "start_time": "2025-06-08T21:30:08.509Z"
      },
      {
        "duration": 0,
        "start_time": "2025-06-08T21:30:08.509Z"
      },
      {
        "duration": 0,
        "start_time": "2025-06-08T21:30:08.511Z"
      },
      {
        "duration": 0,
        "start_time": "2025-06-08T21:30:08.512Z"
      },
      {
        "duration": 0,
        "start_time": "2025-06-08T21:30:08.513Z"
      },
      {
        "duration": 0,
        "start_time": "2025-06-08T21:30:08.514Z"
      },
      {
        "duration": 0,
        "start_time": "2025-06-08T21:30:08.516Z"
      },
      {
        "duration": 8,
        "start_time": "2025-06-08T21:31:04.241Z"
      },
      {
        "duration": 22,
        "start_time": "2025-06-08T21:31:04.933Z"
      },
      {
        "duration": 3205,
        "start_time": "2025-06-08T21:31:07.599Z"
      },
      {
        "duration": 2976,
        "start_time": "2025-06-08T21:31:10.807Z"
      },
      {
        "duration": 2067,
        "start_time": "2025-06-08T21:31:13.785Z"
      },
      {
        "duration": 2976,
        "start_time": "2025-06-08T21:31:15.854Z"
      },
      {
        "duration": 21,
        "start_time": "2025-06-08T21:31:18.833Z"
      },
      {
        "duration": 1390,
        "start_time": "2025-06-08T21:31:18.856Z"
      },
      {
        "duration": 926,
        "start_time": "2025-06-08T21:31:20.248Z"
      },
      {
        "duration": 357,
        "start_time": "2025-06-08T21:31:23.015Z"
      },
      {
        "duration": 907,
        "start_time": "2025-06-08T21:31:26.104Z"
      },
      {
        "duration": 894,
        "start_time": "2025-06-08T21:31:28.531Z"
      },
      {
        "duration": 120,
        "start_time": "2025-06-08T21:43:34.192Z"
      },
      {
        "duration": 39,
        "start_time": "2025-06-08T21:43:37.450Z"
      },
      {
        "duration": 38,
        "start_time": "2025-06-08T21:43:39.366Z"
      },
      {
        "duration": 12499,
        "start_time": "2025-06-08T21:43:46.484Z"
      },
      {
        "duration": 65,
        "start_time": "2025-06-08T21:44:01.482Z"
      },
      {
        "duration": 29,
        "start_time": "2025-06-08T21:44:04.765Z"
      },
      {
        "duration": 48,
        "start_time": "2025-06-08T21:44:45.201Z"
      },
      {
        "duration": 25,
        "start_time": "2025-06-08T21:44:47.500Z"
      },
      {
        "duration": 12954,
        "start_time": "2025-06-08T22:09:58.074Z"
      },
      {
        "duration": 11,
        "start_time": "2025-06-08T22:10:11.031Z"
      },
      {
        "duration": 13,
        "start_time": "2025-06-08T22:10:20.490Z"
      },
      {
        "duration": 12087,
        "start_time": "2025-06-08T22:10:30.265Z"
      },
      {
        "duration": 9925,
        "start_time": "2025-06-08T22:15:50.650Z"
      },
      {
        "duration": 9856,
        "start_time": "2025-06-08T22:16:04.160Z"
      },
      {
        "duration": 16,
        "start_time": "2025-06-08T22:18:34.681Z"
      },
      {
        "duration": 10512,
        "start_time": "2025-06-08T22:18:45.752Z"
      },
      {
        "duration": 22856,
        "start_time": "2025-06-10T11:11:16.786Z"
      },
      {
        "duration": 841,
        "start_time": "2025-06-10T11:11:39.644Z"
      },
      {
        "duration": 64,
        "start_time": "2025-06-10T11:11:40.487Z"
      },
      {
        "duration": 106,
        "start_time": "2025-06-10T11:11:40.553Z"
      },
      {
        "duration": 1350,
        "start_time": "2025-06-10T11:11:40.661Z"
      },
      {
        "duration": 60,
        "start_time": "2025-06-10T11:11:42.013Z"
      },
      {
        "duration": 102,
        "start_time": "2025-06-10T11:11:42.075Z"
      },
      {
        "duration": 489,
        "start_time": "2025-06-10T11:11:42.178Z"
      },
      {
        "duration": 1001,
        "start_time": "2025-06-10T11:11:42.668Z"
      },
      {
        "duration": 23,
        "start_time": "2025-06-10T11:11:43.671Z"
      },
      {
        "duration": 64,
        "start_time": "2025-06-10T11:11:43.696Z"
      },
      {
        "duration": 21,
        "start_time": "2025-06-10T11:11:43.762Z"
      },
      {
        "duration": 16,
        "start_time": "2025-06-10T11:11:43.785Z"
      },
      {
        "duration": 70,
        "start_time": "2025-06-10T11:11:43.804Z"
      },
      {
        "duration": 7,
        "start_time": "2025-06-10T11:11:43.875Z"
      },
      {
        "duration": 15,
        "start_time": "2025-06-10T11:11:43.884Z"
      },
      {
        "duration": 45,
        "start_time": "2025-06-10T11:11:43.901Z"
      },
      {
        "duration": 73,
        "start_time": "2025-06-10T11:11:43.948Z"
      },
      {
        "duration": 25,
        "start_time": "2025-06-10T11:11:44.023Z"
      },
      {
        "duration": 34,
        "start_time": "2025-06-10T11:11:44.049Z"
      },
      {
        "duration": 21,
        "start_time": "2025-06-10T11:11:44.085Z"
      },
      {
        "duration": 10,
        "start_time": "2025-06-10T11:11:44.107Z"
      },
      {
        "duration": 22,
        "start_time": "2025-06-10T11:11:44.118Z"
      },
      {
        "duration": 22,
        "start_time": "2025-06-10T11:11:44.141Z"
      },
      {
        "duration": 51,
        "start_time": "2025-06-10T11:11:44.164Z"
      },
      {
        "duration": 36,
        "start_time": "2025-06-10T11:11:44.216Z"
      },
      {
        "duration": 33,
        "start_time": "2025-06-10T11:11:44.253Z"
      },
      {
        "duration": 53,
        "start_time": "2025-06-10T11:11:44.287Z"
      },
      {
        "duration": 21,
        "start_time": "2025-06-10T11:11:44.341Z"
      },
      {
        "duration": 276,
        "start_time": "2025-06-10T11:11:44.364Z"
      },
      {
        "duration": 13,
        "start_time": "2025-06-10T11:11:44.641Z"
      },
      {
        "duration": 75,
        "start_time": "2025-06-10T11:11:44.655Z"
      },
      {
        "duration": 8,
        "start_time": "2025-06-10T11:11:44.731Z"
      },
      {
        "duration": 20,
        "start_time": "2025-06-10T11:11:44.740Z"
      },
      {
        "duration": 2380,
        "start_time": "2025-06-10T11:11:44.761Z"
      },
      {
        "duration": 19,
        "start_time": "2025-06-10T11:11:47.144Z"
      },
      {
        "duration": 30,
        "start_time": "2025-06-10T11:11:47.164Z"
      },
      {
        "duration": 47,
        "start_time": "2025-06-10T11:11:47.196Z"
      },
      {
        "duration": 2211,
        "start_time": "2025-06-10T11:11:47.245Z"
      },
      {
        "duration": 23,
        "start_time": "2025-06-10T11:11:49.457Z"
      },
      {
        "duration": 26999,
        "start_time": "2025-06-10T11:11:49.485Z"
      },
      {
        "duration": 19,
        "start_time": "2025-06-10T11:12:16.486Z"
      },
      {
        "duration": 149,
        "start_time": "2025-06-10T11:12:16.506Z"
      },
      {
        "duration": 2739,
        "start_time": "2025-06-10T11:12:16.657Z"
      },
      {
        "duration": 23,
        "start_time": "2025-06-10T11:12:19.397Z"
      },
      {
        "duration": 24,
        "start_time": "2025-06-10T11:12:19.421Z"
      },
      {
        "duration": 37,
        "start_time": "2025-06-10T11:12:19.447Z"
      },
      {
        "duration": 2930,
        "start_time": "2025-06-10T11:12:19.486Z"
      },
      {
        "duration": 2676,
        "start_time": "2025-06-10T11:12:22.418Z"
      },
      {
        "duration": 1884,
        "start_time": "2025-06-10T11:12:25.096Z"
      },
      {
        "duration": 2689,
        "start_time": "2025-06-10T11:12:26.982Z"
      },
      {
        "duration": 19,
        "start_time": "2025-06-10T11:12:29.673Z"
      },
      {
        "duration": 1325,
        "start_time": "2025-06-10T11:12:29.693Z"
      },
      {
        "duration": 922,
        "start_time": "2025-06-10T11:12:31.020Z"
      },
      {
        "duration": 381,
        "start_time": "2025-06-10T11:12:31.944Z"
      },
      {
        "duration": 848,
        "start_time": "2025-06-10T11:12:32.327Z"
      },
      {
        "duration": 824,
        "start_time": "2025-06-10T11:12:33.178Z"
      },
      {
        "duration": 10,
        "start_time": "2025-06-10T11:12:34.004Z"
      },
      {
        "duration": 11285,
        "start_time": "2025-06-10T11:12:34.016Z"
      },
      {
        "duration": 68,
        "start_time": "2025-06-10T11:12:45.303Z"
      },
      {
        "duration": 243,
        "start_time": "2025-06-10T11:12:45.373Z"
      },
      {
        "duration": 0,
        "start_time": "2025-06-10T11:12:45.618Z"
      },
      {
        "duration": 0,
        "start_time": "2025-06-10T11:12:45.620Z"
      },
      {
        "duration": 0,
        "start_time": "2025-06-10T11:12:45.620Z"
      },
      {
        "duration": 60,
        "start_time": "2025-06-10T11:12:51.718Z"
      },
      {
        "duration": 25,
        "start_time": "2025-06-10T11:12:53.959Z"
      },
      {
        "duration": 115,
        "start_time": "2025-06-10T11:13:11.431Z"
      },
      {
        "duration": 119,
        "start_time": "2025-06-10T11:13:14.532Z"
      },
      {
        "duration": 17,
        "start_time": "2025-06-10T11:16:49.982Z"
      },
      {
        "duration": 17,
        "start_time": "2025-06-10T11:16:53.050Z"
      },
      {
        "duration": 16,
        "start_time": "2025-06-10T11:16:56.033Z"
      },
      {
        "duration": 23,
        "start_time": "2025-06-10T11:16:58.734Z"
      },
      {
        "duration": 124,
        "start_time": "2025-06-10T11:16:59.498Z"
      },
      {
        "duration": 2142,
        "start_time": "2025-06-10T11:17:43.810Z"
      },
      {
        "duration": 10892,
        "start_time": "2025-06-10T12:42:22.205Z"
      },
      {
        "duration": 852,
        "start_time": "2025-06-10T12:42:33.099Z"
      },
      {
        "duration": 56,
        "start_time": "2025-06-10T12:42:33.953Z"
      },
      {
        "duration": 12,
        "start_time": "2025-06-10T12:42:34.011Z"
      },
      {
        "duration": 1208,
        "start_time": "2025-06-10T12:42:34.038Z"
      },
      {
        "duration": 51,
        "start_time": "2025-06-10T12:42:35.248Z"
      },
      {
        "duration": 32,
        "start_time": "2025-06-10T12:42:35.300Z"
      },
      {
        "duration": 489,
        "start_time": "2025-06-10T12:42:35.339Z"
      },
      {
        "duration": 1000,
        "start_time": "2025-06-10T12:42:35.830Z"
      },
      {
        "duration": 23,
        "start_time": "2025-06-10T12:42:36.838Z"
      },
      {
        "duration": 53,
        "start_time": "2025-06-10T12:42:36.862Z"
      },
      {
        "duration": 32,
        "start_time": "2025-06-10T12:42:36.916Z"
      },
      {
        "duration": 35,
        "start_time": "2025-06-10T12:42:36.950Z"
      },
      {
        "duration": 69,
        "start_time": "2025-06-10T12:42:36.988Z"
      },
      {
        "duration": 60,
        "start_time": "2025-06-10T12:42:37.059Z"
      },
      {
        "duration": 18,
        "start_time": "2025-06-10T12:42:37.120Z"
      },
      {
        "duration": 22,
        "start_time": "2025-06-10T12:42:37.140Z"
      },
      {
        "duration": 54,
        "start_time": "2025-06-10T12:42:37.164Z"
      },
      {
        "duration": 116,
        "start_time": "2025-06-10T12:42:37.220Z"
      },
      {
        "duration": 32,
        "start_time": "2025-06-10T12:42:37.338Z"
      },
      {
        "duration": 30,
        "start_time": "2025-06-10T12:42:37.372Z"
      },
      {
        "duration": 30,
        "start_time": "2025-06-10T12:42:37.404Z"
      },
      {
        "duration": 16,
        "start_time": "2025-06-10T12:42:37.436Z"
      },
      {
        "duration": 23,
        "start_time": "2025-06-10T12:42:37.454Z"
      },
      {
        "duration": 45,
        "start_time": "2025-06-10T12:42:37.478Z"
      },
      {
        "duration": 38,
        "start_time": "2025-06-10T12:42:37.524Z"
      },
      {
        "duration": 37,
        "start_time": "2025-06-10T12:42:37.565Z"
      },
      {
        "duration": 67,
        "start_time": "2025-06-10T12:42:37.604Z"
      },
      {
        "duration": 21,
        "start_time": "2025-06-10T12:42:37.673Z"
      },
      {
        "duration": 313,
        "start_time": "2025-06-10T12:42:37.696Z"
      },
      {
        "duration": 13,
        "start_time": "2025-06-10T12:42:38.011Z"
      },
      {
        "duration": 46,
        "start_time": "2025-06-10T12:42:38.026Z"
      },
      {
        "duration": 8,
        "start_time": "2025-06-10T12:42:38.074Z"
      },
      {
        "duration": 21,
        "start_time": "2025-06-10T12:42:38.084Z"
      },
      {
        "duration": 2732,
        "start_time": "2025-06-10T12:42:38.107Z"
      },
      {
        "duration": 18,
        "start_time": "2025-06-10T12:42:40.841Z"
      },
      {
        "duration": 90,
        "start_time": "2025-06-10T12:42:40.861Z"
      },
      {
        "duration": 86,
        "start_time": "2025-06-10T12:42:40.953Z"
      },
      {
        "duration": 3531,
        "start_time": "2025-06-10T12:42:41.041Z"
      },
      {
        "duration": 24,
        "start_time": "2025-06-10T12:42:44.574Z"
      },
      {
        "duration": 26721,
        "start_time": "2025-06-10T12:42:44.604Z"
      },
      {
        "duration": 28,
        "start_time": "2025-06-10T12:43:11.327Z"
      },
      {
        "duration": 34,
        "start_time": "2025-06-10T12:43:11.357Z"
      },
      {
        "duration": 2854,
        "start_time": "2025-06-10T12:43:11.393Z"
      },
      {
        "duration": 23,
        "start_time": "2025-06-10T12:43:14.248Z"
      },
      {
        "duration": 8,
        "start_time": "2025-06-10T12:43:14.273Z"
      },
      {
        "duration": 19,
        "start_time": "2025-06-10T12:43:14.282Z"
      },
      {
        "duration": 2877,
        "start_time": "2025-06-10T12:43:14.303Z"
      },
      {
        "duration": 2808,
        "start_time": "2025-06-10T12:43:17.181Z"
      },
      {
        "duration": 1909,
        "start_time": "2025-06-10T12:43:19.991Z"
      },
      {
        "duration": 2806,
        "start_time": "2025-06-10T12:43:21.901Z"
      },
      {
        "duration": 18,
        "start_time": "2025-06-10T12:43:24.709Z"
      },
      {
        "duration": 1350,
        "start_time": "2025-06-10T12:43:24.728Z"
      },
      {
        "duration": 871,
        "start_time": "2025-06-10T12:43:26.080Z"
      },
      {
        "duration": 395,
        "start_time": "2025-06-10T12:43:26.952Z"
      },
      {
        "duration": 866,
        "start_time": "2025-06-10T12:43:27.349Z"
      },
      {
        "duration": 804,
        "start_time": "2025-06-10T12:43:28.217Z"
      },
      {
        "duration": 18,
        "start_time": "2025-06-10T12:43:29.023Z"
      },
      {
        "duration": 10878,
        "start_time": "2025-06-10T12:43:29.043Z"
      },
      {
        "duration": 57,
        "start_time": "2025-06-10T12:43:39.922Z"
      },
      {
        "duration": 17,
        "start_time": "2025-06-10T12:43:39.980Z"
      },
      {
        "duration": 57,
        "start_time": "2025-06-10T12:43:39.999Z"
      },
      {
        "duration": 0,
        "start_time": "2025-06-10T12:43:40.057Z"
      },
      {
        "duration": 0,
        "start_time": "2025-06-10T12:43:40.058Z"
      },
      {
        "duration": 13517,
        "start_time": "2025-06-10T12:53:20.852Z"
      },
      {
        "duration": 923,
        "start_time": "2025-06-10T12:53:34.371Z"
      },
      {
        "duration": 70,
        "start_time": "2025-06-10T12:53:35.295Z"
      },
      {
        "duration": 12,
        "start_time": "2025-06-10T12:53:35.366Z"
      },
      {
        "duration": 1298,
        "start_time": "2025-06-10T12:53:35.380Z"
      },
      {
        "duration": 61,
        "start_time": "2025-06-10T12:53:36.681Z"
      },
      {
        "duration": 29,
        "start_time": "2025-06-10T12:53:36.744Z"
      },
      {
        "duration": 501,
        "start_time": "2025-06-10T12:53:36.775Z"
      },
      {
        "duration": 985,
        "start_time": "2025-06-10T12:53:37.278Z"
      },
      {
        "duration": 24,
        "start_time": "2025-06-10T12:53:38.265Z"
      },
      {
        "duration": 99,
        "start_time": "2025-06-10T12:53:38.291Z"
      },
      {
        "duration": 20,
        "start_time": "2025-06-10T12:53:38.392Z"
      },
      {
        "duration": 33,
        "start_time": "2025-06-10T12:53:38.414Z"
      },
      {
        "duration": 56,
        "start_time": "2025-06-10T12:53:38.449Z"
      },
      {
        "duration": 6,
        "start_time": "2025-06-10T12:53:38.506Z"
      },
      {
        "duration": 29,
        "start_time": "2025-06-10T12:53:38.514Z"
      },
      {
        "duration": 24,
        "start_time": "2025-06-10T12:53:38.544Z"
      },
      {
        "duration": 46,
        "start_time": "2025-06-10T12:53:38.571Z"
      },
      {
        "duration": 123,
        "start_time": "2025-06-10T12:53:38.618Z"
      },
      {
        "duration": 58,
        "start_time": "2025-06-10T12:53:38.743Z"
      },
      {
        "duration": 44,
        "start_time": "2025-06-10T12:53:38.803Z"
      },
      {
        "duration": 10,
        "start_time": "2025-06-10T12:53:38.848Z"
      },
      {
        "duration": 17,
        "start_time": "2025-06-10T12:53:38.860Z"
      },
      {
        "duration": 25,
        "start_time": "2025-06-10T12:53:38.878Z"
      },
      {
        "duration": 47,
        "start_time": "2025-06-10T12:53:38.905Z"
      },
      {
        "duration": 26,
        "start_time": "2025-06-10T12:53:38.953Z"
      },
      {
        "duration": 23,
        "start_time": "2025-06-10T12:53:38.980Z"
      },
      {
        "duration": 179,
        "start_time": "2025-06-10T12:53:39.005Z"
      },
      {
        "duration": 193,
        "start_time": "2025-06-10T12:53:39.185Z"
      },
      {
        "duration": 300,
        "start_time": "2025-06-10T12:53:39.379Z"
      },
      {
        "duration": 15,
        "start_time": "2025-06-10T12:53:39.680Z"
      },
      {
        "duration": 32,
        "start_time": "2025-06-10T12:53:39.696Z"
      },
      {
        "duration": 13,
        "start_time": "2025-06-10T12:53:39.730Z"
      },
      {
        "duration": 20,
        "start_time": "2025-06-10T12:53:39.745Z"
      },
      {
        "duration": 2289,
        "start_time": "2025-06-10T12:53:39.766Z"
      },
      {
        "duration": 19,
        "start_time": "2025-06-10T12:53:42.057Z"
      },
      {
        "duration": 31,
        "start_time": "2025-06-10T12:53:42.077Z"
      },
      {
        "duration": 48,
        "start_time": "2025-06-10T12:53:42.109Z"
      },
      {
        "duration": 2399,
        "start_time": "2025-06-10T12:53:42.158Z"
      },
      {
        "duration": 24,
        "start_time": "2025-06-10T12:53:44.558Z"
      },
      {
        "duration": 27255,
        "start_time": "2025-06-10T12:53:44.584Z"
      },
      {
        "duration": 18,
        "start_time": "2025-06-10T12:54:11.841Z"
      },
      {
        "duration": 85,
        "start_time": "2025-06-10T12:54:11.860Z"
      },
      {
        "duration": 2775,
        "start_time": "2025-06-10T12:54:11.947Z"
      },
      {
        "duration": 31,
        "start_time": "2025-06-10T12:54:14.724Z"
      },
      {
        "duration": 7,
        "start_time": "2025-06-10T12:54:14.757Z"
      },
      {
        "duration": 18,
        "start_time": "2025-06-10T12:54:14.765Z"
      },
      {
        "duration": 2928,
        "start_time": "2025-06-10T12:54:14.784Z"
      },
      {
        "duration": 2788,
        "start_time": "2025-06-10T12:54:17.714Z"
      },
      {
        "duration": 1983,
        "start_time": "2025-06-10T12:54:20.504Z"
      },
      {
        "duration": 2792,
        "start_time": "2025-06-10T12:54:22.489Z"
      },
      {
        "duration": 16,
        "start_time": "2025-06-10T12:54:25.283Z"
      },
      {
        "duration": 1444,
        "start_time": "2025-06-10T12:54:25.300Z"
      },
      {
        "duration": 866,
        "start_time": "2025-06-10T12:54:26.748Z"
      },
      {
        "duration": 367,
        "start_time": "2025-06-10T12:54:27.616Z"
      },
      {
        "duration": 840,
        "start_time": "2025-06-10T12:54:27.985Z"
      },
      {
        "duration": 872,
        "start_time": "2025-06-10T12:54:28.827Z"
      },
      {
        "duration": 10,
        "start_time": "2025-06-10T12:54:29.701Z"
      },
      {
        "duration": 11408,
        "start_time": "2025-06-10T12:54:29.713Z"
      },
      {
        "duration": 57,
        "start_time": "2025-06-10T12:54:41.123Z"
      },
      {
        "duration": 187,
        "start_time": "2025-06-10T12:54:41.182Z"
      },
      {
        "duration": 146,
        "start_time": "2025-06-10T12:54:41.371Z"
      },
      {
        "duration": 0,
        "start_time": "2025-06-10T12:54:41.519Z"
      },
      {
        "duration": 0,
        "start_time": "2025-06-10T12:54:41.520Z"
      },
      {
        "duration": 121,
        "start_time": "2025-06-10T13:00:49.172Z"
      },
      {
        "duration": 122,
        "start_time": "2025-06-10T13:00:59.504Z"
      },
      {
        "duration": 10737,
        "start_time": "2025-06-10T13:01:04.951Z"
      },
      {
        "duration": 891,
        "start_time": "2025-06-10T13:01:15.692Z"
      },
      {
        "duration": 24,
        "start_time": "2025-06-10T13:01:16.585Z"
      },
      {
        "duration": 19,
        "start_time": "2025-06-10T13:01:16.611Z"
      },
      {
        "duration": 1334,
        "start_time": "2025-06-10T13:01:16.639Z"
      },
      {
        "duration": 49,
        "start_time": "2025-06-10T13:01:17.974Z"
      },
      {
        "duration": 30,
        "start_time": "2025-06-10T13:01:18.025Z"
      },
      {
        "duration": 498,
        "start_time": "2025-06-10T13:01:18.057Z"
      },
      {
        "duration": 984,
        "start_time": "2025-06-10T13:01:18.556Z"
      },
      {
        "duration": 24,
        "start_time": "2025-06-10T13:01:19.542Z"
      },
      {
        "duration": 111,
        "start_time": "2025-06-10T13:01:19.567Z"
      },
      {
        "duration": 36,
        "start_time": "2025-06-10T13:01:19.679Z"
      },
      {
        "duration": 46,
        "start_time": "2025-06-10T13:01:19.717Z"
      },
      {
        "duration": 106,
        "start_time": "2025-06-10T13:01:19.765Z"
      },
      {
        "duration": 42,
        "start_time": "2025-06-10T13:01:19.873Z"
      },
      {
        "duration": 45,
        "start_time": "2025-06-10T13:01:19.917Z"
      },
      {
        "duration": 29,
        "start_time": "2025-06-10T13:01:19.963Z"
      },
      {
        "duration": 91,
        "start_time": "2025-06-10T13:01:19.994Z"
      },
      {
        "duration": 63,
        "start_time": "2025-06-10T13:01:20.087Z"
      },
      {
        "duration": 236,
        "start_time": "2025-06-10T13:01:20.152Z"
      },
      {
        "duration": 72,
        "start_time": "2025-06-10T13:01:20.389Z"
      },
      {
        "duration": 44,
        "start_time": "2025-06-10T13:01:20.462Z"
      },
      {
        "duration": 71,
        "start_time": "2025-06-10T13:01:20.507Z"
      },
      {
        "duration": 100,
        "start_time": "2025-06-10T13:01:20.579Z"
      },
      {
        "duration": 79,
        "start_time": "2025-06-10T13:01:20.681Z"
      },
      {
        "duration": 43,
        "start_time": "2025-06-10T13:01:20.761Z"
      },
      {
        "duration": 46,
        "start_time": "2025-06-10T13:01:20.806Z"
      },
      {
        "duration": 65,
        "start_time": "2025-06-10T13:01:20.856Z"
      },
      {
        "duration": 26,
        "start_time": "2025-06-10T13:01:20.923Z"
      },
      {
        "duration": 320,
        "start_time": "2025-06-10T13:01:20.951Z"
      },
      {
        "duration": 15,
        "start_time": "2025-06-10T13:01:21.273Z"
      },
      {
        "duration": 148,
        "start_time": "2025-06-10T13:01:21.290Z"
      },
      {
        "duration": 9,
        "start_time": "2025-06-10T13:01:21.440Z"
      },
      {
        "duration": 28,
        "start_time": "2025-06-10T13:01:21.452Z"
      },
      {
        "duration": 2514,
        "start_time": "2025-06-10T13:01:21.482Z"
      },
      {
        "duration": 21,
        "start_time": "2025-06-10T13:01:23.998Z"
      },
      {
        "duration": 43,
        "start_time": "2025-06-10T13:01:24.021Z"
      },
      {
        "duration": 27,
        "start_time": "2025-06-10T13:01:24.065Z"
      },
      {
        "duration": 2368,
        "start_time": "2025-06-10T13:01:24.094Z"
      },
      {
        "duration": 23,
        "start_time": "2025-06-10T13:01:26.464Z"
      },
      {
        "duration": 25953,
        "start_time": "2025-06-10T13:01:26.488Z"
      },
      {
        "duration": 19,
        "start_time": "2025-06-10T13:01:52.443Z"
      },
      {
        "duration": 48,
        "start_time": "2025-06-10T13:01:52.464Z"
      },
      {
        "duration": 3799,
        "start_time": "2025-06-10T13:01:52.514Z"
      },
      {
        "duration": 32,
        "start_time": "2025-06-10T13:01:56.315Z"
      },
      {
        "duration": 8,
        "start_time": "2025-06-10T13:01:56.348Z"
      },
      {
        "duration": 25,
        "start_time": "2025-06-10T13:01:56.359Z"
      },
      {
        "duration": 2902,
        "start_time": "2025-06-10T13:01:56.386Z"
      },
      {
        "duration": 2806,
        "start_time": "2025-06-10T13:01:59.291Z"
      },
      {
        "duration": 1963,
        "start_time": "2025-06-10T13:02:02.099Z"
      },
      {
        "duration": 2774,
        "start_time": "2025-06-10T13:02:04.064Z"
      },
      {
        "duration": 17,
        "start_time": "2025-06-10T13:02:06.839Z"
      },
      {
        "duration": 1522,
        "start_time": "2025-06-10T13:02:06.858Z"
      },
      {
        "duration": 832,
        "start_time": "2025-06-10T13:02:08.382Z"
      },
      {
        "duration": 393,
        "start_time": "2025-06-10T13:02:09.216Z"
      },
      {
        "duration": 884,
        "start_time": "2025-06-10T13:02:09.612Z"
      },
      {
        "duration": 841,
        "start_time": "2025-06-10T13:02:10.498Z"
      },
      {
        "duration": 12,
        "start_time": "2025-06-10T13:02:11.341Z"
      },
      {
        "duration": 9721,
        "start_time": "2025-06-10T13:02:11.354Z"
      },
      {
        "duration": 64,
        "start_time": "2025-06-10T13:02:21.078Z"
      },
      {
        "duration": 216,
        "start_time": "2025-06-10T13:02:21.144Z"
      },
      {
        "duration": 56,
        "start_time": "2025-06-10T13:02:21.362Z"
      },
      {
        "duration": 0,
        "start_time": "2025-06-10T13:02:21.420Z"
      },
      {
        "duration": 0,
        "start_time": "2025-06-10T13:02:21.421Z"
      },
      {
        "duration": 0,
        "start_time": "2025-06-10T13:02:21.422Z"
      },
      {
        "duration": 124,
        "start_time": "2025-06-10T13:02:51.255Z"
      },
      {
        "duration": 0,
        "start_time": "2025-06-10T13:12:18.761Z"
      },
      {
        "duration": 10803,
        "start_time": "2025-06-10T13:16:59.048Z"
      },
      {
        "duration": 844,
        "start_time": "2025-06-10T13:17:09.854Z"
      },
      {
        "duration": 40,
        "start_time": "2025-06-10T13:17:10.699Z"
      },
      {
        "duration": 14,
        "start_time": "2025-06-10T13:17:10.742Z"
      },
      {
        "duration": 1273,
        "start_time": "2025-06-10T13:17:10.757Z"
      },
      {
        "duration": 44,
        "start_time": "2025-06-10T13:17:12.031Z"
      },
      {
        "duration": 24,
        "start_time": "2025-06-10T13:17:12.077Z"
      },
      {
        "duration": 448,
        "start_time": "2025-06-10T13:17:12.102Z"
      },
      {
        "duration": 867,
        "start_time": "2025-06-10T13:17:12.552Z"
      },
      {
        "duration": 30,
        "start_time": "2025-06-10T13:17:13.422Z"
      },
      {
        "duration": 88,
        "start_time": "2025-06-10T13:17:13.454Z"
      },
      {
        "duration": 22,
        "start_time": "2025-06-10T13:17:13.544Z"
      },
      {
        "duration": 43,
        "start_time": "2025-06-10T13:17:13.568Z"
      },
      {
        "duration": 53,
        "start_time": "2025-06-10T13:17:13.613Z"
      },
      {
        "duration": 7,
        "start_time": "2025-06-10T13:17:13.668Z"
      },
      {
        "duration": 15,
        "start_time": "2025-06-10T13:17:13.676Z"
      },
      {
        "duration": 28,
        "start_time": "2025-06-10T13:17:13.693Z"
      },
      {
        "duration": 60,
        "start_time": "2025-06-10T13:17:13.723Z"
      },
      {
        "duration": 26,
        "start_time": "2025-06-10T13:17:13.785Z"
      },
      {
        "duration": 46,
        "start_time": "2025-06-10T13:17:13.813Z"
      },
      {
        "duration": 120,
        "start_time": "2025-06-10T13:17:13.861Z"
      },
      {
        "duration": 10,
        "start_time": "2025-06-10T13:17:13.983Z"
      },
      {
        "duration": 9,
        "start_time": "2025-06-10T13:17:13.995Z"
      },
      {
        "duration": 25,
        "start_time": "2025-06-10T13:17:14.006Z"
      },
      {
        "duration": 41,
        "start_time": "2025-06-10T13:17:14.033Z"
      },
      {
        "duration": 26,
        "start_time": "2025-06-10T13:17:14.076Z"
      },
      {
        "duration": 48,
        "start_time": "2025-06-10T13:17:14.104Z"
      },
      {
        "duration": 47,
        "start_time": "2025-06-10T13:17:14.158Z"
      },
      {
        "duration": 35,
        "start_time": "2025-06-10T13:17:14.206Z"
      },
      {
        "duration": 282,
        "start_time": "2025-06-10T13:17:14.243Z"
      },
      {
        "duration": 15,
        "start_time": "2025-06-10T13:17:14.526Z"
      },
      {
        "duration": 38,
        "start_time": "2025-06-10T13:17:14.543Z"
      },
      {
        "duration": 9,
        "start_time": "2025-06-10T13:17:14.583Z"
      },
      {
        "duration": 23,
        "start_time": "2025-06-10T13:17:14.594Z"
      },
      {
        "duration": 2359,
        "start_time": "2025-06-10T13:17:14.619Z"
      },
      {
        "duration": 18,
        "start_time": "2025-06-10T13:17:16.980Z"
      },
      {
        "duration": 43,
        "start_time": "2025-06-10T13:17:17.000Z"
      },
      {
        "duration": 27,
        "start_time": "2025-06-10T13:17:17.045Z"
      },
      {
        "duration": 2289,
        "start_time": "2025-06-10T13:17:17.074Z"
      },
      {
        "duration": 24,
        "start_time": "2025-06-10T13:17:19.365Z"
      },
      {
        "duration": 27079,
        "start_time": "2025-06-10T13:17:19.391Z"
      },
      {
        "duration": 18,
        "start_time": "2025-06-10T13:17:46.471Z"
      },
      {
        "duration": 53,
        "start_time": "2025-06-10T13:17:46.490Z"
      },
      {
        "duration": 2880,
        "start_time": "2025-06-10T13:17:46.545Z"
      },
      {
        "duration": 32,
        "start_time": "2025-06-10T13:17:49.426Z"
      },
      {
        "duration": 7,
        "start_time": "2025-06-10T13:17:49.460Z"
      },
      {
        "duration": 19,
        "start_time": "2025-06-10T13:17:49.469Z"
      },
      {
        "duration": 2922,
        "start_time": "2025-06-10T13:17:49.490Z"
      },
      {
        "duration": 2732,
        "start_time": "2025-06-10T13:17:52.414Z"
      },
      {
        "duration": 1909,
        "start_time": "2025-06-10T13:17:55.147Z"
      },
      {
        "duration": 2724,
        "start_time": "2025-06-10T13:17:57.058Z"
      },
      {
        "duration": 15,
        "start_time": "2025-06-10T13:17:59.784Z"
      },
      {
        "duration": 1268,
        "start_time": "2025-06-10T13:17:59.801Z"
      },
      {
        "duration": 844,
        "start_time": "2025-06-10T13:18:01.071Z"
      },
      {
        "duration": 363,
        "start_time": "2025-06-10T13:18:01.917Z"
      },
      {
        "duration": 832,
        "start_time": "2025-06-10T13:18:02.281Z"
      },
      {
        "duration": 815,
        "start_time": "2025-06-10T13:18:03.115Z"
      },
      {
        "duration": 13,
        "start_time": "2025-06-10T13:18:03.932Z"
      },
      {
        "duration": 11097,
        "start_time": "2025-06-10T13:18:03.947Z"
      },
      {
        "duration": 152,
        "start_time": "2025-06-10T13:18:15.045Z"
      },
      {
        "duration": 19,
        "start_time": "2025-06-10T13:18:15.199Z"
      },
      {
        "duration": 88,
        "start_time": "2025-06-10T13:18:15.220Z"
      },
      {
        "duration": 0,
        "start_time": "2025-06-10T13:18:15.311Z"
      },
      {
        "duration": 0,
        "start_time": "2025-06-10T13:18:15.312Z"
      },
      {
        "duration": 0,
        "start_time": "2025-06-10T13:18:15.314Z"
      },
      {
        "duration": 0,
        "start_time": "2025-06-10T13:18:15.315Z"
      },
      {
        "duration": 0,
        "start_time": "2025-06-10T13:18:15.317Z"
      },
      {
        "duration": 0,
        "start_time": "2025-06-10T13:18:15.319Z"
      },
      {
        "duration": 0,
        "start_time": "2025-06-10T13:18:15.320Z"
      },
      {
        "duration": 0,
        "start_time": "2025-06-10T13:18:15.322Z"
      },
      {
        "duration": 49,
        "start_time": "2025-06-10T13:20:51.441Z"
      },
      {
        "duration": 6,
        "start_time": "2025-06-10T13:20:54.667Z"
      },
      {
        "duration": 6,
        "start_time": "2025-06-10T13:21:10.325Z"
      },
      {
        "duration": 6,
        "start_time": "2025-06-10T13:21:13.510Z"
      },
      {
        "duration": 2294,
        "start_time": "2025-06-10T13:25:03.204Z"
      },
      {
        "duration": 11845,
        "start_time": "2025-06-10T13:25:18.025Z"
      },
      {
        "duration": 927,
        "start_time": "2025-06-10T13:25:29.872Z"
      },
      {
        "duration": 53,
        "start_time": "2025-06-10T13:25:30.800Z"
      },
      {
        "duration": 217,
        "start_time": "2025-06-10T13:25:30.855Z"
      },
      {
        "duration": 1389,
        "start_time": "2025-06-10T13:25:31.074Z"
      },
      {
        "duration": 55,
        "start_time": "2025-06-10T13:25:32.465Z"
      },
      {
        "duration": 30,
        "start_time": "2025-06-10T13:25:32.522Z"
      },
      {
        "duration": 494,
        "start_time": "2025-06-10T13:25:32.554Z"
      },
      {
        "duration": 1069,
        "start_time": "2025-06-10T13:25:33.049Z"
      },
      {
        "duration": 27,
        "start_time": "2025-06-10T13:25:34.120Z"
      },
      {
        "duration": 73,
        "start_time": "2025-06-10T13:25:34.149Z"
      },
      {
        "duration": 20,
        "start_time": "2025-06-10T13:25:34.223Z"
      },
      {
        "duration": 22,
        "start_time": "2025-06-10T13:25:34.245Z"
      },
      {
        "duration": 77,
        "start_time": "2025-06-10T13:25:34.269Z"
      },
      {
        "duration": 7,
        "start_time": "2025-06-10T13:25:34.347Z"
      },
      {
        "duration": 21,
        "start_time": "2025-06-10T13:25:34.356Z"
      },
      {
        "duration": 30,
        "start_time": "2025-06-10T13:25:34.379Z"
      },
      {
        "duration": 57,
        "start_time": "2025-06-10T13:25:34.411Z"
      },
      {
        "duration": 30,
        "start_time": "2025-06-10T13:25:34.470Z"
      },
      {
        "duration": 37,
        "start_time": "2025-06-10T13:25:34.502Z"
      },
      {
        "duration": 45,
        "start_time": "2025-06-10T13:25:34.541Z"
      },
      {
        "duration": 30,
        "start_time": "2025-06-10T13:25:34.588Z"
      },
      {
        "duration": 20,
        "start_time": "2025-06-10T13:25:34.621Z"
      },
      {
        "duration": 34,
        "start_time": "2025-06-10T13:25:34.643Z"
      },
      {
        "duration": 59,
        "start_time": "2025-06-10T13:25:34.678Z"
      },
      {
        "duration": 25,
        "start_time": "2025-06-10T13:25:34.739Z"
      },
      {
        "duration": 36,
        "start_time": "2025-06-10T13:25:34.766Z"
      },
      {
        "duration": 68,
        "start_time": "2025-06-10T13:25:34.806Z"
      },
      {
        "duration": 42,
        "start_time": "2025-06-10T13:25:34.875Z"
      },
      {
        "duration": 282,
        "start_time": "2025-06-10T13:25:34.919Z"
      },
      {
        "duration": 14,
        "start_time": "2025-06-10T13:25:35.203Z"
      },
      {
        "duration": 330,
        "start_time": "2025-06-10T13:25:35.218Z"
      },
      {
        "duration": 23,
        "start_time": "2025-06-10T13:25:35.550Z"
      },
      {
        "duration": 32,
        "start_time": "2025-06-10T13:25:35.575Z"
      },
      {
        "duration": 2409,
        "start_time": "2025-06-10T13:25:35.609Z"
      },
      {
        "duration": 18,
        "start_time": "2025-06-10T13:25:38.020Z"
      },
      {
        "duration": 30,
        "start_time": "2025-06-10T13:25:38.039Z"
      },
      {
        "duration": 28,
        "start_time": "2025-06-10T13:25:38.071Z"
      },
      {
        "duration": 2347,
        "start_time": "2025-06-10T13:25:38.100Z"
      },
      {
        "duration": 23,
        "start_time": "2025-06-10T13:25:40.449Z"
      },
      {
        "duration": 27368,
        "start_time": "2025-06-10T13:25:40.473Z"
      },
      {
        "duration": 21,
        "start_time": "2025-06-10T13:26:07.842Z"
      },
      {
        "duration": 36,
        "start_time": "2025-06-10T13:26:07.865Z"
      },
      {
        "duration": 2836,
        "start_time": "2025-06-10T13:26:07.903Z"
      },
      {
        "duration": 23,
        "start_time": "2025-06-10T13:26:10.740Z"
      },
      {
        "duration": 8,
        "start_time": "2025-06-10T13:26:10.764Z"
      },
      {
        "duration": 20,
        "start_time": "2025-06-10T13:26:10.773Z"
      },
      {
        "duration": 3009,
        "start_time": "2025-06-10T13:26:10.795Z"
      },
      {
        "duration": 2722,
        "start_time": "2025-06-10T13:26:13.806Z"
      },
      {
        "duration": 1982,
        "start_time": "2025-06-10T13:26:16.529Z"
      },
      {
        "duration": 2778,
        "start_time": "2025-06-10T13:26:18.512Z"
      },
      {
        "duration": 23,
        "start_time": "2025-06-10T13:26:21.292Z"
      },
      {
        "duration": 1513,
        "start_time": "2025-06-10T13:26:21.316Z"
      },
      {
        "duration": 895,
        "start_time": "2025-06-10T13:26:22.839Z"
      },
      {
        "duration": 380,
        "start_time": "2025-06-10T13:26:23.739Z"
      },
      {
        "duration": 895,
        "start_time": "2025-06-10T13:26:24.121Z"
      },
      {
        "duration": 821,
        "start_time": "2025-06-10T13:26:25.018Z"
      },
      {
        "duration": 10,
        "start_time": "2025-06-10T13:26:25.841Z"
      },
      {
        "duration": 10836,
        "start_time": "2025-06-10T13:26:25.853Z"
      },
      {
        "duration": 63,
        "start_time": "2025-06-10T13:26:36.691Z"
      },
      {
        "duration": 2208,
        "start_time": "2025-06-10T13:27:06.860Z"
      },
      {
        "duration": 21876,
        "start_time": "2025-06-10T21:02:45.287Z"
      },
      {
        "duration": 979,
        "start_time": "2025-06-10T21:03:07.165Z"
      },
      {
        "duration": 64,
        "start_time": "2025-06-10T21:03:08.146Z"
      },
      {
        "duration": 14,
        "start_time": "2025-06-10T21:03:08.211Z"
      },
      {
        "duration": 1457,
        "start_time": "2025-06-10T21:03:08.227Z"
      },
      {
        "duration": 60,
        "start_time": "2025-06-10T21:03:09.686Z"
      },
      {
        "duration": 115,
        "start_time": "2025-06-10T21:03:09.748Z"
      },
      {
        "duration": 584,
        "start_time": "2025-06-10T21:03:09.877Z"
      },
      {
        "duration": 1080,
        "start_time": "2025-06-10T21:03:10.462Z"
      },
      {
        "duration": 35,
        "start_time": "2025-06-10T21:03:11.543Z"
      },
      {
        "duration": 55,
        "start_time": "2025-06-10T21:03:11.580Z"
      },
      {
        "duration": 22,
        "start_time": "2025-06-10T21:03:11.637Z"
      },
      {
        "duration": 9,
        "start_time": "2025-06-10T21:03:11.677Z"
      },
      {
        "duration": 62,
        "start_time": "2025-06-10T21:03:11.689Z"
      },
      {
        "duration": 7,
        "start_time": "2025-06-10T21:03:11.776Z"
      },
      {
        "duration": 28,
        "start_time": "2025-06-10T21:03:11.784Z"
      },
      {
        "duration": 25,
        "start_time": "2025-06-10T21:03:11.814Z"
      },
      {
        "duration": 104,
        "start_time": "2025-06-10T21:03:11.841Z"
      },
      {
        "duration": 27,
        "start_time": "2025-06-10T21:03:11.947Z"
      },
      {
        "duration": 34,
        "start_time": "2025-06-10T21:03:11.976Z"
      },
      {
        "duration": 29,
        "start_time": "2025-06-10T21:03:12.014Z"
      },
      {
        "duration": 31,
        "start_time": "2025-06-10T21:03:12.045Z"
      },
      {
        "duration": 23,
        "start_time": "2025-06-10T21:03:12.078Z"
      },
      {
        "duration": 32,
        "start_time": "2025-06-10T21:03:12.102Z"
      },
      {
        "duration": 51,
        "start_time": "2025-06-10T21:03:12.136Z"
      },
      {
        "duration": 28,
        "start_time": "2025-06-10T21:03:12.188Z"
      },
      {
        "duration": 25,
        "start_time": "2025-06-10T21:03:12.217Z"
      },
      {
        "duration": 66,
        "start_time": "2025-06-10T21:03:12.244Z"
      },
      {
        "duration": 25,
        "start_time": "2025-06-10T21:03:12.312Z"
      },
      {
        "duration": 422,
        "start_time": "2025-06-10T21:03:12.338Z"
      },
      {
        "duration": 19,
        "start_time": "2025-06-10T21:03:12.762Z"
      },
      {
        "duration": 31,
        "start_time": "2025-06-10T21:03:12.783Z"
      },
      {
        "duration": 9,
        "start_time": "2025-06-10T21:03:12.816Z"
      },
      {
        "duration": 49,
        "start_time": "2025-06-10T21:03:12.827Z"
      },
      {
        "duration": 2536,
        "start_time": "2025-06-10T21:03:12.878Z"
      },
      {
        "duration": 20,
        "start_time": "2025-06-10T21:03:15.416Z"
      },
      {
        "duration": 57,
        "start_time": "2025-06-10T21:03:15.438Z"
      },
      {
        "duration": 31,
        "start_time": "2025-06-10T21:03:15.496Z"
      },
      {
        "duration": 2505,
        "start_time": "2025-06-10T21:03:15.529Z"
      },
      {
        "duration": 25,
        "start_time": "2025-06-10T21:03:18.036Z"
      },
      {
        "duration": 28129,
        "start_time": "2025-06-10T21:03:18.078Z"
      },
      {
        "duration": 19,
        "start_time": "2025-06-10T21:03:46.209Z"
      },
      {
        "duration": 56,
        "start_time": "2025-06-10T21:03:46.230Z"
      },
      {
        "duration": 2902,
        "start_time": "2025-06-10T21:03:46.288Z"
      },
      {
        "duration": 24,
        "start_time": "2025-06-10T21:03:49.192Z"
      },
      {
        "duration": 8,
        "start_time": "2025-06-10T21:03:49.217Z"
      },
      {
        "duration": 19,
        "start_time": "2025-06-10T21:03:49.227Z"
      },
      {
        "duration": 3105,
        "start_time": "2025-06-10T21:03:49.276Z"
      },
      {
        "duration": 2918,
        "start_time": "2025-06-10T21:03:52.383Z"
      },
      {
        "duration": 2058,
        "start_time": "2025-06-10T21:03:55.303Z"
      },
      {
        "duration": 2966,
        "start_time": "2025-06-10T21:03:57.363Z"
      },
      {
        "duration": 18,
        "start_time": "2025-06-10T21:04:00.331Z"
      },
      {
        "duration": 1542,
        "start_time": "2025-06-10T21:04:00.351Z"
      },
      {
        "duration": 975,
        "start_time": "2025-06-10T21:04:01.895Z"
      },
      {
        "duration": 384,
        "start_time": "2025-06-10T21:04:02.872Z"
      },
      {
        "duration": 904,
        "start_time": "2025-06-10T21:04:03.258Z"
      },
      {
        "duration": 872,
        "start_time": "2025-06-10T21:04:04.164Z"
      },
      {
        "duration": 9,
        "start_time": "2025-06-10T21:04:05.038Z"
      },
      {
        "duration": 11470,
        "start_time": "2025-06-10T21:04:05.048Z"
      },
      {
        "duration": 59,
        "start_time": "2025-06-10T21:04:16.520Z"
      },
      {
        "duration": 8,
        "start_time": "2025-06-10T21:04:16.581Z"
      },
      {
        "duration": 23,
        "start_time": "2025-06-10T21:04:16.590Z"
      },
      {
        "duration": 10,
        "start_time": "2025-06-10T21:04:16.615Z"
      },
      {
        "duration": 13,
        "start_time": "2025-06-10T21:04:16.626Z"
      },
      {
        "duration": 54,
        "start_time": "2025-06-10T21:06:04.151Z"
      },
      {
        "duration": 13581,
        "start_time": "2025-06-10T21:06:26.282Z"
      },
      {
        "duration": 959,
        "start_time": "2025-06-10T21:06:39.865Z"
      },
      {
        "duration": 72,
        "start_time": "2025-06-10T21:06:40.825Z"
      },
      {
        "duration": 14,
        "start_time": "2025-06-10T21:06:40.898Z"
      },
      {
        "duration": 1395,
        "start_time": "2025-06-10T21:06:40.914Z"
      },
      {
        "duration": 67,
        "start_time": "2025-06-10T21:06:42.310Z"
      },
      {
        "duration": 107,
        "start_time": "2025-06-10T21:06:42.379Z"
      },
      {
        "duration": 517,
        "start_time": "2025-06-10T21:06:42.487Z"
      },
      {
        "duration": 1007,
        "start_time": "2025-06-10T21:06:43.005Z"
      },
      {
        "duration": 24,
        "start_time": "2025-06-10T21:06:44.013Z"
      },
      {
        "duration": 64,
        "start_time": "2025-06-10T21:06:44.039Z"
      },
      {
        "duration": 21,
        "start_time": "2025-06-10T21:06:44.105Z"
      },
      {
        "duration": 14,
        "start_time": "2025-06-10T21:06:44.127Z"
      },
      {
        "duration": 74,
        "start_time": "2025-06-10T21:06:44.144Z"
      },
      {
        "duration": 7,
        "start_time": "2025-06-10T21:06:44.219Z"
      },
      {
        "duration": 28,
        "start_time": "2025-06-10T21:06:44.227Z"
      },
      {
        "duration": 24,
        "start_time": "2025-06-10T21:06:44.256Z"
      },
      {
        "duration": 51,
        "start_time": "2025-06-10T21:06:44.282Z"
      },
      {
        "duration": 27,
        "start_time": "2025-06-10T21:06:44.335Z"
      },
      {
        "duration": 155,
        "start_time": "2025-06-10T21:06:44.376Z"
      },
      {
        "duration": 21,
        "start_time": "2025-06-10T21:06:44.533Z"
      },
      {
        "duration": 7,
        "start_time": "2025-06-10T21:06:44.556Z"
      },
      {
        "duration": 8,
        "start_time": "2025-06-10T21:06:44.565Z"
      },
      {
        "duration": 32,
        "start_time": "2025-06-10T21:06:44.574Z"
      },
      {
        "duration": 45,
        "start_time": "2025-06-10T21:06:44.608Z"
      },
      {
        "duration": 30,
        "start_time": "2025-06-10T21:06:44.655Z"
      },
      {
        "duration": 24,
        "start_time": "2025-06-10T21:06:44.687Z"
      },
      {
        "duration": 64,
        "start_time": "2025-06-10T21:06:44.713Z"
      },
      {
        "duration": 24,
        "start_time": "2025-06-10T21:06:44.779Z"
      },
      {
        "duration": 300,
        "start_time": "2025-06-10T21:06:44.804Z"
      },
      {
        "duration": 15,
        "start_time": "2025-06-10T21:06:45.106Z"
      },
      {
        "duration": 287,
        "start_time": "2025-06-10T21:06:45.122Z"
      },
      {
        "duration": 13,
        "start_time": "2025-06-10T21:06:45.411Z"
      },
      {
        "duration": 31,
        "start_time": "2025-06-10T21:06:45.426Z"
      },
      {
        "duration": 2468,
        "start_time": "2025-06-10T21:06:45.458Z"
      },
      {
        "duration": 20,
        "start_time": "2025-06-10T21:06:47.928Z"
      },
      {
        "duration": 45,
        "start_time": "2025-06-10T21:06:47.950Z"
      },
      {
        "duration": 31,
        "start_time": "2025-06-10T21:06:47.996Z"
      },
      {
        "duration": 2390,
        "start_time": "2025-06-10T21:06:48.029Z"
      },
      {
        "duration": 25,
        "start_time": "2025-06-10T21:06:50.421Z"
      },
      {
        "duration": 27790,
        "start_time": "2025-06-10T21:06:50.450Z"
      },
      {
        "duration": 19,
        "start_time": "2025-06-10T21:07:18.242Z"
      },
      {
        "duration": 43,
        "start_time": "2025-06-10T21:07:18.263Z"
      },
      {
        "duration": 2749,
        "start_time": "2025-06-10T21:07:18.308Z"
      },
      {
        "duration": 28,
        "start_time": "2025-06-10T21:07:21.058Z"
      },
      {
        "duration": 8,
        "start_time": "2025-06-10T21:07:21.088Z"
      },
      {
        "duration": 37,
        "start_time": "2025-06-10T21:07:21.098Z"
      },
      {
        "duration": 3264,
        "start_time": "2025-06-10T21:07:21.137Z"
      },
      {
        "duration": 2866,
        "start_time": "2025-06-10T21:07:24.403Z"
      },
      {
        "duration": 1985,
        "start_time": "2025-06-10T21:07:27.271Z"
      },
      {
        "duration": 2918,
        "start_time": "2025-06-10T21:07:29.258Z"
      },
      {
        "duration": 19,
        "start_time": "2025-06-10T21:07:32.178Z"
      },
      {
        "duration": 1348,
        "start_time": "2025-06-10T21:07:32.198Z"
      },
      {
        "duration": 915,
        "start_time": "2025-06-10T21:07:33.548Z"
      },
      {
        "duration": 394,
        "start_time": "2025-06-10T21:07:34.465Z"
      },
      {
        "duration": 891,
        "start_time": "2025-06-10T21:07:34.861Z"
      },
      {
        "duration": 906,
        "start_time": "2025-06-10T21:07:35.754Z"
      },
      {
        "duration": 19,
        "start_time": "2025-06-10T21:07:36.661Z"
      },
      {
        "duration": 11543,
        "start_time": "2025-06-10T21:07:36.682Z"
      },
      {
        "duration": 55,
        "start_time": "2025-06-10T21:07:48.227Z"
      },
      {
        "duration": 9,
        "start_time": "2025-06-10T21:07:48.283Z"
      },
      {
        "duration": 11,
        "start_time": "2025-06-10T21:07:48.294Z"
      },
      {
        "duration": 11,
        "start_time": "2025-06-10T21:07:48.307Z"
      },
      {
        "duration": 13,
        "start_time": "2025-06-10T21:07:48.319Z"
      },
      {
        "duration": 9,
        "start_time": "2025-06-10T21:08:23.677Z"
      },
      {
        "duration": 48,
        "start_time": "2025-06-10T21:08:25.259Z"
      },
      {
        "duration": 13151,
        "start_time": "2025-06-10T21:09:37.479Z"
      },
      {
        "duration": 932,
        "start_time": "2025-06-10T21:09:50.632Z"
      },
      {
        "duration": 71,
        "start_time": "2025-06-10T21:09:51.566Z"
      },
      {
        "duration": 14,
        "start_time": "2025-06-10T21:09:51.638Z"
      },
      {
        "duration": 1385,
        "start_time": "2025-06-10T21:09:51.655Z"
      },
      {
        "duration": 56,
        "start_time": "2025-06-10T21:09:53.042Z"
      },
      {
        "duration": 20,
        "start_time": "2025-06-10T21:09:53.099Z"
      },
      {
        "duration": 566,
        "start_time": "2025-06-10T21:09:53.121Z"
      },
      {
        "duration": 997,
        "start_time": "2025-06-10T21:09:53.689Z"
      },
      {
        "duration": 25,
        "start_time": "2025-06-10T21:09:54.688Z"
      },
      {
        "duration": 68,
        "start_time": "2025-06-10T21:09:54.715Z"
      },
      {
        "duration": 23,
        "start_time": "2025-06-10T21:09:54.785Z"
      },
      {
        "duration": 11,
        "start_time": "2025-06-10T21:09:54.810Z"
      },
      {
        "duration": 78,
        "start_time": "2025-06-10T21:09:54.826Z"
      },
      {
        "duration": 7,
        "start_time": "2025-06-10T21:09:54.905Z"
      },
      {
        "duration": 11,
        "start_time": "2025-06-10T21:09:54.913Z"
      },
      {
        "duration": 39,
        "start_time": "2025-06-10T21:09:54.926Z"
      },
      {
        "duration": 50,
        "start_time": "2025-06-10T21:09:54.967Z"
      },
      {
        "duration": 25,
        "start_time": "2025-06-10T21:09:55.019Z"
      },
      {
        "duration": 121,
        "start_time": "2025-06-10T21:09:55.045Z"
      },
      {
        "duration": 39,
        "start_time": "2025-06-10T21:09:55.168Z"
      },
      {
        "duration": 10,
        "start_time": "2025-06-10T21:09:55.208Z"
      },
      {
        "duration": 8,
        "start_time": "2025-06-10T21:09:55.220Z"
      },
      {
        "duration": 49,
        "start_time": "2025-06-10T21:09:55.230Z"
      },
      {
        "duration": 40,
        "start_time": "2025-06-10T21:09:55.281Z"
      },
      {
        "duration": 78,
        "start_time": "2025-06-10T21:09:55.323Z"
      },
      {
        "duration": 22,
        "start_time": "2025-06-10T21:09:55.403Z"
      },
      {
        "duration": 70,
        "start_time": "2025-06-10T21:09:55.427Z"
      },
      {
        "duration": 44,
        "start_time": "2025-06-10T21:09:55.499Z"
      },
      {
        "duration": 301,
        "start_time": "2025-06-10T21:09:55.545Z"
      },
      {
        "duration": 16,
        "start_time": "2025-06-10T21:09:55.849Z"
      },
      {
        "duration": 87,
        "start_time": "2025-06-10T21:09:55.867Z"
      },
      {
        "duration": 9,
        "start_time": "2025-06-10T21:09:55.956Z"
      },
      {
        "duration": 22,
        "start_time": "2025-06-10T21:09:55.967Z"
      },
      {
        "duration": 2430,
        "start_time": "2025-06-10T21:09:55.990Z"
      },
      {
        "duration": 20,
        "start_time": "2025-06-10T21:09:58.422Z"
      },
      {
        "duration": 79,
        "start_time": "2025-06-10T21:09:58.444Z"
      },
      {
        "duration": 27,
        "start_time": "2025-06-10T21:09:58.525Z"
      },
      {
        "duration": 2459,
        "start_time": "2025-06-10T21:09:58.554Z"
      },
      {
        "duration": 24,
        "start_time": "2025-06-10T21:10:01.015Z"
      },
      {
        "duration": 27216,
        "start_time": "2025-06-10T21:10:01.043Z"
      },
      {
        "duration": 28,
        "start_time": "2025-06-10T21:10:28.261Z"
      },
      {
        "duration": 34,
        "start_time": "2025-06-10T21:10:28.291Z"
      },
      {
        "duration": 2861,
        "start_time": "2025-06-10T21:10:28.327Z"
      },
      {
        "duration": 25,
        "start_time": "2025-06-10T21:10:31.189Z"
      },
      {
        "duration": 52,
        "start_time": "2025-06-10T21:10:31.215Z"
      },
      {
        "duration": 20,
        "start_time": "2025-06-10T21:10:31.268Z"
      },
      {
        "duration": 3119,
        "start_time": "2025-06-10T21:10:31.290Z"
      },
      {
        "duration": 2851,
        "start_time": "2025-06-10T21:10:34.411Z"
      },
      {
        "duration": 2001,
        "start_time": "2025-06-10T21:10:37.264Z"
      },
      {
        "duration": 2861,
        "start_time": "2025-06-10T21:10:39.267Z"
      },
      {
        "duration": 17,
        "start_time": "2025-06-10T21:10:42.130Z"
      },
      {
        "duration": 1297,
        "start_time": "2025-06-10T21:10:42.149Z"
      },
      {
        "duration": 862,
        "start_time": "2025-06-10T21:10:43.447Z"
      },
      {
        "duration": 357,
        "start_time": "2025-06-10T21:10:44.311Z"
      },
      {
        "duration": 884,
        "start_time": "2025-06-10T21:10:44.669Z"
      },
      {
        "duration": 853,
        "start_time": "2025-06-10T21:10:45.554Z"
      },
      {
        "duration": 10,
        "start_time": "2025-06-10T21:10:46.408Z"
      },
      {
        "duration": 11272,
        "start_time": "2025-06-10T21:10:46.419Z"
      },
      {
        "duration": 48,
        "start_time": "2025-06-10T21:10:57.693Z"
      },
      {
        "duration": 8,
        "start_time": "2025-06-10T21:10:57.743Z"
      },
      {
        "duration": 26,
        "start_time": "2025-06-10T21:10:57.753Z"
      },
      {
        "duration": 10,
        "start_time": "2025-06-10T21:10:57.780Z"
      },
      {
        "duration": 11,
        "start_time": "2025-06-10T21:10:57.792Z"
      },
      {
        "duration": 50,
        "start_time": "2025-06-10T21:20:35.518Z"
      },
      {
        "duration": 13227,
        "start_time": "2025-06-10T21:26:09.414Z"
      },
      {
        "duration": 917,
        "start_time": "2025-06-10T21:26:22.643Z"
      },
      {
        "duration": 66,
        "start_time": "2025-06-10T21:26:23.562Z"
      },
      {
        "duration": 13,
        "start_time": "2025-06-10T21:26:23.631Z"
      },
      {
        "duration": 1345,
        "start_time": "2025-06-10T21:26:23.646Z"
      },
      {
        "duration": 48,
        "start_time": "2025-06-10T21:26:24.993Z"
      },
      {
        "duration": 38,
        "start_time": "2025-06-10T21:26:25.042Z"
      },
      {
        "duration": 502,
        "start_time": "2025-06-10T21:26:25.082Z"
      },
      {
        "duration": 1002,
        "start_time": "2025-06-10T21:26:25.586Z"
      },
      {
        "duration": 24,
        "start_time": "2025-06-10T21:26:26.592Z"
      },
      {
        "duration": 66,
        "start_time": "2025-06-10T21:26:26.617Z"
      },
      {
        "duration": 22,
        "start_time": "2025-06-10T21:26:26.685Z"
      },
      {
        "duration": 9,
        "start_time": "2025-06-10T21:26:26.709Z"
      },
      {
        "duration": 77,
        "start_time": "2025-06-10T21:26:26.721Z"
      },
      {
        "duration": 6,
        "start_time": "2025-06-10T21:26:26.800Z"
      },
      {
        "duration": 8,
        "start_time": "2025-06-10T21:26:26.808Z"
      },
      {
        "duration": 25,
        "start_time": "2025-06-10T21:26:26.817Z"
      },
      {
        "duration": 68,
        "start_time": "2025-06-10T21:26:26.843Z"
      },
      {
        "duration": 26,
        "start_time": "2025-06-10T21:26:26.912Z"
      },
      {
        "duration": 124,
        "start_time": "2025-06-10T21:26:26.939Z"
      },
      {
        "duration": 25,
        "start_time": "2025-06-10T21:26:27.065Z"
      },
      {
        "duration": 7,
        "start_time": "2025-06-10T21:26:27.092Z"
      },
      {
        "duration": 8,
        "start_time": "2025-06-10T21:26:27.101Z"
      },
      {
        "duration": 25,
        "start_time": "2025-06-10T21:26:27.110Z"
      },
      {
        "duration": 69,
        "start_time": "2025-06-10T21:26:27.137Z"
      },
      {
        "duration": 27,
        "start_time": "2025-06-10T21:26:27.208Z"
      },
      {
        "duration": 42,
        "start_time": "2025-06-10T21:26:27.237Z"
      },
      {
        "duration": 85,
        "start_time": "2025-06-10T21:26:27.283Z"
      },
      {
        "duration": 83,
        "start_time": "2025-06-10T21:26:27.370Z"
      },
      {
        "duration": 281,
        "start_time": "2025-06-10T21:26:27.454Z"
      },
      {
        "duration": 15,
        "start_time": "2025-06-10T21:26:27.736Z"
      },
      {
        "duration": 40,
        "start_time": "2025-06-10T21:26:27.753Z"
      },
      {
        "duration": 9,
        "start_time": "2025-06-10T21:26:27.795Z"
      },
      {
        "duration": 22,
        "start_time": "2025-06-10T21:26:27.806Z"
      },
      {
        "duration": 2460,
        "start_time": "2025-06-10T21:26:27.830Z"
      },
      {
        "duration": 19,
        "start_time": "2025-06-10T21:26:30.292Z"
      },
      {
        "duration": 31,
        "start_time": "2025-06-10T21:26:30.312Z"
      },
      {
        "duration": 49,
        "start_time": "2025-06-10T21:26:30.345Z"
      },
      {
        "duration": 2385,
        "start_time": "2025-06-10T21:26:30.396Z"
      },
      {
        "duration": 24,
        "start_time": "2025-06-10T21:26:32.782Z"
      },
      {
        "duration": 27232,
        "start_time": "2025-06-10T21:26:32.808Z"
      },
      {
        "duration": 21,
        "start_time": "2025-06-10T21:27:00.042Z"
      },
      {
        "duration": 44,
        "start_time": "2025-06-10T21:27:00.077Z"
      },
      {
        "duration": 2934,
        "start_time": "2025-06-10T21:27:00.123Z"
      },
      {
        "duration": 35,
        "start_time": "2025-06-10T21:27:03.058Z"
      },
      {
        "duration": 8,
        "start_time": "2025-06-10T21:27:03.094Z"
      },
      {
        "duration": 19,
        "start_time": "2025-06-10T21:27:03.104Z"
      },
      {
        "duration": 3037,
        "start_time": "2025-06-10T21:27:03.124Z"
      },
      {
        "duration": 2781,
        "start_time": "2025-06-10T21:27:06.163Z"
      },
      {
        "duration": 1952,
        "start_time": "2025-06-10T21:27:08.946Z"
      },
      {
        "duration": 2830,
        "start_time": "2025-06-10T21:27:10.899Z"
      },
      {
        "duration": 18,
        "start_time": "2025-06-10T21:27:13.731Z"
      },
      {
        "duration": 1270,
        "start_time": "2025-06-10T21:27:13.751Z"
      },
      {
        "duration": 883,
        "start_time": "2025-06-10T21:27:15.024Z"
      },
      {
        "duration": 358,
        "start_time": "2025-06-10T21:27:15.909Z"
      },
      {
        "duration": 881,
        "start_time": "2025-06-10T21:27:16.275Z"
      },
      {
        "duration": 826,
        "start_time": "2025-06-10T21:27:17.158Z"
      },
      {
        "duration": 9,
        "start_time": "2025-06-10T21:27:17.986Z"
      },
      {
        "duration": 11582,
        "start_time": "2025-06-10T21:27:17.997Z"
      },
      {
        "duration": 44,
        "start_time": "2025-06-10T21:27:29.581Z"
      },
      {
        "duration": 6,
        "start_time": "2025-06-10T21:27:29.627Z"
      },
      {
        "duration": 6,
        "start_time": "2025-06-10T21:27:29.634Z"
      },
      {
        "duration": 19,
        "start_time": "2025-06-10T21:27:29.641Z"
      },
      {
        "duration": 5,
        "start_time": "2025-06-10T21:27:29.677Z"
      },
      {
        "duration": 20,
        "start_time": "2025-06-10T21:27:29.684Z"
      },
      {
        "duration": 105,
        "start_time": "2025-06-10T21:27:29.706Z"
      },
      {
        "duration": 0,
        "start_time": "2025-06-10T21:27:29.813Z"
      },
      {
        "duration": 0,
        "start_time": "2025-06-10T21:27:29.814Z"
      },
      {
        "duration": 0,
        "start_time": "2025-06-10T21:27:29.815Z"
      },
      {
        "duration": 0,
        "start_time": "2025-06-10T21:27:29.816Z"
      },
      {
        "duration": 0,
        "start_time": "2025-06-10T21:27:29.817Z"
      },
      {
        "duration": 0,
        "start_time": "2025-06-10T21:27:29.819Z"
      },
      {
        "duration": 0,
        "start_time": "2025-06-10T21:27:29.820Z"
      },
      {
        "duration": 0,
        "start_time": "2025-06-10T21:27:29.820Z"
      },
      {
        "duration": 0,
        "start_time": "2025-06-10T21:27:29.822Z"
      },
      {
        "duration": 0,
        "start_time": "2025-06-10T21:27:29.823Z"
      },
      {
        "duration": 0,
        "start_time": "2025-06-10T21:27:29.824Z"
      },
      {
        "duration": 0,
        "start_time": "2025-06-10T21:27:29.825Z"
      },
      {
        "duration": 0,
        "start_time": "2025-06-10T21:27:29.826Z"
      },
      {
        "duration": 0,
        "start_time": "2025-06-10T21:27:29.827Z"
      },
      {
        "duration": 0,
        "start_time": "2025-06-10T21:27:29.828Z"
      },
      {
        "duration": 8,
        "start_time": "2025-06-10T21:27:47.985Z"
      },
      {
        "duration": 9,
        "start_time": "2025-06-10T21:27:50.918Z"
      },
      {
        "duration": 7,
        "start_time": "2025-06-10T21:27:53.108Z"
      },
      {
        "duration": 8,
        "start_time": "2025-06-10T21:27:54.217Z"
      },
      {
        "duration": 1644,
        "start_time": "2025-06-10T21:33:17.362Z"
      },
      {
        "duration": 3,
        "start_time": "2025-06-10T21:33:19.008Z"
      },
      {
        "duration": 110,
        "start_time": "2025-06-10T21:33:20.332Z"
      },
      {
        "duration": 11896,
        "start_time": "2025-06-10T21:33:29.758Z"
      },
      {
        "duration": 968,
        "start_time": "2025-06-10T21:33:41.656Z"
      },
      {
        "duration": 66,
        "start_time": "2025-06-10T21:33:42.626Z"
      },
      {
        "duration": 15,
        "start_time": "2025-06-10T21:33:42.693Z"
      },
      {
        "duration": 1353,
        "start_time": "2025-06-10T21:33:42.710Z"
      },
      {
        "duration": 68,
        "start_time": "2025-06-10T21:33:44.065Z"
      },
      {
        "duration": 27,
        "start_time": "2025-06-10T21:33:44.135Z"
      },
      {
        "duration": 577,
        "start_time": "2025-06-10T21:33:44.164Z"
      },
      {
        "duration": 1043,
        "start_time": "2025-06-10T21:33:44.742Z"
      },
      {
        "duration": 24,
        "start_time": "2025-06-10T21:33:45.787Z"
      },
      {
        "duration": 102,
        "start_time": "2025-06-10T21:33:45.813Z"
      },
      {
        "duration": 22,
        "start_time": "2025-06-10T21:33:45.917Z"
      },
      {
        "duration": 54,
        "start_time": "2025-06-10T21:33:45.940Z"
      },
      {
        "duration": 62,
        "start_time": "2025-06-10T21:33:45.997Z"
      },
      {
        "duration": 7,
        "start_time": "2025-06-10T21:33:46.060Z"
      },
      {
        "duration": 14,
        "start_time": "2025-06-10T21:33:46.069Z"
      },
      {
        "duration": 25,
        "start_time": "2025-06-10T21:33:46.084Z"
      },
      {
        "duration": 50,
        "start_time": "2025-06-10T21:33:46.110Z"
      },
      {
        "duration": 39,
        "start_time": "2025-06-10T21:33:46.162Z"
      },
      {
        "duration": 25,
        "start_time": "2025-06-10T21:33:46.202Z"
      },
      {
        "duration": 38,
        "start_time": "2025-06-10T21:33:46.229Z"
      },
      {
        "duration": 12,
        "start_time": "2025-06-10T21:33:46.268Z"
      },
      {
        "duration": 8,
        "start_time": "2025-06-10T21:33:46.282Z"
      },
      {
        "duration": 24,
        "start_time": "2025-06-10T21:33:46.292Z"
      },
      {
        "duration": 72,
        "start_time": "2025-06-10T21:33:46.318Z"
      },
      {
        "duration": 28,
        "start_time": "2025-06-10T21:33:46.392Z"
      },
      {
        "duration": 73,
        "start_time": "2025-06-10T21:33:46.422Z"
      },
      {
        "duration": 145,
        "start_time": "2025-06-10T21:33:46.497Z"
      },
      {
        "duration": 31,
        "start_time": "2025-06-10T21:33:46.645Z"
      },
      {
        "duration": 284,
        "start_time": "2025-06-10T21:33:46.678Z"
      },
      {
        "duration": 18,
        "start_time": "2025-06-10T21:33:46.964Z"
      },
      {
        "duration": 34,
        "start_time": "2025-06-10T21:33:46.984Z"
      },
      {
        "duration": 8,
        "start_time": "2025-06-10T21:33:47.020Z"
      },
      {
        "duration": 23,
        "start_time": "2025-06-10T21:33:47.030Z"
      },
      {
        "duration": 2563,
        "start_time": "2025-06-10T21:33:47.055Z"
      },
      {
        "duration": 20,
        "start_time": "2025-06-10T21:33:49.620Z"
      },
      {
        "duration": 50,
        "start_time": "2025-06-10T21:33:49.642Z"
      },
      {
        "duration": 29,
        "start_time": "2025-06-10T21:33:49.694Z"
      },
      {
        "duration": 2508,
        "start_time": "2025-06-10T21:33:49.725Z"
      },
      {
        "duration": 27,
        "start_time": "2025-06-10T21:33:52.234Z"
      },
      {
        "duration": 27156,
        "start_time": "2025-06-10T21:33:52.276Z"
      },
      {
        "duration": 18,
        "start_time": "2025-06-10T21:34:19.434Z"
      },
      {
        "duration": 51,
        "start_time": "2025-06-10T21:34:19.454Z"
      },
      {
        "duration": 2856,
        "start_time": "2025-06-10T21:34:19.507Z"
      },
      {
        "duration": 27,
        "start_time": "2025-06-10T21:34:22.365Z"
      },
      {
        "duration": 7,
        "start_time": "2025-06-10T21:34:22.394Z"
      },
      {
        "duration": 18,
        "start_time": "2025-06-10T21:34:22.403Z"
      },
      {
        "duration": 2990,
        "start_time": "2025-06-10T21:34:22.423Z"
      },
      {
        "duration": 2818,
        "start_time": "2025-06-10T21:34:25.414Z"
      },
      {
        "duration": 1950,
        "start_time": "2025-06-10T21:34:28.234Z"
      },
      {
        "duration": 2887,
        "start_time": "2025-06-10T21:34:30.185Z"
      },
      {
        "duration": 16,
        "start_time": "2025-06-10T21:34:33.076Z"
      },
      {
        "duration": 1313,
        "start_time": "2025-06-10T21:34:33.094Z"
      },
      {
        "duration": 844,
        "start_time": "2025-06-10T21:34:34.408Z"
      },
      {
        "duration": 369,
        "start_time": "2025-06-10T21:34:35.254Z"
      },
      {
        "duration": 902,
        "start_time": "2025-06-10T21:34:35.625Z"
      },
      {
        "duration": 821,
        "start_time": "2025-06-10T21:34:36.529Z"
      },
      {
        "duration": 9,
        "start_time": "2025-06-10T21:34:37.352Z"
      },
      {
        "duration": 11106,
        "start_time": "2025-06-10T21:34:37.363Z"
      },
      {
        "duration": 46,
        "start_time": "2025-06-10T21:34:48.471Z"
      },
      {
        "duration": 5,
        "start_time": "2025-06-10T21:34:48.519Z"
      },
      {
        "duration": 5,
        "start_time": "2025-06-10T21:34:48.525Z"
      },
      {
        "duration": 4,
        "start_time": "2025-06-10T21:34:48.532Z"
      },
      {
        "duration": 42,
        "start_time": "2025-06-10T21:34:48.538Z"
      },
      {
        "duration": 13,
        "start_time": "2025-06-10T21:34:48.581Z"
      },
      {
        "duration": 9,
        "start_time": "2025-06-10T21:34:48.595Z"
      },
      {
        "duration": 23,
        "start_time": "2025-06-10T21:34:48.606Z"
      },
      {
        "duration": 9,
        "start_time": "2025-06-10T21:34:48.630Z"
      },
      {
        "duration": 13176,
        "start_time": "2025-06-10T21:37:57.629Z"
      },
      {
        "duration": 938,
        "start_time": "2025-06-10T21:38:10.807Z"
      },
      {
        "duration": 61,
        "start_time": "2025-06-10T21:38:14.214Z"
      },
      {
        "duration": 13,
        "start_time": "2025-06-10T21:38:17.482Z"
      },
      {
        "duration": 1317,
        "start_time": "2025-06-10T21:38:19.619Z"
      },
      {
        "duration": 59,
        "start_time": "2025-06-10T21:38:23.610Z"
      },
      {
        "duration": 12446,
        "start_time": "2025-06-10T21:38:47.370Z"
      },
      {
        "duration": 935,
        "start_time": "2025-06-10T21:38:59.818Z"
      },
      {
        "duration": 60,
        "start_time": "2025-06-10T21:39:04.456Z"
      },
      {
        "duration": 14,
        "start_time": "2025-06-10T21:39:05.969Z"
      },
      {
        "duration": 1359,
        "start_time": "2025-06-10T21:39:10.359Z"
      },
      {
        "duration": 58,
        "start_time": "2025-06-10T21:39:17.210Z"
      },
      {
        "duration": 18,
        "start_time": "2025-06-10T21:39:18.220Z"
      },
      {
        "duration": 525,
        "start_time": "2025-06-10T21:39:21.048Z"
      },
      {
        "duration": 978,
        "start_time": "2025-06-10T21:39:22.700Z"
      },
      {
        "duration": 24,
        "start_time": "2025-06-10T21:39:24.637Z"
      },
      {
        "duration": 47,
        "start_time": "2025-06-10T21:39:25.965Z"
      },
      {
        "duration": 22,
        "start_time": "2025-06-10T21:39:27.432Z"
      },
      {
        "duration": 7,
        "start_time": "2025-06-10T21:39:29.628Z"
      },
      {
        "duration": 60,
        "start_time": "2025-06-10T21:39:31.284Z"
      },
      {
        "duration": 8,
        "start_time": "2025-06-10T21:39:32.033Z"
      },
      {
        "duration": 8,
        "start_time": "2025-06-10T21:39:33.803Z"
      },
      {
        "duration": 24,
        "start_time": "2025-06-10T21:39:35.255Z"
      },
      {
        "duration": 45,
        "start_time": "2025-06-10T21:39:36.727Z"
      },
      {
        "duration": 26,
        "start_time": "2025-06-10T21:39:39.178Z"
      },
      {
        "duration": 25,
        "start_time": "2025-06-10T21:39:40.904Z"
      },
      {
        "duration": 20,
        "start_time": "2025-06-10T21:39:41.618Z"
      },
      {
        "duration": 84,
        "start_time": "2025-06-10T21:39:42.983Z"
      },
      {
        "duration": 7,
        "start_time": "2025-06-10T21:39:44.406Z"
      },
      {
        "duration": 24,
        "start_time": "2025-06-10T21:39:46.455Z"
      },
      {
        "duration": 41,
        "start_time": "2025-06-10T21:39:47.385Z"
      },
      {
        "duration": 29,
        "start_time": "2025-06-10T21:39:48.819Z"
      },
      {
        "duration": 24,
        "start_time": "2025-06-10T21:39:51.165Z"
      },
      {
        "duration": 45,
        "start_time": "2025-06-10T21:39:52.552Z"
      },
      {
        "duration": 25,
        "start_time": "2025-06-10T21:39:53.501Z"
      },
      {
        "duration": 281,
        "start_time": "2025-06-10T21:39:57.283Z"
      },
      {
        "duration": 14,
        "start_time": "2025-06-10T21:39:58.357Z"
      },
      {
        "duration": 28,
        "start_time": "2025-06-10T21:39:59.185Z"
      },
      {
        "duration": 9,
        "start_time": "2025-06-10T21:40:01.941Z"
      },
      {
        "duration": 24,
        "start_time": "2025-06-10T21:40:04.231Z"
      },
      {
        "duration": 2319,
        "start_time": "2025-06-10T21:40:06.493Z"
      },
      {
        "duration": 19,
        "start_time": "2025-06-10T21:40:10.860Z"
      },
      {
        "duration": 33,
        "start_time": "2025-06-10T21:40:12.135Z"
      },
      {
        "duration": 27,
        "start_time": "2025-06-10T21:40:12.802Z"
      },
      {
        "duration": 2394,
        "start_time": "2025-06-10T21:40:13.437Z"
      },
      {
        "duration": 25,
        "start_time": "2025-06-10T21:40:15.833Z"
      },
      {
        "duration": 27036,
        "start_time": "2025-06-10T21:40:19.065Z"
      },
      {
        "duration": 20,
        "start_time": "2025-06-10T21:40:48.832Z"
      },
      {
        "duration": 34,
        "start_time": "2025-06-10T21:40:50.383Z"
      },
      {
        "duration": 2844,
        "start_time": "2025-06-10T21:40:51.198Z"
      },
      {
        "duration": 33,
        "start_time": "2025-06-10T21:40:54.044Z"
      },
      {
        "duration": 8,
        "start_time": "2025-06-10T21:40:56.737Z"
      },
      {
        "duration": 18,
        "start_time": "2025-06-10T21:40:58.319Z"
      },
      {
        "duration": 2973,
        "start_time": "2025-06-10T21:41:04.247Z"
      },
      {
        "duration": 2857,
        "start_time": "2025-06-10T21:41:09.568Z"
      },
      {
        "duration": 1944,
        "start_time": "2025-06-10T21:41:14.807Z"
      },
      {
        "duration": 2774,
        "start_time": "2025-06-10T21:41:17.083Z"
      },
      {
        "duration": 18,
        "start_time": "2025-06-10T21:41:21.790Z"
      },
      {
        "duration": 1452,
        "start_time": "2025-06-10T21:41:23.630Z"
      },
      {
        "duration": 861,
        "start_time": "2025-06-10T21:41:26.715Z"
      },
      {
        "duration": 375,
        "start_time": "2025-06-10T21:41:29.474Z"
      },
      {
        "duration": 883,
        "start_time": "2025-06-10T21:41:31.976Z"
      },
      {
        "duration": 830,
        "start_time": "2025-06-10T21:41:34.531Z"
      },
      {
        "duration": 9,
        "start_time": "2025-06-10T21:41:38.527Z"
      },
      {
        "duration": 11045,
        "start_time": "2025-06-10T21:41:39.460Z"
      },
      {
        "duration": 46,
        "start_time": "2025-06-10T21:41:51.594Z"
      },
      {
        "duration": 5,
        "start_time": "2025-06-10T21:41:53.214Z"
      },
      {
        "duration": 5,
        "start_time": "2025-06-10T21:41:54.009Z"
      },
      {
        "duration": 5,
        "start_time": "2025-06-10T21:42:04.201Z"
      },
      {
        "duration": 5,
        "start_time": "2025-06-10T21:42:04.966Z"
      },
      {
        "duration": 5,
        "start_time": "2025-06-10T21:42:05.511Z"
      },
      {
        "duration": 9,
        "start_time": "2025-06-10T21:42:06.781Z"
      },
      {
        "duration": 8,
        "start_time": "2025-06-10T21:42:09.078Z"
      },
      {
        "duration": 8,
        "start_time": "2025-06-10T21:42:10.522Z"
      },
      {
        "duration": 13323,
        "start_time": "2025-06-10T21:43:41.551Z"
      },
      {
        "duration": 921,
        "start_time": "2025-06-10T21:43:54.876Z"
      },
      {
        "duration": 59,
        "start_time": "2025-06-10T21:43:55.799Z"
      },
      {
        "duration": 28,
        "start_time": "2025-06-10T21:43:55.860Z"
      },
      {
        "duration": 1395,
        "start_time": "2025-06-10T21:43:55.891Z"
      },
      {
        "duration": 57,
        "start_time": "2025-06-10T21:43:57.288Z"
      },
      {
        "duration": 38,
        "start_time": "2025-06-10T21:43:57.347Z"
      },
      {
        "duration": 478,
        "start_time": "2025-06-10T21:43:57.387Z"
      },
      {
        "duration": 1003,
        "start_time": "2025-06-10T21:43:57.867Z"
      },
      {
        "duration": 23,
        "start_time": "2025-06-10T21:43:58.876Z"
      },
      {
        "duration": 51,
        "start_time": "2025-06-10T21:43:58.901Z"
      },
      {
        "duration": 33,
        "start_time": "2025-06-10T21:43:58.954Z"
      },
      {
        "duration": 8,
        "start_time": "2025-06-10T21:43:58.988Z"
      },
      {
        "duration": 80,
        "start_time": "2025-06-10T21:43:58.999Z"
      },
      {
        "duration": 6,
        "start_time": "2025-06-10T21:43:59.080Z"
      },
      {
        "duration": 13,
        "start_time": "2025-06-10T21:43:59.088Z"
      },
      {
        "duration": 26,
        "start_time": "2025-06-10T21:43:59.103Z"
      },
      {
        "duration": 68,
        "start_time": "2025-06-10T21:43:59.130Z"
      },
      {
        "duration": 29,
        "start_time": "2025-06-10T21:43:59.200Z"
      },
      {
        "duration": 117,
        "start_time": "2025-06-10T21:43:59.231Z"
      },
      {
        "duration": 45,
        "start_time": "2025-06-10T21:43:59.350Z"
      },
      {
        "duration": 8,
        "start_time": "2025-06-10T21:43:59.397Z"
      },
      {
        "duration": 50,
        "start_time": "2025-06-10T21:43:59.407Z"
      },
      {
        "duration": 26,
        "start_time": "2025-06-10T21:43:59.459Z"
      },
      {
        "duration": 40,
        "start_time": "2025-06-10T21:43:59.487Z"
      },
      {
        "duration": 47,
        "start_time": "2025-06-10T21:43:59.529Z"
      },
      {
        "duration": 24,
        "start_time": "2025-06-10T21:43:59.578Z"
      },
      {
        "duration": 45,
        "start_time": "2025-06-10T21:43:59.604Z"
      },
      {
        "duration": 39,
        "start_time": "2025-06-10T21:43:59.651Z"
      },
      {
        "duration": 321,
        "start_time": "2025-06-10T21:43:59.692Z"
      },
      {
        "duration": 22,
        "start_time": "2025-06-10T21:44:00.015Z"
      },
      {
        "duration": 63,
        "start_time": "2025-06-10T21:44:00.039Z"
      },
      {
        "duration": 9,
        "start_time": "2025-06-10T21:44:00.105Z"
      },
      {
        "duration": 23,
        "start_time": "2025-06-10T21:44:00.116Z"
      },
      {
        "duration": 2487,
        "start_time": "2025-06-10T21:44:00.141Z"
      },
      {
        "duration": 21,
        "start_time": "2025-06-10T21:44:02.630Z"
      },
      {
        "duration": 52,
        "start_time": "2025-06-10T21:44:02.653Z"
      },
      {
        "duration": 31,
        "start_time": "2025-06-10T21:44:02.707Z"
      },
      {
        "duration": 2372,
        "start_time": "2025-06-10T21:44:02.740Z"
      },
      {
        "duration": 26,
        "start_time": "2025-06-10T21:44:05.114Z"
      },
      {
        "duration": 27906,
        "start_time": "2025-06-10T21:44:05.147Z"
      },
      {
        "duration": 29,
        "start_time": "2025-06-10T21:44:33.055Z"
      },
      {
        "duration": 37,
        "start_time": "2025-06-10T21:44:33.085Z"
      },
      {
        "duration": 2844,
        "start_time": "2025-06-10T21:44:33.124Z"
      },
      {
        "duration": 28,
        "start_time": "2025-06-10T21:44:35.970Z"
      },
      {
        "duration": 8,
        "start_time": "2025-06-10T21:44:35.999Z"
      },
      {
        "duration": 20,
        "start_time": "2025-06-10T21:44:36.009Z"
      },
      {
        "duration": 28,
        "start_time": "2025-06-10T21:44:36.030Z"
      },
      {
        "duration": 10,
        "start_time": "2025-06-10T21:44:36.060Z"
      },
      {
        "duration": 20,
        "start_time": "2025-06-10T21:44:36.072Z"
      },
      {
        "duration": 8,
        "start_time": "2025-06-10T21:44:36.094Z"
      },
      {
        "duration": 22,
        "start_time": "2025-06-10T21:44:36.104Z"
      },
      {
        "duration": 32,
        "start_time": "2025-06-10T21:44:36.127Z"
      },
      {
        "duration": 9,
        "start_time": "2025-06-10T21:44:36.161Z"
      },
      {
        "duration": 8,
        "start_time": "2025-06-10T21:44:36.172Z"
      },
      {
        "duration": 20,
        "start_time": "2025-06-10T21:44:36.182Z"
      },
      {
        "duration": 28,
        "start_time": "2025-06-10T21:44:36.204Z"
      },
      {
        "duration": 27,
        "start_time": "2025-06-10T21:44:36.234Z"
      },
      {
        "duration": 10858,
        "start_time": "2025-06-10T21:44:36.263Z"
      },
      {
        "duration": 63,
        "start_time": "2025-06-10T21:44:47.124Z"
      },
      {
        "duration": 5,
        "start_time": "2025-06-10T21:44:47.189Z"
      },
      {
        "duration": 6,
        "start_time": "2025-06-10T21:44:47.196Z"
      },
      {
        "duration": 5,
        "start_time": "2025-06-10T21:44:47.204Z"
      },
      {
        "duration": 6,
        "start_time": "2025-06-10T21:44:47.211Z"
      },
      {
        "duration": 5,
        "start_time": "2025-06-10T21:44:47.219Z"
      },
      {
        "duration": 51,
        "start_time": "2025-06-10T21:44:47.226Z"
      },
      {
        "duration": 8,
        "start_time": "2025-06-10T21:44:47.279Z"
      },
      {
        "duration": 8,
        "start_time": "2025-06-10T21:44:47.288Z"
      },
      {
        "duration": 7589,
        "start_time": "2025-06-10T21:48:18.261Z"
      },
      {
        "duration": 953,
        "start_time": "2025-06-10T21:48:25.853Z"
      },
      {
        "duration": 68,
        "start_time": "2025-06-10T21:48:26.808Z"
      },
      {
        "duration": 13,
        "start_time": "2025-06-10T21:48:26.878Z"
      },
      {
        "duration": 1341,
        "start_time": "2025-06-10T21:48:26.893Z"
      },
      {
        "duration": 62,
        "start_time": "2025-06-10T21:48:28.236Z"
      },
      {
        "duration": 20,
        "start_time": "2025-06-10T21:48:28.299Z"
      },
      {
        "duration": 547,
        "start_time": "2025-06-10T21:48:28.320Z"
      },
      {
        "duration": 1042,
        "start_time": "2025-06-10T21:48:28.876Z"
      },
      {
        "duration": 26,
        "start_time": "2025-06-10T21:48:29.920Z"
      },
      {
        "duration": 155,
        "start_time": "2025-06-10T21:48:29.948Z"
      },
      {
        "duration": 39,
        "start_time": "2025-06-10T21:48:30.104Z"
      },
      {
        "duration": 46,
        "start_time": "2025-06-10T21:48:30.144Z"
      },
      {
        "duration": 99,
        "start_time": "2025-06-10T21:48:30.191Z"
      },
      {
        "duration": 6,
        "start_time": "2025-06-10T21:48:30.292Z"
      },
      {
        "duration": 53,
        "start_time": "2025-06-10T21:48:30.300Z"
      },
      {
        "duration": 56,
        "start_time": "2025-06-10T21:48:30.355Z"
      },
      {
        "duration": 79,
        "start_time": "2025-06-10T21:48:30.412Z"
      },
      {
        "duration": 28,
        "start_time": "2025-06-10T21:48:30.493Z"
      },
      {
        "duration": 123,
        "start_time": "2025-06-10T21:48:30.522Z"
      },
      {
        "duration": 38,
        "start_time": "2025-06-10T21:48:30.647Z"
      },
      {
        "duration": 8,
        "start_time": "2025-06-10T21:48:30.686Z"
      },
      {
        "duration": 7,
        "start_time": "2025-06-10T21:48:30.696Z"
      },
      {
        "duration": 29,
        "start_time": "2025-06-10T21:48:30.705Z"
      },
      {
        "duration": 65,
        "start_time": "2025-06-10T21:48:30.735Z"
      },
      {
        "duration": 29,
        "start_time": "2025-06-10T21:48:30.801Z"
      },
      {
        "duration": 46,
        "start_time": "2025-06-10T21:48:30.832Z"
      },
      {
        "duration": 45,
        "start_time": "2025-06-10T21:48:30.883Z"
      },
      {
        "duration": 24,
        "start_time": "2025-06-10T21:48:30.930Z"
      },
      {
        "duration": 299,
        "start_time": "2025-06-10T21:48:30.977Z"
      },
      {
        "duration": 15,
        "start_time": "2025-06-10T21:48:31.278Z"
      },
      {
        "duration": 30,
        "start_time": "2025-06-10T21:48:31.294Z"
      },
      {
        "duration": 10,
        "start_time": "2025-06-10T21:48:31.325Z"
      },
      {
        "duration": 46,
        "start_time": "2025-06-10T21:48:31.337Z"
      },
      {
        "duration": 2621,
        "start_time": "2025-06-10T21:48:31.385Z"
      },
      {
        "duration": 20,
        "start_time": "2025-06-10T21:48:34.007Z"
      },
      {
        "duration": 52,
        "start_time": "2025-06-10T21:48:34.029Z"
      },
      {
        "duration": 31,
        "start_time": "2025-06-10T21:48:34.083Z"
      },
      {
        "duration": 2498,
        "start_time": "2025-06-10T21:48:34.115Z"
      },
      {
        "duration": 23,
        "start_time": "2025-06-10T21:48:36.615Z"
      },
      {
        "duration": 27428,
        "start_time": "2025-06-10T21:48:36.640Z"
      },
      {
        "duration": 24,
        "start_time": "2025-06-10T21:49:04.070Z"
      },
      {
        "duration": 35,
        "start_time": "2025-06-10T21:49:04.096Z"
      },
      {
        "duration": 2935,
        "start_time": "2025-06-10T21:49:04.133Z"
      },
      {
        "duration": 22,
        "start_time": "2025-06-10T21:49:07.076Z"
      },
      {
        "duration": 8,
        "start_time": "2025-06-10T21:49:07.100Z"
      },
      {
        "duration": 21,
        "start_time": "2025-06-10T21:49:07.109Z"
      },
      {
        "duration": 21,
        "start_time": "2025-06-10T21:49:07.132Z"
      },
      {
        "duration": 9,
        "start_time": "2025-06-10T21:49:07.154Z"
      },
      {
        "duration": 13,
        "start_time": "2025-06-10T21:49:07.165Z"
      },
      {
        "duration": 4,
        "start_time": "2025-06-10T21:49:07.179Z"
      },
      {
        "duration": 20,
        "start_time": "2025-06-10T21:49:07.185Z"
      },
      {
        "duration": 7,
        "start_time": "2025-06-10T21:49:07.206Z"
      },
      {
        "duration": 4,
        "start_time": "2025-06-10T21:49:07.214Z"
      },
      {
        "duration": 4,
        "start_time": "2025-06-10T21:49:07.219Z"
      },
      {
        "duration": 35,
        "start_time": "2025-06-10T21:49:07.224Z"
      },
      {
        "duration": 4,
        "start_time": "2025-06-10T21:49:07.260Z"
      },
      {
        "duration": 11,
        "start_time": "2025-06-10T21:49:07.266Z"
      },
      {
        "duration": 10826,
        "start_time": "2025-06-10T21:49:07.278Z"
      },
      {
        "duration": 49,
        "start_time": "2025-06-10T21:49:18.106Z"
      },
      {
        "duration": 21,
        "start_time": "2025-06-10T21:49:18.157Z"
      },
      {
        "duration": 6,
        "start_time": "2025-06-10T21:49:18.179Z"
      },
      {
        "duration": 5,
        "start_time": "2025-06-10T21:49:18.187Z"
      },
      {
        "duration": 6,
        "start_time": "2025-06-10T21:49:18.193Z"
      },
      {
        "duration": 5,
        "start_time": "2025-06-10T21:49:18.200Z"
      },
      {
        "duration": 8,
        "start_time": "2025-06-10T21:49:18.206Z"
      },
      {
        "duration": 7,
        "start_time": "2025-06-10T21:49:18.216Z"
      },
      {
        "duration": 8,
        "start_time": "2025-06-10T21:49:18.225Z"
      },
      {
        "duration": 8,
        "start_time": "2025-06-10T21:49:46.358Z"
      },
      {
        "duration": 5215,
        "start_time": "2025-06-10T21:50:48.537Z"
      },
      {
        "duration": 915,
        "start_time": "2025-06-10T21:50:53.754Z"
      },
      {
        "duration": 60,
        "start_time": "2025-06-10T21:50:54.670Z"
      },
      {
        "duration": 5,
        "start_time": "2025-06-10T21:50:54.732Z"
      },
      {
        "duration": 1432,
        "start_time": "2025-06-10T21:50:54.740Z"
      },
      {
        "duration": 56,
        "start_time": "2025-06-10T21:50:56.174Z"
      },
      {
        "duration": 6,
        "start_time": "2025-06-10T21:50:56.232Z"
      },
      {
        "duration": 536,
        "start_time": "2025-06-10T21:50:56.240Z"
      },
      {
        "duration": 1018,
        "start_time": "2025-06-10T21:50:56.779Z"
      },
      {
        "duration": 23,
        "start_time": "2025-06-10T21:50:57.799Z"
      },
      {
        "duration": 60,
        "start_time": "2025-06-10T21:50:57.824Z"
      },
      {
        "duration": 18,
        "start_time": "2025-06-10T21:50:57.886Z"
      },
      {
        "duration": 5,
        "start_time": "2025-06-10T21:50:57.906Z"
      },
      {
        "duration": 76,
        "start_time": "2025-06-10T21:50:57.914Z"
      },
      {
        "duration": 3,
        "start_time": "2025-06-10T21:50:57.991Z"
      },
      {
        "duration": 25,
        "start_time": "2025-06-10T21:50:57.996Z"
      },
      {
        "duration": 25,
        "start_time": "2025-06-10T21:50:58.023Z"
      },
      {
        "duration": 47,
        "start_time": "2025-06-10T21:50:58.050Z"
      },
      {
        "duration": 25,
        "start_time": "2025-06-10T21:50:58.099Z"
      },
      {
        "duration": 25,
        "start_time": "2025-06-10T21:50:58.126Z"
      },
      {
        "duration": 19,
        "start_time": "2025-06-10T21:50:58.176Z"
      },
      {
        "duration": 4,
        "start_time": "2025-06-10T21:50:58.197Z"
      },
      {
        "duration": 9,
        "start_time": "2025-06-10T21:50:58.202Z"
      },
      {
        "duration": 22,
        "start_time": "2025-06-10T21:50:58.212Z"
      },
      {
        "duration": 66,
        "start_time": "2025-06-10T21:50:58.236Z"
      },
      {
        "duration": 24,
        "start_time": "2025-06-10T21:50:58.303Z"
      },
      {
        "duration": 22,
        "start_time": "2025-06-10T21:50:58.329Z"
      },
      {
        "duration": 63,
        "start_time": "2025-06-10T21:50:58.352Z"
      },
      {
        "duration": 21,
        "start_time": "2025-06-10T21:50:58.416Z"
      },
      {
        "duration": 297,
        "start_time": "2025-06-10T21:50:58.438Z"
      },
      {
        "duration": 12,
        "start_time": "2025-06-10T21:50:58.736Z"
      },
      {
        "duration": 41,
        "start_time": "2025-06-10T21:50:58.749Z"
      },
      {
        "duration": 3,
        "start_time": "2025-06-10T21:50:58.791Z"
      },
      {
        "duration": 6,
        "start_time": "2025-06-10T21:50:58.795Z"
      },
      {
        "duration": 2505,
        "start_time": "2025-06-10T21:50:58.802Z"
      },
      {
        "duration": 18,
        "start_time": "2025-06-10T21:51:01.309Z"
      },
      {
        "duration": 47,
        "start_time": "2025-06-10T21:51:01.329Z"
      },
      {
        "duration": 30,
        "start_time": "2025-06-10T21:51:01.379Z"
      },
      {
        "duration": 2497,
        "start_time": "2025-06-10T21:51:01.410Z"
      },
      {
        "duration": 22,
        "start_time": "2025-06-10T21:51:03.908Z"
      },
      {
        "duration": 26564,
        "start_time": "2025-06-10T21:51:03.934Z"
      },
      {
        "duration": 17,
        "start_time": "2025-06-10T21:51:30.500Z"
      },
      {
        "duration": 158,
        "start_time": "2025-06-10T21:51:30.519Z"
      },
      {
        "duration": 3898,
        "start_time": "2025-06-10T21:51:30.678Z"
      },
      {
        "duration": 20,
        "start_time": "2025-06-10T21:51:34.578Z"
      },
      {
        "duration": 77,
        "start_time": "2025-06-10T21:51:34.600Z"
      },
      {
        "duration": 6,
        "start_time": "2025-06-10T21:51:34.678Z"
      },
      {
        "duration": 7,
        "start_time": "2025-06-10T21:51:34.686Z"
      },
      {
        "duration": 6,
        "start_time": "2025-06-10T21:51:34.695Z"
      },
      {
        "duration": 7,
        "start_time": "2025-06-10T21:51:34.703Z"
      },
      {
        "duration": 4,
        "start_time": "2025-06-10T21:51:34.712Z"
      },
      {
        "duration": 5,
        "start_time": "2025-06-10T21:51:34.718Z"
      },
      {
        "duration": 34,
        "start_time": "2025-06-10T21:51:34.724Z"
      },
      {
        "duration": 6,
        "start_time": "2025-06-10T21:51:34.761Z"
      },
      {
        "duration": 9,
        "start_time": "2025-06-10T21:51:34.769Z"
      },
      {
        "duration": 4,
        "start_time": "2025-06-10T21:51:34.779Z"
      },
      {
        "duration": 12,
        "start_time": "2025-06-10T21:51:34.785Z"
      },
      {
        "duration": 5,
        "start_time": "2025-06-10T21:51:34.799Z"
      },
      {
        "duration": 9586,
        "start_time": "2025-06-10T21:51:34.806Z"
      },
      {
        "duration": 39,
        "start_time": "2025-06-10T21:51:44.394Z"
      },
      {
        "duration": 4,
        "start_time": "2025-06-10T21:51:44.434Z"
      },
      {
        "duration": 11,
        "start_time": "2025-06-10T21:51:44.439Z"
      },
      {
        "duration": 24,
        "start_time": "2025-06-10T21:51:44.452Z"
      },
      {
        "duration": 45,
        "start_time": "2025-06-10T21:51:44.478Z"
      },
      {
        "duration": 16,
        "start_time": "2025-06-10T21:51:44.525Z"
      },
      {
        "duration": 3,
        "start_time": "2025-06-10T21:51:44.542Z"
      },
      {
        "duration": 4,
        "start_time": "2025-06-10T21:51:44.546Z"
      },
      {
        "duration": 6,
        "start_time": "2025-06-10T21:51:44.551Z"
      },
      {
        "duration": 2540,
        "start_time": "2025-06-10T21:52:28.084Z"
      },
      {
        "duration": 940,
        "start_time": "2025-06-10T21:52:30.626Z"
      },
      {
        "duration": 65,
        "start_time": "2025-06-10T21:52:31.568Z"
      },
      {
        "duration": 5,
        "start_time": "2025-06-10T21:52:31.635Z"
      },
      {
        "duration": 1424,
        "start_time": "2025-06-10T21:52:31.642Z"
      },
      {
        "duration": 60,
        "start_time": "2025-06-10T21:52:33.067Z"
      },
      {
        "duration": 39,
        "start_time": "2025-06-10T21:52:33.129Z"
      },
      {
        "duration": 534,
        "start_time": "2025-06-10T21:52:33.171Z"
      },
      {
        "duration": 1034,
        "start_time": "2025-06-10T21:52:33.708Z"
      },
      {
        "duration": 34,
        "start_time": "2025-06-10T21:52:34.744Z"
      },
      {
        "duration": 43,
        "start_time": "2025-06-10T21:52:34.779Z"
      },
      {
        "duration": 19,
        "start_time": "2025-06-10T21:52:34.824Z"
      },
      {
        "duration": 16,
        "start_time": "2025-06-10T21:52:34.844Z"
      },
      {
        "duration": 68,
        "start_time": "2025-06-10T21:52:34.862Z"
      },
      {
        "duration": 3,
        "start_time": "2025-06-10T21:52:34.932Z"
      },
      {
        "duration": 28,
        "start_time": "2025-06-10T21:52:34.936Z"
      },
      {
        "duration": 21,
        "start_time": "2025-06-10T21:52:34.966Z"
      },
      {
        "duration": 48,
        "start_time": "2025-06-10T21:52:34.989Z"
      },
      {
        "duration": 24,
        "start_time": "2025-06-10T21:52:35.038Z"
      },
      {
        "duration": 33,
        "start_time": "2025-06-10T21:52:35.064Z"
      },
      {
        "duration": 19,
        "start_time": "2025-06-10T21:52:35.098Z"
      },
      {
        "duration": 34,
        "start_time": "2025-06-10T21:52:35.119Z"
      },
      {
        "duration": 14,
        "start_time": "2025-06-10T21:52:35.155Z"
      },
      {
        "duration": 23,
        "start_time": "2025-06-10T21:52:35.171Z"
      },
      {
        "duration": 38,
        "start_time": "2025-06-10T21:52:35.196Z"
      },
      {
        "duration": 42,
        "start_time": "2025-06-10T21:52:35.235Z"
      },
      {
        "duration": 22,
        "start_time": "2025-06-10T21:52:35.281Z"
      },
      {
        "duration": 50,
        "start_time": "2025-06-10T21:52:35.304Z"
      },
      {
        "duration": 30,
        "start_time": "2025-06-10T21:52:35.356Z"
      },
      {
        "duration": 347,
        "start_time": "2025-06-10T21:52:35.388Z"
      },
      {
        "duration": 12,
        "start_time": "2025-06-10T21:52:35.737Z"
      },
      {
        "duration": 51,
        "start_time": "2025-06-10T21:52:35.751Z"
      },
      {
        "duration": 4,
        "start_time": "2025-06-10T21:52:35.803Z"
      },
      {
        "duration": 7,
        "start_time": "2025-06-10T21:52:35.808Z"
      },
      {
        "duration": 2398,
        "start_time": "2025-06-10T21:52:35.817Z"
      },
      {
        "duration": 17,
        "start_time": "2025-06-10T21:52:38.217Z"
      },
      {
        "duration": 43,
        "start_time": "2025-06-10T21:52:38.236Z"
      },
      {
        "duration": 26,
        "start_time": "2025-06-10T21:52:38.281Z"
      },
      {
        "duration": 2396,
        "start_time": "2025-06-10T21:52:38.309Z"
      },
      {
        "duration": 21,
        "start_time": "2025-06-10T21:52:40.707Z"
      },
      {
        "duration": 27917,
        "start_time": "2025-06-10T21:52:40.730Z"
      },
      {
        "duration": 28,
        "start_time": "2025-06-10T21:53:08.649Z"
      },
      {
        "duration": 30,
        "start_time": "2025-06-10T21:53:08.679Z"
      },
      {
        "duration": 2782,
        "start_time": "2025-06-10T21:53:08.711Z"
      },
      {
        "duration": 22,
        "start_time": "2025-06-10T21:53:11.495Z"
      },
      {
        "duration": 19,
        "start_time": "2025-06-10T21:53:11.519Z"
      },
      {
        "duration": 7,
        "start_time": "2025-06-10T21:53:11.540Z"
      },
      {
        "duration": 6,
        "start_time": "2025-06-10T21:53:11.549Z"
      },
      {
        "duration": 2,
        "start_time": "2025-06-10T21:53:11.557Z"
      },
      {
        "duration": 3,
        "start_time": "2025-06-10T21:53:11.561Z"
      },
      {
        "duration": 2,
        "start_time": "2025-06-10T21:53:11.577Z"
      },
      {
        "duration": 8,
        "start_time": "2025-06-10T21:53:11.581Z"
      },
      {
        "duration": 4,
        "start_time": "2025-06-10T21:53:11.590Z"
      },
      {
        "duration": 4,
        "start_time": "2025-06-10T21:53:11.596Z"
      },
      {
        "duration": 4,
        "start_time": "2025-06-10T21:53:11.601Z"
      },
      {
        "duration": 2,
        "start_time": "2025-06-10T21:53:11.607Z"
      },
      {
        "duration": 2,
        "start_time": "2025-06-10T21:53:11.611Z"
      },
      {
        "duration": 4,
        "start_time": "2025-06-10T21:53:11.614Z"
      },
      {
        "duration": 10807,
        "start_time": "2025-06-10T21:53:11.620Z"
      },
      {
        "duration": 49,
        "start_time": "2025-06-10T21:53:22.429Z"
      },
      {
        "duration": 4,
        "start_time": "2025-06-10T21:53:22.480Z"
      },
      {
        "duration": 5,
        "start_time": "2025-06-10T21:53:22.485Z"
      },
      {
        "duration": 60,
        "start_time": "2025-06-10T21:53:22.491Z"
      },
      {
        "duration": 91,
        "start_time": "2025-06-10T21:53:22.553Z"
      },
      {
        "duration": 18,
        "start_time": "2025-06-10T21:53:22.645Z"
      },
      {
        "duration": 3,
        "start_time": "2025-06-10T21:53:22.665Z"
      },
      {
        "duration": 86,
        "start_time": "2025-06-10T21:53:22.670Z"
      },
      {
        "duration": 14,
        "start_time": "2025-06-10T21:53:22.757Z"
      },
      {
        "duration": 4832,
        "start_time": "2025-06-10T21:55:07.570Z"
      },
      {
        "duration": 908,
        "start_time": "2025-06-10T21:55:12.404Z"
      },
      {
        "duration": 5,
        "start_time": "2025-06-10T21:55:13.313Z"
      },
      {
        "duration": 126,
        "start_time": "2025-06-10T21:55:13.319Z"
      },
      {
        "duration": 0,
        "start_time": "2025-06-10T21:55:13.449Z"
      },
      {
        "duration": 0,
        "start_time": "2025-06-10T21:55:13.450Z"
      },
      {
        "duration": 0,
        "start_time": "2025-06-10T21:55:13.451Z"
      },
      {
        "duration": 0,
        "start_time": "2025-06-10T21:55:13.452Z"
      },
      {
        "duration": 0,
        "start_time": "2025-06-10T21:55:13.453Z"
      },
      {
        "duration": 0,
        "start_time": "2025-06-10T21:55:13.454Z"
      },
      {
        "duration": 0,
        "start_time": "2025-06-10T21:55:13.455Z"
      },
      {
        "duration": 0,
        "start_time": "2025-06-10T21:55:13.456Z"
      },
      {
        "duration": 0,
        "start_time": "2025-06-10T21:55:13.457Z"
      },
      {
        "duration": 0,
        "start_time": "2025-06-10T21:55:13.476Z"
      },
      {
        "duration": 0,
        "start_time": "2025-06-10T21:55:13.477Z"
      },
      {
        "duration": 0,
        "start_time": "2025-06-10T21:55:13.478Z"
      },
      {
        "duration": 0,
        "start_time": "2025-06-10T21:55:13.479Z"
      },
      {
        "duration": 0,
        "start_time": "2025-06-10T21:55:13.480Z"
      },
      {
        "duration": 0,
        "start_time": "2025-06-10T21:55:13.481Z"
      },
      {
        "duration": 0,
        "start_time": "2025-06-10T21:55:13.482Z"
      },
      {
        "duration": 0,
        "start_time": "2025-06-10T21:55:13.483Z"
      },
      {
        "duration": 0,
        "start_time": "2025-06-10T21:55:13.484Z"
      },
      {
        "duration": 0,
        "start_time": "2025-06-10T21:55:13.485Z"
      },
      {
        "duration": 0,
        "start_time": "2025-06-10T21:55:13.486Z"
      },
      {
        "duration": 0,
        "start_time": "2025-06-10T21:55:13.487Z"
      },
      {
        "duration": 0,
        "start_time": "2025-06-10T21:55:13.488Z"
      },
      {
        "duration": 0,
        "start_time": "2025-06-10T21:55:13.489Z"
      },
      {
        "duration": 0,
        "start_time": "2025-06-10T21:55:13.491Z"
      },
      {
        "duration": 0,
        "start_time": "2025-06-10T21:55:13.492Z"
      },
      {
        "duration": 0,
        "start_time": "2025-06-10T21:55:13.493Z"
      },
      {
        "duration": 0,
        "start_time": "2025-06-10T21:55:13.494Z"
      },
      {
        "duration": 0,
        "start_time": "2025-06-10T21:55:13.495Z"
      },
      {
        "duration": 0,
        "start_time": "2025-06-10T21:55:13.496Z"
      },
      {
        "duration": 0,
        "start_time": "2025-06-10T21:55:13.497Z"
      },
      {
        "duration": 0,
        "start_time": "2025-06-10T21:55:13.497Z"
      },
      {
        "duration": 0,
        "start_time": "2025-06-10T21:55:13.498Z"
      },
      {
        "duration": 0,
        "start_time": "2025-06-10T21:55:13.499Z"
      },
      {
        "duration": 0,
        "start_time": "2025-06-10T21:55:13.500Z"
      },
      {
        "duration": 0,
        "start_time": "2025-06-10T21:55:13.501Z"
      },
      {
        "duration": 0,
        "start_time": "2025-06-10T21:55:13.502Z"
      },
      {
        "duration": 0,
        "start_time": "2025-06-10T21:55:13.503Z"
      },
      {
        "duration": 0,
        "start_time": "2025-06-10T21:55:13.504Z"
      },
      {
        "duration": 0,
        "start_time": "2025-06-10T21:55:13.505Z"
      },
      {
        "duration": 0,
        "start_time": "2025-06-10T21:55:13.506Z"
      },
      {
        "duration": 0,
        "start_time": "2025-06-10T21:55:13.507Z"
      },
      {
        "duration": 0,
        "start_time": "2025-06-10T21:55:13.508Z"
      },
      {
        "duration": 0,
        "start_time": "2025-06-10T21:55:13.509Z"
      },
      {
        "duration": 0,
        "start_time": "2025-06-10T21:55:13.510Z"
      },
      {
        "duration": 0,
        "start_time": "2025-06-10T21:55:13.511Z"
      },
      {
        "duration": 0,
        "start_time": "2025-06-10T21:55:13.511Z"
      },
      {
        "duration": 0,
        "start_time": "2025-06-10T21:55:13.512Z"
      },
      {
        "duration": 0,
        "start_time": "2025-06-10T21:55:13.513Z"
      },
      {
        "duration": 0,
        "start_time": "2025-06-10T21:55:13.577Z"
      },
      {
        "duration": 0,
        "start_time": "2025-06-10T21:55:13.578Z"
      },
      {
        "duration": 0,
        "start_time": "2025-06-10T21:55:13.578Z"
      },
      {
        "duration": 0,
        "start_time": "2025-06-10T21:55:13.579Z"
      },
      {
        "duration": 0,
        "start_time": "2025-06-10T21:55:13.581Z"
      },
      {
        "duration": 0,
        "start_time": "2025-06-10T21:55:13.582Z"
      },
      {
        "duration": 0,
        "start_time": "2025-06-10T21:55:13.583Z"
      },
      {
        "duration": 0,
        "start_time": "2025-06-10T21:55:13.584Z"
      },
      {
        "duration": 0,
        "start_time": "2025-06-10T21:55:13.585Z"
      },
      {
        "duration": 0,
        "start_time": "2025-06-10T21:55:13.586Z"
      },
      {
        "duration": 0,
        "start_time": "2025-06-10T21:55:13.587Z"
      },
      {
        "duration": 0,
        "start_time": "2025-06-10T21:55:13.588Z"
      },
      {
        "duration": 0,
        "start_time": "2025-06-10T21:55:13.589Z"
      },
      {
        "duration": 0,
        "start_time": "2025-06-10T21:55:13.591Z"
      },
      {
        "duration": 0,
        "start_time": "2025-06-10T21:55:13.592Z"
      },
      {
        "duration": 0,
        "start_time": "2025-06-10T21:55:13.593Z"
      },
      {
        "duration": 0,
        "start_time": "2025-06-10T21:55:13.594Z"
      },
      {
        "duration": 0,
        "start_time": "2025-06-10T21:55:13.595Z"
      },
      {
        "duration": 0,
        "start_time": "2025-06-10T21:55:13.596Z"
      },
      {
        "duration": 0,
        "start_time": "2025-06-10T21:55:13.597Z"
      },
      {
        "duration": 0,
        "start_time": "2025-06-10T21:55:13.598Z"
      },
      {
        "duration": 0,
        "start_time": "2025-06-10T21:55:13.599Z"
      },
      {
        "duration": 0,
        "start_time": "2025-06-10T21:55:13.600Z"
      },
      {
        "duration": 0,
        "start_time": "2025-06-10T21:55:13.601Z"
      },
      {
        "duration": 0,
        "start_time": "2025-06-10T21:55:13.602Z"
      },
      {
        "duration": 0,
        "start_time": "2025-06-10T21:55:13.603Z"
      },
      {
        "duration": 0,
        "start_time": "2025-06-10T21:55:13.604Z"
      },
      {
        "duration": 0,
        "start_time": "2025-06-10T21:55:13.605Z"
      },
      {
        "duration": 3901,
        "start_time": "2025-06-10T21:55:41.327Z"
      },
      {
        "duration": 947,
        "start_time": "2025-06-10T21:55:45.230Z"
      },
      {
        "duration": 4,
        "start_time": "2025-06-10T21:55:46.179Z"
      },
      {
        "duration": 1394,
        "start_time": "2025-06-10T21:55:46.185Z"
      },
      {
        "duration": 55,
        "start_time": "2025-06-10T21:55:47.581Z"
      },
      {
        "duration": 7,
        "start_time": "2025-06-10T21:55:47.638Z"
      },
      {
        "duration": 524,
        "start_time": "2025-06-10T21:55:47.646Z"
      },
      {
        "duration": 1055,
        "start_time": "2025-06-10T21:55:48.175Z"
      },
      {
        "duration": 24,
        "start_time": "2025-06-10T21:55:49.232Z"
      },
      {
        "duration": 60,
        "start_time": "2025-06-10T21:55:49.258Z"
      },
      {
        "duration": 20,
        "start_time": "2025-06-10T21:55:49.320Z"
      },
      {
        "duration": 27,
        "start_time": "2025-06-10T21:55:49.342Z"
      },
      {
        "duration": 58,
        "start_time": "2025-06-10T21:55:49.371Z"
      },
      {
        "duration": 4,
        "start_time": "2025-06-10T21:55:49.432Z"
      },
      {
        "duration": 54,
        "start_time": "2025-06-10T21:55:49.437Z"
      },
      {
        "duration": 22,
        "start_time": "2025-06-10T21:55:49.492Z"
      },
      {
        "duration": 43,
        "start_time": "2025-06-10T21:55:49.516Z"
      },
      {
        "duration": 28,
        "start_time": "2025-06-10T21:55:49.561Z"
      },
      {
        "duration": 23,
        "start_time": "2025-06-10T21:55:49.591Z"
      },
      {
        "duration": 19,
        "start_time": "2025-06-10T21:55:49.616Z"
      },
      {
        "duration": 11,
        "start_time": "2025-06-10T21:55:49.637Z"
      },
      {
        "duration": 27,
        "start_time": "2025-06-10T21:55:49.650Z"
      },
      {
        "duration": 25,
        "start_time": "2025-06-10T21:55:49.679Z"
      },
      {
        "duration": 38,
        "start_time": "2025-06-10T21:55:49.706Z"
      },
      {
        "duration": 45,
        "start_time": "2025-06-10T21:55:49.746Z"
      },
      {
        "duration": 22,
        "start_time": "2025-06-10T21:55:49.792Z"
      },
      {
        "duration": 51,
        "start_time": "2025-06-10T21:55:49.816Z"
      },
      {
        "duration": 20,
        "start_time": "2025-06-10T21:55:49.877Z"
      },
      {
        "duration": 307,
        "start_time": "2025-06-10T21:55:49.899Z"
      },
      {
        "duration": 19,
        "start_time": "2025-06-10T21:55:50.208Z"
      },
      {
        "duration": 34,
        "start_time": "2025-06-10T21:55:50.228Z"
      },
      {
        "duration": 13,
        "start_time": "2025-06-10T21:55:50.264Z"
      },
      {
        "duration": 6,
        "start_time": "2025-06-10T21:55:50.278Z"
      },
      {
        "duration": 2428,
        "start_time": "2025-06-10T21:55:50.286Z"
      },
      {
        "duration": 18,
        "start_time": "2025-06-10T21:55:52.716Z"
      },
      {
        "duration": 40,
        "start_time": "2025-06-10T21:55:52.736Z"
      },
      {
        "duration": 25,
        "start_time": "2025-06-10T21:55:52.778Z"
      },
      {
        "duration": 2507,
        "start_time": "2025-06-10T21:55:52.805Z"
      },
      {
        "duration": 22,
        "start_time": "2025-06-10T21:55:55.314Z"
      },
      {
        "duration": 27869,
        "start_time": "2025-06-10T21:55:55.338Z"
      },
      {
        "duration": 70,
        "start_time": "2025-06-10T21:56:23.211Z"
      },
      {
        "duration": 30,
        "start_time": "2025-06-10T21:56:23.282Z"
      },
      {
        "duration": 3762,
        "start_time": "2025-06-10T21:56:23.314Z"
      },
      {
        "duration": 22,
        "start_time": "2025-06-10T21:56:27.078Z"
      },
      {
        "duration": 3,
        "start_time": "2025-06-10T21:56:27.102Z"
      },
      {
        "duration": 10,
        "start_time": "2025-06-10T21:56:27.107Z"
      },
      {
        "duration": 4,
        "start_time": "2025-06-10T21:56:27.119Z"
      },
      {
        "duration": 4,
        "start_time": "2025-06-10T21:56:27.124Z"
      },
      {
        "duration": 3,
        "start_time": "2025-06-10T21:56:27.129Z"
      },
      {
        "duration": 12,
        "start_time": "2025-06-10T21:56:27.133Z"
      },
      {
        "duration": 29,
        "start_time": "2025-06-10T21:56:27.147Z"
      },
      {
        "duration": 3,
        "start_time": "2025-06-10T21:56:27.178Z"
      },
      {
        "duration": 3,
        "start_time": "2025-06-10T21:56:27.182Z"
      },
      {
        "duration": 3,
        "start_time": "2025-06-10T21:56:27.187Z"
      },
      {
        "duration": 2,
        "start_time": "2025-06-10T21:56:27.192Z"
      },
      {
        "duration": 3,
        "start_time": "2025-06-10T21:56:27.196Z"
      },
      {
        "duration": 6,
        "start_time": "2025-06-10T21:56:27.200Z"
      },
      {
        "duration": 10702,
        "start_time": "2025-06-10T21:56:27.207Z"
      },
      {
        "duration": 40,
        "start_time": "2025-06-10T21:56:37.912Z"
      },
      {
        "duration": 4,
        "start_time": "2025-06-10T21:56:37.954Z"
      },
      {
        "duration": 9,
        "start_time": "2025-06-10T21:56:37.976Z"
      },
      {
        "duration": 17,
        "start_time": "2025-06-10T21:56:37.987Z"
      },
      {
        "duration": 10,
        "start_time": "2025-06-10T21:56:38.005Z"
      },
      {
        "duration": 9,
        "start_time": "2025-06-10T21:56:38.016Z"
      },
      {
        "duration": 10,
        "start_time": "2025-06-10T21:56:38.027Z"
      },
      {
        "duration": 3,
        "start_time": "2025-06-10T21:56:38.039Z"
      },
      {
        "duration": 21,
        "start_time": "2025-06-10T21:56:38.044Z"
      },
      {
        "duration": 4140,
        "start_time": "2025-06-10T21:56:38.066Z"
      },
      {
        "duration": 3,
        "start_time": "2025-06-10T21:56:42.208Z"
      },
      {
        "duration": 80,
        "start_time": "2025-06-10T21:56:42.213Z"
      },
      {
        "duration": 0,
        "start_time": "2025-06-10T21:56:42.294Z"
      },
      {
        "duration": 0,
        "start_time": "2025-06-10T21:56:42.295Z"
      },
      {
        "duration": 0,
        "start_time": "2025-06-10T21:56:42.296Z"
      },
      {
        "duration": 0,
        "start_time": "2025-06-10T21:56:42.298Z"
      },
      {
        "duration": 0,
        "start_time": "2025-06-10T21:56:42.298Z"
      },
      {
        "duration": 0,
        "start_time": "2025-06-10T21:56:42.299Z"
      },
      {
        "duration": 0,
        "start_time": "2025-06-10T21:56:42.300Z"
      },
      {
        "duration": 0,
        "start_time": "2025-06-10T21:56:42.301Z"
      },
      {
        "duration": 0,
        "start_time": "2025-06-10T21:56:42.302Z"
      },
      {
        "duration": 0,
        "start_time": "2025-06-10T21:56:42.303Z"
      },
      {
        "duration": 48,
        "start_time": "2025-06-10T22:00:04.215Z"
      },
      {
        "duration": 4853,
        "start_time": "2025-06-10T22:00:08.498Z"
      },
      {
        "duration": 882,
        "start_time": "2025-06-10T22:00:13.353Z"
      },
      {
        "duration": 4,
        "start_time": "2025-06-10T22:00:14.237Z"
      },
      {
        "duration": 1365,
        "start_time": "2025-06-10T22:00:14.242Z"
      },
      {
        "duration": 54,
        "start_time": "2025-06-10T22:00:15.609Z"
      },
      {
        "duration": 5,
        "start_time": "2025-06-10T22:00:15.677Z"
      },
      {
        "duration": 3,
        "start_time": "2025-06-10T22:00:15.683Z"
      },
      {
        "duration": 549,
        "start_time": "2025-06-10T22:00:15.687Z"
      },
      {
        "duration": 1008,
        "start_time": "2025-06-10T22:00:16.237Z"
      },
      {
        "duration": 31,
        "start_time": "2025-06-10T22:00:17.247Z"
      },
      {
        "duration": 45,
        "start_time": "2025-06-10T22:00:17.280Z"
      },
      {
        "duration": 19,
        "start_time": "2025-06-10T22:00:17.327Z"
      },
      {
        "duration": 32,
        "start_time": "2025-06-10T22:00:17.348Z"
      },
      {
        "duration": 66,
        "start_time": "2025-06-10T22:00:17.383Z"
      },
      {
        "duration": 3,
        "start_time": "2025-06-10T22:00:17.451Z"
      },
      {
        "duration": 87,
        "start_time": "2025-06-10T22:00:17.456Z"
      },
      {
        "duration": 25,
        "start_time": "2025-06-10T22:00:17.545Z"
      },
      {
        "duration": 50,
        "start_time": "2025-06-10T22:00:17.571Z"
      },
      {
        "duration": 28,
        "start_time": "2025-06-10T22:00:17.622Z"
      },
      {
        "duration": 27,
        "start_time": "2025-06-10T22:00:17.652Z"
      },
      {
        "duration": 19,
        "start_time": "2025-06-10T22:00:17.681Z"
      },
      {
        "duration": 20,
        "start_time": "2025-06-10T22:00:17.702Z"
      },
      {
        "duration": 31,
        "start_time": "2025-06-10T22:00:17.724Z"
      },
      {
        "duration": 25,
        "start_time": "2025-06-10T22:00:17.757Z"
      },
      {
        "duration": 49,
        "start_time": "2025-06-10T22:00:17.784Z"
      },
      {
        "duration": 25,
        "start_time": "2025-06-10T22:00:17.834Z"
      },
      {
        "duration": 30,
        "start_time": "2025-06-10T22:00:17.861Z"
      },
      {
        "duration": 45,
        "start_time": "2025-06-10T22:00:17.893Z"
      },
      {
        "duration": 21,
        "start_time": "2025-06-10T22:00:17.940Z"
      },
      {
        "duration": 343,
        "start_time": "2025-06-10T22:00:17.976Z"
      },
      {
        "duration": 20,
        "start_time": "2025-06-10T22:00:18.321Z"
      },
      {
        "duration": 40,
        "start_time": "2025-06-10T22:00:18.343Z"
      },
      {
        "duration": 3,
        "start_time": "2025-06-10T22:00:18.384Z"
      },
      {
        "duration": 41,
        "start_time": "2025-06-10T22:00:18.389Z"
      },
      {
        "duration": 11,
        "start_time": "2025-06-10T22:00:18.432Z"
      },
      {
        "duration": 2354,
        "start_time": "2025-06-10T22:00:18.445Z"
      },
      {
        "duration": 18,
        "start_time": "2025-06-10T22:00:20.801Z"
      },
      {
        "duration": 28,
        "start_time": "2025-06-10T22:00:20.820Z"
      },
      {
        "duration": 45,
        "start_time": "2025-06-10T22:00:20.849Z"
      },
      {
        "duration": 2507,
        "start_time": "2025-06-10T22:00:20.895Z"
      },
      {
        "duration": 22,
        "start_time": "2025-06-10T22:00:23.407Z"
      },
      {
        "duration": 27257,
        "start_time": "2025-06-10T22:00:23.430Z"
      },
      {
        "duration": 17,
        "start_time": "2025-06-10T22:00:50.688Z"
      },
      {
        "duration": 44,
        "start_time": "2025-06-10T22:00:50.707Z"
      },
      {
        "duration": 2918,
        "start_time": "2025-06-10T22:00:50.752Z"
      },
      {
        "duration": 24,
        "start_time": "2025-06-10T22:00:53.672Z"
      },
      {
        "duration": 3,
        "start_time": "2025-06-10T22:00:53.697Z"
      },
      {
        "duration": 5,
        "start_time": "2025-06-10T22:00:53.702Z"
      },
      {
        "duration": 4,
        "start_time": "2025-06-10T22:00:53.709Z"
      },
      {
        "duration": 4,
        "start_time": "2025-06-10T22:00:53.714Z"
      },
      {
        "duration": 3,
        "start_time": "2025-06-10T22:00:53.720Z"
      },
      {
        "duration": 4,
        "start_time": "2025-06-10T22:00:53.724Z"
      },
      {
        "duration": 6,
        "start_time": "2025-06-10T22:00:53.729Z"
      },
      {
        "duration": 40,
        "start_time": "2025-06-10T22:00:53.736Z"
      },
      {
        "duration": 3,
        "start_time": "2025-06-10T22:00:53.778Z"
      },
      {
        "duration": 6,
        "start_time": "2025-06-10T22:00:53.783Z"
      },
      {
        "duration": 3,
        "start_time": "2025-06-10T22:00:53.791Z"
      },
      {
        "duration": 7,
        "start_time": "2025-06-10T22:00:53.795Z"
      },
      {
        "duration": 4,
        "start_time": "2025-06-10T22:00:53.803Z"
      },
      {
        "duration": 10794,
        "start_time": "2025-06-10T22:00:53.809Z"
      },
      {
        "duration": 41,
        "start_time": "2025-06-10T22:01:04.605Z"
      },
      {
        "duration": 43,
        "start_time": "2025-06-10T22:01:04.647Z"
      },
      {
        "duration": 41,
        "start_time": "2025-06-10T22:01:04.691Z"
      },
      {
        "duration": 17,
        "start_time": "2025-06-10T22:01:04.733Z"
      },
      {
        "duration": 24,
        "start_time": "2025-06-10T22:01:04.751Z"
      },
      {
        "duration": 4,
        "start_time": "2025-06-10T22:01:04.777Z"
      },
      {
        "duration": 4,
        "start_time": "2025-06-10T22:01:04.782Z"
      },
      {
        "duration": 6,
        "start_time": "2025-06-10T22:01:04.788Z"
      },
      {
        "duration": 5,
        "start_time": "2025-06-10T22:01:04.795Z"
      },
      {
        "duration": 4941,
        "start_time": "2025-06-10T22:20:08.260Z"
      },
      {
        "duration": 1769,
        "start_time": "2025-06-10T22:20:13.203Z"
      },
      {
        "duration": 4,
        "start_time": "2025-06-10T22:20:14.974Z"
      },
      {
        "duration": 1435,
        "start_time": "2025-06-10T22:20:14.980Z"
      },
      {
        "duration": 65,
        "start_time": "2025-06-10T22:20:16.417Z"
      },
      {
        "duration": 7,
        "start_time": "2025-06-10T22:20:16.483Z"
      },
      {
        "duration": 3,
        "start_time": "2025-06-10T22:20:16.491Z"
      },
      {
        "duration": 515,
        "start_time": "2025-06-10T22:20:16.496Z"
      },
      {
        "duration": 1000,
        "start_time": "2025-06-10T22:20:17.013Z"
      },
      {
        "duration": 23,
        "start_time": "2025-06-10T22:20:18.015Z"
      },
      {
        "duration": 74,
        "start_time": "2025-06-10T22:20:18.040Z"
      },
      {
        "duration": 19,
        "start_time": "2025-06-10T22:20:18.116Z"
      },
      {
        "duration": 5,
        "start_time": "2025-06-10T22:20:18.137Z"
      },
      {
        "duration": 80,
        "start_time": "2025-06-10T22:20:18.145Z"
      },
      {
        "duration": 3,
        "start_time": "2025-06-10T22:20:18.227Z"
      },
      {
        "duration": 7,
        "start_time": "2025-06-10T22:20:18.232Z"
      },
      {
        "duration": 40,
        "start_time": "2025-06-10T22:20:18.241Z"
      },
      {
        "duration": 48,
        "start_time": "2025-06-10T22:20:18.284Z"
      },
      {
        "duration": 24,
        "start_time": "2025-06-10T22:20:18.333Z"
      },
      {
        "duration": 21,
        "start_time": "2025-06-10T22:20:18.377Z"
      },
      {
        "duration": 18,
        "start_time": "2025-06-10T22:20:18.400Z"
      },
      {
        "duration": 5,
        "start_time": "2025-06-10T22:20:18.420Z"
      },
      {
        "duration": 7,
        "start_time": "2025-06-10T22:20:18.426Z"
      },
      {
        "duration": 47,
        "start_time": "2025-06-10T22:20:18.434Z"
      },
      {
        "duration": 43,
        "start_time": "2025-06-10T22:20:18.483Z"
      },
      {
        "duration": 25,
        "start_time": "2025-06-10T22:20:18.527Z"
      },
      {
        "duration": 78,
        "start_time": "2025-06-10T22:20:18.553Z"
      },
      {
        "duration": 170,
        "start_time": "2025-06-10T22:20:18.632Z"
      },
      {
        "duration": 21,
        "start_time": "2025-06-10T22:20:18.804Z"
      },
      {
        "duration": 298,
        "start_time": "2025-06-10T22:20:18.826Z"
      },
      {
        "duration": 20,
        "start_time": "2025-06-10T22:20:19.125Z"
      },
      {
        "duration": 38,
        "start_time": "2025-06-10T22:20:19.147Z"
      },
      {
        "duration": 2,
        "start_time": "2025-06-10T22:20:19.187Z"
      },
      {
        "duration": 7,
        "start_time": "2025-06-10T22:20:19.191Z"
      },
      {
        "duration": 7,
        "start_time": "2025-06-10T22:20:19.199Z"
      },
      {
        "duration": 2309,
        "start_time": "2025-06-10T22:20:19.208Z"
      },
      {
        "duration": 18,
        "start_time": "2025-06-10T22:20:21.518Z"
      },
      {
        "duration": 155,
        "start_time": "2025-06-10T22:20:21.537Z"
      },
      {
        "duration": 24,
        "start_time": "2025-06-10T22:20:21.694Z"
      },
      {
        "duration": 2530,
        "start_time": "2025-06-10T22:20:21.719Z"
      },
      {
        "duration": 34,
        "start_time": "2025-06-10T22:20:24.254Z"
      },
      {
        "duration": 27140,
        "start_time": "2025-06-10T22:20:24.290Z"
      },
      {
        "duration": 18,
        "start_time": "2025-06-10T22:20:51.432Z"
      },
      {
        "duration": 47,
        "start_time": "2025-06-10T22:20:51.452Z"
      },
      {
        "duration": 3553,
        "start_time": "2025-06-10T22:20:51.501Z"
      },
      {
        "duration": 30,
        "start_time": "2025-06-10T22:20:55.056Z"
      },
      {
        "duration": 2,
        "start_time": "2025-06-10T22:20:55.088Z"
      },
      {
        "duration": 5,
        "start_time": "2025-06-10T22:20:55.092Z"
      },
      {
        "duration": 3,
        "start_time": "2025-06-10T22:20:55.099Z"
      },
      {
        "duration": 2,
        "start_time": "2025-06-10T22:20:55.104Z"
      },
      {
        "duration": 4,
        "start_time": "2025-06-10T22:20:55.108Z"
      },
      {
        "duration": 5,
        "start_time": "2025-06-10T22:20:55.113Z"
      },
      {
        "duration": 15,
        "start_time": "2025-06-10T22:20:55.119Z"
      },
      {
        "duration": 4,
        "start_time": "2025-06-10T22:20:55.135Z"
      },
      {
        "duration": 10,
        "start_time": "2025-06-10T22:20:55.141Z"
      },
      {
        "duration": 23,
        "start_time": "2025-06-10T22:20:55.153Z"
      },
      {
        "duration": 2,
        "start_time": "2025-06-10T22:20:55.178Z"
      },
      {
        "duration": 3,
        "start_time": "2025-06-10T22:20:55.181Z"
      },
      {
        "duration": 3,
        "start_time": "2025-06-10T22:20:55.186Z"
      },
      {
        "duration": 11512,
        "start_time": "2025-06-10T22:20:55.191Z"
      },
      {
        "duration": 43,
        "start_time": "2025-06-10T22:21:06.705Z"
      },
      {
        "duration": 50,
        "start_time": "2025-06-10T22:21:06.750Z"
      },
      {
        "duration": 7,
        "start_time": "2025-06-10T22:21:06.802Z"
      },
      {
        "duration": 6,
        "start_time": "2025-06-10T22:21:06.810Z"
      },
      {
        "duration": 6,
        "start_time": "2025-06-10T22:21:06.817Z"
      },
      {
        "duration": 13,
        "start_time": "2025-06-10T22:21:06.824Z"
      },
      {
        "duration": 25,
        "start_time": "2025-06-10T22:21:06.839Z"
      },
      {
        "duration": 16,
        "start_time": "2025-06-10T22:21:06.866Z"
      },
      {
        "duration": 6,
        "start_time": "2025-06-10T22:21:06.884Z"
      },
      {
        "duration": 4142,
        "start_time": "2025-06-10T22:21:06.891Z"
      },
      {
        "duration": 4,
        "start_time": "2025-06-10T22:21:11.035Z"
      },
      {
        "duration": 83,
        "start_time": "2025-06-10T22:22:31.353Z"
      },
      {
        "duration": 48,
        "start_time": "2025-06-10T22:22:36.300Z"
      },
      {
        "duration": 6,
        "start_time": "2025-06-10T22:22:43.680Z"
      },
      {
        "duration": 6,
        "start_time": "2025-06-10T22:22:46.200Z"
      },
      {
        "duration": 4550,
        "start_time": "2025-06-10T22:26:49.443Z"
      },
      {
        "duration": 911,
        "start_time": "2025-06-10T22:26:53.995Z"
      },
      {
        "duration": 4,
        "start_time": "2025-06-10T22:26:54.908Z"
      },
      {
        "duration": 1348,
        "start_time": "2025-06-10T22:26:54.914Z"
      },
      {
        "duration": 56,
        "start_time": "2025-06-10T22:26:56.264Z"
      },
      {
        "duration": 9,
        "start_time": "2025-06-10T22:26:56.322Z"
      },
      {
        "duration": 3,
        "start_time": "2025-06-10T22:26:56.332Z"
      },
      {
        "duration": 531,
        "start_time": "2025-06-10T22:26:56.337Z"
      },
      {
        "duration": 951,
        "start_time": "2025-06-10T22:26:56.869Z"
      },
      {
        "duration": 21,
        "start_time": "2025-06-10T22:26:57.821Z"
      },
      {
        "duration": 56,
        "start_time": "2025-06-10T22:26:57.844Z"
      },
      {
        "duration": 18,
        "start_time": "2025-06-10T22:26:57.902Z"
      },
      {
        "duration": 8,
        "start_time": "2025-06-10T22:26:57.922Z"
      },
      {
        "duration": 63,
        "start_time": "2025-06-10T22:26:57.932Z"
      },
      {
        "duration": 4,
        "start_time": "2025-06-10T22:26:57.996Z"
      },
      {
        "duration": 8,
        "start_time": "2025-06-10T22:26:58.002Z"
      },
      {
        "duration": 23,
        "start_time": "2025-06-10T22:26:58.012Z"
      },
      {
        "duration": 66,
        "start_time": "2025-06-10T22:26:58.037Z"
      },
      {
        "duration": 61,
        "start_time": "2025-06-10T22:26:58.105Z"
      },
      {
        "duration": 22,
        "start_time": "2025-06-10T22:26:58.168Z"
      },
      {
        "duration": 20,
        "start_time": "2025-06-10T22:26:58.192Z"
      },
      {
        "duration": 11,
        "start_time": "2025-06-10T22:26:58.213Z"
      },
      {
        "duration": 6,
        "start_time": "2025-06-10T22:26:58.226Z"
      },
      {
        "duration": 47,
        "start_time": "2025-06-10T22:26:58.234Z"
      },
      {
        "duration": 37,
        "start_time": "2025-06-10T22:26:58.284Z"
      },
      {
        "duration": 26,
        "start_time": "2025-06-10T22:26:58.323Z"
      },
      {
        "duration": 43,
        "start_time": "2025-06-10T22:26:58.351Z"
      },
      {
        "duration": 46,
        "start_time": "2025-06-10T22:26:58.396Z"
      },
      {
        "duration": 40,
        "start_time": "2025-06-10T22:26:58.444Z"
      },
      {
        "duration": 310,
        "start_time": "2025-06-10T22:26:58.486Z"
      },
      {
        "duration": 20,
        "start_time": "2025-06-10T22:26:58.797Z"
      },
      {
        "duration": 80,
        "start_time": "2025-06-10T22:26:58.819Z"
      },
      {
        "duration": 2,
        "start_time": "2025-06-10T22:26:58.901Z"
      },
      {
        "duration": 8,
        "start_time": "2025-06-10T22:26:58.905Z"
      },
      {
        "duration": 12,
        "start_time": "2025-06-10T22:26:58.914Z"
      },
      {
        "duration": 12,
        "start_time": "2025-06-10T22:26:58.928Z"
      },
      {
        "duration": 20,
        "start_time": "2025-06-10T22:26:58.942Z"
      },
      {
        "duration": 37,
        "start_time": "2025-06-10T22:26:58.964Z"
      },
      {
        "duration": 25,
        "start_time": "2025-06-10T22:26:59.002Z"
      },
      {
        "duration": 3,
        "start_time": "2025-06-10T22:26:59.029Z"
      },
      {
        "duration": 47,
        "start_time": "2025-06-10T22:26:59.038Z"
      },
      {
        "duration": 3,
        "start_time": "2025-06-10T22:26:59.087Z"
      },
      {
        "duration": 20,
        "start_time": "2025-06-10T22:26:59.092Z"
      },
      {
        "duration": 29,
        "start_time": "2025-06-10T22:26:59.114Z"
      },
      {
        "duration": 3,
        "start_time": "2025-06-10T22:26:59.145Z"
      },
      {
        "duration": 21,
        "start_time": "2025-06-10T22:26:59.177Z"
      },
      {
        "duration": 5,
        "start_time": "2025-06-10T22:26:59.200Z"
      },
      {
        "duration": 4,
        "start_time": "2025-06-10T22:26:59.207Z"
      },
      {
        "duration": 3,
        "start_time": "2025-06-10T22:26:59.213Z"
      },
      {
        "duration": 7,
        "start_time": "2025-06-10T22:26:59.218Z"
      },
      {
        "duration": 4,
        "start_time": "2025-06-10T22:26:59.226Z"
      },
      {
        "duration": 12,
        "start_time": "2025-06-10T22:26:59.231Z"
      },
      {
        "duration": 2,
        "start_time": "2025-06-10T22:26:59.276Z"
      },
      {
        "duration": 13,
        "start_time": "2025-06-10T22:26:59.280Z"
      },
      {
        "duration": 13,
        "start_time": "2025-06-10T22:26:59.294Z"
      },
      {
        "duration": 4,
        "start_time": "2025-06-10T22:26:59.308Z"
      },
      {
        "duration": 4,
        "start_time": "2025-06-10T22:26:59.314Z"
      },
      {
        "duration": 4,
        "start_time": "2025-06-10T22:26:59.320Z"
      },
      {
        "duration": 10,
        "start_time": "2025-06-10T22:26:59.326Z"
      },
      {
        "duration": 50,
        "start_time": "2025-06-10T22:26:59.338Z"
      },
      {
        "duration": 4,
        "start_time": "2025-06-10T22:26:59.390Z"
      },
      {
        "duration": 6,
        "start_time": "2025-06-10T22:26:59.396Z"
      },
      {
        "duration": 8,
        "start_time": "2025-06-10T22:26:59.403Z"
      },
      {
        "duration": 4,
        "start_time": "2025-06-10T22:26:59.413Z"
      },
      {
        "duration": 4,
        "start_time": "2025-06-10T22:26:59.418Z"
      },
      {
        "duration": 3,
        "start_time": "2025-06-10T22:26:59.423Z"
      },
      {
        "duration": 5,
        "start_time": "2025-06-10T22:26:59.427Z"
      },
      {
        "duration": 43,
        "start_time": "2025-06-10T22:26:59.433Z"
      },
      {
        "duration": 4022,
        "start_time": "2025-06-10T22:26:59.478Z"
      },
      {
        "duration": 5,
        "start_time": "2025-06-10T22:27:03.502Z"
      },
      {
        "duration": 4515,
        "start_time": "2025-06-10T22:27:36.479Z"
      },
      {
        "duration": 921,
        "start_time": "2025-06-10T22:27:40.996Z"
      },
      {
        "duration": 4,
        "start_time": "2025-06-10T22:27:41.919Z"
      },
      {
        "duration": 1298,
        "start_time": "2025-06-10T22:27:41.926Z"
      },
      {
        "duration": 64,
        "start_time": "2025-06-10T22:27:43.226Z"
      },
      {
        "duration": 18,
        "start_time": "2025-06-10T22:27:43.291Z"
      },
      {
        "duration": 3,
        "start_time": "2025-06-10T22:27:43.311Z"
      },
      {
        "duration": 490,
        "start_time": "2025-06-10T22:27:43.315Z"
      },
      {
        "duration": 1007,
        "start_time": "2025-06-10T22:27:43.806Z"
      },
      {
        "duration": 22,
        "start_time": "2025-06-10T22:27:44.814Z"
      },
      {
        "duration": 58,
        "start_time": "2025-06-10T22:27:44.838Z"
      },
      {
        "duration": 20,
        "start_time": "2025-06-10T22:27:44.899Z"
      },
      {
        "duration": 7,
        "start_time": "2025-06-10T22:27:44.921Z"
      },
      {
        "duration": 83,
        "start_time": "2025-06-10T22:27:44.932Z"
      },
      {
        "duration": 4,
        "start_time": "2025-06-10T22:27:45.017Z"
      },
      {
        "duration": 18,
        "start_time": "2025-06-10T22:27:45.023Z"
      },
      {
        "duration": 45,
        "start_time": "2025-06-10T22:27:45.043Z"
      },
      {
        "duration": 63,
        "start_time": "2025-06-10T22:27:45.090Z"
      },
      {
        "duration": 26,
        "start_time": "2025-06-10T22:27:45.155Z"
      },
      {
        "duration": 41,
        "start_time": "2025-06-10T22:27:45.183Z"
      },
      {
        "duration": 28,
        "start_time": "2025-06-10T22:27:45.226Z"
      },
      {
        "duration": 29,
        "start_time": "2025-06-10T22:27:45.256Z"
      },
      {
        "duration": 38,
        "start_time": "2025-06-10T22:27:45.287Z"
      },
      {
        "duration": 34,
        "start_time": "2025-06-10T22:27:45.327Z"
      },
      {
        "duration": 53,
        "start_time": "2025-06-10T22:27:45.363Z"
      },
      {
        "duration": 24,
        "start_time": "2025-06-10T22:27:45.418Z"
      },
      {
        "duration": 33,
        "start_time": "2025-06-10T22:27:45.444Z"
      },
      {
        "duration": 44,
        "start_time": "2025-06-10T22:27:45.479Z"
      },
      {
        "duration": 21,
        "start_time": "2025-06-10T22:27:45.525Z"
      },
      {
        "duration": 410,
        "start_time": "2025-06-10T22:27:45.547Z"
      },
      {
        "duration": 19,
        "start_time": "2025-06-10T22:27:45.959Z"
      },
      {
        "duration": 63,
        "start_time": "2025-06-10T22:27:45.979Z"
      },
      {
        "duration": 3,
        "start_time": "2025-06-10T22:27:46.043Z"
      },
      {
        "duration": 86,
        "start_time": "2025-06-10T22:27:46.047Z"
      },
      {
        "duration": 6,
        "start_time": "2025-06-10T22:27:46.135Z"
      },
      {
        "duration": 6,
        "start_time": "2025-06-10T22:27:46.142Z"
      },
      {
        "duration": 19,
        "start_time": "2025-06-10T22:27:46.150Z"
      },
      {
        "duration": 28,
        "start_time": "2025-06-10T22:27:46.171Z"
      },
      {
        "duration": 24,
        "start_time": "2025-06-10T22:27:46.201Z"
      },
      {
        "duration": 2,
        "start_time": "2025-06-10T22:27:46.227Z"
      },
      {
        "duration": 23,
        "start_time": "2025-06-10T22:27:46.234Z"
      },
      {
        "duration": 17,
        "start_time": "2025-06-10T22:27:46.259Z"
      },
      {
        "duration": 22,
        "start_time": "2025-06-10T22:27:46.278Z"
      },
      {
        "duration": 31,
        "start_time": "2025-06-10T22:27:46.301Z"
      },
      {
        "duration": 2,
        "start_time": "2025-06-10T22:27:46.334Z"
      },
      {
        "duration": 47,
        "start_time": "2025-06-10T22:27:46.337Z"
      },
      {
        "duration": 5,
        "start_time": "2025-06-10T22:27:46.386Z"
      },
      {
        "duration": 12,
        "start_time": "2025-06-10T22:27:46.393Z"
      },
      {
        "duration": 6,
        "start_time": "2025-06-10T22:27:46.406Z"
      },
      {
        "duration": 4,
        "start_time": "2025-06-10T22:27:46.413Z"
      },
      {
        "duration": 16,
        "start_time": "2025-06-10T22:27:46.419Z"
      },
      {
        "duration": 5,
        "start_time": "2025-06-10T22:27:46.437Z"
      },
      {
        "duration": 8,
        "start_time": "2025-06-10T22:27:46.443Z"
      },
      {
        "duration": 3,
        "start_time": "2025-06-10T22:27:46.453Z"
      },
      {
        "duration": 3,
        "start_time": "2025-06-10T22:27:46.458Z"
      },
      {
        "duration": 5,
        "start_time": "2025-06-10T22:27:46.477Z"
      },
      {
        "duration": 5,
        "start_time": "2025-06-10T22:27:46.484Z"
      },
      {
        "duration": 3,
        "start_time": "2025-06-10T22:27:46.491Z"
      },
      {
        "duration": 7,
        "start_time": "2025-06-10T22:27:46.496Z"
      },
      {
        "duration": 105,
        "start_time": "2025-06-10T22:27:46.505Z"
      },
      {
        "duration": 4,
        "start_time": "2025-06-10T22:27:46.612Z"
      },
      {
        "duration": 61,
        "start_time": "2025-06-10T22:27:46.617Z"
      },
      {
        "duration": 50,
        "start_time": "2025-06-10T22:27:46.679Z"
      },
      {
        "duration": 4,
        "start_time": "2025-06-10T22:27:46.731Z"
      },
      {
        "duration": 6,
        "start_time": "2025-06-10T22:27:46.736Z"
      },
      {
        "duration": 100,
        "start_time": "2025-06-10T22:27:46.743Z"
      },
      {
        "duration": 3,
        "start_time": "2025-06-10T22:27:46.845Z"
      },
      {
        "duration": 6290,
        "start_time": "2025-06-10T22:27:46.850Z"
      },
      {
        "duration": 3,
        "start_time": "2025-06-10T22:27:53.142Z"
      },
      {
        "duration": 4569,
        "start_time": "2025-06-10T22:33:37.694Z"
      },
      {
        "duration": 894,
        "start_time": "2025-06-10T22:33:42.265Z"
      },
      {
        "duration": 4,
        "start_time": "2025-06-10T22:33:43.161Z"
      },
      {
        "duration": 1334,
        "start_time": "2025-06-10T22:33:43.166Z"
      },
      {
        "duration": 56,
        "start_time": "2025-06-10T22:33:44.502Z"
      },
      {
        "duration": 32,
        "start_time": "2025-06-10T22:33:44.559Z"
      },
      {
        "duration": 40,
        "start_time": "2025-06-10T22:33:44.592Z"
      },
      {
        "duration": 508,
        "start_time": "2025-06-10T22:33:44.634Z"
      },
      {
        "duration": 1044,
        "start_time": "2025-06-10T22:33:45.144Z"
      },
      {
        "duration": 23,
        "start_time": "2025-06-10T22:33:46.189Z"
      },
      {
        "duration": 64,
        "start_time": "2025-06-10T22:33:46.213Z"
      },
      {
        "duration": 19,
        "start_time": "2025-06-10T22:33:46.279Z"
      },
      {
        "duration": 6,
        "start_time": "2025-06-10T22:33:46.300Z"
      },
      {
        "duration": 80,
        "start_time": "2025-06-10T22:33:46.309Z"
      },
      {
        "duration": 4,
        "start_time": "2025-06-10T22:33:46.390Z"
      },
      {
        "duration": 7,
        "start_time": "2025-06-10T22:33:46.395Z"
      },
      {
        "duration": 22,
        "start_time": "2025-06-10T22:33:46.404Z"
      },
      {
        "duration": 68,
        "start_time": "2025-06-10T22:33:46.427Z"
      },
      {
        "duration": 27,
        "start_time": "2025-06-10T22:33:46.497Z"
      },
      {
        "duration": 32,
        "start_time": "2025-06-10T22:33:46.526Z"
      },
      {
        "duration": 32,
        "start_time": "2025-06-10T22:33:46.560Z"
      },
      {
        "duration": 7,
        "start_time": "2025-06-10T22:33:46.594Z"
      },
      {
        "duration": 6,
        "start_time": "2025-06-10T22:33:46.602Z"
      },
      {
        "duration": 22,
        "start_time": "2025-06-10T22:33:46.610Z"
      },
      {
        "duration": 69,
        "start_time": "2025-06-10T22:33:46.634Z"
      },
      {
        "duration": 37,
        "start_time": "2025-06-10T22:33:46.704Z"
      },
      {
        "duration": 21,
        "start_time": "2025-06-10T22:33:46.743Z"
      },
      {
        "duration": 87,
        "start_time": "2025-06-10T22:33:46.766Z"
      },
      {
        "duration": 34,
        "start_time": "2025-06-10T22:33:46.855Z"
      },
      {
        "duration": 279,
        "start_time": "2025-06-10T22:33:46.891Z"
      },
      {
        "duration": 20,
        "start_time": "2025-06-10T22:33:47.172Z"
      },
      {
        "duration": 26,
        "start_time": "2025-06-10T22:33:47.194Z"
      },
      {
        "duration": 2,
        "start_time": "2025-06-10T22:33:47.222Z"
      },
      {
        "duration": 8,
        "start_time": "2025-06-10T22:33:47.226Z"
      },
      {
        "duration": 16,
        "start_time": "2025-06-10T22:33:47.236Z"
      },
      {
        "duration": 24,
        "start_time": "2025-06-10T22:33:47.253Z"
      },
      {
        "duration": 19,
        "start_time": "2025-06-10T22:33:47.278Z"
      },
      {
        "duration": 28,
        "start_time": "2025-06-10T22:33:47.299Z"
      },
      {
        "duration": 54,
        "start_time": "2025-06-10T22:33:47.328Z"
      },
      {
        "duration": 3,
        "start_time": "2025-06-10T22:33:47.384Z"
      },
      {
        "duration": 22,
        "start_time": "2025-06-10T22:33:47.393Z"
      },
      {
        "duration": 3,
        "start_time": "2025-06-10T22:33:47.417Z"
      },
      {
        "duration": 26,
        "start_time": "2025-06-10T22:33:47.422Z"
      },
      {
        "duration": 54,
        "start_time": "2025-06-10T22:33:47.451Z"
      },
      {
        "duration": 3,
        "start_time": "2025-06-10T22:33:47.507Z"
      },
      {
        "duration": 26,
        "start_time": "2025-06-10T22:33:47.511Z"
      },
      {
        "duration": 5,
        "start_time": "2025-06-10T22:33:47.540Z"
      },
      {
        "duration": 124,
        "start_time": "2025-06-10T22:33:47.547Z"
      },
      {
        "duration": 3,
        "start_time": "2025-06-10T22:33:47.673Z"
      },
      {
        "duration": 6,
        "start_time": "2025-06-10T22:33:47.678Z"
      },
      {
        "duration": 8,
        "start_time": "2025-06-10T22:33:47.686Z"
      },
      {
        "duration": 13,
        "start_time": "2025-06-10T22:33:47.696Z"
      },
      {
        "duration": 23,
        "start_time": "2025-06-10T22:33:47.710Z"
      },
      {
        "duration": 17,
        "start_time": "2025-06-10T22:33:47.734Z"
      },
      {
        "duration": 31,
        "start_time": "2025-06-10T22:33:47.753Z"
      },
      {
        "duration": 8,
        "start_time": "2025-06-10T22:33:47.786Z"
      },
      {
        "duration": 12,
        "start_time": "2025-06-10T22:33:47.796Z"
      },
      {
        "duration": 5,
        "start_time": "2025-06-10T22:33:47.810Z"
      },
      {
        "duration": 3,
        "start_time": "2025-06-10T22:33:47.816Z"
      },
      {
        "duration": 50,
        "start_time": "2025-06-10T22:33:47.821Z"
      },
      {
        "duration": 4,
        "start_time": "2025-06-10T22:33:47.873Z"
      },
      {
        "duration": 9,
        "start_time": "2025-06-10T22:33:47.879Z"
      },
      {
        "duration": 4,
        "start_time": "2025-06-10T22:33:47.890Z"
      },
      {
        "duration": 7,
        "start_time": "2025-06-10T22:33:47.895Z"
      },
      {
        "duration": 16,
        "start_time": "2025-06-10T22:33:47.904Z"
      },
      {
        "duration": 27,
        "start_time": "2025-06-10T22:33:47.921Z"
      },
      {
        "duration": 4,
        "start_time": "2025-06-10T22:33:47.950Z"
      },
      {
        "duration": 124,
        "start_time": "2025-06-10T22:33:47.956Z"
      },
      {
        "duration": 0,
        "start_time": "2025-06-10T22:33:48.082Z"
      },
      {
        "duration": 0,
        "start_time": "2025-06-10T22:33:48.083Z"
      },
      {
        "duration": 2629,
        "start_time": "2025-06-10T22:34:54.358Z"
      },
      {
        "duration": 5454,
        "start_time": "2025-06-10T22:35:08.101Z"
      },
      {
        "duration": 911,
        "start_time": "2025-06-10T22:35:13.557Z"
      },
      {
        "duration": 8,
        "start_time": "2025-06-10T22:35:14.470Z"
      },
      {
        "duration": 1349,
        "start_time": "2025-06-10T22:35:14.481Z"
      },
      {
        "duration": 72,
        "start_time": "2025-06-10T22:35:15.833Z"
      },
      {
        "duration": 11,
        "start_time": "2025-06-10T22:35:15.907Z"
      },
      {
        "duration": 3,
        "start_time": "2025-06-10T22:35:15.920Z"
      },
      {
        "duration": 518,
        "start_time": "2025-06-10T22:35:15.926Z"
      },
      {
        "duration": 1024,
        "start_time": "2025-06-10T22:35:16.446Z"
      },
      {
        "duration": 23,
        "start_time": "2025-06-10T22:35:17.477Z"
      },
      {
        "duration": 43,
        "start_time": "2025-06-10T22:35:17.502Z"
      },
      {
        "duration": 40,
        "start_time": "2025-06-10T22:35:17.547Z"
      },
      {
        "duration": 125,
        "start_time": "2025-06-10T22:35:17.589Z"
      },
      {
        "duration": 51,
        "start_time": "2025-06-10T22:35:17.716Z"
      },
      {
        "duration": 5,
        "start_time": "2025-06-10T22:35:17.769Z"
      },
      {
        "duration": 24,
        "start_time": "2025-06-10T22:35:17.775Z"
      },
      {
        "duration": 23,
        "start_time": "2025-06-10T22:35:17.801Z"
      },
      {
        "duration": 43,
        "start_time": "2025-06-10T22:35:17.826Z"
      },
      {
        "duration": 27,
        "start_time": "2025-06-10T22:35:17.870Z"
      },
      {
        "duration": 40,
        "start_time": "2025-06-10T22:35:17.899Z"
      },
      {
        "duration": 44,
        "start_time": "2025-06-10T22:35:17.941Z"
      },
      {
        "duration": 31,
        "start_time": "2025-06-10T22:35:17.987Z"
      },
      {
        "duration": 6,
        "start_time": "2025-06-10T22:35:18.021Z"
      },
      {
        "duration": 28,
        "start_time": "2025-06-10T22:35:18.028Z"
      },
      {
        "duration": 39,
        "start_time": "2025-06-10T22:35:18.058Z"
      },
      {
        "duration": 73,
        "start_time": "2025-06-10T22:35:18.099Z"
      },
      {
        "duration": 23,
        "start_time": "2025-06-10T22:35:18.173Z"
      },
      {
        "duration": 40,
        "start_time": "2025-06-10T22:35:18.200Z"
      },
      {
        "duration": 38,
        "start_time": "2025-06-10T22:35:18.242Z"
      },
      {
        "duration": 343,
        "start_time": "2025-06-10T22:35:18.282Z"
      },
      {
        "duration": 20,
        "start_time": "2025-06-10T22:35:18.627Z"
      },
      {
        "duration": 141,
        "start_time": "2025-06-10T22:35:18.649Z"
      },
      {
        "duration": 86,
        "start_time": "2025-06-10T22:35:18.792Z"
      },
      {
        "duration": 21,
        "start_time": "2025-06-10T22:35:18.880Z"
      },
      {
        "duration": 11,
        "start_time": "2025-06-10T22:35:18.903Z"
      },
      {
        "duration": 14,
        "start_time": "2025-06-10T22:35:18.916Z"
      },
      {
        "duration": 22,
        "start_time": "2025-06-10T22:35:18.932Z"
      },
      {
        "duration": 26,
        "start_time": "2025-06-10T22:35:18.956Z"
      },
      {
        "duration": 24,
        "start_time": "2025-06-10T22:35:18.983Z"
      },
      {
        "duration": 2,
        "start_time": "2025-06-10T22:35:19.009Z"
      },
      {
        "duration": 23,
        "start_time": "2025-06-10T22:35:19.013Z"
      },
      {
        "duration": 2,
        "start_time": "2025-06-10T22:35:19.038Z"
      },
      {
        "duration": 35,
        "start_time": "2025-06-10T22:35:19.042Z"
      },
      {
        "duration": 33,
        "start_time": "2025-06-10T22:35:19.080Z"
      },
      {
        "duration": 3,
        "start_time": "2025-06-10T22:35:19.114Z"
      },
      {
        "duration": 27,
        "start_time": "2025-06-10T22:35:19.119Z"
      },
      {
        "duration": 30,
        "start_time": "2025-06-10T22:35:19.148Z"
      },
      {
        "duration": 4,
        "start_time": "2025-06-10T22:35:19.180Z"
      },
      {
        "duration": 4,
        "start_time": "2025-06-10T22:35:19.186Z"
      },
      {
        "duration": 12,
        "start_time": "2025-06-10T22:35:19.191Z"
      },
      {
        "duration": 7,
        "start_time": "2025-06-10T22:35:19.205Z"
      },
      {
        "duration": 7,
        "start_time": "2025-06-10T22:35:19.213Z"
      },
      {
        "duration": 17,
        "start_time": "2025-06-10T22:35:19.222Z"
      },
      {
        "duration": 4,
        "start_time": "2025-06-10T22:35:19.241Z"
      },
      {
        "duration": 4,
        "start_time": "2025-06-10T22:35:19.246Z"
      },
      {
        "duration": 4,
        "start_time": "2025-06-10T22:35:19.251Z"
      },
      {
        "duration": 6,
        "start_time": "2025-06-10T22:35:19.256Z"
      },
      {
        "duration": 3,
        "start_time": "2025-06-10T22:35:19.276Z"
      },
      {
        "duration": 6,
        "start_time": "2025-06-10T22:35:19.281Z"
      },
      {
        "duration": 44,
        "start_time": "2025-06-10T22:35:19.289Z"
      },
      {
        "duration": 4,
        "start_time": "2025-06-10T22:35:19.335Z"
      },
      {
        "duration": 25,
        "start_time": "2025-06-10T22:35:19.341Z"
      },
      {
        "duration": 12,
        "start_time": "2025-06-10T22:35:19.367Z"
      },
      {
        "duration": 8,
        "start_time": "2025-06-10T22:35:19.380Z"
      },
      {
        "duration": 5,
        "start_time": "2025-06-10T22:35:19.390Z"
      },
      {
        "duration": 6,
        "start_time": "2025-06-10T22:35:19.397Z"
      },
      {
        "duration": 141,
        "start_time": "2025-06-10T22:35:19.404Z"
      },
      {
        "duration": 0,
        "start_time": "2025-06-10T22:35:19.546Z"
      },
      {
        "duration": 0,
        "start_time": "2025-06-10T22:35:19.548Z"
      },
      {
        "duration": 2,
        "start_time": "2025-06-10T22:35:43.217Z"
      },
      {
        "duration": 4898,
        "start_time": "2025-06-10T22:37:27.385Z"
      },
      {
        "duration": 3,
        "start_time": "2025-06-10T22:37:32.285Z"
      },
      {
        "duration": 4009,
        "start_time": "2025-06-10T22:39:23.918Z"
      },
      {
        "duration": 3,
        "start_time": "2025-06-10T22:39:27.929Z"
      },
      {
        "duration": 892,
        "start_time": "2025-06-10T22:39:27.933Z"
      },
      {
        "duration": 5,
        "start_time": "2025-06-10T22:39:28.827Z"
      },
      {
        "duration": 1358,
        "start_time": "2025-06-10T22:39:28.834Z"
      },
      {
        "duration": 56,
        "start_time": "2025-06-10T22:39:30.194Z"
      },
      {
        "duration": 20,
        "start_time": "2025-06-10T22:39:30.252Z"
      },
      {
        "duration": 14,
        "start_time": "2025-06-10T22:39:30.273Z"
      },
      {
        "duration": 530,
        "start_time": "2025-06-10T22:39:30.289Z"
      },
      {
        "duration": 1037,
        "start_time": "2025-06-10T22:39:30.821Z"
      },
      {
        "duration": 30,
        "start_time": "2025-06-10T22:39:31.860Z"
      },
      {
        "duration": 44,
        "start_time": "2025-06-10T22:39:31.891Z"
      },
      {
        "duration": 41,
        "start_time": "2025-06-10T22:39:31.936Z"
      },
      {
        "duration": 6,
        "start_time": "2025-06-10T22:39:31.980Z"
      },
      {
        "duration": 67,
        "start_time": "2025-06-10T22:39:31.988Z"
      },
      {
        "duration": 4,
        "start_time": "2025-06-10T22:39:32.076Z"
      },
      {
        "duration": 40,
        "start_time": "2025-06-10T22:39:32.081Z"
      },
      {
        "duration": 35,
        "start_time": "2025-06-10T22:39:32.123Z"
      },
      {
        "duration": 50,
        "start_time": "2025-06-10T22:39:32.160Z"
      },
      {
        "duration": 25,
        "start_time": "2025-06-10T22:39:32.211Z"
      },
      {
        "duration": 56,
        "start_time": "2025-06-10T22:39:32.237Z"
      },
      {
        "duration": 28,
        "start_time": "2025-06-10T22:39:32.294Z"
      },
      {
        "duration": 18,
        "start_time": "2025-06-10T22:39:32.323Z"
      },
      {
        "duration": 19,
        "start_time": "2025-06-10T22:39:32.343Z"
      },
      {
        "duration": 23,
        "start_time": "2025-06-10T22:39:32.364Z"
      },
      {
        "duration": 47,
        "start_time": "2025-06-10T22:39:32.389Z"
      },
      {
        "duration": 25,
        "start_time": "2025-06-10T22:39:32.438Z"
      },
      {
        "duration": 33,
        "start_time": "2025-06-10T22:39:32.464Z"
      },
      {
        "duration": 85,
        "start_time": "2025-06-10T22:39:32.499Z"
      },
      {
        "duration": 21,
        "start_time": "2025-06-10T22:39:32.585Z"
      },
      {
        "duration": 394,
        "start_time": "2025-06-10T22:39:32.607Z"
      },
      {
        "duration": 20,
        "start_time": "2025-06-10T22:39:33.003Z"
      },
      {
        "duration": 74,
        "start_time": "2025-06-10T22:39:33.025Z"
      },
      {
        "duration": 3,
        "start_time": "2025-06-10T22:39:33.101Z"
      },
      {
        "duration": 5,
        "start_time": "2025-06-10T22:39:33.105Z"
      },
      {
        "duration": 9,
        "start_time": "2025-06-10T22:39:33.112Z"
      },
      {
        "duration": 56,
        "start_time": "2025-06-10T22:39:33.122Z"
      },
      {
        "duration": 26,
        "start_time": "2025-06-10T22:39:33.179Z"
      },
      {
        "duration": 27,
        "start_time": "2025-06-10T22:39:33.207Z"
      },
      {
        "duration": 41,
        "start_time": "2025-06-10T22:39:33.236Z"
      },
      {
        "duration": 3,
        "start_time": "2025-06-10T22:39:33.282Z"
      },
      {
        "duration": 28,
        "start_time": "2025-06-10T22:39:33.286Z"
      },
      {
        "duration": 3,
        "start_time": "2025-06-10T22:39:33.315Z"
      },
      {
        "duration": 30,
        "start_time": "2025-06-10T22:39:33.319Z"
      },
      {
        "duration": 44,
        "start_time": "2025-06-10T22:39:33.351Z"
      },
      {
        "duration": 2,
        "start_time": "2025-06-10T22:39:33.397Z"
      },
      {
        "duration": 25,
        "start_time": "2025-06-10T22:39:33.400Z"
      },
      {
        "duration": 5,
        "start_time": "2025-06-10T22:39:33.427Z"
      },
      {
        "duration": 23,
        "start_time": "2025-06-10T22:39:33.434Z"
      },
      {
        "duration": 10,
        "start_time": "2025-06-10T22:39:33.459Z"
      },
      {
        "duration": 5,
        "start_time": "2025-06-10T22:39:33.471Z"
      },
      {
        "duration": 22,
        "start_time": "2025-06-10T22:39:33.477Z"
      },
      {
        "duration": 13,
        "start_time": "2025-06-10T22:39:33.501Z"
      },
      {
        "duration": 13,
        "start_time": "2025-06-10T22:39:33.516Z"
      },
      {
        "duration": 18,
        "start_time": "2025-06-10T22:39:33.531Z"
      },
      {
        "duration": 155,
        "start_time": "2025-06-10T22:39:33.551Z"
      },
      {
        "duration": 15,
        "start_time": "2025-06-10T22:39:33.707Z"
      },
      {
        "duration": 14,
        "start_time": "2025-06-10T22:39:33.724Z"
      },
      {
        "duration": 23,
        "start_time": "2025-06-10T22:39:33.739Z"
      },
      {
        "duration": 9,
        "start_time": "2025-06-10T22:39:33.764Z"
      },
      {
        "duration": 50,
        "start_time": "2025-06-10T22:39:33.775Z"
      },
      {
        "duration": 4,
        "start_time": "2025-06-10T22:39:33.826Z"
      },
      {
        "duration": 19,
        "start_time": "2025-06-10T22:39:33.832Z"
      },
      {
        "duration": 21,
        "start_time": "2025-06-10T22:39:33.853Z"
      },
      {
        "duration": 43,
        "start_time": "2025-06-10T22:39:33.875Z"
      },
      {
        "duration": 29,
        "start_time": "2025-06-10T22:39:33.919Z"
      },
      {
        "duration": 32,
        "start_time": "2025-06-10T22:39:33.950Z"
      },
      {
        "duration": 10,
        "start_time": "2025-06-10T22:39:33.984Z"
      },
      {
        "duration": 5075,
        "start_time": "2025-06-10T22:44:28.434Z"
      },
      {
        "duration": 3,
        "start_time": "2025-06-10T22:44:33.511Z"
      },
      {
        "duration": 921,
        "start_time": "2025-06-10T22:44:33.516Z"
      },
      {
        "duration": 4,
        "start_time": "2025-06-10T22:44:34.439Z"
      },
      {
        "duration": 1392,
        "start_time": "2025-06-10T22:44:34.445Z"
      },
      {
        "duration": 66,
        "start_time": "2025-06-10T22:44:35.838Z"
      },
      {
        "duration": 9,
        "start_time": "2025-06-10T22:44:35.906Z"
      },
      {
        "duration": 4,
        "start_time": "2025-06-10T22:44:35.917Z"
      },
      {
        "duration": 507,
        "start_time": "2025-06-10T22:44:35.923Z"
      },
      {
        "duration": 995,
        "start_time": "2025-06-10T22:44:36.432Z"
      },
      {
        "duration": 22,
        "start_time": "2025-06-10T22:44:37.429Z"
      },
      {
        "duration": 59,
        "start_time": "2025-06-10T22:44:37.453Z"
      },
      {
        "duration": 18,
        "start_time": "2025-06-10T22:44:37.513Z"
      },
      {
        "duration": 6,
        "start_time": "2025-06-10T22:44:37.534Z"
      },
      {
        "duration": 73,
        "start_time": "2025-06-10T22:44:37.542Z"
      },
      {
        "duration": 3,
        "start_time": "2025-06-10T22:44:37.617Z"
      },
      {
        "duration": 102,
        "start_time": "2025-06-10T22:44:37.622Z"
      },
      {
        "duration": 21,
        "start_time": "2025-06-10T22:44:37.726Z"
      },
      {
        "duration": 43,
        "start_time": "2025-06-10T22:44:37.748Z"
      },
      {
        "duration": 24,
        "start_time": "2025-06-10T22:44:37.793Z"
      },
      {
        "duration": 21,
        "start_time": "2025-06-10T22:44:37.819Z"
      },
      {
        "duration": 19,
        "start_time": "2025-06-10T22:44:37.841Z"
      },
      {
        "duration": 5,
        "start_time": "2025-06-10T22:44:37.877Z"
      },
      {
        "duration": 7,
        "start_time": "2025-06-10T22:44:37.884Z"
      },
      {
        "duration": 28,
        "start_time": "2025-06-10T22:44:37.893Z"
      },
      {
        "duration": 56,
        "start_time": "2025-06-10T22:44:37.923Z"
      },
      {
        "duration": 24,
        "start_time": "2025-06-10T22:44:37.981Z"
      },
      {
        "duration": 22,
        "start_time": "2025-06-10T22:44:38.007Z"
      },
      {
        "duration": 65,
        "start_time": "2025-06-10T22:44:38.031Z"
      },
      {
        "duration": 22,
        "start_time": "2025-06-10T22:44:38.098Z"
      },
      {
        "duration": 363,
        "start_time": "2025-06-10T22:44:38.121Z"
      },
      {
        "duration": 20,
        "start_time": "2025-06-10T22:44:38.486Z"
      },
      {
        "duration": 26,
        "start_time": "2025-06-10T22:44:38.508Z"
      },
      {
        "duration": 3,
        "start_time": "2025-06-10T22:44:38.536Z"
      },
      {
        "duration": 3,
        "start_time": "2025-06-10T22:44:38.541Z"
      },
      {
        "duration": 35,
        "start_time": "2025-06-10T22:44:38.545Z"
      },
      {
        "duration": 9,
        "start_time": "2025-06-10T22:44:38.581Z"
      },
      {
        "duration": 19,
        "start_time": "2025-06-10T22:44:38.591Z"
      },
      {
        "duration": 28,
        "start_time": "2025-06-10T22:44:38.611Z"
      },
      {
        "duration": 48,
        "start_time": "2025-06-10T22:44:38.641Z"
      },
      {
        "duration": 2,
        "start_time": "2025-06-10T22:44:38.694Z"
      },
      {
        "duration": 97,
        "start_time": "2025-06-10T22:44:38.698Z"
      },
      {
        "duration": 2,
        "start_time": "2025-06-10T22:44:38.797Z"
      },
      {
        "duration": 28,
        "start_time": "2025-06-10T22:44:38.801Z"
      },
      {
        "duration": 59,
        "start_time": "2025-06-10T22:44:38.830Z"
      },
      {
        "duration": 36,
        "start_time": "2025-06-10T22:44:38.891Z"
      },
      {
        "duration": 24,
        "start_time": "2025-06-10T22:44:38.928Z"
      },
      {
        "duration": 5,
        "start_time": "2025-06-10T22:44:38.953Z"
      },
      {
        "duration": 9,
        "start_time": "2025-06-10T22:44:38.960Z"
      },
      {
        "duration": 10,
        "start_time": "2025-06-10T22:44:38.971Z"
      },
      {
        "duration": 5,
        "start_time": "2025-06-10T22:44:38.983Z"
      },
      {
        "duration": 3,
        "start_time": "2025-06-10T22:44:38.990Z"
      },
      {
        "duration": 5,
        "start_time": "2025-06-10T22:44:38.995Z"
      },
      {
        "duration": 6,
        "start_time": "2025-06-10T22:44:39.002Z"
      },
      {
        "duration": 3,
        "start_time": "2025-06-10T22:44:39.009Z"
      },
      {
        "duration": 3,
        "start_time": "2025-06-10T22:44:39.014Z"
      },
      {
        "duration": 7,
        "start_time": "2025-06-10T22:44:39.018Z"
      },
      {
        "duration": 4,
        "start_time": "2025-06-10T22:44:39.026Z"
      },
      {
        "duration": 12,
        "start_time": "2025-06-10T22:44:39.031Z"
      },
      {
        "duration": 4,
        "start_time": "2025-06-10T22:44:39.044Z"
      },
      {
        "duration": 66,
        "start_time": "2025-06-10T22:44:39.049Z"
      },
      {
        "duration": 4,
        "start_time": "2025-06-10T22:44:39.116Z"
      },
      {
        "duration": 15,
        "start_time": "2025-06-10T22:44:39.121Z"
      },
      {
        "duration": 14,
        "start_time": "2025-06-10T22:44:39.137Z"
      },
      {
        "duration": 5,
        "start_time": "2025-06-10T22:44:39.152Z"
      },
      {
        "duration": 4,
        "start_time": "2025-06-10T22:44:39.159Z"
      },
      {
        "duration": 12,
        "start_time": "2025-06-10T22:44:39.165Z"
      },
      {
        "duration": 3,
        "start_time": "2025-06-10T22:44:39.179Z"
      },
      {
        "duration": 5,
        "start_time": "2025-06-10T22:44:39.184Z"
      },
      {
        "duration": 6,
        "start_time": "2025-06-10T22:44:39.191Z"
      },
      {
        "duration": 50,
        "start_time": "2025-06-10T22:45:11.790Z"
      },
      {
        "duration": 7,
        "start_time": "2025-06-10T22:45:50.513Z"
      },
      {
        "duration": 10,
        "start_time": "2025-06-10T22:45:58.886Z"
      },
      {
        "duration": 4673,
        "start_time": "2025-06-10T22:49:17.911Z"
      },
      {
        "duration": 3,
        "start_time": "2025-06-10T22:49:22.587Z"
      },
      {
        "duration": 980,
        "start_time": "2025-06-10T22:49:22.592Z"
      },
      {
        "duration": 4,
        "start_time": "2025-06-10T22:49:23.577Z"
      },
      {
        "duration": 1365,
        "start_time": "2025-06-10T22:49:23.583Z"
      },
      {
        "duration": 65,
        "start_time": "2025-06-10T22:49:24.950Z"
      },
      {
        "duration": 18,
        "start_time": "2025-06-10T22:49:25.017Z"
      },
      {
        "duration": 8,
        "start_time": "2025-06-10T22:49:25.037Z"
      },
      {
        "duration": 516,
        "start_time": "2025-06-10T22:49:25.047Z"
      },
      {
        "duration": 1071,
        "start_time": "2025-06-10T22:49:25.565Z"
      },
      {
        "duration": 23,
        "start_time": "2025-06-10T22:49:26.637Z"
      },
      {
        "duration": 41,
        "start_time": "2025-06-10T22:49:26.676Z"
      },
      {
        "duration": 20,
        "start_time": "2025-06-10T22:49:26.719Z"
      },
      {
        "duration": 27,
        "start_time": "2025-06-10T22:49:26.742Z"
      },
      {
        "duration": 56,
        "start_time": "2025-06-10T22:49:26.771Z"
      },
      {
        "duration": 3,
        "start_time": "2025-06-10T22:49:26.829Z"
      },
      {
        "duration": 98,
        "start_time": "2025-06-10T22:49:26.833Z"
      },
      {
        "duration": 28,
        "start_time": "2025-06-10T22:49:26.932Z"
      },
      {
        "duration": 46,
        "start_time": "2025-06-10T22:49:26.962Z"
      },
      {
        "duration": 24,
        "start_time": "2025-06-10T22:49:27.010Z"
      },
      {
        "duration": 24,
        "start_time": "2025-06-10T22:49:27.035Z"
      },
      {
        "duration": 32,
        "start_time": "2025-06-10T22:49:27.061Z"
      },
      {
        "duration": 13,
        "start_time": "2025-06-10T22:49:27.095Z"
      },
      {
        "duration": 15,
        "start_time": "2025-06-10T22:49:27.110Z"
      },
      {
        "duration": 23,
        "start_time": "2025-06-10T22:49:27.126Z"
      },
      {
        "duration": 54,
        "start_time": "2025-06-10T22:49:27.151Z"
      },
      {
        "duration": 23,
        "start_time": "2025-06-10T22:49:27.207Z"
      },
      {
        "duration": 23,
        "start_time": "2025-06-10T22:49:27.232Z"
      },
      {
        "duration": 63,
        "start_time": "2025-06-10T22:49:27.257Z"
      },
      {
        "duration": 21,
        "start_time": "2025-06-10T22:49:27.321Z"
      },
      {
        "duration": 285,
        "start_time": "2025-06-10T22:49:27.344Z"
      },
      {
        "duration": 19,
        "start_time": "2025-06-10T22:49:27.630Z"
      },
      {
        "duration": 135,
        "start_time": "2025-06-10T22:49:27.651Z"
      },
      {
        "duration": 3,
        "start_time": "2025-06-10T22:49:27.787Z"
      },
      {
        "duration": 23,
        "start_time": "2025-06-10T22:49:27.791Z"
      },
      {
        "duration": 20,
        "start_time": "2025-06-10T22:49:27.815Z"
      },
      {
        "duration": 10,
        "start_time": "2025-06-10T22:49:27.836Z"
      },
      {
        "duration": 22,
        "start_time": "2025-06-10T22:49:27.847Z"
      },
      {
        "duration": 27,
        "start_time": "2025-06-10T22:49:27.870Z"
      },
      {
        "duration": 25,
        "start_time": "2025-06-10T22:49:27.898Z"
      },
      {
        "duration": 2,
        "start_time": "2025-06-10T22:49:27.927Z"
      },
      {
        "duration": 23,
        "start_time": "2025-06-10T22:49:27.931Z"
      },
      {
        "duration": 21,
        "start_time": "2025-06-10T22:49:27.956Z"
      },
      {
        "duration": 20,
        "start_time": "2025-06-10T22:49:27.978Z"
      },
      {
        "duration": 30,
        "start_time": "2025-06-10T22:49:28.000Z"
      },
      {
        "duration": 3,
        "start_time": "2025-06-10T22:49:28.031Z"
      },
      {
        "duration": 64,
        "start_time": "2025-06-10T22:49:28.035Z"
      },
      {
        "duration": 6,
        "start_time": "2025-06-10T22:49:28.100Z"
      },
      {
        "duration": 104,
        "start_time": "2025-06-10T22:49:28.107Z"
      },
      {
        "duration": 5,
        "start_time": "2025-06-10T22:49:28.213Z"
      },
      {
        "duration": 5,
        "start_time": "2025-06-10T22:49:28.219Z"
      },
      {
        "duration": 5,
        "start_time": "2025-06-10T22:49:28.225Z"
      },
      {
        "duration": 7,
        "start_time": "2025-06-10T22:49:28.231Z"
      },
      {
        "duration": 60,
        "start_time": "2025-06-10T22:49:28.240Z"
      },
      {
        "duration": 14,
        "start_time": "2025-06-10T22:49:28.302Z"
      },
      {
        "duration": 11,
        "start_time": "2025-06-10T22:49:28.317Z"
      },
      {
        "duration": 7,
        "start_time": "2025-06-10T22:49:28.329Z"
      },
      {
        "duration": 3,
        "start_time": "2025-06-10T22:49:28.338Z"
      },
      {
        "duration": 3,
        "start_time": "2025-06-10T22:49:28.343Z"
      },
      {
        "duration": 3,
        "start_time": "2025-06-10T22:49:28.348Z"
      },
      {
        "duration": 50,
        "start_time": "2025-06-10T22:49:28.353Z"
      },
      {
        "duration": 3,
        "start_time": "2025-06-10T22:49:28.405Z"
      },
      {
        "duration": 7,
        "start_time": "2025-06-10T22:49:28.410Z"
      },
      {
        "duration": 4,
        "start_time": "2025-06-10T22:49:28.419Z"
      },
      {
        "duration": 11,
        "start_time": "2025-06-10T22:49:28.424Z"
      },
      {
        "duration": 9,
        "start_time": "2025-06-10T22:49:28.437Z"
      },
      {
        "duration": 5,
        "start_time": "2025-06-10T22:49:28.448Z"
      },
      {
        "duration": 21,
        "start_time": "2025-06-10T22:49:28.455Z"
      },
      {
        "duration": 5,
        "start_time": "2025-06-10T22:49:28.477Z"
      },
      {
        "duration": 5,
        "start_time": "2025-06-10T22:49:28.483Z"
      },
      {
        "duration": 4623,
        "start_time": "2025-06-10T23:15:54.976Z"
      },
      {
        "duration": 4,
        "start_time": "2025-06-10T23:15:59.601Z"
      },
      {
        "duration": 932,
        "start_time": "2025-06-10T23:15:59.606Z"
      },
      {
        "duration": 5,
        "start_time": "2025-06-10T23:16:00.539Z"
      },
      {
        "duration": 1412,
        "start_time": "2025-06-10T23:16:00.547Z"
      },
      {
        "duration": 71,
        "start_time": "2025-06-10T23:16:01.961Z"
      },
      {
        "duration": 35,
        "start_time": "2025-06-10T23:16:02.034Z"
      },
      {
        "duration": 5,
        "start_time": "2025-06-10T23:16:02.071Z"
      },
      {
        "duration": 524,
        "start_time": "2025-06-10T23:16:02.077Z"
      },
      {
        "duration": 1001,
        "start_time": "2025-06-10T23:16:02.603Z"
      },
      {
        "duration": 22,
        "start_time": "2025-06-10T23:16:03.605Z"
      },
      {
        "duration": 56,
        "start_time": "2025-06-10T23:16:03.629Z"
      },
      {
        "duration": 18,
        "start_time": "2025-06-10T23:16:03.687Z"
      },
      {
        "duration": 6,
        "start_time": "2025-06-10T23:16:03.708Z"
      },
      {
        "duration": 69,
        "start_time": "2025-06-10T23:16:03.716Z"
      },
      {
        "duration": 74,
        "start_time": "2025-06-10T23:16:03.787Z"
      },
      {
        "duration": 8,
        "start_time": "2025-06-10T23:16:03.863Z"
      },
      {
        "duration": 30,
        "start_time": "2025-06-10T23:16:03.872Z"
      },
      {
        "duration": 40,
        "start_time": "2025-06-10T23:16:03.904Z"
      },
      {
        "duration": 32,
        "start_time": "2025-06-10T23:16:03.946Z"
      },
      {
        "duration": 22,
        "start_time": "2025-06-10T23:16:03.980Z"
      },
      {
        "duration": 18,
        "start_time": "2025-06-10T23:16:04.004Z"
      },
      {
        "duration": 22,
        "start_time": "2025-06-10T23:16:04.024Z"
      },
      {
        "duration": 18,
        "start_time": "2025-06-10T23:16:04.048Z"
      },
      {
        "duration": 28,
        "start_time": "2025-06-10T23:16:04.067Z"
      },
      {
        "duration": 38,
        "start_time": "2025-06-10T23:16:04.097Z"
      },
      {
        "duration": 40,
        "start_time": "2025-06-10T23:16:04.137Z"
      },
      {
        "duration": 22,
        "start_time": "2025-06-10T23:16:04.179Z"
      },
      {
        "duration": 109,
        "start_time": "2025-06-10T23:16:04.202Z"
      },
      {
        "duration": 21,
        "start_time": "2025-06-10T23:16:04.313Z"
      },
      {
        "duration": 312,
        "start_time": "2025-06-10T23:16:04.336Z"
      },
      {
        "duration": 20,
        "start_time": "2025-06-10T23:16:04.650Z"
      },
      {
        "duration": 31,
        "start_time": "2025-06-10T23:16:04.676Z"
      },
      {
        "duration": 3,
        "start_time": "2025-06-10T23:16:04.708Z"
      },
      {
        "duration": 18,
        "start_time": "2025-06-10T23:16:04.712Z"
      },
      {
        "duration": 18,
        "start_time": "2025-06-10T23:16:04.732Z"
      },
      {
        "duration": 7,
        "start_time": "2025-06-10T23:16:04.752Z"
      },
      {
        "duration": 20,
        "start_time": "2025-06-10T23:16:04.761Z"
      },
      {
        "duration": 29,
        "start_time": "2025-06-10T23:16:04.782Z"
      },
      {
        "duration": 25,
        "start_time": "2025-06-10T23:16:04.812Z"
      },
      {
        "duration": 69,
        "start_time": "2025-06-10T23:16:04.842Z"
      },
      {
        "duration": 66,
        "start_time": "2025-06-10T23:16:04.913Z"
      },
      {
        "duration": 59,
        "start_time": "2025-06-10T23:16:04.980Z"
      },
      {
        "duration": 58,
        "start_time": "2025-06-10T23:16:05.041Z"
      },
      {
        "duration": 30,
        "start_time": "2025-06-10T23:16:05.101Z"
      },
      {
        "duration": 2,
        "start_time": "2025-06-10T23:16:05.133Z"
      },
      {
        "duration": 61,
        "start_time": "2025-06-10T23:16:05.137Z"
      },
      {
        "duration": 5,
        "start_time": "2025-06-10T23:16:05.200Z"
      },
      {
        "duration": 13,
        "start_time": "2025-06-10T23:16:05.207Z"
      },
      {
        "duration": 14,
        "start_time": "2025-06-10T23:16:05.222Z"
      },
      {
        "duration": 11,
        "start_time": "2025-06-10T23:16:05.237Z"
      },
      {
        "duration": 19,
        "start_time": "2025-06-10T23:16:05.250Z"
      },
      {
        "duration": 18,
        "start_time": "2025-06-10T23:16:05.271Z"
      },
      {
        "duration": 9,
        "start_time": "2025-06-10T23:16:05.291Z"
      },
      {
        "duration": 16,
        "start_time": "2025-06-10T23:16:05.302Z"
      },
      {
        "duration": 30,
        "start_time": "2025-06-10T23:16:05.320Z"
      },
      {
        "duration": 5,
        "start_time": "2025-06-10T23:16:05.352Z"
      },
      {
        "duration": 7,
        "start_time": "2025-06-10T23:16:05.359Z"
      },
      {
        "duration": 5,
        "start_time": "2025-06-10T23:16:05.368Z"
      },
      {
        "duration": 9,
        "start_time": "2025-06-10T23:16:05.375Z"
      },
      {
        "duration": 78,
        "start_time": "2025-06-10T23:16:05.386Z"
      },
      {
        "duration": 4,
        "start_time": "2025-06-10T23:16:05.465Z"
      },
      {
        "duration": 4,
        "start_time": "2025-06-10T23:16:05.471Z"
      },
      {
        "duration": 5,
        "start_time": "2025-06-10T23:16:05.477Z"
      },
      {
        "duration": 5,
        "start_time": "2025-06-10T23:16:05.483Z"
      },
      {
        "duration": 7,
        "start_time": "2025-06-10T23:16:05.489Z"
      },
      {
        "duration": 3,
        "start_time": "2025-06-10T23:16:05.498Z"
      },
      {
        "duration": 13,
        "start_time": "2025-06-10T23:16:05.503Z"
      },
      {
        "duration": 5,
        "start_time": "2025-06-10T23:16:05.518Z"
      },
      {
        "duration": 29,
        "start_time": "2025-06-10T23:16:05.525Z"
      },
      {
        "duration": 7,
        "start_time": "2025-06-10T23:16:05.557Z"
      },
      {
        "duration": 4903,
        "start_time": "2025-06-10T23:20:43.801Z"
      },
      {
        "duration": 3,
        "start_time": "2025-06-10T23:20:48.706Z"
      },
      {
        "duration": 959,
        "start_time": "2025-06-10T23:20:48.711Z"
      },
      {
        "duration": 4,
        "start_time": "2025-06-10T23:20:49.672Z"
      },
      {
        "duration": 1381,
        "start_time": "2025-06-10T23:20:49.678Z"
      },
      {
        "duration": 60,
        "start_time": "2025-06-10T23:20:51.061Z"
      },
      {
        "duration": 10,
        "start_time": "2025-06-10T23:20:51.122Z"
      },
      {
        "duration": 8,
        "start_time": "2025-06-10T23:20:51.134Z"
      },
      {
        "duration": 529,
        "start_time": "2025-06-10T23:20:51.144Z"
      },
      {
        "duration": 1057,
        "start_time": "2025-06-10T23:20:51.677Z"
      },
      {
        "duration": 22,
        "start_time": "2025-06-10T23:20:52.735Z"
      },
      {
        "duration": 71,
        "start_time": "2025-06-10T23:20:52.758Z"
      },
      {
        "duration": 20,
        "start_time": "2025-06-10T23:20:52.831Z"
      },
      {
        "duration": 52,
        "start_time": "2025-06-10T23:20:52.853Z"
      },
      {
        "duration": 85,
        "start_time": "2025-06-10T23:20:52.907Z"
      },
      {
        "duration": 3,
        "start_time": "2025-06-10T23:20:52.994Z"
      },
      {
        "duration": 95,
        "start_time": "2025-06-10T23:20:53.000Z"
      },
      {
        "duration": 24,
        "start_time": "2025-06-10T23:20:53.097Z"
      },
      {
        "duration": 49,
        "start_time": "2025-06-10T23:20:53.123Z"
      },
      {
        "duration": 38,
        "start_time": "2025-06-10T23:20:53.174Z"
      },
      {
        "duration": 24,
        "start_time": "2025-06-10T23:20:53.215Z"
      },
      {
        "duration": 22,
        "start_time": "2025-06-10T23:20:53.241Z"
      },
      {
        "duration": 13,
        "start_time": "2025-06-10T23:20:53.265Z"
      },
      {
        "duration": 20,
        "start_time": "2025-06-10T23:20:53.279Z"
      },
      {
        "duration": 26,
        "start_time": "2025-06-10T23:20:53.301Z"
      },
      {
        "duration": 76,
        "start_time": "2025-06-10T23:20:53.328Z"
      },
      {
        "duration": 24,
        "start_time": "2025-06-10T23:20:53.405Z"
      },
      {
        "duration": 23,
        "start_time": "2025-06-10T23:20:53.433Z"
      },
      {
        "duration": 58,
        "start_time": "2025-06-10T23:20:53.457Z"
      },
      {
        "duration": 21,
        "start_time": "2025-06-10T23:20:53.517Z"
      },
      {
        "duration": 331,
        "start_time": "2025-06-10T23:20:53.540Z"
      },
      {
        "duration": 28,
        "start_time": "2025-06-10T23:20:53.873Z"
      },
      {
        "duration": 35,
        "start_time": "2025-06-10T23:20:53.903Z"
      },
      {
        "duration": 2,
        "start_time": "2025-06-10T23:20:53.940Z"
      },
      {
        "duration": 21,
        "start_time": "2025-06-10T23:20:53.944Z"
      },
      {
        "duration": 9,
        "start_time": "2025-06-10T23:20:53.967Z"
      },
      {
        "duration": 36,
        "start_time": "2025-06-10T23:20:53.978Z"
      },
      {
        "duration": 18,
        "start_time": "2025-06-10T23:20:54.016Z"
      },
      {
        "duration": 33,
        "start_time": "2025-06-10T23:20:54.036Z"
      },
      {
        "duration": 25,
        "start_time": "2025-06-10T23:20:54.070Z"
      },
      {
        "duration": 3,
        "start_time": "2025-06-10T23:20:54.096Z"
      },
      {
        "duration": 24,
        "start_time": "2025-06-10T23:20:54.100Z"
      },
      {
        "duration": 2,
        "start_time": "2025-06-10T23:20:54.126Z"
      },
      {
        "duration": 19,
        "start_time": "2025-06-10T23:20:54.130Z"
      },
      {
        "duration": 54,
        "start_time": "2025-06-10T23:20:54.151Z"
      },
      {
        "duration": 3,
        "start_time": "2025-06-10T23:20:54.206Z"
      },
      {
        "duration": 88,
        "start_time": "2025-06-10T23:20:54.210Z"
      },
      {
        "duration": 5,
        "start_time": "2025-06-10T23:20:54.300Z"
      },
      {
        "duration": 20,
        "start_time": "2025-06-10T23:20:54.307Z"
      },
      {
        "duration": 10,
        "start_time": "2025-06-10T23:20:54.329Z"
      },
      {
        "duration": 7,
        "start_time": "2025-06-10T23:20:54.341Z"
      },
      {
        "duration": 30,
        "start_time": "2025-06-10T23:20:54.349Z"
      },
      {
        "duration": 6,
        "start_time": "2025-06-10T23:20:54.381Z"
      },
      {
        "duration": 12,
        "start_time": "2025-06-10T23:20:54.388Z"
      },
      {
        "duration": 4,
        "start_time": "2025-06-10T23:20:54.401Z"
      },
      {
        "duration": 6,
        "start_time": "2025-06-10T23:20:54.406Z"
      },
      {
        "duration": 8,
        "start_time": "2025-06-10T23:20:54.414Z"
      },
      {
        "duration": 8,
        "start_time": "2025-06-10T23:20:54.424Z"
      },
      {
        "duration": 60,
        "start_time": "2025-06-10T23:20:54.433Z"
      },
      {
        "duration": 4,
        "start_time": "2025-06-10T23:20:54.495Z"
      },
      {
        "duration": 47,
        "start_time": "2025-06-10T23:20:54.501Z"
      },
      {
        "duration": 4,
        "start_time": "2025-06-10T23:20:54.550Z"
      },
      {
        "duration": 6,
        "start_time": "2025-06-10T23:20:54.555Z"
      },
      {
        "duration": 4,
        "start_time": "2025-06-10T23:20:54.563Z"
      },
      {
        "duration": 13,
        "start_time": "2025-06-10T23:20:54.568Z"
      },
      {
        "duration": 5,
        "start_time": "2025-06-10T23:20:54.583Z"
      },
      {
        "duration": 3,
        "start_time": "2025-06-10T23:20:54.589Z"
      },
      {
        "duration": 10,
        "start_time": "2025-06-10T23:20:54.594Z"
      },
      {
        "duration": 3,
        "start_time": "2025-06-10T23:20:54.606Z"
      },
      {
        "duration": 4,
        "start_time": "2025-06-10T23:20:54.610Z"
      },
      {
        "duration": 5,
        "start_time": "2025-06-10T23:20:54.616Z"
      },
      {
        "duration": 51,
        "start_time": "2025-06-11T21:25:44.329Z"
      },
      {
        "duration": 73,
        "start_time": "2025-06-11T21:34:33.752Z"
      },
      {
        "duration": 4699,
        "start_time": "2025-06-11T21:34:43.252Z"
      },
      {
        "duration": 3,
        "start_time": "2025-06-11T21:34:48.956Z"
      },
      {
        "duration": 3,
        "start_time": "2025-06-11T21:34:54.507Z"
      },
      {
        "duration": 2242,
        "start_time": "2025-06-11T21:34:59.935Z"
      },
      {
        "duration": 3,
        "start_time": "2025-06-11T21:35:03.021Z"
      },
      {
        "duration": 2251,
        "start_time": "2025-06-11T21:35:18.106Z"
      },
      {
        "duration": 3,
        "start_time": "2025-06-11T21:35:20.359Z"
      },
      {
        "duration": 2579,
        "start_time": "2025-06-11T21:35:20.364Z"
      },
      {
        "duration": 4,
        "start_time": "2025-06-11T21:35:22.945Z"
      },
      {
        "duration": 739,
        "start_time": "2025-06-11T21:35:22.950Z"
      },
      {
        "duration": 33,
        "start_time": "2025-06-11T21:35:23.690Z"
      },
      {
        "duration": 17,
        "start_time": "2025-06-11T21:35:23.735Z"
      },
      {
        "duration": 3,
        "start_time": "2025-06-11T21:35:23.753Z"
      },
      {
        "duration": 294,
        "start_time": "2025-06-11T21:35:23.757Z"
      },
      {
        "duration": 576,
        "start_time": "2025-06-11T21:35:24.054Z"
      },
      {
        "duration": 22,
        "start_time": "2025-06-11T21:35:24.635Z"
      },
      {
        "duration": 37,
        "start_time": "2025-06-11T21:35:24.659Z"
      },
      {
        "duration": 17,
        "start_time": "2025-06-11T21:35:24.698Z"
      },
      {
        "duration": 5,
        "start_time": "2025-06-11T21:35:24.736Z"
      },
      {
        "duration": 1195,
        "start_time": "2025-06-11T21:35:24.743Z"
      },
      {
        "duration": 0,
        "start_time": "2025-06-11T21:35:25.941Z"
      },
      {
        "duration": 0,
        "start_time": "2025-06-11T21:35:25.942Z"
      },
      {
        "duration": 0,
        "start_time": "2025-06-11T21:35:25.943Z"
      },
      {
        "duration": 0,
        "start_time": "2025-06-11T21:35:25.944Z"
      },
      {
        "duration": 0,
        "start_time": "2025-06-11T21:35:25.945Z"
      },
      {
        "duration": 0,
        "start_time": "2025-06-11T21:35:25.946Z"
      },
      {
        "duration": 0,
        "start_time": "2025-06-11T21:35:25.947Z"
      },
      {
        "duration": 0,
        "start_time": "2025-06-11T21:35:25.948Z"
      },
      {
        "duration": 0,
        "start_time": "2025-06-11T21:35:25.949Z"
      },
      {
        "duration": 0,
        "start_time": "2025-06-11T21:35:25.950Z"
      },
      {
        "duration": 0,
        "start_time": "2025-06-11T21:35:25.951Z"
      },
      {
        "duration": 0,
        "start_time": "2025-06-11T21:35:25.952Z"
      },
      {
        "duration": 0,
        "start_time": "2025-06-11T21:35:25.953Z"
      },
      {
        "duration": 0,
        "start_time": "2025-06-11T21:35:25.954Z"
      },
      {
        "duration": 0,
        "start_time": "2025-06-11T21:35:25.955Z"
      },
      {
        "duration": 0,
        "start_time": "2025-06-11T21:35:25.956Z"
      },
      {
        "duration": 0,
        "start_time": "2025-06-11T21:35:25.957Z"
      },
      {
        "duration": 0,
        "start_time": "2025-06-11T21:35:25.958Z"
      },
      {
        "duration": 0,
        "start_time": "2025-06-11T21:35:25.959Z"
      },
      {
        "duration": 0,
        "start_time": "2025-06-11T21:35:25.960Z"
      },
      {
        "duration": 0,
        "start_time": "2025-06-11T21:35:25.961Z"
      },
      {
        "duration": 0,
        "start_time": "2025-06-11T21:35:25.962Z"
      },
      {
        "duration": 0,
        "start_time": "2025-06-11T21:35:25.963Z"
      },
      {
        "duration": 0,
        "start_time": "2025-06-11T21:35:25.964Z"
      },
      {
        "duration": 0,
        "start_time": "2025-06-11T21:35:25.964Z"
      },
      {
        "duration": 0,
        "start_time": "2025-06-11T21:35:25.966Z"
      },
      {
        "duration": 0,
        "start_time": "2025-06-11T21:35:25.966Z"
      },
      {
        "duration": 0,
        "start_time": "2025-06-11T21:35:25.967Z"
      },
      {
        "duration": 0,
        "start_time": "2025-06-11T21:35:25.968Z"
      },
      {
        "duration": 0,
        "start_time": "2025-06-11T21:35:25.969Z"
      },
      {
        "duration": 0,
        "start_time": "2025-06-11T21:35:25.970Z"
      },
      {
        "duration": 0,
        "start_time": "2025-06-11T21:35:25.971Z"
      },
      {
        "duration": 0,
        "start_time": "2025-06-11T21:35:25.973Z"
      },
      {
        "duration": 0,
        "start_time": "2025-06-11T21:35:25.974Z"
      },
      {
        "duration": 0,
        "start_time": "2025-06-11T21:35:25.977Z"
      },
      {
        "duration": 0,
        "start_time": "2025-06-11T21:35:26.035Z"
      },
      {
        "duration": 0,
        "start_time": "2025-06-11T21:35:26.037Z"
      },
      {
        "duration": 0,
        "start_time": "2025-06-11T21:35:26.038Z"
      },
      {
        "duration": 0,
        "start_time": "2025-06-11T21:35:26.039Z"
      },
      {
        "duration": 0,
        "start_time": "2025-06-11T21:35:26.041Z"
      },
      {
        "duration": 0,
        "start_time": "2025-06-11T21:35:26.042Z"
      },
      {
        "duration": 0,
        "start_time": "2025-06-11T21:35:26.044Z"
      },
      {
        "duration": 0,
        "start_time": "2025-06-11T21:35:26.045Z"
      },
      {
        "duration": 0,
        "start_time": "2025-06-11T21:35:26.047Z"
      },
      {
        "duration": 0,
        "start_time": "2025-06-11T21:35:26.048Z"
      },
      {
        "duration": 0,
        "start_time": "2025-06-11T21:35:26.050Z"
      },
      {
        "duration": 0,
        "start_time": "2025-06-11T21:35:26.051Z"
      },
      {
        "duration": 0,
        "start_time": "2025-06-11T21:35:26.052Z"
      },
      {
        "duration": 0,
        "start_time": "2025-06-11T21:35:26.053Z"
      },
      {
        "duration": 0,
        "start_time": "2025-06-11T21:35:26.055Z"
      },
      {
        "duration": 0,
        "start_time": "2025-06-11T21:35:26.056Z"
      },
      {
        "duration": 0,
        "start_time": "2025-06-11T21:35:26.057Z"
      },
      {
        "duration": 0,
        "start_time": "2025-06-11T21:35:26.058Z"
      },
      {
        "duration": 0,
        "start_time": "2025-06-11T21:35:26.060Z"
      },
      {
        "duration": 0,
        "start_time": "2025-06-11T21:35:26.061Z"
      },
      {
        "duration": 0,
        "start_time": "2025-06-11T21:35:26.062Z"
      },
      {
        "duration": 0,
        "start_time": "2025-06-11T21:35:26.063Z"
      },
      {
        "duration": 4,
        "start_time": "2025-06-11T21:36:01.299Z"
      },
      {
        "duration": 7,
        "start_time": "2025-06-11T21:37:19.049Z"
      },
      {
        "duration": 5,
        "start_time": "2025-06-11T21:40:43.560Z"
      },
      {
        "duration": 1076,
        "start_time": "2025-06-11T21:43:53.619Z"
      },
      {
        "duration": 32,
        "start_time": "2025-06-11T21:44:26.381Z"
      },
      {
        "duration": 41,
        "start_time": "2025-06-11T21:44:28.940Z"
      },
      {
        "duration": 3,
        "start_time": "2025-06-11T21:44:46.917Z"
      },
      {
        "duration": 3,
        "start_time": "2025-06-11T21:45:19.708Z"
      },
      {
        "duration": 5,
        "start_time": "2025-06-11T21:48:27.139Z"
      },
      {
        "duration": 74,
        "start_time": "2025-06-11T21:49:28.672Z"
      },
      {
        "duration": 4,
        "start_time": "2025-06-11T21:49:35.973Z"
      },
      {
        "duration": 28,
        "start_time": "2025-06-11T21:50:07.816Z"
      },
      {
        "duration": 4,
        "start_time": "2025-06-11T21:50:09.545Z"
      },
      {
        "duration": 41,
        "start_time": "2025-06-11T21:50:12.941Z"
      },
      {
        "duration": 5,
        "start_time": "2025-06-11T21:50:14.167Z"
      },
      {
        "duration": 3,
        "start_time": "2025-06-11T21:50:22.891Z"
      },
      {
        "duration": 3,
        "start_time": "2025-06-11T21:50:25.978Z"
      },
      {
        "duration": 44,
        "start_time": "2025-06-11T21:53:39.327Z"
      },
      {
        "duration": 35,
        "start_time": "2025-06-11T21:53:41.977Z"
      },
      {
        "duration": 10,
        "start_time": "2025-06-11T21:54:47.965Z"
      },
      {
        "duration": 8,
        "start_time": "2025-06-11T21:54:54.118Z"
      },
      {
        "duration": 7,
        "start_time": "2025-06-11T21:54:56.828Z"
      },
      {
        "duration": 746,
        "start_time": "2025-06-11T21:54:59.858Z"
      },
      {
        "duration": 562,
        "start_time": "2025-06-11T21:55:20.399Z"
      },
      {
        "duration": 5,
        "start_time": "2025-06-11T21:55:38.702Z"
      },
      {
        "duration": 1046,
        "start_time": "2025-06-11T21:55:44.085Z"
      },
      {
        "duration": 693,
        "start_time": "2025-06-11T21:56:17.869Z"
      },
      {
        "duration": 979,
        "start_time": "2025-06-11T21:56:22.308Z"
      },
      {
        "duration": 40,
        "start_time": "2025-06-11T21:56:47.091Z"
      },
      {
        "duration": 35,
        "start_time": "2025-06-11T21:56:51.692Z"
      },
      {
        "duration": 23,
        "start_time": "2025-06-11T21:56:53.850Z"
      },
      {
        "duration": 21,
        "start_time": "2025-06-11T21:56:55.416Z"
      },
      {
        "duration": 17,
        "start_time": "2025-06-11T21:56:56.080Z"
      },
      {
        "duration": 22,
        "start_time": "2025-06-11T21:57:00.996Z"
      },
      {
        "duration": 2291,
        "start_time": "2025-06-11T21:57:48.586Z"
      },
      {
        "duration": 3,
        "start_time": "2025-06-11T21:57:50.880Z"
      },
      {
        "duration": 1035,
        "start_time": "2025-06-11T21:57:50.885Z"
      },
      {
        "duration": 4,
        "start_time": "2025-06-11T21:57:51.922Z"
      },
      {
        "duration": 725,
        "start_time": "2025-06-11T21:57:51.935Z"
      },
      {
        "duration": 25,
        "start_time": "2025-06-11T21:57:52.662Z"
      },
      {
        "duration": 83,
        "start_time": "2025-06-11T21:57:52.688Z"
      },
      {
        "duration": 13,
        "start_time": "2025-06-11T21:57:52.773Z"
      },
      {
        "duration": 295,
        "start_time": "2025-06-11T21:57:52.788Z"
      },
      {
        "duration": 553,
        "start_time": "2025-06-11T21:57:53.085Z"
      },
      {
        "duration": 21,
        "start_time": "2025-06-11T21:57:53.640Z"
      },
      {
        "duration": 44,
        "start_time": "2025-06-11T21:57:53.663Z"
      },
      {
        "duration": 27,
        "start_time": "2025-06-11T21:57:53.709Z"
      },
      {
        "duration": 6,
        "start_time": "2025-06-11T21:57:53.738Z"
      },
      {
        "duration": 5,
        "start_time": "2025-06-11T21:57:53.745Z"
      },
      {
        "duration": 31,
        "start_time": "2025-06-11T21:57:53.751Z"
      },
      {
        "duration": 3,
        "start_time": "2025-06-11T21:57:53.783Z"
      },
      {
        "duration": 72,
        "start_time": "2025-06-11T21:57:53.788Z"
      },
      {
        "duration": 10,
        "start_time": "2025-06-11T21:57:53.862Z"
      },
      {
        "duration": 23,
        "start_time": "2025-06-11T21:57:53.874Z"
      },
      {
        "duration": 39,
        "start_time": "2025-06-11T21:57:53.898Z"
      },
      {
        "duration": 23,
        "start_time": "2025-06-11T21:57:53.939Z"
      },
      {
        "duration": 20,
        "start_time": "2025-06-11T21:57:53.964Z"
      },
      {
        "duration": 20,
        "start_time": "2025-06-11T21:57:53.986Z"
      },
      {
        "duration": 27,
        "start_time": "2025-06-11T21:57:54.008Z"
      },
      {
        "duration": 5,
        "start_time": "2025-06-11T21:57:54.037Z"
      },
      {
        "duration": 23,
        "start_time": "2025-06-11T21:57:54.044Z"
      },
      {
        "duration": 44,
        "start_time": "2025-06-11T21:57:54.072Z"
      },
      {
        "duration": 69,
        "start_time": "2025-06-11T21:57:54.118Z"
      },
      {
        "duration": 26,
        "start_time": "2025-06-11T21:57:54.190Z"
      },
      {
        "duration": 37,
        "start_time": "2025-06-11T21:57:54.218Z"
      },
      {
        "duration": 35,
        "start_time": "2025-06-11T21:57:54.256Z"
      },
      {
        "duration": 28,
        "start_time": "2025-06-11T21:57:54.292Z"
      },
      {
        "duration": 172,
        "start_time": "2025-06-11T21:57:54.335Z"
      },
      {
        "duration": 7,
        "start_time": "2025-06-11T21:57:54.508Z"
      },
      {
        "duration": 31,
        "start_time": "2025-06-11T21:57:54.516Z"
      },
      {
        "duration": 2,
        "start_time": "2025-06-11T21:57:54.549Z"
      },
      {
        "duration": 3,
        "start_time": "2025-06-11T21:57:54.553Z"
      },
      {
        "duration": 12,
        "start_time": "2025-06-11T21:57:54.557Z"
      },
      {
        "duration": 5,
        "start_time": "2025-06-11T21:57:54.570Z"
      },
      {
        "duration": 19,
        "start_time": "2025-06-11T21:57:54.576Z"
      },
      {
        "duration": 44,
        "start_time": "2025-06-11T21:57:54.597Z"
      },
      {
        "duration": 21,
        "start_time": "2025-06-11T21:57:54.642Z"
      },
      {
        "duration": 2,
        "start_time": "2025-06-11T21:57:54.665Z"
      },
      {
        "duration": 117,
        "start_time": "2025-06-11T21:57:54.668Z"
      },
      {
        "duration": 2,
        "start_time": "2025-06-11T21:57:54.787Z"
      },
      {
        "duration": 32,
        "start_time": "2025-06-11T21:57:54.791Z"
      },
      {
        "duration": 106,
        "start_time": "2025-06-11T21:57:54.825Z"
      },
      {
        "duration": 21,
        "start_time": "2025-06-11T21:57:54.932Z"
      },
      {
        "duration": 22,
        "start_time": "2025-06-11T21:57:54.955Z"
      },
      {
        "duration": 4,
        "start_time": "2025-06-11T21:57:54.979Z"
      },
      {
        "duration": 4,
        "start_time": "2025-06-11T21:57:54.985Z"
      },
      {
        "duration": 2,
        "start_time": "2025-06-11T21:57:54.991Z"
      },
      {
        "duration": 4,
        "start_time": "2025-06-11T21:57:54.995Z"
      },
      {
        "duration": 6,
        "start_time": "2025-06-11T21:57:55.000Z"
      },
      {
        "duration": 4,
        "start_time": "2025-06-11T21:57:55.008Z"
      },
      {
        "duration": 6,
        "start_time": "2025-06-11T21:57:55.014Z"
      },
      {
        "duration": 883,
        "start_time": "2025-06-11T21:57:55.022Z"
      },
      {
        "duration": 2,
        "start_time": "2025-06-11T21:57:55.907Z"
      },
      {
        "duration": 817,
        "start_time": "2025-06-11T21:57:55.910Z"
      },
      {
        "duration": 6,
        "start_time": "2025-06-11T21:57:56.729Z"
      },
      {
        "duration": 34,
        "start_time": "2025-06-11T21:57:56.736Z"
      },
      {
        "duration": 15,
        "start_time": "2025-06-11T21:57:56.771Z"
      },
      {
        "duration": 46,
        "start_time": "2025-06-11T21:57:56.788Z"
      },
      {
        "duration": 3,
        "start_time": "2025-06-11T21:57:56.836Z"
      },
      {
        "duration": 124,
        "start_time": "2025-06-11T21:57:56.841Z"
      },
      {
        "duration": 5,
        "start_time": "2025-06-11T21:57:56.967Z"
      },
      {
        "duration": 3,
        "start_time": "2025-06-11T21:57:56.974Z"
      },
      {
        "duration": 4,
        "start_time": "2025-06-11T21:57:56.978Z"
      },
      {
        "duration": 22,
        "start_time": "2025-06-11T21:57:56.983Z"
      },
      {
        "duration": 7,
        "start_time": "2025-06-11T21:57:57.007Z"
      },
      {
        "duration": 24,
        "start_time": "2025-06-11T21:57:57.015Z"
      },
      {
        "duration": 0,
        "start_time": "2025-06-11T21:57:57.040Z"
      },
      {
        "duration": 0,
        "start_time": "2025-06-11T21:57:57.041Z"
      },
      {
        "duration": 0,
        "start_time": "2025-06-11T21:57:57.042Z"
      },
      {
        "duration": 5,
        "start_time": "2025-06-11T22:02:14.579Z"
      },
      {
        "duration": 502,
        "start_time": "2025-06-11T22:02:26.741Z"
      },
      {
        "duration": 5,
        "start_time": "2025-06-11T22:02:40.794Z"
      },
      {
        "duration": 2,
        "start_time": "2025-06-11T22:02:53.345Z"
      },
      {
        "duration": 915,
        "start_time": "2025-06-11T22:02:58.587Z"
      },
      {
        "duration": 829,
        "start_time": "2025-06-11T22:03:34.455Z"
      },
      {
        "duration": 1223,
        "start_time": "2025-06-11T22:03:39.401Z"
      },
      {
        "duration": 774,
        "start_time": "2025-06-11T22:03:44.700Z"
      },
      {
        "duration": 2,
        "start_time": "2025-06-11T22:03:47.647Z"
      },
      {
        "duration": 777,
        "start_time": "2025-06-11T22:03:49.499Z"
      },
      {
        "duration": 14,
        "start_time": "2025-06-11T22:04:13.249Z"
      },
      {
        "duration": 5,
        "start_time": "2025-06-11T22:05:25.797Z"
      },
      {
        "duration": 9,
        "start_time": "2025-06-11T22:05:26.509Z"
      },
      {
        "duration": 7,
        "start_time": "2025-06-11T22:05:36.587Z"
      },
      {
        "duration": 2294,
        "start_time": "2025-06-11T22:05:54.209Z"
      },
      {
        "duration": 4,
        "start_time": "2025-06-11T22:05:56.507Z"
      },
      {
        "duration": 988,
        "start_time": "2025-06-11T22:05:56.514Z"
      },
      {
        "duration": 4,
        "start_time": "2025-06-11T22:05:57.504Z"
      },
      {
        "duration": 889,
        "start_time": "2025-06-11T22:05:57.510Z"
      },
      {
        "duration": 35,
        "start_time": "2025-06-11T22:05:58.401Z"
      },
      {
        "duration": 6,
        "start_time": "2025-06-11T22:05:58.437Z"
      },
      {
        "duration": 6,
        "start_time": "2025-06-11T22:05:58.445Z"
      },
      {
        "duration": 312,
        "start_time": "2025-06-11T22:05:58.453Z"
      },
      {
        "duration": 574,
        "start_time": "2025-06-11T22:05:58.768Z"
      },
      {
        "duration": 23,
        "start_time": "2025-06-11T22:05:59.343Z"
      },
      {
        "duration": 41,
        "start_time": "2025-06-11T22:05:59.367Z"
      },
      {
        "duration": 34,
        "start_time": "2025-06-11T22:05:59.409Z"
      },
      {
        "duration": 7,
        "start_time": "2025-06-11T22:05:59.445Z"
      },
      {
        "duration": 15,
        "start_time": "2025-06-11T22:05:59.454Z"
      },
      {
        "duration": 36,
        "start_time": "2025-06-11T22:05:59.470Z"
      },
      {
        "duration": 4,
        "start_time": "2025-06-11T22:05:59.507Z"
      },
      {
        "duration": 62,
        "start_time": "2025-06-11T22:05:59.512Z"
      },
      {
        "duration": 6,
        "start_time": "2025-06-11T22:05:59.575Z"
      },
      {
        "duration": 22,
        "start_time": "2025-06-11T22:05:59.583Z"
      },
      {
        "duration": 42,
        "start_time": "2025-06-11T22:05:59.606Z"
      },
      {
        "duration": 22,
        "start_time": "2025-06-11T22:05:59.649Z"
      },
      {
        "duration": 36,
        "start_time": "2025-06-11T22:05:59.672Z"
      },
      {
        "duration": 17,
        "start_time": "2025-06-11T22:05:59.709Z"
      },
      {
        "duration": 9,
        "start_time": "2025-06-11T22:05:59.727Z"
      },
      {
        "duration": 7,
        "start_time": "2025-06-11T22:05:59.737Z"
      },
      {
        "duration": 21,
        "start_time": "2025-06-11T22:05:59.746Z"
      },
      {
        "duration": 32,
        "start_time": "2025-06-11T22:05:59.770Z"
      },
      {
        "duration": 54,
        "start_time": "2025-06-11T22:05:59.803Z"
      },
      {
        "duration": 26,
        "start_time": "2025-06-11T22:05:59.858Z"
      },
      {
        "duration": 22,
        "start_time": "2025-06-11T22:05:59.885Z"
      },
      {
        "duration": 31,
        "start_time": "2025-06-11T22:05:59.908Z"
      },
      {
        "duration": 40,
        "start_time": "2025-06-11T22:05:59.941Z"
      },
      {
        "duration": 18,
        "start_time": "2025-06-11T22:05:59.983Z"
      },
      {
        "duration": 182,
        "start_time": "2025-06-11T22:06:00.003Z"
      },
      {
        "duration": 5,
        "start_time": "2025-06-11T22:06:00.187Z"
      },
      {
        "duration": 33,
        "start_time": "2025-06-11T22:06:00.193Z"
      },
      {
        "duration": 3,
        "start_time": "2025-06-11T22:06:00.228Z"
      },
      {
        "duration": 8,
        "start_time": "2025-06-11T22:06:00.235Z"
      },
      {
        "duration": 46,
        "start_time": "2025-06-11T22:06:00.244Z"
      },
      {
        "duration": 79,
        "start_time": "2025-06-11T22:06:00.292Z"
      },
      {
        "duration": 53,
        "start_time": "2025-06-11T22:06:00.373Z"
      },
      {
        "duration": 25,
        "start_time": "2025-06-11T22:06:00.427Z"
      },
      {
        "duration": 3,
        "start_time": "2025-06-11T22:06:00.453Z"
      },
      {
        "duration": 22,
        "start_time": "2025-06-11T22:06:00.457Z"
      },
      {
        "duration": 2,
        "start_time": "2025-06-11T22:06:00.481Z"
      },
      {
        "duration": 24,
        "start_time": "2025-06-11T22:06:00.485Z"
      },
      {
        "duration": 49,
        "start_time": "2025-06-11T22:06:00.510Z"
      },
      {
        "duration": 2,
        "start_time": "2025-06-11T22:06:00.561Z"
      },
      {
        "duration": 25,
        "start_time": "2025-06-11T22:06:00.565Z"
      },
      {
        "duration": 4,
        "start_time": "2025-06-11T22:06:00.592Z"
      },
      {
        "duration": 16,
        "start_time": "2025-06-11T22:06:00.598Z"
      },
      {
        "duration": 19,
        "start_time": "2025-06-11T22:06:00.615Z"
      },
      {
        "duration": 8,
        "start_time": "2025-06-11T22:06:00.635Z"
      },
      {
        "duration": 6,
        "start_time": "2025-06-11T22:06:00.645Z"
      },
      {
        "duration": 5,
        "start_time": "2025-06-11T22:06:00.652Z"
      },
      {
        "duration": 1312,
        "start_time": "2025-06-11T22:06:00.659Z"
      },
      {
        "duration": 773,
        "start_time": "2025-06-11T22:06:01.973Z"
      },
      {
        "duration": 2,
        "start_time": "2025-06-11T22:06:02.748Z"
      },
      {
        "duration": 832,
        "start_time": "2025-06-11T22:06:02.751Z"
      },
      {
        "duration": 2,
        "start_time": "2025-06-11T22:06:03.585Z"
      },
      {
        "duration": 40,
        "start_time": "2025-06-11T22:06:03.589Z"
      },
      {
        "duration": 7,
        "start_time": "2025-06-11T22:06:03.630Z"
      },
      {
        "duration": 5,
        "start_time": "2025-06-11T22:06:03.638Z"
      },
      {
        "duration": 58,
        "start_time": "2025-06-11T22:06:03.644Z"
      },
      {
        "duration": 3,
        "start_time": "2025-06-11T22:06:03.704Z"
      },
      {
        "duration": 7,
        "start_time": "2025-06-11T22:06:03.709Z"
      },
      {
        "duration": 5,
        "start_time": "2025-06-11T22:06:03.717Z"
      },
      {
        "duration": 4,
        "start_time": "2025-06-11T22:06:03.723Z"
      },
      {
        "duration": 12,
        "start_time": "2025-06-11T22:06:03.729Z"
      },
      {
        "duration": 9,
        "start_time": "2025-06-11T22:06:03.742Z"
      },
      {
        "duration": 12,
        "start_time": "2025-06-11T22:06:03.753Z"
      },
      {
        "duration": 29,
        "start_time": "2025-06-11T22:06:03.766Z"
      },
      {
        "duration": 0,
        "start_time": "2025-06-11T22:06:03.796Z"
      },
      {
        "duration": 0,
        "start_time": "2025-06-11T22:06:03.798Z"
      },
      {
        "duration": 0,
        "start_time": "2025-06-11T22:06:03.798Z"
      },
      {
        "duration": 7,
        "start_time": "2025-06-11T22:06:35.369Z"
      },
      {
        "duration": 7,
        "start_time": "2025-06-11T22:06:39.409Z"
      },
      {
        "duration": 7,
        "start_time": "2025-06-11T22:06:53.460Z"
      },
      {
        "duration": 12,
        "start_time": "2025-06-11T22:06:56.518Z"
      },
      {
        "duration": 2293,
        "start_time": "2025-06-11T22:07:01.701Z"
      },
      {
        "duration": 3,
        "start_time": "2025-06-11T22:07:03.997Z"
      },
      {
        "duration": 1005,
        "start_time": "2025-06-11T22:07:04.001Z"
      },
      {
        "duration": 3,
        "start_time": "2025-06-11T22:07:05.009Z"
      },
      {
        "duration": 736,
        "start_time": "2025-06-11T22:07:05.013Z"
      },
      {
        "duration": 21,
        "start_time": "2025-06-11T22:07:05.750Z"
      },
      {
        "duration": 25,
        "start_time": "2025-06-11T22:07:05.773Z"
      },
      {
        "duration": 62,
        "start_time": "2025-06-11T22:07:05.799Z"
      },
      {
        "duration": 274,
        "start_time": "2025-06-11T22:07:05.862Z"
      },
      {
        "duration": 568,
        "start_time": "2025-06-11T22:07:06.138Z"
      },
      {
        "duration": 29,
        "start_time": "2025-06-11T22:07:06.708Z"
      },
      {
        "duration": 95,
        "start_time": "2025-06-11T22:07:06.739Z"
      },
      {
        "duration": 18,
        "start_time": "2025-06-11T22:07:06.836Z"
      },
      {
        "duration": 5,
        "start_time": "2025-06-11T22:07:06.856Z"
      },
      {
        "duration": 6,
        "start_time": "2025-06-11T22:07:06.862Z"
      },
      {
        "duration": 28,
        "start_time": "2025-06-11T22:07:06.870Z"
      },
      {
        "duration": 4,
        "start_time": "2025-06-11T22:07:06.899Z"
      },
      {
        "duration": 137,
        "start_time": "2025-06-11T22:07:06.904Z"
      },
      {
        "duration": 30,
        "start_time": "2025-06-11T22:07:07.042Z"
      },
      {
        "duration": 36,
        "start_time": "2025-06-11T22:07:07.074Z"
      },
      {
        "duration": 39,
        "start_time": "2025-06-11T22:07:07.112Z"
      },
      {
        "duration": 22,
        "start_time": "2025-06-11T22:07:07.153Z"
      },
      {
        "duration": 49,
        "start_time": "2025-06-11T22:07:07.176Z"
      },
      {
        "duration": 16,
        "start_time": "2025-06-11T22:07:07.227Z"
      },
      {
        "duration": 85,
        "start_time": "2025-06-11T22:07:07.245Z"
      },
      {
        "duration": 52,
        "start_time": "2025-06-11T22:07:07.332Z"
      },
      {
        "duration": 23,
        "start_time": "2025-06-11T22:07:07.386Z"
      },
      {
        "duration": 43,
        "start_time": "2025-06-11T22:07:07.413Z"
      },
      {
        "duration": 47,
        "start_time": "2025-06-11T22:07:07.458Z"
      },
      {
        "duration": 92,
        "start_time": "2025-06-11T22:07:07.506Z"
      },
      {
        "duration": 33,
        "start_time": "2025-06-11T22:07:07.599Z"
      },
      {
        "duration": 19,
        "start_time": "2025-06-11T22:07:07.634Z"
      },
      {
        "duration": 75,
        "start_time": "2025-06-11T22:07:07.654Z"
      },
      {
        "duration": 18,
        "start_time": "2025-06-11T22:07:07.731Z"
      },
      {
        "duration": 165,
        "start_time": "2025-06-11T22:07:07.750Z"
      },
      {
        "duration": 9,
        "start_time": "2025-06-11T22:07:07.916Z"
      },
      {
        "duration": 53,
        "start_time": "2025-06-11T22:07:07.926Z"
      },
      {
        "duration": 4,
        "start_time": "2025-06-11T22:07:07.980Z"
      },
      {
        "duration": 19,
        "start_time": "2025-06-11T22:07:07.985Z"
      },
      {
        "duration": 50,
        "start_time": "2025-06-11T22:07:08.005Z"
      },
      {
        "duration": 34,
        "start_time": "2025-06-11T22:07:08.057Z"
      },
      {
        "duration": 26,
        "start_time": "2025-06-11T22:07:08.092Z"
      },
      {
        "duration": 20,
        "start_time": "2025-06-11T22:07:08.120Z"
      },
      {
        "duration": 2,
        "start_time": "2025-06-11T22:07:08.141Z"
      },
      {
        "duration": 20,
        "start_time": "2025-06-11T22:07:08.145Z"
      },
      {
        "duration": 2,
        "start_time": "2025-06-11T22:07:08.167Z"
      },
      {
        "duration": 37,
        "start_time": "2025-06-11T22:07:08.171Z"
      },
      {
        "duration": 25,
        "start_time": "2025-06-11T22:07:08.210Z"
      },
      {
        "duration": 2,
        "start_time": "2025-06-11T22:07:08.237Z"
      },
      {
        "duration": 22,
        "start_time": "2025-06-11T22:07:08.240Z"
      },
      {
        "duration": 5,
        "start_time": "2025-06-11T22:07:08.263Z"
      },
      {
        "duration": 14,
        "start_time": "2025-06-11T22:07:08.269Z"
      },
      {
        "duration": 17,
        "start_time": "2025-06-11T22:07:08.284Z"
      },
      {
        "duration": 76,
        "start_time": "2025-06-11T22:07:08.302Z"
      },
      {
        "duration": 21,
        "start_time": "2025-06-11T22:07:08.380Z"
      },
      {
        "duration": 28,
        "start_time": "2025-06-11T22:07:08.402Z"
      },
      {
        "duration": 1201,
        "start_time": "2025-06-11T22:07:08.432Z"
      },
      {
        "duration": 893,
        "start_time": "2025-06-11T22:07:09.634Z"
      },
      {
        "duration": 7,
        "start_time": "2025-06-11T22:07:10.528Z"
      },
      {
        "duration": 262,
        "start_time": "2025-06-11T22:07:10.537Z"
      },
      {
        "duration": 2,
        "start_time": "2025-06-11T22:07:10.801Z"
      },
      {
        "duration": 32,
        "start_time": "2025-06-11T22:07:10.805Z"
      },
      {
        "duration": 3,
        "start_time": "2025-06-11T22:07:10.839Z"
      },
      {
        "duration": 3,
        "start_time": "2025-06-11T22:07:10.844Z"
      },
      {
        "duration": 39,
        "start_time": "2025-06-11T22:07:10.848Z"
      },
      {
        "duration": 4,
        "start_time": "2025-06-11T22:07:10.889Z"
      },
      {
        "duration": 97,
        "start_time": "2025-06-11T22:07:10.894Z"
      },
      {
        "duration": 8,
        "start_time": "2025-06-11T22:07:10.992Z"
      },
      {
        "duration": 11,
        "start_time": "2025-06-11T22:07:11.001Z"
      },
      {
        "duration": 16,
        "start_time": "2025-06-11T22:07:11.013Z"
      },
      {
        "duration": 7,
        "start_time": "2025-06-11T22:07:11.030Z"
      },
      {
        "duration": 8,
        "start_time": "2025-06-11T22:07:11.038Z"
      },
      {
        "duration": 11,
        "start_time": "2025-06-11T22:07:11.048Z"
      },
      {
        "duration": 0,
        "start_time": "2025-06-11T22:07:11.060Z"
      },
      {
        "duration": 0,
        "start_time": "2025-06-11T22:07:11.061Z"
      },
      {
        "duration": 0,
        "start_time": "2025-06-11T22:07:11.062Z"
      },
      {
        "duration": 4,
        "start_time": "2025-06-11T22:08:12.938Z"
      },
      {
        "duration": 7,
        "start_time": "2025-06-11T22:08:14.626Z"
      },
      {
        "duration": 7,
        "start_time": "2025-06-11T22:08:16.582Z"
      },
      {
        "duration": 7,
        "start_time": "2025-06-11T22:13:24.529Z"
      },
      {
        "duration": 7,
        "start_time": "2025-06-11T22:13:26.327Z"
      },
      {
        "duration": 6,
        "start_time": "2025-06-11T22:13:46.200Z"
      },
      {
        "duration": 100,
        "start_time": "2025-06-11T22:16:25.978Z"
      },
      {
        "duration": 14,
        "start_time": "2025-06-11T22:17:45.288Z"
      },
      {
        "duration": 3,
        "start_time": "2025-06-11T22:19:56.055Z"
      },
      {
        "duration": 4931,
        "start_time": "2025-06-11T22:20:04.000Z"
      },
      {
        "duration": 3,
        "start_time": "2025-06-11T22:27:13.311Z"
      },
      {
        "duration": 4984,
        "start_time": "2025-06-11T22:27:16.470Z"
      },
      {
        "duration": 4,
        "start_time": "2025-06-11T22:29:34.033Z"
      },
      {
        "duration": 3,
        "start_time": "2025-06-11T22:29:38.340Z"
      },
      {
        "duration": 2,
        "start_time": "2025-06-11T22:29:40.870Z"
      },
      {
        "duration": 5170,
        "start_time": "2025-06-11T22:29:45.386Z"
      },
      {
        "duration": 85,
        "start_time": "2025-06-11T22:30:55.094Z"
      },
      {
        "duration": 71,
        "start_time": "2025-06-11T22:32:52.219Z"
      },
      {
        "duration": 6,
        "start_time": "2025-06-11T22:34:48.271Z"
      },
      {
        "duration": 9,
        "start_time": "2025-06-11T22:37:06.341Z"
      },
      {
        "duration": 9,
        "start_time": "2025-06-11T22:37:13.127Z"
      },
      {
        "duration": 14,
        "start_time": "2025-06-11T22:37:38.744Z"
      },
      {
        "duration": 12,
        "start_time": "2025-06-11T22:37:41.620Z"
      },
      {
        "duration": 9,
        "start_time": "2025-06-11T22:41:16.718Z"
      },
      {
        "duration": 32,
        "start_time": "2025-06-11T22:41:22.887Z"
      },
      {
        "duration": 79,
        "start_time": "2025-06-11T22:42:52.774Z"
      },
      {
        "duration": 78,
        "start_time": "2025-06-11T23:27:45.879Z"
      },
      {
        "duration": 87,
        "start_time": "2025-06-11T23:28:17.321Z"
      },
      {
        "duration": 13,
        "start_time": "2025-06-11T23:29:44.282Z"
      },
      {
        "duration": 76,
        "start_time": "2025-06-11T23:35:05.173Z"
      },
      {
        "duration": 110,
        "start_time": "2025-06-11T23:36:24.798Z"
      },
      {
        "duration": 22,
        "start_time": "2025-06-11T23:39:49.241Z"
      },
      {
        "duration": 1138,
        "start_time": "2025-06-11T23:53:37.035Z"
      },
      {
        "duration": 2282,
        "start_time": "2025-06-11T23:58:33.068Z"
      },
      {
        "duration": 4,
        "start_time": "2025-06-11T23:58:35.352Z"
      },
      {
        "duration": 1628,
        "start_time": "2025-06-11T23:58:35.357Z"
      },
      {
        "duration": 4,
        "start_time": "2025-06-11T23:58:37.035Z"
      },
      {
        "duration": 710,
        "start_time": "2025-06-11T23:58:37.040Z"
      },
      {
        "duration": 26,
        "start_time": "2025-06-11T23:58:37.751Z"
      },
      {
        "duration": 6,
        "start_time": "2025-06-11T23:58:37.779Z"
      },
      {
        "duration": 121,
        "start_time": "2025-06-11T23:58:37.786Z"
      },
      {
        "duration": 306,
        "start_time": "2025-06-11T23:58:37.908Z"
      },
      {
        "duration": 542,
        "start_time": "2025-06-11T23:58:38.216Z"
      },
      {
        "duration": 21,
        "start_time": "2025-06-11T23:58:38.760Z"
      },
      {
        "duration": 53,
        "start_time": "2025-06-11T23:58:38.783Z"
      },
      {
        "duration": 16,
        "start_time": "2025-06-11T23:58:38.838Z"
      },
      {
        "duration": 16,
        "start_time": "2025-06-11T23:58:38.856Z"
      },
      {
        "duration": 22,
        "start_time": "2025-06-11T23:58:38.873Z"
      },
      {
        "duration": 57,
        "start_time": "2025-06-11T23:58:38.897Z"
      },
      {
        "duration": 3,
        "start_time": "2025-06-11T23:58:38.956Z"
      },
      {
        "duration": 18,
        "start_time": "2025-06-11T23:58:38.960Z"
      },
      {
        "duration": 12,
        "start_time": "2025-06-11T23:58:38.980Z"
      },
      {
        "duration": 25,
        "start_time": "2025-06-11T23:58:38.994Z"
      },
      {
        "duration": 36,
        "start_time": "2025-06-11T23:58:39.020Z"
      },
      {
        "duration": 22,
        "start_time": "2025-06-11T23:58:39.058Z"
      },
      {
        "duration": 19,
        "start_time": "2025-06-11T23:58:39.082Z"
      },
      {
        "duration": 18,
        "start_time": "2025-06-11T23:58:39.103Z"
      },
      {
        "duration": 13,
        "start_time": "2025-06-11T23:58:39.123Z"
      },
      {
        "duration": 8,
        "start_time": "2025-06-11T23:58:39.138Z"
      },
      {
        "duration": 23,
        "start_time": "2025-06-11T23:58:39.147Z"
      },
      {
        "duration": 59,
        "start_time": "2025-06-11T23:58:39.174Z"
      },
      {
        "duration": 193,
        "start_time": "2025-06-11T23:58:39.235Z"
      },
      {
        "duration": 19,
        "start_time": "2025-06-11T23:58:39.430Z"
      },
      {
        "duration": 22,
        "start_time": "2025-06-11T23:58:39.450Z"
      },
      {
        "duration": 72,
        "start_time": "2025-06-11T23:58:39.473Z"
      },
      {
        "duration": 37,
        "start_time": "2025-06-11T23:58:39.547Z"
      },
      {
        "duration": 52,
        "start_time": "2025-06-11T23:58:39.585Z"
      },
      {
        "duration": 251,
        "start_time": "2025-06-11T23:58:39.638Z"
      },
      {
        "duration": 9,
        "start_time": "2025-06-11T23:58:39.891Z"
      },
      {
        "duration": 37,
        "start_time": "2025-06-11T23:58:39.902Z"
      },
      {
        "duration": 2,
        "start_time": "2025-06-11T23:58:39.941Z"
      },
      {
        "duration": 43,
        "start_time": "2025-06-11T23:58:39.945Z"
      },
      {
        "duration": 7,
        "start_time": "2025-06-11T23:58:39.989Z"
      },
      {
        "duration": 35,
        "start_time": "2025-06-11T23:58:39.997Z"
      },
      {
        "duration": 26,
        "start_time": "2025-06-11T23:58:40.034Z"
      },
      {
        "duration": 20,
        "start_time": "2025-06-11T23:58:40.062Z"
      },
      {
        "duration": 25,
        "start_time": "2025-06-11T23:58:40.083Z"
      },
      {
        "duration": 49,
        "start_time": "2025-06-11T23:58:40.110Z"
      },
      {
        "duration": 2,
        "start_time": "2025-06-11T23:58:40.160Z"
      },
      {
        "duration": 16,
        "start_time": "2025-06-11T23:58:40.164Z"
      },
      {
        "duration": 25,
        "start_time": "2025-06-11T23:58:40.181Z"
      },
      {
        "duration": 2,
        "start_time": "2025-06-11T23:58:40.208Z"
      },
      {
        "duration": 29,
        "start_time": "2025-06-11T23:58:40.212Z"
      },
      {
        "duration": 5,
        "start_time": "2025-06-11T23:58:40.243Z"
      },
      {
        "duration": 5,
        "start_time": "2025-06-11T23:58:40.249Z"
      },
      {
        "duration": 14,
        "start_time": "2025-06-11T23:58:40.255Z"
      },
      {
        "duration": 3,
        "start_time": "2025-06-11T23:58:40.271Z"
      },
      {
        "duration": 5,
        "start_time": "2025-06-11T23:58:40.276Z"
      },
      {
        "duration": 5,
        "start_time": "2025-06-11T23:58:40.283Z"
      },
      {
        "duration": 5,
        "start_time": "2025-06-11T23:58:40.289Z"
      },
      {
        "duration": 6,
        "start_time": "2025-06-11T23:58:40.296Z"
      },
      {
        "duration": 9,
        "start_time": "2025-06-11T23:58:40.303Z"
      },
      {
        "duration": 23,
        "start_time": "2025-06-11T23:58:40.313Z"
      },
      {
        "duration": 5,
        "start_time": "2025-06-11T23:58:40.337Z"
      },
      {
        "duration": 5,
        "start_time": "2025-06-11T23:58:40.343Z"
      },
      {
        "duration": 4933,
        "start_time": "2025-06-11T23:58:40.349Z"
      },
      {
        "duration": 112,
        "start_time": "2025-06-11T23:58:45.284Z"
      },
      {
        "duration": 0,
        "start_time": "2025-06-11T23:58:45.398Z"
      },
      {
        "duration": 0,
        "start_time": "2025-06-11T23:58:45.399Z"
      },
      {
        "duration": 0,
        "start_time": "2025-06-11T23:58:45.400Z"
      },
      {
        "duration": 0,
        "start_time": "2025-06-11T23:58:45.401Z"
      },
      {
        "duration": 0,
        "start_time": "2025-06-11T23:58:45.402Z"
      },
      {
        "duration": 0,
        "start_time": "2025-06-11T23:58:45.403Z"
      },
      {
        "duration": 0,
        "start_time": "2025-06-11T23:58:45.404Z"
      },
      {
        "duration": 0,
        "start_time": "2025-06-11T23:58:45.405Z"
      },
      {
        "duration": 0,
        "start_time": "2025-06-11T23:58:45.406Z"
      },
      {
        "duration": 0,
        "start_time": "2025-06-11T23:58:45.407Z"
      },
      {
        "duration": 0,
        "start_time": "2025-06-11T23:58:45.408Z"
      },
      {
        "duration": 0,
        "start_time": "2025-06-11T23:58:45.409Z"
      },
      {
        "duration": 0,
        "start_time": "2025-06-11T23:58:45.410Z"
      },
      {
        "duration": 0,
        "start_time": "2025-06-11T23:58:45.411Z"
      },
      {
        "duration": 0,
        "start_time": "2025-06-11T23:58:45.412Z"
      },
      {
        "duration": 0,
        "start_time": "2025-06-11T23:58:45.412Z"
      },
      {
        "duration": 10,
        "start_time": "2025-06-11T23:59:02.524Z"
      },
      {
        "duration": 7,
        "start_time": "2025-06-11T23:59:09.269Z"
      },
      {
        "duration": 35,
        "start_time": "2025-06-11T23:59:10.322Z"
      },
      {
        "duration": 33,
        "start_time": "2025-06-11T23:59:14.399Z"
      },
      {
        "duration": 4,
        "start_time": "2025-06-11T23:59:15.808Z"
      },
      {
        "duration": 4,
        "start_time": "2025-06-11T23:59:22.717Z"
      },
      {
        "duration": 5,
        "start_time": "2025-06-11T23:59:24.032Z"
      },
      {
        "duration": 3,
        "start_time": "2025-06-11T23:59:24.745Z"
      },
      {
        "duration": 4,
        "start_time": "2025-06-11T23:59:25.458Z"
      },
      {
        "duration": 22,
        "start_time": "2025-06-11T23:59:35.693Z"
      },
      {
        "duration": 4,
        "start_time": "2025-06-12T00:01:36.534Z"
      },
      {
        "duration": 4,
        "start_time": "2025-06-12T00:01:37.181Z"
      },
      {
        "duration": 12,
        "start_time": "2025-06-12T00:01:37.922Z"
      },
      {
        "duration": 3,
        "start_time": "2025-06-12T00:01:53.395Z"
      },
      {
        "duration": 4,
        "start_time": "2025-06-12T00:01:58.812Z"
      },
      {
        "duration": 3,
        "start_time": "2025-06-12T00:10:07.925Z"
      },
      {
        "duration": 3,
        "start_time": "2025-06-12T00:10:13.946Z"
      },
      {
        "duration": 5,
        "start_time": "2025-06-12T00:11:57.081Z"
      },
      {
        "duration": 4,
        "start_time": "2025-06-12T00:12:01.858Z"
      },
      {
        "duration": 4,
        "start_time": "2025-06-12T00:12:46.926Z"
      },
      {
        "duration": 5,
        "start_time": "2025-06-12T00:19:50.771Z"
      },
      {
        "duration": 3,
        "start_time": "2025-06-12T00:19:55.180Z"
      },
      {
        "duration": 1006,
        "start_time": "2025-06-12T00:19:57.832Z"
      },
      {
        "duration": 2296,
        "start_time": "2025-06-12T00:20:18.892Z"
      },
      {
        "duration": 3,
        "start_time": "2025-06-12T00:20:21.191Z"
      },
      {
        "duration": 1004,
        "start_time": "2025-06-12T00:20:21.195Z"
      },
      {
        "duration": 3,
        "start_time": "2025-06-12T00:20:22.202Z"
      },
      {
        "duration": 735,
        "start_time": "2025-06-12T00:20:22.207Z"
      },
      {
        "duration": 27,
        "start_time": "2025-06-12T00:20:22.943Z"
      },
      {
        "duration": 6,
        "start_time": "2025-06-12T00:20:22.972Z"
      },
      {
        "duration": 3,
        "start_time": "2025-06-12T00:20:22.979Z"
      },
      {
        "duration": 329,
        "start_time": "2025-06-12T00:20:22.983Z"
      },
      {
        "duration": 555,
        "start_time": "2025-06-12T00:20:23.315Z"
      },
      {
        "duration": 21,
        "start_time": "2025-06-12T00:20:23.872Z"
      },
      {
        "duration": 122,
        "start_time": "2025-06-12T00:20:23.894Z"
      },
      {
        "duration": 17,
        "start_time": "2025-06-12T00:20:24.018Z"
      },
      {
        "duration": 6,
        "start_time": "2025-06-12T00:20:24.036Z"
      },
      {
        "duration": 5,
        "start_time": "2025-06-12T00:20:24.043Z"
      },
      {
        "duration": 33,
        "start_time": "2025-06-12T00:20:24.049Z"
      },
      {
        "duration": 4,
        "start_time": "2025-06-12T00:20:24.083Z"
      },
      {
        "duration": 4,
        "start_time": "2025-06-12T00:20:24.088Z"
      },
      {
        "duration": 7,
        "start_time": "2025-06-12T00:20:24.093Z"
      },
      {
        "duration": 55,
        "start_time": "2025-06-12T00:20:24.102Z"
      },
      {
        "duration": 113,
        "start_time": "2025-06-12T00:20:24.159Z"
      },
      {
        "duration": 23,
        "start_time": "2025-06-12T00:20:24.274Z"
      },
      {
        "duration": 21,
        "start_time": "2025-06-12T00:20:24.299Z"
      },
      {
        "duration": 31,
        "start_time": "2025-06-12T00:20:24.321Z"
      },
      {
        "duration": 6,
        "start_time": "2025-06-12T00:20:24.354Z"
      },
      {
        "duration": 28,
        "start_time": "2025-06-12T00:20:24.362Z"
      },
      {
        "duration": 48,
        "start_time": "2025-06-12T00:20:24.392Z"
      },
      {
        "duration": 30,
        "start_time": "2025-06-12T00:20:24.444Z"
      },
      {
        "duration": 34,
        "start_time": "2025-06-12T00:20:24.476Z"
      },
      {
        "duration": 36,
        "start_time": "2025-06-12T00:20:24.512Z"
      },
      {
        "duration": 21,
        "start_time": "2025-06-12T00:20:24.550Z"
      },
      {
        "duration": 20,
        "start_time": "2025-06-12T00:20:24.573Z"
      },
      {
        "duration": 57,
        "start_time": "2025-06-12T00:20:24.595Z"
      },
      {
        "duration": 18,
        "start_time": "2025-06-12T00:20:24.654Z"
      },
      {
        "duration": 182,
        "start_time": "2025-06-12T00:20:24.674Z"
      },
      {
        "duration": 9,
        "start_time": "2025-06-12T00:20:24.858Z"
      },
      {
        "duration": 22,
        "start_time": "2025-06-12T00:20:24.869Z"
      },
      {
        "duration": 2,
        "start_time": "2025-06-12T00:20:24.892Z"
      },
      {
        "duration": 8,
        "start_time": "2025-06-12T00:20:24.896Z"
      },
      {
        "duration": 11,
        "start_time": "2025-06-12T00:20:24.905Z"
      },
      {
        "duration": 28,
        "start_time": "2025-06-12T00:20:24.917Z"
      },
      {
        "duration": 27,
        "start_time": "2025-06-12T00:20:24.946Z"
      },
      {
        "duration": 19,
        "start_time": "2025-06-12T00:20:24.974Z"
      },
      {
        "duration": 3,
        "start_time": "2025-06-12T00:20:24.995Z"
      },
      {
        "duration": 42,
        "start_time": "2025-06-12T00:20:24.999Z"
      },
      {
        "duration": 3,
        "start_time": "2025-06-12T00:20:25.042Z"
      },
      {
        "duration": 26,
        "start_time": "2025-06-12T00:20:25.046Z"
      },
      {
        "duration": 28,
        "start_time": "2025-06-12T00:20:25.073Z"
      },
      {
        "duration": 2,
        "start_time": "2025-06-12T00:20:25.103Z"
      },
      {
        "duration": 39,
        "start_time": "2025-06-12T00:20:25.106Z"
      },
      {
        "duration": 6,
        "start_time": "2025-06-12T00:20:25.147Z"
      },
      {
        "duration": 22,
        "start_time": "2025-06-12T00:20:25.155Z"
      },
      {
        "duration": 6,
        "start_time": "2025-06-12T00:20:25.178Z"
      },
      {
        "duration": 4,
        "start_time": "2025-06-12T00:20:25.186Z"
      },
      {
        "duration": 5,
        "start_time": "2025-06-12T00:20:25.191Z"
      },
      {
        "duration": 8,
        "start_time": "2025-06-12T00:20:25.198Z"
      },
      {
        "duration": 10,
        "start_time": "2025-06-12T00:20:25.208Z"
      },
      {
        "duration": 8,
        "start_time": "2025-06-12T00:20:25.219Z"
      },
      {
        "duration": 20,
        "start_time": "2025-06-12T00:20:25.228Z"
      },
      {
        "duration": 13,
        "start_time": "2025-06-12T00:20:25.249Z"
      },
      {
        "duration": 6,
        "start_time": "2025-06-12T00:20:25.263Z"
      },
      {
        "duration": 8,
        "start_time": "2025-06-12T00:20:25.270Z"
      },
      {
        "duration": 5159,
        "start_time": "2025-06-12T00:20:25.279Z"
      },
      {
        "duration": 9,
        "start_time": "2025-06-12T00:20:30.439Z"
      },
      {
        "duration": 53,
        "start_time": "2025-06-12T00:20:30.449Z"
      },
      {
        "duration": 70,
        "start_time": "2025-06-12T00:20:30.503Z"
      },
      {
        "duration": 33,
        "start_time": "2025-06-12T00:20:30.574Z"
      },
      {
        "duration": 4,
        "start_time": "2025-06-12T00:20:30.609Z"
      },
      {
        "duration": 16,
        "start_time": "2025-06-12T00:20:30.614Z"
      },
      {
        "duration": 3,
        "start_time": "2025-06-12T00:20:30.635Z"
      },
      {
        "duration": 4,
        "start_time": "2025-06-12T00:20:30.639Z"
      },
      {
        "duration": 79,
        "start_time": "2025-06-12T00:20:30.644Z"
      },
      {
        "duration": 9,
        "start_time": "2025-06-12T00:20:30.725Z"
      },
      {
        "duration": 7,
        "start_time": "2025-06-12T00:20:30.735Z"
      },
      {
        "duration": 14,
        "start_time": "2025-06-12T00:20:30.743Z"
      },
      {
        "duration": 6,
        "start_time": "2025-06-12T00:20:30.758Z"
      },
      {
        "duration": 1090,
        "start_time": "2025-06-12T00:20:30.765Z"
      },
      {
        "duration": 17,
        "start_time": "2025-06-12T00:24:28.350Z"
      },
      {
        "duration": 2403,
        "start_time": "2025-06-12T00:24:40.569Z"
      },
      {
        "duration": 4,
        "start_time": "2025-06-12T00:24:42.975Z"
      },
      {
        "duration": 1020,
        "start_time": "2025-06-12T00:24:42.981Z"
      },
      {
        "duration": 4,
        "start_time": "2025-06-12T00:24:44.003Z"
      },
      {
        "duration": 822,
        "start_time": "2025-06-12T00:24:44.008Z"
      },
      {
        "duration": 27,
        "start_time": "2025-06-12T00:24:44.835Z"
      },
      {
        "duration": 6,
        "start_time": "2025-06-12T00:24:44.864Z"
      },
      {
        "duration": 3,
        "start_time": "2025-06-12T00:24:44.872Z"
      },
      {
        "duration": 350,
        "start_time": "2025-06-12T00:24:44.877Z"
      },
      {
        "duration": 602,
        "start_time": "2025-06-12T00:24:45.235Z"
      },
      {
        "duration": 23,
        "start_time": "2025-06-12T00:24:45.839Z"
      },
      {
        "duration": 43,
        "start_time": "2025-06-12T00:24:45.864Z"
      },
      {
        "duration": 112,
        "start_time": "2025-06-12T00:24:45.908Z"
      },
      {
        "duration": 5,
        "start_time": "2025-06-12T00:24:46.022Z"
      },
      {
        "duration": 5,
        "start_time": "2025-06-12T00:24:46.029Z"
      },
      {
        "duration": 41,
        "start_time": "2025-06-12T00:24:46.035Z"
      },
      {
        "duration": 4,
        "start_time": "2025-06-12T00:24:46.078Z"
      },
      {
        "duration": 6,
        "start_time": "2025-06-12T00:24:46.083Z"
      },
      {
        "duration": 6,
        "start_time": "2025-06-12T00:24:46.090Z"
      },
      {
        "duration": 41,
        "start_time": "2025-06-12T00:24:46.098Z"
      },
      {
        "duration": 50,
        "start_time": "2025-06-12T00:24:46.140Z"
      },
      {
        "duration": 78,
        "start_time": "2025-06-12T00:24:46.192Z"
      },
      {
        "duration": 24,
        "start_time": "2025-06-12T00:24:46.271Z"
      },
      {
        "duration": 19,
        "start_time": "2025-06-12T00:24:46.297Z"
      },
      {
        "duration": 7,
        "start_time": "2025-06-12T00:24:46.317Z"
      },
      {
        "duration": 11,
        "start_time": "2025-06-12T00:24:46.325Z"
      },
      {
        "duration": 33,
        "start_time": "2025-06-12T00:24:46.337Z"
      },
      {
        "duration": 47,
        "start_time": "2025-06-12T00:24:46.376Z"
      },
      {
        "duration": 35,
        "start_time": "2025-06-12T00:24:46.425Z"
      },
      {
        "duration": 21,
        "start_time": "2025-06-12T00:24:46.461Z"
      },
      {
        "duration": 35,
        "start_time": "2025-06-12T00:24:46.484Z"
      },
      {
        "duration": 41,
        "start_time": "2025-06-12T00:24:46.521Z"
      },
      {
        "duration": 41,
        "start_time": "2025-06-12T00:24:46.564Z"
      },
      {
        "duration": 31,
        "start_time": "2025-06-12T00:24:46.607Z"
      },
      {
        "duration": 161,
        "start_time": "2025-06-12T00:24:46.639Z"
      },
      {
        "duration": 5,
        "start_time": "2025-06-12T00:24:46.802Z"
      },
      {
        "duration": 30,
        "start_time": "2025-06-12T00:24:46.809Z"
      },
      {
        "duration": 3,
        "start_time": "2025-06-12T00:24:46.841Z"
      },
      {
        "duration": 7,
        "start_time": "2025-06-12T00:24:46.845Z"
      },
      {
        "duration": 5,
        "start_time": "2025-06-12T00:24:46.854Z"
      },
      {
        "duration": 17,
        "start_time": "2025-06-12T00:24:46.860Z"
      },
      {
        "duration": 25,
        "start_time": "2025-06-12T00:24:46.878Z"
      },
      {
        "duration": 51,
        "start_time": "2025-06-12T00:24:46.905Z"
      },
      {
        "duration": 3,
        "start_time": "2025-06-12T00:24:46.958Z"
      },
      {
        "duration": 99,
        "start_time": "2025-06-12T00:24:46.962Z"
      },
      {
        "duration": 2,
        "start_time": "2025-06-12T00:24:47.063Z"
      },
      {
        "duration": 22,
        "start_time": "2025-06-12T00:24:47.067Z"
      },
      {
        "duration": 44,
        "start_time": "2025-06-12T00:24:47.091Z"
      },
      {
        "duration": 2,
        "start_time": "2025-06-12T00:24:47.137Z"
      },
      {
        "duration": 24,
        "start_time": "2025-06-12T00:24:47.141Z"
      },
      {
        "duration": 5,
        "start_time": "2025-06-12T00:24:47.166Z"
      },
      {
        "duration": 9,
        "start_time": "2025-06-12T00:24:47.173Z"
      },
      {
        "duration": 11,
        "start_time": "2025-06-12T00:24:47.183Z"
      },
      {
        "duration": 4,
        "start_time": "2025-06-12T00:24:47.196Z"
      },
      {
        "duration": 3,
        "start_time": "2025-06-12T00:24:47.201Z"
      },
      {
        "duration": 7,
        "start_time": "2025-06-12T00:24:47.206Z"
      },
      {
        "duration": 3,
        "start_time": "2025-06-12T00:24:47.236Z"
      },
      {
        "duration": 3,
        "start_time": "2025-06-12T00:24:47.241Z"
      },
      {
        "duration": 3,
        "start_time": "2025-06-12T00:24:47.246Z"
      },
      {
        "duration": 9,
        "start_time": "2025-06-12T00:24:47.251Z"
      },
      {
        "duration": 11,
        "start_time": "2025-06-12T00:24:47.262Z"
      },
      {
        "duration": 80,
        "start_time": "2025-06-12T00:24:47.275Z"
      },
      {
        "duration": 5241,
        "start_time": "2025-06-12T00:24:47.357Z"
      },
      {
        "duration": 14,
        "start_time": "2025-06-12T00:24:52.599Z"
      },
      {
        "duration": 32,
        "start_time": "2025-06-12T00:24:52.614Z"
      },
      {
        "duration": 119,
        "start_time": "2025-06-12T00:24:52.648Z"
      },
      {
        "duration": 38,
        "start_time": "2025-06-12T00:24:52.769Z"
      },
      {
        "duration": 3,
        "start_time": "2025-06-12T00:24:52.809Z"
      },
      {
        "duration": 9,
        "start_time": "2025-06-12T00:24:52.814Z"
      },
      {
        "duration": 4,
        "start_time": "2025-06-12T00:24:52.835Z"
      },
      {
        "duration": 12,
        "start_time": "2025-06-12T00:24:52.840Z"
      },
      {
        "duration": 14,
        "start_time": "2025-06-12T00:24:52.854Z"
      },
      {
        "duration": 6,
        "start_time": "2025-06-12T00:24:52.870Z"
      },
      {
        "duration": 7,
        "start_time": "2025-06-12T00:24:52.877Z"
      },
      {
        "duration": 6,
        "start_time": "2025-06-12T00:24:52.885Z"
      },
      {
        "duration": 18,
        "start_time": "2025-06-12T00:24:52.893Z"
      },
      {
        "duration": 0,
        "start_time": "2025-06-12T00:24:52.913Z"
      },
      {
        "duration": 16,
        "start_time": "2025-06-12T00:33:46.564Z"
      },
      {
        "duration": 2482,
        "start_time": "2025-06-12T00:34:39.237Z"
      },
      {
        "duration": 4,
        "start_time": "2025-06-12T00:34:41.721Z"
      },
      {
        "duration": 1111,
        "start_time": "2025-06-12T00:34:41.726Z"
      },
      {
        "duration": 10,
        "start_time": "2025-06-12T00:34:42.838Z"
      },
      {
        "duration": 825,
        "start_time": "2025-06-12T00:34:42.852Z"
      },
      {
        "duration": 24,
        "start_time": "2025-06-12T00:34:43.679Z"
      },
      {
        "duration": 8,
        "start_time": "2025-06-12T00:34:43.705Z"
      },
      {
        "duration": 23,
        "start_time": "2025-06-12T00:34:43.714Z"
      },
      {
        "duration": 312,
        "start_time": "2025-06-12T00:34:43.739Z"
      },
      {
        "duration": 640,
        "start_time": "2025-06-12T00:34:44.053Z"
      },
      {
        "duration": 24,
        "start_time": "2025-06-12T00:34:44.695Z"
      },
      {
        "duration": 56,
        "start_time": "2025-06-12T00:34:44.736Z"
      },
      {
        "duration": 20,
        "start_time": "2025-06-12T00:34:44.794Z"
      },
      {
        "duration": 6,
        "start_time": "2025-06-12T00:34:44.817Z"
      },
      {
        "duration": 15,
        "start_time": "2025-06-12T00:34:44.824Z"
      },
      {
        "duration": 36,
        "start_time": "2025-06-12T00:34:44.840Z"
      },
      {
        "duration": 4,
        "start_time": "2025-06-12T00:34:44.878Z"
      },
      {
        "duration": 5,
        "start_time": "2025-06-12T00:34:44.884Z"
      },
      {
        "duration": 12,
        "start_time": "2025-06-12T00:34:44.891Z"
      },
      {
        "duration": 50,
        "start_time": "2025-06-12T00:34:44.905Z"
      },
      {
        "duration": 46,
        "start_time": "2025-06-12T00:34:44.956Z"
      },
      {
        "duration": 38,
        "start_time": "2025-06-12T00:34:45.004Z"
      },
      {
        "duration": 38,
        "start_time": "2025-06-12T00:34:45.044Z"
      },
      {
        "duration": 31,
        "start_time": "2025-06-12T00:34:45.084Z"
      },
      {
        "duration": 64,
        "start_time": "2025-06-12T00:34:45.117Z"
      },
      {
        "duration": 17,
        "start_time": "2025-06-12T00:34:45.183Z"
      },
      {
        "duration": 51,
        "start_time": "2025-06-12T00:34:45.201Z"
      },
      {
        "duration": 63,
        "start_time": "2025-06-12T00:34:45.254Z"
      },
      {
        "duration": 70,
        "start_time": "2025-06-12T00:34:45.319Z"
      },
      {
        "duration": 39,
        "start_time": "2025-06-12T00:34:45.391Z"
      },
      {
        "duration": 30,
        "start_time": "2025-06-12T00:34:45.432Z"
      },
      {
        "duration": 22,
        "start_time": "2025-06-12T00:34:45.464Z"
      },
      {
        "duration": 173,
        "start_time": "2025-06-12T00:34:45.487Z"
      },
      {
        "duration": 20,
        "start_time": "2025-06-12T00:34:45.662Z"
      },
      {
        "duration": 182,
        "start_time": "2025-06-12T00:34:45.684Z"
      },
      {
        "duration": 6,
        "start_time": "2025-06-12T00:34:45.868Z"
      },
      {
        "duration": 23,
        "start_time": "2025-06-12T00:34:45.876Z"
      },
      {
        "duration": 2,
        "start_time": "2025-06-12T00:34:45.901Z"
      },
      {
        "duration": 33,
        "start_time": "2025-06-12T00:34:45.905Z"
      },
      {
        "duration": 84,
        "start_time": "2025-06-12T00:34:45.940Z"
      },
      {
        "duration": 17,
        "start_time": "2025-06-12T00:34:46.030Z"
      },
      {
        "duration": 29,
        "start_time": "2025-06-12T00:34:46.050Z"
      },
      {
        "duration": 24,
        "start_time": "2025-06-12T00:34:46.081Z"
      },
      {
        "duration": 4,
        "start_time": "2025-06-12T00:34:46.107Z"
      },
      {
        "duration": 46,
        "start_time": "2025-06-12T00:34:46.112Z"
      },
      {
        "duration": 3,
        "start_time": "2025-06-12T00:34:46.161Z"
      },
      {
        "duration": 23,
        "start_time": "2025-06-12T00:34:46.166Z"
      },
      {
        "duration": 58,
        "start_time": "2025-06-12T00:34:46.191Z"
      },
      {
        "duration": 31,
        "start_time": "2025-06-12T00:34:46.251Z"
      },
      {
        "duration": 24,
        "start_time": "2025-06-12T00:34:46.284Z"
      },
      {
        "duration": 7,
        "start_time": "2025-06-12T00:34:46.310Z"
      },
      {
        "duration": 12,
        "start_time": "2025-06-12T00:34:46.319Z"
      },
      {
        "duration": 4,
        "start_time": "2025-06-12T00:34:46.333Z"
      },
      {
        "duration": 4,
        "start_time": "2025-06-12T00:34:46.338Z"
      },
      {
        "duration": 5,
        "start_time": "2025-06-12T00:34:46.344Z"
      },
      {
        "duration": 5,
        "start_time": "2025-06-12T00:34:46.350Z"
      },
      {
        "duration": 5,
        "start_time": "2025-06-12T00:34:46.357Z"
      },
      {
        "duration": 5,
        "start_time": "2025-06-12T00:34:46.363Z"
      },
      {
        "duration": 3,
        "start_time": "2025-06-12T00:34:46.370Z"
      },
      {
        "duration": 4,
        "start_time": "2025-06-12T00:34:46.376Z"
      },
      {
        "duration": 7,
        "start_time": "2025-06-12T00:34:46.381Z"
      },
      {
        "duration": 7,
        "start_time": "2025-06-12T00:34:46.389Z"
      },
      {
        "duration": 5873,
        "start_time": "2025-06-12T00:34:46.398Z"
      },
      {
        "duration": 15,
        "start_time": "2025-06-12T00:34:52.273Z"
      },
      {
        "duration": 9,
        "start_time": "2025-06-12T00:34:52.290Z"
      },
      {
        "duration": 63,
        "start_time": "2025-06-12T00:34:52.302Z"
      },
      {
        "duration": 38,
        "start_time": "2025-06-12T00:34:52.367Z"
      },
      {
        "duration": 4,
        "start_time": "2025-06-12T00:34:52.407Z"
      },
      {
        "duration": 5,
        "start_time": "2025-06-12T00:34:52.436Z"
      },
      {
        "duration": 5,
        "start_time": "2025-06-12T00:34:52.443Z"
      },
      {
        "duration": 11,
        "start_time": "2025-06-12T00:34:52.450Z"
      },
      {
        "duration": 17,
        "start_time": "2025-06-12T00:34:52.463Z"
      },
      {
        "duration": 7,
        "start_time": "2025-06-12T00:34:52.482Z"
      },
      {
        "duration": 12,
        "start_time": "2025-06-12T00:34:52.491Z"
      },
      {
        "duration": 6,
        "start_time": "2025-06-12T00:34:52.504Z"
      },
      {
        "duration": 30,
        "start_time": "2025-06-12T00:34:52.512Z"
      },
      {
        "duration": 1,
        "start_time": "2025-06-12T00:34:52.543Z"
      },
      {
        "duration": 0,
        "start_time": "2025-06-12T00:34:52.544Z"
      },
      {
        "duration": 11,
        "start_time": "2025-06-12T00:36:25.877Z"
      },
      {
        "duration": 4,
        "start_time": "2025-06-12T00:36:31.674Z"
      },
      {
        "duration": 11,
        "start_time": "2025-06-12T00:36:32.893Z"
      },
      {
        "duration": 4,
        "start_time": "2025-06-12T00:37:21.734Z"
      },
      {
        "duration": 4,
        "start_time": "2025-06-12T00:37:24.796Z"
      },
      {
        "duration": 1264,
        "start_time": "2025-06-12T00:37:27.210Z"
      },
      {
        "duration": 3,
        "start_time": "2025-06-12T00:38:14.493Z"
      },
      {
        "duration": 4,
        "start_time": "2025-06-12T00:38:17.378Z"
      },
      {
        "duration": 4,
        "start_time": "2025-06-12T00:38:18.185Z"
      },
      {
        "duration": 1179,
        "start_time": "2025-06-12T00:38:19.065Z"
      },
      {
        "duration": 1282,
        "start_time": "2025-06-12T00:39:03.379Z"
      },
      {
        "duration": 2535,
        "start_time": "2025-06-12T00:39:07.652Z"
      },
      {
        "duration": 3,
        "start_time": "2025-06-12T00:39:10.190Z"
      },
      {
        "duration": 1084,
        "start_time": "2025-06-12T00:39:10.195Z"
      },
      {
        "duration": 4,
        "start_time": "2025-06-12T00:39:11.281Z"
      },
      {
        "duration": 782,
        "start_time": "2025-06-12T00:39:11.287Z"
      },
      {
        "duration": 29,
        "start_time": "2025-06-12T00:39:12.070Z"
      },
      {
        "duration": 6,
        "start_time": "2025-06-12T00:39:12.100Z"
      },
      {
        "duration": 2,
        "start_time": "2025-06-12T00:39:12.108Z"
      },
      {
        "duration": 361,
        "start_time": "2025-06-12T00:39:12.112Z"
      },
      {
        "duration": 627,
        "start_time": "2025-06-12T00:39:12.475Z"
      },
      {
        "duration": 33,
        "start_time": "2025-06-12T00:39:13.103Z"
      },
      {
        "duration": 41,
        "start_time": "2025-06-12T00:39:13.137Z"
      },
      {
        "duration": 18,
        "start_time": "2025-06-12T00:39:13.179Z"
      },
      {
        "duration": 5,
        "start_time": "2025-06-12T00:39:13.200Z"
      },
      {
        "duration": 31,
        "start_time": "2025-06-12T00:39:13.207Z"
      },
      {
        "duration": 41,
        "start_time": "2025-06-12T00:39:13.240Z"
      },
      {
        "duration": 4,
        "start_time": "2025-06-12T00:39:13.283Z"
      },
      {
        "duration": 4,
        "start_time": "2025-06-12T00:39:13.288Z"
      },
      {
        "duration": 8,
        "start_time": "2025-06-12T00:39:13.293Z"
      },
      {
        "duration": 45,
        "start_time": "2025-06-12T00:39:13.302Z"
      },
      {
        "duration": 77,
        "start_time": "2025-06-12T00:39:13.349Z"
      },
      {
        "duration": 25,
        "start_time": "2025-06-12T00:39:13.427Z"
      },
      {
        "duration": 22,
        "start_time": "2025-06-12T00:39:13.453Z"
      },
      {
        "duration": 57,
        "start_time": "2025-06-12T00:39:13.477Z"
      },
      {
        "duration": 89,
        "start_time": "2025-06-12T00:39:13.536Z"
      },
      {
        "duration": 11,
        "start_time": "2025-06-12T00:39:13.626Z"
      },
      {
        "duration": 30,
        "start_time": "2025-06-12T00:39:13.639Z"
      },
      {
        "duration": 32,
        "start_time": "2025-06-12T00:39:13.671Z"
      },
      {
        "duration": 48,
        "start_time": "2025-06-12T00:39:13.705Z"
      },
      {
        "duration": 19,
        "start_time": "2025-06-12T00:39:13.755Z"
      },
      {
        "duration": 112,
        "start_time": "2025-06-12T00:39:13.776Z"
      },
      {
        "duration": 20,
        "start_time": "2025-06-12T00:39:13.890Z"
      },
      {
        "duration": 38,
        "start_time": "2025-06-12T00:39:13.912Z"
      },
      {
        "duration": 20,
        "start_time": "2025-06-12T00:39:13.951Z"
      },
      {
        "duration": 254,
        "start_time": "2025-06-12T00:39:13.973Z"
      },
      {
        "duration": 11,
        "start_time": "2025-06-12T00:39:14.228Z"
      },
      {
        "duration": 76,
        "start_time": "2025-06-12T00:39:14.240Z"
      },
      {
        "duration": 3,
        "start_time": "2025-06-12T00:39:14.317Z"
      },
      {
        "duration": 13,
        "start_time": "2025-06-12T00:39:14.321Z"
      },
      {
        "duration": 7,
        "start_time": "2025-06-12T00:39:14.335Z"
      },
      {
        "duration": 17,
        "start_time": "2025-06-12T00:39:14.346Z"
      },
      {
        "duration": 30,
        "start_time": "2025-06-12T00:39:14.364Z"
      },
      {
        "duration": 39,
        "start_time": "2025-06-12T00:39:14.396Z"
      },
      {
        "duration": 3,
        "start_time": "2025-06-12T00:39:14.437Z"
      },
      {
        "duration": 21,
        "start_time": "2025-06-12T00:39:14.442Z"
      },
      {
        "duration": 2,
        "start_time": "2025-06-12T00:39:14.465Z"
      },
      {
        "duration": 18,
        "start_time": "2025-06-12T00:39:14.469Z"
      },
      {
        "duration": 54,
        "start_time": "2025-06-12T00:39:14.489Z"
      },
      {
        "duration": 3,
        "start_time": "2025-06-12T00:39:14.544Z"
      },
      {
        "duration": 27,
        "start_time": "2025-06-12T00:39:14.549Z"
      },
      {
        "duration": 6,
        "start_time": "2025-06-12T00:39:14.577Z"
      },
      {
        "duration": 3,
        "start_time": "2025-06-12T00:39:14.585Z"
      },
      {
        "duration": 3,
        "start_time": "2025-06-12T00:39:14.589Z"
      },
      {
        "duration": 27,
        "start_time": "2025-06-12T00:39:14.594Z"
      },
      {
        "duration": 3,
        "start_time": "2025-06-12T00:39:14.623Z"
      },
      {
        "duration": 4,
        "start_time": "2025-06-12T00:39:14.635Z"
      },
      {
        "duration": 47,
        "start_time": "2025-06-12T00:39:14.641Z"
      },
      {
        "duration": 63,
        "start_time": "2025-06-12T00:39:14.690Z"
      },
      {
        "duration": 4,
        "start_time": "2025-06-12T00:39:14.755Z"
      },
      {
        "duration": 5,
        "start_time": "2025-06-12T00:39:14.761Z"
      },
      {
        "duration": 6,
        "start_time": "2025-06-12T00:39:14.768Z"
      },
      {
        "duration": 14,
        "start_time": "2025-06-12T00:39:14.775Z"
      },
      {
        "duration": 5398,
        "start_time": "2025-06-12T00:39:14.790Z"
      },
      {
        "duration": 12,
        "start_time": "2025-06-12T00:39:20.190Z"
      },
      {
        "duration": 8,
        "start_time": "2025-06-12T00:39:20.204Z"
      },
      {
        "duration": 132,
        "start_time": "2025-06-12T00:39:20.214Z"
      },
      {
        "duration": 34,
        "start_time": "2025-06-12T00:39:20.348Z"
      },
      {
        "duration": 5,
        "start_time": "2025-06-12T00:39:20.383Z"
      },
      {
        "duration": 5,
        "start_time": "2025-06-12T00:39:20.389Z"
      },
      {
        "duration": 5,
        "start_time": "2025-06-12T00:39:20.395Z"
      },
      {
        "duration": 36,
        "start_time": "2025-06-12T00:39:20.401Z"
      },
      {
        "duration": 4,
        "start_time": "2025-06-12T00:39:20.438Z"
      },
      {
        "duration": 4,
        "start_time": "2025-06-12T00:39:20.443Z"
      },
      {
        "duration": 8,
        "start_time": "2025-06-12T00:39:20.448Z"
      },
      {
        "duration": 5,
        "start_time": "2025-06-12T00:39:20.457Z"
      },
      {
        "duration": 5,
        "start_time": "2025-06-12T00:39:20.463Z"
      },
      {
        "duration": 1195,
        "start_time": "2025-06-12T00:39:20.470Z"
      },
      {
        "duration": 0,
        "start_time": "2025-06-12T00:39:21.667Z"
      },
      {
        "duration": 0,
        "start_time": "2025-06-12T00:39:21.668Z"
      },
      {
        "duration": 4,
        "start_time": "2025-06-12T00:40:19.393Z"
      },
      {
        "duration": 1199,
        "start_time": "2025-06-12T00:40:20.707Z"
      },
      {
        "duration": 3,
        "start_time": "2025-06-12T00:40:49.016Z"
      },
      {
        "duration": 3,
        "start_time": "2025-06-12T00:41:40.975Z"
      },
      {
        "duration": 4134,
        "start_time": "2025-06-12T00:41:56.574Z"
      },
      {
        "duration": 3,
        "start_time": "2025-06-12T00:42:00.710Z"
      },
      {
        "duration": 1135,
        "start_time": "2025-06-12T00:42:00.715Z"
      },
      {
        "duration": 5,
        "start_time": "2025-06-12T00:42:01.852Z"
      },
      {
        "duration": 845,
        "start_time": "2025-06-12T00:42:01.859Z"
      },
      {
        "duration": 47,
        "start_time": "2025-06-12T00:42:02.706Z"
      },
      {
        "duration": 32,
        "start_time": "2025-06-12T00:42:02.754Z"
      },
      {
        "duration": 21,
        "start_time": "2025-06-12T00:42:02.788Z"
      },
      {
        "duration": 360,
        "start_time": "2025-06-12T00:42:02.810Z"
      },
      {
        "duration": 639,
        "start_time": "2025-06-12T00:42:03.173Z"
      },
      {
        "duration": 27,
        "start_time": "2025-06-12T00:42:03.814Z"
      },
      {
        "duration": 79,
        "start_time": "2025-06-12T00:42:03.843Z"
      },
      {
        "duration": 24,
        "start_time": "2025-06-12T00:42:03.924Z"
      },
      {
        "duration": 92,
        "start_time": "2025-06-12T00:42:03.950Z"
      },
      {
        "duration": 6,
        "start_time": "2025-06-12T00:42:04.044Z"
      },
      {
        "duration": 37,
        "start_time": "2025-06-12T00:42:04.052Z"
      },
      {
        "duration": 4,
        "start_time": "2025-06-12T00:42:04.091Z"
      },
      {
        "duration": 9,
        "start_time": "2025-06-12T00:42:04.097Z"
      },
      {
        "duration": 33,
        "start_time": "2025-06-12T00:42:04.109Z"
      },
      {
        "duration": 52,
        "start_time": "2025-06-12T00:42:04.145Z"
      },
      {
        "duration": 41,
        "start_time": "2025-06-12T00:42:04.199Z"
      },
      {
        "duration": 48,
        "start_time": "2025-06-12T00:42:04.242Z"
      },
      {
        "duration": 28,
        "start_time": "2025-06-12T00:42:04.292Z"
      },
      {
        "duration": 24,
        "start_time": "2025-06-12T00:42:04.322Z"
      },
      {
        "duration": 29,
        "start_time": "2025-06-12T00:42:04.348Z"
      },
      {
        "duration": 7,
        "start_time": "2025-06-12T00:42:04.379Z"
      },
      {
        "duration": 23,
        "start_time": "2025-06-12T00:42:04.388Z"
      },
      {
        "duration": 37,
        "start_time": "2025-06-12T00:42:04.416Z"
      },
      {
        "duration": 38,
        "start_time": "2025-06-12T00:42:04.455Z"
      },
      {
        "duration": 21,
        "start_time": "2025-06-12T00:42:04.494Z"
      },
      {
        "duration": 24,
        "start_time": "2025-06-12T00:42:04.536Z"
      },
      {
        "duration": 22,
        "start_time": "2025-06-12T00:42:04.562Z"
      },
      {
        "duration": 55,
        "start_time": "2025-06-12T00:42:04.586Z"
      },
      {
        "duration": 19,
        "start_time": "2025-06-12T00:42:04.643Z"
      },
      {
        "duration": 192,
        "start_time": "2025-06-12T00:42:04.663Z"
      },
      {
        "duration": 6,
        "start_time": "2025-06-12T00:42:04.857Z"
      },
      {
        "duration": 29,
        "start_time": "2025-06-12T00:42:04.864Z"
      },
      {
        "duration": 3,
        "start_time": "2025-06-12T00:42:04.895Z"
      },
      {
        "duration": 19,
        "start_time": "2025-06-12T00:42:04.899Z"
      },
      {
        "duration": 9,
        "start_time": "2025-06-12T00:42:04.919Z"
      },
      {
        "duration": 21,
        "start_time": "2025-06-12T00:42:04.930Z"
      },
      {
        "duration": 27,
        "start_time": "2025-06-12T00:42:04.953Z"
      },
      {
        "duration": 22,
        "start_time": "2025-06-12T00:42:04.981Z"
      },
      {
        "duration": 2,
        "start_time": "2025-06-12T00:42:05.005Z"
      },
      {
        "duration": 43,
        "start_time": "2025-06-12T00:42:05.009Z"
      },
      {
        "duration": 2,
        "start_time": "2025-06-12T00:42:05.054Z"
      },
      {
        "duration": 19,
        "start_time": "2025-06-12T00:42:05.057Z"
      },
      {
        "duration": 27,
        "start_time": "2025-06-12T00:42:05.078Z"
      },
      {
        "duration": 2,
        "start_time": "2025-06-12T00:42:05.107Z"
      },
      {
        "duration": 39,
        "start_time": "2025-06-12T00:42:05.111Z"
      },
      {
        "duration": 5,
        "start_time": "2025-06-12T00:42:05.151Z"
      },
      {
        "duration": 12,
        "start_time": "2025-06-12T00:42:05.157Z"
      },
      {
        "duration": 19,
        "start_time": "2025-06-12T00:42:05.171Z"
      },
      {
        "duration": 18,
        "start_time": "2025-06-12T00:42:05.192Z"
      },
      {
        "duration": 55,
        "start_time": "2025-06-12T00:42:05.211Z"
      },
      {
        "duration": 21,
        "start_time": "2025-06-12T00:42:05.268Z"
      },
      {
        "duration": 17,
        "start_time": "2025-06-12T00:42:05.290Z"
      },
      {
        "duration": 10,
        "start_time": "2025-06-12T00:42:05.309Z"
      },
      {
        "duration": 106,
        "start_time": "2025-06-12T00:42:05.321Z"
      },
      {
        "duration": 3,
        "start_time": "2025-06-12T00:42:05.429Z"
      },
      {
        "duration": 5,
        "start_time": "2025-06-12T00:42:05.434Z"
      },
      {
        "duration": 5,
        "start_time": "2025-06-12T00:42:05.441Z"
      },
      {
        "duration": 5945,
        "start_time": "2025-06-12T00:42:05.447Z"
      },
      {
        "duration": 9,
        "start_time": "2025-06-12T00:42:11.394Z"
      },
      {
        "duration": 20,
        "start_time": "2025-06-12T00:42:11.405Z"
      },
      {
        "duration": 37,
        "start_time": "2025-06-12T00:42:11.427Z"
      },
      {
        "duration": 33,
        "start_time": "2025-06-12T00:42:11.466Z"
      },
      {
        "duration": 4,
        "start_time": "2025-06-12T00:42:11.501Z"
      },
      {
        "duration": 145,
        "start_time": "2025-06-12T00:42:11.507Z"
      },
      {
        "duration": 5,
        "start_time": "2025-06-12T00:42:11.654Z"
      },
      {
        "duration": 10,
        "start_time": "2025-06-12T00:42:11.661Z"
      },
      {
        "duration": 5,
        "start_time": "2025-06-12T00:42:11.673Z"
      },
      {
        "duration": 4,
        "start_time": "2025-06-12T00:42:11.679Z"
      },
      {
        "duration": 17,
        "start_time": "2025-06-12T00:42:11.685Z"
      },
      {
        "duration": 4,
        "start_time": "2025-06-12T00:42:11.704Z"
      },
      {
        "duration": 5,
        "start_time": "2025-06-12T00:42:11.710Z"
      },
      {
        "duration": 2243,
        "start_time": "2025-06-12T00:42:11.717Z"
      },
      {
        "duration": 0,
        "start_time": "2025-06-12T00:42:13.961Z"
      },
      {
        "duration": 0,
        "start_time": "2025-06-12T00:42:13.963Z"
      },
      {
        "duration": 0,
        "start_time": "2025-06-12T00:42:13.964Z"
      },
      {
        "duration": 3,
        "start_time": "2025-06-12T00:44:27.882Z"
      },
      {
        "duration": 3,
        "start_time": "2025-06-12T00:44:39.848Z"
      },
      {
        "duration": 3,
        "start_time": "2025-06-12T00:44:41.047Z"
      },
      {
        "duration": 4,
        "start_time": "2025-06-12T00:44:45.305Z"
      },
      {
        "duration": 4,
        "start_time": "2025-06-12T00:44:46.397Z"
      },
      {
        "duration": 44,
        "start_time": "2025-06-12T00:44:47.343Z"
      },
      {
        "duration": 3,
        "start_time": "2025-06-12T00:46:14.013Z"
      },
      {
        "duration": 4,
        "start_time": "2025-06-12T00:46:17.175Z"
      },
      {
        "duration": 4,
        "start_time": "2025-06-12T00:46:18.690Z"
      },
      {
        "duration": 45,
        "start_time": "2025-06-12T00:46:21.189Z"
      },
      {
        "duration": 5582,
        "start_time": "2025-06-12T00:47:08.362Z"
      },
      {
        "duration": 3,
        "start_time": "2025-06-12T00:47:13.946Z"
      },
      {
        "duration": 1156,
        "start_time": "2025-06-12T00:47:13.951Z"
      },
      {
        "duration": 4,
        "start_time": "2025-06-12T00:47:15.109Z"
      },
      {
        "duration": 854,
        "start_time": "2025-06-12T00:47:15.115Z"
      },
      {
        "duration": 39,
        "start_time": "2025-06-12T00:47:15.970Z"
      },
      {
        "duration": 6,
        "start_time": "2025-06-12T00:47:16.011Z"
      },
      {
        "duration": 3,
        "start_time": "2025-06-12T00:47:16.035Z"
      },
      {
        "duration": 351,
        "start_time": "2025-06-12T00:47:16.040Z"
      },
      {
        "duration": 674,
        "start_time": "2025-06-12T00:47:16.394Z"
      },
      {
        "duration": 24,
        "start_time": "2025-06-12T00:47:17.070Z"
      },
      {
        "duration": 60,
        "start_time": "2025-06-12T00:47:17.096Z"
      },
      {
        "duration": 22,
        "start_time": "2025-06-12T00:47:17.157Z"
      },
      {
        "duration": 10,
        "start_time": "2025-06-12T00:47:17.181Z"
      },
      {
        "duration": 6,
        "start_time": "2025-06-12T00:47:17.194Z"
      },
      {
        "duration": 63,
        "start_time": "2025-06-12T00:47:17.202Z"
      },
      {
        "duration": 4,
        "start_time": "2025-06-12T00:47:17.266Z"
      },
      {
        "duration": 3,
        "start_time": "2025-06-12T00:47:17.272Z"
      },
      {
        "duration": 14,
        "start_time": "2025-06-12T00:47:17.277Z"
      },
      {
        "duration": 42,
        "start_time": "2025-06-12T00:47:17.293Z"
      },
      {
        "duration": 41,
        "start_time": "2025-06-12T00:47:17.337Z"
      },
      {
        "duration": 54,
        "start_time": "2025-06-12T00:47:17.380Z"
      },
      {
        "duration": 32,
        "start_time": "2025-06-12T00:47:17.436Z"
      },
      {
        "duration": 20,
        "start_time": "2025-06-12T00:47:17.469Z"
      },
      {
        "duration": 7,
        "start_time": "2025-06-12T00:47:17.491Z"
      },
      {
        "duration": 8,
        "start_time": "2025-06-12T00:47:17.499Z"
      },
      {
        "duration": 39,
        "start_time": "2025-06-12T00:47:17.509Z"
      },
      {
        "duration": 115,
        "start_time": "2025-06-12T00:47:17.554Z"
      },
      {
        "duration": 38,
        "start_time": "2025-06-12T00:47:17.671Z"
      },
      {
        "duration": 29,
        "start_time": "2025-06-12T00:47:17.711Z"
      },
      {
        "duration": 29,
        "start_time": "2025-06-12T00:47:17.742Z"
      },
      {
        "duration": 22,
        "start_time": "2025-06-12T00:47:17.773Z"
      },
      {
        "duration": 113,
        "start_time": "2025-06-12T00:47:17.798Z"
      },
      {
        "duration": 20,
        "start_time": "2025-06-12T00:47:17.913Z"
      },
      {
        "duration": 175,
        "start_time": "2025-06-12T00:47:17.935Z"
      },
      {
        "duration": 7,
        "start_time": "2025-06-12T00:47:18.112Z"
      },
      {
        "duration": 36,
        "start_time": "2025-06-12T00:47:18.121Z"
      },
      {
        "duration": 3,
        "start_time": "2025-06-12T00:47:18.159Z"
      },
      {
        "duration": 35,
        "start_time": "2025-06-12T00:47:18.164Z"
      },
      {
        "duration": 4,
        "start_time": "2025-06-12T00:47:18.201Z"
      },
      {
        "duration": 18,
        "start_time": "2025-06-12T00:47:18.207Z"
      },
      {
        "duration": 29,
        "start_time": "2025-06-12T00:47:18.235Z"
      },
      {
        "duration": 72,
        "start_time": "2025-06-12T00:47:18.266Z"
      },
      {
        "duration": 3,
        "start_time": "2025-06-12T00:47:18.339Z"
      },
      {
        "duration": 22,
        "start_time": "2025-06-12T00:47:18.344Z"
      },
      {
        "duration": 2,
        "start_time": "2025-06-12T00:47:18.368Z"
      },
      {
        "duration": 20,
        "start_time": "2025-06-12T00:47:18.372Z"
      },
      {
        "duration": 66,
        "start_time": "2025-06-12T00:47:18.394Z"
      },
      {
        "duration": 3,
        "start_time": "2025-06-12T00:47:18.462Z"
      },
      {
        "duration": 32,
        "start_time": "2025-06-12T00:47:18.467Z"
      },
      {
        "duration": 6,
        "start_time": "2025-06-12T00:47:18.501Z"
      },
      {
        "duration": 28,
        "start_time": "2025-06-12T00:47:18.508Z"
      },
      {
        "duration": 2,
        "start_time": "2025-06-12T00:47:18.538Z"
      },
      {
        "duration": 5,
        "start_time": "2025-06-12T00:47:18.543Z"
      },
      {
        "duration": 13,
        "start_time": "2025-06-12T00:47:18.550Z"
      },
      {
        "duration": 19,
        "start_time": "2025-06-12T00:47:18.564Z"
      },
      {
        "duration": 5,
        "start_time": "2025-06-12T00:47:18.585Z"
      },
      {
        "duration": 3,
        "start_time": "2025-06-12T00:47:18.592Z"
      },
      {
        "duration": 3,
        "start_time": "2025-06-12T00:47:18.597Z"
      },
      {
        "duration": 9,
        "start_time": "2025-06-12T00:47:18.602Z"
      },
      {
        "duration": 14,
        "start_time": "2025-06-12T00:47:18.613Z"
      },
      {
        "duration": 10,
        "start_time": "2025-06-12T00:47:18.628Z"
      },
      {
        "duration": 5476,
        "start_time": "2025-06-12T00:47:18.640Z"
      },
      {
        "duration": 10,
        "start_time": "2025-06-12T00:47:24.117Z"
      },
      {
        "duration": 8,
        "start_time": "2025-06-12T00:47:24.129Z"
      },
      {
        "duration": 54,
        "start_time": "2025-06-12T00:47:24.139Z"
      },
      {
        "duration": 69,
        "start_time": "2025-06-12T00:47:24.195Z"
      },
      {
        "duration": 4,
        "start_time": "2025-06-12T00:47:24.266Z"
      },
      {
        "duration": 72,
        "start_time": "2025-06-12T00:47:24.272Z"
      },
      {
        "duration": 10,
        "start_time": "2025-06-12T00:47:24.345Z"
      },
      {
        "duration": 5,
        "start_time": "2025-06-12T00:47:24.356Z"
      },
      {
        "duration": 7,
        "start_time": "2025-06-12T00:47:24.362Z"
      },
      {
        "duration": 10,
        "start_time": "2025-06-12T00:47:24.371Z"
      },
      {
        "duration": 5,
        "start_time": "2025-06-12T00:47:24.382Z"
      },
      {
        "duration": 13,
        "start_time": "2025-06-12T00:47:24.388Z"
      },
      {
        "duration": 8,
        "start_time": "2025-06-12T00:47:24.403Z"
      },
      {
        "duration": 154,
        "start_time": "2025-06-12T00:47:24.413Z"
      },
      {
        "duration": 0,
        "start_time": "2025-06-12T00:47:24.569Z"
      },
      {
        "duration": 0,
        "start_time": "2025-06-12T00:47:24.570Z"
      },
      {
        "duration": 0,
        "start_time": "2025-06-12T00:47:24.571Z"
      },
      {
        "duration": 0,
        "start_time": "2025-06-12T00:47:24.572Z"
      },
      {
        "duration": 4,
        "start_time": "2025-06-12T00:47:27.998Z"
      },
      {
        "duration": 9150,
        "start_time": "2025-06-12T00:48:53.945Z"
      },
      {
        "duration": 4,
        "start_time": "2025-06-12T00:49:03.098Z"
      },
      {
        "duration": 7448,
        "start_time": "2025-06-12T00:49:22.834Z"
      },
      {
        "duration": 5,
        "start_time": "2025-06-12T00:49:30.284Z"
      },
      {
        "duration": 1059,
        "start_time": "2025-06-12T00:49:30.290Z"
      },
      {
        "duration": 4,
        "start_time": "2025-06-12T00:49:31.351Z"
      },
      {
        "duration": 930,
        "start_time": "2025-06-12T00:49:31.357Z"
      },
      {
        "duration": 47,
        "start_time": "2025-06-12T00:49:32.289Z"
      },
      {
        "duration": 6,
        "start_time": "2025-06-12T00:49:32.337Z"
      },
      {
        "duration": 18,
        "start_time": "2025-06-12T00:49:32.345Z"
      },
      {
        "duration": 345,
        "start_time": "2025-06-12T00:49:32.365Z"
      },
      {
        "duration": 623,
        "start_time": "2025-06-12T00:49:32.714Z"
      },
      {
        "duration": 21,
        "start_time": "2025-06-12T00:49:33.339Z"
      },
      {
        "duration": 102,
        "start_time": "2025-06-12T00:49:33.361Z"
      },
      {
        "duration": 18,
        "start_time": "2025-06-12T00:49:33.464Z"
      },
      {
        "duration": 10,
        "start_time": "2025-06-12T00:49:33.484Z"
      },
      {
        "duration": 6,
        "start_time": "2025-06-12T00:49:33.496Z"
      },
      {
        "duration": 48,
        "start_time": "2025-06-12T00:49:33.503Z"
      },
      {
        "duration": 3,
        "start_time": "2025-06-12T00:49:33.553Z"
      },
      {
        "duration": 103,
        "start_time": "2025-06-12T00:49:33.558Z"
      },
      {
        "duration": 13,
        "start_time": "2025-06-12T00:49:33.662Z"
      },
      {
        "duration": 23,
        "start_time": "2025-06-12T00:49:33.676Z"
      },
      {
        "duration": 42,
        "start_time": "2025-06-12T00:49:33.701Z"
      },
      {
        "duration": 21,
        "start_time": "2025-06-12T00:49:33.745Z"
      },
      {
        "duration": 25,
        "start_time": "2025-06-12T00:49:33.767Z"
      },
      {
        "duration": 119,
        "start_time": "2025-06-12T00:49:33.794Z"
      },
      {
        "duration": 19,
        "start_time": "2025-06-12T00:49:33.915Z"
      },
      {
        "duration": 29,
        "start_time": "2025-06-12T00:49:33.936Z"
      },
      {
        "duration": 125,
        "start_time": "2025-06-12T00:49:33.967Z"
      },
      {
        "duration": 44,
        "start_time": "2025-06-12T00:49:34.097Z"
      },
      {
        "duration": 47,
        "start_time": "2025-06-12T00:49:34.143Z"
      },
      {
        "duration": 19,
        "start_time": "2025-06-12T00:49:34.192Z"
      },
      {
        "duration": 42,
        "start_time": "2025-06-12T00:49:34.213Z"
      },
      {
        "duration": 79,
        "start_time": "2025-06-12T00:49:34.257Z"
      },
      {
        "duration": 36,
        "start_time": "2025-06-12T00:49:34.338Z"
      },
      {
        "duration": 21,
        "start_time": "2025-06-12T00:49:34.375Z"
      },
      {
        "duration": 189,
        "start_time": "2025-06-12T00:49:34.398Z"
      },
      {
        "duration": 9,
        "start_time": "2025-06-12T00:49:34.589Z"
      },
      {
        "duration": 25,
        "start_time": "2025-06-12T00:49:34.599Z"
      },
      {
        "duration": 11,
        "start_time": "2025-06-12T00:49:34.626Z"
      },
      {
        "duration": 7,
        "start_time": "2025-06-12T00:49:34.639Z"
      },
      {
        "duration": 22,
        "start_time": "2025-06-12T00:49:34.650Z"
      },
      {
        "duration": 26,
        "start_time": "2025-06-12T00:49:34.673Z"
      },
      {
        "duration": 29,
        "start_time": "2025-06-12T00:49:34.701Z"
      },
      {
        "duration": 69,
        "start_time": "2025-06-12T00:49:34.732Z"
      },
      {
        "duration": 2,
        "start_time": "2025-06-12T00:49:34.803Z"
      },
      {
        "duration": 24,
        "start_time": "2025-06-12T00:49:34.808Z"
      },
      {
        "duration": 3,
        "start_time": "2025-06-12T00:49:34.833Z"
      },
      {
        "duration": 21,
        "start_time": "2025-06-12T00:49:34.837Z"
      },
      {
        "duration": 37,
        "start_time": "2025-06-12T00:49:34.859Z"
      },
      {
        "duration": 3,
        "start_time": "2025-06-12T00:49:34.898Z"
      },
      {
        "duration": 28,
        "start_time": "2025-06-12T00:49:34.902Z"
      },
      {
        "duration": 6,
        "start_time": "2025-06-12T00:49:34.935Z"
      },
      {
        "duration": 8,
        "start_time": "2025-06-12T00:49:34.943Z"
      },
      {
        "duration": 11,
        "start_time": "2025-06-12T00:49:34.953Z"
      },
      {
        "duration": 16,
        "start_time": "2025-06-12T00:49:34.965Z"
      },
      {
        "duration": 51,
        "start_time": "2025-06-12T00:49:34.982Z"
      },
      {
        "duration": 16,
        "start_time": "2025-06-12T00:49:35.035Z"
      },
      {
        "duration": 27,
        "start_time": "2025-06-12T00:49:35.052Z"
      },
      {
        "duration": 13,
        "start_time": "2025-06-12T00:49:35.081Z"
      },
      {
        "duration": 14,
        "start_time": "2025-06-12T00:49:35.096Z"
      },
      {
        "duration": 3,
        "start_time": "2025-06-12T00:49:35.112Z"
      },
      {
        "duration": 6,
        "start_time": "2025-06-12T00:49:35.116Z"
      },
      {
        "duration": 14,
        "start_time": "2025-06-12T00:49:35.124Z"
      },
      {
        "duration": 5084,
        "start_time": "2025-06-12T00:49:35.140Z"
      },
      {
        "duration": 9,
        "start_time": "2025-06-12T00:49:40.226Z"
      },
      {
        "duration": 8,
        "start_time": "2025-06-12T00:49:40.236Z"
      },
      {
        "duration": 113,
        "start_time": "2025-06-12T00:49:40.246Z"
      },
      {
        "duration": 32,
        "start_time": "2025-06-12T00:49:40.360Z"
      },
      {
        "duration": 4,
        "start_time": "2025-06-12T00:49:40.394Z"
      },
      {
        "duration": 4,
        "start_time": "2025-06-12T00:49:40.399Z"
      },
      {
        "duration": 4,
        "start_time": "2025-06-12T00:49:40.404Z"
      },
      {
        "duration": 27,
        "start_time": "2025-06-12T00:49:40.409Z"
      },
      {
        "duration": 9,
        "start_time": "2025-06-12T00:49:40.438Z"
      },
      {
        "duration": 15,
        "start_time": "2025-06-12T00:49:40.448Z"
      },
      {
        "duration": 115,
        "start_time": "2025-06-12T00:49:40.465Z"
      },
      {
        "duration": 0,
        "start_time": "2025-06-12T00:49:40.581Z"
      },
      {
        "duration": 0,
        "start_time": "2025-06-12T00:49:40.583Z"
      },
      {
        "duration": 0,
        "start_time": "2025-06-12T00:49:40.584Z"
      },
      {
        "duration": 0,
        "start_time": "2025-06-12T00:49:40.585Z"
      },
      {
        "duration": 0,
        "start_time": "2025-06-12T00:49:40.586Z"
      },
      {
        "duration": 0,
        "start_time": "2025-06-12T00:49:40.587Z"
      },
      {
        "duration": 4,
        "start_time": "2025-06-12T00:49:57.034Z"
      },
      {
        "duration": 3,
        "start_time": "2025-06-12T00:50:00.828Z"
      },
      {
        "duration": 4,
        "start_time": "2025-06-12T00:50:05.818Z"
      },
      {
        "duration": 4,
        "start_time": "2025-06-12T00:50:06.954Z"
      },
      {
        "duration": 23424,
        "start_time": "2025-06-12T00:50:08.313Z"
      },
      {
        "duration": 5723,
        "start_time": "2025-06-12T00:51:25.352Z"
      },
      {
        "duration": 22801,
        "start_time": "2025-06-12T00:51:34.336Z"
      },
      {
        "duration": 10,
        "start_time": "2025-06-12T00:53:41.760Z"
      },
      {
        "duration": 9,
        "start_time": "2025-06-12T00:53:44.836Z"
      },
      {
        "duration": 6,
        "start_time": "2025-06-12T00:53:56.089Z"
      },
      {
        "duration": 11919,
        "start_time": "2025-06-12T07:00:16.227Z"
      },
      {
        "duration": 3,
        "start_time": "2025-06-12T07:00:28.148Z"
      },
      {
        "duration": 1070,
        "start_time": "2025-06-12T07:00:28.152Z"
      },
      {
        "duration": 4,
        "start_time": "2025-06-12T07:00:29.224Z"
      },
      {
        "duration": 855,
        "start_time": "2025-06-12T07:00:29.230Z"
      },
      {
        "duration": 34,
        "start_time": "2025-06-12T07:00:30.087Z"
      },
      {
        "duration": 31,
        "start_time": "2025-06-12T07:00:30.123Z"
      },
      {
        "duration": 41,
        "start_time": "2025-06-12T07:00:30.156Z"
      },
      {
        "duration": 350,
        "start_time": "2025-06-12T07:00:30.199Z"
      },
      {
        "duration": 635,
        "start_time": "2025-06-12T07:00:30.552Z"
      },
      {
        "duration": 22,
        "start_time": "2025-06-12T07:00:31.189Z"
      },
      {
        "duration": 81,
        "start_time": "2025-06-12T07:00:31.213Z"
      },
      {
        "duration": 19,
        "start_time": "2025-06-12T07:00:31.295Z"
      },
      {
        "duration": 34,
        "start_time": "2025-06-12T07:00:31.316Z"
      },
      {
        "duration": 10,
        "start_time": "2025-06-12T07:00:31.351Z"
      },
      {
        "duration": 139,
        "start_time": "2025-06-12T07:00:31.363Z"
      },
      {
        "duration": 4,
        "start_time": "2025-06-12T07:00:31.504Z"
      },
      {
        "duration": 26,
        "start_time": "2025-06-12T07:00:31.510Z"
      },
      {
        "duration": 13,
        "start_time": "2025-06-12T07:00:31.538Z"
      },
      {
        "duration": 41,
        "start_time": "2025-06-12T07:00:31.553Z"
      },
      {
        "duration": 53,
        "start_time": "2025-06-12T07:00:31.596Z"
      },
      {
        "duration": 27,
        "start_time": "2025-06-12T07:00:31.651Z"
      },
      {
        "duration": 25,
        "start_time": "2025-06-12T07:00:31.680Z"
      },
      {
        "duration": 17,
        "start_time": "2025-06-12T07:00:31.707Z"
      },
      {
        "duration": 26,
        "start_time": "2025-06-12T07:00:31.726Z"
      },
      {
        "duration": 24,
        "start_time": "2025-06-12T07:00:31.758Z"
      },
      {
        "duration": 30,
        "start_time": "2025-06-12T07:00:31.784Z"
      },
      {
        "duration": 53,
        "start_time": "2025-06-12T07:00:31.818Z"
      },
      {
        "duration": 37,
        "start_time": "2025-06-12T07:00:31.873Z"
      },
      {
        "duration": 20,
        "start_time": "2025-06-12T07:00:31.912Z"
      },
      {
        "duration": 43,
        "start_time": "2025-06-12T07:00:31.933Z"
      },
      {
        "duration": 22,
        "start_time": "2025-06-12T07:00:31.977Z"
      },
      {
        "duration": 53,
        "start_time": "2025-06-12T07:00:32.001Z"
      },
      {
        "duration": 23,
        "start_time": "2025-06-12T07:00:32.055Z"
      },
      {
        "duration": 177,
        "start_time": "2025-06-12T07:00:32.079Z"
      },
      {
        "duration": 6,
        "start_time": "2025-06-12T07:00:32.258Z"
      },
      {
        "duration": 44,
        "start_time": "2025-06-12T07:00:32.265Z"
      },
      {
        "duration": 2,
        "start_time": "2025-06-12T07:00:32.311Z"
      },
      {
        "duration": 41,
        "start_time": "2025-06-12T07:00:32.314Z"
      },
      {
        "duration": 31,
        "start_time": "2025-06-12T07:00:32.356Z"
      },
      {
        "duration": 36,
        "start_time": "2025-06-12T07:00:32.389Z"
      },
      {
        "duration": 34,
        "start_time": "2025-06-12T07:00:32.426Z"
      },
      {
        "duration": 24,
        "start_time": "2025-06-12T07:00:32.462Z"
      },
      {
        "duration": 39,
        "start_time": "2025-06-12T07:00:32.488Z"
      },
      {
        "duration": 111,
        "start_time": "2025-06-12T07:00:32.529Z"
      },
      {
        "duration": 93,
        "start_time": "2025-06-12T07:00:32.642Z"
      },
      {
        "duration": 18,
        "start_time": "2025-06-12T07:00:32.737Z"
      },
      {
        "duration": 27,
        "start_time": "2025-06-12T07:00:32.757Z"
      },
      {
        "duration": 3,
        "start_time": "2025-06-12T07:00:32.786Z"
      },
      {
        "duration": 30,
        "start_time": "2025-06-12T07:00:32.790Z"
      },
      {
        "duration": 19,
        "start_time": "2025-06-12T07:00:32.822Z"
      },
      {
        "duration": 16,
        "start_time": "2025-06-12T07:00:32.842Z"
      },
      {
        "duration": 3,
        "start_time": "2025-06-12T07:00:32.859Z"
      },
      {
        "duration": 16,
        "start_time": "2025-06-12T07:00:32.864Z"
      },
      {
        "duration": 7,
        "start_time": "2025-06-12T07:00:32.881Z"
      },
      {
        "duration": 7,
        "start_time": "2025-06-12T07:00:32.890Z"
      },
      {
        "duration": 85,
        "start_time": "2025-06-12T07:00:32.898Z"
      },
      {
        "duration": 7,
        "start_time": "2025-06-12T07:00:32.984Z"
      },
      {
        "duration": 13,
        "start_time": "2025-06-12T07:00:32.992Z"
      },
      {
        "duration": 25,
        "start_time": "2025-06-12T07:00:33.006Z"
      },
      {
        "duration": 10,
        "start_time": "2025-06-12T07:00:33.033Z"
      },
      {
        "duration": 8,
        "start_time": "2025-06-12T07:00:33.044Z"
      },
      {
        "duration": 5381,
        "start_time": "2025-06-12T07:00:33.054Z"
      },
      {
        "duration": 9,
        "start_time": "2025-06-12T07:00:38.436Z"
      },
      {
        "duration": 13,
        "start_time": "2025-06-12T07:00:38.447Z"
      },
      {
        "duration": 43,
        "start_time": "2025-06-12T07:00:38.461Z"
      },
      {
        "duration": 65,
        "start_time": "2025-06-12T07:00:38.506Z"
      },
      {
        "duration": 32,
        "start_time": "2025-06-12T07:00:38.573Z"
      },
      {
        "duration": 5,
        "start_time": "2025-06-12T07:00:38.607Z"
      },
      {
        "duration": 7,
        "start_time": "2025-06-12T07:00:38.614Z"
      },
      {
        "duration": 5,
        "start_time": "2025-06-12T07:00:38.622Z"
      },
      {
        "duration": 63,
        "start_time": "2025-06-12T07:00:38.628Z"
      },
      {
        "duration": 24,
        "start_time": "2025-06-12T07:00:38.692Z"
      },
      {
        "duration": 4,
        "start_time": "2025-06-12T07:00:38.717Z"
      },
      {
        "duration": 3,
        "start_time": "2025-06-12T07:00:38.723Z"
      },
      {
        "duration": 5,
        "start_time": "2025-06-12T07:00:38.727Z"
      },
      {
        "duration": 23137,
        "start_time": "2025-06-12T07:00:38.733Z"
      },
      {
        "duration": 0,
        "start_time": "2025-06-12T07:01:01.872Z"
      },
      {
        "duration": 0,
        "start_time": "2025-06-12T07:01:01.873Z"
      },
      {
        "duration": 0,
        "start_time": "2025-06-12T07:01:01.874Z"
      },
      {
        "duration": 0,
        "start_time": "2025-06-12T07:01:01.875Z"
      },
      {
        "duration": 18,
        "start_time": "2025-06-12T07:02:11.100Z"
      },
      {
        "duration": 4,
        "start_time": "2025-06-12T07:03:36.608Z"
      },
      {
        "duration": 23337,
        "start_time": "2025-06-12T07:03:37.423Z"
      },
      {
        "duration": 23784,
        "start_time": "2025-06-12T07:04:18.775Z"
      },
      {
        "duration": 23594,
        "start_time": "2025-06-12T07:05:00.478Z"
      },
      {
        "duration": 10,
        "start_time": "2025-06-12T07:10:49.676Z"
      },
      {
        "duration": 22,
        "start_time": "2025-06-12T07:11:39.976Z"
      },
      {
        "duration": 7799,
        "start_time": "2025-06-12T07:16:50.387Z"
      },
      {
        "duration": 5,
        "start_time": "2025-06-12T07:17:03.907Z"
      },
      {
        "duration": 7103,
        "start_time": "2025-06-12T08:09:40.987Z"
      },
      {
        "duration": 4,
        "start_time": "2025-06-12T08:09:48.092Z"
      },
      {
        "duration": 1054,
        "start_time": "2025-06-12T08:09:48.098Z"
      },
      {
        "duration": 6,
        "start_time": "2025-06-12T08:09:49.157Z"
      },
      {
        "duration": 841,
        "start_time": "2025-06-12T08:09:49.164Z"
      },
      {
        "duration": 36,
        "start_time": "2025-06-12T08:09:50.007Z"
      },
      {
        "duration": 19,
        "start_time": "2025-06-12T08:09:50.044Z"
      },
      {
        "duration": 3,
        "start_time": "2025-06-12T08:09:50.064Z"
      },
      {
        "duration": 344,
        "start_time": "2025-06-12T08:09:50.069Z"
      },
      {
        "duration": 628,
        "start_time": "2025-06-12T08:09:50.416Z"
      },
      {
        "duration": 26,
        "start_time": "2025-06-12T08:09:51.046Z"
      },
      {
        "duration": 127,
        "start_time": "2025-06-12T08:09:51.074Z"
      },
      {
        "duration": 20,
        "start_time": "2025-06-12T08:09:51.202Z"
      },
      {
        "duration": 26,
        "start_time": "2025-06-12T08:09:51.223Z"
      },
      {
        "duration": 14,
        "start_time": "2025-06-12T08:09:51.251Z"
      },
      {
        "duration": 50,
        "start_time": "2025-06-12T08:09:51.266Z"
      },
      {
        "duration": 3,
        "start_time": "2025-06-12T08:09:51.318Z"
      },
      {
        "duration": 39,
        "start_time": "2025-06-12T08:09:51.323Z"
      },
      {
        "duration": 26,
        "start_time": "2025-06-12T08:09:51.365Z"
      },
      {
        "duration": 43,
        "start_time": "2025-06-12T08:09:51.393Z"
      },
      {
        "duration": 59,
        "start_time": "2025-06-12T08:09:51.438Z"
      },
      {
        "duration": 34,
        "start_time": "2025-06-12T08:09:51.499Z"
      },
      {
        "duration": 45,
        "start_time": "2025-06-12T08:09:51.535Z"
      },
      {
        "duration": 25,
        "start_time": "2025-06-12T08:09:51.582Z"
      },
      {
        "duration": 15,
        "start_time": "2025-06-12T08:09:51.609Z"
      },
      {
        "duration": 155,
        "start_time": "2025-06-12T08:09:51.626Z"
      },
      {
        "duration": 44,
        "start_time": "2025-06-12T08:09:51.783Z"
      },
      {
        "duration": 97,
        "start_time": "2025-06-12T08:09:51.832Z"
      },
      {
        "duration": 84,
        "start_time": "2025-06-12T08:09:51.930Z"
      },
      {
        "duration": 21,
        "start_time": "2025-06-12T08:09:52.016Z"
      },
      {
        "duration": 25,
        "start_time": "2025-06-12T08:09:52.038Z"
      },
      {
        "duration": 30,
        "start_time": "2025-06-12T08:09:52.065Z"
      },
      {
        "duration": 57,
        "start_time": "2025-06-12T08:09:52.097Z"
      },
      {
        "duration": 23,
        "start_time": "2025-06-12T08:09:52.156Z"
      },
      {
        "duration": 177,
        "start_time": "2025-06-12T08:09:52.181Z"
      },
      {
        "duration": 6,
        "start_time": "2025-06-12T08:09:52.360Z"
      },
      {
        "duration": 30,
        "start_time": "2025-06-12T08:09:52.367Z"
      },
      {
        "duration": 3,
        "start_time": "2025-06-12T08:09:52.399Z"
      },
      {
        "duration": 7,
        "start_time": "2025-06-12T08:09:52.403Z"
      },
      {
        "duration": 18,
        "start_time": "2025-06-12T08:09:52.411Z"
      },
      {
        "duration": 19,
        "start_time": "2025-06-12T08:09:52.431Z"
      },
      {
        "duration": 27,
        "start_time": "2025-06-12T08:09:52.457Z"
      },
      {
        "duration": 21,
        "start_time": "2025-06-12T08:09:52.486Z"
      },
      {
        "duration": 2,
        "start_time": "2025-06-12T08:09:52.509Z"
      },
      {
        "duration": 45,
        "start_time": "2025-06-12T08:09:52.513Z"
      },
      {
        "duration": 3,
        "start_time": "2025-06-12T08:09:52.560Z"
      },
      {
        "duration": 21,
        "start_time": "2025-06-12T08:09:52.565Z"
      },
      {
        "duration": 28,
        "start_time": "2025-06-12T08:09:52.587Z"
      },
      {
        "duration": 2,
        "start_time": "2025-06-12T08:09:52.617Z"
      },
      {
        "duration": 48,
        "start_time": "2025-06-12T08:09:52.621Z"
      },
      {
        "duration": 5,
        "start_time": "2025-06-12T08:09:52.671Z"
      },
      {
        "duration": 9,
        "start_time": "2025-06-12T08:09:52.677Z"
      },
      {
        "duration": 16,
        "start_time": "2025-06-12T08:09:52.688Z"
      },
      {
        "duration": 4,
        "start_time": "2025-06-12T08:09:52.706Z"
      },
      {
        "duration": 3,
        "start_time": "2025-06-12T08:09:52.712Z"
      },
      {
        "duration": 7,
        "start_time": "2025-06-12T08:09:52.716Z"
      },
      {
        "duration": 20,
        "start_time": "2025-06-12T08:09:52.724Z"
      },
      {
        "duration": 28,
        "start_time": "2025-06-12T08:09:52.746Z"
      },
      {
        "duration": 6,
        "start_time": "2025-06-12T08:09:52.776Z"
      },
      {
        "duration": 5,
        "start_time": "2025-06-12T08:09:52.784Z"
      },
      {
        "duration": 139,
        "start_time": "2025-06-12T08:09:52.790Z"
      },
      {
        "duration": 9,
        "start_time": "2025-06-12T08:09:52.931Z"
      },
      {
        "duration": 6764,
        "start_time": "2025-06-12T08:09:52.942Z"
      },
      {
        "duration": 11,
        "start_time": "2025-06-12T08:09:59.708Z"
      },
      {
        "duration": 70,
        "start_time": "2025-06-12T08:09:59.720Z"
      },
      {
        "duration": 47,
        "start_time": "2025-06-12T08:09:59.792Z"
      },
      {
        "duration": 35,
        "start_time": "2025-06-12T08:09:59.841Z"
      },
      {
        "duration": 5,
        "start_time": "2025-06-12T08:09:59.878Z"
      },
      {
        "duration": 4,
        "start_time": "2025-06-12T08:09:59.884Z"
      },
      {
        "duration": 4,
        "start_time": "2025-06-12T08:09:59.890Z"
      },
      {
        "duration": 3,
        "start_time": "2025-06-12T08:09:59.896Z"
      },
      {
        "duration": 3,
        "start_time": "2025-06-12T08:09:59.901Z"
      },
      {
        "duration": 2,
        "start_time": "2025-06-12T08:09:59.906Z"
      },
      {
        "duration": 3,
        "start_time": "2025-06-12T08:09:59.910Z"
      },
      {
        "duration": 158,
        "start_time": "2025-06-12T08:09:59.914Z"
      },
      {
        "duration": 0,
        "start_time": "2025-06-12T08:10:00.073Z"
      },
      {
        "duration": 0,
        "start_time": "2025-06-12T08:10:00.075Z"
      },
      {
        "duration": 6245,
        "start_time": "2025-06-12T08:10:50.539Z"
      },
      {
        "duration": 5496,
        "start_time": "2025-06-12T08:11:14.292Z"
      },
      {
        "duration": 3,
        "start_time": "2025-06-12T08:11:19.791Z"
      },
      {
        "duration": 1039,
        "start_time": "2025-06-12T08:11:19.796Z"
      },
      {
        "duration": 4,
        "start_time": "2025-06-12T08:11:20.836Z"
      },
      {
        "duration": 893,
        "start_time": "2025-06-12T08:11:20.842Z"
      },
      {
        "duration": 35,
        "start_time": "2025-06-12T08:11:21.737Z"
      },
      {
        "duration": 6,
        "start_time": "2025-06-12T08:11:21.774Z"
      },
      {
        "duration": 3,
        "start_time": "2025-06-12T08:11:21.781Z"
      },
      {
        "duration": 389,
        "start_time": "2025-06-12T08:11:21.786Z"
      },
      {
        "duration": 605,
        "start_time": "2025-06-12T08:11:22.178Z"
      },
      {
        "duration": 23,
        "start_time": "2025-06-12T08:11:22.784Z"
      },
      {
        "duration": 153,
        "start_time": "2025-06-12T08:11:22.809Z"
      },
      {
        "duration": 19,
        "start_time": "2025-06-12T08:11:22.964Z"
      },
      {
        "duration": 7,
        "start_time": "2025-06-12T08:11:22.985Z"
      },
      {
        "duration": 5,
        "start_time": "2025-06-12T08:11:22.994Z"
      },
      {
        "duration": 57,
        "start_time": "2025-06-12T08:11:23.001Z"
      },
      {
        "duration": 5,
        "start_time": "2025-06-12T08:11:23.060Z"
      },
      {
        "duration": 7,
        "start_time": "2025-06-12T08:11:23.066Z"
      },
      {
        "duration": 14,
        "start_time": "2025-06-12T08:11:23.074Z"
      },
      {
        "duration": 105,
        "start_time": "2025-06-12T08:11:23.090Z"
      },
      {
        "duration": 41,
        "start_time": "2025-06-12T08:11:23.197Z"
      },
      {
        "duration": 25,
        "start_time": "2025-06-12T08:11:23.240Z"
      },
      {
        "duration": 22,
        "start_time": "2025-06-12T08:11:23.267Z"
      },
      {
        "duration": 18,
        "start_time": "2025-06-12T08:11:23.290Z"
      },
      {
        "duration": 11,
        "start_time": "2025-06-12T08:11:23.310Z"
      },
      {
        "duration": 6,
        "start_time": "2025-06-12T08:11:23.323Z"
      },
      {
        "duration": 49,
        "start_time": "2025-06-12T08:11:23.330Z"
      },
      {
        "duration": 35,
        "start_time": "2025-06-12T08:11:23.384Z"
      },
      {
        "duration": 48,
        "start_time": "2025-06-12T08:11:23.421Z"
      },
      {
        "duration": 23,
        "start_time": "2025-06-12T08:11:23.470Z"
      },
      {
        "duration": 23,
        "start_time": "2025-06-12T08:11:23.494Z"
      },
      {
        "duration": 40,
        "start_time": "2025-06-12T08:11:23.519Z"
      },
      {
        "duration": 41,
        "start_time": "2025-06-12T08:11:23.560Z"
      },
      {
        "duration": 19,
        "start_time": "2025-06-12T08:11:23.603Z"
      },
      {
        "duration": 172,
        "start_time": "2025-06-12T08:11:23.624Z"
      },
      {
        "duration": 10,
        "start_time": "2025-06-12T08:11:23.797Z"
      },
      {
        "duration": 28,
        "start_time": "2025-06-12T08:11:23.809Z"
      },
      {
        "duration": 3,
        "start_time": "2025-06-12T08:11:23.839Z"
      },
      {
        "duration": 6,
        "start_time": "2025-06-12T08:11:23.857Z"
      },
      {
        "duration": 9,
        "start_time": "2025-06-12T08:11:23.864Z"
      },
      {
        "duration": 43,
        "start_time": "2025-06-12T08:11:23.874Z"
      },
      {
        "duration": 39,
        "start_time": "2025-06-12T08:11:23.919Z"
      },
      {
        "duration": 21,
        "start_time": "2025-06-12T08:11:23.959Z"
      },
      {
        "duration": 2,
        "start_time": "2025-06-12T08:11:23.982Z"
      },
      {
        "duration": 21,
        "start_time": "2025-06-12T08:11:23.986Z"
      },
      {
        "duration": 2,
        "start_time": "2025-06-12T08:11:24.009Z"
      },
      {
        "duration": 21,
        "start_time": "2025-06-12T08:11:24.013Z"
      },
      {
        "duration": 48,
        "start_time": "2025-06-12T08:11:24.036Z"
      },
      {
        "duration": 2,
        "start_time": "2025-06-12T08:11:24.086Z"
      },
      {
        "duration": 5518,
        "start_time": "2025-06-12T08:11:46.577Z"
      },
      {
        "duration": 4,
        "start_time": "2025-06-12T08:11:52.097Z"
      },
      {
        "duration": 1048,
        "start_time": "2025-06-12T08:11:52.103Z"
      },
      {
        "duration": 9,
        "start_time": "2025-06-12T08:11:53.152Z"
      },
      {
        "duration": 776,
        "start_time": "2025-06-12T08:11:53.163Z"
      },
      {
        "duration": 30,
        "start_time": "2025-06-12T08:11:53.941Z"
      },
      {
        "duration": 7,
        "start_time": "2025-06-12T08:11:53.972Z"
      },
      {
        "duration": 23,
        "start_time": "2025-06-12T08:11:53.981Z"
      },
      {
        "duration": 323,
        "start_time": "2025-06-12T08:11:54.006Z"
      },
      {
        "duration": 583,
        "start_time": "2025-06-12T08:11:54.330Z"
      },
      {
        "duration": 22,
        "start_time": "2025-06-12T08:11:54.914Z"
      },
      {
        "duration": 54,
        "start_time": "2025-06-12T08:11:54.938Z"
      },
      {
        "duration": 19,
        "start_time": "2025-06-12T08:11:54.994Z"
      },
      {
        "duration": 21,
        "start_time": "2025-06-12T08:11:55.014Z"
      },
      {
        "duration": 8,
        "start_time": "2025-06-12T08:11:55.037Z"
      },
      {
        "duration": 41,
        "start_time": "2025-06-12T08:11:55.047Z"
      },
      {
        "duration": 4,
        "start_time": "2025-06-12T08:11:55.090Z"
      },
      {
        "duration": 64,
        "start_time": "2025-06-12T08:11:55.096Z"
      },
      {
        "duration": 11,
        "start_time": "2025-06-12T08:11:55.162Z"
      },
      {
        "duration": 33,
        "start_time": "2025-06-12T08:11:55.175Z"
      },
      {
        "duration": 66,
        "start_time": "2025-06-12T08:11:55.210Z"
      },
      {
        "duration": 30,
        "start_time": "2025-06-12T08:11:55.278Z"
      },
      {
        "duration": 24,
        "start_time": "2025-06-12T08:11:55.310Z"
      },
      {
        "duration": 39,
        "start_time": "2025-06-12T08:11:55.336Z"
      },
      {
        "duration": 7,
        "start_time": "2025-06-12T08:11:55.376Z"
      },
      {
        "duration": 6,
        "start_time": "2025-06-12T08:11:55.384Z"
      },
      {
        "duration": 21,
        "start_time": "2025-06-12T08:11:55.392Z"
      },
      {
        "duration": 62,
        "start_time": "2025-06-12T08:11:55.414Z"
      },
      {
        "duration": 36,
        "start_time": "2025-06-12T08:11:55.478Z"
      },
      {
        "duration": 21,
        "start_time": "2025-06-12T08:11:55.516Z"
      },
      {
        "duration": 24,
        "start_time": "2025-06-12T08:11:55.558Z"
      },
      {
        "duration": 20,
        "start_time": "2025-06-12T08:11:55.592Z"
      },
      {
        "duration": 56,
        "start_time": "2025-06-12T08:11:55.613Z"
      },
      {
        "duration": 27,
        "start_time": "2025-06-12T08:11:55.671Z"
      },
      {
        "duration": 231,
        "start_time": "2025-06-12T08:11:55.699Z"
      },
      {
        "duration": 10,
        "start_time": "2025-06-12T08:11:55.932Z"
      },
      {
        "duration": 32,
        "start_time": "2025-06-12T08:11:55.944Z"
      },
      {
        "duration": 3,
        "start_time": "2025-06-12T08:11:55.977Z"
      },
      {
        "duration": 9,
        "start_time": "2025-06-12T08:11:55.982Z"
      },
      {
        "duration": 10,
        "start_time": "2025-06-12T08:11:55.993Z"
      },
      {
        "duration": 32,
        "start_time": "2025-06-12T08:11:56.005Z"
      },
      {
        "duration": 41,
        "start_time": "2025-06-12T08:11:56.039Z"
      },
      {
        "duration": 22,
        "start_time": "2025-06-12T08:11:56.081Z"
      },
      {
        "duration": 3,
        "start_time": "2025-06-12T08:11:56.105Z"
      },
      {
        "duration": 23,
        "start_time": "2025-06-12T08:11:56.109Z"
      },
      {
        "duration": 24,
        "start_time": "2025-06-12T08:11:56.134Z"
      },
      {
        "duration": 19,
        "start_time": "2025-06-12T08:11:56.159Z"
      },
      {
        "duration": 28,
        "start_time": "2025-06-12T08:11:56.180Z"
      },
      {
        "duration": 3,
        "start_time": "2025-06-12T08:11:56.210Z"
      },
      {
        "duration": 45,
        "start_time": "2025-06-12T08:11:56.214Z"
      },
      {
        "duration": 5,
        "start_time": "2025-06-12T08:11:56.261Z"
      },
      {
        "duration": 5,
        "start_time": "2025-06-12T08:11:56.267Z"
      },
      {
        "duration": 3,
        "start_time": "2025-06-12T08:11:56.274Z"
      },
      {
        "duration": 3,
        "start_time": "2025-06-12T08:11:56.279Z"
      },
      {
        "duration": 4,
        "start_time": "2025-06-12T08:11:56.283Z"
      },
      {
        "duration": 5,
        "start_time": "2025-06-12T08:11:56.288Z"
      },
      {
        "duration": 15,
        "start_time": "2025-06-12T08:11:56.295Z"
      },
      {
        "duration": 6,
        "start_time": "2025-06-12T08:11:56.311Z"
      },
      {
        "duration": 5,
        "start_time": "2025-06-12T08:11:56.318Z"
      },
      {
        "duration": 5,
        "start_time": "2025-06-12T08:11:56.324Z"
      },
      {
        "duration": 3,
        "start_time": "2025-06-12T08:11:56.331Z"
      },
      {
        "duration": 3,
        "start_time": "2025-06-12T08:11:56.358Z"
      },
      {
        "duration": 5623,
        "start_time": "2025-06-12T08:11:56.363Z"
      },
      {
        "duration": 10,
        "start_time": "2025-06-12T08:12:01.988Z"
      },
      {
        "duration": 58,
        "start_time": "2025-06-12T08:12:02.000Z"
      },
      {
        "duration": 107,
        "start_time": "2025-06-12T08:12:02.060Z"
      },
      {
        "duration": 97,
        "start_time": "2025-06-12T08:12:02.168Z"
      },
      {
        "duration": 4,
        "start_time": "2025-06-12T08:12:02.267Z"
      },
      {
        "duration": 10,
        "start_time": "2025-06-12T08:12:02.273Z"
      },
      {
        "duration": 5,
        "start_time": "2025-06-12T08:12:02.285Z"
      },
      {
        "duration": 23,
        "start_time": "2025-06-12T08:12:02.292Z"
      },
      {
        "duration": 5,
        "start_time": "2025-06-12T08:12:02.357Z"
      },
      {
        "duration": 33,
        "start_time": "2025-06-12T08:12:02.364Z"
      },
      {
        "duration": 6,
        "start_time": "2025-06-12T08:12:02.398Z"
      },
      {
        "duration": 28954,
        "start_time": "2025-06-12T08:12:02.405Z"
      },
      {
        "duration": 161409,
        "start_time": "2025-06-12T08:12:31.361Z"
      },
      {
        "duration": 7,
        "start_time": "2025-06-12T08:15:12.771Z"
      },
      {
        "duration": 324361,
        "start_time": "2025-06-12T08:15:27.305Z"
      },
      {
        "duration": 3,
        "start_time": "2025-06-12T08:40:28.752Z"
      },
      {
        "duration": 26001,
        "start_time": "2025-06-12T08:40:29.865Z"
      },
      {
        "duration": 154503,
        "start_time": "2025-06-12T08:40:55.868Z"
      },
      {
        "duration": 401688,
        "start_time": "2025-06-12T08:43:30.374Z"
      },
      {
        "duration": 10,
        "start_time": "2025-06-12T08:50:12.065Z"
      },
      {
        "duration": 15,
        "start_time": "2025-06-12T08:54:20.669Z"
      },
      {
        "duration": 27791,
        "start_time": "2025-06-12T08:59:33.268Z"
      },
      {
        "duration": 11,
        "start_time": "2025-06-12T09:05:36.382Z"
      },
      {
        "duration": 25641,
        "start_time": "2025-06-12T09:05:58.325Z"
      },
      {
        "duration": 25303,
        "start_time": "2025-06-12T09:07:54.662Z"
      },
      {
        "duration": 25696,
        "start_time": "2025-06-12T09:08:31.962Z"
      },
      {
        "duration": 97,
        "start_time": "2025-06-12T09:08:57.665Z"
      },
      {
        "duration": 6997,
        "start_time": "2025-06-12T09:11:40.703Z"
      },
      {
        "duration": 3,
        "start_time": "2025-06-12T09:11:47.702Z"
      },
      {
        "duration": 1125,
        "start_time": "2025-06-12T09:11:47.706Z"
      },
      {
        "duration": 4,
        "start_time": "2025-06-12T09:11:48.832Z"
      },
      {
        "duration": 774,
        "start_time": "2025-06-12T09:11:48.838Z"
      },
      {
        "duration": 44,
        "start_time": "2025-06-12T09:11:49.614Z"
      },
      {
        "duration": 16,
        "start_time": "2025-06-12T09:11:49.660Z"
      },
      {
        "duration": 2,
        "start_time": "2025-06-12T09:11:49.678Z"
      },
      {
        "duration": 318,
        "start_time": "2025-06-12T09:11:49.682Z"
      },
      {
        "duration": 611,
        "start_time": "2025-06-12T09:11:50.002Z"
      },
      {
        "duration": 21,
        "start_time": "2025-06-12T09:11:50.615Z"
      },
      {
        "duration": 56,
        "start_time": "2025-06-12T09:11:50.638Z"
      },
      {
        "duration": 18,
        "start_time": "2025-06-12T09:11:50.696Z"
      },
      {
        "duration": 7,
        "start_time": "2025-06-12T09:11:50.715Z"
      },
      {
        "duration": 5,
        "start_time": "2025-06-12T09:11:50.723Z"
      },
      {
        "duration": 57,
        "start_time": "2025-06-12T09:11:50.730Z"
      },
      {
        "duration": 4,
        "start_time": "2025-06-12T09:11:50.789Z"
      },
      {
        "duration": 25,
        "start_time": "2025-06-12T09:11:50.794Z"
      },
      {
        "duration": 26,
        "start_time": "2025-06-12T09:11:50.820Z"
      },
      {
        "duration": 28,
        "start_time": "2025-06-12T09:11:50.847Z"
      },
      {
        "duration": 38,
        "start_time": "2025-06-12T09:11:50.877Z"
      },
      {
        "duration": 23,
        "start_time": "2025-06-12T09:11:50.917Z"
      },
      {
        "duration": 70,
        "start_time": "2025-06-12T09:11:50.941Z"
      },
      {
        "duration": 33,
        "start_time": "2025-06-12T09:11:51.013Z"
      },
      {
        "duration": 8,
        "start_time": "2025-06-12T09:11:51.048Z"
      },
      {
        "duration": 29,
        "start_time": "2025-06-12T09:11:51.058Z"
      },
      {
        "duration": 84,
        "start_time": "2025-06-12T09:11:51.089Z"
      },
      {
        "duration": 33,
        "start_time": "2025-06-12T09:11:51.181Z"
      },
      {
        "duration": 48,
        "start_time": "2025-06-12T09:11:51.215Z"
      },
      {
        "duration": 90,
        "start_time": "2025-06-12T09:11:51.265Z"
      },
      {
        "duration": 23,
        "start_time": "2025-06-12T09:11:51.356Z"
      },
      {
        "duration": 20,
        "start_time": "2025-06-12T09:11:51.380Z"
      },
      {
        "duration": 40,
        "start_time": "2025-06-12T09:11:51.401Z"
      },
      {
        "duration": 32,
        "start_time": "2025-06-12T09:11:51.442Z"
      },
      {
        "duration": 193,
        "start_time": "2025-06-12T09:11:51.476Z"
      },
      {
        "duration": 6,
        "start_time": "2025-06-12T09:11:51.670Z"
      },
      {
        "duration": 45,
        "start_time": "2025-06-12T09:11:51.677Z"
      },
      {
        "duration": 3,
        "start_time": "2025-06-12T09:11:51.723Z"
      },
      {
        "duration": 17,
        "start_time": "2025-06-12T09:11:51.727Z"
      },
      {
        "duration": 5,
        "start_time": "2025-06-12T09:11:51.746Z"
      },
      {
        "duration": 17,
        "start_time": "2025-06-12T09:11:51.753Z"
      },
      {
        "duration": 27,
        "start_time": "2025-06-12T09:11:51.772Z"
      },
      {
        "duration": 22,
        "start_time": "2025-06-12T09:11:51.800Z"
      },
      {
        "duration": 5,
        "start_time": "2025-06-12T09:11:51.823Z"
      },
      {
        "duration": 41,
        "start_time": "2025-06-12T09:11:51.829Z"
      },
      {
        "duration": 2,
        "start_time": "2025-06-12T09:11:51.872Z"
      },
      {
        "duration": 33,
        "start_time": "2025-06-12T09:11:51.876Z"
      },
      {
        "duration": 189,
        "start_time": "2025-06-12T09:11:51.910Z"
      },
      {
        "duration": 3,
        "start_time": "2025-06-12T09:11:52.100Z"
      },
      {
        "duration": 31,
        "start_time": "2025-06-12T09:11:52.104Z"
      },
      {
        "duration": 5,
        "start_time": "2025-06-12T09:11:52.136Z"
      },
      {
        "duration": 7,
        "start_time": "2025-06-12T09:11:52.143Z"
      },
      {
        "duration": 4,
        "start_time": "2025-06-12T09:11:52.152Z"
      },
      {
        "duration": 7,
        "start_time": "2025-06-12T09:11:52.157Z"
      },
      {
        "duration": 50,
        "start_time": "2025-06-12T09:11:52.166Z"
      },
      {
        "duration": 17,
        "start_time": "2025-06-12T09:11:52.218Z"
      },
      {
        "duration": 12,
        "start_time": "2025-06-12T09:11:52.237Z"
      },
      {
        "duration": 8,
        "start_time": "2025-06-12T09:11:52.250Z"
      },
      {
        "duration": 11,
        "start_time": "2025-06-12T09:11:52.259Z"
      },
      {
        "duration": 32,
        "start_time": "2025-06-12T09:11:52.271Z"
      },
      {
        "duration": 13,
        "start_time": "2025-06-12T09:11:52.305Z"
      },
      {
        "duration": 4,
        "start_time": "2025-06-12T09:11:52.320Z"
      },
      {
        "duration": 5139,
        "start_time": "2025-06-12T09:11:52.325Z"
      },
      {
        "duration": 9,
        "start_time": "2025-06-12T09:11:57.465Z"
      },
      {
        "duration": 8,
        "start_time": "2025-06-12T09:11:57.476Z"
      },
      {
        "duration": 54,
        "start_time": "2025-06-12T09:11:57.485Z"
      },
      {
        "duration": 42,
        "start_time": "2025-06-12T09:11:57.540Z"
      },
      {
        "duration": 4,
        "start_time": "2025-06-12T09:11:57.583Z"
      },
      {
        "duration": 5,
        "start_time": "2025-06-12T09:11:57.589Z"
      },
      {
        "duration": 3,
        "start_time": "2025-06-12T09:11:57.595Z"
      },
      {
        "duration": 3,
        "start_time": "2025-06-12T09:11:57.600Z"
      },
      {
        "duration": 4,
        "start_time": "2025-06-12T09:11:57.604Z"
      },
      {
        "duration": 3,
        "start_time": "2025-06-12T09:11:57.609Z"
      },
      {
        "duration": 7,
        "start_time": "2025-06-12T09:11:57.613Z"
      },
      {
        "duration": 37,
        "start_time": "2025-06-12T09:11:57.621Z"
      },
      {
        "duration": 39604,
        "start_time": "2025-06-12T09:11:57.660Z"
      },
      {
        "duration": 165487,
        "start_time": "2025-06-12T09:12:37.266Z"
      },
      {
        "duration": 323913,
        "start_time": "2025-06-12T09:15:22.757Z"
      },
      {
        "duration": 94,
        "start_time": "2025-06-12T09:20:46.672Z"
      },
      {
        "duration": 630,
        "start_time": "2025-06-12T09:21:27.388Z"
      },
      {
        "duration": 155,
        "start_time": "2025-06-12T09:23:31.482Z"
      },
      {
        "duration": 618,
        "start_time": "2025-06-12T09:24:01.383Z"
      },
      {
        "duration": 643,
        "start_time": "2025-06-12T09:24:59.167Z"
      },
      {
        "duration": 587,
        "start_time": "2025-06-12T09:25:08.983Z"
      },
      {
        "duration": 549,
        "start_time": "2025-06-12T09:25:17.681Z"
      },
      {
        "duration": 535,
        "start_time": "2025-06-12T09:25:26.497Z"
      },
      {
        "duration": 601,
        "start_time": "2025-06-12T09:25:40.532Z"
      },
      {
        "duration": 594,
        "start_time": "2025-06-12T09:26:05.236Z"
      },
      {
        "duration": 729,
        "start_time": "2025-06-12T09:27:55.231Z"
      },
      {
        "duration": 601,
        "start_time": "2025-06-12T09:27:57.018Z"
      },
      {
        "duration": 73,
        "start_time": "2025-06-12T09:58:02.082Z"
      },
      {
        "duration": 23,
        "start_time": "2025-06-12T10:12:34.897Z"
      },
      {
        "duration": 6973,
        "start_time": "2025-06-12T10:23:23.111Z"
      },
      {
        "duration": 4,
        "start_time": "2025-06-12T10:23:30.086Z"
      },
      {
        "duration": 1166,
        "start_time": "2025-06-12T10:23:30.092Z"
      },
      {
        "duration": 4,
        "start_time": "2025-06-12T10:23:31.261Z"
      },
      {
        "duration": 955,
        "start_time": "2025-06-12T10:23:31.267Z"
      },
      {
        "duration": 39,
        "start_time": "2025-06-12T10:23:32.224Z"
      },
      {
        "duration": 5,
        "start_time": "2025-06-12T10:23:32.265Z"
      },
      {
        "duration": 3,
        "start_time": "2025-06-12T10:23:32.272Z"
      },
      {
        "duration": 362,
        "start_time": "2025-06-12T10:23:32.277Z"
      },
      {
        "duration": 655,
        "start_time": "2025-06-12T10:23:32.641Z"
      },
      {
        "duration": 21,
        "start_time": "2025-06-12T10:23:33.298Z"
      },
      {
        "duration": 83,
        "start_time": "2025-06-12T10:23:33.321Z"
      },
      {
        "duration": 18,
        "start_time": "2025-06-12T10:23:33.406Z"
      },
      {
        "duration": 115,
        "start_time": "2025-06-12T10:23:33.426Z"
      },
      {
        "duration": 6,
        "start_time": "2025-06-12T10:23:33.542Z"
      },
      {
        "duration": 32,
        "start_time": "2025-06-12T10:23:33.550Z"
      },
      {
        "duration": 4,
        "start_time": "2025-06-12T10:23:33.584Z"
      },
      {
        "duration": 18,
        "start_time": "2025-06-12T10:23:33.590Z"
      },
      {
        "duration": 99,
        "start_time": "2025-06-12T10:23:33.610Z"
      },
      {
        "duration": 31,
        "start_time": "2025-06-12T10:23:33.711Z"
      },
      {
        "duration": 64,
        "start_time": "2025-06-12T10:23:33.743Z"
      },
      {
        "duration": 23,
        "start_time": "2025-06-12T10:23:33.809Z"
      },
      {
        "duration": 38,
        "start_time": "2025-06-12T10:23:33.833Z"
      },
      {
        "duration": 23,
        "start_time": "2025-06-12T10:23:33.873Z"
      },
      {
        "duration": 10,
        "start_time": "2025-06-12T10:23:33.898Z"
      },
      {
        "duration": 35,
        "start_time": "2025-06-12T10:23:33.909Z"
      },
      {
        "duration": 22,
        "start_time": "2025-06-12T10:23:33.946Z"
      },
      {
        "duration": 37,
        "start_time": "2025-06-12T10:23:33.973Z"
      },
      {
        "duration": 49,
        "start_time": "2025-06-12T10:23:34.012Z"
      },
      {
        "duration": 32,
        "start_time": "2025-06-12T10:23:34.063Z"
      },
      {
        "duration": 38,
        "start_time": "2025-06-12T10:23:34.097Z"
      },
      {
        "duration": 107,
        "start_time": "2025-06-12T10:23:34.136Z"
      },
      {
        "duration": 37,
        "start_time": "2025-06-12T10:23:34.245Z"
      },
      {
        "duration": 33,
        "start_time": "2025-06-12T10:23:34.283Z"
      },
      {
        "duration": 320,
        "start_time": "2025-06-12T10:23:34.317Z"
      },
      {
        "duration": 6,
        "start_time": "2025-06-12T10:23:34.639Z"
      },
      {
        "duration": 35,
        "start_time": "2025-06-12T10:23:34.646Z"
      },
      {
        "duration": 3,
        "start_time": "2025-06-12T10:23:34.682Z"
      },
      {
        "duration": 9,
        "start_time": "2025-06-12T10:23:34.686Z"
      },
      {
        "duration": 31,
        "start_time": "2025-06-12T10:23:34.697Z"
      },
      {
        "duration": 29,
        "start_time": "2025-06-12T10:23:34.730Z"
      },
      {
        "duration": 26,
        "start_time": "2025-06-12T10:23:34.760Z"
      },
      {
        "duration": 21,
        "start_time": "2025-06-12T10:23:34.788Z"
      },
      {
        "duration": 3,
        "start_time": "2025-06-12T10:23:34.810Z"
      },
      {
        "duration": 45,
        "start_time": "2025-06-12T10:23:34.814Z"
      },
      {
        "duration": 2,
        "start_time": "2025-06-12T10:23:34.861Z"
      },
      {
        "duration": 31,
        "start_time": "2025-06-12T10:23:34.865Z"
      },
      {
        "duration": 27,
        "start_time": "2025-06-12T10:23:34.897Z"
      },
      {
        "duration": 2,
        "start_time": "2025-06-12T10:23:34.926Z"
      },
      {
        "duration": 46,
        "start_time": "2025-06-12T10:23:34.929Z"
      },
      {
        "duration": 5,
        "start_time": "2025-06-12T10:23:34.976Z"
      },
      {
        "duration": 5,
        "start_time": "2025-06-12T10:23:34.982Z"
      },
      {
        "duration": 3,
        "start_time": "2025-06-12T10:23:34.989Z"
      },
      {
        "duration": 5,
        "start_time": "2025-06-12T10:23:34.993Z"
      },
      {
        "duration": 4,
        "start_time": "2025-06-12T10:23:34.999Z"
      },
      {
        "duration": 5,
        "start_time": "2025-06-12T10:23:35.004Z"
      },
      {
        "duration": 37,
        "start_time": "2025-06-12T10:23:35.010Z"
      },
      {
        "duration": 11,
        "start_time": "2025-06-12T10:23:35.048Z"
      },
      {
        "duration": 38,
        "start_time": "2025-06-12T10:23:35.060Z"
      },
      {
        "duration": 43,
        "start_time": "2025-06-12T10:23:35.100Z"
      },
      {
        "duration": 14,
        "start_time": "2025-06-12T10:23:35.144Z"
      },
      {
        "duration": 87,
        "start_time": "2025-06-12T10:23:35.160Z"
      },
      {
        "duration": 5553,
        "start_time": "2025-06-12T10:23:35.249Z"
      },
      {
        "duration": 9,
        "start_time": "2025-06-12T10:23:40.803Z"
      },
      {
        "duration": 8,
        "start_time": "2025-06-12T10:23:40.814Z"
      },
      {
        "duration": 59,
        "start_time": "2025-06-12T10:23:40.823Z"
      },
      {
        "duration": 22,
        "start_time": "2025-06-12T10:23:40.883Z"
      },
      {
        "duration": 52,
        "start_time": "2025-06-12T10:23:40.906Z"
      },
      {
        "duration": 3,
        "start_time": "2025-06-12T10:23:40.960Z"
      },
      {
        "duration": 20,
        "start_time": "2025-06-12T10:23:40.965Z"
      },
      {
        "duration": 16,
        "start_time": "2025-06-12T10:23:40.986Z"
      },
      {
        "duration": 8,
        "start_time": "2025-06-12T10:23:41.003Z"
      },
      {
        "duration": 9,
        "start_time": "2025-06-12T10:23:41.013Z"
      },
      {
        "duration": 7,
        "start_time": "2025-06-12T10:23:41.024Z"
      },
      {
        "duration": 4,
        "start_time": "2025-06-12T10:23:41.033Z"
      },
      {
        "duration": 3,
        "start_time": "2025-06-12T10:23:41.039Z"
      },
      {
        "duration": 29923,
        "start_time": "2025-06-12T10:23:41.043Z"
      },
      {
        "duration": 157862,
        "start_time": "2025-06-12T10:24:11.057Z"
      },
      {
        "duration": 6672,
        "start_time": "2025-06-12T11:02:32.514Z"
      },
      {
        "duration": 3,
        "start_time": "2025-06-12T11:02:39.188Z"
      },
      {
        "duration": 1065,
        "start_time": "2025-06-12T11:02:39.193Z"
      },
      {
        "duration": 4,
        "start_time": "2025-06-12T11:02:40.260Z"
      },
      {
        "duration": 841,
        "start_time": "2025-06-12T11:02:40.266Z"
      },
      {
        "duration": 38,
        "start_time": "2025-06-12T11:02:41.108Z"
      },
      {
        "duration": 27,
        "start_time": "2025-06-12T11:02:41.147Z"
      },
      {
        "duration": 5,
        "start_time": "2025-06-12T11:02:41.176Z"
      },
      {
        "duration": 333,
        "start_time": "2025-06-12T11:02:41.182Z"
      },
      {
        "duration": 643,
        "start_time": "2025-06-12T11:02:41.518Z"
      },
      {
        "duration": 21,
        "start_time": "2025-06-12T11:02:42.163Z"
      },
      {
        "duration": 41,
        "start_time": "2025-06-12T11:02:42.186Z"
      },
      {
        "duration": 35,
        "start_time": "2025-06-12T11:02:42.229Z"
      },
      {
        "duration": 8,
        "start_time": "2025-06-12T11:02:42.265Z"
      },
      {
        "duration": 5,
        "start_time": "2025-06-12T11:02:42.274Z"
      },
      {
        "duration": 34,
        "start_time": "2025-06-12T11:02:42.280Z"
      },
      {
        "duration": 3,
        "start_time": "2025-06-12T11:02:42.316Z"
      },
      {
        "duration": 37,
        "start_time": "2025-06-12T11:02:42.321Z"
      },
      {
        "duration": 6,
        "start_time": "2025-06-12T11:02:42.359Z"
      },
      {
        "duration": 21,
        "start_time": "2025-06-12T11:02:42.366Z"
      },
      {
        "duration": 38,
        "start_time": "2025-06-12T11:02:42.388Z"
      },
      {
        "duration": 43,
        "start_time": "2025-06-12T11:02:42.428Z"
      },
      {
        "duration": 20,
        "start_time": "2025-06-12T11:02:42.473Z"
      },
      {
        "duration": 21,
        "start_time": "2025-06-12T11:02:42.494Z"
      },
      {
        "duration": 5,
        "start_time": "2025-06-12T11:02:42.517Z"
      },
      {
        "duration": 19,
        "start_time": "2025-06-12T11:02:42.524Z"
      },
      {
        "duration": 21,
        "start_time": "2025-06-12T11:02:42.557Z"
      },
      {
        "duration": 32,
        "start_time": "2025-06-12T11:02:42.582Z"
      },
      {
        "duration": 53,
        "start_time": "2025-06-12T11:02:42.615Z"
      },
      {
        "duration": 20,
        "start_time": "2025-06-12T11:02:42.670Z"
      },
      {
        "duration": 43,
        "start_time": "2025-06-12T11:02:42.692Z"
      },
      {
        "duration": 26,
        "start_time": "2025-06-12T11:02:42.736Z"
      },
      {
        "duration": 39,
        "start_time": "2025-06-12T11:02:42.764Z"
      },
      {
        "duration": 20,
        "start_time": "2025-06-12T11:02:42.804Z"
      },
      {
        "duration": 174,
        "start_time": "2025-06-12T11:02:42.825Z"
      },
      {
        "duration": 10,
        "start_time": "2025-06-12T11:02:43.001Z"
      },
      {
        "duration": 37,
        "start_time": "2025-06-12T11:02:43.012Z"
      },
      {
        "duration": 2,
        "start_time": "2025-06-12T11:02:43.058Z"
      },
      {
        "duration": 6,
        "start_time": "2025-06-12T11:02:43.061Z"
      },
      {
        "duration": 5,
        "start_time": "2025-06-12T11:02:43.068Z"
      },
      {
        "duration": 17,
        "start_time": "2025-06-12T11:02:43.075Z"
      },
      {
        "duration": 28,
        "start_time": "2025-06-12T11:02:43.093Z"
      },
      {
        "duration": 46,
        "start_time": "2025-06-12T11:02:43.123Z"
      },
      {
        "duration": 2,
        "start_time": "2025-06-12T11:02:43.171Z"
      },
      {
        "duration": 29,
        "start_time": "2025-06-12T11:02:43.175Z"
      },
      {
        "duration": 2,
        "start_time": "2025-06-12T11:02:43.206Z"
      },
      {
        "duration": 19,
        "start_time": "2025-06-12T11:02:43.210Z"
      },
      {
        "duration": 49,
        "start_time": "2025-06-12T11:02:43.230Z"
      },
      {
        "duration": 3,
        "start_time": "2025-06-12T11:02:43.280Z"
      },
      {
        "duration": 72,
        "start_time": "2025-06-12T11:02:43.284Z"
      },
      {
        "duration": 5,
        "start_time": "2025-06-12T11:02:43.357Z"
      },
      {
        "duration": 5,
        "start_time": "2025-06-12T11:02:43.363Z"
      },
      {
        "duration": 6,
        "start_time": "2025-06-12T11:02:43.369Z"
      },
      {
        "duration": 6,
        "start_time": "2025-06-12T11:02:43.376Z"
      },
      {
        "duration": 5,
        "start_time": "2025-06-12T11:02:43.383Z"
      },
      {
        "duration": 6,
        "start_time": "2025-06-12T11:02:43.389Z"
      },
      {
        "duration": 7,
        "start_time": "2025-06-12T11:02:43.396Z"
      },
      {
        "duration": 5,
        "start_time": "2025-06-12T11:02:43.404Z"
      },
      {
        "duration": 4,
        "start_time": "2025-06-12T11:02:43.410Z"
      },
      {
        "duration": 4,
        "start_time": "2025-06-12T11:02:43.415Z"
      },
      {
        "duration": 6,
        "start_time": "2025-06-12T11:02:43.420Z"
      },
      {
        "duration": 6,
        "start_time": "2025-06-12T11:02:43.427Z"
      },
      {
        "duration": 5200,
        "start_time": "2025-06-12T11:02:43.459Z"
      },
      {
        "duration": 9,
        "start_time": "2025-06-12T11:02:48.660Z"
      },
      {
        "duration": 9,
        "start_time": "2025-06-12T11:02:48.670Z"
      },
      {
        "duration": 38,
        "start_time": "2025-06-12T11:02:48.680Z"
      },
      {
        "duration": 52,
        "start_time": "2025-06-12T11:02:48.719Z"
      },
      {
        "duration": 33,
        "start_time": "2025-06-12T11:02:48.773Z"
      },
      {
        "duration": 3,
        "start_time": "2025-06-12T11:02:48.808Z"
      },
      {
        "duration": 7,
        "start_time": "2025-06-12T11:02:48.812Z"
      },
      {
        "duration": 6,
        "start_time": "2025-06-12T11:02:48.820Z"
      },
      {
        "duration": 6,
        "start_time": "2025-06-12T11:02:48.827Z"
      },
      {
        "duration": 25,
        "start_time": "2025-06-12T11:02:48.835Z"
      },
      {
        "duration": 3,
        "start_time": "2025-06-12T11:02:48.862Z"
      },
      {
        "duration": 4,
        "start_time": "2025-06-12T11:02:48.867Z"
      },
      {
        "duration": 5,
        "start_time": "2025-06-12T11:02:48.872Z"
      },
      {
        "duration": 25082,
        "start_time": "2025-06-12T11:02:48.878Z"
      },
      {
        "duration": 155831,
        "start_time": "2025-06-12T11:03:13.964Z"
      },
      {
        "duration": 310662,
        "start_time": "2025-06-12T11:05:49.797Z"
      },
      {
        "duration": 10,
        "start_time": "2025-06-12T11:11:00.461Z"
      },
      {
        "duration": 577,
        "start_time": "2025-06-12T11:11:00.472Z"
      },
      {
        "duration": 62,
        "start_time": "2025-06-12T19:10:47.487Z"
      },
      {
        "duration": 7,
        "start_time": "2025-06-12T19:10:53.951Z"
      },
      {
        "duration": 12958,
        "start_time": "2025-06-12T19:11:06.670Z"
      },
      {
        "duration": 4,
        "start_time": "2025-06-12T19:11:19.630Z"
      },
      {
        "duration": 1191,
        "start_time": "2025-06-12T19:11:19.636Z"
      },
      {
        "duration": 4,
        "start_time": "2025-06-12T19:11:20.829Z"
      },
      {
        "duration": 1272,
        "start_time": "2025-06-12T19:11:20.834Z"
      },
      {
        "duration": 38,
        "start_time": "2025-06-12T19:11:22.108Z"
      },
      {
        "duration": 9,
        "start_time": "2025-06-12T19:11:22.147Z"
      },
      {
        "duration": 6,
        "start_time": "2025-06-12T19:11:22.157Z"
      },
      {
        "duration": 382,
        "start_time": "2025-06-12T19:11:22.164Z"
      },
      {
        "duration": 662,
        "start_time": "2025-06-12T19:11:22.549Z"
      },
      {
        "duration": 23,
        "start_time": "2025-06-12T19:11:23.213Z"
      },
      {
        "duration": 104,
        "start_time": "2025-06-12T19:11:23.237Z"
      },
      {
        "duration": 31,
        "start_time": "2025-06-12T19:11:23.343Z"
      },
      {
        "duration": 30,
        "start_time": "2025-06-12T19:11:23.375Z"
      },
      {
        "duration": 19,
        "start_time": "2025-06-12T19:11:23.407Z"
      },
      {
        "duration": 39,
        "start_time": "2025-06-12T19:11:23.428Z"
      },
      {
        "duration": 4,
        "start_time": "2025-06-12T19:11:23.468Z"
      },
      {
        "duration": 15,
        "start_time": "2025-06-12T19:11:23.473Z"
      },
      {
        "duration": 7,
        "start_time": "2025-06-12T19:11:23.495Z"
      },
      {
        "duration": 23,
        "start_time": "2025-06-12T19:11:23.504Z"
      },
      {
        "duration": 39,
        "start_time": "2025-06-12T19:11:23.528Z"
      },
      {
        "duration": 35,
        "start_time": "2025-06-12T19:11:23.569Z"
      },
      {
        "duration": 48,
        "start_time": "2025-06-12T19:11:23.606Z"
      },
      {
        "duration": 31,
        "start_time": "2025-06-12T19:11:23.656Z"
      },
      {
        "duration": 21,
        "start_time": "2025-06-12T19:11:23.688Z"
      },
      {
        "duration": 138,
        "start_time": "2025-06-12T19:11:23.712Z"
      },
      {
        "duration": 60,
        "start_time": "2025-06-12T19:11:23.852Z"
      },
      {
        "duration": 55,
        "start_time": "2025-06-12T19:11:23.917Z"
      },
      {
        "duration": 47,
        "start_time": "2025-06-12T19:11:23.974Z"
      },
      {
        "duration": 20,
        "start_time": "2025-06-12T19:11:24.022Z"
      },
      {
        "duration": 46,
        "start_time": "2025-06-12T19:11:24.043Z"
      },
      {
        "duration": 26,
        "start_time": "2025-06-12T19:11:24.091Z"
      },
      {
        "duration": 90,
        "start_time": "2025-06-12T19:11:24.118Z"
      },
      {
        "duration": 18,
        "start_time": "2025-06-12T19:11:24.209Z"
      },
      {
        "duration": 181,
        "start_time": "2025-06-12T19:11:24.229Z"
      },
      {
        "duration": 8,
        "start_time": "2025-06-12T19:11:24.412Z"
      },
      {
        "duration": 27,
        "start_time": "2025-06-12T19:11:24.422Z"
      },
      {
        "duration": 3,
        "start_time": "2025-06-12T19:11:24.451Z"
      },
      {
        "duration": 28,
        "start_time": "2025-06-12T19:11:24.456Z"
      },
      {
        "duration": 16,
        "start_time": "2025-06-12T19:11:24.491Z"
      },
      {
        "duration": 26,
        "start_time": "2025-06-12T19:11:24.508Z"
      },
      {
        "duration": 26,
        "start_time": "2025-06-12T19:11:24.536Z"
      },
      {
        "duration": 30,
        "start_time": "2025-06-12T19:11:24.564Z"
      },
      {
        "duration": 89,
        "start_time": "2025-06-12T19:11:24.596Z"
      },
      {
        "duration": 32,
        "start_time": "2025-06-12T19:11:24.690Z"
      },
      {
        "duration": 4,
        "start_time": "2025-06-12T19:11:24.723Z"
      },
      {
        "duration": 33,
        "start_time": "2025-06-12T19:11:24.729Z"
      },
      {
        "duration": 32,
        "start_time": "2025-06-12T19:11:24.764Z"
      },
      {
        "duration": 2,
        "start_time": "2025-06-12T19:11:24.798Z"
      },
      {
        "duration": 30,
        "start_time": "2025-06-12T19:11:24.801Z"
      },
      {
        "duration": 69,
        "start_time": "2025-06-12T19:11:24.833Z"
      },
      {
        "duration": 133,
        "start_time": "2025-06-12T19:11:24.903Z"
      },
      {
        "duration": 8,
        "start_time": "2025-06-12T19:11:25.037Z"
      },
      {
        "duration": 30,
        "start_time": "2025-06-12T19:11:25.046Z"
      },
      {
        "duration": 11,
        "start_time": "2025-06-12T19:11:25.078Z"
      },
      {
        "duration": 16,
        "start_time": "2025-06-12T19:11:25.092Z"
      },
      {
        "duration": 22,
        "start_time": "2025-06-12T19:11:25.110Z"
      },
      {
        "duration": 16,
        "start_time": "2025-06-12T19:11:25.134Z"
      },
      {
        "duration": 9,
        "start_time": "2025-06-12T19:11:25.152Z"
      },
      {
        "duration": 4,
        "start_time": "2025-06-12T19:11:25.163Z"
      },
      {
        "duration": 8,
        "start_time": "2025-06-12T19:11:25.169Z"
      },
      {
        "duration": 14,
        "start_time": "2025-06-12T19:11:25.188Z"
      },
      {
        "duration": 5689,
        "start_time": "2025-06-12T19:11:25.204Z"
      },
      {
        "duration": 10,
        "start_time": "2025-06-12T19:11:30.895Z"
      },
      {
        "duration": 120,
        "start_time": "2025-06-12T19:11:30.907Z"
      },
      {
        "duration": 69,
        "start_time": "2025-06-12T19:11:31.028Z"
      },
      {
        "duration": 23,
        "start_time": "2025-06-12T19:11:31.099Z"
      },
      {
        "duration": 108,
        "start_time": "2025-06-12T19:11:31.124Z"
      },
      {
        "duration": 0,
        "start_time": "2025-06-12T19:11:31.234Z"
      },
      {
        "duration": 0,
        "start_time": "2025-06-12T19:11:31.236Z"
      },
      {
        "duration": 0,
        "start_time": "2025-06-12T19:11:31.237Z"
      },
      {
        "duration": 0,
        "start_time": "2025-06-12T19:11:31.238Z"
      },
      {
        "duration": 0,
        "start_time": "2025-06-12T19:11:31.240Z"
      },
      {
        "duration": 0,
        "start_time": "2025-06-12T19:11:31.241Z"
      },
      {
        "duration": 0,
        "start_time": "2025-06-12T19:11:31.242Z"
      },
      {
        "duration": 0,
        "start_time": "2025-06-12T19:11:31.242Z"
      },
      {
        "duration": 0,
        "start_time": "2025-06-12T19:11:31.244Z"
      },
      {
        "duration": 50,
        "start_time": "2025-06-12T19:11:54.085Z"
      },
      {
        "duration": 47,
        "start_time": "2025-06-12T19:11:58.109Z"
      },
      {
        "duration": 4,
        "start_time": "2025-06-12T19:12:19.935Z"
      },
      {
        "duration": 4,
        "start_time": "2025-06-12T19:12:46.854Z"
      },
      {
        "duration": 59,
        "start_time": "2025-06-12T19:13:58.462Z"
      },
      {
        "duration": 4,
        "start_time": "2025-06-12T19:13:59.821Z"
      },
      {
        "duration": 7283,
        "start_time": "2025-06-12T20:00:52.488Z"
      },
      {
        "duration": 4,
        "start_time": "2025-06-12T20:00:59.773Z"
      },
      {
        "duration": 1180,
        "start_time": "2025-06-12T20:00:59.778Z"
      },
      {
        "duration": 5,
        "start_time": "2025-06-12T20:01:00.960Z"
      },
      {
        "duration": 975,
        "start_time": "2025-06-12T20:01:00.978Z"
      },
      {
        "duration": 47,
        "start_time": "2025-06-12T20:01:01.954Z"
      },
      {
        "duration": 11,
        "start_time": "2025-06-12T20:01:02.004Z"
      },
      {
        "duration": 64,
        "start_time": "2025-06-12T20:01:02.017Z"
      },
      {
        "duration": 374,
        "start_time": "2025-06-12T20:01:02.089Z"
      },
      {
        "duration": 687,
        "start_time": "2025-06-12T20:01:02.466Z"
      },
      {
        "duration": 33,
        "start_time": "2025-06-12T20:01:03.155Z"
      },
      {
        "duration": 53,
        "start_time": "2025-06-12T20:01:03.192Z"
      },
      {
        "duration": 27,
        "start_time": "2025-06-12T20:01:03.247Z"
      },
      {
        "duration": 16,
        "start_time": "2025-06-12T20:01:03.278Z"
      },
      {
        "duration": 7,
        "start_time": "2025-06-12T20:01:03.296Z"
      },
      {
        "duration": 114,
        "start_time": "2025-06-12T20:01:03.305Z"
      },
      {
        "duration": 4,
        "start_time": "2025-06-12T20:01:03.420Z"
      },
      {
        "duration": 21,
        "start_time": "2025-06-12T20:01:03.426Z"
      },
      {
        "duration": 20,
        "start_time": "2025-06-12T20:01:03.449Z"
      },
      {
        "duration": 33,
        "start_time": "2025-06-12T20:01:03.470Z"
      },
      {
        "duration": 44,
        "start_time": "2025-06-12T20:01:03.504Z"
      },
      {
        "duration": 37,
        "start_time": "2025-06-12T20:01:03.549Z"
      },
      {
        "duration": 23,
        "start_time": "2025-06-12T20:01:03.588Z"
      },
      {
        "duration": 71,
        "start_time": "2025-06-12T20:01:03.613Z"
      },
      {
        "duration": 25,
        "start_time": "2025-06-12T20:01:03.686Z"
      },
      {
        "duration": 59,
        "start_time": "2025-06-12T20:01:03.713Z"
      },
      {
        "duration": 39,
        "start_time": "2025-06-12T20:01:03.774Z"
      },
      {
        "duration": 84,
        "start_time": "2025-06-12T20:01:03.820Z"
      },
      {
        "duration": 121,
        "start_time": "2025-06-12T20:01:03.906Z"
      },
      {
        "duration": 45,
        "start_time": "2025-06-12T20:01:04.029Z"
      },
      {
        "duration": 38,
        "start_time": "2025-06-12T20:01:04.076Z"
      },
      {
        "duration": 97,
        "start_time": "2025-06-12T20:01:04.117Z"
      },
      {
        "duration": 104,
        "start_time": "2025-06-12T20:01:04.216Z"
      },
      {
        "duration": 38,
        "start_time": "2025-06-12T20:01:04.322Z"
      },
      {
        "duration": 185,
        "start_time": "2025-06-12T20:01:04.363Z"
      },
      {
        "duration": 7,
        "start_time": "2025-06-12T20:01:04.550Z"
      },
      {
        "duration": 47,
        "start_time": "2025-06-12T20:01:04.559Z"
      },
      {
        "duration": 40,
        "start_time": "2025-06-12T20:01:04.607Z"
      },
      {
        "duration": 42,
        "start_time": "2025-06-12T20:01:04.649Z"
      },
      {
        "duration": 9,
        "start_time": "2025-06-12T20:01:04.693Z"
      },
      {
        "duration": 24,
        "start_time": "2025-06-12T20:01:04.704Z"
      },
      {
        "duration": 56,
        "start_time": "2025-06-12T20:01:04.730Z"
      },
      {
        "duration": 23,
        "start_time": "2025-06-12T20:01:04.788Z"
      },
      {
        "duration": 122,
        "start_time": "2025-06-12T20:01:04.813Z"
      },
      {
        "duration": 59,
        "start_time": "2025-06-12T20:01:04.937Z"
      },
      {
        "duration": 5,
        "start_time": "2025-06-12T20:01:04.998Z"
      },
      {
        "duration": 201,
        "start_time": "2025-06-12T20:01:05.005Z"
      },
      {
        "duration": 29,
        "start_time": "2025-06-12T20:01:05.208Z"
      },
      {
        "duration": 3,
        "start_time": "2025-06-12T20:01:05.239Z"
      },
      {
        "duration": 67,
        "start_time": "2025-06-12T20:01:05.244Z"
      },
      {
        "duration": 90,
        "start_time": "2025-06-12T20:01:05.313Z"
      },
      {
        "duration": 16,
        "start_time": "2025-06-12T20:01:05.404Z"
      },
      {
        "duration": 28,
        "start_time": "2025-06-12T20:01:05.422Z"
      },
      {
        "duration": 51,
        "start_time": "2025-06-12T20:01:05.452Z"
      },
      {
        "duration": 18,
        "start_time": "2025-06-12T20:01:05.505Z"
      },
      {
        "duration": 79,
        "start_time": "2025-06-12T20:01:05.524Z"
      },
      {
        "duration": 224,
        "start_time": "2025-06-12T20:01:05.605Z"
      },
      {
        "duration": 154,
        "start_time": "2025-06-12T20:01:05.831Z"
      },
      {
        "duration": 6,
        "start_time": "2025-06-12T20:01:05.987Z"
      },
      {
        "duration": 9,
        "start_time": "2025-06-12T20:01:05.995Z"
      },
      {
        "duration": 4,
        "start_time": "2025-06-12T20:01:06.005Z"
      },
      {
        "duration": 6,
        "start_time": "2025-06-12T20:01:06.011Z"
      },
      {
        "duration": 5866,
        "start_time": "2025-06-12T20:01:06.019Z"
      },
      {
        "duration": 12,
        "start_time": "2025-06-12T20:01:11.890Z"
      },
      {
        "duration": 118,
        "start_time": "2025-06-12T20:01:11.903Z"
      },
      {
        "duration": 70,
        "start_time": "2025-06-12T20:01:12.023Z"
      },
      {
        "duration": 51,
        "start_time": "2025-06-12T20:01:12.097Z"
      },
      {
        "duration": 53,
        "start_time": "2025-06-12T20:01:12.150Z"
      },
      {
        "duration": 4,
        "start_time": "2025-06-12T20:01:12.205Z"
      },
      {
        "duration": 7,
        "start_time": "2025-06-12T20:01:12.211Z"
      },
      {
        "duration": 8,
        "start_time": "2025-06-12T20:01:12.219Z"
      },
      {
        "duration": 8,
        "start_time": "2025-06-12T20:01:12.228Z"
      },
      {
        "duration": 36754,
        "start_time": "2025-06-12T20:01:12.238Z"
      },
      {
        "duration": 127627,
        "start_time": "2025-06-12T20:01:48.993Z"
      },
      {
        "duration": 7207,
        "start_time": "2025-06-12T20:22:47.719Z"
      },
      {
        "duration": 3,
        "start_time": "2025-06-12T20:22:54.928Z"
      },
      {
        "duration": 1198,
        "start_time": "2025-06-12T20:22:54.933Z"
      },
      {
        "duration": 5,
        "start_time": "2025-06-12T20:22:56.133Z"
      },
      {
        "duration": 919,
        "start_time": "2025-06-12T20:22:56.139Z"
      },
      {
        "duration": 44,
        "start_time": "2025-06-12T20:22:57.060Z"
      },
      {
        "duration": 7,
        "start_time": "2025-06-12T20:22:57.106Z"
      },
      {
        "duration": 8,
        "start_time": "2025-06-12T20:22:57.115Z"
      },
      {
        "duration": 376,
        "start_time": "2025-06-12T20:22:57.124Z"
      },
      {
        "duration": 669,
        "start_time": "2025-06-12T20:22:57.502Z"
      },
      {
        "duration": 31,
        "start_time": "2025-06-12T20:22:58.176Z"
      },
      {
        "duration": 56,
        "start_time": "2025-06-12T20:22:58.209Z"
      },
      {
        "duration": 31,
        "start_time": "2025-06-12T20:22:58.267Z"
      },
      {
        "duration": 11,
        "start_time": "2025-06-12T20:22:58.300Z"
      },
      {
        "duration": 15,
        "start_time": "2025-06-12T20:22:58.313Z"
      },
      {
        "duration": 39,
        "start_time": "2025-06-12T20:22:58.330Z"
      },
      {
        "duration": 15,
        "start_time": "2025-06-12T20:22:58.370Z"
      },
      {
        "duration": 21,
        "start_time": "2025-06-12T20:22:58.386Z"
      },
      {
        "duration": 11,
        "start_time": "2025-06-12T20:22:58.408Z"
      },
      {
        "duration": 23,
        "start_time": "2025-06-12T20:22:58.421Z"
      },
      {
        "duration": 65,
        "start_time": "2025-06-12T20:22:58.446Z"
      },
      {
        "duration": 21,
        "start_time": "2025-06-12T20:22:58.513Z"
      },
      {
        "duration": 28,
        "start_time": "2025-06-12T20:22:58.536Z"
      },
      {
        "duration": 32,
        "start_time": "2025-06-12T20:22:58.566Z"
      },
      {
        "duration": 9,
        "start_time": "2025-06-12T20:22:58.600Z"
      },
      {
        "duration": 7,
        "start_time": "2025-06-12T20:22:58.611Z"
      },
      {
        "duration": 21,
        "start_time": "2025-06-12T20:22:58.620Z"
      },
      {
        "duration": 47,
        "start_time": "2025-06-12T20:22:58.646Z"
      },
      {
        "duration": 40,
        "start_time": "2025-06-12T20:22:58.695Z"
      },
      {
        "duration": 19,
        "start_time": "2025-06-12T20:22:58.737Z"
      },
      {
        "duration": 53,
        "start_time": "2025-06-12T20:22:58.758Z"
      },
      {
        "duration": 36,
        "start_time": "2025-06-12T20:22:58.812Z"
      },
      {
        "duration": 140,
        "start_time": "2025-06-12T20:22:58.849Z"
      },
      {
        "duration": 94,
        "start_time": "2025-06-12T20:22:58.991Z"
      },
      {
        "duration": 157,
        "start_time": "2025-06-12T20:22:59.089Z"
      },
      {
        "duration": 10,
        "start_time": "2025-06-12T20:22:59.248Z"
      },
      {
        "duration": 37,
        "start_time": "2025-06-12T20:22:59.260Z"
      },
      {
        "duration": 3,
        "start_time": "2025-06-12T20:22:59.299Z"
      },
      {
        "duration": 8,
        "start_time": "2025-06-12T20:22:59.304Z"
      },
      {
        "duration": 7,
        "start_time": "2025-06-12T20:22:59.313Z"
      },
      {
        "duration": 17,
        "start_time": "2025-06-12T20:22:59.321Z"
      },
      {
        "duration": 52,
        "start_time": "2025-06-12T20:22:59.340Z"
      },
      {
        "duration": 41,
        "start_time": "2025-06-12T20:22:59.394Z"
      },
      {
        "duration": 15,
        "start_time": "2025-06-12T20:22:59.437Z"
      },
      {
        "duration": 26,
        "start_time": "2025-06-12T20:22:59.454Z"
      },
      {
        "duration": 3,
        "start_time": "2025-06-12T20:22:59.482Z"
      },
      {
        "duration": 23,
        "start_time": "2025-06-12T20:22:59.487Z"
      },
      {
        "duration": 29,
        "start_time": "2025-06-12T20:22:59.512Z"
      },
      {
        "duration": 3,
        "start_time": "2025-06-12T20:22:59.542Z"
      },
      {
        "duration": 41,
        "start_time": "2025-06-12T20:22:59.546Z"
      },
      {
        "duration": 5,
        "start_time": "2025-06-12T20:22:59.589Z"
      },
      {
        "duration": 18,
        "start_time": "2025-06-12T20:22:59.596Z"
      },
      {
        "duration": 11,
        "start_time": "2025-06-12T20:22:59.615Z"
      },
      {
        "duration": 23,
        "start_time": "2025-06-12T20:22:59.628Z"
      },
      {
        "duration": 7,
        "start_time": "2025-06-12T20:22:59.653Z"
      },
      {
        "duration": 32,
        "start_time": "2025-06-12T20:22:59.662Z"
      },
      {
        "duration": 8,
        "start_time": "2025-06-12T20:22:59.697Z"
      },
      {
        "duration": 20,
        "start_time": "2025-06-12T20:22:59.707Z"
      },
      {
        "duration": 8,
        "start_time": "2025-06-12T20:22:59.729Z"
      },
      {
        "duration": 16,
        "start_time": "2025-06-12T20:22:59.738Z"
      },
      {
        "duration": 25,
        "start_time": "2025-06-12T20:22:59.756Z"
      },
      {
        "duration": 19,
        "start_time": "2025-06-12T20:22:59.783Z"
      },
      {
        "duration": 5713,
        "start_time": "2025-06-12T20:22:59.804Z"
      },
      {
        "duration": 9,
        "start_time": "2025-06-12T20:23:05.519Z"
      },
      {
        "duration": 38,
        "start_time": "2025-06-12T20:23:05.530Z"
      },
      {
        "duration": 76,
        "start_time": "2025-06-12T20:23:05.570Z"
      },
      {
        "duration": 21,
        "start_time": "2025-06-12T20:23:05.648Z"
      },
      {
        "duration": 197,
        "start_time": "2025-06-12T20:23:05.671Z"
      },
      {
        "duration": 5,
        "start_time": "2025-06-12T20:23:05.870Z"
      },
      {
        "duration": 25,
        "start_time": "2025-06-12T20:23:05.878Z"
      },
      {
        "duration": 16,
        "start_time": "2025-06-12T20:23:05.905Z"
      },
      {
        "duration": 68,
        "start_time": "2025-06-12T20:23:05.923Z"
      },
      {
        "duration": 33194,
        "start_time": "2025-06-12T20:23:05.993Z"
      },
      {
        "duration": 123667,
        "start_time": "2025-06-12T20:23:39.190Z"
      },
      {
        "duration": 9208,
        "start_time": "2025-06-12T21:00:53.944Z"
      },
      {
        "duration": 3,
        "start_time": "2025-06-12T21:01:03.154Z"
      },
      {
        "duration": 1360,
        "start_time": "2025-06-12T21:01:03.158Z"
      },
      {
        "duration": 4,
        "start_time": "2025-06-12T21:01:04.520Z"
      },
      {
        "duration": 944,
        "start_time": "2025-06-12T21:01:04.525Z"
      },
      {
        "duration": 45,
        "start_time": "2025-06-12T21:01:05.470Z"
      },
      {
        "duration": 76,
        "start_time": "2025-06-12T21:01:05.517Z"
      },
      {
        "duration": 56,
        "start_time": "2025-06-12T21:01:05.595Z"
      },
      {
        "duration": 449,
        "start_time": "2025-06-12T21:01:05.652Z"
      },
      {
        "duration": 742,
        "start_time": "2025-06-12T21:01:06.104Z"
      },
      {
        "duration": 38,
        "start_time": "2025-06-12T21:01:06.848Z"
      },
      {
        "duration": 51,
        "start_time": "2025-06-12T21:01:06.893Z"
      },
      {
        "duration": 17,
        "start_time": "2025-06-12T21:01:06.946Z"
      },
      {
        "duration": 20,
        "start_time": "2025-06-12T21:01:06.965Z"
      },
      {
        "duration": 16,
        "start_time": "2025-06-12T21:01:06.991Z"
      },
      {
        "duration": 32,
        "start_time": "2025-06-12T21:01:07.009Z"
      },
      {
        "duration": 4,
        "start_time": "2025-06-12T21:01:07.043Z"
      },
      {
        "duration": 11,
        "start_time": "2025-06-12T21:01:07.049Z"
      },
      {
        "duration": 9,
        "start_time": "2025-06-12T21:01:07.062Z"
      },
      {
        "duration": 36,
        "start_time": "2025-06-12T21:01:07.073Z"
      },
      {
        "duration": 122,
        "start_time": "2025-06-12T21:01:07.111Z"
      },
      {
        "duration": 40,
        "start_time": "2025-06-12T21:01:07.234Z"
      },
      {
        "duration": 144,
        "start_time": "2025-06-12T21:01:07.276Z"
      },
      {
        "duration": 39,
        "start_time": "2025-06-12T21:01:07.421Z"
      },
      {
        "duration": 99,
        "start_time": "2025-06-12T21:01:07.461Z"
      },
      {
        "duration": 10,
        "start_time": "2025-06-12T21:01:07.562Z"
      },
      {
        "duration": 39,
        "start_time": "2025-06-12T21:01:07.574Z"
      },
      {
        "duration": 41,
        "start_time": "2025-06-12T21:01:07.617Z"
      },
      {
        "duration": 59,
        "start_time": "2025-06-12T21:01:07.659Z"
      },
      {
        "duration": 19,
        "start_time": "2025-06-12T21:01:07.719Z"
      },
      {
        "duration": 51,
        "start_time": "2025-06-12T21:01:07.740Z"
      },
      {
        "duration": 24,
        "start_time": "2025-06-12T21:01:07.800Z"
      },
      {
        "duration": 94,
        "start_time": "2025-06-12T21:01:07.826Z"
      },
      {
        "duration": 18,
        "start_time": "2025-06-12T21:01:07.922Z"
      },
      {
        "duration": 249,
        "start_time": "2025-06-12T21:01:07.941Z"
      },
      {
        "duration": 10,
        "start_time": "2025-06-12T21:01:08.200Z"
      },
      {
        "duration": 42,
        "start_time": "2025-06-12T21:01:08.212Z"
      },
      {
        "duration": 3,
        "start_time": "2025-06-12T21:01:08.256Z"
      },
      {
        "duration": 23,
        "start_time": "2025-06-12T21:01:08.260Z"
      },
      {
        "duration": 43,
        "start_time": "2025-06-12T21:01:08.285Z"
      },
      {
        "duration": 23,
        "start_time": "2025-06-12T21:01:08.330Z"
      },
      {
        "duration": 34,
        "start_time": "2025-06-12T21:01:08.354Z"
      },
      {
        "duration": 27,
        "start_time": "2025-06-12T21:01:08.390Z"
      },
      {
        "duration": 3,
        "start_time": "2025-06-12T21:01:08.419Z"
      },
      {
        "duration": 39,
        "start_time": "2025-06-12T21:01:08.424Z"
      },
      {
        "duration": 3,
        "start_time": "2025-06-12T21:01:08.465Z"
      },
      {
        "duration": 26,
        "start_time": "2025-06-12T21:01:08.470Z"
      },
      {
        "duration": 33,
        "start_time": "2025-06-12T21:01:08.498Z"
      },
      {
        "duration": 2,
        "start_time": "2025-06-12T21:01:08.533Z"
      },
      {
        "duration": 24,
        "start_time": "2025-06-12T21:01:08.537Z"
      },
      {
        "duration": 19,
        "start_time": "2025-06-12T21:01:08.562Z"
      },
      {
        "duration": 15,
        "start_time": "2025-06-12T21:01:08.588Z"
      },
      {
        "duration": 19,
        "start_time": "2025-06-12T21:01:08.605Z"
      },
      {
        "duration": 11,
        "start_time": "2025-06-12T21:01:08.626Z"
      },
      {
        "duration": 21,
        "start_time": "2025-06-12T21:01:08.638Z"
      },
      {
        "duration": 7,
        "start_time": "2025-06-12T21:01:08.661Z"
      },
      {
        "duration": 29,
        "start_time": "2025-06-12T21:01:08.669Z"
      },
      {
        "duration": 26,
        "start_time": "2025-06-12T21:01:08.700Z"
      },
      {
        "duration": 14,
        "start_time": "2025-06-12T21:01:08.728Z"
      },
      {
        "duration": 27,
        "start_time": "2025-06-12T21:01:08.744Z"
      },
      {
        "duration": 33,
        "start_time": "2025-06-12T21:01:08.772Z"
      },
      {
        "duration": 28,
        "start_time": "2025-06-12T21:01:08.807Z"
      },
      {
        "duration": 5933,
        "start_time": "2025-06-12T21:01:08.837Z"
      },
      {
        "duration": 15,
        "start_time": "2025-06-12T21:01:14.776Z"
      },
      {
        "duration": 14,
        "start_time": "2025-06-12T21:01:14.793Z"
      },
      {
        "duration": 47,
        "start_time": "2025-06-12T21:01:14.809Z"
      },
      {
        "duration": 41,
        "start_time": "2025-06-12T21:01:14.858Z"
      },
      {
        "duration": 48,
        "start_time": "2025-06-12T21:01:14.901Z"
      },
      {
        "duration": 4,
        "start_time": "2025-06-12T21:01:14.951Z"
      },
      {
        "duration": 18,
        "start_time": "2025-06-12T21:01:14.956Z"
      },
      {
        "duration": 25,
        "start_time": "2025-06-12T21:01:14.976Z"
      },
      {
        "duration": 47,
        "start_time": "2025-06-12T21:01:15.003Z"
      },
      {
        "duration": 48128,
        "start_time": "2025-06-12T21:01:15.052Z"
      },
      {
        "duration": 128897,
        "start_time": "2025-06-12T21:02:03.181Z"
      },
      {
        "duration": 7270,
        "start_time": "2025-06-12T22:46:27.753Z"
      },
      {
        "duration": 3,
        "start_time": "2025-06-12T22:46:35.025Z"
      },
      {
        "duration": 1213,
        "start_time": "2025-06-12T22:46:35.030Z"
      },
      {
        "duration": 3,
        "start_time": "2025-06-12T22:46:36.245Z"
      },
      {
        "duration": 997,
        "start_time": "2025-06-12T22:46:36.250Z"
      },
      {
        "duration": 53,
        "start_time": "2025-06-12T22:46:37.249Z"
      },
      {
        "duration": 6,
        "start_time": "2025-06-12T22:46:37.305Z"
      },
      {
        "duration": 8,
        "start_time": "2025-06-12T22:46:37.312Z"
      },
      {
        "duration": 378,
        "start_time": "2025-06-12T22:46:37.321Z"
      },
      {
        "duration": 671,
        "start_time": "2025-06-12T22:46:37.702Z"
      },
      {
        "duration": 36,
        "start_time": "2025-06-12T22:46:38.375Z"
      },
      {
        "duration": 136,
        "start_time": "2025-06-12T22:46:38.413Z"
      },
      {
        "duration": 52,
        "start_time": "2025-06-12T22:46:38.551Z"
      },
      {
        "duration": 5,
        "start_time": "2025-06-12T22:46:38.607Z"
      },
      {
        "duration": 11,
        "start_time": "2025-06-12T22:46:38.613Z"
      },
      {
        "duration": 42,
        "start_time": "2025-06-12T22:46:38.625Z"
      },
      {
        "duration": 20,
        "start_time": "2025-06-12T22:46:38.669Z"
      },
      {
        "duration": 6,
        "start_time": "2025-06-12T22:46:38.701Z"
      },
      {
        "duration": 15,
        "start_time": "2025-06-12T22:46:38.709Z"
      },
      {
        "duration": 32,
        "start_time": "2025-06-12T22:46:38.726Z"
      },
      {
        "duration": 58,
        "start_time": "2025-06-12T22:46:38.760Z"
      },
      {
        "duration": 21,
        "start_time": "2025-06-12T22:46:38.819Z"
      },
      {
        "duration": 21,
        "start_time": "2025-06-12T22:46:38.841Z"
      },
      {
        "duration": 40,
        "start_time": "2025-06-12T22:46:38.864Z"
      },
      {
        "duration": 7,
        "start_time": "2025-06-12T22:46:38.906Z"
      },
      {
        "duration": 17,
        "start_time": "2025-06-12T22:46:38.915Z"
      },
      {
        "duration": 21,
        "start_time": "2025-06-12T22:46:38.933Z"
      },
      {
        "duration": 48,
        "start_time": "2025-06-12T22:46:38.956Z"
      },
      {
        "duration": 36,
        "start_time": "2025-06-12T22:46:39.006Z"
      },
      {
        "duration": 47,
        "start_time": "2025-06-12T22:46:39.043Z"
      },
      {
        "duration": 25,
        "start_time": "2025-06-12T22:46:39.095Z"
      },
      {
        "duration": 19,
        "start_time": "2025-06-12T22:46:39.122Z"
      },
      {
        "duration": 67,
        "start_time": "2025-06-12T22:46:39.143Z"
      },
      {
        "duration": 19,
        "start_time": "2025-06-12T22:46:39.212Z"
      },
      {
        "duration": 185,
        "start_time": "2025-06-12T22:46:39.233Z"
      },
      {
        "duration": 10,
        "start_time": "2025-06-12T22:46:39.419Z"
      },
      {
        "duration": 52,
        "start_time": "2025-06-12T22:46:39.431Z"
      },
      {
        "duration": 19,
        "start_time": "2025-06-12T22:46:39.484Z"
      },
      {
        "duration": 5,
        "start_time": "2025-06-12T22:46:39.507Z"
      },
      {
        "duration": 10,
        "start_time": "2025-06-12T22:46:39.514Z"
      },
      {
        "duration": 36,
        "start_time": "2025-06-12T22:46:39.528Z"
      },
      {
        "duration": 36,
        "start_time": "2025-06-12T22:46:39.566Z"
      },
      {
        "duration": 21,
        "start_time": "2025-06-12T22:46:39.605Z"
      },
      {
        "duration": 2,
        "start_time": "2025-06-12T22:46:39.628Z"
      },
      {
        "duration": 28,
        "start_time": "2025-06-12T22:46:39.632Z"
      },
      {
        "duration": 2,
        "start_time": "2025-06-12T22:46:39.662Z"
      },
      {
        "duration": 86,
        "start_time": "2025-06-12T22:46:39.665Z"
      },
      {
        "duration": 108,
        "start_time": "2025-06-12T22:46:39.753Z"
      },
      {
        "duration": 2,
        "start_time": "2025-06-12T22:46:39.863Z"
      },
      {
        "duration": 37,
        "start_time": "2025-06-12T22:46:39.866Z"
      },
      {
        "duration": 5,
        "start_time": "2025-06-12T22:46:39.905Z"
      },
      {
        "duration": 6,
        "start_time": "2025-06-12T22:46:39.912Z"
      },
      {
        "duration": 18,
        "start_time": "2025-06-12T22:46:39.919Z"
      },
      {
        "duration": 4,
        "start_time": "2025-06-12T22:46:39.938Z"
      },
      {
        "duration": 20,
        "start_time": "2025-06-12T22:46:39.943Z"
      },
      {
        "duration": 32,
        "start_time": "2025-06-12T22:46:39.964Z"
      },
      {
        "duration": 8,
        "start_time": "2025-06-12T22:46:40.001Z"
      },
      {
        "duration": 8,
        "start_time": "2025-06-12T22:46:40.010Z"
      },
      {
        "duration": 30,
        "start_time": "2025-06-12T22:46:40.020Z"
      },
      {
        "duration": 9,
        "start_time": "2025-06-12T22:46:40.052Z"
      },
      {
        "duration": 10,
        "start_time": "2025-06-12T22:46:40.063Z"
      },
      {
        "duration": 30,
        "start_time": "2025-06-12T22:46:40.075Z"
      },
      {
        "duration": 6151,
        "start_time": "2025-06-12T22:46:40.107Z"
      },
      {
        "duration": 31,
        "start_time": "2025-06-12T22:46:46.259Z"
      },
      {
        "duration": 17,
        "start_time": "2025-06-12T22:46:46.292Z"
      },
      {
        "duration": 101,
        "start_time": "2025-06-12T22:46:46.310Z"
      },
      {
        "duration": 18,
        "start_time": "2025-06-12T22:46:46.412Z"
      },
      {
        "duration": 124,
        "start_time": "2025-06-12T22:46:46.432Z"
      },
      {
        "duration": 3,
        "start_time": "2025-06-12T22:46:46.558Z"
      },
      {
        "duration": 6,
        "start_time": "2025-06-12T22:46:46.563Z"
      },
      {
        "duration": 12,
        "start_time": "2025-06-12T22:46:46.572Z"
      },
      {
        "duration": 9,
        "start_time": "2025-06-12T22:46:46.591Z"
      },
      {
        "duration": 41784,
        "start_time": "2025-06-12T22:46:46.603Z"
      },
      {
        "duration": 122030,
        "start_time": "2025-06-12T22:47:28.388Z"
      },
      {
        "duration": 2542590,
        "start_time": "2025-06-12T22:49:30.420Z"
      },
      {
        "duration": 20,
        "start_time": "2025-06-12T23:31:53.085Z"
      },
      {
        "duration": 601,
        "start_time": "2025-06-12T23:31:53.107Z"
      },
      {
        "duration": 436,
        "start_time": "2025-06-12T23:47:19.878Z"
      },
      {
        "duration": 427,
        "start_time": "2025-06-12T23:48:38.997Z"
      },
      {
        "duration": 115,
        "start_time": "2025-06-12T23:48:45.728Z"
      },
      {
        "duration": 15,
        "start_time": "2025-06-12T23:49:02.023Z"
      },
      {
        "duration": 10,
        "start_time": "2025-06-12T23:50:11.421Z"
      },
      {
        "duration": 10,
        "start_time": "2025-06-12T23:51:17.370Z"
      },
      {
        "duration": 4,
        "start_time": "2025-06-12T23:51:54.469Z"
      },
      {
        "duration": 434,
        "start_time": "2025-06-12T23:53:14.951Z"
      }
    ],
    "kernelspec": {
      "display_name": "Python 3 (ipykernel)",
      "language": "python",
      "name": "python3"
    },
    "language_info": {
      "codemirror_mode": {
        "name": "ipython",
        "version": 3
      },
      "file_extension": ".py",
      "mimetype": "text/x-python",
      "name": "python",
      "nbconvert_exporter": "python",
      "pygments_lexer": "ipython3",
      "version": "3.9.5"
    },
    "toc": {
      "base_numbering": 1,
      "nav_menu": {},
      "number_sections": false,
      "sideBar": true,
      "skip_h1_title": false,
      "title_cell": "Table of Contents",
      "title_sidebar": "Contents",
      "toc_cell": false,
      "toc_position": {
        "height": "calc(100% - 180px)",
        "left": "10px",
        "top": "150px",
        "width": "165px"
      },
      "toc_section_display": true,
      "toc_window_display": true
    },
    "colab": {
      "provenance": []
    }
  },
  "nbformat": 4,
  "nbformat_minor": 0
}
